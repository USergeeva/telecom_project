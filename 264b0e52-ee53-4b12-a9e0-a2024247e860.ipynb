{
 "cells": [
  {
   "cell_type": "markdown",
   "metadata": {},
   "source": [
    "## Описание тарифов"
   ]
  },
  {
   "cell_type": "markdown",
   "metadata": {},
   "source": [
    "\n",
    "Тариф «Смарт» : ежемесячная плата: 550 рублей, включено 500 минут разговора, 50 сообщений и 15 Гб интернет-трафика. Стоимость услуг сверх тарифного пакета: минута разговора: 3 рубля, сообщение: 3 рубля, 1 Гб интернет-трафика: 200 рублей\n",
    "Тариф «Ультра»: ежемесячная плата: 1950 рублей, включено 3000 минут разговора, 1000 сообщений и 30 Гб интернет-трафика. Стоимость услуг сверх тарифного пакета: минута разговора: 1 рубль, сообщение: 1 рубль, 1 Гб интернет-трафика: 150 рублей.\n",
    "Примечание: \n",
    "«Мегалайн» всегда округляет секунды до минут, а мегабайты — до гигабайт. Каждый звонок округляется отдельно: даже если он длился всего 1 секунду, будет засчитан как 1 минута."
   ]
  },
  {
   "cell_type": "markdown",
   "metadata": {},
   "source": [
    "# 1.Изучение данных из файлов"
   ]
  },
  {
   "cell_type": "code",
   "execution_count": 1,
   "metadata": {},
   "outputs": [],
   "source": [
    "#Импортируем нужные нам библиотеки\n",
    "import pandas as pd\n",
    "import numpy as np\n",
    "from scipy import stats as st\n",
    "import matplotlib.pyplot as plt"
   ]
  },
  {
   "cell_type": "markdown",
   "metadata": {},
   "source": [
    "Читаем файлы:"
   ]
  },
  {
   "cell_type": "code",
   "execution_count": 2,
   "metadata": {},
   "outputs": [],
   "source": [
    "calls_df = pd.read_csv('/datasets/calls.csv')"
   ]
  },
  {
   "cell_type": "code",
   "execution_count": 3,
   "metadata": {},
   "outputs": [],
   "source": [
    "internet_df = pd.read_csv('/datasets/internet.csv')"
   ]
  },
  {
   "cell_type": "code",
   "execution_count": 4,
   "metadata": {},
   "outputs": [],
   "source": [
    "messages_df = pd.read_csv('/datasets/messages.csv')"
   ]
  },
  {
   "cell_type": "code",
   "execution_count": 5,
   "metadata": {},
   "outputs": [],
   "source": [
    "tariffs_df = pd.read_csv('/datasets/tariffs.csv')"
   ]
  },
  {
   "cell_type": "code",
   "execution_count": 6,
   "metadata": {},
   "outputs": [],
   "source": [
    "users_df = pd.read_csv('//datasets/users.csv')"
   ]
  },
  {
   "cell_type": "code",
   "execution_count": 7,
   "metadata": {},
   "outputs": [],
   "source": [
    "users_df = users_df.query('user_id !=1371 & user_id !=1128')"
   ]
  },
  {
   "cell_type": "markdown",
   "metadata": {},
   "source": [
    "Далее я буду просматривать датафреймы и узнавать общую информацию о них методом info():"
   ]
  },
  {
   "cell_type": "code",
   "execution_count": 8,
   "metadata": {},
   "outputs": [
    {
     "data": {
      "text/html": [
       "<div>\n",
       "<style scoped>\n",
       "    .dataframe tbody tr th:only-of-type {\n",
       "        vertical-align: middle;\n",
       "    }\n",
       "\n",
       "    .dataframe tbody tr th {\n",
       "        vertical-align: top;\n",
       "    }\n",
       "\n",
       "    .dataframe thead th {\n",
       "        text-align: right;\n",
       "    }\n",
       "</style>\n",
       "<table border=\"1\" class=\"dataframe\">\n",
       "  <thead>\n",
       "    <tr style=\"text-align: right;\">\n",
       "      <th></th>\n",
       "      <th>id</th>\n",
       "      <th>call_date</th>\n",
       "      <th>duration</th>\n",
       "      <th>user_id</th>\n",
       "    </tr>\n",
       "  </thead>\n",
       "  <tbody>\n",
       "    <tr>\n",
       "      <th>0</th>\n",
       "      <td>1000_0</td>\n",
       "      <td>2018-07-25</td>\n",
       "      <td>0.00</td>\n",
       "      <td>1000</td>\n",
       "    </tr>\n",
       "    <tr>\n",
       "      <th>1</th>\n",
       "      <td>1000_1</td>\n",
       "      <td>2018-08-17</td>\n",
       "      <td>0.00</td>\n",
       "      <td>1000</td>\n",
       "    </tr>\n",
       "    <tr>\n",
       "      <th>2</th>\n",
       "      <td>1000_2</td>\n",
       "      <td>2018-06-11</td>\n",
       "      <td>2.85</td>\n",
       "      <td>1000</td>\n",
       "    </tr>\n",
       "    <tr>\n",
       "      <th>3</th>\n",
       "      <td>1000_3</td>\n",
       "      <td>2018-09-21</td>\n",
       "      <td>13.80</td>\n",
       "      <td>1000</td>\n",
       "    </tr>\n",
       "    <tr>\n",
       "      <th>4</th>\n",
       "      <td>1000_4</td>\n",
       "      <td>2018-12-15</td>\n",
       "      <td>5.18</td>\n",
       "      <td>1000</td>\n",
       "    </tr>\n",
       "    <tr>\n",
       "      <th>5</th>\n",
       "      <td>1000_5</td>\n",
       "      <td>2018-11-02</td>\n",
       "      <td>0.00</td>\n",
       "      <td>1000</td>\n",
       "    </tr>\n",
       "    <tr>\n",
       "      <th>6</th>\n",
       "      <td>1000_6</td>\n",
       "      <td>2018-10-18</td>\n",
       "      <td>0.00</td>\n",
       "      <td>1000</td>\n",
       "    </tr>\n",
       "    <tr>\n",
       "      <th>7</th>\n",
       "      <td>1000_7</td>\n",
       "      <td>2018-08-22</td>\n",
       "      <td>18.31</td>\n",
       "      <td>1000</td>\n",
       "    </tr>\n",
       "    <tr>\n",
       "      <th>8</th>\n",
       "      <td>1000_8</td>\n",
       "      <td>2018-09-15</td>\n",
       "      <td>18.44</td>\n",
       "      <td>1000</td>\n",
       "    </tr>\n",
       "    <tr>\n",
       "      <th>9</th>\n",
       "      <td>1000_9</td>\n",
       "      <td>2018-08-15</td>\n",
       "      <td>0.00</td>\n",
       "      <td>1000</td>\n",
       "    </tr>\n",
       "  </tbody>\n",
       "</table>\n",
       "</div>"
      ],
      "text/plain": [
       "       id   call_date  duration  user_id\n",
       "0  1000_0  2018-07-25      0.00     1000\n",
       "1  1000_1  2018-08-17      0.00     1000\n",
       "2  1000_2  2018-06-11      2.85     1000\n",
       "3  1000_3  2018-09-21     13.80     1000\n",
       "4  1000_4  2018-12-15      5.18     1000\n",
       "5  1000_5  2018-11-02      0.00     1000\n",
       "6  1000_6  2018-10-18      0.00     1000\n",
       "7  1000_7  2018-08-22     18.31     1000\n",
       "8  1000_8  2018-09-15     18.44     1000\n",
       "9  1000_9  2018-08-15      0.00     1000"
      ]
     },
     "metadata": {},
     "output_type": "display_data"
    }
   ],
   "source": [
    "display(calls_df.head(10))"
   ]
  },
  {
   "cell_type": "code",
   "execution_count": 9,
   "metadata": {},
   "outputs": [
    {
     "name": "stdout",
     "output_type": "stream",
     "text": [
      "<class 'pandas.core.frame.DataFrame'>\n",
      "RangeIndex: 202607 entries, 0 to 202606\n",
      "Data columns (total 4 columns):\n",
      " #   Column     Non-Null Count   Dtype  \n",
      "---  ------     --------------   -----  \n",
      " 0   id         202607 non-null  object \n",
      " 1   call_date  202607 non-null  object \n",
      " 2   duration   202607 non-null  float64\n",
      " 3   user_id    202607 non-null  int64  \n",
      "dtypes: float64(1), int64(1), object(2)\n",
      "memory usage: 6.2+ MB\n"
     ]
    }
   ],
   "source": [
    "calls_df.info()"
   ]
  },
  {
   "cell_type": "markdown",
   "metadata": {},
   "source": [
    "call_date имеет неподходящий тип данных"
   ]
  },
  {
   "cell_type": "code",
   "execution_count": 10,
   "metadata": {},
   "outputs": [
    {
     "data": {
      "text/html": [
       "<div>\n",
       "<style scoped>\n",
       "    .dataframe tbody tr th:only-of-type {\n",
       "        vertical-align: middle;\n",
       "    }\n",
       "\n",
       "    .dataframe tbody tr th {\n",
       "        vertical-align: top;\n",
       "    }\n",
       "\n",
       "    .dataframe thead th {\n",
       "        text-align: right;\n",
       "    }\n",
       "</style>\n",
       "<table border=\"1\" class=\"dataframe\">\n",
       "  <thead>\n",
       "    <tr style=\"text-align: right;\">\n",
       "      <th></th>\n",
       "      <th>Unnamed: 0</th>\n",
       "      <th>id</th>\n",
       "      <th>mb_used</th>\n",
       "      <th>session_date</th>\n",
       "      <th>user_id</th>\n",
       "    </tr>\n",
       "  </thead>\n",
       "  <tbody>\n",
       "    <tr>\n",
       "      <th>0</th>\n",
       "      <td>0</td>\n",
       "      <td>1000_0</td>\n",
       "      <td>112.95</td>\n",
       "      <td>2018-11-25</td>\n",
       "      <td>1000</td>\n",
       "    </tr>\n",
       "    <tr>\n",
       "      <th>1</th>\n",
       "      <td>1</td>\n",
       "      <td>1000_1</td>\n",
       "      <td>1052.81</td>\n",
       "      <td>2018-09-07</td>\n",
       "      <td>1000</td>\n",
       "    </tr>\n",
       "    <tr>\n",
       "      <th>2</th>\n",
       "      <td>2</td>\n",
       "      <td>1000_2</td>\n",
       "      <td>1197.26</td>\n",
       "      <td>2018-06-25</td>\n",
       "      <td>1000</td>\n",
       "    </tr>\n",
       "    <tr>\n",
       "      <th>3</th>\n",
       "      <td>3</td>\n",
       "      <td>1000_3</td>\n",
       "      <td>550.27</td>\n",
       "      <td>2018-08-22</td>\n",
       "      <td>1000</td>\n",
       "    </tr>\n",
       "    <tr>\n",
       "      <th>4</th>\n",
       "      <td>4</td>\n",
       "      <td>1000_4</td>\n",
       "      <td>302.56</td>\n",
       "      <td>2018-09-24</td>\n",
       "      <td>1000</td>\n",
       "    </tr>\n",
       "    <tr>\n",
       "      <th>5</th>\n",
       "      <td>5</td>\n",
       "      <td>1000_5</td>\n",
       "      <td>399.97</td>\n",
       "      <td>2018-10-02</td>\n",
       "      <td>1000</td>\n",
       "    </tr>\n",
       "    <tr>\n",
       "      <th>6</th>\n",
       "      <td>6</td>\n",
       "      <td>1000_6</td>\n",
       "      <td>540.08</td>\n",
       "      <td>2018-09-07</td>\n",
       "      <td>1000</td>\n",
       "    </tr>\n",
       "    <tr>\n",
       "      <th>7</th>\n",
       "      <td>7</td>\n",
       "      <td>1000_7</td>\n",
       "      <td>415.70</td>\n",
       "      <td>2018-07-11</td>\n",
       "      <td>1000</td>\n",
       "    </tr>\n",
       "    <tr>\n",
       "      <th>8</th>\n",
       "      <td>8</td>\n",
       "      <td>1000_8</td>\n",
       "      <td>505.40</td>\n",
       "      <td>2018-10-08</td>\n",
       "      <td>1000</td>\n",
       "    </tr>\n",
       "    <tr>\n",
       "      <th>9</th>\n",
       "      <td>9</td>\n",
       "      <td>1000_9</td>\n",
       "      <td>345.54</td>\n",
       "      <td>2018-09-03</td>\n",
       "      <td>1000</td>\n",
       "    </tr>\n",
       "  </tbody>\n",
       "</table>\n",
       "</div>"
      ],
      "text/plain": [
       "   Unnamed: 0      id  mb_used session_date  user_id\n",
       "0           0  1000_0   112.95   2018-11-25     1000\n",
       "1           1  1000_1  1052.81   2018-09-07     1000\n",
       "2           2  1000_2  1197.26   2018-06-25     1000\n",
       "3           3  1000_3   550.27   2018-08-22     1000\n",
       "4           4  1000_4   302.56   2018-09-24     1000\n",
       "5           5  1000_5   399.97   2018-10-02     1000\n",
       "6           6  1000_6   540.08   2018-09-07     1000\n",
       "7           7  1000_7   415.70   2018-07-11     1000\n",
       "8           8  1000_8   505.40   2018-10-08     1000\n",
       "9           9  1000_9   345.54   2018-09-03     1000"
      ]
     },
     "metadata": {},
     "output_type": "display_data"
    }
   ],
   "source": [
    "display(internet_df.head(10))"
   ]
  },
  {
   "cell_type": "code",
   "execution_count": 11,
   "metadata": {},
   "outputs": [
    {
     "name": "stdout",
     "output_type": "stream",
     "text": [
      "<class 'pandas.core.frame.DataFrame'>\n",
      "RangeIndex: 149396 entries, 0 to 149395\n",
      "Data columns (total 5 columns):\n",
      " #   Column        Non-Null Count   Dtype  \n",
      "---  ------        --------------   -----  \n",
      " 0   Unnamed: 0    149396 non-null  int64  \n",
      " 1   id            149396 non-null  object \n",
      " 2   mb_used       149396 non-null  float64\n",
      " 3   session_date  149396 non-null  object \n",
      " 4   user_id       149396 non-null  int64  \n",
      "dtypes: float64(1), int64(2), object(2)\n",
      "memory usage: 5.7+ MB\n"
     ]
    }
   ],
   "source": [
    "internet_df.info()"
   ]
  },
  {
   "cell_type": "markdown",
   "metadata": {},
   "source": [
    "session_date имеет неподходящий тип данных"
   ]
  },
  {
   "cell_type": "code",
   "execution_count": 12,
   "metadata": {},
   "outputs": [
    {
     "data": {
      "text/html": [
       "<div>\n",
       "<style scoped>\n",
       "    .dataframe tbody tr th:only-of-type {\n",
       "        vertical-align: middle;\n",
       "    }\n",
       "\n",
       "    .dataframe tbody tr th {\n",
       "        vertical-align: top;\n",
       "    }\n",
       "\n",
       "    .dataframe thead th {\n",
       "        text-align: right;\n",
       "    }\n",
       "</style>\n",
       "<table border=\"1\" class=\"dataframe\">\n",
       "  <thead>\n",
       "    <tr style=\"text-align: right;\">\n",
       "      <th></th>\n",
       "      <th>id</th>\n",
       "      <th>message_date</th>\n",
       "      <th>user_id</th>\n",
       "    </tr>\n",
       "  </thead>\n",
       "  <tbody>\n",
       "    <tr>\n",
       "      <th>0</th>\n",
       "      <td>1000_0</td>\n",
       "      <td>2018-06-27</td>\n",
       "      <td>1000</td>\n",
       "    </tr>\n",
       "    <tr>\n",
       "      <th>1</th>\n",
       "      <td>1000_1</td>\n",
       "      <td>2018-10-08</td>\n",
       "      <td>1000</td>\n",
       "    </tr>\n",
       "    <tr>\n",
       "      <th>2</th>\n",
       "      <td>1000_2</td>\n",
       "      <td>2018-08-04</td>\n",
       "      <td>1000</td>\n",
       "    </tr>\n",
       "    <tr>\n",
       "      <th>3</th>\n",
       "      <td>1000_3</td>\n",
       "      <td>2018-06-16</td>\n",
       "      <td>1000</td>\n",
       "    </tr>\n",
       "    <tr>\n",
       "      <th>4</th>\n",
       "      <td>1000_4</td>\n",
       "      <td>2018-12-05</td>\n",
       "      <td>1000</td>\n",
       "    </tr>\n",
       "    <tr>\n",
       "      <th>5</th>\n",
       "      <td>1000_5</td>\n",
       "      <td>2018-06-20</td>\n",
       "      <td>1000</td>\n",
       "    </tr>\n",
       "    <tr>\n",
       "      <th>6</th>\n",
       "      <td>1000_6</td>\n",
       "      <td>2018-11-19</td>\n",
       "      <td>1000</td>\n",
       "    </tr>\n",
       "    <tr>\n",
       "      <th>7</th>\n",
       "      <td>1000_7</td>\n",
       "      <td>2018-10-29</td>\n",
       "      <td>1000</td>\n",
       "    </tr>\n",
       "    <tr>\n",
       "      <th>8</th>\n",
       "      <td>1000_8</td>\n",
       "      <td>2018-06-25</td>\n",
       "      <td>1000</td>\n",
       "    </tr>\n",
       "    <tr>\n",
       "      <th>9</th>\n",
       "      <td>1000_9</td>\n",
       "      <td>2018-12-18</td>\n",
       "      <td>1000</td>\n",
       "    </tr>\n",
       "    <tr>\n",
       "      <th>10</th>\n",
       "      <td>1000_10</td>\n",
       "      <td>2018-05-30</td>\n",
       "      <td>1000</td>\n",
       "    </tr>\n",
       "    <tr>\n",
       "      <th>11</th>\n",
       "      <td>1000_11</td>\n",
       "      <td>2018-07-06</td>\n",
       "      <td>1000</td>\n",
       "    </tr>\n",
       "    <tr>\n",
       "      <th>12</th>\n",
       "      <td>1000_12</td>\n",
       "      <td>2018-08-20</td>\n",
       "      <td>1000</td>\n",
       "    </tr>\n",
       "    <tr>\n",
       "      <th>13</th>\n",
       "      <td>1000_13</td>\n",
       "      <td>2018-10-30</td>\n",
       "      <td>1000</td>\n",
       "    </tr>\n",
       "    <tr>\n",
       "      <th>14</th>\n",
       "      <td>1000_14</td>\n",
       "      <td>2018-09-14</td>\n",
       "      <td>1000</td>\n",
       "    </tr>\n",
       "    <tr>\n",
       "      <th>15</th>\n",
       "      <td>1000_15</td>\n",
       "      <td>2018-08-28</td>\n",
       "      <td>1000</td>\n",
       "    </tr>\n",
       "    <tr>\n",
       "      <th>16</th>\n",
       "      <td>1000_16</td>\n",
       "      <td>2018-06-25</td>\n",
       "      <td>1000</td>\n",
       "    </tr>\n",
       "    <tr>\n",
       "      <th>17</th>\n",
       "      <td>1000_17</td>\n",
       "      <td>2018-06-29</td>\n",
       "      <td>1000</td>\n",
       "    </tr>\n",
       "    <tr>\n",
       "      <th>18</th>\n",
       "      <td>1000_18</td>\n",
       "      <td>2018-07-07</td>\n",
       "      <td>1000</td>\n",
       "    </tr>\n",
       "    <tr>\n",
       "      <th>19</th>\n",
       "      <td>1000_19</td>\n",
       "      <td>2018-05-29</td>\n",
       "      <td>1000</td>\n",
       "    </tr>\n",
       "  </tbody>\n",
       "</table>\n",
       "</div>"
      ],
      "text/plain": [
       "         id message_date  user_id\n",
       "0    1000_0   2018-06-27     1000\n",
       "1    1000_1   2018-10-08     1000\n",
       "2    1000_2   2018-08-04     1000\n",
       "3    1000_3   2018-06-16     1000\n",
       "4    1000_4   2018-12-05     1000\n",
       "5    1000_5   2018-06-20     1000\n",
       "6    1000_6   2018-11-19     1000\n",
       "7    1000_7   2018-10-29     1000\n",
       "8    1000_8   2018-06-25     1000\n",
       "9    1000_9   2018-12-18     1000\n",
       "10  1000_10   2018-05-30     1000\n",
       "11  1000_11   2018-07-06     1000\n",
       "12  1000_12   2018-08-20     1000\n",
       "13  1000_13   2018-10-30     1000\n",
       "14  1000_14   2018-09-14     1000\n",
       "15  1000_15   2018-08-28     1000\n",
       "16  1000_16   2018-06-25     1000\n",
       "17  1000_17   2018-06-29     1000\n",
       "18  1000_18   2018-07-07     1000\n",
       "19  1000_19   2018-05-29     1000"
      ]
     },
     "metadata": {},
     "output_type": "display_data"
    }
   ],
   "source": [
    "display(messages_df.head(20))"
   ]
  },
  {
   "cell_type": "code",
   "execution_count": 13,
   "metadata": {},
   "outputs": [
    {
     "name": "stdout",
     "output_type": "stream",
     "text": [
      "<class 'pandas.core.frame.DataFrame'>\n",
      "RangeIndex: 123036 entries, 0 to 123035\n",
      "Data columns (total 3 columns):\n",
      " #   Column        Non-Null Count   Dtype \n",
      "---  ------        --------------   ----- \n",
      " 0   id            123036 non-null  object\n",
      " 1   message_date  123036 non-null  object\n",
      " 2   user_id       123036 non-null  int64 \n",
      "dtypes: int64(1), object(2)\n",
      "memory usage: 2.8+ MB\n"
     ]
    }
   ],
   "source": [
    "messages_df.info()"
   ]
  },
  {
   "cell_type": "markdown",
   "metadata": {},
   "source": [
    "message_date имеет неподходящий тип данных"
   ]
  },
  {
   "cell_type": "code",
   "execution_count": 14,
   "metadata": {},
   "outputs": [
    {
     "data": {
      "text/html": [
       "<div>\n",
       "<style scoped>\n",
       "    .dataframe tbody tr th:only-of-type {\n",
       "        vertical-align: middle;\n",
       "    }\n",
       "\n",
       "    .dataframe tbody tr th {\n",
       "        vertical-align: top;\n",
       "    }\n",
       "\n",
       "    .dataframe thead th {\n",
       "        text-align: right;\n",
       "    }\n",
       "</style>\n",
       "<table border=\"1\" class=\"dataframe\">\n",
       "  <thead>\n",
       "    <tr style=\"text-align: right;\">\n",
       "      <th></th>\n",
       "      <th>messages_included</th>\n",
       "      <th>mb_per_month_included</th>\n",
       "      <th>minutes_included</th>\n",
       "      <th>rub_monthly_fee</th>\n",
       "      <th>rub_per_gb</th>\n",
       "      <th>rub_per_message</th>\n",
       "      <th>rub_per_minute</th>\n",
       "      <th>tariff_name</th>\n",
       "    </tr>\n",
       "  </thead>\n",
       "  <tbody>\n",
       "    <tr>\n",
       "      <th>0</th>\n",
       "      <td>50</td>\n",
       "      <td>15360</td>\n",
       "      <td>500</td>\n",
       "      <td>550</td>\n",
       "      <td>200</td>\n",
       "      <td>3</td>\n",
       "      <td>3</td>\n",
       "      <td>smart</td>\n",
       "    </tr>\n",
       "    <tr>\n",
       "      <th>1</th>\n",
       "      <td>1000</td>\n",
       "      <td>30720</td>\n",
       "      <td>3000</td>\n",
       "      <td>1950</td>\n",
       "      <td>150</td>\n",
       "      <td>1</td>\n",
       "      <td>1</td>\n",
       "      <td>ultra</td>\n",
       "    </tr>\n",
       "  </tbody>\n",
       "</table>\n",
       "</div>"
      ],
      "text/plain": [
       "   messages_included  mb_per_month_included  minutes_included  \\\n",
       "0                 50                  15360               500   \n",
       "1               1000                  30720              3000   \n",
       "\n",
       "   rub_monthly_fee  rub_per_gb  rub_per_message  rub_per_minute tariff_name  \n",
       "0              550         200                3               3       smart  \n",
       "1             1950         150                1               1       ultra  "
      ]
     },
     "metadata": {},
     "output_type": "display_data"
    }
   ],
   "source": [
    "display(tariffs_df.head(10))"
   ]
  },
  {
   "cell_type": "code",
   "execution_count": 15,
   "metadata": {},
   "outputs": [
    {
     "name": "stdout",
     "output_type": "stream",
     "text": [
      "<class 'pandas.core.frame.DataFrame'>\n",
      "RangeIndex: 2 entries, 0 to 1\n",
      "Data columns (total 8 columns):\n",
      " #   Column                 Non-Null Count  Dtype \n",
      "---  ------                 --------------  ----- \n",
      " 0   messages_included      2 non-null      int64 \n",
      " 1   mb_per_month_included  2 non-null      int64 \n",
      " 2   minutes_included       2 non-null      int64 \n",
      " 3   rub_monthly_fee        2 non-null      int64 \n",
      " 4   rub_per_gb             2 non-null      int64 \n",
      " 5   rub_per_message        2 non-null      int64 \n",
      " 6   rub_per_minute         2 non-null      int64 \n",
      " 7   tariff_name            2 non-null      object\n",
      "dtypes: int64(7), object(1)\n",
      "memory usage: 256.0+ bytes\n"
     ]
    }
   ],
   "source": [
    "tariffs_df.info()"
   ]
  },
  {
   "cell_type": "code",
   "execution_count": 16,
   "metadata": {
    "scrolled": true
   },
   "outputs": [
    {
     "data": {
      "text/html": [
       "<div>\n",
       "<style scoped>\n",
       "    .dataframe tbody tr th:only-of-type {\n",
       "        vertical-align: middle;\n",
       "    }\n",
       "\n",
       "    .dataframe tbody tr th {\n",
       "        vertical-align: top;\n",
       "    }\n",
       "\n",
       "    .dataframe thead th {\n",
       "        text-align: right;\n",
       "    }\n",
       "</style>\n",
       "<table border=\"1\" class=\"dataframe\">\n",
       "  <thead>\n",
       "    <tr style=\"text-align: right;\">\n",
       "      <th></th>\n",
       "      <th>user_id</th>\n",
       "      <th>age</th>\n",
       "      <th>churn_date</th>\n",
       "      <th>city</th>\n",
       "      <th>first_name</th>\n",
       "      <th>last_name</th>\n",
       "      <th>reg_date</th>\n",
       "      <th>tariff</th>\n",
       "    </tr>\n",
       "  </thead>\n",
       "  <tbody>\n",
       "    <tr>\n",
       "      <th>0</th>\n",
       "      <td>1000</td>\n",
       "      <td>52</td>\n",
       "      <td>NaN</td>\n",
       "      <td>Краснодар</td>\n",
       "      <td>Рафаил</td>\n",
       "      <td>Верещагин</td>\n",
       "      <td>2018-05-25</td>\n",
       "      <td>ultra</td>\n",
       "    </tr>\n",
       "    <tr>\n",
       "      <th>1</th>\n",
       "      <td>1001</td>\n",
       "      <td>41</td>\n",
       "      <td>NaN</td>\n",
       "      <td>Москва</td>\n",
       "      <td>Иван</td>\n",
       "      <td>Ежов</td>\n",
       "      <td>2018-11-01</td>\n",
       "      <td>smart</td>\n",
       "    </tr>\n",
       "    <tr>\n",
       "      <th>2</th>\n",
       "      <td>1002</td>\n",
       "      <td>59</td>\n",
       "      <td>NaN</td>\n",
       "      <td>Стерлитамак</td>\n",
       "      <td>Евгений</td>\n",
       "      <td>Абрамович</td>\n",
       "      <td>2018-06-17</td>\n",
       "      <td>smart</td>\n",
       "    </tr>\n",
       "    <tr>\n",
       "      <th>3</th>\n",
       "      <td>1003</td>\n",
       "      <td>23</td>\n",
       "      <td>NaN</td>\n",
       "      <td>Москва</td>\n",
       "      <td>Белла</td>\n",
       "      <td>Белякова</td>\n",
       "      <td>2018-08-17</td>\n",
       "      <td>ultra</td>\n",
       "    </tr>\n",
       "    <tr>\n",
       "      <th>4</th>\n",
       "      <td>1004</td>\n",
       "      <td>68</td>\n",
       "      <td>NaN</td>\n",
       "      <td>Новокузнецк</td>\n",
       "      <td>Татьяна</td>\n",
       "      <td>Авдеенко</td>\n",
       "      <td>2018-05-14</td>\n",
       "      <td>ultra</td>\n",
       "    </tr>\n",
       "    <tr>\n",
       "      <th>5</th>\n",
       "      <td>1005</td>\n",
       "      <td>67</td>\n",
       "      <td>NaN</td>\n",
       "      <td>Набережные Челны</td>\n",
       "      <td>Афанасий</td>\n",
       "      <td>Горлов</td>\n",
       "      <td>2018-01-25</td>\n",
       "      <td>smart</td>\n",
       "    </tr>\n",
       "    <tr>\n",
       "      <th>6</th>\n",
       "      <td>1006</td>\n",
       "      <td>21</td>\n",
       "      <td>NaN</td>\n",
       "      <td>Ульяновск</td>\n",
       "      <td>Леонид</td>\n",
       "      <td>Ермолаев</td>\n",
       "      <td>2018-02-26</td>\n",
       "      <td>smart</td>\n",
       "    </tr>\n",
       "    <tr>\n",
       "      <th>7</th>\n",
       "      <td>1007</td>\n",
       "      <td>65</td>\n",
       "      <td>NaN</td>\n",
       "      <td>Москва</td>\n",
       "      <td>Юна</td>\n",
       "      <td>Березина</td>\n",
       "      <td>2018-04-19</td>\n",
       "      <td>smart</td>\n",
       "    </tr>\n",
       "    <tr>\n",
       "      <th>8</th>\n",
       "      <td>1008</td>\n",
       "      <td>63</td>\n",
       "      <td>NaN</td>\n",
       "      <td>Челябинск</td>\n",
       "      <td>Рустэм</td>\n",
       "      <td>Пономарёв</td>\n",
       "      <td>2018-12-19</td>\n",
       "      <td>smart</td>\n",
       "    </tr>\n",
       "    <tr>\n",
       "      <th>9</th>\n",
       "      <td>1009</td>\n",
       "      <td>24</td>\n",
       "      <td>NaN</td>\n",
       "      <td>Пермь</td>\n",
       "      <td>Василиса</td>\n",
       "      <td>Блинова</td>\n",
       "      <td>2018-03-22</td>\n",
       "      <td>smart</td>\n",
       "    </tr>\n",
       "  </tbody>\n",
       "</table>\n",
       "</div>"
      ],
      "text/plain": [
       "   user_id  age churn_date              city first_name  last_name  \\\n",
       "0     1000   52        NaN         Краснодар     Рафаил  Верещагин   \n",
       "1     1001   41        NaN            Москва       Иван       Ежов   \n",
       "2     1002   59        NaN       Стерлитамак    Евгений  Абрамович   \n",
       "3     1003   23        NaN            Москва      Белла   Белякова   \n",
       "4     1004   68        NaN       Новокузнецк    Татьяна   Авдеенко   \n",
       "5     1005   67        NaN  Набережные Челны   Афанасий     Горлов   \n",
       "6     1006   21        NaN         Ульяновск     Леонид   Ермолаев   \n",
       "7     1007   65        NaN            Москва        Юна   Березина   \n",
       "8     1008   63        NaN         Челябинск     Рустэм  Пономарёв   \n",
       "9     1009   24        NaN             Пермь   Василиса    Блинова   \n",
       "\n",
       "     reg_date tariff  \n",
       "0  2018-05-25  ultra  \n",
       "1  2018-11-01  smart  \n",
       "2  2018-06-17  smart  \n",
       "3  2018-08-17  ultra  \n",
       "4  2018-05-14  ultra  \n",
       "5  2018-01-25  smart  \n",
       "6  2018-02-26  smart  \n",
       "7  2018-04-19  smart  \n",
       "8  2018-12-19  smart  \n",
       "9  2018-03-22  smart  "
      ]
     },
     "metadata": {},
     "output_type": "display_data"
    }
   ],
   "source": [
    "display(users_df.head(10))"
   ]
  },
  {
   "cell_type": "code",
   "execution_count": 17,
   "metadata": {},
   "outputs": [
    {
     "name": "stdout",
     "output_type": "stream",
     "text": [
      "<class 'pandas.core.frame.DataFrame'>\n",
      "Int64Index: 498 entries, 0 to 499\n",
      "Data columns (total 8 columns):\n",
      " #   Column      Non-Null Count  Dtype \n",
      "---  ------      --------------  ----- \n",
      " 0   user_id     498 non-null    int64 \n",
      " 1   age         498 non-null    int64 \n",
      " 2   churn_date  36 non-null     object\n",
      " 3   city        498 non-null    object\n",
      " 4   first_name  498 non-null    object\n",
      " 5   last_name   498 non-null    object\n",
      " 6   reg_date    498 non-null    object\n",
      " 7   tariff      498 non-null    object\n",
      "dtypes: int64(2), object(6)\n",
      "memory usage: 35.0+ KB\n"
     ]
    }
   ],
   "source": [
    "users_df.info()"
   ]
  },
  {
   "cell_type": "markdown",
   "metadata": {},
   "source": [
    "Дата регистрации имеет тип данных object, нужно исправить"
   ]
  },
  {
   "cell_type": "markdown",
   "metadata": {},
   "source": [
    "# Предобработка данных"
   ]
  },
  {
   "cell_type": "markdown",
   "metadata": {},
   "source": [
    "Меняем типы данных"
   ]
  },
  {
   "cell_type": "code",
   "execution_count": 18,
   "metadata": {},
   "outputs": [],
   "source": [
    "calls_df['call_date'] = pd.to_datetime(calls_df['call_date'], yearfirst = True)"
   ]
  },
  {
   "cell_type": "code",
   "execution_count": 19,
   "metadata": {},
   "outputs": [],
   "source": [
    "internet_df['session_date'] = pd.to_datetime(internet_df['session_date'], yearfirst = True)"
   ]
  },
  {
   "cell_type": "code",
   "execution_count": 20,
   "metadata": {},
   "outputs": [],
   "source": [
    "messages_df['message_date'] = pd.to_datetime(messages_df['message_date'], yearfirst = True)"
   ]
  },
  {
   "cell_type": "code",
   "execution_count": 21,
   "metadata": {},
   "outputs": [],
   "source": [
    "users_df['reg_date'] = pd.to_datetime(users_df['reg_date'], yearfirst = True) "
   ]
  },
  {
   "cell_type": "code",
   "execution_count": 22,
   "metadata": {},
   "outputs": [],
   "source": [
    "users_df['churn_date'] = pd.to_datetime(users_df['churn_date'], yearfirst = True) "
   ]
  },
  {
   "cell_type": "markdown",
   "metadata": {},
   "source": [
    "Для дальнейших расчетов нам понадобится перевесести время в класс DatetimeIndex и применить к нему атрибут 'month'"
   ]
  },
  {
   "cell_type": "code",
   "execution_count": 23,
   "metadata": {},
   "outputs": [],
   "source": [
    "calls_df['month'] = pd.DatetimeIndex(calls_df['call_date']).month"
   ]
  },
  {
   "cell_type": "code",
   "execution_count": 24,
   "metadata": {},
   "outputs": [],
   "source": [
    "internet_df['month'] = pd.DatetimeIndex(internet_df['session_date']).month"
   ]
  },
  {
   "cell_type": "code",
   "execution_count": 25,
   "metadata": {},
   "outputs": [],
   "source": [
    "messages_df['month'] = pd.DatetimeIndex(messages_df['message_date']).month"
   ]
  },
  {
   "cell_type": "markdown",
   "metadata": {},
   "source": [
    "Посмотрим, есть ли дубликаты"
   ]
  },
  {
   "cell_type": "code",
   "execution_count": 26,
   "metadata": {},
   "outputs": [
    {
     "data": {
      "text/plain": [
       "0"
      ]
     },
     "execution_count": 26,
     "metadata": {},
     "output_type": "execute_result"
    }
   ],
   "source": [
    "users_df.duplicated().sum()"
   ]
  },
  {
   "cell_type": "code",
   "execution_count": 27,
   "metadata": {},
   "outputs": [
    {
     "data": {
      "text/plain": [
       "0"
      ]
     },
     "execution_count": 27,
     "metadata": {},
     "output_type": "execute_result"
    }
   ],
   "source": [
    "calls_df.duplicated().sum()"
   ]
  },
  {
   "cell_type": "code",
   "execution_count": 28,
   "metadata": {},
   "outputs": [
    {
     "data": {
      "text/plain": [
       "0"
      ]
     },
     "execution_count": 28,
     "metadata": {},
     "output_type": "execute_result"
    }
   ],
   "source": [
    "internet_df.duplicated().sum()"
   ]
  },
  {
   "cell_type": "code",
   "execution_count": 29,
   "metadata": {},
   "outputs": [
    {
     "data": {
      "text/plain": [
       "0"
      ]
     },
     "execution_count": 29,
     "metadata": {},
     "output_type": "execute_result"
    }
   ],
   "source": [
    "messages_df.duplicated().sum()"
   ]
  },
  {
   "cell_type": "markdown",
   "metadata": {},
   "source": [
    "<font color='DarkBlue'><b>Комментарий ревьюера</b></font><br>\n",
    "<font color='DarkGreen'>👌 Хорошо, что проверили дубликаты, многие студенты забывают.</font>"
   ]
  },
  {
   "cell_type": "markdown",
   "metadata": {},
   "source": [
    "Посмотрим на минимальные и максимальные значения, присутствующие в каждом столбце датафрейма"
   ]
  },
  {
   "cell_type": "code",
   "execution_count": 30,
   "metadata": {},
   "outputs": [
    {
     "data": {
      "text/plain": [
       "user_id                      1000\n",
       "age                            18\n",
       "churn_date    2018-08-17 00:00:00\n",
       "city                  Архангельск\n",
       "first_name              Авксентий\n",
       "last_name                  Ёлчина\n",
       "reg_date      2018-01-01 00:00:00\n",
       "tariff                      smart\n",
       "dtype: object"
      ]
     },
     "execution_count": 30,
     "metadata": {},
     "output_type": "execute_result"
    }
   ],
   "source": [
    "users_df.min()"
   ]
  },
  {
   "cell_type": "code",
   "execution_count": 31,
   "metadata": {
    "scrolled": false
   },
   "outputs": [
    {
     "data": {
      "text/plain": [
       "user_id                      1499\n",
       "age                            75\n",
       "churn_date    2018-12-26 00:00:00\n",
       "city                    Ярославль\n",
       "first_name                    Яна\n",
       "last_name                   Яшина\n",
       "reg_date      2018-12-31 00:00:00\n",
       "tariff                      ultra\n",
       "dtype: object"
      ]
     },
     "execution_count": 31,
     "metadata": {},
     "output_type": "execute_result"
    }
   ],
   "source": [
    "users_df.max()"
   ]
  },
  {
   "cell_type": "code",
   "execution_count": 32,
   "metadata": {},
   "outputs": [
    {
     "data": {
      "text/plain": [
       "id                        1000_0\n",
       "call_date    2018-01-01 00:00:00\n",
       "duration                     0.0\n",
       "user_id                     1000\n",
       "month                          1\n",
       "dtype: object"
      ]
     },
     "execution_count": 32,
     "metadata": {},
     "output_type": "execute_result"
    }
   ],
   "source": [
    "calls_df.min()"
   ]
  },
  {
   "cell_type": "code",
   "execution_count": 33,
   "metadata": {},
   "outputs": [
    {
     "data": {
      "text/plain": [
       "id                       1499_99\n",
       "call_date    2018-12-31 00:00:00\n",
       "duration                    38.0\n",
       "user_id                     1499\n",
       "month                         12\n",
       "dtype: object"
      ]
     },
     "execution_count": 33,
     "metadata": {},
     "output_type": "execute_result"
    }
   ],
   "source": [
    "calls_df.max()"
   ]
  },
  {
   "cell_type": "code",
   "execution_count": 34,
   "metadata": {},
   "outputs": [
    {
     "data": {
      "text/plain": [
       "Unnamed: 0                        0\n",
       "id                           1000_0\n",
       "mb_used                         0.0\n",
       "session_date    2018-01-01 00:00:00\n",
       "user_id                        1000\n",
       "month                             1\n",
       "dtype: object"
      ]
     },
     "execution_count": 34,
     "metadata": {},
     "output_type": "execute_result"
    }
   ],
   "source": [
    "internet_df.min()"
   ]
  },
  {
   "cell_type": "code",
   "execution_count": 35,
   "metadata": {},
   "outputs": [
    {
     "data": {
      "text/plain": [
       "Unnamed: 0                   149395\n",
       "id                          1499_99\n",
       "mb_used                     1724.83\n",
       "session_date    2018-12-31 00:00:00\n",
       "user_id                        1499\n",
       "month                            12\n",
       "dtype: object"
      ]
     },
     "execution_count": 35,
     "metadata": {},
     "output_type": "execute_result"
    }
   ],
   "source": [
    "internet_df.max()"
   ]
  },
  {
   "cell_type": "code",
   "execution_count": 36,
   "metadata": {},
   "outputs": [
    {
     "data": {
      "text/plain": [
       "<AxesSubplot:ylabel='Frequency'>"
      ]
     },
     "execution_count": 36,
     "metadata": {},
     "output_type": "execute_result"
    },
    {
     "data": {
      "image/png": "[encoded data removed]",
      "text/plain": [
       "<Figure size 432x288 with 1 Axes>"
      ]
     },
     "metadata": {
      "needs_background": "light"
     },
     "output_type": "display_data"
    }
   ],
   "source": [
    "internet_df.plot(kind = 'hist', y = 'mb_used', bins = 35, range = (0,2000))"
   ]
  },
  {
   "cell_type": "code",
   "execution_count": 37,
   "metadata": {},
   "outputs": [
    {
     "data": {
      "text/html": [
       "<div>\n",
       "<style scoped>\n",
       "    .dataframe tbody tr th:only-of-type {\n",
       "        vertical-align: middle;\n",
       "    }\n",
       "\n",
       "    .dataframe tbody tr th {\n",
       "        vertical-align: top;\n",
       "    }\n",
       "\n",
       "    .dataframe thead th {\n",
       "        text-align: right;\n",
       "    }\n",
       "</style>\n",
       "<table border=\"1\" class=\"dataframe\">\n",
       "  <thead>\n",
       "    <tr style=\"text-align: right;\">\n",
       "      <th></th>\n",
       "      <th>Unnamed: 0</th>\n",
       "      <th>id</th>\n",
       "      <th>mb_used</th>\n",
       "      <th>session_date</th>\n",
       "      <th>user_id</th>\n",
       "      <th>month</th>\n",
       "    </tr>\n",
       "  </thead>\n",
       "  <tbody>\n",
       "    <tr>\n",
       "      <th>93</th>\n",
       "      <td>93</td>\n",
       "      <td>1000_93</td>\n",
       "      <td>1364.05</td>\n",
       "      <td>2018-11-20</td>\n",
       "      <td>1000</td>\n",
       "      <td>11</td>\n",
       "    </tr>\n",
       "    <tr>\n",
       "      <th>693</th>\n",
       "      <td>693</td>\n",
       "      <td>1003_17</td>\n",
       "      <td>1333.87</td>\n",
       "      <td>2018-10-10</td>\n",
       "      <td>1003</td>\n",
       "      <td>10</td>\n",
       "    </tr>\n",
       "    <tr>\n",
       "      <th>843</th>\n",
       "      <td>843</td>\n",
       "      <td>1004_63</td>\n",
       "      <td>1268.72</td>\n",
       "      <td>2018-06-18</td>\n",
       "      <td>1004</td>\n",
       "      <td>6</td>\n",
       "    </tr>\n",
       "    <tr>\n",
       "      <th>885</th>\n",
       "      <td>885</td>\n",
       "      <td>1004_105</td>\n",
       "      <td>1284.76</td>\n",
       "      <td>2018-07-30</td>\n",
       "      <td>1004</td>\n",
       "      <td>7</td>\n",
       "    </tr>\n",
       "    <tr>\n",
       "      <th>1066</th>\n",
       "      <td>1066</td>\n",
       "      <td>1004_286</td>\n",
       "      <td>1312.73</td>\n",
       "      <td>2018-08-11</td>\n",
       "      <td>1004</td>\n",
       "      <td>8</td>\n",
       "    </tr>\n",
       "    <tr>\n",
       "      <th>...</th>\n",
       "      <td>...</td>\n",
       "      <td>...</td>\n",
       "      <td>...</td>\n",
       "      <td>...</td>\n",
       "      <td>...</td>\n",
       "      <td>...</td>\n",
       "    </tr>\n",
       "    <tr>\n",
       "      <th>144627</th>\n",
       "      <td>144627</td>\n",
       "      <td>1483_6</td>\n",
       "      <td>1266.28</td>\n",
       "      <td>2018-06-30</td>\n",
       "      <td>1483</td>\n",
       "      <td>6</td>\n",
       "    </tr>\n",
       "    <tr>\n",
       "      <th>146825</th>\n",
       "      <td>146825</td>\n",
       "      <td>1491_97</td>\n",
       "      <td>1284.40</td>\n",
       "      <td>2018-08-17</td>\n",
       "      <td>1491</td>\n",
       "      <td>8</td>\n",
       "    </tr>\n",
       "    <tr>\n",
       "      <th>147477</th>\n",
       "      <td>147477</td>\n",
       "      <td>1493_16</td>\n",
       "      <td>1327.40</td>\n",
       "      <td>2018-12-01</td>\n",
       "      <td>1493</td>\n",
       "      <td>12</td>\n",
       "    </tr>\n",
       "    <tr>\n",
       "      <th>147493</th>\n",
       "      <td>147493</td>\n",
       "      <td>1493_32</td>\n",
       "      <td>1387.78</td>\n",
       "      <td>2018-12-16</td>\n",
       "      <td>1493</td>\n",
       "      <td>12</td>\n",
       "    </tr>\n",
       "    <tr>\n",
       "      <th>149318</th>\n",
       "      <td>149318</td>\n",
       "      <td>1499_79</td>\n",
       "      <td>1287.93</td>\n",
       "      <td>2018-11-30</td>\n",
       "      <td>1499</td>\n",
       "      <td>11</td>\n",
       "    </tr>\n",
       "  </tbody>\n",
       "</table>\n",
       "<p>296 rows × 6 columns</p>\n",
       "</div>"
      ],
      "text/plain": [
       "        Unnamed: 0        id  mb_used session_date  user_id  month\n",
       "93              93   1000_93  1364.05   2018-11-20     1000     11\n",
       "693            693   1003_17  1333.87   2018-10-10     1003     10\n",
       "843            843   1004_63  1268.72   2018-06-18     1004      6\n",
       "885            885  1004_105  1284.76   2018-07-30     1004      7\n",
       "1066          1066  1004_286  1312.73   2018-08-11     1004      8\n",
       "...            ...       ...      ...          ...      ...    ...\n",
       "144627      144627    1483_6  1266.28   2018-06-30     1483      6\n",
       "146825      146825   1491_97  1284.40   2018-08-17     1491      8\n",
       "147477      147477   1493_16  1327.40   2018-12-01     1493     12\n",
       "147493      147493   1493_32  1387.78   2018-12-16     1493     12\n",
       "149318      149318   1499_79  1287.93   2018-11-30     1499     11\n",
       "\n",
       "[296 rows x 6 columns]"
      ]
     },
     "execution_count": 37,
     "metadata": {},
     "output_type": "execute_result"
    }
   ],
   "source": [
    "internet_df.query('mb_used >= 1250')"
   ]
  },
  {
   "cell_type": "code",
   "execution_count": 38,
   "metadata": {},
   "outputs": [
    {
     "data": {
      "text/plain": [
       "<AxesSubplot:ylabel='Frequency'>"
      ]
     },
     "execution_count": 38,
     "metadata": {},
     "output_type": "execute_result"
    },
    {
     "data": {
      "image/png": "[encoded data removed]",
      "text/plain": [
       "<Figure size 432x288 with 1 Axes>"
      ]
     },
     "metadata": {
      "needs_background": "light"
     },
     "output_type": "display_data"
    }
   ],
   "source": [
    "#Строим гистограмму по столбцу 'calls_duration' датафрейма smart_users\n",
    "internet_df.plot(kind = 'hist', y = 'mb_used', bins = 40, range = (0,2100))"
   ]
  },
  {
   "cell_type": "code",
   "execution_count": 39,
   "metadata": {},
   "outputs": [
    {
     "data": {
      "text/html": [
       "<div>\n",
       "<style scoped>\n",
       "    .dataframe tbody tr th:only-of-type {\n",
       "        vertical-align: middle;\n",
       "    }\n",
       "\n",
       "    .dataframe tbody tr th {\n",
       "        vertical-align: top;\n",
       "    }\n",
       "\n",
       "    .dataframe thead th {\n",
       "        text-align: right;\n",
       "    }\n",
       "</style>\n",
       "<table border=\"1\" class=\"dataframe\">\n",
       "  <thead>\n",
       "    <tr style=\"text-align: right;\">\n",
       "      <th></th>\n",
       "      <th>Unnamed: 0</th>\n",
       "      <th>id</th>\n",
       "      <th>mb_used</th>\n",
       "      <th>session_date</th>\n",
       "      <th>user_id</th>\n",
       "      <th>month</th>\n",
       "    </tr>\n",
       "  </thead>\n",
       "  <tbody>\n",
       "    <tr>\n",
       "      <th>11</th>\n",
       "      <td>11</td>\n",
       "      <td>1000_11</td>\n",
       "      <td>0.0</td>\n",
       "      <td>2018-08-28</td>\n",
       "      <td>1000</td>\n",
       "      <td>8</td>\n",
       "    </tr>\n",
       "    <tr>\n",
       "      <th>38</th>\n",
       "      <td>38</td>\n",
       "      <td>1000_38</td>\n",
       "      <td>0.0</td>\n",
       "      <td>2018-11-27</td>\n",
       "      <td>1000</td>\n",
       "      <td>11</td>\n",
       "    </tr>\n",
       "    <tr>\n",
       "      <th>46</th>\n",
       "      <td>46</td>\n",
       "      <td>1000_46</td>\n",
       "      <td>0.0</td>\n",
       "      <td>2018-06-30</td>\n",
       "      <td>1000</td>\n",
       "      <td>6</td>\n",
       "    </tr>\n",
       "    <tr>\n",
       "      <th>67</th>\n",
       "      <td>67</td>\n",
       "      <td>1000_67</td>\n",
       "      <td>0.0</td>\n",
       "      <td>2018-06-16</td>\n",
       "      <td>1000</td>\n",
       "      <td>6</td>\n",
       "    </tr>\n",
       "    <tr>\n",
       "      <th>72</th>\n",
       "      <td>72</td>\n",
       "      <td>1000_72</td>\n",
       "      <td>0.0</td>\n",
       "      <td>2018-06-15</td>\n",
       "      <td>1000</td>\n",
       "      <td>6</td>\n",
       "    </tr>\n",
       "    <tr>\n",
       "      <th>...</th>\n",
       "      <td>...</td>\n",
       "      <td>...</td>\n",
       "      <td>...</td>\n",
       "      <td>...</td>\n",
       "      <td>...</td>\n",
       "      <td>...</td>\n",
       "    </tr>\n",
       "    <tr>\n",
       "      <th>149380</th>\n",
       "      <td>149380</td>\n",
       "      <td>1499_141</td>\n",
       "      <td>0.0</td>\n",
       "      <td>2018-12-11</td>\n",
       "      <td>1499</td>\n",
       "      <td>12</td>\n",
       "    </tr>\n",
       "    <tr>\n",
       "      <th>149381</th>\n",
       "      <td>149381</td>\n",
       "      <td>1499_142</td>\n",
       "      <td>0.0</td>\n",
       "      <td>2018-11-01</td>\n",
       "      <td>1499</td>\n",
       "      <td>11</td>\n",
       "    </tr>\n",
       "    <tr>\n",
       "      <th>149383</th>\n",
       "      <td>149383</td>\n",
       "      <td>1499_144</td>\n",
       "      <td>0.0</td>\n",
       "      <td>2018-11-27</td>\n",
       "      <td>1499</td>\n",
       "      <td>11</td>\n",
       "    </tr>\n",
       "    <tr>\n",
       "      <th>149386</th>\n",
       "      <td>149386</td>\n",
       "      <td>1499_147</td>\n",
       "      <td>0.0</td>\n",
       "      <td>2018-10-21</td>\n",
       "      <td>1499</td>\n",
       "      <td>10</td>\n",
       "    </tr>\n",
       "    <tr>\n",
       "      <th>149393</th>\n",
       "      <td>149393</td>\n",
       "      <td>1499_154</td>\n",
       "      <td>0.0</td>\n",
       "      <td>2018-10-27</td>\n",
       "      <td>1499</td>\n",
       "      <td>10</td>\n",
       "    </tr>\n",
       "  </tbody>\n",
       "</table>\n",
       "<p>19598 rows × 6 columns</p>\n",
       "</div>"
      ],
      "text/plain": [
       "        Unnamed: 0        id  mb_used session_date  user_id  month\n",
       "11              11   1000_11      0.0   2018-08-28     1000      8\n",
       "38              38   1000_38      0.0   2018-11-27     1000     11\n",
       "46              46   1000_46      0.0   2018-06-30     1000      6\n",
       "67              67   1000_67      0.0   2018-06-16     1000      6\n",
       "72              72   1000_72      0.0   2018-06-15     1000      6\n",
       "...            ...       ...      ...          ...      ...    ...\n",
       "149380      149380  1499_141      0.0   2018-12-11     1499     12\n",
       "149381      149381  1499_142      0.0   2018-11-01     1499     11\n",
       "149383      149383  1499_144      0.0   2018-11-27     1499     11\n",
       "149386      149386  1499_147      0.0   2018-10-21     1499     10\n",
       "149393      149393  1499_154      0.0   2018-10-27     1499     10\n",
       "\n",
       "[19598 rows x 6 columns]"
      ]
     },
     "execution_count": 39,
     "metadata": {},
     "output_type": "execute_result"
    }
   ],
   "source": [
    "internet_df.query('mb_used == 0')"
   ]
  },
  {
   "cell_type": "code",
   "execution_count": 40,
   "metadata": {
    "scrolled": true
   },
   "outputs": [
    {
     "data": {
      "text/plain": [
       "<AxesSubplot:>"
      ]
     },
     "execution_count": 40,
     "metadata": {},
     "output_type": "execute_result"
    },
    {
     "data": {
      "image/png": "[encoded data removed]",
      "text/plain": [
       "<Figure size 720x720 with 1 Axes>"
      ]
     },
     "metadata": {
      "needs_background": "light"
     },
     "output_type": "display_data"
    }
   ],
   "source": [
    "#Строим ящик с усами\n",
    "plt.figure(figsize=(10,10))\n",
    "internet_df['mb_used'].plot.box()"
   ]
  },
  {
   "cell_type": "code",
   "execution_count": 41,
   "metadata": {},
   "outputs": [
    {
     "data": {
      "text/plain": [
       "1724.83"
      ]
     },
     "execution_count": 41,
     "metadata": {},
     "output_type": "execute_result"
    }
   ],
   "source": [
    "#Посмотрим на максимальное значение в столбце использованных гб датафрейма internet_df\n",
    "internet_df['mb_used'].max()"
   ]
  },
  {
   "cell_type": "code",
   "execution_count": 42,
   "metadata": {},
   "outputs": [
    {
     "data": {
      "text/html": [
       "<div>\n",
       "<style scoped>\n",
       "    .dataframe tbody tr th:only-of-type {\n",
       "        vertical-align: middle;\n",
       "    }\n",
       "\n",
       "    .dataframe tbody tr th {\n",
       "        vertical-align: top;\n",
       "    }\n",
       "\n",
       "    .dataframe thead th {\n",
       "        text-align: right;\n",
       "    }\n",
       "</style>\n",
       "<table border=\"1\" class=\"dataframe\">\n",
       "  <thead>\n",
       "    <tr style=\"text-align: right;\">\n",
       "      <th></th>\n",
       "      <th>Unnamed: 0</th>\n",
       "      <th>id</th>\n",
       "      <th>mb_used</th>\n",
       "      <th>session_date</th>\n",
       "      <th>user_id</th>\n",
       "      <th>month</th>\n",
       "    </tr>\n",
       "  </thead>\n",
       "  <tbody>\n",
       "    <tr>\n",
       "      <th>137493</th>\n",
       "      <td>137493</td>\n",
       "      <td>1461_9</td>\n",
       "      <td>1724.83</td>\n",
       "      <td>2018-11-28</td>\n",
       "      <td>1461</td>\n",
       "      <td>11</td>\n",
       "    </tr>\n",
       "  </tbody>\n",
       "</table>\n",
       "</div>"
      ],
      "text/plain": [
       "        Unnamed: 0      id  mb_used session_date  user_id  month\n",
       "137493      137493  1461_9  1724.83   2018-11-28     1461     11"
      ]
     },
     "execution_count": 42,
     "metadata": {},
     "output_type": "execute_result"
    }
   ],
   "source": [
    "#Посмотрим строчку с максимальным значением потраченных мб за одну интернет-сессию\n",
    "internet_df.query('mb_used > 1724')"
   ]
  },
  {
   "cell_type": "markdown",
   "metadata": {},
   "source": [
    "Сравним со средним и медианной:"
   ]
  },
  {
   "cell_type": "code",
   "execution_count": 43,
   "metadata": {},
   "outputs": [
    {
     "data": {
      "text/plain": [
       "370.1924263701839"
      ]
     },
     "execution_count": 43,
     "metadata": {},
     "output_type": "execute_result"
    }
   ],
   "source": [
    "internet_df['mb_used'].mean()"
   ]
  },
  {
   "cell_type": "code",
   "execution_count": 44,
   "metadata": {},
   "outputs": [
    {
     "data": {
      "text/plain": [
       "348.015"
      ]
     },
     "execution_count": 44,
     "metadata": {},
     "output_type": "execute_result"
    }
   ],
   "source": [
    "internet_df['mb_used'].median()"
   ]
  },
  {
   "cell_type": "markdown",
   "metadata": {},
   "source": [
    "Конечно, данное значение портит общую картину, что мы видим по медиане, которая меньше среднего, но я не вижу ошибки в данных, израсходовать более гигабайта интернета вполне возможно, если скачивать фильмы, приложения итд. В данной ситуации значение выглядит правдоподобно, я хочу оставить его так,как есть. Но в дальнейшем я предлагаю посмотреть значения использованных за месяц гигабайтов конкретных пользователей, если будут подозрительные значения-проведем исследование и решим что делать"
   ]
  },
  {
   "cell_type": "markdown",
   "metadata": {},
   "source": [
    "Подозрительные данные на данном этапе не обнаружены"
   ]
  },
  {
   "cell_type": "markdown",
   "metadata": {},
   "source": [
    "# Вычисления"
   ]
  },
  {
   "cell_type": "markdown",
   "metadata": {},
   "source": [
    "Совершим перевод из мегабайт в гигабайты и сохраним результаты в новой колонке"
   ]
  },
  {
   "cell_type": "code",
   "execution_count": 45,
   "metadata": {},
   "outputs": [],
   "source": [
    "internet_df['gb_used'] = internet_df['mb_used']/1024"
   ]
  },
  {
   "cell_type": "markdown",
   "metadata": {},
   "source": [
    "Мегалайн всегда округляет секунды до минут, а мегабайты — до гигабайт. Для правильных расчётов в будущем нам лучше сразу заняться округлением, но нужно учитывать факт того, что любой звонок протяженностью даже в секунду огругляется до минуты, а вот с интернетом дела обстоят другим образом, общая сумма израсходованных за месяц мегабайтов округляется до гигабайтов, а отдельные сессии, в свою очередь, не округляются"
   ]
  },
  {
   "cell_type": "code",
   "execution_count": 46,
   "metadata": {},
   "outputs": [],
   "source": [
    "#Округляем продолжительность звонков с секунд до минуты\n",
    "calls_df['duration'] =  np.ceil(calls_df['duration'])"
   ]
  },
  {
   "cell_type": "markdown",
   "metadata": {},
   "source": [
    "Создадим новый датафрейм, он пригодится для указания тарифов пользователей в таблице с данными о трафике, звонках и сообщениях, разделенных по месяцам"
   ]
  },
  {
   "cell_type": "code",
   "execution_count": 47,
   "metadata": {},
   "outputs": [],
   "source": [
    "#Создаем новый датафрейм,\n",
    "users_table = users_df.groupby(['user_id'])['tariff'].sum()"
   ]
  },
  {
   "cell_type": "code",
   "execution_count": 48,
   "metadata": {},
   "outputs": [
    {
     "data": {
      "text/plain": [
       "user_id\n",
       "1000    ultra\n",
       "1001    smart\n",
       "1002    smart\n",
       "1003    ultra\n",
       "1004    ultra\n",
       "        ...  \n",
       "1495    ultra\n",
       "1496    smart\n",
       "1497    smart\n",
       "1498    smart\n",
       "1499    smart\n",
       "Name: tariff, Length: 498, dtype: object"
      ]
     },
     "metadata": {},
     "output_type": "display_data"
    }
   ],
   "source": [
    "#Воспроизводим \n",
    "display(users_table)"
   ]
  },
  {
   "cell_type": "code",
   "execution_count": 49,
   "metadata": {},
   "outputs": [],
   "source": [
    "#Сбросим индексацию для последующего обьединения с другим датафремом\n",
    "users_table = users_table.reset_index()"
   ]
  },
  {
   "cell_type": "markdown",
   "metadata": {},
   "source": [
    "Сгрупируем данные из трёх датафреймов по месяцу и идентификатору пользователя:"
   ]
  },
  {
   "cell_type": "code",
   "execution_count": 50,
   "metadata": {},
   "outputs": [],
   "source": [
    "#Группируем данные и создаем новый датафрейм\n",
    "internet_table = internet_df.groupby(['user_id', 'month'])['gb_used'].sum()"
   ]
  },
  {
   "cell_type": "code",
   "execution_count": 51,
   "metadata": {},
   "outputs": [],
   "source": [
    "#Группируем данные и создаем новый датафрейм\n",
    "calls_table = calls_df.groupby(['user_id', 'month'])['duration'].sum()"
   ]
  },
  {
   "cell_type": "code",
   "execution_count": 52,
   "metadata": {},
   "outputs": [],
   "source": [
    "#Группируем данные и создаем новый датафрейм\n",
    "calls_table_two = calls_df.groupby(['user_id', 'month'])['id'].count()"
   ]
  },
  {
   "cell_type": "markdown",
   "metadata": {},
   "source": [
    "Сбросим индексацию:"
   ]
  },
  {
   "cell_type": "code",
   "execution_count": 53,
   "metadata": {},
   "outputs": [],
   "source": [
    "calls_table = calls_table.reset_index()"
   ]
  },
  {
   "cell_type": "code",
   "execution_count": 54,
   "metadata": {},
   "outputs": [],
   "source": [
    "calls_table_two = calls_table_two.reset_index()"
   ]
  },
  {
   "cell_type": "code",
   "execution_count": 55,
   "metadata": {},
   "outputs": [],
   "source": [
    "#Обьединяем два датафрейма в один\n",
    "calls_joined = calls_table.merge(calls_table_two, on= ['user_id', 'month'],  how ='outer')"
   ]
  },
  {
   "cell_type": "code",
   "execution_count": 56,
   "metadata": {},
   "outputs": [
    {
     "data": {
      "text/html": [
       "<div>\n",
       "<style scoped>\n",
       "    .dataframe tbody tr th:only-of-type {\n",
       "        vertical-align: middle;\n",
       "    }\n",
       "\n",
       "    .dataframe tbody tr th {\n",
       "        vertical-align: top;\n",
       "    }\n",
       "\n",
       "    .dataframe thead th {\n",
       "        text-align: right;\n",
       "    }\n",
       "</style>\n",
       "<table border=\"1\" class=\"dataframe\">\n",
       "  <thead>\n",
       "    <tr style=\"text-align: right;\">\n",
       "      <th></th>\n",
       "      <th>user_id</th>\n",
       "      <th>month</th>\n",
       "      <th>duration</th>\n",
       "      <th>id</th>\n",
       "    </tr>\n",
       "  </thead>\n",
       "  <tbody>\n",
       "    <tr>\n",
       "      <th>0</th>\n",
       "      <td>1000</td>\n",
       "      <td>5</td>\n",
       "      <td>159.0</td>\n",
       "      <td>22</td>\n",
       "    </tr>\n",
       "    <tr>\n",
       "      <th>1</th>\n",
       "      <td>1000</td>\n",
       "      <td>6</td>\n",
       "      <td>172.0</td>\n",
       "      <td>43</td>\n",
       "    </tr>\n",
       "    <tr>\n",
       "      <th>2</th>\n",
       "      <td>1000</td>\n",
       "      <td>7</td>\n",
       "      <td>340.0</td>\n",
       "      <td>47</td>\n",
       "    </tr>\n",
       "    <tr>\n",
       "      <th>3</th>\n",
       "      <td>1000</td>\n",
       "      <td>8</td>\n",
       "      <td>408.0</td>\n",
       "      <td>52</td>\n",
       "    </tr>\n",
       "    <tr>\n",
       "      <th>4</th>\n",
       "      <td>1000</td>\n",
       "      <td>9</td>\n",
       "      <td>466.0</td>\n",
       "      <td>58</td>\n",
       "    </tr>\n",
       "    <tr>\n",
       "      <th>...</th>\n",
       "      <td>...</td>\n",
       "      <td>...</td>\n",
       "      <td>...</td>\n",
       "      <td>...</td>\n",
       "    </tr>\n",
       "    <tr>\n",
       "      <th>3169</th>\n",
       "      <td>1498</td>\n",
       "      <td>10</td>\n",
       "      <td>247.0</td>\n",
       "      <td>41</td>\n",
       "    </tr>\n",
       "    <tr>\n",
       "      <th>3170</th>\n",
       "      <td>1499</td>\n",
       "      <td>9</td>\n",
       "      <td>70.0</td>\n",
       "      <td>9</td>\n",
       "    </tr>\n",
       "    <tr>\n",
       "      <th>3171</th>\n",
       "      <td>1499</td>\n",
       "      <td>10</td>\n",
       "      <td>449.0</td>\n",
       "      <td>68</td>\n",
       "    </tr>\n",
       "    <tr>\n",
       "      <th>3172</th>\n",
       "      <td>1499</td>\n",
       "      <td>11</td>\n",
       "      <td>612.0</td>\n",
       "      <td>74</td>\n",
       "    </tr>\n",
       "    <tr>\n",
       "      <th>3173</th>\n",
       "      <td>1499</td>\n",
       "      <td>12</td>\n",
       "      <td>492.0</td>\n",
       "      <td>69</td>\n",
       "    </tr>\n",
       "  </tbody>\n",
       "</table>\n",
       "<p>3174 rows × 4 columns</p>\n",
       "</div>"
      ],
      "text/plain": [
       "      user_id  month  duration  id\n",
       "0        1000      5     159.0  22\n",
       "1        1000      6     172.0  43\n",
       "2        1000      7     340.0  47\n",
       "3        1000      8     408.0  52\n",
       "4        1000      9     466.0  58\n",
       "...       ...    ...       ...  ..\n",
       "3169     1498     10     247.0  41\n",
       "3170     1499      9      70.0   9\n",
       "3171     1499     10     449.0  68\n",
       "3172     1499     11     612.0  74\n",
       "3173     1499     12     492.0  69\n",
       "\n",
       "[3174 rows x 4 columns]"
      ]
     },
     "metadata": {},
     "output_type": "display_data"
    }
   ],
   "source": [
    "#Воспроизводим новый датафрейм\n",
    "display(calls_joined)"
   ]
  },
  {
   "cell_type": "markdown",
   "metadata": {},
   "source": [
    "2 столбца имеют не очень подходящие названия, а значит мы должны их поменять"
   ]
  },
  {
   "cell_type": "code",
   "execution_count": 57,
   "metadata": {},
   "outputs": [],
   "source": [
    "#Переименовываем названия столбцов\n",
    "calls_joined = calls_joined.rename(columns = {'id': 'calls_amount', 'duration': 'calls_duration'})"
   ]
  },
  {
   "cell_type": "code",
   "execution_count": 58,
   "metadata": {},
   "outputs": [
    {
     "data": {
      "text/html": [
       "<div>\n",
       "<style scoped>\n",
       "    .dataframe tbody tr th:only-of-type {\n",
       "        vertical-align: middle;\n",
       "    }\n",
       "\n",
       "    .dataframe tbody tr th {\n",
       "        vertical-align: top;\n",
       "    }\n",
       "\n",
       "    .dataframe thead th {\n",
       "        text-align: right;\n",
       "    }\n",
       "</style>\n",
       "<table border=\"1\" class=\"dataframe\">\n",
       "  <thead>\n",
       "    <tr style=\"text-align: right;\">\n",
       "      <th></th>\n",
       "      <th>user_id</th>\n",
       "      <th>month</th>\n",
       "      <th>calls_duration</th>\n",
       "      <th>calls_amount</th>\n",
       "    </tr>\n",
       "  </thead>\n",
       "  <tbody>\n",
       "    <tr>\n",
       "      <th>0</th>\n",
       "      <td>1000</td>\n",
       "      <td>5</td>\n",
       "      <td>159.0</td>\n",
       "      <td>22</td>\n",
       "    </tr>\n",
       "    <tr>\n",
       "      <th>1</th>\n",
       "      <td>1000</td>\n",
       "      <td>6</td>\n",
       "      <td>172.0</td>\n",
       "      <td>43</td>\n",
       "    </tr>\n",
       "    <tr>\n",
       "      <th>2</th>\n",
       "      <td>1000</td>\n",
       "      <td>7</td>\n",
       "      <td>340.0</td>\n",
       "      <td>47</td>\n",
       "    </tr>\n",
       "    <tr>\n",
       "      <th>3</th>\n",
       "      <td>1000</td>\n",
       "      <td>8</td>\n",
       "      <td>408.0</td>\n",
       "      <td>52</td>\n",
       "    </tr>\n",
       "    <tr>\n",
       "      <th>4</th>\n",
       "      <td>1000</td>\n",
       "      <td>9</td>\n",
       "      <td>466.0</td>\n",
       "      <td>58</td>\n",
       "    </tr>\n",
       "    <tr>\n",
       "      <th>...</th>\n",
       "      <td>...</td>\n",
       "      <td>...</td>\n",
       "      <td>...</td>\n",
       "      <td>...</td>\n",
       "    </tr>\n",
       "    <tr>\n",
       "      <th>3169</th>\n",
       "      <td>1498</td>\n",
       "      <td>10</td>\n",
       "      <td>247.0</td>\n",
       "      <td>41</td>\n",
       "    </tr>\n",
       "    <tr>\n",
       "      <th>3170</th>\n",
       "      <td>1499</td>\n",
       "      <td>9</td>\n",
       "      <td>70.0</td>\n",
       "      <td>9</td>\n",
       "    </tr>\n",
       "    <tr>\n",
       "      <th>3171</th>\n",
       "      <td>1499</td>\n",
       "      <td>10</td>\n",
       "      <td>449.0</td>\n",
       "      <td>68</td>\n",
       "    </tr>\n",
       "    <tr>\n",
       "      <th>3172</th>\n",
       "      <td>1499</td>\n",
       "      <td>11</td>\n",
       "      <td>612.0</td>\n",
       "      <td>74</td>\n",
       "    </tr>\n",
       "    <tr>\n",
       "      <th>3173</th>\n",
       "      <td>1499</td>\n",
       "      <td>12</td>\n",
       "      <td>492.0</td>\n",
       "      <td>69</td>\n",
       "    </tr>\n",
       "  </tbody>\n",
       "</table>\n",
       "<p>3174 rows × 4 columns</p>\n",
       "</div>"
      ],
      "text/plain": [
       "      user_id  month  calls_duration  calls_amount\n",
       "0        1000      5           159.0            22\n",
       "1        1000      6           172.0            43\n",
       "2        1000      7           340.0            47\n",
       "3        1000      8           408.0            52\n",
       "4        1000      9           466.0            58\n",
       "...       ...    ...             ...           ...\n",
       "3169     1498     10           247.0            41\n",
       "3170     1499      9            70.0             9\n",
       "3171     1499     10           449.0            68\n",
       "3172     1499     11           612.0            74\n",
       "3173     1499     12           492.0            69\n",
       "\n",
       "[3174 rows x 4 columns]"
      ]
     },
     "metadata": {},
     "output_type": "display_data"
    }
   ],
   "source": [
    "#Проверяем произошла ли замена названий столбцов\n",
    "display(calls_joined)"
   ]
  },
  {
   "cell_type": "code",
   "execution_count": 59,
   "metadata": {},
   "outputs": [],
   "source": [
    "#Создадим новый обьект series для дальнейшего обьединения\n",
    "messages_table = messages_df.groupby(['user_id', 'month'])['id'].count()"
   ]
  },
  {
   "cell_type": "markdown",
   "metadata": {},
   "source": [
    "Сбросим индексы фреймов данных для дальнейшего обьединения:"
   ]
  },
  {
   "cell_type": "code",
   "execution_count": 60,
   "metadata": {},
   "outputs": [],
   "source": [
    "messages_table = messages_table.reset_index()"
   ]
  },
  {
   "cell_type": "code",
   "execution_count": 61,
   "metadata": {},
   "outputs": [],
   "source": [
    "calls_joined = calls_joined.reset_index()"
   ]
  },
  {
   "cell_type": "code",
   "execution_count": 62,
   "metadata": {},
   "outputs": [],
   "source": [
    "internet_table = internet_table.reset_index()"
   ]
  },
  {
   "cell_type": "markdown",
   "metadata": {},
   "source": [
    "Обьединим calls_joined и messages_table в новый датафрейм:"
   ]
  },
  {
   "cell_type": "code",
   "execution_count": 63,
   "metadata": {},
   "outputs": [],
   "source": [
    "users_data_joined = calls_joined.merge(messages_table, on= ['user_id', 'month'],  how ='outer')"
   ]
  },
  {
   "cell_type": "code",
   "execution_count": 64,
   "metadata": {},
   "outputs": [
    {
     "data": {
      "text/html": [
       "<div>\n",
       "<style scoped>\n",
       "    .dataframe tbody tr th:only-of-type {\n",
       "        vertical-align: middle;\n",
       "    }\n",
       "\n",
       "    .dataframe tbody tr th {\n",
       "        vertical-align: top;\n",
       "    }\n",
       "\n",
       "    .dataframe thead th {\n",
       "        text-align: right;\n",
       "    }\n",
       "</style>\n",
       "<table border=\"1\" class=\"dataframe\">\n",
       "  <thead>\n",
       "    <tr style=\"text-align: right;\">\n",
       "      <th></th>\n",
       "      <th>index</th>\n",
       "      <th>user_id</th>\n",
       "      <th>month</th>\n",
       "      <th>calls_duration</th>\n",
       "      <th>calls_amount</th>\n",
       "      <th>id</th>\n",
       "    </tr>\n",
       "  </thead>\n",
       "  <tbody>\n",
       "    <tr>\n",
       "      <th>0</th>\n",
       "      <td>0.0</td>\n",
       "      <td>1000</td>\n",
       "      <td>5</td>\n",
       "      <td>159.0</td>\n",
       "      <td>22.0</td>\n",
       "      <td>22.0</td>\n",
       "    </tr>\n",
       "    <tr>\n",
       "      <th>1</th>\n",
       "      <td>1.0</td>\n",
       "      <td>1000</td>\n",
       "      <td>6</td>\n",
       "      <td>172.0</td>\n",
       "      <td>43.0</td>\n",
       "      <td>60.0</td>\n",
       "    </tr>\n",
       "    <tr>\n",
       "      <th>2</th>\n",
       "      <td>2.0</td>\n",
       "      <td>1000</td>\n",
       "      <td>7</td>\n",
       "      <td>340.0</td>\n",
       "      <td>47.0</td>\n",
       "      <td>75.0</td>\n",
       "    </tr>\n",
       "    <tr>\n",
       "      <th>3</th>\n",
       "      <td>3.0</td>\n",
       "      <td>1000</td>\n",
       "      <td>8</td>\n",
       "      <td>408.0</td>\n",
       "      <td>52.0</td>\n",
       "      <td>81.0</td>\n",
       "    </tr>\n",
       "    <tr>\n",
       "      <th>4</th>\n",
       "      <td>4.0</td>\n",
       "      <td>1000</td>\n",
       "      <td>9</td>\n",
       "      <td>466.0</td>\n",
       "      <td>58.0</td>\n",
       "      <td>57.0</td>\n",
       "    </tr>\n",
       "    <tr>\n",
       "      <th>...</th>\n",
       "      <td>...</td>\n",
       "      <td>...</td>\n",
       "      <td>...</td>\n",
       "      <td>...</td>\n",
       "      <td>...</td>\n",
       "      <td>...</td>\n",
       "    </tr>\n",
       "    <tr>\n",
       "      <th>3208</th>\n",
       "      <td>NaN</td>\n",
       "      <td>1489</td>\n",
       "      <td>8</td>\n",
       "      <td>NaN</td>\n",
       "      <td>NaN</td>\n",
       "      <td>17.0</td>\n",
       "    </tr>\n",
       "    <tr>\n",
       "      <th>3209</th>\n",
       "      <td>NaN</td>\n",
       "      <td>1489</td>\n",
       "      <td>9</td>\n",
       "      <td>NaN</td>\n",
       "      <td>NaN</td>\n",
       "      <td>32.0</td>\n",
       "    </tr>\n",
       "    <tr>\n",
       "      <th>3210</th>\n",
       "      <td>NaN</td>\n",
       "      <td>1489</td>\n",
       "      <td>10</td>\n",
       "      <td>NaN</td>\n",
       "      <td>NaN</td>\n",
       "      <td>21.0</td>\n",
       "    </tr>\n",
       "    <tr>\n",
       "      <th>3211</th>\n",
       "      <td>NaN</td>\n",
       "      <td>1489</td>\n",
       "      <td>11</td>\n",
       "      <td>NaN</td>\n",
       "      <td>NaN</td>\n",
       "      <td>20.0</td>\n",
       "    </tr>\n",
       "    <tr>\n",
       "      <th>3212</th>\n",
       "      <td>NaN</td>\n",
       "      <td>1489</td>\n",
       "      <td>12</td>\n",
       "      <td>NaN</td>\n",
       "      <td>NaN</td>\n",
       "      <td>35.0</td>\n",
       "    </tr>\n",
       "  </tbody>\n",
       "</table>\n",
       "<p>3213 rows × 6 columns</p>\n",
       "</div>"
      ],
      "text/plain": [
       "      index  user_id  month  calls_duration  calls_amount    id\n",
       "0       0.0     1000      5           159.0          22.0  22.0\n",
       "1       1.0     1000      6           172.0          43.0  60.0\n",
       "2       2.0     1000      7           340.0          47.0  75.0\n",
       "3       3.0     1000      8           408.0          52.0  81.0\n",
       "4       4.0     1000      9           466.0          58.0  57.0\n",
       "...     ...      ...    ...             ...           ...   ...\n",
       "3208    NaN     1489      8             NaN           NaN  17.0\n",
       "3209    NaN     1489      9             NaN           NaN  32.0\n",
       "3210    NaN     1489     10             NaN           NaN  21.0\n",
       "3211    NaN     1489     11             NaN           NaN  20.0\n",
       "3212    NaN     1489     12             NaN           NaN  35.0\n",
       "\n",
       "[3213 rows x 6 columns]"
      ]
     },
     "metadata": {},
     "output_type": "display_data"
    }
   ],
   "source": [
    "#Посмотрим на новый датафрейм\n",
    "display(users_data_joined)"
   ]
  },
  {
   "cell_type": "markdown",
   "metadata": {},
   "source": [
    "У одного столбца неподходящие названия, изменим его:"
   ]
  },
  {
   "cell_type": "code",
   "execution_count": 65,
   "metadata": {},
   "outputs": [],
   "source": [
    "#Меняем название\n",
    "users_data_joined = users_data_joined.rename(columns = {'id': 'messages_amount'})"
   ]
  },
  {
   "cell_type": "markdown",
   "metadata": {},
   "source": [
    "Добавим к users_data_joined данные из internet_table:"
   ]
  },
  {
   "cell_type": "code",
   "execution_count": 66,
   "metadata": {},
   "outputs": [],
   "source": [
    "#Обьединим датафреймы\n",
    "users_data_joined = users_data_joined.merge(internet_table, on= ['user_id', 'month'],  how ='outer')"
   ]
  },
  {
   "cell_type": "code",
   "execution_count": 67,
   "metadata": {},
   "outputs": [],
   "source": [
    "#Округлим\n",
    "users_data_joined['gb_used'] =  np.ceil(users_data_joined['gb_used'])"
   ]
  },
  {
   "cell_type": "code",
   "execution_count": 68,
   "metadata": {},
   "outputs": [
    {
     "name": "stdout",
     "output_type": "stream",
     "text": [
      "<class 'pandas.core.frame.DataFrame'>\n",
      "Int64Index: 3214 entries, 0 to 3213\n",
      "Data columns (total 7 columns):\n",
      " #   Column           Non-Null Count  Dtype  \n",
      "---  ------           --------------  -----  \n",
      " 0   index            3174 non-null   float64\n",
      " 1   user_id          3214 non-null   int64  \n",
      " 2   month            3214 non-null   int64  \n",
      " 3   calls_duration   3174 non-null   float64\n",
      " 4   calls_amount     3174 non-null   float64\n",
      " 5   messages_amount  2717 non-null   float64\n",
      " 6   gb_used          3203 non-null   float64\n",
      "dtypes: float64(5), int64(2)\n",
      "memory usage: 200.9 KB\n"
     ]
    }
   ],
   "source": [
    "#Посмотрим информацию о датафрейме\n",
    "users_data_joined.info()"
   ]
  },
  {
   "cell_type": "markdown",
   "metadata": {},
   "source": [
    "Добавим к users_data_joined данные из users_table, таким образом в датафрейме будут указаны тарифы пользователей"
   ]
  },
  {
   "cell_type": "code",
   "execution_count": 69,
   "metadata": {},
   "outputs": [],
   "source": [
    "#Обьединяем таблицы\n",
    "users_data_joined = users_data_joined.merge(users_table, on= ['user_id'],  how ='outer')"
   ]
  },
  {
   "cell_type": "code",
   "execution_count": 70,
   "metadata": {},
   "outputs": [
    {
     "data": {
      "text/html": [
       "<div>\n",
       "<style scoped>\n",
       "    .dataframe tbody tr th:only-of-type {\n",
       "        vertical-align: middle;\n",
       "    }\n",
       "\n",
       "    .dataframe tbody tr th {\n",
       "        vertical-align: top;\n",
       "    }\n",
       "\n",
       "    .dataframe thead th {\n",
       "        text-align: right;\n",
       "    }\n",
       "</style>\n",
       "<table border=\"1\" class=\"dataframe\">\n",
       "  <thead>\n",
       "    <tr style=\"text-align: right;\">\n",
       "      <th></th>\n",
       "      <th>index</th>\n",
       "      <th>user_id</th>\n",
       "      <th>month</th>\n",
       "      <th>calls_duration</th>\n",
       "      <th>calls_amount</th>\n",
       "      <th>messages_amount</th>\n",
       "      <th>gb_used</th>\n",
       "      <th>tariff</th>\n",
       "    </tr>\n",
       "  </thead>\n",
       "  <tbody>\n",
       "    <tr>\n",
       "      <th>0</th>\n",
       "      <td>0.0</td>\n",
       "      <td>1000</td>\n",
       "      <td>5</td>\n",
       "      <td>159.0</td>\n",
       "      <td>22.0</td>\n",
       "      <td>22.0</td>\n",
       "      <td>3.0</td>\n",
       "      <td>ultra</td>\n",
       "    </tr>\n",
       "    <tr>\n",
       "      <th>1</th>\n",
       "      <td>1.0</td>\n",
       "      <td>1000</td>\n",
       "      <td>6</td>\n",
       "      <td>172.0</td>\n",
       "      <td>43.0</td>\n",
       "      <td>60.0</td>\n",
       "      <td>23.0</td>\n",
       "      <td>ultra</td>\n",
       "    </tr>\n",
       "    <tr>\n",
       "      <th>2</th>\n",
       "      <td>2.0</td>\n",
       "      <td>1000</td>\n",
       "      <td>7</td>\n",
       "      <td>340.0</td>\n",
       "      <td>47.0</td>\n",
       "      <td>75.0</td>\n",
       "      <td>14.0</td>\n",
       "      <td>ultra</td>\n",
       "    </tr>\n",
       "    <tr>\n",
       "      <th>3</th>\n",
       "      <td>3.0</td>\n",
       "      <td>1000</td>\n",
       "      <td>8</td>\n",
       "      <td>408.0</td>\n",
       "      <td>52.0</td>\n",
       "      <td>81.0</td>\n",
       "      <td>14.0</td>\n",
       "      <td>ultra</td>\n",
       "    </tr>\n",
       "    <tr>\n",
       "      <th>4</th>\n",
       "      <td>4.0</td>\n",
       "      <td>1000</td>\n",
       "      <td>9</td>\n",
       "      <td>466.0</td>\n",
       "      <td>58.0</td>\n",
       "      <td>57.0</td>\n",
       "      <td>15.0</td>\n",
       "      <td>ultra</td>\n",
       "    </tr>\n",
       "    <tr>\n",
       "      <th>...</th>\n",
       "      <td>...</td>\n",
       "      <td>...</td>\n",
       "      <td>...</td>\n",
       "      <td>...</td>\n",
       "      <td>...</td>\n",
       "      <td>...</td>\n",
       "      <td>...</td>\n",
       "      <td>...</td>\n",
       "    </tr>\n",
       "    <tr>\n",
       "      <th>3209</th>\n",
       "      <td>NaN</td>\n",
       "      <td>1489</td>\n",
       "      <td>8</td>\n",
       "      <td>NaN</td>\n",
       "      <td>NaN</td>\n",
       "      <td>17.0</td>\n",
       "      <td>11.0</td>\n",
       "      <td>smart</td>\n",
       "    </tr>\n",
       "    <tr>\n",
       "      <th>3210</th>\n",
       "      <td>NaN</td>\n",
       "      <td>1489</td>\n",
       "      <td>9</td>\n",
       "      <td>NaN</td>\n",
       "      <td>NaN</td>\n",
       "      <td>32.0</td>\n",
       "      <td>17.0</td>\n",
       "      <td>smart</td>\n",
       "    </tr>\n",
       "    <tr>\n",
       "      <th>3211</th>\n",
       "      <td>NaN</td>\n",
       "      <td>1489</td>\n",
       "      <td>10</td>\n",
       "      <td>NaN</td>\n",
       "      <td>NaN</td>\n",
       "      <td>21.0</td>\n",
       "      <td>20.0</td>\n",
       "      <td>smart</td>\n",
       "    </tr>\n",
       "    <tr>\n",
       "      <th>3212</th>\n",
       "      <td>NaN</td>\n",
       "      <td>1489</td>\n",
       "      <td>11</td>\n",
       "      <td>NaN</td>\n",
       "      <td>NaN</td>\n",
       "      <td>20.0</td>\n",
       "      <td>18.0</td>\n",
       "      <td>smart</td>\n",
       "    </tr>\n",
       "    <tr>\n",
       "      <th>3213</th>\n",
       "      <td>NaN</td>\n",
       "      <td>1489</td>\n",
       "      <td>12</td>\n",
       "      <td>NaN</td>\n",
       "      <td>NaN</td>\n",
       "      <td>35.0</td>\n",
       "      <td>17.0</td>\n",
       "      <td>smart</td>\n",
       "    </tr>\n",
       "  </tbody>\n",
       "</table>\n",
       "<p>3214 rows × 8 columns</p>\n",
       "</div>"
      ],
      "text/plain": [
       "      index  user_id  month  calls_duration  calls_amount  messages_amount  \\\n",
       "0       0.0     1000      5           159.0          22.0             22.0   \n",
       "1       1.0     1000      6           172.0          43.0             60.0   \n",
       "2       2.0     1000      7           340.0          47.0             75.0   \n",
       "3       3.0     1000      8           408.0          52.0             81.0   \n",
       "4       4.0     1000      9           466.0          58.0             57.0   \n",
       "...     ...      ...    ...             ...           ...              ...   \n",
       "3209    NaN     1489      8             NaN           NaN             17.0   \n",
       "3210    NaN     1489      9             NaN           NaN             32.0   \n",
       "3211    NaN     1489     10             NaN           NaN             21.0   \n",
       "3212    NaN     1489     11             NaN           NaN             20.0   \n",
       "3213    NaN     1489     12             NaN           NaN             35.0   \n",
       "\n",
       "      gb_used tariff  \n",
       "0         3.0  ultra  \n",
       "1        23.0  ultra  \n",
       "2        14.0  ultra  \n",
       "3        14.0  ultra  \n",
       "4        15.0  ultra  \n",
       "...       ...    ...  \n",
       "3209     11.0  smart  \n",
       "3210     17.0  smart  \n",
       "3211     20.0  smart  \n",
       "3212     18.0  smart  \n",
       "3213     17.0  smart  \n",
       "\n",
       "[3214 rows x 8 columns]"
      ]
     },
     "metadata": {},
     "output_type": "display_data"
    }
   ],
   "source": [
    "#Смотрим на общий датафрейм\n",
    "display(users_data_joined)"
   ]
  },
  {
   "cell_type": "code",
   "execution_count": 71,
   "metadata": {},
   "outputs": [
    {
     "name": "stdout",
     "output_type": "stream",
     "text": [
      "<class 'pandas.core.frame.DataFrame'>\n",
      "Int64Index: 3214 entries, 0 to 3213\n",
      "Data columns (total 8 columns):\n",
      " #   Column           Non-Null Count  Dtype  \n",
      "---  ------           --------------  -----  \n",
      " 0   index            3174 non-null   float64\n",
      " 1   user_id          3214 non-null   int64  \n",
      " 2   month            3214 non-null   int64  \n",
      " 3   calls_duration   3174 non-null   float64\n",
      " 4   calls_amount     3174 non-null   float64\n",
      " 5   messages_amount  2717 non-null   float64\n",
      " 6   gb_used          3203 non-null   float64\n",
      " 7   tariff           3214 non-null   object \n",
      "dtypes: float64(5), int64(2), object(1)\n",
      "memory usage: 226.0+ KB\n"
     ]
    }
   ],
   "source": [
    "#Посмотрим информацию о датафрейме\n",
    "users_data_joined.info()"
   ]
  },
  {
   "cell_type": "code",
   "execution_count": 72,
   "metadata": {},
   "outputs": [
    {
     "data": {
      "text/plain": [
       "index               40\n",
       "user_id              0\n",
       "month                0\n",
       "calls_duration      40\n",
       "calls_amount        40\n",
       "messages_amount    497\n",
       "gb_used             11\n",
       "tariff               0\n",
       "dtype: int64"
      ]
     },
     "execution_count": 72,
     "metadata": {},
     "output_type": "execute_result"
    }
   ],
   "source": [
    "#Посмотрим в каких столбцах есть Nan\n",
    "users_data_joined.isna().sum()"
   ]
  },
  {
   "cell_type": "markdown",
   "metadata": {},
   "source": [
    "на данном этапе я считаю логичным заменить все пропуски на 0, кроме пропусков в столбце месяца :"
   ]
  },
  {
   "cell_type": "code",
   "execution_count": 73,
   "metadata": {},
   "outputs": [],
   "source": [
    "users_data_joined['gb_used'] = users_data_joined['gb_used'].fillna(0)"
   ]
  },
  {
   "cell_type": "code",
   "execution_count": 74,
   "metadata": {},
   "outputs": [],
   "source": [
    "users_data_joined['calls_duration'] = users_data_joined['calls_duration'].fillna(0)"
   ]
  },
  {
   "cell_type": "code",
   "execution_count": 75,
   "metadata": {},
   "outputs": [],
   "source": [
    "users_data_joined['messages_amount'] = users_data_joined['messages_amount'].fillna(0)"
   ]
  },
  {
   "cell_type": "code",
   "execution_count": 76,
   "metadata": {},
   "outputs": [],
   "source": [
    "users_data_joined['calls_amount'] = users_data_joined['calls_amount'].fillna(0)"
   ]
  },
  {
   "cell_type": "code",
   "execution_count": 77,
   "metadata": {},
   "outputs": [
    {
     "data": {
      "text/plain": [
       "index              40\n",
       "user_id             0\n",
       "month               0\n",
       "calls_duration      0\n",
       "calls_amount        0\n",
       "messages_amount     0\n",
       "gb_used             0\n",
       "tariff              0\n",
       "dtype: int64"
      ]
     },
     "execution_count": 77,
     "metadata": {},
     "output_type": "execute_result"
    }
   ],
   "source": [
    "#Проверка замен\n",
    "users_data_joined.isna().sum()"
   ]
  },
  {
   "cell_type": "markdown",
   "metadata": {},
   "source": [
    "Значения отсутствуют только в столбце с индексами,чуть позже мы удалим его по причине ненадобности"
   ]
  },
  {
   "cell_type": "code",
   "execution_count": 78,
   "metadata": {},
   "outputs": [
    {
     "data": {
      "text/html": [
       "<div>\n",
       "<style scoped>\n",
       "    .dataframe tbody tr th:only-of-type {\n",
       "        vertical-align: middle;\n",
       "    }\n",
       "\n",
       "    .dataframe tbody tr th {\n",
       "        vertical-align: top;\n",
       "    }\n",
       "\n",
       "    .dataframe thead th {\n",
       "        text-align: right;\n",
       "    }\n",
       "</style>\n",
       "<table border=\"1\" class=\"dataframe\">\n",
       "  <thead>\n",
       "    <tr style=\"text-align: right;\">\n",
       "      <th></th>\n",
       "      <th>index</th>\n",
       "      <th>user_id</th>\n",
       "      <th>month</th>\n",
       "      <th>calls_duration</th>\n",
       "      <th>calls_amount</th>\n",
       "      <th>messages_amount</th>\n",
       "      <th>gb_used</th>\n",
       "      <th>tariff</th>\n",
       "    </tr>\n",
       "  </thead>\n",
       "  <tbody>\n",
       "    <tr>\n",
       "      <th>0</th>\n",
       "      <td>0.0</td>\n",
       "      <td>1000</td>\n",
       "      <td>5</td>\n",
       "      <td>159.0</td>\n",
       "      <td>22.0</td>\n",
       "      <td>22.0</td>\n",
       "      <td>3.0</td>\n",
       "      <td>ultra</td>\n",
       "    </tr>\n",
       "    <tr>\n",
       "      <th>1</th>\n",
       "      <td>1.0</td>\n",
       "      <td>1000</td>\n",
       "      <td>6</td>\n",
       "      <td>172.0</td>\n",
       "      <td>43.0</td>\n",
       "      <td>60.0</td>\n",
       "      <td>23.0</td>\n",
       "      <td>ultra</td>\n",
       "    </tr>\n",
       "    <tr>\n",
       "      <th>2</th>\n",
       "      <td>2.0</td>\n",
       "      <td>1000</td>\n",
       "      <td>7</td>\n",
       "      <td>340.0</td>\n",
       "      <td>47.0</td>\n",
       "      <td>75.0</td>\n",
       "      <td>14.0</td>\n",
       "      <td>ultra</td>\n",
       "    </tr>\n",
       "    <tr>\n",
       "      <th>3</th>\n",
       "      <td>3.0</td>\n",
       "      <td>1000</td>\n",
       "      <td>8</td>\n",
       "      <td>408.0</td>\n",
       "      <td>52.0</td>\n",
       "      <td>81.0</td>\n",
       "      <td>14.0</td>\n",
       "      <td>ultra</td>\n",
       "    </tr>\n",
       "    <tr>\n",
       "      <th>4</th>\n",
       "      <td>4.0</td>\n",
       "      <td>1000</td>\n",
       "      <td>9</td>\n",
       "      <td>466.0</td>\n",
       "      <td>58.0</td>\n",
       "      <td>57.0</td>\n",
       "      <td>15.0</td>\n",
       "      <td>ultra</td>\n",
       "    </tr>\n",
       "    <tr>\n",
       "      <th>...</th>\n",
       "      <td>...</td>\n",
       "      <td>...</td>\n",
       "      <td>...</td>\n",
       "      <td>...</td>\n",
       "      <td>...</td>\n",
       "      <td>...</td>\n",
       "      <td>...</td>\n",
       "      <td>...</td>\n",
       "    </tr>\n",
       "    <tr>\n",
       "      <th>3209</th>\n",
       "      <td>NaN</td>\n",
       "      <td>1489</td>\n",
       "      <td>8</td>\n",
       "      <td>0.0</td>\n",
       "      <td>0.0</td>\n",
       "      <td>17.0</td>\n",
       "      <td>11.0</td>\n",
       "      <td>smart</td>\n",
       "    </tr>\n",
       "    <tr>\n",
       "      <th>3210</th>\n",
       "      <td>NaN</td>\n",
       "      <td>1489</td>\n",
       "      <td>9</td>\n",
       "      <td>0.0</td>\n",
       "      <td>0.0</td>\n",
       "      <td>32.0</td>\n",
       "      <td>17.0</td>\n",
       "      <td>smart</td>\n",
       "    </tr>\n",
       "    <tr>\n",
       "      <th>3211</th>\n",
       "      <td>NaN</td>\n",
       "      <td>1489</td>\n",
       "      <td>10</td>\n",
       "      <td>0.0</td>\n",
       "      <td>0.0</td>\n",
       "      <td>21.0</td>\n",
       "      <td>20.0</td>\n",
       "      <td>smart</td>\n",
       "    </tr>\n",
       "    <tr>\n",
       "      <th>3212</th>\n",
       "      <td>NaN</td>\n",
       "      <td>1489</td>\n",
       "      <td>11</td>\n",
       "      <td>0.0</td>\n",
       "      <td>0.0</td>\n",
       "      <td>20.0</td>\n",
       "      <td>18.0</td>\n",
       "      <td>smart</td>\n",
       "    </tr>\n",
       "    <tr>\n",
       "      <th>3213</th>\n",
       "      <td>NaN</td>\n",
       "      <td>1489</td>\n",
       "      <td>12</td>\n",
       "      <td>0.0</td>\n",
       "      <td>0.0</td>\n",
       "      <td>35.0</td>\n",
       "      <td>17.0</td>\n",
       "      <td>smart</td>\n",
       "    </tr>\n",
       "  </tbody>\n",
       "</table>\n",
       "<p>3214 rows × 8 columns</p>\n",
       "</div>"
      ],
      "text/plain": [
       "      index  user_id  month  calls_duration  calls_amount  messages_amount  \\\n",
       "0       0.0     1000      5           159.0          22.0             22.0   \n",
       "1       1.0     1000      6           172.0          43.0             60.0   \n",
       "2       2.0     1000      7           340.0          47.0             75.0   \n",
       "3       3.0     1000      8           408.0          52.0             81.0   \n",
       "4       4.0     1000      9           466.0          58.0             57.0   \n",
       "...     ...      ...    ...             ...           ...              ...   \n",
       "3209    NaN     1489      8             0.0           0.0             17.0   \n",
       "3210    NaN     1489      9             0.0           0.0             32.0   \n",
       "3211    NaN     1489     10             0.0           0.0             21.0   \n",
       "3212    NaN     1489     11             0.0           0.0             20.0   \n",
       "3213    NaN     1489     12             0.0           0.0             35.0   \n",
       "\n",
       "      gb_used tariff  \n",
       "0         3.0  ultra  \n",
       "1        23.0  ultra  \n",
       "2        14.0  ultra  \n",
       "3        14.0  ultra  \n",
       "4        15.0  ultra  \n",
       "...       ...    ...  \n",
       "3209     11.0  smart  \n",
       "3210     17.0  smart  \n",
       "3211     20.0  smart  \n",
       "3212     18.0  smart  \n",
       "3213     17.0  smart  \n",
       "\n",
       "[3214 rows x 8 columns]"
      ]
     },
     "metadata": {},
     "output_type": "display_data"
    }
   ],
   "source": [
    "display(users_data_joined)"
   ]
  },
  {
   "cell_type": "markdown",
   "metadata": {},
   "source": [
    "Ранее мы округлили значения в двух столбцах, если значения стали целыми, логично перевести их в целочисленный тип данных "
   ]
  },
  {
   "cell_type": "code",
   "execution_count": 79,
   "metadata": {},
   "outputs": [],
   "source": [
    "users_data_joined['gb_used'] = users_data_joined['gb_used'].astype(int)"
   ]
  },
  {
   "cell_type": "code",
   "execution_count": 80,
   "metadata": {},
   "outputs": [
    {
     "data": {
      "text/html": [
       "<div>\n",
       "<style scoped>\n",
       "    .dataframe tbody tr th:only-of-type {\n",
       "        vertical-align: middle;\n",
       "    }\n",
       "\n",
       "    .dataframe tbody tr th {\n",
       "        vertical-align: top;\n",
       "    }\n",
       "\n",
       "    .dataframe thead th {\n",
       "        text-align: right;\n",
       "    }\n",
       "</style>\n",
       "<table border=\"1\" class=\"dataframe\">\n",
       "  <thead>\n",
       "    <tr style=\"text-align: right;\">\n",
       "      <th></th>\n",
       "      <th>Unnamed: 0</th>\n",
       "      <th>id</th>\n",
       "      <th>mb_used</th>\n",
       "      <th>session_date</th>\n",
       "      <th>user_id</th>\n",
       "      <th>month</th>\n",
       "      <th>gb_used</th>\n",
       "    </tr>\n",
       "  </thead>\n",
       "  <tbody>\n",
       "    <tr>\n",
       "      <th>0</th>\n",
       "      <td>0</td>\n",
       "      <td>1000_0</td>\n",
       "      <td>112.95</td>\n",
       "      <td>2018-11-25</td>\n",
       "      <td>1000</td>\n",
       "      <td>11</td>\n",
       "      <td>0.110303</td>\n",
       "    </tr>\n",
       "    <tr>\n",
       "      <th>1</th>\n",
       "      <td>1</td>\n",
       "      <td>1000_1</td>\n",
       "      <td>1052.81</td>\n",
       "      <td>2018-09-07</td>\n",
       "      <td>1000</td>\n",
       "      <td>9</td>\n",
       "      <td>1.028135</td>\n",
       "    </tr>\n",
       "    <tr>\n",
       "      <th>2</th>\n",
       "      <td>2</td>\n",
       "      <td>1000_2</td>\n",
       "      <td>1197.26</td>\n",
       "      <td>2018-06-25</td>\n",
       "      <td>1000</td>\n",
       "      <td>6</td>\n",
       "      <td>1.169199</td>\n",
       "    </tr>\n",
       "    <tr>\n",
       "      <th>3</th>\n",
       "      <td>3</td>\n",
       "      <td>1000_3</td>\n",
       "      <td>550.27</td>\n",
       "      <td>2018-08-22</td>\n",
       "      <td>1000</td>\n",
       "      <td>8</td>\n",
       "      <td>0.537373</td>\n",
       "    </tr>\n",
       "    <tr>\n",
       "      <th>4</th>\n",
       "      <td>4</td>\n",
       "      <td>1000_4</td>\n",
       "      <td>302.56</td>\n",
       "      <td>2018-09-24</td>\n",
       "      <td>1000</td>\n",
       "      <td>9</td>\n",
       "      <td>0.295469</td>\n",
       "    </tr>\n",
       "    <tr>\n",
       "      <th>5</th>\n",
       "      <td>5</td>\n",
       "      <td>1000_5</td>\n",
       "      <td>399.97</td>\n",
       "      <td>2018-10-02</td>\n",
       "      <td>1000</td>\n",
       "      <td>10</td>\n",
       "      <td>0.390596</td>\n",
       "    </tr>\n",
       "    <tr>\n",
       "      <th>6</th>\n",
       "      <td>6</td>\n",
       "      <td>1000_6</td>\n",
       "      <td>540.08</td>\n",
       "      <td>2018-09-07</td>\n",
       "      <td>1000</td>\n",
       "      <td>9</td>\n",
       "      <td>0.527422</td>\n",
       "    </tr>\n",
       "    <tr>\n",
       "      <th>7</th>\n",
       "      <td>7</td>\n",
       "      <td>1000_7</td>\n",
       "      <td>415.70</td>\n",
       "      <td>2018-07-11</td>\n",
       "      <td>1000</td>\n",
       "      <td>7</td>\n",
       "      <td>0.405957</td>\n",
       "    </tr>\n",
       "    <tr>\n",
       "      <th>8</th>\n",
       "      <td>8</td>\n",
       "      <td>1000_8</td>\n",
       "      <td>505.40</td>\n",
       "      <td>2018-10-08</td>\n",
       "      <td>1000</td>\n",
       "      <td>10</td>\n",
       "      <td>0.493555</td>\n",
       "    </tr>\n",
       "    <tr>\n",
       "      <th>9</th>\n",
       "      <td>9</td>\n",
       "      <td>1000_9</td>\n",
       "      <td>345.54</td>\n",
       "      <td>2018-09-03</td>\n",
       "      <td>1000</td>\n",
       "      <td>9</td>\n",
       "      <td>0.337441</td>\n",
       "    </tr>\n",
       "    <tr>\n",
       "      <th>10</th>\n",
       "      <td>10</td>\n",
       "      <td>1000_10</td>\n",
       "      <td>385.14</td>\n",
       "      <td>2018-09-27</td>\n",
       "      <td>1000</td>\n",
       "      <td>9</td>\n",
       "      <td>0.376113</td>\n",
       "    </tr>\n",
       "    <tr>\n",
       "      <th>11</th>\n",
       "      <td>11</td>\n",
       "      <td>1000_11</td>\n",
       "      <td>0.00</td>\n",
       "      <td>2018-08-28</td>\n",
       "      <td>1000</td>\n",
       "      <td>8</td>\n",
       "      <td>0.000000</td>\n",
       "    </tr>\n",
       "  </tbody>\n",
       "</table>\n",
       "</div>"
      ],
      "text/plain": [
       "    Unnamed: 0       id  mb_used session_date  user_id  month   gb_used\n",
       "0            0   1000_0   112.95   2018-11-25     1000     11  0.110303\n",
       "1            1   1000_1  1052.81   2018-09-07     1000      9  1.028135\n",
       "2            2   1000_2  1197.26   2018-06-25     1000      6  1.169199\n",
       "3            3   1000_3   550.27   2018-08-22     1000      8  0.537373\n",
       "4            4   1000_4   302.56   2018-09-24     1000      9  0.295469\n",
       "5            5   1000_5   399.97   2018-10-02     1000     10  0.390596\n",
       "6            6   1000_6   540.08   2018-09-07     1000      9  0.527422\n",
       "7            7   1000_7   415.70   2018-07-11     1000      7  0.405957\n",
       "8            8   1000_8   505.40   2018-10-08     1000     10  0.493555\n",
       "9            9   1000_9   345.54   2018-09-03     1000      9  0.337441\n",
       "10          10  1000_10   385.14   2018-09-27     1000      9  0.376113\n",
       "11          11  1000_11     0.00   2018-08-28     1000      8  0.000000"
      ]
     },
     "metadata": {},
     "output_type": "display_data"
    },
    {
     "data": {
      "text/html": [
       "<div>\n",
       "<style scoped>\n",
       "    .dataframe tbody tr th:only-of-type {\n",
       "        vertical-align: middle;\n",
       "    }\n",
       "\n",
       "    .dataframe tbody tr th {\n",
       "        vertical-align: top;\n",
       "    }\n",
       "\n",
       "    .dataframe thead th {\n",
       "        text-align: right;\n",
       "    }\n",
       "</style>\n",
       "<table border=\"1\" class=\"dataframe\">\n",
       "  <thead>\n",
       "    <tr style=\"text-align: right;\">\n",
       "      <th></th>\n",
       "      <th>user_id</th>\n",
       "      <th>month</th>\n",
       "      <th>gb_used</th>\n",
       "    </tr>\n",
       "  </thead>\n",
       "  <tbody>\n",
       "    <tr>\n",
       "      <th>0</th>\n",
       "      <td>1000</td>\n",
       "      <td>5</td>\n",
       "      <td>2.200674</td>\n",
       "    </tr>\n",
       "    <tr>\n",
       "      <th>1</th>\n",
       "      <td>1000</td>\n",
       "      <td>6</td>\n",
       "      <td>22.689229</td>\n",
       "    </tr>\n",
       "    <tr>\n",
       "      <th>2</th>\n",
       "      <td>1000</td>\n",
       "      <td>7</td>\n",
       "      <td>13.675430</td>\n",
       "    </tr>\n",
       "    <tr>\n",
       "      <th>3</th>\n",
       "      <td>1000</td>\n",
       "      <td>8</td>\n",
       "      <td>13.726494</td>\n",
       "    </tr>\n",
       "    <tr>\n",
       "      <th>4</th>\n",
       "      <td>1000</td>\n",
       "      <td>9</td>\n",
       "      <td>14.227451</td>\n",
       "    </tr>\n",
       "    <tr>\n",
       "      <th>5</th>\n",
       "      <td>1000</td>\n",
       "      <td>10</td>\n",
       "      <td>14.357900</td>\n",
       "    </tr>\n",
       "    <tr>\n",
       "      <th>6</th>\n",
       "      <td>1000</td>\n",
       "      <td>11</td>\n",
       "      <td>14.410615</td>\n",
       "    </tr>\n",
       "    <tr>\n",
       "      <th>7</th>\n",
       "      <td>1000</td>\n",
       "      <td>12</td>\n",
       "      <td>9.587510</td>\n",
       "    </tr>\n",
       "    <tr>\n",
       "      <th>8</th>\n",
       "      <td>1001</td>\n",
       "      <td>11</td>\n",
       "      <td>17.997402</td>\n",
       "    </tr>\n",
       "    <tr>\n",
       "      <th>9</th>\n",
       "      <td>1001</td>\n",
       "      <td>12</td>\n",
       "      <td>13.707676</td>\n",
       "    </tr>\n",
       "    <tr>\n",
       "      <th>10</th>\n",
       "      <td>1002</td>\n",
       "      <td>6</td>\n",
       "      <td>10.602363</td>\n",
       "    </tr>\n",
       "    <tr>\n",
       "      <th>11</th>\n",
       "      <td>1002</td>\n",
       "      <td>7</td>\n",
       "      <td>17.168066</td>\n",
       "    </tr>\n",
       "  </tbody>\n",
       "</table>\n",
       "</div>"
      ],
      "text/plain": [
       "    user_id  month    gb_used\n",
       "0      1000      5   2.200674\n",
       "1      1000      6  22.689229\n",
       "2      1000      7  13.675430\n",
       "3      1000      8  13.726494\n",
       "4      1000      9  14.227451\n",
       "5      1000     10  14.357900\n",
       "6      1000     11  14.410615\n",
       "7      1000     12   9.587510\n",
       "8      1001     11  17.997402\n",
       "9      1001     12  13.707676\n",
       "10     1002      6  10.602363\n",
       "11     1002      7  17.168066"
      ]
     },
     "metadata": {},
     "output_type": "display_data"
    },
    {
     "data": {
      "text/html": [
       "<div>\n",
       "<style scoped>\n",
       "    .dataframe tbody tr th:only-of-type {\n",
       "        vertical-align: middle;\n",
       "    }\n",
       "\n",
       "    .dataframe tbody tr th {\n",
       "        vertical-align: top;\n",
       "    }\n",
       "\n",
       "    .dataframe thead th {\n",
       "        text-align: right;\n",
       "    }\n",
       "</style>\n",
       "<table border=\"1\" class=\"dataframe\">\n",
       "  <thead>\n",
       "    <tr style=\"text-align: right;\">\n",
       "      <th></th>\n",
       "      <th>index</th>\n",
       "      <th>user_id</th>\n",
       "      <th>month</th>\n",
       "      <th>calls_duration</th>\n",
       "      <th>calls_amount</th>\n",
       "      <th>messages_amount</th>\n",
       "      <th>gb_used</th>\n",
       "      <th>tariff</th>\n",
       "    </tr>\n",
       "  </thead>\n",
       "  <tbody>\n",
       "    <tr>\n",
       "      <th>0</th>\n",
       "      <td>0.0</td>\n",
       "      <td>1000</td>\n",
       "      <td>5</td>\n",
       "      <td>159.0</td>\n",
       "      <td>22.0</td>\n",
       "      <td>22.0</td>\n",
       "      <td>3</td>\n",
       "      <td>ultra</td>\n",
       "    </tr>\n",
       "    <tr>\n",
       "      <th>1</th>\n",
       "      <td>1.0</td>\n",
       "      <td>1000</td>\n",
       "      <td>6</td>\n",
       "      <td>172.0</td>\n",
       "      <td>43.0</td>\n",
       "      <td>60.0</td>\n",
       "      <td>23</td>\n",
       "      <td>ultra</td>\n",
       "    </tr>\n",
       "    <tr>\n",
       "      <th>2</th>\n",
       "      <td>2.0</td>\n",
       "      <td>1000</td>\n",
       "      <td>7</td>\n",
       "      <td>340.0</td>\n",
       "      <td>47.0</td>\n",
       "      <td>75.0</td>\n",
       "      <td>14</td>\n",
       "      <td>ultra</td>\n",
       "    </tr>\n",
       "    <tr>\n",
       "      <th>3</th>\n",
       "      <td>3.0</td>\n",
       "      <td>1000</td>\n",
       "      <td>8</td>\n",
       "      <td>408.0</td>\n",
       "      <td>52.0</td>\n",
       "      <td>81.0</td>\n",
       "      <td>14</td>\n",
       "      <td>ultra</td>\n",
       "    </tr>\n",
       "    <tr>\n",
       "      <th>4</th>\n",
       "      <td>4.0</td>\n",
       "      <td>1000</td>\n",
       "      <td>9</td>\n",
       "      <td>466.0</td>\n",
       "      <td>58.0</td>\n",
       "      <td>57.0</td>\n",
       "      <td>15</td>\n",
       "      <td>ultra</td>\n",
       "    </tr>\n",
       "    <tr>\n",
       "      <th>5</th>\n",
       "      <td>5.0</td>\n",
       "      <td>1000</td>\n",
       "      <td>10</td>\n",
       "      <td>350.0</td>\n",
       "      <td>57.0</td>\n",
       "      <td>73.0</td>\n",
       "      <td>15</td>\n",
       "      <td>ultra</td>\n",
       "    </tr>\n",
       "    <tr>\n",
       "      <th>6</th>\n",
       "      <td>6.0</td>\n",
       "      <td>1000</td>\n",
       "      <td>11</td>\n",
       "      <td>338.0</td>\n",
       "      <td>43.0</td>\n",
       "      <td>58.0</td>\n",
       "      <td>15</td>\n",
       "      <td>ultra</td>\n",
       "    </tr>\n",
       "    <tr>\n",
       "      <th>7</th>\n",
       "      <td>7.0</td>\n",
       "      <td>1000</td>\n",
       "      <td>12</td>\n",
       "      <td>333.0</td>\n",
       "      <td>46.0</td>\n",
       "      <td>70.0</td>\n",
       "      <td>10</td>\n",
       "      <td>ultra</td>\n",
       "    </tr>\n",
       "    <tr>\n",
       "      <th>8</th>\n",
       "      <td>8.0</td>\n",
       "      <td>1001</td>\n",
       "      <td>11</td>\n",
       "      <td>430.0</td>\n",
       "      <td>59.0</td>\n",
       "      <td>0.0</td>\n",
       "      <td>18</td>\n",
       "      <td>smart</td>\n",
       "    </tr>\n",
       "    <tr>\n",
       "      <th>9</th>\n",
       "      <td>9.0</td>\n",
       "      <td>1001</td>\n",
       "      <td>12</td>\n",
       "      <td>414.0</td>\n",
       "      <td>63.0</td>\n",
       "      <td>0.0</td>\n",
       "      <td>14</td>\n",
       "      <td>smart</td>\n",
       "    </tr>\n",
       "    <tr>\n",
       "      <th>10</th>\n",
       "      <td>10.0</td>\n",
       "      <td>1002</td>\n",
       "      <td>6</td>\n",
       "      <td>117.0</td>\n",
       "      <td>15.0</td>\n",
       "      <td>4.0</td>\n",
       "      <td>11</td>\n",
       "      <td>smart</td>\n",
       "    </tr>\n",
       "    <tr>\n",
       "      <th>11</th>\n",
       "      <td>11.0</td>\n",
       "      <td>1002</td>\n",
       "      <td>7</td>\n",
       "      <td>214.0</td>\n",
       "      <td>26.0</td>\n",
       "      <td>11.0</td>\n",
       "      <td>18</td>\n",
       "      <td>smart</td>\n",
       "    </tr>\n",
       "  </tbody>\n",
       "</table>\n",
       "</div>"
      ],
      "text/plain": [
       "    index  user_id  month  calls_duration  calls_amount  messages_amount  \\\n",
       "0     0.0     1000      5           159.0          22.0             22.0   \n",
       "1     1.0     1000      6           172.0          43.0             60.0   \n",
       "2     2.0     1000      7           340.0          47.0             75.0   \n",
       "3     3.0     1000      8           408.0          52.0             81.0   \n",
       "4     4.0     1000      9           466.0          58.0             57.0   \n",
       "5     5.0     1000     10           350.0          57.0             73.0   \n",
       "6     6.0     1000     11           338.0          43.0             58.0   \n",
       "7     7.0     1000     12           333.0          46.0             70.0   \n",
       "8     8.0     1001     11           430.0          59.0              0.0   \n",
       "9     9.0     1001     12           414.0          63.0              0.0   \n",
       "10   10.0     1002      6           117.0          15.0              4.0   \n",
       "11   11.0     1002      7           214.0          26.0             11.0   \n",
       "\n",
       "    gb_used tariff  \n",
       "0         3  ultra  \n",
       "1        23  ultra  \n",
       "2        14  ultra  \n",
       "3        14  ultra  \n",
       "4        15  ultra  \n",
       "5        15  ultra  \n",
       "6        15  ultra  \n",
       "7        10  ultra  \n",
       "8        18  smart  \n",
       "9        14  smart  \n",
       "10       11  smart  \n",
       "11       18  smart  "
      ]
     },
     "metadata": {},
     "output_type": "display_data"
    }
   ],
   "source": [
    "# Комментарий ревьюера 3\n",
    "display(internet_df.head(12))\n",
    "display(internet_table.head(12))\n",
    "display(users_data_joined.head(12))"
   ]
  },
  {
   "cell_type": "code",
   "execution_count": 81,
   "metadata": {},
   "outputs": [],
   "source": [
    "users_data_joined['calls_duration'] = users_data_joined['calls_duration'].astype(int)"
   ]
  },
  {
   "cell_type": "code",
   "execution_count": 82,
   "metadata": {},
   "outputs": [
    {
     "name": "stdout",
     "output_type": "stream",
     "text": [
      "<class 'pandas.core.frame.DataFrame'>\n",
      "Int64Index: 3214 entries, 0 to 3213\n",
      "Data columns (total 8 columns):\n",
      " #   Column           Non-Null Count  Dtype  \n",
      "---  ------           --------------  -----  \n",
      " 0   index            3174 non-null   float64\n",
      " 1   user_id          3214 non-null   int64  \n",
      " 2   month            3214 non-null   int64  \n",
      " 3   calls_duration   3214 non-null   int64  \n",
      " 4   calls_amount     3214 non-null   float64\n",
      " 5   messages_amount  3214 non-null   float64\n",
      " 6   gb_used          3214 non-null   int64  \n",
      " 7   tariff           3214 non-null   object \n",
      "dtypes: float64(3), int64(4), object(1)\n",
      "memory usage: 226.0+ KB\n"
     ]
    }
   ],
   "source": [
    "#Проверка изменения\n",
    "users_data_joined.info()"
   ]
  },
  {
   "cell_type": "markdown",
   "metadata": {},
   "source": [
    "Еще в паре столбцов нужно изменить типы данных на более подходящие. Количество звонков, сообщений и месяца не могут быть не целыми числами"
   ]
  },
  {
   "cell_type": "code",
   "execution_count": 83,
   "metadata": {},
   "outputs": [],
   "source": [
    "users_data_joined['calls_amount'] = users_data_joined['calls_amount'].astype(int)"
   ]
  },
  {
   "cell_type": "code",
   "execution_count": 84,
   "metadata": {},
   "outputs": [],
   "source": [
    "users_data_joined['messages_amount'] = users_data_joined['messages_amount'].astype(int)"
   ]
  },
  {
   "cell_type": "code",
   "execution_count": 85,
   "metadata": {},
   "outputs": [],
   "source": [
    "users_data_joined['month'] = users_data_joined['month'].astype(int)"
   ]
  },
  {
   "cell_type": "code",
   "execution_count": 86,
   "metadata": {},
   "outputs": [
    {
     "name": "stdout",
     "output_type": "stream",
     "text": [
      "<class 'pandas.core.frame.DataFrame'>\n",
      "Int64Index: 3214 entries, 0 to 3213\n",
      "Data columns (total 8 columns):\n",
      " #   Column           Non-Null Count  Dtype  \n",
      "---  ------           --------------  -----  \n",
      " 0   index            3174 non-null   float64\n",
      " 1   user_id          3214 non-null   int64  \n",
      " 2   month            3214 non-null   int64  \n",
      " 3   calls_duration   3214 non-null   int64  \n",
      " 4   calls_amount     3214 non-null   int64  \n",
      " 5   messages_amount  3214 non-null   int64  \n",
      " 6   gb_used          3214 non-null   int64  \n",
      " 7   tariff           3214 non-null   object \n",
      "dtypes: float64(1), int64(6), object(1)\n",
      "memory usage: 226.0+ KB\n"
     ]
    }
   ],
   "source": [
    "#Проверка изменения\n",
    "users_data_joined.info()"
   ]
  },
  {
   "cell_type": "markdown",
   "metadata": {},
   "source": [
    "Напишем функцию для подсчёта помесячной выручки"
   ]
  },
  {
   "cell_type": "code",
   "execution_count": 87,
   "metadata": {},
   "outputs": [
    {
     "data": {
      "text/html": [
       "<div>\n",
       "<style scoped>\n",
       "    .dataframe tbody tr th:only-of-type {\n",
       "        vertical-align: middle;\n",
       "    }\n",
       "\n",
       "    .dataframe tbody tr th {\n",
       "        vertical-align: top;\n",
       "    }\n",
       "\n",
       "    .dataframe thead th {\n",
       "        text-align: right;\n",
       "    }\n",
       "</style>\n",
       "<table border=\"1\" class=\"dataframe\">\n",
       "  <thead>\n",
       "    <tr style=\"text-align: right;\">\n",
       "      <th></th>\n",
       "      <th>index</th>\n",
       "      <th>user_id</th>\n",
       "      <th>month</th>\n",
       "      <th>calls_duration</th>\n",
       "      <th>calls_amount</th>\n",
       "      <th>messages_amount</th>\n",
       "      <th>gb_used</th>\n",
       "      <th>tariff</th>\n",
       "      <th>tariff_expenses</th>\n",
       "    </tr>\n",
       "  </thead>\n",
       "  <tbody>\n",
       "    <tr>\n",
       "      <th>0</th>\n",
       "      <td>0.0</td>\n",
       "      <td>1000</td>\n",
       "      <td>5</td>\n",
       "      <td>159</td>\n",
       "      <td>22</td>\n",
       "      <td>22</td>\n",
       "      <td>3</td>\n",
       "      <td>ultra</td>\n",
       "      <td>1950</td>\n",
       "    </tr>\n",
       "    <tr>\n",
       "      <th>1</th>\n",
       "      <td>1.0</td>\n",
       "      <td>1000</td>\n",
       "      <td>6</td>\n",
       "      <td>172</td>\n",
       "      <td>43</td>\n",
       "      <td>60</td>\n",
       "      <td>23</td>\n",
       "      <td>ultra</td>\n",
       "      <td>1950</td>\n",
       "    </tr>\n",
       "    <tr>\n",
       "      <th>2</th>\n",
       "      <td>2.0</td>\n",
       "      <td>1000</td>\n",
       "      <td>7</td>\n",
       "      <td>340</td>\n",
       "      <td>47</td>\n",
       "      <td>75</td>\n",
       "      <td>14</td>\n",
       "      <td>ultra</td>\n",
       "      <td>1950</td>\n",
       "    </tr>\n",
       "    <tr>\n",
       "      <th>3</th>\n",
       "      <td>3.0</td>\n",
       "      <td>1000</td>\n",
       "      <td>8</td>\n",
       "      <td>408</td>\n",
       "      <td>52</td>\n",
       "      <td>81</td>\n",
       "      <td>14</td>\n",
       "      <td>ultra</td>\n",
       "      <td>1950</td>\n",
       "    </tr>\n",
       "    <tr>\n",
       "      <th>4</th>\n",
       "      <td>4.0</td>\n",
       "      <td>1000</td>\n",
       "      <td>9</td>\n",
       "      <td>466</td>\n",
       "      <td>58</td>\n",
       "      <td>57</td>\n",
       "      <td>15</td>\n",
       "      <td>ultra</td>\n",
       "      <td>1950</td>\n",
       "    </tr>\n",
       "    <tr>\n",
       "      <th>5</th>\n",
       "      <td>5.0</td>\n",
       "      <td>1000</td>\n",
       "      <td>10</td>\n",
       "      <td>350</td>\n",
       "      <td>57</td>\n",
       "      <td>73</td>\n",
       "      <td>15</td>\n",
       "      <td>ultra</td>\n",
       "      <td>1950</td>\n",
       "    </tr>\n",
       "    <tr>\n",
       "      <th>6</th>\n",
       "      <td>6.0</td>\n",
       "      <td>1000</td>\n",
       "      <td>11</td>\n",
       "      <td>338</td>\n",
       "      <td>43</td>\n",
       "      <td>58</td>\n",
       "      <td>15</td>\n",
       "      <td>ultra</td>\n",
       "      <td>1950</td>\n",
       "    </tr>\n",
       "    <tr>\n",
       "      <th>7</th>\n",
       "      <td>7.0</td>\n",
       "      <td>1000</td>\n",
       "      <td>12</td>\n",
       "      <td>333</td>\n",
       "      <td>46</td>\n",
       "      <td>70</td>\n",
       "      <td>10</td>\n",
       "      <td>ultra</td>\n",
       "      <td>1950</td>\n",
       "    </tr>\n",
       "    <tr>\n",
       "      <th>8</th>\n",
       "      <td>8.0</td>\n",
       "      <td>1001</td>\n",
       "      <td>11</td>\n",
       "      <td>430</td>\n",
       "      <td>59</td>\n",
       "      <td>0</td>\n",
       "      <td>18</td>\n",
       "      <td>smart</td>\n",
       "      <td>1150</td>\n",
       "    </tr>\n",
       "    <tr>\n",
       "      <th>9</th>\n",
       "      <td>9.0</td>\n",
       "      <td>1001</td>\n",
       "      <td>12</td>\n",
       "      <td>414</td>\n",
       "      <td>63</td>\n",
       "      <td>0</td>\n",
       "      <td>14</td>\n",
       "      <td>smart</td>\n",
       "      <td>550</td>\n",
       "    </tr>\n",
       "    <tr>\n",
       "      <th>10</th>\n",
       "      <td>10.0</td>\n",
       "      <td>1002</td>\n",
       "      <td>6</td>\n",
       "      <td>117</td>\n",
       "      <td>15</td>\n",
       "      <td>4</td>\n",
       "      <td>11</td>\n",
       "      <td>smart</td>\n",
       "      <td>550</td>\n",
       "    </tr>\n",
       "    <tr>\n",
       "      <th>11</th>\n",
       "      <td>11.0</td>\n",
       "      <td>1002</td>\n",
       "      <td>7</td>\n",
       "      <td>214</td>\n",
       "      <td>26</td>\n",
       "      <td>11</td>\n",
       "      <td>18</td>\n",
       "      <td>smart</td>\n",
       "      <td>1150</td>\n",
       "    </tr>\n",
       "    <tr>\n",
       "      <th>12</th>\n",
       "      <td>12.0</td>\n",
       "      <td>1002</td>\n",
       "      <td>8</td>\n",
       "      <td>289</td>\n",
       "      <td>42</td>\n",
       "      <td>13</td>\n",
       "      <td>20</td>\n",
       "      <td>smart</td>\n",
       "      <td>1550</td>\n",
       "    </tr>\n",
       "    <tr>\n",
       "      <th>13</th>\n",
       "      <td>13.0</td>\n",
       "      <td>1002</td>\n",
       "      <td>9</td>\n",
       "      <td>206</td>\n",
       "      <td>36</td>\n",
       "      <td>4</td>\n",
       "      <td>17</td>\n",
       "      <td>smart</td>\n",
       "      <td>950</td>\n",
       "    </tr>\n",
       "    <tr>\n",
       "      <th>14</th>\n",
       "      <td>14.0</td>\n",
       "      <td>1002</td>\n",
       "      <td>10</td>\n",
       "      <td>212</td>\n",
       "      <td>33</td>\n",
       "      <td>10</td>\n",
       "      <td>14</td>\n",
       "      <td>smart</td>\n",
       "      <td>550</td>\n",
       "    </tr>\n",
       "    <tr>\n",
       "      <th>15</th>\n",
       "      <td>15.0</td>\n",
       "      <td>1002</td>\n",
       "      <td>11</td>\n",
       "      <td>243</td>\n",
       "      <td>32</td>\n",
       "      <td>16</td>\n",
       "      <td>19</td>\n",
       "      <td>smart</td>\n",
       "      <td>1350</td>\n",
       "    </tr>\n",
       "    <tr>\n",
       "      <th>16</th>\n",
       "      <td>16.0</td>\n",
       "      <td>1002</td>\n",
       "      <td>12</td>\n",
       "      <td>236</td>\n",
       "      <td>33</td>\n",
       "      <td>12</td>\n",
       "      <td>18</td>\n",
       "      <td>smart</td>\n",
       "      <td>1150</td>\n",
       "    </tr>\n",
       "    <tr>\n",
       "      <th>17</th>\n",
       "      <td>17.0</td>\n",
       "      <td>1003</td>\n",
       "      <td>8</td>\n",
       "      <td>380</td>\n",
       "      <td>55</td>\n",
       "      <td>37</td>\n",
       "      <td>9</td>\n",
       "      <td>ultra</td>\n",
       "      <td>1950</td>\n",
       "    </tr>\n",
       "    <tr>\n",
       "      <th>18</th>\n",
       "      <td>18.0</td>\n",
       "      <td>1003</td>\n",
       "      <td>9</td>\n",
       "      <td>961</td>\n",
       "      <td>134</td>\n",
       "      <td>91</td>\n",
       "      <td>13</td>\n",
       "      <td>ultra</td>\n",
       "      <td>1950</td>\n",
       "    </tr>\n",
       "    <tr>\n",
       "      <th>19</th>\n",
       "      <td>19.0</td>\n",
       "      <td>1003</td>\n",
       "      <td>10</td>\n",
       "      <td>855</td>\n",
       "      <td>108</td>\n",
       "      <td>83</td>\n",
       "      <td>15</td>\n",
       "      <td>ultra</td>\n",
       "      <td>1950</td>\n",
       "    </tr>\n",
       "    <tr>\n",
       "      <th>20</th>\n",
       "      <td>20.0</td>\n",
       "      <td>1003</td>\n",
       "      <td>11</td>\n",
       "      <td>824</td>\n",
       "      <td>115</td>\n",
       "      <td>94</td>\n",
       "      <td>12</td>\n",
       "      <td>ultra</td>\n",
       "      <td>1950</td>\n",
       "    </tr>\n",
       "    <tr>\n",
       "      <th>21</th>\n",
       "      <td>21.0</td>\n",
       "      <td>1003</td>\n",
       "      <td>12</td>\n",
       "      <td>802</td>\n",
       "      <td>108</td>\n",
       "      <td>75</td>\n",
       "      <td>10</td>\n",
       "      <td>ultra</td>\n",
       "      <td>1950</td>\n",
       "    </tr>\n",
       "    <tr>\n",
       "      <th>22</th>\n",
       "      <td>22.0</td>\n",
       "      <td>1004</td>\n",
       "      <td>5</td>\n",
       "      <td>35</td>\n",
       "      <td>9</td>\n",
       "      <td>95</td>\n",
       "      <td>14</td>\n",
       "      <td>ultra</td>\n",
       "      <td>1950</td>\n",
       "    </tr>\n",
       "    <tr>\n",
       "      <th>23</th>\n",
       "      <td>23.0</td>\n",
       "      <td>1004</td>\n",
       "      <td>6</td>\n",
       "      <td>171</td>\n",
       "      <td>31</td>\n",
       "      <td>134</td>\n",
       "      <td>18</td>\n",
       "      <td>ultra</td>\n",
       "      <td>1950</td>\n",
       "    </tr>\n",
       "    <tr>\n",
       "      <th>24</th>\n",
       "      <td>24.0</td>\n",
       "      <td>1004</td>\n",
       "      <td>7</td>\n",
       "      <td>135</td>\n",
       "      <td>22</td>\n",
       "      <td>181</td>\n",
       "      <td>22</td>\n",
       "      <td>ultra</td>\n",
       "      <td>1950</td>\n",
       "    </tr>\n",
       "    <tr>\n",
       "      <th>25</th>\n",
       "      <td>25.0</td>\n",
       "      <td>1004</td>\n",
       "      <td>8</td>\n",
       "      <td>137</td>\n",
       "      <td>19</td>\n",
       "      <td>151</td>\n",
       "      <td>28</td>\n",
       "      <td>ultra</td>\n",
       "      <td>1950</td>\n",
       "    </tr>\n",
       "    <tr>\n",
       "      <th>26</th>\n",
       "      <td>26.0</td>\n",
       "      <td>1004</td>\n",
       "      <td>9</td>\n",
       "      <td>117</td>\n",
       "      <td>26</td>\n",
       "      <td>146</td>\n",
       "      <td>15</td>\n",
       "      <td>ultra</td>\n",
       "      <td>1950</td>\n",
       "    </tr>\n",
       "    <tr>\n",
       "      <th>27</th>\n",
       "      <td>27.0</td>\n",
       "      <td>1004</td>\n",
       "      <td>10</td>\n",
       "      <td>145</td>\n",
       "      <td>29</td>\n",
       "      <td>165</td>\n",
       "      <td>19</td>\n",
       "      <td>ultra</td>\n",
       "      <td>1950</td>\n",
       "    </tr>\n",
       "    <tr>\n",
       "      <th>28</th>\n",
       "      <td>28.0</td>\n",
       "      <td>1004</td>\n",
       "      <td>11</td>\n",
       "      <td>117</td>\n",
       "      <td>19</td>\n",
       "      <td>158</td>\n",
       "      <td>16</td>\n",
       "      <td>ultra</td>\n",
       "      <td>1950</td>\n",
       "    </tr>\n",
       "    <tr>\n",
       "      <th>29</th>\n",
       "      <td>29.0</td>\n",
       "      <td>1004</td>\n",
       "      <td>12</td>\n",
       "      <td>130</td>\n",
       "      <td>21</td>\n",
       "      <td>162</td>\n",
       "      <td>18</td>\n",
       "      <td>ultra</td>\n",
       "      <td>1950</td>\n",
       "    </tr>\n",
       "  </tbody>\n",
       "</table>\n",
       "</div>"
      ],
      "text/plain": [
       "    index  user_id  month  calls_duration  calls_amount  messages_amount  \\\n",
       "0     0.0     1000      5             159            22               22   \n",
       "1     1.0     1000      6             172            43               60   \n",
       "2     2.0     1000      7             340            47               75   \n",
       "3     3.0     1000      8             408            52               81   \n",
       "4     4.0     1000      9             466            58               57   \n",
       "5     5.0     1000     10             350            57               73   \n",
       "6     6.0     1000     11             338            43               58   \n",
       "7     7.0     1000     12             333            46               70   \n",
       "8     8.0     1001     11             430            59                0   \n",
       "9     9.0     1001     12             414            63                0   \n",
       "10   10.0     1002      6             117            15                4   \n",
       "11   11.0     1002      7             214            26               11   \n",
       "12   12.0     1002      8             289            42               13   \n",
       "13   13.0     1002      9             206            36                4   \n",
       "14   14.0     1002     10             212            33               10   \n",
       "15   15.0     1002     11             243            32               16   \n",
       "16   16.0     1002     12             236            33               12   \n",
       "17   17.0     1003      8             380            55               37   \n",
       "18   18.0     1003      9             961           134               91   \n",
       "19   19.0     1003     10             855           108               83   \n",
       "20   20.0     1003     11             824           115               94   \n",
       "21   21.0     1003     12             802           108               75   \n",
       "22   22.0     1004      5              35             9               95   \n",
       "23   23.0     1004      6             171            31              134   \n",
       "24   24.0     1004      7             135            22              181   \n",
       "25   25.0     1004      8             137            19              151   \n",
       "26   26.0     1004      9             117            26              146   \n",
       "27   27.0     1004     10             145            29              165   \n",
       "28   28.0     1004     11             117            19              158   \n",
       "29   29.0     1004     12             130            21              162   \n",
       "\n",
       "    gb_used tariff  tariff_expenses  \n",
       "0         3  ultra             1950  \n",
       "1        23  ultra             1950  \n",
       "2        14  ultra             1950  \n",
       "3        14  ultra             1950  \n",
       "4        15  ultra             1950  \n",
       "5        15  ultra             1950  \n",
       "6        15  ultra             1950  \n",
       "7        10  ultra             1950  \n",
       "8        18  smart             1150  \n",
       "9        14  smart              550  \n",
       "10       11  smart              550  \n",
       "11       18  smart             1150  \n",
       "12       20  smart             1550  \n",
       "13       17  smart              950  \n",
       "14       14  smart              550  \n",
       "15       19  smart             1350  \n",
       "16       18  smart             1150  \n",
       "17        9  ultra             1950  \n",
       "18       13  ultra             1950  \n",
       "19       15  ultra             1950  \n",
       "20       12  ultra             1950  \n",
       "21       10  ultra             1950  \n",
       "22       14  ultra             1950  \n",
       "23       18  ultra             1950  \n",
       "24       22  ultra             1950  \n",
       "25       28  ultra             1950  \n",
       "26       15  ultra             1950  \n",
       "27       19  ultra             1950  \n",
       "28       16  ultra             1950  \n",
       "29       18  ultra             1950  "
      ]
     },
     "execution_count": 87,
     "metadata": {},
     "output_type": "execute_result"
    }
   ],
   "source": [
    "def tariff_expenses_raw (raw):\n",
    "    tariff = raw['tariff']\n",
    "    calls = raw['calls_duration']\n",
    "    message = raw['messages_amount'] \n",
    "    gb = raw['gb_used'] \n",
    "        \n",
    "    if tariff == 'ultra':\n",
    "        if calls > 3000: \n",
    "            calls = (calls - 3000) * 1\n",
    "        else:\n",
    "            calls = 0\n",
    "        \n",
    "        if message > 1000:\n",
    "            message = (message-1000) * 1\n",
    "        else:\n",
    "            message = 0\n",
    "                \n",
    "        if gb >=30:\n",
    "            gb = (gb - 30) * 150\n",
    "        else:\n",
    "            gb = 0\n",
    "        return 1950 + calls + message + gb\n",
    "\n",
    "    if tariff == 'smart':\n",
    "        if calls > 500: \n",
    "            calls = (calls - 500)*3\n",
    "        else:\n",
    "            calls = 0\n",
    "        \n",
    "        if message > 50:\n",
    "            message = (message-50) * 3\n",
    "        else:\n",
    "            message = 0\n",
    "                \n",
    "        if gb > 15:\n",
    "                gb = (gb - 15) * 200\n",
    "        else:\n",
    "            gb = 0\n",
    "        return 550 + calls + message + gb\n",
    "\n",
    "users_data_joined['tariff_expenses'] = users_data_joined.apply(tariff_expenses_raw, axis = 1)\n",
    "users_data_joined.head(30)"
   ]
  },
  {
   "cell_type": "markdown",
   "metadata": {},
   "source": [
    "Как мы видим,на каком-то этапе соединения таблиц у нас появился индекс, нужно его убрать"
   ]
  },
  {
   "cell_type": "code",
   "execution_count": 88,
   "metadata": {},
   "outputs": [],
   "source": [
    "#Убираем столбец с индексами\n",
    "del users_data_joined['index']"
   ]
  },
  {
   "cell_type": "code",
   "execution_count": 90,
   "metadata": {},
   "outputs": [
    {
     "name": "stdout",
     "output_type": "stream",
     "text": [
      "<class 'pandas.core.frame.DataFrame'>\n",
      "Int64Index: 3214 entries, 0 to 3213\n",
      "Data columns (total 8 columns):\n",
      " #   Column           Non-Null Count  Dtype \n",
      "---  ------           --------------  ----- \n",
      " 0   user_id          3214 non-null   int64 \n",
      " 1   month            3214 non-null   int64 \n",
      " 2   calls_duration   3214 non-null   int64 \n",
      " 3   calls_amount     3214 non-null   int64 \n",
      " 4   messages_amount  3214 non-null   int64 \n",
      " 5   gb_used          3214 non-null   int64 \n",
      " 6   tariff           3214 non-null   object\n",
      " 7   tariff_expenses  3214 non-null   int64 \n",
      "dtypes: int64(7), object(1)\n",
      "memory usage: 226.0+ KB\n"
     ]
    }
   ],
   "source": [
    "# Комментарий ревьюера\n",
    "users_data_joined.info()"
   ]
  },
  {
   "cell_type": "markdown",
   "metadata": {},
   "source": [
    "# Анализ данных"
   ]
  },
  {
   "cell_type": "markdown",
   "metadata": {},
   "source": [
    "Опишите поведение клиентов оператора, исходя из выборки. Сколько минут разговора, сколько сообщений и какой объём интернет-трафика требуется пользователям каждого тарифа в месяц? Посчитайте среднее количество, дисперсию и стандартное отклонение. Постройте гистограммы. Опишите распределения."
   ]
  },
  {
   "cell_type": "markdown",
   "metadata": {},
   "source": [
    "Разделим общий датафрейм на два аналогичных, исходя из тарифа пользователя"
   ]
  },
  {
   "cell_type": "code",
   "execution_count": 92,
   "metadata": {},
   "outputs": [],
   "source": [
    "ultra_users = users_data_joined.query('tariff == \"ultra\"')"
   ]
  },
  {
   "cell_type": "code",
   "execution_count": 93,
   "metadata": {},
   "outputs": [
    {
     "data": {
      "text/html": [
       "<div>\n",
       "<style scoped>\n",
       "    .dataframe tbody tr th:only-of-type {\n",
       "        vertical-align: middle;\n",
       "    }\n",
       "\n",
       "    .dataframe tbody tr th {\n",
       "        vertical-align: top;\n",
       "    }\n",
       "\n",
       "    .dataframe thead th {\n",
       "        text-align: right;\n",
       "    }\n",
       "</style>\n",
       "<table border=\"1\" class=\"dataframe\">\n",
       "  <thead>\n",
       "    <tr style=\"text-align: right;\">\n",
       "      <th></th>\n",
       "      <th>user_id</th>\n",
       "      <th>month</th>\n",
       "      <th>calls_duration</th>\n",
       "      <th>calls_amount</th>\n",
       "      <th>messages_amount</th>\n",
       "      <th>gb_used</th>\n",
       "      <th>tariff</th>\n",
       "      <th>tariff_expenses</th>\n",
       "    </tr>\n",
       "  </thead>\n",
       "  <tbody>\n",
       "    <tr>\n",
       "      <th>0</th>\n",
       "      <td>1000</td>\n",
       "      <td>5</td>\n",
       "      <td>159</td>\n",
       "      <td>22</td>\n",
       "      <td>22</td>\n",
       "      <td>3</td>\n",
       "      <td>ultra</td>\n",
       "      <td>1950</td>\n",
       "    </tr>\n",
       "    <tr>\n",
       "      <th>1</th>\n",
       "      <td>1000</td>\n",
       "      <td>6</td>\n",
       "      <td>172</td>\n",
       "      <td>43</td>\n",
       "      <td>60</td>\n",
       "      <td>23</td>\n",
       "      <td>ultra</td>\n",
       "      <td>1950</td>\n",
       "    </tr>\n",
       "    <tr>\n",
       "      <th>2</th>\n",
       "      <td>1000</td>\n",
       "      <td>7</td>\n",
       "      <td>340</td>\n",
       "      <td>47</td>\n",
       "      <td>75</td>\n",
       "      <td>14</td>\n",
       "      <td>ultra</td>\n",
       "      <td>1950</td>\n",
       "    </tr>\n",
       "    <tr>\n",
       "      <th>3</th>\n",
       "      <td>1000</td>\n",
       "      <td>8</td>\n",
       "      <td>408</td>\n",
       "      <td>52</td>\n",
       "      <td>81</td>\n",
       "      <td>14</td>\n",
       "      <td>ultra</td>\n",
       "      <td>1950</td>\n",
       "    </tr>\n",
       "    <tr>\n",
       "      <th>4</th>\n",
       "      <td>1000</td>\n",
       "      <td>9</td>\n",
       "      <td>466</td>\n",
       "      <td>58</td>\n",
       "      <td>57</td>\n",
       "      <td>15</td>\n",
       "      <td>ultra</td>\n",
       "      <td>1950</td>\n",
       "    </tr>\n",
       "    <tr>\n",
       "      <th>5</th>\n",
       "      <td>1000</td>\n",
       "      <td>10</td>\n",
       "      <td>350</td>\n",
       "      <td>57</td>\n",
       "      <td>73</td>\n",
       "      <td>15</td>\n",
       "      <td>ultra</td>\n",
       "      <td>1950</td>\n",
       "    </tr>\n",
       "    <tr>\n",
       "      <th>6</th>\n",
       "      <td>1000</td>\n",
       "      <td>11</td>\n",
       "      <td>338</td>\n",
       "      <td>43</td>\n",
       "      <td>58</td>\n",
       "      <td>15</td>\n",
       "      <td>ultra</td>\n",
       "      <td>1950</td>\n",
       "    </tr>\n",
       "    <tr>\n",
       "      <th>7</th>\n",
       "      <td>1000</td>\n",
       "      <td>12</td>\n",
       "      <td>333</td>\n",
       "      <td>46</td>\n",
       "      <td>70</td>\n",
       "      <td>10</td>\n",
       "      <td>ultra</td>\n",
       "      <td>1950</td>\n",
       "    </tr>\n",
       "    <tr>\n",
       "      <th>17</th>\n",
       "      <td>1003</td>\n",
       "      <td>8</td>\n",
       "      <td>380</td>\n",
       "      <td>55</td>\n",
       "      <td>37</td>\n",
       "      <td>9</td>\n",
       "      <td>ultra</td>\n",
       "      <td>1950</td>\n",
       "    </tr>\n",
       "    <tr>\n",
       "      <th>18</th>\n",
       "      <td>1003</td>\n",
       "      <td>9</td>\n",
       "      <td>961</td>\n",
       "      <td>134</td>\n",
       "      <td>91</td>\n",
       "      <td>13</td>\n",
       "      <td>ultra</td>\n",
       "      <td>1950</td>\n",
       "    </tr>\n",
       "  </tbody>\n",
       "</table>\n",
       "</div>"
      ],
      "text/plain": [
       "    user_id  month  calls_duration  calls_amount  messages_amount  gb_used  \\\n",
       "0      1000      5             159            22               22        3   \n",
       "1      1000      6             172            43               60       23   \n",
       "2      1000      7             340            47               75       14   \n",
       "3      1000      8             408            52               81       14   \n",
       "4      1000      9             466            58               57       15   \n",
       "5      1000     10             350            57               73       15   \n",
       "6      1000     11             338            43               58       15   \n",
       "7      1000     12             333            46               70       10   \n",
       "17     1003      8             380            55               37        9   \n",
       "18     1003      9             961           134               91       13   \n",
       "\n",
       "   tariff  tariff_expenses  \n",
       "0   ultra             1950  \n",
       "1   ultra             1950  \n",
       "2   ultra             1950  \n",
       "3   ultra             1950  \n",
       "4   ultra             1950  \n",
       "5   ultra             1950  \n",
       "6   ultra             1950  \n",
       "7   ultra             1950  \n",
       "17  ultra             1950  \n",
       "18  ultra             1950  "
      ]
     },
     "metadata": {},
     "output_type": "display_data"
    }
   ],
   "source": [
    "display(ultra_users.head(10))"
   ]
  },
  {
   "cell_type": "code",
   "execution_count": 94,
   "metadata": {},
   "outputs": [],
   "source": [
    "smart_users = users_data_joined.query('tariff == \"smart\"')"
   ]
  },
  {
   "cell_type": "code",
   "execution_count": 95,
   "metadata": {},
   "outputs": [
    {
     "data": {
      "text/html": [
       "<div>\n",
       "<style scoped>\n",
       "    .dataframe tbody tr th:only-of-type {\n",
       "        vertical-align: middle;\n",
       "    }\n",
       "\n",
       "    .dataframe tbody tr th {\n",
       "        vertical-align: top;\n",
       "    }\n",
       "\n",
       "    .dataframe thead th {\n",
       "        text-align: right;\n",
       "    }\n",
       "</style>\n",
       "<table border=\"1\" class=\"dataframe\">\n",
       "  <thead>\n",
       "    <tr style=\"text-align: right;\">\n",
       "      <th></th>\n",
       "      <th>user_id</th>\n",
       "      <th>month</th>\n",
       "      <th>calls_duration</th>\n",
       "      <th>calls_amount</th>\n",
       "      <th>messages_amount</th>\n",
       "      <th>gb_used</th>\n",
       "      <th>tariff</th>\n",
       "      <th>tariff_expenses</th>\n",
       "    </tr>\n",
       "  </thead>\n",
       "  <tbody>\n",
       "    <tr>\n",
       "      <th>8</th>\n",
       "      <td>1001</td>\n",
       "      <td>11</td>\n",
       "      <td>430</td>\n",
       "      <td>59</td>\n",
       "      <td>0</td>\n",
       "      <td>18</td>\n",
       "      <td>smart</td>\n",
       "      <td>1150</td>\n",
       "    </tr>\n",
       "    <tr>\n",
       "      <th>9</th>\n",
       "      <td>1001</td>\n",
       "      <td>12</td>\n",
       "      <td>414</td>\n",
       "      <td>63</td>\n",
       "      <td>0</td>\n",
       "      <td>14</td>\n",
       "      <td>smart</td>\n",
       "      <td>550</td>\n",
       "    </tr>\n",
       "    <tr>\n",
       "      <th>10</th>\n",
       "      <td>1002</td>\n",
       "      <td>6</td>\n",
       "      <td>117</td>\n",
       "      <td>15</td>\n",
       "      <td>4</td>\n",
       "      <td>11</td>\n",
       "      <td>smart</td>\n",
       "      <td>550</td>\n",
       "    </tr>\n",
       "    <tr>\n",
       "      <th>11</th>\n",
       "      <td>1002</td>\n",
       "      <td>7</td>\n",
       "      <td>214</td>\n",
       "      <td>26</td>\n",
       "      <td>11</td>\n",
       "      <td>18</td>\n",
       "      <td>smart</td>\n",
       "      <td>1150</td>\n",
       "    </tr>\n",
       "    <tr>\n",
       "      <th>12</th>\n",
       "      <td>1002</td>\n",
       "      <td>8</td>\n",
       "      <td>289</td>\n",
       "      <td>42</td>\n",
       "      <td>13</td>\n",
       "      <td>20</td>\n",
       "      <td>smart</td>\n",
       "      <td>1550</td>\n",
       "    </tr>\n",
       "    <tr>\n",
       "      <th>13</th>\n",
       "      <td>1002</td>\n",
       "      <td>9</td>\n",
       "      <td>206</td>\n",
       "      <td>36</td>\n",
       "      <td>4</td>\n",
       "      <td>17</td>\n",
       "      <td>smart</td>\n",
       "      <td>950</td>\n",
       "    </tr>\n",
       "    <tr>\n",
       "      <th>14</th>\n",
       "      <td>1002</td>\n",
       "      <td>10</td>\n",
       "      <td>212</td>\n",
       "      <td>33</td>\n",
       "      <td>10</td>\n",
       "      <td>14</td>\n",
       "      <td>smart</td>\n",
       "      <td>550</td>\n",
       "    </tr>\n",
       "    <tr>\n",
       "      <th>15</th>\n",
       "      <td>1002</td>\n",
       "      <td>11</td>\n",
       "      <td>243</td>\n",
       "      <td>32</td>\n",
       "      <td>16</td>\n",
       "      <td>19</td>\n",
       "      <td>smart</td>\n",
       "      <td>1350</td>\n",
       "    </tr>\n",
       "    <tr>\n",
       "      <th>16</th>\n",
       "      <td>1002</td>\n",
       "      <td>12</td>\n",
       "      <td>236</td>\n",
       "      <td>33</td>\n",
       "      <td>12</td>\n",
       "      <td>18</td>\n",
       "      <td>smart</td>\n",
       "      <td>1150</td>\n",
       "    </tr>\n",
       "    <tr>\n",
       "      <th>30</th>\n",
       "      <td>1005</td>\n",
       "      <td>1</td>\n",
       "      <td>95</td>\n",
       "      <td>15</td>\n",
       "      <td>7</td>\n",
       "      <td>3</td>\n",
       "      <td>smart</td>\n",
       "      <td>550</td>\n",
       "    </tr>\n",
       "  </tbody>\n",
       "</table>\n",
       "</div>"
      ],
      "text/plain": [
       "    user_id  month  calls_duration  calls_amount  messages_amount  gb_used  \\\n",
       "8      1001     11             430            59                0       18   \n",
       "9      1001     12             414            63                0       14   \n",
       "10     1002      6             117            15                4       11   \n",
       "11     1002      7             214            26               11       18   \n",
       "12     1002      8             289            42               13       20   \n",
       "13     1002      9             206            36                4       17   \n",
       "14     1002     10             212            33               10       14   \n",
       "15     1002     11             243            32               16       19   \n",
       "16     1002     12             236            33               12       18   \n",
       "30     1005      1              95            15                7        3   \n",
       "\n",
       "   tariff  tariff_expenses  \n",
       "8   smart             1150  \n",
       "9   smart              550  \n",
       "10  smart              550  \n",
       "11  smart             1150  \n",
       "12  smart             1550  \n",
       "13  smart              950  \n",
       "14  smart              550  \n",
       "15  smart             1350  \n",
       "16  smart             1150  \n",
       "30  smart              550  "
      ]
     },
     "metadata": {},
     "output_type": "display_data"
    }
   ],
   "source": [
    "display(smart_users.head(10))"
   ]
  },
  {
   "cell_type": "markdown",
   "metadata": {},
   "source": [
    "## Сообщения"
   ]
  },
  {
   "cell_type": "code",
   "execution_count": 96,
   "metadata": {},
   "outputs": [
    {
     "data": {
      "text/plain": [
       "33.384028712427096"
      ]
     },
     "execution_count": 96,
     "metadata": {},
     "output_type": "execute_result"
    }
   ],
   "source": [
    "#Смотрим среднее в датафрейме smart_users по столбцу messages_amount\n",
    "smart_users['messages_amount'].mean()"
   ]
  },
  {
   "cell_type": "code",
   "execution_count": 97,
   "metadata": {},
   "outputs": [
    {
     "data": {
      "text/plain": [
       "49.36345177664975"
      ]
     },
     "execution_count": 97,
     "metadata": {},
     "output_type": "execute_result"
    }
   ],
   "source": [
    "#Смотрим среднее в датафрейме ultra_users по столбцу messages_amount\n",
    "ultra_users['messages_amount'].mean()"
   ]
  },
  {
   "cell_type": "markdown",
   "metadata": {},
   "source": [
    "Среднее количество отправленных сообщений довольно отличается в зависимости от группы. Но если учесть, что в тариф ультра включено в 20 раз больше сообщений, чем в смарт, разница не кажется такой большой"
   ]
  },
  {
   "cell_type": "code",
   "execution_count": 98,
   "metadata": {},
   "outputs": [
    {
     "data": {
      "text/plain": [
       "28.0"
      ]
     },
     "execution_count": 98,
     "metadata": {},
     "output_type": "execute_result"
    }
   ],
   "source": [
    "#Смотрим медиану в датафрейме smart_users по столбцу messages_amount\n",
    "smart_users['messages_amount'].median()"
   ]
  },
  {
   "cell_type": "code",
   "execution_count": 99,
   "metadata": {},
   "outputs": [
    {
     "data": {
      "text/plain": [
       "38.0"
      ]
     },
     "execution_count": 99,
     "metadata": {},
     "output_type": "execute_result"
    }
   ],
   "source": [
    "#Смотрим медиану в датафрейме ultra_users по столбцу messages_amount\n",
    "ultra_users['messages_amount'].median()"
   ]
  },
  {
   "cell_type": "code",
   "execution_count": 100,
   "metadata": {},
   "outputs": [
    {
     "data": {
      "text/plain": [
       "796.455482917076"
      ]
     },
     "execution_count": 100,
     "metadata": {},
     "output_type": "execute_result"
    }
   ],
   "source": [
    "#Смотрим дисперсию в датафрейме smart_users по столбцу messages_amount\n",
    "np.var(smart_users['messages_amount'])"
   ]
  },
  {
   "cell_type": "code",
   "execution_count": 101,
   "metadata": {},
   "outputs": [
    {
     "data": {
      "text/plain": [
       "2282.946075394882"
      ]
     },
     "execution_count": 101,
     "metadata": {},
     "output_type": "execute_result"
    }
   ],
   "source": [
    "#Смотрим дисперсию в датафрейме ultra_users по столбцу messages_amount\n",
    "np.var(ultra_users['messages_amount'])"
   ]
  },
  {
   "cell_type": "code",
   "execution_count": 102,
   "metadata": {},
   "outputs": [
    {
     "data": {
      "text/plain": [
       "28.221542886898938"
      ]
     },
     "execution_count": 102,
     "metadata": {},
     "output_type": "execute_result"
    }
   ],
   "source": [
    "#Смотрим стандартное отклонение в датафрейме smart_users по столбцу messages_amount\n",
    "np.std(smart_users['messages_amount'])"
   ]
  },
  {
   "cell_type": "code",
   "execution_count": 103,
   "metadata": {},
   "outputs": [
    {
     "data": {
      "text/plain": [
       "47.78018496610161"
      ]
     },
     "execution_count": 103,
     "metadata": {},
     "output_type": "execute_result"
    }
   ],
   "source": [
    "#Смотрим стандартное отклонение в датафрейме ultra_users по столбцу messages_amount\n",
    "np.std(ultra_users['messages_amount'])"
   ]
  },
  {
   "cell_type": "markdown",
   "metadata": {},
   "source": [
    "Дисперссии и стандартные отклонения в обоих датафреймах довольно велики по отношению к математическому ожиданию, данные имеют большой разброс"
   ]
  },
  {
   "cell_type": "markdown",
   "metadata": {},
   "source": [
    "Количество сообщений- дискретная переменная, поэтому нам логично использовать обычную гистограмму."
   ]
  },
  {
   "cell_type": "code",
   "execution_count": 104,
   "metadata": {},
   "outputs": [
    {
     "data": {
      "image/png": "[encoded data removed]",
      "text/plain": [
       "<Figure size 432x288 with 1 Axes>"
      ]
     },
     "metadata": {
      "needs_background": "light"
     },
     "output_type": "display_data"
    }
   ],
   "source": [
    "#Строим две гистограммы по столбцам 'messages_amount' датафреймов smart_users и ultra_users\n",
    "bins = 50\n",
    "smart_users['messages_amount'].plot.hist(bins, alpha=0.5, label = 'smart_users_messages')\n",
    "ultra_users['messages_amount'].plot.hist(bins, alpha=0.5, label = 'ultra_users_messages')\n",
    "plt.legend(loc='upper right')\n",
    "plt.show()"
   ]
  },
  {
   "cell_type": "markdown",
   "metadata": {},
   "source": [
    "Среди пользователей тарифа смарт смс сообщения не сильно популярны и большинство отправляет менее 10 сообщений в месяц, хотя в тариф включено 50 сообщений. Однако, есть пользователи, которые выходят за обозначенный лимит и готовы платить сверх тарифа."
   ]
  },
  {
   "cell_type": "markdown",
   "metadata": {},
   "source": [
    "На удивление, при пакете, включающем 1000 сообщений, среди пользователей тарифа ультра, смс сообщения тоже не слишком популярны. При этом, пользователи тарифа ультра чаще отправляют более 120 сообщений\n",
    "Можно сделать вывод, что пользователи тарифа ультра выбирают его не из-за количества включенных сообщений, а значит для них важно либо количество включенных минут разговора, либо гигабайтов."
   ]
  },
  {
   "cell_type": "markdown",
   "metadata": {},
   "source": [
    "Визуализация важна, но стоит посмотреть на пиковые и пороговые значения отправленных сообщений:"
   ]
  },
  {
   "cell_type": "code",
   "execution_count": 105,
   "metadata": {},
   "outputs": [
    {
     "data": {
      "text/plain": [
       "0"
      ]
     },
     "execution_count": 105,
     "metadata": {},
     "output_type": "execute_result"
    }
   ],
   "source": [
    "#Смотрим минимальное значение по датафрейму\n",
    "smart_users['messages_amount'].min()"
   ]
  },
  {
   "cell_type": "code",
   "execution_count": 106,
   "metadata": {},
   "outputs": [
    {
     "data": {
      "text/plain": [
       "143"
      ]
     },
     "execution_count": 106,
     "metadata": {},
     "output_type": "execute_result"
    }
   ],
   "source": [
    "#Смотрим максимальное значение по датафрейму\n",
    "smart_users['messages_amount'].max()"
   ]
  },
  {
   "cell_type": "code",
   "execution_count": 107,
   "metadata": {},
   "outputs": [
    {
     "data": {
      "text/plain": [
       "0"
      ]
     },
     "execution_count": 107,
     "metadata": {},
     "output_type": "execute_result"
    }
   ],
   "source": [
    "#Смотрим минимальное значение по датафрейму\n",
    "ultra_users['messages_amount'].min()"
   ]
  },
  {
   "cell_type": "code",
   "execution_count": 108,
   "metadata": {},
   "outputs": [
    {
     "data": {
      "text/plain": [
       "224"
      ]
     },
     "execution_count": 108,
     "metadata": {},
     "output_type": "execute_result"
    }
   ],
   "source": [
    "#Смотрим максимальное значение по датафрейму\n",
    "ultra_users['messages_amount'].max()"
   ]
  },
  {
   "cell_type": "markdown",
   "metadata": {},
   "source": [
    "Пользователи обоих тарифов могут не отправлять сообщения вообще, а вот максимальные значения в двух группах сильно отличаются. Количество сообщений, включенных в тариф ультра, скорее является маркетинговым ходом, красивое число может привлечь пользователей, хотя ни у кого из них нет необходимости в таком количестве сообщений."
   ]
  },
  {
   "cell_type": "markdown",
   "metadata": {},
   "source": [
    "## Звонки"
   ]
  },
  {
   "cell_type": "code",
   "execution_count": 109,
   "metadata": {},
   "outputs": [
    {
     "data": {
      "text/plain": [
       "417.9349484073576"
      ]
     },
     "execution_count": 109,
     "metadata": {},
     "output_type": "execute_result"
    }
   ],
   "source": [
    "#Смотрим среднее в датафрейме smart_users по столбцу calls_duration\n",
    "smart_users['calls_duration'].mean()"
   ]
  },
  {
   "cell_type": "code",
   "execution_count": 110,
   "metadata": {},
   "outputs": [
    {
     "data": {
      "text/plain": [
       "526.6233502538071"
      ]
     },
     "execution_count": 110,
     "metadata": {},
     "output_type": "execute_result"
    }
   ],
   "source": [
    "#Смотрим среднее в датафрейме ultra_users по столбцу calls_duration\n",
    "ultra_users['calls_duration'].mean()"
   ]
  },
  {
   "cell_type": "markdown",
   "metadata": {},
   "source": [
    "Среднее по пользователям тарифа ультра выглядит странно, оно немного превышает количество включенных в смарт пакет минут, но даже близко не находится с количеством минут, включенных в ультра пакет. Есть предположение, что часть пользователей платит лишь за количество гигабайтов, включенных в пакет."
   ]
  },
  {
   "cell_type": "code",
   "execution_count": 111,
   "metadata": {},
   "outputs": [
    {
     "data": {
      "text/plain": [
       "422.0"
      ]
     },
     "execution_count": 111,
     "metadata": {},
     "output_type": "execute_result"
    }
   ],
   "source": [
    "#Смотрим медиану в датафрейме smart_users по столбцу calls_duration\n",
    "smart_users['calls_duration'].median()"
   ]
  },
  {
   "cell_type": "code",
   "execution_count": 112,
   "metadata": {},
   "outputs": [
    {
     "data": {
      "text/plain": [
       "518.0"
      ]
     },
     "execution_count": 112,
     "metadata": {},
     "output_type": "execute_result"
    }
   ],
   "source": [
    "#Смотрим медиану в датафрейме ultra_users по столбцу calls_duration\n",
    "ultra_users['calls_duration'].median()"
   ]
  },
  {
   "cell_type": "code",
   "execution_count": 113,
   "metadata": {},
   "outputs": [
    {
     "data": {
      "text/plain": [
       "36203.06665209469"
      ]
     },
     "execution_count": 113,
     "metadata": {},
     "output_type": "execute_result"
    }
   ],
   "source": [
    "#Смотрим дисперсию в датафрейме smart_users по столбцу calls_duration\n",
    "np.var(smart_users['calls_duration'])"
   ]
  },
  {
   "cell_type": "code",
   "execution_count": 114,
   "metadata": {},
   "outputs": [
    {
     "data": {
      "text/plain": [
       "100771.2236172022"
      ]
     },
     "execution_count": 114,
     "metadata": {},
     "output_type": "execute_result"
    }
   ],
   "source": [
    "#Смотрим дисперсию в датафрейме ultra_users по столбцу calls_duration\n",
    "np.var(ultra_users['calls_duration'])"
   ]
  },
  {
   "cell_type": "code",
   "execution_count": 115,
   "metadata": {},
   "outputs": [
    {
     "data": {
      "text/plain": [
       "190.27103471651876"
      ]
     },
     "execution_count": 115,
     "metadata": {},
     "output_type": "execute_result"
    }
   ],
   "source": [
    "#Смотрим стандартное отклонение в датафрейме smart_users по столбцу calls_duration\n",
    "np.std(smart_users['calls_duration'])"
   ]
  },
  {
   "cell_type": "code",
   "execution_count": 116,
   "metadata": {},
   "outputs": [
    {
     "data": {
      "text/plain": [
       "317.44483554974113"
      ]
     },
     "execution_count": 116,
     "metadata": {},
     "output_type": "execute_result"
    }
   ],
   "source": [
    "#Смотрим стандартное отклонение в датафрейме ultra_users по столбцу calls_duration\n",
    "np.std(ultra_users['calls_duration'])"
   ]
  },
  {
   "cell_type": "markdown",
   "metadata": {},
   "source": [
    "Стандартные отклонения в обоих случаях относительно близки к половине от средних,  они же математические ожидания, одно меньше половины (стандартное отклонение smart_users), другое больше (стандартное отклонение ultra_users). Данные имеют большой разброс."
   ]
  },
  {
   "cell_type": "markdown",
   "metadata": {},
   "source": [
    "Если бы мы не округлили значения в силу политики компании («Мегалайн» всегда округляет секунды до минут, а мегабайты — до гигабайт), мы бы рассуждали так, что протяженность звонков это непрерывная переменная, т.е может принимать любые численные значения на промежутке, поэтому лучше визуализировать данные с помощью гистограммы частот для непрерывной переменной. Но в данном секунды не важны для нас, поэтому мы строим обычную гистограмму."
   ]
  },
  {
   "cell_type": "code",
   "execution_count": 117,
   "metadata": {},
   "outputs": [
    {
     "data": {
      "image/png": "[encoded data removed]",
      "text/plain": [
       "<Figure size 432x288 with 1 Axes>"
      ]
     },
     "metadata": {
      "needs_background": "light"
     },
     "output_type": "display_data"
    }
   ],
   "source": [
    "#Строим две гистограммы по столбцам 'calls_duration' датафреймов smart_users и ultra_users\n",
    "bins = 50\n",
    "smart_users['calls_duration'].plot.hist(bins, alpha=0.5, label = 'smart_users_calls_duration')\n",
    "ultra_users['calls_duration'].plot.hist(bins, alpha=0.5, label = 'ultra_users_calls_duration')\n",
    "plt.legend(loc='upper right')\n",
    "plt.show()"
   ]
  },
  {
   "cell_type": "markdown",
   "metadata": {},
   "source": [
    "Здесь можно отметить, что какая-то часть пользователей обоих тарифов совсем не пользуется звонками, но это довольно странно для пользователей более дорогово тарифа ультра. Некоторые пользователи тарифа смарт выходят за число минут,входящих в пакет, и визуально их долю нельзя назвать маленькой.\n",
    "В то же время, никто из пользователей тарифа ультра не использует выбранный тариф на максимум, максимально пользователи тарифа ультра используют половину от включенных в тариф минут разговора, здесь, как и с количеством сообщений, включенных в пакет, есть подозрение, что оператор просто использовал маркетинговый ход, хотя 3000 минут разговора не являются нужными кому-либо, но могу привлекать пользователей из-за большой цифры.\n",
    "На данном этапе мне не очень нравится подозрительный пик около 1400 гистограммы ultra_users_calls_duration, он находится на большом расстоянии от ближайшего пика, я предпочту проверить данное значение. Посмотрим на всякий случай максимальное значение по данному столбцу датафрейма."
   ]
  },
  {
   "cell_type": "code",
   "execution_count": 118,
   "metadata": {},
   "outputs": [
    {
     "data": {
      "text/plain": [
       "1673"
      ]
     },
     "execution_count": 118,
     "metadata": {},
     "output_type": "execute_result"
    }
   ],
   "source": [
    "#Смотрим максимальное значение в столбце calls_amount датафрейма ultra_users\n",
    "ultra_users['calls_duration'].max()"
   ]
  },
  {
   "cell_type": "code",
   "execution_count": 119,
   "metadata": {},
   "outputs": [
    {
     "data": {
      "text/html": [
       "<div>\n",
       "<style scoped>\n",
       "    .dataframe tbody tr th:only-of-type {\n",
       "        vertical-align: middle;\n",
       "    }\n",
       "\n",
       "    .dataframe tbody tr th {\n",
       "        vertical-align: top;\n",
       "    }\n",
       "\n",
       "    .dataframe thead th {\n",
       "        text-align: right;\n",
       "    }\n",
       "</style>\n",
       "<table border=\"1\" class=\"dataframe\">\n",
       "  <thead>\n",
       "    <tr style=\"text-align: right;\">\n",
       "      <th></th>\n",
       "      <th>user_id</th>\n",
       "      <th>month</th>\n",
       "      <th>calls_duration</th>\n",
       "      <th>calls_amount</th>\n",
       "      <th>messages_amount</th>\n",
       "      <th>gb_used</th>\n",
       "      <th>tariff</th>\n",
       "      <th>tariff_expenses</th>\n",
       "    </tr>\n",
       "  </thead>\n",
       "  <tbody>\n",
       "    <tr>\n",
       "      <th>1237</th>\n",
       "      <td>1196</td>\n",
       "      <td>6</td>\n",
       "      <td>1410</td>\n",
       "      <td>176</td>\n",
       "      <td>153</td>\n",
       "      <td>23</td>\n",
       "      <td>ultra</td>\n",
       "      <td>1950</td>\n",
       "    </tr>\n",
       "    <tr>\n",
       "      <th>2360</th>\n",
       "      <td>1377</td>\n",
       "      <td>3</td>\n",
       "      <td>1609</td>\n",
       "      <td>203</td>\n",
       "      <td>20</td>\n",
       "      <td>3</td>\n",
       "      <td>ultra</td>\n",
       "      <td>1950</td>\n",
       "    </tr>\n",
       "    <tr>\n",
       "      <th>2367</th>\n",
       "      <td>1377</td>\n",
       "      <td>10</td>\n",
       "      <td>1401</td>\n",
       "      <td>178</td>\n",
       "      <td>10</td>\n",
       "      <td>5</td>\n",
       "      <td>ultra</td>\n",
       "      <td>1950</td>\n",
       "    </tr>\n",
       "    <tr>\n",
       "      <th>2973</th>\n",
       "      <td>1467</td>\n",
       "      <td>12</td>\n",
       "      <td>1673</td>\n",
       "      <td>244</td>\n",
       "      <td>39</td>\n",
       "      <td>10</td>\n",
       "      <td>ultra</td>\n",
       "      <td>1950</td>\n",
       "    </tr>\n",
       "  </tbody>\n",
       "</table>\n",
       "</div>"
      ],
      "text/plain": [
       "      user_id  month  calls_duration  calls_amount  messages_amount  gb_used  \\\n",
       "1237     1196      6            1410           176              153       23   \n",
       "2360     1377      3            1609           203               20        3   \n",
       "2367     1377     10            1401           178               10        5   \n",
       "2973     1467     12            1673           244               39       10   \n",
       "\n",
       "     tariff  tariff_expenses  \n",
       "1237  ultra             1950  \n",
       "2360  ultra             1950  \n",
       "2367  ultra             1950  \n",
       "2973  ultra             1950  "
      ]
     },
     "execution_count": 119,
     "metadata": {},
     "output_type": "execute_result"
    }
   ],
   "source": [
    "#Смотрим информацию о пользователях, которые говорили более 1400 минут\n",
    "ultra_users.query('calls_duration > 1400')"
   ]
  },
  {
   "cell_type": "code",
   "execution_count": 120,
   "metadata": {},
   "outputs": [
    {
     "data": {
      "text/plain": [
       "73.39289340101523"
      ]
     },
     "execution_count": 120,
     "metadata": {},
     "output_type": "execute_result"
    }
   ],
   "source": [
    "#Смотрим среднее по столбцу calls_amount датафрейма ultra_users\n",
    "ultra_users['calls_amount'].mean()"
   ]
  },
  {
   "cell_type": "markdown",
   "metadata": {},
   "source": [
    "Логично думать, что если количество израсходованных минут очень большое, то и количество звонков будет куда больше среднего. Конечно, мы перепроверим это суждение, посмотрев корреляцию."
   ]
  },
  {
   "cell_type": "code",
   "execution_count": 121,
   "metadata": {},
   "outputs": [
    {
     "data": {
      "text/plain": [
       "0.9875863509323954"
      ]
     },
     "execution_count": 121,
     "metadata": {},
     "output_type": "execute_result"
    }
   ],
   "source": [
    "ultra_users['calls_amount'].corr(ultra_users['calls_duration'])"
   ]
  },
  {
   "cell_type": "markdown",
   "metadata": {},
   "source": [
    "Линейная взаимосвязь между количеством звонков и протяженностью звонков очень-очень сильна.\n",
    "А значит, количество потраченных минут можно сопоставить с количеством звонков и наше сопоставление выглядит вполне рационально, данные в порядке"
   ]
  },
  {
   "cell_type": "markdown",
   "metadata": {},
   "source": [
    "## Интернет "
   ]
  },
  {
   "cell_type": "code",
   "execution_count": 122,
   "metadata": {},
   "outputs": [
    {
     "data": {
      "text/plain": [
       "16.328847016599372"
      ]
     },
     "execution_count": 122,
     "metadata": {},
     "output_type": "execute_result"
    }
   ],
   "source": [
    "#Смотрим среднее по колонке gb_used датафрейма smart_users\n",
    "smart_users['gb_used'].mean() "
   ]
  },
  {
   "cell_type": "code",
   "execution_count": 123,
   "metadata": {},
   "outputs": [
    {
     "data": {
      "text/html": [
       "<div>\n",
       "<style scoped>\n",
       "    .dataframe tbody tr th:only-of-type {\n",
       "        vertical-align: middle;\n",
       "    }\n",
       "\n",
       "    .dataframe tbody tr th {\n",
       "        vertical-align: top;\n",
       "    }\n",
       "\n",
       "    .dataframe thead th {\n",
       "        text-align: right;\n",
       "    }\n",
       "</style>\n",
       "<table border=\"1\" class=\"dataframe\">\n",
       "  <thead>\n",
       "    <tr style=\"text-align: right;\">\n",
       "      <th></th>\n",
       "      <th>user_id</th>\n",
       "      <th>month</th>\n",
       "      <th>calls_duration</th>\n",
       "      <th>calls_amount</th>\n",
       "      <th>messages_amount</th>\n",
       "      <th>gb_used</th>\n",
       "      <th>tariff</th>\n",
       "      <th>tariff_expenses</th>\n",
       "    </tr>\n",
       "  </thead>\n",
       "  <tbody>\n",
       "    <tr>\n",
       "      <th>8</th>\n",
       "      <td>1001</td>\n",
       "      <td>11</td>\n",
       "      <td>430</td>\n",
       "      <td>59</td>\n",
       "      <td>0</td>\n",
       "      <td>18</td>\n",
       "      <td>smart</td>\n",
       "      <td>1150</td>\n",
       "    </tr>\n",
       "    <tr>\n",
       "      <th>9</th>\n",
       "      <td>1001</td>\n",
       "      <td>12</td>\n",
       "      <td>414</td>\n",
       "      <td>63</td>\n",
       "      <td>0</td>\n",
       "      <td>14</td>\n",
       "      <td>smart</td>\n",
       "      <td>550</td>\n",
       "    </tr>\n",
       "    <tr>\n",
       "      <th>10</th>\n",
       "      <td>1002</td>\n",
       "      <td>6</td>\n",
       "      <td>117</td>\n",
       "      <td>15</td>\n",
       "      <td>4</td>\n",
       "      <td>11</td>\n",
       "      <td>smart</td>\n",
       "      <td>550</td>\n",
       "    </tr>\n",
       "    <tr>\n",
       "      <th>11</th>\n",
       "      <td>1002</td>\n",
       "      <td>7</td>\n",
       "      <td>214</td>\n",
       "      <td>26</td>\n",
       "      <td>11</td>\n",
       "      <td>18</td>\n",
       "      <td>smart</td>\n",
       "      <td>1150</td>\n",
       "    </tr>\n",
       "    <tr>\n",
       "      <th>12</th>\n",
       "      <td>1002</td>\n",
       "      <td>8</td>\n",
       "      <td>289</td>\n",
       "      <td>42</td>\n",
       "      <td>13</td>\n",
       "      <td>20</td>\n",
       "      <td>smart</td>\n",
       "      <td>1550</td>\n",
       "    </tr>\n",
       "    <tr>\n",
       "      <th>...</th>\n",
       "      <td>...</td>\n",
       "      <td>...</td>\n",
       "      <td>...</td>\n",
       "      <td>...</td>\n",
       "      <td>...</td>\n",
       "      <td>...</td>\n",
       "      <td>...</td>\n",
       "      <td>...</td>\n",
       "    </tr>\n",
       "    <tr>\n",
       "      <th>3209</th>\n",
       "      <td>1489</td>\n",
       "      <td>8</td>\n",
       "      <td>0</td>\n",
       "      <td>0</td>\n",
       "      <td>17</td>\n",
       "      <td>11</td>\n",
       "      <td>smart</td>\n",
       "      <td>550</td>\n",
       "    </tr>\n",
       "    <tr>\n",
       "      <th>3210</th>\n",
       "      <td>1489</td>\n",
       "      <td>9</td>\n",
       "      <td>0</td>\n",
       "      <td>0</td>\n",
       "      <td>32</td>\n",
       "      <td>17</td>\n",
       "      <td>smart</td>\n",
       "      <td>950</td>\n",
       "    </tr>\n",
       "    <tr>\n",
       "      <th>3211</th>\n",
       "      <td>1489</td>\n",
       "      <td>10</td>\n",
       "      <td>0</td>\n",
       "      <td>0</td>\n",
       "      <td>21</td>\n",
       "      <td>20</td>\n",
       "      <td>smart</td>\n",
       "      <td>1550</td>\n",
       "    </tr>\n",
       "    <tr>\n",
       "      <th>3212</th>\n",
       "      <td>1489</td>\n",
       "      <td>11</td>\n",
       "      <td>0</td>\n",
       "      <td>0</td>\n",
       "      <td>20</td>\n",
       "      <td>18</td>\n",
       "      <td>smart</td>\n",
       "      <td>1150</td>\n",
       "    </tr>\n",
       "    <tr>\n",
       "      <th>3213</th>\n",
       "      <td>1489</td>\n",
       "      <td>12</td>\n",
       "      <td>0</td>\n",
       "      <td>0</td>\n",
       "      <td>35</td>\n",
       "      <td>17</td>\n",
       "      <td>smart</td>\n",
       "      <td>950</td>\n",
       "    </tr>\n",
       "  </tbody>\n",
       "</table>\n",
       "<p>2229 rows × 8 columns</p>\n",
       "</div>"
      ],
      "text/plain": [
       "      user_id  month  calls_duration  calls_amount  messages_amount  gb_used  \\\n",
       "8        1001     11             430            59                0       18   \n",
       "9        1001     12             414            63                0       14   \n",
       "10       1002      6             117            15                4       11   \n",
       "11       1002      7             214            26               11       18   \n",
       "12       1002      8             289            42               13       20   \n",
       "...       ...    ...             ...           ...              ...      ...   \n",
       "3209     1489      8               0             0               17       11   \n",
       "3210     1489      9               0             0               32       17   \n",
       "3211     1489     10               0             0               21       20   \n",
       "3212     1489     11               0             0               20       18   \n",
       "3213     1489     12               0             0               35       17   \n",
       "\n",
       "     tariff  tariff_expenses  \n",
       "8     smart             1150  \n",
       "9     smart              550  \n",
       "10    smart              550  \n",
       "11    smart             1150  \n",
       "12    smart             1550  \n",
       "...     ...              ...  \n",
       "3209  smart              550  \n",
       "3210  smart              950  \n",
       "3211  smart             1550  \n",
       "3212  smart             1150  \n",
       "3213  smart              950  \n",
       "\n",
       "[2229 rows x 8 columns]"
      ]
     },
     "metadata": {},
     "output_type": "display_data"
    }
   ],
   "source": [
    "#Воспроизведем датафрейм\n",
    "display(smart_users)"
   ]
  },
  {
   "cell_type": "code",
   "execution_count": 124,
   "metadata": {},
   "outputs": [
    {
     "data": {
      "text/plain": [
       "19.494416243654822"
      ]
     },
     "execution_count": 124,
     "metadata": {},
     "output_type": "execute_result"
    }
   ],
   "source": [
    "#Смотрим среднее по колонке gb_used датафрейма ultra_users\n",
    "ultra_users['gb_used'].mean()"
   ]
  },
  {
   "cell_type": "markdown",
   "metadata": {},
   "source": [
    "Парадоксально, но даже количество гигабайт не сильно отличается между пользователями двух тарифов. Пользователи менее дорогово тарифа в среднем чуть превышают допустимый лимит гигабайтов, включенных в пакет. Пользователи тарифа ультра в среднем не используют все гигабайты, включенные в пакет."
   ]
  },
  {
   "cell_type": "code",
   "execution_count": 125,
   "metadata": {},
   "outputs": [
    {
     "data": {
      "text/plain": [
       "17.0"
      ]
     },
     "execution_count": 125,
     "metadata": {},
     "output_type": "execute_result"
    }
   ],
   "source": [
    "#Смотрим медиану по колонке gb_used датафрейма smart_users\n",
    "smart_users['gb_used'].median()"
   ]
  },
  {
   "cell_type": "code",
   "execution_count": 126,
   "metadata": {},
   "outputs": [
    {
     "data": {
      "text/plain": [
       "19.0"
      ]
     },
     "execution_count": 126,
     "metadata": {},
     "output_type": "execute_result"
    }
   ],
   "source": [
    "#Смотрим медиану по колонке gb_used датафрейма ultra_users\n",
    "ultra_users['gb_used'].median()"
   ]
  },
  {
   "cell_type": "code",
   "execution_count": 127,
   "metadata": {},
   "outputs": [
    {
     "data": {
      "text/plain": [
       "33.013887454837445"
      ]
     },
     "execution_count": 127,
     "metadata": {},
     "output_type": "execute_result"
    }
   ],
   "source": [
    "#Смотрим дисперсию по колонке gb_used датафрейма smart_users\n",
    "np.var(smart_users['gb_used'])"
   ]
  },
  {
   "cell_type": "code",
   "execution_count": 128,
   "metadata": {},
   "outputs": [
    {
     "data": {
      "text/plain": [
       "96.99311602978692"
      ]
     },
     "execution_count": 128,
     "metadata": {},
     "output_type": "execute_result"
    }
   ],
   "source": [
    "#Смотрим дисперсию по колонке gb_used датафрейма ultra_users\n",
    "np.var(ultra_users['gb_used'])"
   ]
  },
  {
   "cell_type": "code",
   "execution_count": 129,
   "metadata": {},
   "outputs": [
    {
     "data": {
      "text/plain": [
       "5.745771267187499"
      ]
     },
     "execution_count": 129,
     "metadata": {},
     "output_type": "execute_result"
    }
   ],
   "source": [
    "#Смотрим стандартное отклонение по колонке gb_used датафрейма smart_users\n",
    "np.std(smart_users['gb_used'])"
   ]
  },
  {
   "cell_type": "markdown",
   "metadata": {},
   "source": [
    "Стандартное отклонение нельзя назвать маленьким в данном случае, разброс данных относительного среднего большой"
   ]
  },
  {
   "cell_type": "code",
   "execution_count": 130,
   "metadata": {},
   "outputs": [
    {
     "data": {
      "text/plain": [
       "9.848508314957495"
      ]
     },
     "execution_count": 130,
     "metadata": {},
     "output_type": "execute_result"
    }
   ],
   "source": [
    "#Смотрим стандартное отклонение по колонке gb_used датафрейма ultra_users\n",
    "np.std(ultra_users['gb_used'])"
   ]
  },
  {
   "cell_type": "markdown",
   "metadata": {},
   "source": [
    "Стандартное отклонение составляет немного более половины от среднего, это делает разброс данных очень большим"
   ]
  },
  {
   "cell_type": "markdown",
   "metadata": {},
   "source": [
    "Количество гигабайт, по аналогии с протяженностью звонков, с одной стороны является непрерывной переменной, а , с другой, нам это не важно и ранее мы округлили значения данного столбца."
   ]
  },
  {
   "cell_type": "code",
   "execution_count": 131,
   "metadata": {},
   "outputs": [
    {
     "data": {
      "image/png": "[encoded data removed]",
      "text/plain": [
       "<Figure size 432x288 with 1 Axes>"
      ]
     },
     "metadata": {
      "needs_background": "light"
     },
     "output_type": "display_data"
    }
   ],
   "source": [
    "#Строим две гистограммы по столбцам 'gb_used' датафреймов smart_users и ultra_users\n",
    "bins = 50\n",
    "smart_users['gb_used'].plot.hist(bins, alpha=0.5, label = 'smart_users_gb_used')\n",
    "ultra_users['gb_used'].plot.hist(bins, alpha=0.5, label = 'ultra_users_gb_used')\n",
    "plt.legend(loc='upper right')\n",
    "plt.show()"
   ]
  },
  {
   "cell_type": "markdown",
   "metadata": {},
   "source": [
    "Из графика видно, что многие пользователи тарифа смарт превышают включенное в пакет количество гигабайтов, некоторые из них даже используют больше гигабайтов, чем включено в более дорогой пакет ультра. Однако, есть пользователи, которые совершено не используют интернет на устройстве с сим картой данного оператора."
   ]
  },
  {
   "cell_type": "markdown",
   "metadata": {},
   "source": [
    "Визуально большая или значимая часть пользователей тарифа ультра используют 30 и менее гигабайтов интернета, именно такое значение включено в пакет, но немалое количество пользователей, вынужденно платить дополнительно за гигабайты, пользователям тарифа ультра с избытком хватает минут и сообщений, но не интернета. "
   ]
  },
  {
   "cell_type": "markdown",
   "metadata": {},
   "source": [
    "Если сравнивать две гистограммы, то видно, что значения потраченных гигабайт у пользователей тарифов смарт и ультра отличаются, максимальное значение потраченных гб у пользователей тарифа ультра больше, чем у пользователей тарифа смарт, что вполне логично "
   ]
  },
  {
   "cell_type": "markdown",
   "metadata": {},
   "source": [
    "Неплохо было бы увеличить количество гигабайтов, входящих в пакет ультра,но, видимо, такой ход не является выгодным для оператора."
   ]
  },
  {
   "cell_type": "markdown",
   "metadata": {},
   "source": [
    "## Общее"
   ]
  },
  {
   "cell_type": "markdown",
   "metadata": {},
   "source": [
    "На данном этапе хотелось бы проверить есть ли неактивные пользователи, которые не пользуются ни звонками, ни интернетом, ни сообщениями"
   ]
  },
  {
   "cell_type": "code",
   "execution_count": 132,
   "metadata": {},
   "outputs": [],
   "source": [
    "non_active_ultra_users = ultra_users.query('messages_amount == 0 & calls_duration == 0 & gb_used == 0')"
   ]
  },
  {
   "cell_type": "code",
   "execution_count": 133,
   "metadata": {},
   "outputs": [
    {
     "data": {
      "text/html": [
       "<div>\n",
       "<style scoped>\n",
       "    .dataframe tbody tr th:only-of-type {\n",
       "        vertical-align: middle;\n",
       "    }\n",
       "\n",
       "    .dataframe tbody tr th {\n",
       "        vertical-align: top;\n",
       "    }\n",
       "\n",
       "    .dataframe thead th {\n",
       "        text-align: right;\n",
       "    }\n",
       "</style>\n",
       "<table border=\"1\" class=\"dataframe\">\n",
       "  <thead>\n",
       "    <tr style=\"text-align: right;\">\n",
       "      <th></th>\n",
       "      <th>user_id</th>\n",
       "      <th>month</th>\n",
       "      <th>calls_duration</th>\n",
       "      <th>calls_amount</th>\n",
       "      <th>messages_amount</th>\n",
       "      <th>gb_used</th>\n",
       "      <th>tariff</th>\n",
       "      <th>tariff_expenses</th>\n",
       "    </tr>\n",
       "  </thead>\n",
       "  <tbody>\n",
       "  </tbody>\n",
       "</table>\n",
       "</div>"
      ],
      "text/plain": [
       "Empty DataFrame\n",
       "Columns: [user_id, month, calls_duration, calls_amount, messages_amount, gb_used, tariff, tariff_expenses]\n",
       "Index: []"
      ]
     },
     "metadata": {},
     "output_type": "display_data"
    }
   ],
   "source": [
    "display(non_active_ultra_users)"
   ]
  },
  {
   "cell_type": "code",
   "execution_count": 134,
   "metadata": {},
   "outputs": [],
   "source": [
    "non_active_smart_users = smart_users.query('messages_amount == 0 & calls_duration == 0 & gb_used == 0')"
   ]
  },
  {
   "cell_type": "code",
   "execution_count": 135,
   "metadata": {},
   "outputs": [
    {
     "data": {
      "text/html": [
       "<div>\n",
       "<style scoped>\n",
       "    .dataframe tbody tr th:only-of-type {\n",
       "        vertical-align: middle;\n",
       "    }\n",
       "\n",
       "    .dataframe tbody tr th {\n",
       "        vertical-align: top;\n",
       "    }\n",
       "\n",
       "    .dataframe thead th {\n",
       "        text-align: right;\n",
       "    }\n",
       "</style>\n",
       "<table border=\"1\" class=\"dataframe\">\n",
       "  <thead>\n",
       "    <tr style=\"text-align: right;\">\n",
       "      <th></th>\n",
       "      <th>user_id</th>\n",
       "      <th>month</th>\n",
       "      <th>calls_duration</th>\n",
       "      <th>calls_amount</th>\n",
       "      <th>messages_amount</th>\n",
       "      <th>gb_used</th>\n",
       "      <th>tariff</th>\n",
       "      <th>tariff_expenses</th>\n",
       "    </tr>\n",
       "  </thead>\n",
       "  <tbody>\n",
       "  </tbody>\n",
       "</table>\n",
       "</div>"
      ],
      "text/plain": [
       "Empty DataFrame\n",
       "Columns: [user_id, month, calls_duration, calls_amount, messages_amount, gb_used, tariff, tariff_expenses]\n",
       "Index: []"
      ]
     },
     "metadata": {},
     "output_type": "display_data"
    }
   ],
   "source": [
    "display(non_active_smart_users)"
   ]
  },
  {
   "cell_type": "markdown",
   "metadata": {},
   "source": [
    "Таких пользователей нет"
   ]
  },
  {
   "cell_type": "markdown",
   "metadata": {},
   "source": [
    "# Сравнение тарифов"
   ]
  },
  {
   "cell_type": "markdown",
   "metadata": {},
   "source": [
    "Смотрим описание столбца 'tariff_expenses' двух датафреймов:"
   ]
  },
  {
   "cell_type": "code",
   "execution_count": 136,
   "metadata": {},
   "outputs": [
    {
     "data": {
      "text/plain": [
       "count    2229.000000\n",
       "mean     1289.973531\n",
       "std       818.404367\n",
       "min       550.000000\n",
       "25%       550.000000\n",
       "50%      1023.000000\n",
       "75%      1750.000000\n",
       "max      6770.000000\n",
       "Name: tariff_expenses, dtype: float64"
      ]
     },
     "execution_count": 136,
     "metadata": {},
     "output_type": "execute_result"
    }
   ],
   "source": [
    "smart_users['tariff_expenses'].describe()"
   ]
  },
  {
   "cell_type": "code",
   "execution_count": 137,
   "metadata": {},
   "outputs": [
    {
     "data": {
      "text/plain": [
       "count     985.000000\n",
       "mean     2070.152284\n",
       "std       376.187114\n",
       "min      1950.000000\n",
       "25%      1950.000000\n",
       "50%      1950.000000\n",
       "75%      1950.000000\n",
       "max      4800.000000\n",
       "Name: tariff_expenses, dtype: float64"
      ]
     },
     "execution_count": 137,
     "metadata": {},
     "output_type": "execute_result"
    }
   ],
   "source": [
    "ultra_users['tariff_expenses'].describe()"
   ]
  },
  {
   "cell_type": "code",
   "execution_count": 138,
   "metadata": {},
   "outputs": [
    {
     "data": {
      "text/plain": [
       "1023.0"
      ]
     },
     "execution_count": 138,
     "metadata": {},
     "output_type": "execute_result"
    }
   ],
   "source": [
    "#Смотрим медиану по столбцу 'tariff_expenses' датафрейма smart_users\n",
    "smart_users['tariff_expenses'].median()"
   ]
  },
  {
   "cell_type": "code",
   "execution_count": 139,
   "metadata": {},
   "outputs": [
    {
     "data": {
      "text/plain": [
       "1950.0"
      ]
     },
     "execution_count": 139,
     "metadata": {},
     "output_type": "execute_result"
    }
   ],
   "source": [
    "#Смотрим медиану по столбцу 'tariff_expenses' датафрейма ultra_users\n",
    "ultra_users['tariff_expenses'].median()"
   ]
  },
  {
   "cell_type": "code",
   "execution_count": 140,
   "metadata": {},
   "outputs": [
    {
     "name": "stdout",
     "output_type": "stream",
     "text": [
      "Сумма общей выручки по тарифу ультра составила: 2039100\n"
     ]
    }
   ],
   "source": [
    "print('Сумма общей выручки по тарифу ультра составила:', ultra_users['tariff_expenses'].sum())"
   ]
  },
  {
   "cell_type": "code",
   "execution_count": 141,
   "metadata": {},
   "outputs": [
    {
     "name": "stdout",
     "output_type": "stream",
     "text": [
      "Сумма общей выручки по тарифу смарт составила: 2875351\n"
     ]
    }
   ],
   "source": [
    "print('Сумма общей выручки по тарифу смарт составила:', smart_users['tariff_expenses'].sum())"
   ]
  },
  {
   "cell_type": "markdown",
   "metadata": {},
   "source": [
    "Как мы видим, компания получает больший доход с пользователей тарифа смарт, хотя среднее и медиана в датафрейме ultra_users столбца tariff_expenses больше, чем в датафрейме smart_users в аналогичном столбце, но из метода describe() мы  нашли логическое обьяснение этому- количество пользователей тарифа смарт больше количества пользователей тарифа ультра.\n",
    "Визуализируем доходы компании по двум группам пользователей:"
   ]
  },
  {
   "cell_type": "code",
   "execution_count": 142,
   "metadata": {},
   "outputs": [
    {
     "name": "stderr",
     "output_type": "stream",
     "text": [
      "/tmp/ipykernel_170/2486896872.py:4: MatplotlibDeprecationWarning: Adding an axes using the same arguments as a previous axes currently reuses the earlier instance.  In a future version, a new instance will always be created and returned.  Meanwhile, this warning can be suppressed, and the future behavior ensured, by passing a unique label to each axes instance.\n",
      "  ax = plt.axes()\n"
     ]
    },
    {
     "data": {
      "image/png": "[encoded data removed]",
      "text/plain": [
       "<Figure size 432x288 with 1 Axes>"
      ]
     },
     "metadata": {
      "needs_background": "light"
     },
     "output_type": "display_data"
    }
   ],
   "source": [
    "#Строим график динамики выручки по месяцам в разрезе тарифов\n",
    "x = smart_users.groupby(\"month\")[\"tariff_expenses\"].sum().plot(kind=\"line\", label = 'smart_sum', color = 'xkcd:lavender') \n",
    "y = ultra_users.groupby(\"month\")[\"tariff_expenses\"].sum().plot(kind=\"line\", label = 'ultra_sum', color = 'xkcd:pale green') \n",
    "ax = plt.axes()\n",
    "ax.set(facecolor = \"pink\")\n",
    "ax.set_xticks([1, 2, 3, 4, 5, 6, 7, 8, 9, 10, 11, 12])\n",
    "plt.legend(loc='upper right')\n",
    "plt.show()"
   ]
  },
  {
   "cell_type": "markdown",
   "metadata": {},
   "source": [
    "На нашем линейном графике доход разделён по месяцам, чтобы проследить тенденции.\n",
    "Невооруженным взглядом можно увидеть, что в независимости от конкретного тарифа на графике видна тенденция увеличения дохода втечение года. Вероятно, мегалайн являлся новой компанией в 2018 году и поэтому, по мере развития притягивал новых и новых клиентов. Этим вполне можно обьяснить такой рост доходов.\n",
    "В дополнение к графику сделаем еще аналогичные сводные таблицы."
   ]
  },
  {
   "cell_type": "code",
   "execution_count": 143,
   "metadata": {},
   "outputs": [
    {
     "data": {
      "text/html": [
       "<div>\n",
       "<style scoped>\n",
       "    .dataframe tbody tr th:only-of-type {\n",
       "        vertical-align: middle;\n",
       "    }\n",
       "\n",
       "    .dataframe tbody tr th {\n",
       "        vertical-align: top;\n",
       "    }\n",
       "\n",
       "    .dataframe thead th {\n",
       "        text-align: right;\n",
       "    }\n",
       "</style>\n",
       "<table border=\"1\" class=\"dataframe\">\n",
       "  <thead>\n",
       "    <tr style=\"text-align: right;\">\n",
       "      <th>month</th>\n",
       "      <th>1</th>\n",
       "      <th>2</th>\n",
       "      <th>3</th>\n",
       "      <th>4</th>\n",
       "      <th>5</th>\n",
       "      <th>6</th>\n",
       "      <th>7</th>\n",
       "      <th>8</th>\n",
       "      <th>9</th>\n",
       "      <th>10</th>\n",
       "      <th>11</th>\n",
       "      <th>12</th>\n",
       "    </tr>\n",
       "  </thead>\n",
       "  <tbody>\n",
       "    <tr>\n",
       "      <th>tariff_expenses</th>\n",
       "      <td>24525</td>\n",
       "      <td>48001</td>\n",
       "      <td>89676</td>\n",
       "      <td>107866</td>\n",
       "      <td>168849</td>\n",
       "      <td>197459</td>\n",
       "      <td>246014</td>\n",
       "      <td>310340</td>\n",
       "      <td>324986</td>\n",
       "      <td>401267</td>\n",
       "      <td>424403</td>\n",
       "      <td>531965</td>\n",
       "    </tr>\n",
       "  </tbody>\n",
       "</table>\n",
       "</div>"
      ],
      "text/plain": [
       "month               1      2      3       4       5       6       7       8   \\\n",
       "tariff_expenses  24525  48001  89676  107866  168849  197459  246014  310340   \n",
       "\n",
       "month                9       10      11      12  \n",
       "tariff_expenses  324986  401267  424403  531965  "
      ]
     },
     "execution_count": 143,
     "metadata": {},
     "output_type": "execute_result"
    }
   ],
   "source": [
    "smart_users.pivot_table(columns = 'month', values = 'tariff_expenses', aggfunc = 'sum')"
   ]
  },
  {
   "cell_type": "code",
   "execution_count": 144,
   "metadata": {},
   "outputs": [
    {
     "data": {
      "text/html": [
       "<div>\n",
       "<style scoped>\n",
       "    .dataframe tbody tr th:only-of-type {\n",
       "        vertical-align: middle;\n",
       "    }\n",
       "\n",
       "    .dataframe tbody tr th {\n",
       "        vertical-align: top;\n",
       "    }\n",
       "\n",
       "    .dataframe thead th {\n",
       "        text-align: right;\n",
       "    }\n",
       "</style>\n",
       "<table border=\"1\" class=\"dataframe\">\n",
       "  <thead>\n",
       "    <tr style=\"text-align: right;\">\n",
       "      <th>month</th>\n",
       "      <th>1</th>\n",
       "      <th>2</th>\n",
       "      <th>3</th>\n",
       "      <th>4</th>\n",
       "      <th>5</th>\n",
       "      <th>6</th>\n",
       "      <th>7</th>\n",
       "      <th>8</th>\n",
       "      <th>9</th>\n",
       "      <th>10</th>\n",
       "      <th>11</th>\n",
       "      <th>12</th>\n",
       "    </tr>\n",
       "  </thead>\n",
       "  <tbody>\n",
       "    <tr>\n",
       "      <th>tariff_expenses</th>\n",
       "      <td>17550</td>\n",
       "      <td>47400</td>\n",
       "      <td>74550</td>\n",
       "      <td>110100</td>\n",
       "      <td>138000</td>\n",
       "      <td>171300</td>\n",
       "      <td>192750</td>\n",
       "      <td>222900</td>\n",
       "      <td>232800</td>\n",
       "      <td>254100</td>\n",
       "      <td>280350</td>\n",
       "      <td>297300</td>\n",
       "    </tr>\n",
       "  </tbody>\n",
       "</table>\n",
       "</div>"
      ],
      "text/plain": [
       "month               1      2      3       4       5       6       7       8   \\\n",
       "tariff_expenses  17550  47400  74550  110100  138000  171300  192750  222900   \n",
       "\n",
       "month                9       10      11      12  \n",
       "tariff_expenses  232800  254100  280350  297300  "
      ]
     },
     "execution_count": 144,
     "metadata": {},
     "output_type": "execute_result"
    }
   ],
   "source": [
    "ultra_users.pivot_table(columns = 'month', values = 'tariff_expenses', aggfunc = 'sum')"
   ]
  },
  {
   "cell_type": "markdown",
   "metadata": {},
   "source": [
    "И из графика, и при сравнении сводных таблиц, мы видим, что помесячный доход от пользователей тарифа смарт преимущественно больше помесячного дохода от пользователей тарифа ультра. Конечно, есть месяца-исключения,но общая тенденция вполне заметна."
   ]
  },
  {
   "cell_type": "markdown",
   "metadata": {},
   "source": [
    "# Проверка гипотез"
   ]
  },
  {
   "cell_type": "markdown",
   "metadata": {},
   "source": [
    "## Первая гипотеза"
   ]
  },
  {
   "cell_type": "markdown",
   "metadata": {},
   "source": [
    "\"Средняя выручка пользователей тарифов «Ультра» и «Смарт» различаются\"-эта гипотеза является двусторонней. Но я бы предпочла сделать это туверждение гипотезой 1, а гипотеза Н0 будет звучать так: \"Средняя выручка пользователей тарифов «Ультра» и «Смарт» не различаются, значит равны друг другу\". Нам подойдет метод проверки гипотез о равенстве среднего двух генеральных совокупностей по взятым из них выборкам"
   ]
  },
  {
   "cell_type": "code",
   "execution_count": 145,
   "metadata": {},
   "outputs": [],
   "source": [
    "import random"
   ]
  },
  {
   "cell_type": "code",
   "execution_count": 146,
   "metadata": {},
   "outputs": [],
   "source": [
    "#Делаем выборку из колонки tariff_expenses датафрейма smart_users\n",
    "revenue_smart_users = smart_users['tariff_expenses']\n",
    "revenue_smart_users = revenue_smart_users.tolist()"
   ]
  },
  {
   "cell_type": "code",
   "execution_count": 147,
   "metadata": {},
   "outputs": [
    {
     "name": "stdout",
     "output_type": "stream",
     "text": [
      "Средняя вырчка по пользователям тарифа смарт 1289.9735307312696\n"
     ]
    }
   ],
   "source": [
    "print('Средняя вырчка по пользователям тарифа смарт', smart_users['tariff_expenses'].mean())"
   ]
  },
  {
   "cell_type": "code",
   "execution_count": 148,
   "metadata": {},
   "outputs": [],
   "source": [
    "revenue_ultra_users = ultra_users['tariff_expenses']\n",
    "revenue_ultra_users = revenue_ultra_users.tolist()"
   ]
  },
  {
   "cell_type": "code",
   "execution_count": 149,
   "metadata": {},
   "outputs": [
    {
     "name": "stdout",
     "output_type": "stream",
     "text": [
      "Средняя вырчка по пользователям тарифа ультра 2070.1522842639592\n"
     ]
    }
   ],
   "source": [
    "print('Средняя вырчка по пользователям тарифа ультра',ultra_users['tariff_expenses'].mean())"
   ]
  },
  {
   "cell_type": "code",
   "execution_count": 150,
   "metadata": {},
   "outputs": [
    {
     "name": "stdout",
     "output_type": "stream",
     "text": [
      "p-значение: 1.4229814360764067e-160\n",
      "Отвергаем нулевую гипотезу\n"
     ]
    }
   ],
   "source": [
    "alpha = .05 #задаём критический уровень статистической значимости\n",
    "# если p-value окажется меньше него - отвергнем гипотезу\n",
    "\n",
    "results = st.ttest_ind(\n",
    "    revenue_ultra_users, revenue_smart_users)\n",
    "#проверка гипотезу о равенстве средних двух независимых совокупностей\n",
    "\n",
    "print('p-значение:', results.pvalue) #выводим на экран получившеся p-значение\n",
    "\n",
    "if results.pvalue < alpha:\n",
    "    #сравниваем получившееся p-значение с заданным уровнем статистической значимости:\n",
    "    print(\"Отвергаем нулевую гипотезу\")\n",
    "else:\n",
    "    print(\"Не получилось отвергнуть нулевую гипотезу\")"
   ]
  },
  {
   "cell_type": "markdown",
   "metadata": {},
   "source": [
    "Мы не использовали дополнительный параметр equal_var = False, потому что у нас достаточно большие , к тому же в обеих измерена одна и та же переменная — нет оснований полагать, что разброс будет сильно отличаться."
   ]
  },
  {
   "cell_type": "markdown",
   "metadata": {},
   "source": [
    "Наше значение p value близко к нулю, а соответственно мы отвергаем нулевую гипотезу, а значит мы принимаем Н1 - \"Средняя выручка пользователей тарифов «Ультра» и «Смарт» различаются\""
   ]
  },
  {
   "cell_type": "markdown",
   "metadata": {},
   "source": [
    "## Вторая гипотеза"
   ]
  },
  {
   "cell_type": "markdown",
   "metadata": {},
   "source": [
    "Для выдвижения гипотезы о зависимости выручки с пользователя от его города, нужно привести датафрейм в соответсвующий вид, нужно чтобы к users_data_joined добавилась информация о городе пользователя, а после этого разделить датафрейм на датафрейм с пользователями из Москвы и на датафрейм с пользователями из других регионов."
   ]
  },
  {
   "cell_type": "markdown",
   "metadata": {},
   "source": [
    "Нужно посмотреть есть ли неявные дубликаты в users_df по столбцу с городом"
   ]
  },
  {
   "cell_type": "code",
   "execution_count": 151,
   "metadata": {},
   "outputs": [
    {
     "data": {
      "text/plain": [
       "array(['Краснодар', 'Москва', 'Стерлитамак', 'Новокузнецк',\n",
       "       'Набережные Челны', 'Ульяновск', 'Челябинск', 'Пермь', 'Тюмень',\n",
       "       'Самара', 'Санкт-Петербург', 'Иваново', 'Чебоксары', 'Омск', 'Уфа',\n",
       "       'Томск', 'Чита', 'Мурманск', 'Петрозаводск', 'Тверь',\n",
       "       'Екатеринбург', 'Махачкала', 'Вологда', 'Череповец', 'Ярославль',\n",
       "       'Сочи', 'Хабаровск', 'Ставрополь', 'Рязань', 'Улан-Удэ', 'Тула',\n",
       "       'Саратов', 'Ростов-на-Дону', 'Казань', 'Иркутск', 'Курск',\n",
       "       'Калуга', 'Якутск', 'Астрахань', 'Химки', 'Владикавказ',\n",
       "       'Волгоград', 'Саранск', 'Ижевск', 'Новосибирск', 'Брянск',\n",
       "       'Тольятти', 'Нижний Тагил', 'Орёл', 'Белгород', 'Воронеж',\n",
       "       'Курган', 'Барнаул', 'Красноярск', 'Архангельск', 'Липецк',\n",
       "       'Кемерово', 'Киров', 'Сургут', 'Пенза', 'Волжский', 'Магнитогорск',\n",
       "       'Нижний Новгород', 'Кострома', 'Владивосток', 'Тамбов', 'Балашиха',\n",
       "       'Севастополь', 'Калининград', 'Оренбург', 'Смоленск',\n",
       "       'Нижневартовск', 'Владимир', 'Новороссийск', 'Грозный', 'Подольск'],\n",
       "      dtype=object)"
      ]
     },
     "execution_count": 151,
     "metadata": {},
     "output_type": "execute_result"
    }
   ],
   "source": [
    "users_df['city'].unique()"
   ]
  },
  {
   "cell_type": "code",
   "execution_count": 152,
   "metadata": {},
   "outputs": [],
   "source": [
    "#Создадим новый датафрейм \n",
    "users_city_table = users_df.groupby(['user_id'])['city'].sum()"
   ]
  },
  {
   "cell_type": "code",
   "execution_count": 153,
   "metadata": {
    "scrolled": true
   },
   "outputs": [
    {
     "data": {
      "text/plain": [
       "user_id\n",
       "1000      Краснодар\n",
       "1001         Москва\n",
       "1002    Стерлитамак\n",
       "1003         Москва\n",
       "1004    Новокузнецк\n",
       "           ...     \n",
       "1495        Иркутск\n",
       "1496        Вологда\n",
       "1497      Челябинск\n",
       "1498    Владикавказ\n",
       "1499          Пермь\n",
       "Name: city, Length: 498, dtype: object"
      ]
     },
     "metadata": {},
     "output_type": "display_data"
    }
   ],
   "source": [
    "display(users_city_table)"
   ]
  },
  {
   "cell_type": "code",
   "execution_count": 154,
   "metadata": {},
   "outputs": [],
   "source": [
    "#Сбросим индексацию\n",
    "users_city_table = users_city_table.reset_index()"
   ]
  },
  {
   "cell_type": "code",
   "execution_count": 155,
   "metadata": {},
   "outputs": [],
   "source": [
    "#Соединим два датафрейма\n",
    "city_users = users_data_joined.merge(users_city_table, on = ['user_id'],  how ='outer')"
   ]
  },
  {
   "cell_type": "code",
   "execution_count": 156,
   "metadata": {},
   "outputs": [
    {
     "data": {
      "text/html": [
       "<div>\n",
       "<style scoped>\n",
       "    .dataframe tbody tr th:only-of-type {\n",
       "        vertical-align: middle;\n",
       "    }\n",
       "\n",
       "    .dataframe tbody tr th {\n",
       "        vertical-align: top;\n",
       "    }\n",
       "\n",
       "    .dataframe thead th {\n",
       "        text-align: right;\n",
       "    }\n",
       "</style>\n",
       "<table border=\"1\" class=\"dataframe\">\n",
       "  <thead>\n",
       "    <tr style=\"text-align: right;\">\n",
       "      <th></th>\n",
       "      <th>user_id</th>\n",
       "      <th>month</th>\n",
       "      <th>calls_duration</th>\n",
       "      <th>calls_amount</th>\n",
       "      <th>messages_amount</th>\n",
       "      <th>gb_used</th>\n",
       "      <th>tariff</th>\n",
       "      <th>tariff_expenses</th>\n",
       "      <th>city</th>\n",
       "    </tr>\n",
       "  </thead>\n",
       "  <tbody>\n",
       "    <tr>\n",
       "      <th>0</th>\n",
       "      <td>1000</td>\n",
       "      <td>5</td>\n",
       "      <td>159</td>\n",
       "      <td>22</td>\n",
       "      <td>22</td>\n",
       "      <td>3</td>\n",
       "      <td>ultra</td>\n",
       "      <td>1950</td>\n",
       "      <td>Краснодар</td>\n",
       "    </tr>\n",
       "    <tr>\n",
       "      <th>1</th>\n",
       "      <td>1000</td>\n",
       "      <td>6</td>\n",
       "      <td>172</td>\n",
       "      <td>43</td>\n",
       "      <td>60</td>\n",
       "      <td>23</td>\n",
       "      <td>ultra</td>\n",
       "      <td>1950</td>\n",
       "      <td>Краснодар</td>\n",
       "    </tr>\n",
       "    <tr>\n",
       "      <th>2</th>\n",
       "      <td>1000</td>\n",
       "      <td>7</td>\n",
       "      <td>340</td>\n",
       "      <td>47</td>\n",
       "      <td>75</td>\n",
       "      <td>14</td>\n",
       "      <td>ultra</td>\n",
       "      <td>1950</td>\n",
       "      <td>Краснодар</td>\n",
       "    </tr>\n",
       "    <tr>\n",
       "      <th>3</th>\n",
       "      <td>1000</td>\n",
       "      <td>8</td>\n",
       "      <td>408</td>\n",
       "      <td>52</td>\n",
       "      <td>81</td>\n",
       "      <td>14</td>\n",
       "      <td>ultra</td>\n",
       "      <td>1950</td>\n",
       "      <td>Краснодар</td>\n",
       "    </tr>\n",
       "    <tr>\n",
       "      <th>4</th>\n",
       "      <td>1000</td>\n",
       "      <td>9</td>\n",
       "      <td>466</td>\n",
       "      <td>58</td>\n",
       "      <td>57</td>\n",
       "      <td>15</td>\n",
       "      <td>ultra</td>\n",
       "      <td>1950</td>\n",
       "      <td>Краснодар</td>\n",
       "    </tr>\n",
       "    <tr>\n",
       "      <th>...</th>\n",
       "      <td>...</td>\n",
       "      <td>...</td>\n",
       "      <td>...</td>\n",
       "      <td>...</td>\n",
       "      <td>...</td>\n",
       "      <td>...</td>\n",
       "      <td>...</td>\n",
       "      <td>...</td>\n",
       "      <td>...</td>\n",
       "    </tr>\n",
       "    <tr>\n",
       "      <th>3209</th>\n",
       "      <td>1489</td>\n",
       "      <td>8</td>\n",
       "      <td>0</td>\n",
       "      <td>0</td>\n",
       "      <td>17</td>\n",
       "      <td>11</td>\n",
       "      <td>smart</td>\n",
       "      <td>550</td>\n",
       "      <td>Санкт-Петербург</td>\n",
       "    </tr>\n",
       "    <tr>\n",
       "      <th>3210</th>\n",
       "      <td>1489</td>\n",
       "      <td>9</td>\n",
       "      <td>0</td>\n",
       "      <td>0</td>\n",
       "      <td>32</td>\n",
       "      <td>17</td>\n",
       "      <td>smart</td>\n",
       "      <td>950</td>\n",
       "      <td>Санкт-Петербург</td>\n",
       "    </tr>\n",
       "    <tr>\n",
       "      <th>3211</th>\n",
       "      <td>1489</td>\n",
       "      <td>10</td>\n",
       "      <td>0</td>\n",
       "      <td>0</td>\n",
       "      <td>21</td>\n",
       "      <td>20</td>\n",
       "      <td>smart</td>\n",
       "      <td>1550</td>\n",
       "      <td>Санкт-Петербург</td>\n",
       "    </tr>\n",
       "    <tr>\n",
       "      <th>3212</th>\n",
       "      <td>1489</td>\n",
       "      <td>11</td>\n",
       "      <td>0</td>\n",
       "      <td>0</td>\n",
       "      <td>20</td>\n",
       "      <td>18</td>\n",
       "      <td>smart</td>\n",
       "      <td>1150</td>\n",
       "      <td>Санкт-Петербург</td>\n",
       "    </tr>\n",
       "    <tr>\n",
       "      <th>3213</th>\n",
       "      <td>1489</td>\n",
       "      <td>12</td>\n",
       "      <td>0</td>\n",
       "      <td>0</td>\n",
       "      <td>35</td>\n",
       "      <td>17</td>\n",
       "      <td>smart</td>\n",
       "      <td>950</td>\n",
       "      <td>Санкт-Петербург</td>\n",
       "    </tr>\n",
       "  </tbody>\n",
       "</table>\n",
       "<p>3214 rows × 9 columns</p>\n",
       "</div>"
      ],
      "text/plain": [
       "      user_id  month  calls_duration  calls_amount  messages_amount  gb_used  \\\n",
       "0        1000      5             159            22               22        3   \n",
       "1        1000      6             172            43               60       23   \n",
       "2        1000      7             340            47               75       14   \n",
       "3        1000      8             408            52               81       14   \n",
       "4        1000      9             466            58               57       15   \n",
       "...       ...    ...             ...           ...              ...      ...   \n",
       "3209     1489      8               0             0               17       11   \n",
       "3210     1489      9               0             0               32       17   \n",
       "3211     1489     10               0             0               21       20   \n",
       "3212     1489     11               0             0               20       18   \n",
       "3213     1489     12               0             0               35       17   \n",
       "\n",
       "     tariff  tariff_expenses             city  \n",
       "0     ultra             1950        Краснодар  \n",
       "1     ultra             1950        Краснодар  \n",
       "2     ultra             1950        Краснодар  \n",
       "3     ultra             1950        Краснодар  \n",
       "4     ultra             1950        Краснодар  \n",
       "...     ...              ...              ...  \n",
       "3209  smart              550  Санкт-Петербург  \n",
       "3210  smart              950  Санкт-Петербург  \n",
       "3211  smart             1550  Санкт-Петербург  \n",
       "3212  smart             1150  Санкт-Петербург  \n",
       "3213  smart              950  Санкт-Петербург  \n",
       "\n",
       "[3214 rows x 9 columns]"
      ]
     },
     "metadata": {},
     "output_type": "display_data"
    }
   ],
   "source": [
    "display(city_users)"
   ]
  },
  {
   "cell_type": "code",
   "execution_count": 157,
   "metadata": {},
   "outputs": [],
   "source": [
    "#Создадим датафрейм с пользователя только из Москвы\n",
    "moscow_users = city_users.query('city == \"Москва\"')"
   ]
  },
  {
   "cell_type": "code",
   "execution_count": 158,
   "metadata": {},
   "outputs": [
    {
     "data": {
      "text/html": [
       "<div>\n",
       "<style scoped>\n",
       "    .dataframe tbody tr th:only-of-type {\n",
       "        vertical-align: middle;\n",
       "    }\n",
       "\n",
       "    .dataframe tbody tr th {\n",
       "        vertical-align: top;\n",
       "    }\n",
       "\n",
       "    .dataframe thead th {\n",
       "        text-align: right;\n",
       "    }\n",
       "</style>\n",
       "<table border=\"1\" class=\"dataframe\">\n",
       "  <thead>\n",
       "    <tr style=\"text-align: right;\">\n",
       "      <th></th>\n",
       "      <th>user_id</th>\n",
       "      <th>month</th>\n",
       "      <th>calls_duration</th>\n",
       "      <th>calls_amount</th>\n",
       "      <th>messages_amount</th>\n",
       "      <th>gb_used</th>\n",
       "      <th>tariff</th>\n",
       "      <th>tariff_expenses</th>\n",
       "      <th>city</th>\n",
       "    </tr>\n",
       "  </thead>\n",
       "  <tbody>\n",
       "    <tr>\n",
       "      <th>8</th>\n",
       "      <td>1001</td>\n",
       "      <td>11</td>\n",
       "      <td>430</td>\n",
       "      <td>59</td>\n",
       "      <td>0</td>\n",
       "      <td>18</td>\n",
       "      <td>smart</td>\n",
       "      <td>1150</td>\n",
       "      <td>Москва</td>\n",
       "    </tr>\n",
       "    <tr>\n",
       "      <th>9</th>\n",
       "      <td>1001</td>\n",
       "      <td>12</td>\n",
       "      <td>414</td>\n",
       "      <td>63</td>\n",
       "      <td>0</td>\n",
       "      <td>14</td>\n",
       "      <td>smart</td>\n",
       "      <td>550</td>\n",
       "      <td>Москва</td>\n",
       "    </tr>\n",
       "    <tr>\n",
       "      <th>17</th>\n",
       "      <td>1003</td>\n",
       "      <td>8</td>\n",
       "      <td>380</td>\n",
       "      <td>55</td>\n",
       "      <td>37</td>\n",
       "      <td>9</td>\n",
       "      <td>ultra</td>\n",
       "      <td>1950</td>\n",
       "      <td>Москва</td>\n",
       "    </tr>\n",
       "    <tr>\n",
       "      <th>18</th>\n",
       "      <td>1003</td>\n",
       "      <td>9</td>\n",
       "      <td>961</td>\n",
       "      <td>134</td>\n",
       "      <td>91</td>\n",
       "      <td>13</td>\n",
       "      <td>ultra</td>\n",
       "      <td>1950</td>\n",
       "      <td>Москва</td>\n",
       "    </tr>\n",
       "    <tr>\n",
       "      <th>19</th>\n",
       "      <td>1003</td>\n",
       "      <td>10</td>\n",
       "      <td>855</td>\n",
       "      <td>108</td>\n",
       "      <td>83</td>\n",
       "      <td>15</td>\n",
       "      <td>ultra</td>\n",
       "      <td>1950</td>\n",
       "      <td>Москва</td>\n",
       "    </tr>\n",
       "    <tr>\n",
       "      <th>...</th>\n",
       "      <td>...</td>\n",
       "      <td>...</td>\n",
       "      <td>...</td>\n",
       "      <td>...</td>\n",
       "      <td>...</td>\n",
       "      <td>...</td>\n",
       "      <td>...</td>\n",
       "      <td>...</td>\n",
       "      <td>...</td>\n",
       "    </tr>\n",
       "    <tr>\n",
       "      <th>3120</th>\n",
       "      <td>1490</td>\n",
       "      <td>8</td>\n",
       "      <td>346</td>\n",
       "      <td>45</td>\n",
       "      <td>50</td>\n",
       "      <td>17</td>\n",
       "      <td>smart</td>\n",
       "      <td>950</td>\n",
       "      <td>Москва</td>\n",
       "    </tr>\n",
       "    <tr>\n",
       "      <th>3121</th>\n",
       "      <td>1490</td>\n",
       "      <td>9</td>\n",
       "      <td>322</td>\n",
       "      <td>44</td>\n",
       "      <td>48</td>\n",
       "      <td>15</td>\n",
       "      <td>smart</td>\n",
       "      <td>550</td>\n",
       "      <td>Москва</td>\n",
       "    </tr>\n",
       "    <tr>\n",
       "      <th>3122</th>\n",
       "      <td>1490</td>\n",
       "      <td>10</td>\n",
       "      <td>312</td>\n",
       "      <td>42</td>\n",
       "      <td>45</td>\n",
       "      <td>21</td>\n",
       "      <td>smart</td>\n",
       "      <td>1750</td>\n",
       "      <td>Москва</td>\n",
       "    </tr>\n",
       "    <tr>\n",
       "      <th>3123</th>\n",
       "      <td>1490</td>\n",
       "      <td>11</td>\n",
       "      <td>282</td>\n",
       "      <td>38</td>\n",
       "      <td>47</td>\n",
       "      <td>19</td>\n",
       "      <td>smart</td>\n",
       "      <td>1350</td>\n",
       "      <td>Москва</td>\n",
       "    </tr>\n",
       "    <tr>\n",
       "      <th>3124</th>\n",
       "      <td>1490</td>\n",
       "      <td>12</td>\n",
       "      <td>290</td>\n",
       "      <td>42</td>\n",
       "      <td>46</td>\n",
       "      <td>16</td>\n",
       "      <td>smart</td>\n",
       "      <td>750</td>\n",
       "      <td>Москва</td>\n",
       "    </tr>\n",
       "  </tbody>\n",
       "</table>\n",
       "<p>611 rows × 9 columns</p>\n",
       "</div>"
      ],
      "text/plain": [
       "      user_id  month  calls_duration  calls_amount  messages_amount  gb_used  \\\n",
       "8        1001     11             430            59                0       18   \n",
       "9        1001     12             414            63                0       14   \n",
       "17       1003      8             380            55               37        9   \n",
       "18       1003      9             961           134               91       13   \n",
       "19       1003     10             855           108               83       15   \n",
       "...       ...    ...             ...           ...              ...      ...   \n",
       "3120     1490      8             346            45               50       17   \n",
       "3121     1490      9             322            44               48       15   \n",
       "3122     1490     10             312            42               45       21   \n",
       "3123     1490     11             282            38               47       19   \n",
       "3124     1490     12             290            42               46       16   \n",
       "\n",
       "     tariff  tariff_expenses    city  \n",
       "8     smart             1150  Москва  \n",
       "9     smart              550  Москва  \n",
       "17    ultra             1950  Москва  \n",
       "18    ultra             1950  Москва  \n",
       "19    ultra             1950  Москва  \n",
       "...     ...              ...     ...  \n",
       "3120  smart              950  Москва  \n",
       "3121  smart              550  Москва  \n",
       "3122  smart             1750  Москва  \n",
       "3123  smart             1350  Москва  \n",
       "3124  smart              750  Москва  \n",
       "\n",
       "[611 rows x 9 columns]"
      ]
     },
     "metadata": {},
     "output_type": "display_data"
    }
   ],
   "source": [
    "display(moscow_users)"
   ]
  },
  {
   "cell_type": "code",
   "execution_count": 159,
   "metadata": {},
   "outputs": [],
   "source": [
    "#Создадим датафрейм с пользователя из всех городов, кроме Москвы\n",
    "other_cities_users = city_users.query('city != \"Москва\"')"
   ]
  },
  {
   "cell_type": "code",
   "execution_count": 160,
   "metadata": {},
   "outputs": [
    {
     "data": {
      "text/html": [
       "<div>\n",
       "<style scoped>\n",
       "    .dataframe tbody tr th:only-of-type {\n",
       "        vertical-align: middle;\n",
       "    }\n",
       "\n",
       "    .dataframe tbody tr th {\n",
       "        vertical-align: top;\n",
       "    }\n",
       "\n",
       "    .dataframe thead th {\n",
       "        text-align: right;\n",
       "    }\n",
       "</style>\n",
       "<table border=\"1\" class=\"dataframe\">\n",
       "  <thead>\n",
       "    <tr style=\"text-align: right;\">\n",
       "      <th></th>\n",
       "      <th>user_id</th>\n",
       "      <th>month</th>\n",
       "      <th>calls_duration</th>\n",
       "      <th>calls_amount</th>\n",
       "      <th>messages_amount</th>\n",
       "      <th>gb_used</th>\n",
       "      <th>tariff</th>\n",
       "      <th>tariff_expenses</th>\n",
       "      <th>city</th>\n",
       "    </tr>\n",
       "  </thead>\n",
       "  <tbody>\n",
       "    <tr>\n",
       "      <th>0</th>\n",
       "      <td>1000</td>\n",
       "      <td>5</td>\n",
       "      <td>159</td>\n",
       "      <td>22</td>\n",
       "      <td>22</td>\n",
       "      <td>3</td>\n",
       "      <td>ultra</td>\n",
       "      <td>1950</td>\n",
       "      <td>Краснодар</td>\n",
       "    </tr>\n",
       "    <tr>\n",
       "      <th>1</th>\n",
       "      <td>1000</td>\n",
       "      <td>6</td>\n",
       "      <td>172</td>\n",
       "      <td>43</td>\n",
       "      <td>60</td>\n",
       "      <td>23</td>\n",
       "      <td>ultra</td>\n",
       "      <td>1950</td>\n",
       "      <td>Краснодар</td>\n",
       "    </tr>\n",
       "    <tr>\n",
       "      <th>2</th>\n",
       "      <td>1000</td>\n",
       "      <td>7</td>\n",
       "      <td>340</td>\n",
       "      <td>47</td>\n",
       "      <td>75</td>\n",
       "      <td>14</td>\n",
       "      <td>ultra</td>\n",
       "      <td>1950</td>\n",
       "      <td>Краснодар</td>\n",
       "    </tr>\n",
       "    <tr>\n",
       "      <th>3</th>\n",
       "      <td>1000</td>\n",
       "      <td>8</td>\n",
       "      <td>408</td>\n",
       "      <td>52</td>\n",
       "      <td>81</td>\n",
       "      <td>14</td>\n",
       "      <td>ultra</td>\n",
       "      <td>1950</td>\n",
       "      <td>Краснодар</td>\n",
       "    </tr>\n",
       "    <tr>\n",
       "      <th>4</th>\n",
       "      <td>1000</td>\n",
       "      <td>9</td>\n",
       "      <td>466</td>\n",
       "      <td>58</td>\n",
       "      <td>57</td>\n",
       "      <td>15</td>\n",
       "      <td>ultra</td>\n",
       "      <td>1950</td>\n",
       "      <td>Краснодар</td>\n",
       "    </tr>\n",
       "    <tr>\n",
       "      <th>...</th>\n",
       "      <td>...</td>\n",
       "      <td>...</td>\n",
       "      <td>...</td>\n",
       "      <td>...</td>\n",
       "      <td>...</td>\n",
       "      <td>...</td>\n",
       "      <td>...</td>\n",
       "      <td>...</td>\n",
       "      <td>...</td>\n",
       "    </tr>\n",
       "    <tr>\n",
       "      <th>3209</th>\n",
       "      <td>1489</td>\n",
       "      <td>8</td>\n",
       "      <td>0</td>\n",
       "      <td>0</td>\n",
       "      <td>17</td>\n",
       "      <td>11</td>\n",
       "      <td>smart</td>\n",
       "      <td>550</td>\n",
       "      <td>Санкт-Петербург</td>\n",
       "    </tr>\n",
       "    <tr>\n",
       "      <th>3210</th>\n",
       "      <td>1489</td>\n",
       "      <td>9</td>\n",
       "      <td>0</td>\n",
       "      <td>0</td>\n",
       "      <td>32</td>\n",
       "      <td>17</td>\n",
       "      <td>smart</td>\n",
       "      <td>950</td>\n",
       "      <td>Санкт-Петербург</td>\n",
       "    </tr>\n",
       "    <tr>\n",
       "      <th>3211</th>\n",
       "      <td>1489</td>\n",
       "      <td>10</td>\n",
       "      <td>0</td>\n",
       "      <td>0</td>\n",
       "      <td>21</td>\n",
       "      <td>20</td>\n",
       "      <td>smart</td>\n",
       "      <td>1550</td>\n",
       "      <td>Санкт-Петербург</td>\n",
       "    </tr>\n",
       "    <tr>\n",
       "      <th>3212</th>\n",
       "      <td>1489</td>\n",
       "      <td>11</td>\n",
       "      <td>0</td>\n",
       "      <td>0</td>\n",
       "      <td>20</td>\n",
       "      <td>18</td>\n",
       "      <td>smart</td>\n",
       "      <td>1150</td>\n",
       "      <td>Санкт-Петербург</td>\n",
       "    </tr>\n",
       "    <tr>\n",
       "      <th>3213</th>\n",
       "      <td>1489</td>\n",
       "      <td>12</td>\n",
       "      <td>0</td>\n",
       "      <td>0</td>\n",
       "      <td>35</td>\n",
       "      <td>17</td>\n",
       "      <td>smart</td>\n",
       "      <td>950</td>\n",
       "      <td>Санкт-Петербург</td>\n",
       "    </tr>\n",
       "  </tbody>\n",
       "</table>\n",
       "<p>2603 rows × 9 columns</p>\n",
       "</div>"
      ],
      "text/plain": [
       "      user_id  month  calls_duration  calls_amount  messages_amount  gb_used  \\\n",
       "0        1000      5             159            22               22        3   \n",
       "1        1000      6             172            43               60       23   \n",
       "2        1000      7             340            47               75       14   \n",
       "3        1000      8             408            52               81       14   \n",
       "4        1000      9             466            58               57       15   \n",
       "...       ...    ...             ...           ...              ...      ...   \n",
       "3209     1489      8               0             0               17       11   \n",
       "3210     1489      9               0             0               32       17   \n",
       "3211     1489     10               0             0               21       20   \n",
       "3212     1489     11               0             0               20       18   \n",
       "3213     1489     12               0             0               35       17   \n",
       "\n",
       "     tariff  tariff_expenses             city  \n",
       "0     ultra             1950        Краснодар  \n",
       "1     ultra             1950        Краснодар  \n",
       "2     ultra             1950        Краснодар  \n",
       "3     ultra             1950        Краснодар  \n",
       "4     ultra             1950        Краснодар  \n",
       "...     ...              ...              ...  \n",
       "3209  smart              550  Санкт-Петербург  \n",
       "3210  smart              950  Санкт-Петербург  \n",
       "3211  smart             1550  Санкт-Петербург  \n",
       "3212  smart             1150  Санкт-Петербург  \n",
       "3213  smart              950  Санкт-Петербург  \n",
       "\n",
       "[2603 rows x 9 columns]"
      ]
     },
     "metadata": {},
     "output_type": "display_data"
    }
   ],
   "source": [
    "display(other_cities_users)"
   ]
  },
  {
   "cell_type": "markdown",
   "metadata": {},
   "source": [
    "В задании нам дана гипотеза \"средняя выручка пользователей из Москвы отличается от выручки пользователей из других регионов\".Как и с прошлой гипотезой, я  предпочту сформулировать Н0, как \"средняя выручка пользователей из Москвы не отличается от выручки пользователей из других регионов\" и соответственно Н1, как: \"средняя выручка пользователей из Москвы отличается от выручки пользователей из других регионов\""
   ]
  },
  {
   "cell_type": "code",
   "execution_count": 161,
   "metadata": {},
   "outputs": [],
   "source": [
    "#Делаем выборку из колонки tariff_expenses датафрейма moscow_users\n",
    "revenue_moscow_users = moscow_users['tariff_expenses']\n",
    "revenue_moscow_users = revenue_moscow_users.tolist()"
   ]
  },
  {
   "cell_type": "code",
   "execution_count": 162,
   "metadata": {},
   "outputs": [],
   "source": [
    "#Делаем выборку из колонки tariff_expenses датафрейма other_cities_users\n",
    "revenue_other_cities_users = other_cities_users['tariff_expenses']\n",
    "revenue_other_cities_users = revenue_other_cities_users.tolist()"
   ]
  },
  {
   "cell_type": "code",
   "execution_count": 163,
   "metadata": {},
   "outputs": [
    {
     "name": "stdout",
     "output_type": "stream",
     "text": [
      "Средняя выручка компании по клиентам из Москвы равна: 1546.7135842880523\n"
     ]
    }
   ],
   "source": [
    "print('Средняя выручка компании по клиентам из Москвы равна:', moscow_users['tariff_expenses'].mean())"
   ]
  },
  {
   "cell_type": "code",
   "execution_count": 164,
   "metadata": {},
   "outputs": [
    {
     "name": "stdout",
     "output_type": "stream",
     "text": [
      "Средняя выручка компании по клиентам из других городов равна: 1524.9362274298885\n"
     ]
    }
   ],
   "source": [
    "print('Средняя выручка компании по клиентам из других городов равна:', other_cities_users['tariff_expenses'].mean())"
   ]
  },
  {
   "cell_type": "markdown",
   "metadata": {},
   "source": [
    "Как и в случае с первой гипотезой, нам подойдет метод проверки гипотез о равенстве среднего двух генеральных совокупностей по взятым из них выборкам"
   ]
  },
  {
   "cell_type": "code",
   "execution_count": 165,
   "metadata": {},
   "outputs": [
    {
     "name": "stdout",
     "output_type": "stream",
     "text": [
      "p-значение: 0.5440152911670224\n",
      "Не получилось отвергнуть нулевую гипотезу\n"
     ]
    }
   ],
   "source": [
    "alpha = .05 #задаём критический уровень статистической значимости\n",
    "# если p-value окажется меньше него - отвергнем гипотезу\n",
    "\n",
    "results = st.ttest_ind(\n",
    "    revenue_moscow_users, revenue_other_cities_users)\n",
    "#проверка гипотезу о равенстве средних двух независимых совокупностей\n",
    "\n",
    "print('p-значение:', results.pvalue) #выводим на экран получившеся p-значение\n",
    "\n",
    "if results.pvalue < alpha:\n",
    "    #сравниваем получившееся p-значение с заданным уровнем статистической значимости:\n",
    "    print(\"Отвергаем нулевую гипотезу\")\n",
    "else:\n",
    "    print(\"Не получилось отвергнуть нулевую гипотезу\")"
   ]
  },
  {
   "cell_type": "markdown",
   "metadata": {},
   "source": [
    "хотя средняя выручка пользователей из Москвы и выручка пользователей из других регионов и не одинаковы, это явно слишком большая вероятность, чтобы делать вывод о значимом различии между выручками."
   ]
  },
  {
   "cell_type": "markdown",
   "metadata": {},
   "source": [
    "# Общий вывод"
   ]
  },
  {
   "cell_type": "markdown",
   "metadata": {},
   "source": [
    "Тариф ультра с избытком покрывает потребности всех клиентов по протяженности звонков и количеству сообщений. Но этого тарифа не хватает, чтобы обеспечить всех пользователей количеством гигабайт, которых им хватало бы, некоторой части пользователей приходится доплачивать за и без того дорогой тариф. С другой стороны, покупать дополнительные гигабайты,являясь пользователем тарифа смарт довольно невыгодно из-за стоимости одного гб.\n",
    "Выбор тарифа зависит от потребностей пользователя, в средних значениях протяженности звонков, количества сообщений и гигабайтов по двум датафреймам небольшая разница, но в данных есть большой разброс, о чем свидетельствуют большие размеры дисперсий и стандартных отклонений. \n",
    "Тариф ультра лучше подходит людям, использующим более 22 гигабайтов интернета, а для базовых потребностей тариф смарт однозначно лучше"
   ]
  },
  {
   "cell_type": "markdown",
   "metadata": {},
   "source": [
    "Тариф ультра в перспективе может принести больше выручки для компании Мегалайн, но на данный момент, тариф смарт приносит больший доход. Значит, оптимальным решением для компании будет, например, решение о агитации пользователей тарифа смарт перейти на тариф ультра. Или начало усиленной рекламной компании тарифа ультра для привлечения новых пользователей.\n",
    "Оператор должен обратить внимание на интернет-сессии с нулевым трафиком, возможно, дело в качестве интернет-соединения и из-за этого оператор теряет потенциальную выручку.\n",
    "Кроме того, компании нужно проанализировать быстрый уход двух пользователей, которые не пользовались никакими услугами из тарифа."
   ]
  },
  {
   "cell_type": "code",
   "execution_count": 169,
   "metadata": {},
   "outputs": [
    {
     "data": {
      "text/plain": [
       "Text(0, 0.5, 'Рубли')"
      ]
     },
     "execution_count": 169,
     "metadata": {},
     "output_type": "execute_result"
    },
    {
     "data": {
      "image/png": "[encoded data removed]",
      "text/plain": [
       "<Figure size 432x288 with 1 Axes>"
      ]
     },
     "metadata": {
      "needs_background": "light"
     },
     "output_type": "display_data"
    }
   ],
   "source": [
    "users_data_joined.pivot_table(index='tariff', columns='month', values='tariff_expenses', aggfunc='mean').T.plot(kind='bar', alpha=0.5)\n",
    "plt.title('Средняя ежемесячная выручка по 2-м тарифам за год'+ \"\\n\")\n",
    "plt.xlabel('Месяц')\n",
    "plt.ylabel('Рубли')"
   ]
  }
 ],
 "metadata": {
  "ExecuteTimeLog": [
   {
    "duration": 531,
    "start_time": "2022-06-05T22:47:51.229Z"
   },
   {
    "duration": 387,
    "start_time": "2022-06-05T22:47:57.478Z"
   },
   {
    "duration": 3,
    "start_time": "2022-06-05T22:54:57.738Z"
   },
   {
    "duration": 66,
    "start_time": "2022-06-05T22:56:57.673Z"
   },
   {
    "duration": 238,
    "start_time": "2022-06-05T22:57:17.515Z"
   },
   {
    "duration": 15,
    "start_time": "2022-06-05T22:57:33.298Z"
   },
   {
    "duration": 191,
    "start_time": "2022-06-05T23:02:13.401Z"
   },
   {
    "duration": 298,
    "start_time": "2022-06-05T23:02:13.908Z"
   },
   {
    "duration": 130,
    "start_time": "2022-06-05T23:02:14.435Z"
   },
   {
    "duration": 63,
    "start_time": "2022-06-05T23:02:15.081Z"
   },
   {
    "duration": 72,
    "start_time": "2022-06-05T23:02:15.559Z"
   },
   {
    "duration": 189,
    "start_time": "2022-06-05T23:03:16.695Z"
   },
   {
    "duration": 116,
    "start_time": "2022-06-05T23:03:17.014Z"
   },
   {
    "duration": 286,
    "start_time": "2022-06-05T23:03:17.372Z"
   },
   {
    "duration": 26,
    "start_time": "2022-06-05T23:03:17.723Z"
   },
   {
    "duration": 16,
    "start_time": "2022-06-05T23:03:18.214Z"
   },
   {
    "duration": 6,
    "start_time": "2022-06-05T23:04:11.239Z"
   },
   {
    "duration": 36,
    "start_time": "2022-06-05T23:05:42.212Z"
   },
   {
    "duration": 11,
    "start_time": "2022-06-05T23:05:42.792Z"
   },
   {
    "duration": 166,
    "start_time": "2022-06-05T23:06:06.774Z"
   },
   {
    "duration": 137,
    "start_time": "2022-06-05T23:06:07.146Z"
   },
   {
    "duration": 97,
    "start_time": "2022-06-05T23:06:07.447Z"
   },
   {
    "duration": 25,
    "start_time": "2022-06-05T23:06:07.789Z"
   },
   {
    "duration": 27,
    "start_time": "2022-06-05T23:06:08.217Z"
   },
   {
    "duration": 14,
    "start_time": "2022-06-05T23:06:08.878Z"
   },
   {
    "duration": 10,
    "start_time": "2022-06-05T23:08:42.546Z"
   },
   {
    "duration": 10,
    "start_time": "2022-06-05T23:08:43.148Z"
   },
   {
    "duration": 9,
    "start_time": "2022-06-05T23:08:44.002Z"
   },
   {
    "duration": 10,
    "start_time": "2022-06-05T23:08:44.700Z"
   },
   {
    "duration": 10,
    "start_time": "2022-06-05T23:08:45.483Z"
   },
   {
    "duration": 12,
    "start_time": "2022-06-05T23:11:27.656Z"
   },
   {
    "duration": 23,
    "start_time": "2022-06-05T23:14:42.496Z"
   },
   {
    "duration": 20,
    "start_time": "2022-06-05T23:16:47.406Z"
   },
   {
    "duration": 21,
    "start_time": "2022-06-05T23:18:19.625Z"
   },
   {
    "duration": 10,
    "start_time": "2022-06-05T23:19:48.345Z"
   },
   {
    "duration": 4,
    "start_time": "2022-06-05T23:23:15.901Z"
   },
   {
    "duration": 539,
    "start_time": "2022-06-05T23:24:06.228Z"
   },
   {
    "duration": 29,
    "start_time": "2022-06-05T23:24:42.222Z"
   },
   {
    "duration": 22,
    "start_time": "2022-06-05T23:25:33.379Z"
   },
   {
    "duration": 19,
    "start_time": "2022-06-05T23:26:25.700Z"
   },
   {
    "duration": 18,
    "start_time": "2022-06-05T23:26:40.205Z"
   },
   {
    "duration": 4,
    "start_time": "2022-06-05T23:29:14.164Z"
   },
   {
    "duration": 64,
    "start_time": "2022-06-07T16:34:45.969Z"
   },
   {
    "duration": 872,
    "start_time": "2022-06-07T16:34:52.601Z"
   },
   {
    "duration": 241,
    "start_time": "2022-06-07T16:34:53.475Z"
   },
   {
    "duration": 313,
    "start_time": "2022-06-07T16:34:53.718Z"
   },
   {
    "duration": 323,
    "start_time": "2022-06-07T16:34:54.035Z"
   },
   {
    "duration": 54,
    "start_time": "2022-06-07T16:34:54.360Z"
   },
   {
    "duration": 53,
    "start_time": "2022-06-07T16:34:54.416Z"
   },
   {
    "duration": 16,
    "start_time": "2022-06-07T16:34:54.471Z"
   },
   {
    "duration": 27,
    "start_time": "2022-06-07T16:34:54.489Z"
   },
   {
    "duration": 10,
    "start_time": "2022-06-07T16:34:55.047Z"
   },
   {
    "duration": 22,
    "start_time": "2022-06-07T16:34:55.398Z"
   },
   {
    "duration": 11,
    "start_time": "2022-06-07T16:34:56.032Z"
   },
   {
    "duration": 19,
    "start_time": "2022-06-07T16:34:56.358Z"
   },
   {
    "duration": 11,
    "start_time": "2022-06-07T16:34:56.998Z"
   },
   {
    "duration": 11,
    "start_time": "2022-06-07T16:34:57.333Z"
   },
   {
    "duration": 12,
    "start_time": "2022-06-07T16:34:57.662Z"
   },
   {
    "duration": 12,
    "start_time": "2022-06-07T16:34:58.053Z"
   },
   {
    "duration": 6,
    "start_time": "2022-06-07T16:34:59.596Z"
   },
   {
    "duration": 35,
    "start_time": "2022-06-07T16:35:00.054Z"
   },
   {
    "duration": 29,
    "start_time": "2022-06-07T16:35:00.379Z"
   },
   {
    "duration": 21,
    "start_time": "2022-06-07T16:35:00.654Z"
   },
   {
    "duration": 8,
    "start_time": "2022-06-07T16:35:00.957Z"
   },
   {
    "duration": 103,
    "start_time": "2022-06-07T16:36:09.652Z"
   },
   {
    "duration": 78,
    "start_time": "2022-06-07T16:36:10.417Z"
   },
   {
    "duration": 57,
    "start_time": "2022-06-07T16:36:10.894Z"
   },
   {
    "duration": 7,
    "start_time": "2022-06-07T16:39:44.241Z"
   },
   {
    "duration": 9,
    "start_time": "2022-06-07T16:48:08.903Z"
   },
   {
    "duration": 23,
    "start_time": "2022-06-07T16:48:24.328Z"
   },
   {
    "duration": 21,
    "start_time": "2022-06-07T16:48:36.805Z"
   },
   {
    "duration": 17,
    "start_time": "2022-06-07T16:49:23.368Z"
   },
   {
    "duration": 17,
    "start_time": "2022-06-07T16:49:42.699Z"
   },
   {
    "duration": 16,
    "start_time": "2022-06-07T16:49:54.764Z"
   },
   {
    "duration": 16,
    "start_time": "2022-06-07T16:50:22.286Z"
   },
   {
    "duration": 53,
    "start_time": "2022-06-07T17:36:59.566Z"
   },
   {
    "duration": 39,
    "start_time": "2022-06-07T17:37:10.848Z"
   },
   {
    "duration": 12,
    "start_time": "2022-06-07T17:37:25.366Z"
   },
   {
    "duration": 42,
    "start_time": "2022-06-07T17:37:34.987Z"
   },
   {
    "duration": 22,
    "start_time": "2022-06-07T17:37:45.007Z"
   },
   {
    "duration": 11,
    "start_time": "2022-06-07T18:23:35.592Z"
   },
   {
    "duration": 8,
    "start_time": "2022-06-07T18:23:56.205Z"
   },
   {
    "duration": 18,
    "start_time": "2022-06-07T18:24:04.391Z"
   },
   {
    "duration": 10,
    "start_time": "2022-06-07T18:25:33.037Z"
   },
   {
    "duration": 17,
    "start_time": "2022-06-07T18:25:34.881Z"
   },
   {
    "duration": 58,
    "start_time": "2022-06-07T18:48:12.337Z"
   },
   {
    "duration": 7,
    "start_time": "2022-06-07T18:48:18.676Z"
   },
   {
    "duration": 756,
    "start_time": "2022-06-07T18:48:25.540Z"
   },
   {
    "duration": 226,
    "start_time": "2022-06-07T18:48:26.298Z"
   },
   {
    "duration": 304,
    "start_time": "2022-06-07T18:48:26.525Z"
   },
   {
    "duration": 303,
    "start_time": "2022-06-07T18:48:26.831Z"
   },
   {
    "duration": 53,
    "start_time": "2022-06-07T18:48:27.136Z"
   },
   {
    "duration": 60,
    "start_time": "2022-06-07T18:48:27.341Z"
   },
   {
    "duration": 17,
    "start_time": "2022-06-07T18:48:27.585Z"
   },
   {
    "duration": 26,
    "start_time": "2022-06-07T18:48:27.846Z"
   },
   {
    "duration": 10,
    "start_time": "2022-06-07T18:48:28.356Z"
   },
   {
    "duration": 26,
    "start_time": "2022-06-07T18:48:28.938Z"
   },
   {
    "duration": 9,
    "start_time": "2022-06-07T18:48:29.536Z"
   },
   {
    "duration": 20,
    "start_time": "2022-06-07T18:48:29.909Z"
   },
   {
    "duration": 8,
    "start_time": "2022-06-07T18:48:31.074Z"
   },
   {
    "duration": 13,
    "start_time": "2022-06-07T18:48:31.650Z"
   },
   {
    "duration": 10,
    "start_time": "2022-06-07T18:48:32.204Z"
   },
   {
    "duration": 11,
    "start_time": "2022-06-07T18:48:32.545Z"
   },
   {
    "duration": 5,
    "start_time": "2022-06-07T18:48:33.955Z"
   },
   {
    "duration": 34,
    "start_time": "2022-06-07T18:48:34.255Z"
   },
   {
    "duration": 23,
    "start_time": "2022-06-07T18:48:34.565Z"
   },
   {
    "duration": 36,
    "start_time": "2022-06-07T18:48:34.888Z"
   },
   {
    "duration": 7,
    "start_time": "2022-06-07T18:48:35.457Z"
   },
   {
    "duration": 107,
    "start_time": "2022-06-07T18:48:35.817Z"
   },
   {
    "duration": 74,
    "start_time": "2022-06-07T18:48:36.134Z"
   },
   {
    "duration": 44,
    "start_time": "2022-06-07T18:48:36.464Z"
   },
   {
    "duration": 7,
    "start_time": "2022-06-07T18:48:37.122Z"
   },
   {
    "duration": 7,
    "start_time": "2022-06-07T18:48:37.544Z"
   },
   {
    "duration": 21,
    "start_time": "2022-06-07T18:48:37.922Z"
   },
   {
    "duration": 19,
    "start_time": "2022-06-07T18:48:38.263Z"
   },
   {
    "duration": 16,
    "start_time": "2022-06-07T18:48:38.614Z"
   },
   {
    "duration": 20,
    "start_time": "2022-06-07T18:48:38.905Z"
   },
   {
    "duration": 38,
    "start_time": "2022-06-07T18:48:39.461Z"
   },
   {
    "duration": 14,
    "start_time": "2022-06-07T18:48:40.099Z"
   },
   {
    "duration": 57,
    "start_time": "2022-06-07T18:49:55.455Z"
   },
   {
    "duration": 9,
    "start_time": "2022-06-07T18:50:06.214Z"
   },
   {
    "duration": 850,
    "start_time": "2022-06-07T18:50:41.063Z"
   },
   {
    "duration": 239,
    "start_time": "2022-06-07T18:50:41.915Z"
   },
   {
    "duration": 309,
    "start_time": "2022-06-07T18:50:42.156Z"
   },
   {
    "duration": 308,
    "start_time": "2022-06-07T18:50:42.770Z"
   },
   {
    "duration": 64,
    "start_time": "2022-06-07T18:50:43.080Z"
   },
   {
    "duration": 49,
    "start_time": "2022-06-07T18:50:43.289Z"
   },
   {
    "duration": 16,
    "start_time": "2022-06-07T18:50:43.554Z"
   },
   {
    "duration": 26,
    "start_time": "2022-06-07T18:50:43.844Z"
   },
   {
    "duration": 10,
    "start_time": "2022-06-07T18:50:44.410Z"
   },
   {
    "duration": 21,
    "start_time": "2022-06-07T18:50:44.661Z"
   },
   {
    "duration": 8,
    "start_time": "2022-06-07T18:50:45.234Z"
   },
   {
    "duration": 20,
    "start_time": "2022-06-07T18:50:45.519Z"
   },
   {
    "duration": 9,
    "start_time": "2022-06-07T18:50:46.122Z"
   },
   {
    "duration": 10,
    "start_time": "2022-06-07T18:50:46.482Z"
   },
   {
    "duration": 11,
    "start_time": "2022-06-07T18:50:48.377Z"
   },
   {
    "duration": 14,
    "start_time": "2022-06-07T18:50:48.944Z"
   },
   {
    "duration": 7,
    "start_time": "2022-06-07T18:50:53.894Z"
   },
   {
    "duration": 42,
    "start_time": "2022-06-07T18:50:54.315Z"
   },
   {
    "duration": 25,
    "start_time": "2022-06-07T18:50:54.885Z"
   },
   {
    "duration": 23,
    "start_time": "2022-06-07T18:50:55.677Z"
   },
   {
    "duration": 8,
    "start_time": "2022-06-07T18:50:58.578Z"
   },
   {
    "duration": 115,
    "start_time": "2022-06-07T18:50:59.201Z"
   },
   {
    "duration": 75,
    "start_time": "2022-06-07T18:50:59.944Z"
   },
   {
    "duration": 45,
    "start_time": "2022-06-07T18:51:00.544Z"
   },
   {
    "duration": 44,
    "start_time": "2022-06-07T18:51:04.090Z"
   },
   {
    "duration": 7,
    "start_time": "2022-06-07T18:51:04.889Z"
   },
   {
    "duration": 7,
    "start_time": "2022-06-07T18:51:05.500Z"
   },
   {
    "duration": 19,
    "start_time": "2022-06-07T18:51:06.080Z"
   },
   {
    "duration": 19,
    "start_time": "2022-06-07T18:51:07.481Z"
   },
   {
    "duration": 16,
    "start_time": "2022-06-07T18:51:07.902Z"
   },
   {
    "duration": 16,
    "start_time": "2022-06-07T18:51:08.450Z"
   },
   {
    "duration": 41,
    "start_time": "2022-06-07T18:51:09.396Z"
   },
   {
    "duration": 13,
    "start_time": "2022-06-07T18:51:10.656Z"
   },
   {
    "duration": 58,
    "start_time": "2022-06-07T18:51:35.522Z"
   },
   {
    "duration": 7,
    "start_time": "2022-06-07T18:51:35.965Z"
   },
   {
    "duration": 7,
    "start_time": "2022-06-07T18:54:45.242Z"
   },
   {
    "duration": 8,
    "start_time": "2022-06-07T18:54:46.446Z"
   },
   {
    "duration": 7,
    "start_time": "2022-06-07T18:54:52.670Z"
   },
   {
    "duration": 826,
    "start_time": "2022-06-07T18:54:57.948Z"
   },
   {
    "duration": 288,
    "start_time": "2022-06-07T18:54:58.776Z"
   },
   {
    "duration": 298,
    "start_time": "2022-06-07T18:54:59.689Z"
   },
   {
    "duration": 315,
    "start_time": "2022-06-07T18:54:59.989Z"
   },
   {
    "duration": 54,
    "start_time": "2022-06-07T18:55:00.306Z"
   },
   {
    "duration": 51,
    "start_time": "2022-06-07T18:55:00.489Z"
   },
   {
    "duration": 15,
    "start_time": "2022-06-07T18:55:00.775Z"
   },
   {
    "duration": 34,
    "start_time": "2022-06-07T18:55:01.068Z"
   },
   {
    "duration": 11,
    "start_time": "2022-06-07T18:55:01.606Z"
   },
   {
    "duration": 25,
    "start_time": "2022-06-07T18:55:01.891Z"
   },
   {
    "duration": 8,
    "start_time": "2022-06-07T18:55:02.617Z"
   },
   {
    "duration": 18,
    "start_time": "2022-06-07T18:55:03.006Z"
   },
   {
    "duration": 8,
    "start_time": "2022-06-07T18:55:03.710Z"
   },
   {
    "duration": 13,
    "start_time": "2022-06-07T18:55:04.049Z"
   },
   {
    "duration": 10,
    "start_time": "2022-06-07T18:55:04.379Z"
   },
   {
    "duration": 10,
    "start_time": "2022-06-07T18:55:04.833Z"
   },
   {
    "duration": 6,
    "start_time": "2022-06-07T18:55:06.122Z"
   },
   {
    "duration": 44,
    "start_time": "2022-06-07T18:55:06.409Z"
   },
   {
    "duration": 32,
    "start_time": "2022-06-07T18:55:06.723Z"
   },
   {
    "duration": 21,
    "start_time": "2022-06-07T18:55:10.885Z"
   },
   {
    "duration": 7,
    "start_time": "2022-06-07T18:55:11.642Z"
   },
   {
    "duration": 110,
    "start_time": "2022-06-07T18:55:11.955Z"
   },
   {
    "duration": 72,
    "start_time": "2022-06-07T18:55:12.736Z"
   },
   {
    "duration": 45,
    "start_time": "2022-06-07T18:55:12.989Z"
   },
   {
    "duration": 8,
    "start_time": "2022-06-07T18:55:13.565Z"
   },
   {
    "duration": 7,
    "start_time": "2022-06-07T18:55:13.965Z"
   },
   {
    "duration": 26,
    "start_time": "2022-06-07T18:55:14.437Z"
   },
   {
    "duration": 21,
    "start_time": "2022-06-07T18:55:17.950Z"
   },
   {
    "duration": 17,
    "start_time": "2022-06-07T18:55:18.759Z"
   },
   {
    "duration": 17,
    "start_time": "2022-06-07T18:55:19.149Z"
   },
   {
    "duration": 42,
    "start_time": "2022-06-07T18:55:20.109Z"
   },
   {
    "duration": 12,
    "start_time": "2022-06-07T18:55:22.403Z"
   },
   {
    "duration": 57,
    "start_time": "2022-06-07T18:55:42.762Z"
   },
   {
    "duration": 8,
    "start_time": "2022-06-07T18:55:54.882Z"
   },
   {
    "duration": 6,
    "start_time": "2022-06-07T18:56:08.238Z"
   },
   {
    "duration": 852,
    "start_time": "2022-06-07T18:56:19.422Z"
   },
   {
    "duration": 230,
    "start_time": "2022-06-07T18:56:20.276Z"
   },
   {
    "duration": 310,
    "start_time": "2022-06-07T18:56:20.508Z"
   },
   {
    "duration": 314,
    "start_time": "2022-06-07T18:56:21.327Z"
   },
   {
    "duration": 55,
    "start_time": "2022-06-07T18:56:22.092Z"
   },
   {
    "duration": 69,
    "start_time": "2022-06-07T18:56:22.521Z"
   },
   {
    "duration": 16,
    "start_time": "2022-06-07T18:56:22.921Z"
   },
   {
    "duration": 27,
    "start_time": "2022-06-07T18:56:23.478Z"
   },
   {
    "duration": 9,
    "start_time": "2022-06-07T18:56:24.351Z"
   },
   {
    "duration": 22,
    "start_time": "2022-06-07T18:56:24.753Z"
   },
   {
    "duration": 9,
    "start_time": "2022-06-07T18:56:26.903Z"
   },
   {
    "duration": 18,
    "start_time": "2022-06-07T18:56:27.272Z"
   },
   {
    "duration": 8,
    "start_time": "2022-06-07T18:56:27.842Z"
   },
   {
    "duration": 11,
    "start_time": "2022-06-07T18:56:28.183Z"
   },
   {
    "duration": 11,
    "start_time": "2022-06-07T18:56:28.512Z"
   },
   {
    "duration": 17,
    "start_time": "2022-06-07T18:56:29.025Z"
   },
   {
    "duration": 6,
    "start_time": "2022-06-07T18:56:30.543Z"
   },
   {
    "duration": 37,
    "start_time": "2022-06-07T18:56:30.894Z"
   },
   {
    "duration": 23,
    "start_time": "2022-06-07T18:56:31.211Z"
   },
   {
    "duration": 20,
    "start_time": "2022-06-07T18:56:31.537Z"
   },
   {
    "duration": 7,
    "start_time": "2022-06-07T18:56:32.189Z"
   },
   {
    "duration": 105,
    "start_time": "2022-06-07T18:56:32.559Z"
   },
   {
    "duration": 69,
    "start_time": "2022-06-07T18:56:32.907Z"
   },
   {
    "duration": 47,
    "start_time": "2022-06-07T18:56:33.186Z"
   },
   {
    "duration": 8,
    "start_time": "2022-06-07T18:56:33.774Z"
   },
   {
    "duration": 8,
    "start_time": "2022-06-07T18:56:34.045Z"
   },
   {
    "duration": 20,
    "start_time": "2022-06-07T18:56:34.459Z"
   },
   {
    "duration": 20,
    "start_time": "2022-06-07T18:56:34.976Z"
   },
   {
    "duration": 17,
    "start_time": "2022-06-07T18:56:35.446Z"
   },
   {
    "duration": 16,
    "start_time": "2022-06-07T18:56:59.224Z"
   },
   {
    "duration": 42,
    "start_time": "2022-06-07T18:57:00.977Z"
   },
   {
    "duration": 14,
    "start_time": "2022-06-07T18:57:02.169Z"
   },
   {
    "duration": 72,
    "start_time": "2022-06-07T19:49:09.018Z"
   },
   {
    "duration": 6,
    "start_time": "2022-06-07T19:49:17.031Z"
   },
   {
    "duration": 792,
    "start_time": "2022-06-07T19:49:28.002Z"
   },
   {
    "duration": 258,
    "start_time": "2022-06-07T19:49:28.796Z"
   },
   {
    "duration": 328,
    "start_time": "2022-06-07T19:49:29.057Z"
   },
   {
    "duration": 292,
    "start_time": "2022-06-07T19:49:29.388Z"
   },
   {
    "duration": 54,
    "start_time": "2022-06-07T19:49:29.682Z"
   },
   {
    "duration": 50,
    "start_time": "2022-06-07T19:49:29.737Z"
   },
   {
    "duration": 17,
    "start_time": "2022-06-07T19:49:29.789Z"
   },
   {
    "duration": 25,
    "start_time": "2022-06-07T19:49:29.808Z"
   },
   {
    "duration": 9,
    "start_time": "2022-06-07T19:49:30.290Z"
   },
   {
    "duration": 23,
    "start_time": "2022-06-07T19:49:30.561Z"
   },
   {
    "duration": 8,
    "start_time": "2022-06-07T19:49:31.050Z"
   },
   {
    "duration": 19,
    "start_time": "2022-06-07T19:49:31.294Z"
   },
   {
    "duration": 8,
    "start_time": "2022-06-07T19:49:31.786Z"
   },
   {
    "duration": 20,
    "start_time": "2022-06-07T19:49:32.026Z"
   },
   {
    "duration": 11,
    "start_time": "2022-06-07T19:49:32.388Z"
   },
   {
    "duration": 11,
    "start_time": "2022-06-07T19:49:32.622Z"
   },
   {
    "duration": 4,
    "start_time": "2022-06-07T19:49:33.610Z"
   },
   {
    "duration": 36,
    "start_time": "2022-06-07T19:49:33.846Z"
   },
   {
    "duration": 25,
    "start_time": "2022-06-07T19:49:34.122Z"
   },
   {
    "duration": 25,
    "start_time": "2022-06-07T19:49:34.398Z"
   },
   {
    "duration": 7,
    "start_time": "2022-06-07T19:49:34.934Z"
   },
   {
    "duration": 104,
    "start_time": "2022-06-07T19:49:35.206Z"
   },
   {
    "duration": 75,
    "start_time": "2022-06-07T19:49:35.478Z"
   },
   {
    "duration": 45,
    "start_time": "2022-06-07T19:49:35.728Z"
   },
   {
    "duration": 7,
    "start_time": "2022-06-07T19:49:36.220Z"
   },
   {
    "duration": 8,
    "start_time": "2022-06-07T19:49:36.470Z"
   },
   {
    "duration": 19,
    "start_time": "2022-06-07T19:49:36.732Z"
   },
   {
    "duration": 19,
    "start_time": "2022-06-07T19:49:36.971Z"
   },
   {
    "duration": 16,
    "start_time": "2022-06-07T19:49:37.223Z"
   },
   {
    "duration": 17,
    "start_time": "2022-06-07T19:49:37.463Z"
   },
   {
    "duration": 57,
    "start_time": "2022-06-07T19:49:37.957Z"
   },
   {
    "duration": 11,
    "start_time": "2022-06-07T19:49:42.955Z"
   },
   {
    "duration": 10,
    "start_time": "2022-06-07T19:49:54.701Z"
   },
   {
    "duration": 14,
    "start_time": "2022-06-07T19:50:03.368Z"
   },
   {
    "duration": 8,
    "start_time": "2022-06-07T19:50:50.622Z"
   },
   {
    "duration": 4,
    "start_time": "2022-06-07T19:51:04.615Z"
   },
   {
    "duration": 5,
    "start_time": "2022-06-07T19:51:19.645Z"
   },
   {
    "duration": 12,
    "start_time": "2022-06-07T19:55:12.103Z"
   },
   {
    "duration": 394,
    "start_time": "2022-06-07T19:55:22.792Z"
   },
   {
    "duration": 31,
    "start_time": "2022-06-07T19:58:27.051Z"
   },
   {
    "duration": 5,
    "start_time": "2022-06-07T19:58:41.299Z"
   },
   {
    "duration": 16,
    "start_time": "2022-06-07T20:02:50.552Z"
   },
   {
    "duration": 13,
    "start_time": "2022-06-07T20:03:17.179Z"
   },
   {
    "duration": 6,
    "start_time": "2022-06-07T20:03:37.333Z"
   },
   {
    "duration": 11,
    "start_time": "2022-06-07T20:03:44.551Z"
   },
   {
    "duration": 10,
    "start_time": "2022-06-07T20:05:39.567Z"
   },
   {
    "duration": 9,
    "start_time": "2022-06-07T20:05:47.695Z"
   },
   {
    "duration": 399,
    "start_time": "2022-06-07T20:06:07.591Z"
   },
   {
    "duration": 5,
    "start_time": "2022-06-07T20:06:16.417Z"
   },
   {
    "duration": 9,
    "start_time": "2022-06-07T20:06:24.797Z"
   },
   {
    "duration": 6,
    "start_time": "2022-06-07T20:06:36.021Z"
   },
   {
    "duration": 5,
    "start_time": "2022-06-07T20:07:24.152Z"
   },
   {
    "duration": 8,
    "start_time": "2022-06-07T20:07:33.749Z"
   },
   {
    "duration": 7,
    "start_time": "2022-06-07T20:07:46.069Z"
   },
   {
    "duration": 23,
    "start_time": "2022-06-07T20:12:07.114Z"
   },
   {
    "duration": 3,
    "start_time": "2022-06-07T20:12:20.622Z"
   },
   {
    "duration": 23,
    "start_time": "2022-06-07T20:26:23.283Z"
   },
   {
    "duration": 14,
    "start_time": "2022-06-07T20:26:43.298Z"
   },
   {
    "duration": 395,
    "start_time": "2022-06-07T20:31:03.390Z"
   },
   {
    "duration": 17,
    "start_time": "2022-06-07T20:31:16.309Z"
   },
   {
    "duration": 15,
    "start_time": "2022-06-07T20:31:55.849Z"
   },
   {
    "duration": 862,
    "start_time": "2022-06-07T22:28:26.628Z"
   },
   {
    "duration": 219,
    "start_time": "2022-06-07T22:28:27.492Z"
   },
   {
    "duration": 302,
    "start_time": "2022-06-07T22:28:27.713Z"
   },
   {
    "duration": 285,
    "start_time": "2022-06-07T22:28:28.069Z"
   },
   {
    "duration": 54,
    "start_time": "2022-06-07T22:28:28.356Z"
   },
   {
    "duration": 64,
    "start_time": "2022-06-07T22:28:28.558Z"
   },
   {
    "duration": 14,
    "start_time": "2022-06-07T22:28:28.815Z"
   },
   {
    "duration": 23,
    "start_time": "2022-06-07T22:28:29.031Z"
   },
   {
    "duration": 8,
    "start_time": "2022-06-07T22:28:29.505Z"
   },
   {
    "duration": 21,
    "start_time": "2022-06-07T22:28:29.752Z"
   },
   {
    "duration": 7,
    "start_time": "2022-06-07T22:28:30.256Z"
   },
   {
    "duration": 19,
    "start_time": "2022-06-07T22:28:30.500Z"
   },
   {
    "duration": 8,
    "start_time": "2022-06-07T22:28:31.000Z"
   },
   {
    "duration": 11,
    "start_time": "2022-06-07T22:28:31.258Z"
   },
   {
    "duration": 11,
    "start_time": "2022-06-07T22:28:31.551Z"
   },
   {
    "duration": 13,
    "start_time": "2022-06-07T22:28:31.791Z"
   },
   {
    "duration": 5,
    "start_time": "2022-06-07T22:28:32.892Z"
   },
   {
    "duration": 33,
    "start_time": "2022-06-07T22:28:33.145Z"
   },
   {
    "duration": 24,
    "start_time": "2022-06-07T22:28:33.387Z"
   },
   {
    "duration": 19,
    "start_time": "2022-06-07T22:28:33.637Z"
   },
   {
    "duration": 21,
    "start_time": "2022-06-07T22:28:34.118Z"
   },
   {
    "duration": 16,
    "start_time": "2022-06-07T22:28:34.388Z"
   },
   {
    "duration": 14,
    "start_time": "2022-06-07T22:28:34.652Z"
   },
   {
    "duration": 6,
    "start_time": "2022-06-07T22:28:35.160Z"
   },
   {
    "duration": 102,
    "start_time": "2022-06-07T22:28:35.431Z"
   },
   {
    "duration": 56,
    "start_time": "2022-06-07T22:28:35.783Z"
   },
   {
    "duration": 47,
    "start_time": "2022-06-07T22:28:36.066Z"
   },
   {
    "duration": 6,
    "start_time": "2022-06-07T22:28:36.596Z"
   },
   {
    "duration": 6,
    "start_time": "2022-06-07T22:28:37.188Z"
   },
   {
    "duration": 18,
    "start_time": "2022-06-07T22:28:37.940Z"
   },
   {
    "duration": 20,
    "start_time": "2022-06-07T22:28:38.304Z"
   },
   {
    "duration": 17,
    "start_time": "2022-06-07T22:28:38.704Z"
   },
   {
    "duration": 17,
    "start_time": "2022-06-07T22:28:39.025Z"
   },
   {
    "duration": 31,
    "start_time": "2022-06-07T22:28:39.642Z"
   },
   {
    "duration": 4,
    "start_time": "2022-06-07T22:28:39.967Z"
   },
   {
    "duration": 2,
    "start_time": "2022-06-07T22:28:40.438Z"
   },
   {
    "duration": 30,
    "start_time": "2022-06-07T22:28:53.479Z"
   },
   {
    "duration": 108,
    "start_time": "2022-06-07T22:29:12.152Z"
   },
   {
    "duration": 21,
    "start_time": "2022-06-07T22:29:36.714Z"
   },
   {
    "duration": 8,
    "start_time": "2022-06-07T22:30:04.209Z"
   },
   {
    "duration": 30,
    "start_time": "2022-06-07T22:30:11.786Z"
   },
   {
    "duration": 21,
    "start_time": "2022-06-07T22:30:23.872Z"
   },
   {
    "duration": 291,
    "start_time": "2022-06-07T22:30:59.276Z"
   },
   {
    "duration": 17,
    "start_time": "2022-06-07T22:31:00.148Z"
   },
   {
    "duration": 23,
    "start_time": "2022-06-07T22:31:12.031Z"
   },
   {
    "duration": 36,
    "start_time": "2022-06-07T22:31:12.536Z"
   },
   {
    "duration": 10,
    "start_time": "2022-06-07T22:32:27.795Z"
   },
   {
    "duration": 9,
    "start_time": "2022-06-07T22:32:46.787Z"
   },
   {
    "duration": 9,
    "start_time": "2022-06-07T22:32:55.057Z"
   },
   {
    "duration": 34,
    "start_time": "2022-06-07T22:33:13.552Z"
   },
   {
    "duration": 9,
    "start_time": "2022-06-07T22:33:21.759Z"
   },
   {
    "duration": 7,
    "start_time": "2022-06-07T22:34:01.229Z"
   },
   {
    "duration": 7,
    "start_time": "2022-06-07T22:34:31.119Z"
   },
   {
    "duration": 25,
    "start_time": "2022-06-07T22:34:32.049Z"
   },
   {
    "duration": 4,
    "start_time": "2022-06-07T22:35:25.017Z"
   },
   {
    "duration": 9,
    "start_time": "2022-06-07T22:35:25.885Z"
   },
   {
    "duration": 27,
    "start_time": "2022-06-07T22:35:26.557Z"
   },
   {
    "duration": 6,
    "start_time": "2022-06-07T22:37:22.705Z"
   },
   {
    "duration": 6,
    "start_time": "2022-06-07T22:37:23.246Z"
   },
   {
    "duration": 24,
    "start_time": "2022-06-07T22:37:23.770Z"
   },
   {
    "duration": 28,
    "start_time": "2022-06-07T22:37:57.440Z"
   },
   {
    "duration": 7,
    "start_time": "2022-06-07T22:37:57.986Z"
   },
   {
    "duration": 4,
    "start_time": "2022-06-07T22:37:58.444Z"
   },
   {
    "duration": 22,
    "start_time": "2022-06-07T22:37:58.869Z"
   },
   {
    "duration": 2,
    "start_time": "2022-06-07T22:38:13.288Z"
   },
   {
    "duration": 157,
    "start_time": "2022-06-07T22:38:13.509Z"
   },
   {
    "duration": 133,
    "start_time": "2022-06-07T22:38:13.725Z"
   },
   {
    "duration": 86,
    "start_time": "2022-06-07T22:38:13.979Z"
   },
   {
    "duration": 15,
    "start_time": "2022-06-07T22:38:14.210Z"
   },
   {
    "duration": 25,
    "start_time": "2022-06-07T22:38:14.441Z"
   },
   {
    "duration": 9,
    "start_time": "2022-06-07T22:38:14.695Z"
   },
   {
    "duration": 22,
    "start_time": "2022-06-07T22:38:14.923Z"
   },
   {
    "duration": 9,
    "start_time": "2022-06-07T22:38:15.404Z"
   },
   {
    "duration": 19,
    "start_time": "2022-06-07T22:38:15.649Z"
   },
   {
    "duration": 7,
    "start_time": "2022-06-07T22:38:16.204Z"
   },
   {
    "duration": 18,
    "start_time": "2022-06-07T22:38:16.442Z"
   },
   {
    "duration": 9,
    "start_time": "2022-06-07T22:38:16.935Z"
   },
   {
    "duration": 10,
    "start_time": "2022-06-07T22:38:17.183Z"
   },
   {
    "duration": 11,
    "start_time": "2022-06-07T22:38:17.530Z"
   },
   {
    "duration": 10,
    "start_time": "2022-06-07T22:38:17.844Z"
   },
   {
    "duration": 4,
    "start_time": "2022-06-07T22:38:18.883Z"
   },
   {
    "duration": 29,
    "start_time": "2022-06-07T22:38:19.126Z"
   },
   {
    "duration": 23,
    "start_time": "2022-06-07T22:38:19.345Z"
   },
   {
    "duration": 19,
    "start_time": "2022-06-07T22:38:19.627Z"
   },
   {
    "duration": 20,
    "start_time": "2022-06-07T22:38:20.049Z"
   },
   {
    "duration": 16,
    "start_time": "2022-06-07T22:38:20.289Z"
   },
   {
    "duration": 14,
    "start_time": "2022-06-07T22:38:20.561Z"
   },
   {
    "duration": 7,
    "start_time": "2022-06-07T22:38:21.098Z"
   },
   {
    "duration": 101,
    "start_time": "2022-06-07T22:38:21.351Z"
   },
   {
    "duration": 65,
    "start_time": "2022-06-07T22:38:21.612Z"
   },
   {
    "duration": 41,
    "start_time": "2022-06-07T22:38:21.839Z"
   },
   {
    "duration": 6,
    "start_time": "2022-06-07T22:38:22.449Z"
   },
   {
    "duration": 8,
    "start_time": "2022-06-07T22:38:23.000Z"
   },
   {
    "duration": 22,
    "start_time": "2022-06-07T22:38:23.242Z"
   },
   {
    "duration": 18,
    "start_time": "2022-06-07T22:38:23.651Z"
   },
   {
    "duration": 16,
    "start_time": "2022-06-07T22:38:23.946Z"
   },
   {
    "duration": 15,
    "start_time": "2022-06-07T22:38:24.235Z"
   },
   {
    "duration": 28,
    "start_time": "2022-06-07T22:38:25.230Z"
   },
   {
    "duration": 25,
    "start_time": "2022-06-07T22:38:25.748Z"
   },
   {
    "duration": 27,
    "start_time": "2022-06-07T22:38:26.056Z"
   },
   {
    "duration": 7,
    "start_time": "2022-06-07T22:38:26.757Z"
   },
   {
    "duration": 3,
    "start_time": "2022-06-07T22:38:32.184Z"
   },
   {
    "duration": 27,
    "start_time": "2022-06-07T22:38:32.879Z"
   },
   {
    "duration": 2,
    "start_time": "2022-06-07T22:38:59.989Z"
   },
   {
    "duration": 29,
    "start_time": "2022-06-07T22:39:00.330Z"
   },
   {
    "duration": 3,
    "start_time": "2022-06-07T22:40:12.647Z"
   },
   {
    "duration": 152,
    "start_time": "2022-06-07T22:40:13.526Z"
   },
   {
    "duration": 127,
    "start_time": "2022-06-07T22:40:13.834Z"
   },
   {
    "duration": 83,
    "start_time": "2022-06-07T22:40:14.167Z"
   },
   {
    "duration": 14,
    "start_time": "2022-06-07T22:40:14.407Z"
   },
   {
    "duration": 34,
    "start_time": "2022-06-07T22:40:14.627Z"
   },
   {
    "duration": 9,
    "start_time": "2022-06-07T22:40:14.859Z"
   },
   {
    "duration": 22,
    "start_time": "2022-06-07T22:40:15.076Z"
   },
   {
    "duration": 9,
    "start_time": "2022-06-07T22:40:15.569Z"
   },
   {
    "duration": 23,
    "start_time": "2022-06-07T22:40:15.808Z"
   },
   {
    "duration": 7,
    "start_time": "2022-06-07T22:40:16.281Z"
   },
   {
    "duration": 17,
    "start_time": "2022-06-07T22:40:16.520Z"
   },
   {
    "duration": 7,
    "start_time": "2022-06-07T22:40:17.009Z"
   },
   {
    "duration": 12,
    "start_time": "2022-06-07T22:40:17.252Z"
   },
   {
    "duration": 10,
    "start_time": "2022-06-07T22:40:17.491Z"
   },
   {
    "duration": 10,
    "start_time": "2022-06-07T22:40:17.752Z"
   },
   {
    "duration": 5,
    "start_time": "2022-06-07T22:40:18.771Z"
   },
   {
    "duration": 30,
    "start_time": "2022-06-07T22:40:19.012Z"
   },
   {
    "duration": 22,
    "start_time": "2022-06-07T22:40:19.235Z"
   },
   {
    "duration": 19,
    "start_time": "2022-06-07T22:40:19.462Z"
   },
   {
    "duration": 22,
    "start_time": "2022-06-07T22:40:19.912Z"
   },
   {
    "duration": 16,
    "start_time": "2022-06-07T22:40:20.155Z"
   },
   {
    "duration": 15,
    "start_time": "2022-06-07T22:40:20.363Z"
   },
   {
    "duration": 8,
    "start_time": "2022-06-07T22:40:20.834Z"
   },
   {
    "duration": 105,
    "start_time": "2022-06-07T22:40:21.055Z"
   },
   {
    "duration": 59,
    "start_time": "2022-06-07T22:40:21.466Z"
   },
   {
    "duration": 42,
    "start_time": "2022-06-07T22:40:21.708Z"
   },
   {
    "duration": 6,
    "start_time": "2022-06-07T22:40:22.463Z"
   },
   {
    "duration": 8,
    "start_time": "2022-06-07T22:40:22.726Z"
   },
   {
    "duration": 20,
    "start_time": "2022-06-07T22:40:22.956Z"
   },
   {
    "duration": 19,
    "start_time": "2022-06-07T22:40:23.197Z"
   },
   {
    "duration": 15,
    "start_time": "2022-06-07T22:40:23.427Z"
   },
   {
    "duration": 16,
    "start_time": "2022-06-07T22:40:23.670Z"
   },
   {
    "duration": 23,
    "start_time": "2022-06-07T22:40:24.357Z"
   },
   {
    "duration": 24,
    "start_time": "2022-06-07T22:40:24.940Z"
   },
   {
    "duration": 26,
    "start_time": "2022-06-07T22:40:25.280Z"
   },
   {
    "duration": 6,
    "start_time": "2022-06-07T22:40:25.701Z"
   },
   {
    "duration": 2,
    "start_time": "2022-06-07T22:40:26.502Z"
   },
   {
    "duration": 23,
    "start_time": "2022-06-07T22:40:26.958Z"
   },
   {
    "duration": 8,
    "start_time": "2022-06-07T22:40:47.310Z"
   },
   {
    "duration": 3,
    "start_time": "2022-06-07T22:40:47.789Z"
   },
   {
    "duration": 28,
    "start_time": "2022-06-07T22:40:48.153Z"
   },
   {
    "duration": 6,
    "start_time": "2022-06-07T22:41:26.770Z"
   },
   {
    "duration": 2,
    "start_time": "2022-06-07T22:41:27.021Z"
   },
   {
    "duration": 24,
    "start_time": "2022-06-07T22:41:27.695Z"
   },
   {
    "duration": 2,
    "start_time": "2022-06-07T22:42:09.668Z"
   },
   {
    "duration": 23,
    "start_time": "2022-06-07T22:42:10.062Z"
   },
   {
    "duration": 6,
    "start_time": "2022-06-07T22:42:38.022Z"
   },
   {
    "duration": 23,
    "start_time": "2022-06-07T22:42:46.420Z"
   },
   {
    "duration": 8,
    "start_time": "2022-06-07T22:43:03.560Z"
   },
   {
    "duration": 23,
    "start_time": "2022-06-07T22:43:03.936Z"
   },
   {
    "duration": 27,
    "start_time": "2022-06-07T22:43:25.552Z"
   },
   {
    "duration": 22,
    "start_time": "2022-06-07T22:43:25.854Z"
   },
   {
    "duration": 14,
    "start_time": "2022-06-07T22:43:39.261Z"
   },
   {
    "duration": 24,
    "start_time": "2022-06-07T22:43:39.946Z"
   },
   {
    "duration": 12,
    "start_time": "2022-06-07T22:44:24.538Z"
   },
   {
    "duration": 21,
    "start_time": "2022-06-07T22:46:36.138Z"
   },
   {
    "duration": 11,
    "start_time": "2022-06-07T22:47:11.761Z"
   },
   {
    "duration": 12,
    "start_time": "2022-06-07T22:47:20.226Z"
   },
   {
    "duration": 12,
    "start_time": "2022-06-07T22:50:25.907Z"
   },
   {
    "duration": 18,
    "start_time": "2022-06-07T22:50:58.760Z"
   },
   {
    "duration": 4,
    "start_time": "2022-06-07T22:54:27.248Z"
   },
   {
    "duration": 3,
    "start_time": "2022-06-07T22:54:50.822Z"
   },
   {
    "duration": 13,
    "start_time": "2022-06-07T22:54:53.746Z"
   },
   {
    "duration": 10,
    "start_time": "2022-06-07T23:05:14.640Z"
   },
   {
    "duration": 10,
    "start_time": "2022-06-07T23:06:04.833Z"
   },
   {
    "duration": 11,
    "start_time": "2022-06-07T23:06:29.076Z"
   },
   {
    "duration": 13,
    "start_time": "2022-06-07T23:07:06.286Z"
   },
   {
    "duration": 8,
    "start_time": "2022-06-07T23:07:16.719Z"
   },
   {
    "duration": 7,
    "start_time": "2022-06-07T23:07:33.721Z"
   },
   {
    "duration": 10,
    "start_time": "2022-06-07T23:09:05.610Z"
   },
   {
    "duration": 40,
    "start_time": "2022-06-07T23:09:48.799Z"
   },
   {
    "duration": 7,
    "start_time": "2022-06-07T23:09:51.582Z"
   },
   {
    "duration": 12,
    "start_time": "2022-06-07T23:10:03.906Z"
   },
   {
    "duration": 6,
    "start_time": "2022-06-07T23:10:04.348Z"
   },
   {
    "duration": 11,
    "start_time": "2022-06-07T23:11:10.108Z"
   },
   {
    "duration": 13,
    "start_time": "2022-06-07T23:11:10.528Z"
   },
   {
    "duration": 7,
    "start_time": "2022-06-07T23:11:10.873Z"
   },
   {
    "duration": 2,
    "start_time": "2022-06-07T23:11:11.531Z"
   },
   {
    "duration": 10,
    "start_time": "2022-06-07T23:11:18.067Z"
   },
   {
    "duration": 7,
    "start_time": "2022-06-07T23:11:18.469Z"
   },
   {
    "duration": 9,
    "start_time": "2022-06-07T23:11:30.614Z"
   },
   {
    "duration": 9,
    "start_time": "2022-06-07T23:11:53.656Z"
   },
   {
    "duration": 12,
    "start_time": "2022-06-07T23:11:53.966Z"
   },
   {
    "duration": 5,
    "start_time": "2022-06-07T23:11:54.427Z"
   },
   {
    "duration": 3,
    "start_time": "2022-06-07T23:11:59.855Z"
   },
   {
    "duration": 13,
    "start_time": "2022-06-07T23:12:00.444Z"
   },
   {
    "duration": 16,
    "start_time": "2022-06-07T23:12:40.719Z"
   },
   {
    "duration": 5,
    "start_time": "2022-06-07T23:12:42.296Z"
   },
   {
    "duration": 3,
    "start_time": "2022-06-07T23:12:43.336Z"
   },
   {
    "duration": 8,
    "start_time": "2022-06-07T23:12:44.126Z"
   },
   {
    "duration": 22,
    "start_time": "2022-06-07T23:12:57.737Z"
   },
   {
    "duration": 2,
    "start_time": "2022-06-07T23:16:16.636Z"
   },
   {
    "duration": 2,
    "start_time": "2022-06-07T23:16:16.897Z"
   },
   {
    "duration": 8,
    "start_time": "2022-06-07T23:16:17.392Z"
   },
   {
    "duration": 14,
    "start_time": "2022-06-07T23:16:17.869Z"
   },
   {
    "duration": 3,
    "start_time": "2022-06-07T23:16:52.425Z"
   },
   {
    "duration": 2,
    "start_time": "2022-06-07T23:17:24.631Z"
   },
   {
    "duration": 159,
    "start_time": "2022-06-07T23:17:24.916Z"
   },
   {
    "duration": 127,
    "start_time": "2022-06-07T23:17:25.197Z"
   },
   {
    "duration": 92,
    "start_time": "2022-06-07T23:17:25.519Z"
   },
   {
    "duration": 14,
    "start_time": "2022-06-07T23:17:25.780Z"
   },
   {
    "duration": 35,
    "start_time": "2022-06-07T23:17:26.040Z"
   },
   {
    "duration": 9,
    "start_time": "2022-06-07T23:17:26.300Z"
   },
   {
    "duration": 26,
    "start_time": "2022-06-07T23:17:26.539Z"
   },
   {
    "duration": 9,
    "start_time": "2022-06-07T23:17:27.039Z"
   },
   {
    "duration": 25,
    "start_time": "2022-06-07T23:17:27.268Z"
   },
   {
    "duration": 7,
    "start_time": "2022-06-07T23:17:27.781Z"
   },
   {
    "duration": 17,
    "start_time": "2022-06-07T23:17:28.029Z"
   },
   {
    "duration": 7,
    "start_time": "2022-06-07T23:17:28.531Z"
   },
   {
    "duration": 9,
    "start_time": "2022-06-07T23:17:28.790Z"
   },
   {
    "duration": 10,
    "start_time": "2022-06-07T23:17:29.044Z"
   },
   {
    "duration": 11,
    "start_time": "2022-06-07T23:17:29.281Z"
   },
   {
    "duration": 4,
    "start_time": "2022-06-07T23:17:30.314Z"
   },
   {
    "duration": 31,
    "start_time": "2022-06-07T23:17:30.582Z"
   },
   {
    "duration": 23,
    "start_time": "2022-06-07T23:17:30.815Z"
   },
   {
    "duration": 19,
    "start_time": "2022-06-07T23:17:31.084Z"
   },
   {
    "duration": 21,
    "start_time": "2022-06-07T23:17:31.615Z"
   },
   {
    "duration": 19,
    "start_time": "2022-06-07T23:17:31.903Z"
   },
   {
    "duration": 14,
    "start_time": "2022-06-07T23:17:32.158Z"
   },
   {
    "duration": 7,
    "start_time": "2022-06-07T23:17:32.760Z"
   },
   {
    "duration": 97,
    "start_time": "2022-06-07T23:17:33.036Z"
   },
   {
    "duration": 51,
    "start_time": "2022-06-07T23:17:33.284Z"
   },
   {
    "duration": 37,
    "start_time": "2022-06-07T23:17:33.547Z"
   },
   {
    "duration": 6,
    "start_time": "2022-06-07T23:17:34.056Z"
   },
   {
    "duration": 6,
    "start_time": "2022-06-07T23:17:34.365Z"
   },
   {
    "duration": 19,
    "start_time": "2022-06-07T23:17:35.036Z"
   },
   {
    "duration": 18,
    "start_time": "2022-06-07T23:17:35.285Z"
   },
   {
    "duration": 17,
    "start_time": "2022-06-07T23:17:35.567Z"
   },
   {
    "duration": 16,
    "start_time": "2022-06-07T23:17:35.831Z"
   },
   {
    "duration": 11,
    "start_time": "2022-06-07T23:17:36.761Z"
   },
   {
    "duration": 12,
    "start_time": "2022-06-07T23:17:37.052Z"
   },
   {
    "duration": 9,
    "start_time": "2022-06-07T23:17:37.352Z"
   },
   {
    "duration": 12,
    "start_time": "2022-06-07T23:17:37.700Z"
   },
   {
    "duration": 3,
    "start_time": "2022-06-07T23:17:37.998Z"
   },
   {
    "duration": 2,
    "start_time": "2022-06-07T23:17:38.319Z"
   },
   {
    "duration": 8,
    "start_time": "2022-06-07T23:17:38.581Z"
   },
   {
    "duration": 14,
    "start_time": "2022-06-07T23:17:38.904Z"
   },
   {
    "duration": 4,
    "start_time": "2022-06-07T23:17:51.120Z"
   },
   {
    "duration": 4,
    "start_time": "2022-06-07T23:17:51.412Z"
   },
   {
    "duration": 8,
    "start_time": "2022-06-07T23:17:52.040Z"
   },
   {
    "duration": 11,
    "start_time": "2022-06-07T23:17:53.650Z"
   },
   {
    "duration": 14,
    "start_time": "2022-06-07T23:20:16.063Z"
   },
   {
    "duration": 5,
    "start_time": "2022-06-07T23:20:29.366Z"
   },
   {
    "duration": 12,
    "start_time": "2022-06-07T23:20:39.066Z"
   },
   {
    "duration": 4,
    "start_time": "2022-06-07T23:22:11.639Z"
   },
   {
    "duration": 12,
    "start_time": "2022-06-07T23:22:11.879Z"
   },
   {
    "duration": 4,
    "start_time": "2022-06-07T23:23:21.500Z"
   },
   {
    "duration": 7,
    "start_time": "2022-06-07T23:23:23.385Z"
   },
   {
    "duration": 12,
    "start_time": "2022-06-07T23:23:23.667Z"
   },
   {
    "duration": 3,
    "start_time": "2022-06-07T23:23:24.524Z"
   },
   {
    "duration": 12,
    "start_time": "2022-06-07T23:23:25.936Z"
   },
   {
    "duration": 7,
    "start_time": "2022-06-07T23:23:27.585Z"
   },
   {
    "duration": 13,
    "start_time": "2022-06-07T23:23:46.052Z"
   },
   {
    "duration": 2,
    "start_time": "2022-06-07T23:24:53.090Z"
   },
   {
    "duration": 169,
    "start_time": "2022-06-07T23:24:53.827Z"
   },
   {
    "duration": 135,
    "start_time": "2022-06-07T23:24:54.069Z"
   },
   {
    "duration": 90,
    "start_time": "2022-06-07T23:24:54.327Z"
   },
   {
    "duration": 15,
    "start_time": "2022-06-07T23:24:54.569Z"
   },
   {
    "duration": 37,
    "start_time": "2022-06-07T23:24:54.851Z"
   },
   {
    "duration": 9,
    "start_time": "2022-06-07T23:24:55.103Z"
   },
   {
    "duration": 24,
    "start_time": "2022-06-07T23:24:55.335Z"
   },
   {
    "duration": 10,
    "start_time": "2022-06-07T23:24:55.852Z"
   },
   {
    "duration": 23,
    "start_time": "2022-06-07T23:24:56.081Z"
   },
   {
    "duration": 8,
    "start_time": "2022-06-07T23:24:56.771Z"
   },
   {
    "duration": 18,
    "start_time": "2022-06-07T23:24:57.888Z"
   },
   {
    "duration": 7,
    "start_time": "2022-06-07T23:24:58.378Z"
   },
   {
    "duration": 10,
    "start_time": "2022-06-07T23:24:58.689Z"
   },
   {
    "duration": 10,
    "start_time": "2022-06-07T23:24:58.959Z"
   },
   {
    "duration": 11,
    "start_time": "2022-06-07T23:24:59.308Z"
   },
   {
    "duration": 4,
    "start_time": "2022-06-07T23:25:01.779Z"
   },
   {
    "duration": 32,
    "start_time": "2022-06-07T23:25:02.371Z"
   },
   {
    "duration": 23,
    "start_time": "2022-06-07T23:25:02.629Z"
   },
   {
    "duration": 19,
    "start_time": "2022-06-07T23:25:02.872Z"
   },
   {
    "duration": 22,
    "start_time": "2022-06-07T23:25:03.371Z"
   },
   {
    "duration": 17,
    "start_time": "2022-06-07T23:25:03.824Z"
   },
   {
    "duration": 14,
    "start_time": "2022-06-07T23:25:04.110Z"
   },
   {
    "duration": 7,
    "start_time": "2022-06-07T23:25:04.579Z"
   },
   {
    "duration": 104,
    "start_time": "2022-06-07T23:25:04.801Z"
   },
   {
    "duration": 61,
    "start_time": "2022-06-07T23:25:05.030Z"
   },
   {
    "duration": 47,
    "start_time": "2022-06-07T23:25:05.261Z"
   },
   {
    "duration": 6,
    "start_time": "2022-06-07T23:25:06.573Z"
   },
   {
    "duration": 7,
    "start_time": "2022-06-07T23:25:06.793Z"
   },
   {
    "duration": 25,
    "start_time": "2022-06-07T23:25:07.233Z"
   },
   {
    "duration": 20,
    "start_time": "2022-06-07T23:25:07.472Z"
   },
   {
    "duration": 18,
    "start_time": "2022-06-07T23:25:07.732Z"
   },
   {
    "duration": 15,
    "start_time": "2022-06-07T23:25:07.931Z"
   },
   {
    "duration": 10,
    "start_time": "2022-06-07T23:25:08.844Z"
   },
   {
    "duration": 13,
    "start_time": "2022-06-07T23:25:09.092Z"
   },
   {
    "duration": 8,
    "start_time": "2022-06-07T23:25:09.325Z"
   },
   {
    "duration": 15,
    "start_time": "2022-06-07T23:25:09.733Z"
   },
   {
    "duration": 5,
    "start_time": "2022-06-07T23:25:09.993Z"
   },
   {
    "duration": 5,
    "start_time": "2022-06-07T23:25:10.212Z"
   },
   {
    "duration": 5,
    "start_time": "2022-06-07T23:25:10.445Z"
   },
   {
    "duration": 8,
    "start_time": "2022-06-07T23:25:10.663Z"
   },
   {
    "duration": 12,
    "start_time": "2022-06-07T23:25:10.924Z"
   },
   {
    "duration": 4,
    "start_time": "2022-06-07T23:25:11.135Z"
   },
   {
    "duration": 12,
    "start_time": "2022-06-07T23:25:11.378Z"
   },
   {
    "duration": 8,
    "start_time": "2022-06-07T23:25:40.319Z"
   },
   {
    "duration": 12,
    "start_time": "2022-06-07T23:25:51.141Z"
   },
   {
    "duration": 12,
    "start_time": "2022-06-07T23:30:51.509Z"
   },
   {
    "duration": 10,
    "start_time": "2022-06-07T23:37:23.494Z"
   },
   {
    "duration": 15,
    "start_time": "2022-06-07T23:37:31.926Z"
   },
   {
    "duration": 10,
    "start_time": "2022-06-07T23:38:34.581Z"
   },
   {
    "duration": 25,
    "start_time": "2022-06-07T23:39:00.853Z"
   },
   {
    "duration": 9,
    "start_time": "2022-06-07T23:39:43.772Z"
   },
   {
    "duration": 5,
    "start_time": "2022-06-07T23:40:22.545Z"
   },
   {
    "duration": 4,
    "start_time": "2022-06-07T23:40:23.305Z"
   },
   {
    "duration": 7,
    "start_time": "2022-06-07T23:40:24.063Z"
   },
   {
    "duration": 10,
    "start_time": "2022-06-07T23:40:37.482Z"
   },
   {
    "duration": 9,
    "start_time": "2022-06-07T23:41:38.426Z"
   },
   {
    "duration": 15,
    "start_time": "2022-06-07T23:41:38.661Z"
   },
   {
    "duration": 5,
    "start_time": "2022-06-07T23:41:39.247Z"
   },
   {
    "duration": 4,
    "start_time": "2022-06-07T23:41:39.976Z"
   },
   {
    "duration": 3,
    "start_time": "2022-06-07T23:41:40.286Z"
   },
   {
    "duration": 2,
    "start_time": "2022-06-07T23:41:59.845Z"
   },
   {
    "duration": 154,
    "start_time": "2022-06-07T23:42:00.116Z"
   },
   {
    "duration": 129,
    "start_time": "2022-06-07T23:42:00.395Z"
   },
   {
    "duration": 87,
    "start_time": "2022-06-07T23:42:00.642Z"
   },
   {
    "duration": 16,
    "start_time": "2022-06-07T23:42:00.924Z"
   },
   {
    "duration": 35,
    "start_time": "2022-06-07T23:42:01.167Z"
   },
   {
    "duration": 9,
    "start_time": "2022-06-07T23:42:01.434Z"
   },
   {
    "duration": 24,
    "start_time": "2022-06-07T23:42:01.677Z"
   },
   {
    "duration": 9,
    "start_time": "2022-06-07T23:42:02.145Z"
   },
   {
    "duration": 21,
    "start_time": "2022-06-07T23:42:02.382Z"
   },
   {
    "duration": 8,
    "start_time": "2022-06-07T23:42:02.852Z"
   },
   {
    "duration": 18,
    "start_time": "2022-06-07T23:42:03.084Z"
   },
   {
    "duration": 7,
    "start_time": "2022-06-07T23:42:03.543Z"
   },
   {
    "duration": 9,
    "start_time": "2022-06-07T23:42:03.763Z"
   },
   {
    "duration": 11,
    "start_time": "2022-06-07T23:42:03.966Z"
   },
   {
    "duration": 9,
    "start_time": "2022-06-07T23:42:04.187Z"
   },
   {
    "duration": 4,
    "start_time": "2022-06-07T23:42:05.442Z"
   },
   {
    "duration": 30,
    "start_time": "2022-06-07T23:42:05.694Z"
   },
   {
    "duration": 25,
    "start_time": "2022-06-07T23:42:05.912Z"
   },
   {
    "duration": 19,
    "start_time": "2022-06-07T23:42:06.215Z"
   },
   {
    "duration": 22,
    "start_time": "2022-06-07T23:42:06.703Z"
   },
   {
    "duration": 16,
    "start_time": "2022-06-07T23:42:06.951Z"
   },
   {
    "duration": 14,
    "start_time": "2022-06-07T23:42:07.381Z"
   },
   {
    "duration": 7,
    "start_time": "2022-06-07T23:42:07.871Z"
   },
   {
    "duration": 94,
    "start_time": "2022-06-07T23:42:08.183Z"
   },
   {
    "duration": 54,
    "start_time": "2022-06-07T23:42:08.345Z"
   },
   {
    "duration": 38,
    "start_time": "2022-06-07T23:42:08.636Z"
   },
   {
    "duration": 7,
    "start_time": "2022-06-07T23:42:09.185Z"
   },
   {
    "duration": 7,
    "start_time": "2022-06-07T23:42:09.435Z"
   },
   {
    "duration": 19,
    "start_time": "2022-06-07T23:42:09.744Z"
   },
   {
    "duration": 19,
    "start_time": "2022-06-07T23:42:09.994Z"
   },
   {
    "duration": 18,
    "start_time": "2022-06-07T23:42:10.333Z"
   },
   {
    "duration": 17,
    "start_time": "2022-06-07T23:42:10.624Z"
   },
   {
    "duration": 11,
    "start_time": "2022-06-07T23:42:11.852Z"
   },
   {
    "duration": 14,
    "start_time": "2022-06-07T23:42:12.346Z"
   },
   {
    "duration": 19,
    "start_time": "2022-06-07T23:42:12.582Z"
   },
   {
    "duration": 5,
    "start_time": "2022-06-07T23:42:12.903Z"
   },
   {
    "duration": 22,
    "start_time": "2022-06-07T23:42:13.162Z"
   },
   {
    "duration": 6,
    "start_time": "2022-06-07T23:42:13.464Z"
   },
   {
    "duration": 9,
    "start_time": "2022-06-07T23:42:13.805Z"
   },
   {
    "duration": 13,
    "start_time": "2022-06-07T23:42:14.284Z"
   },
   {
    "duration": 4,
    "start_time": "2022-06-07T23:42:15.254Z"
   },
   {
    "duration": 4,
    "start_time": "2022-06-07T23:42:15.693Z"
   },
   {
    "duration": 5,
    "start_time": "2022-06-07T23:42:16.091Z"
   },
   {
    "duration": 8,
    "start_time": "2022-06-07T23:42:16.814Z"
   },
   {
    "duration": 15,
    "start_time": "2022-06-07T23:42:17.084Z"
   },
   {
    "duration": 3,
    "start_time": "2022-06-07T23:42:18.143Z"
   },
   {
    "duration": 18,
    "start_time": "2022-06-07T23:42:18.664Z"
   },
   {
    "duration": 9,
    "start_time": "2022-06-07T23:42:19.932Z"
   },
   {
    "duration": 15,
    "start_time": "2022-06-07T23:42:24.034Z"
   },
   {
    "duration": 11,
    "start_time": "2022-06-07T23:43:42.517Z"
   },
   {
    "duration": 18,
    "start_time": "2022-06-07T23:43:43.216Z"
   },
   {
    "duration": 10,
    "start_time": "2022-06-07T23:43:43.509Z"
   },
   {
    "duration": 5,
    "start_time": "2022-06-07T23:43:43.986Z"
   },
   {
    "duration": 6,
    "start_time": "2022-06-07T23:43:44.348Z"
   },
   {
    "duration": 12,
    "start_time": "2022-06-07T23:43:45.049Z"
   },
   {
    "duration": 13,
    "start_time": "2022-06-07T23:43:49.457Z"
   },
   {
    "duration": 5,
    "start_time": "2022-06-07T23:43:49.977Z"
   },
   {
    "duration": 3,
    "start_time": "2022-06-07T23:43:50.227Z"
   },
   {
    "duration": 4,
    "start_time": "2022-06-07T23:43:50.466Z"
   },
   {
    "duration": 7,
    "start_time": "2022-06-07T23:43:50.947Z"
   },
   {
    "duration": 15,
    "start_time": "2022-06-07T23:43:51.198Z"
   },
   {
    "duration": 4,
    "start_time": "2022-06-07T23:43:51.814Z"
   },
   {
    "duration": 15,
    "start_time": "2022-06-07T23:43:52.438Z"
   },
   {
    "duration": 8,
    "start_time": "2022-06-07T23:43:53.904Z"
   },
   {
    "duration": 15,
    "start_time": "2022-06-07T23:43:54.795Z"
   },
   {
    "duration": 4,
    "start_time": "2022-06-07T23:45:34.651Z"
   },
   {
    "duration": 13,
    "start_time": "2022-06-07T23:45:41.020Z"
   },
   {
    "duration": 4,
    "start_time": "2022-06-07T23:46:07.708Z"
   },
   {
    "duration": 12,
    "start_time": "2022-06-07T23:46:18.046Z"
   },
   {
    "duration": 3,
    "start_time": "2022-06-07T23:47:15.078Z"
   },
   {
    "duration": 822,
    "start_time": "2022-06-07T23:47:22.939Z"
   },
   {
    "duration": 163,
    "start_time": "2022-06-07T23:47:23.763Z"
   },
   {
    "duration": 133,
    "start_time": "2022-06-07T23:47:23.929Z"
   },
   {
    "duration": 91,
    "start_time": "2022-06-07T23:47:24.889Z"
   },
   {
    "duration": 15,
    "start_time": "2022-06-07T23:47:25.126Z"
   },
   {
    "duration": 25,
    "start_time": "2022-06-07T23:47:25.345Z"
   },
   {
    "duration": 15,
    "start_time": "2022-06-07T23:47:25.595Z"
   },
   {
    "duration": 24,
    "start_time": "2022-06-07T23:47:25.992Z"
   },
   {
    "duration": 11,
    "start_time": "2022-06-07T23:47:27.318Z"
   },
   {
    "duration": 19,
    "start_time": "2022-06-07T23:47:27.588Z"
   },
   {
    "duration": 7,
    "start_time": "2022-06-07T23:47:28.004Z"
   },
   {
    "duration": 29,
    "start_time": "2022-06-07T23:47:28.604Z"
   },
   {
    "duration": 8,
    "start_time": "2022-06-07T23:47:29.116Z"
   },
   {
    "duration": 10,
    "start_time": "2022-06-07T23:47:29.389Z"
   },
   {
    "duration": 15,
    "start_time": "2022-06-07T23:47:29.630Z"
   },
   {
    "duration": 14,
    "start_time": "2022-06-07T23:47:29.962Z"
   },
   {
    "duration": 4,
    "start_time": "2022-06-07T23:47:31.215Z"
   },
   {
    "duration": 37,
    "start_time": "2022-06-07T23:47:31.435Z"
   },
   {
    "duration": 25,
    "start_time": "2022-06-07T23:47:31.680Z"
   },
   {
    "duration": 19,
    "start_time": "2022-06-07T23:47:32.334Z"
   },
   {
    "duration": 20,
    "start_time": "2022-06-07T23:47:33.348Z"
   },
   {
    "duration": 16,
    "start_time": "2022-06-07T23:47:33.756Z"
   },
   {
    "duration": 14,
    "start_time": "2022-06-07T23:47:34.114Z"
   },
   {
    "duration": 6,
    "start_time": "2022-06-07T23:47:34.975Z"
   },
   {
    "duration": 97,
    "start_time": "2022-06-07T23:47:35.292Z"
   },
   {
    "duration": 72,
    "start_time": "2022-06-07T23:47:35.599Z"
   },
   {
    "duration": 46,
    "start_time": "2022-06-07T23:47:36.000Z"
   },
   {
    "duration": 6,
    "start_time": "2022-06-07T23:47:36.609Z"
   },
   {
    "duration": 6,
    "start_time": "2022-06-07T23:47:36.991Z"
   },
   {
    "duration": 23,
    "start_time": "2022-06-07T23:47:37.335Z"
   },
   {
    "duration": 17,
    "start_time": "2022-06-07T23:47:37.611Z"
   },
   {
    "duration": 15,
    "start_time": "2022-06-07T23:47:37.891Z"
   },
   {
    "duration": 15,
    "start_time": "2022-06-07T23:47:38.353Z"
   },
   {
    "duration": 14,
    "start_time": "2022-06-07T23:47:40.131Z"
   },
   {
    "duration": 17,
    "start_time": "2022-06-07T23:47:40.514Z"
   },
   {
    "duration": 24,
    "start_time": "2022-06-07T23:47:41.125Z"
   },
   {
    "duration": 4,
    "start_time": "2022-06-07T23:47:41.525Z"
   },
   {
    "duration": 4,
    "start_time": "2022-06-07T23:47:41.813Z"
   },
   {
    "duration": 7,
    "start_time": "2022-06-07T23:47:42.433Z"
   },
   {
    "duration": 15,
    "start_time": "2022-06-07T23:47:42.983Z"
   },
   {
    "duration": 3,
    "start_time": "2022-06-07T23:47:46.100Z"
   },
   {
    "duration": 11,
    "start_time": "2022-06-07T23:47:50.574Z"
   },
   {
    "duration": 16,
    "start_time": "2022-06-07T23:47:55.100Z"
   },
   {
    "duration": 5,
    "start_time": "2022-06-07T23:47:56.731Z"
   },
   {
    "duration": 4,
    "start_time": "2022-06-07T23:47:57.112Z"
   },
   {
    "duration": 4,
    "start_time": "2022-06-07T23:47:57.947Z"
   },
   {
    "duration": 8,
    "start_time": "2022-06-07T23:47:59.219Z"
   },
   {
    "duration": 14,
    "start_time": "2022-06-07T23:48:00.513Z"
   },
   {
    "duration": 4,
    "start_time": "2022-06-07T23:48:30.338Z"
   },
   {
    "duration": 16,
    "start_time": "2022-06-07T23:48:31.818Z"
   },
   {
    "duration": 9,
    "start_time": "2022-06-07T23:49:04.035Z"
   },
   {
    "duration": 16,
    "start_time": "2022-06-07T23:49:04.909Z"
   },
   {
    "duration": 12,
    "start_time": "2022-06-07T23:50:01.780Z"
   },
   {
    "duration": 18,
    "start_time": "2022-06-07T23:50:02.105Z"
   },
   {
    "duration": 24,
    "start_time": "2022-06-07T23:50:02.603Z"
   },
   {
    "duration": 5,
    "start_time": "2022-06-07T23:50:02.922Z"
   },
   {
    "duration": 5,
    "start_time": "2022-06-07T23:50:03.197Z"
   },
   {
    "duration": 7,
    "start_time": "2022-06-07T23:50:03.419Z"
   },
   {
    "duration": 12,
    "start_time": "2022-06-07T23:50:03.650Z"
   },
   {
    "duration": 4,
    "start_time": "2022-06-07T23:50:03.920Z"
   },
   {
    "duration": 12,
    "start_time": "2022-06-07T23:50:04.136Z"
   },
   {
    "duration": 16,
    "start_time": "2022-06-07T23:50:04.376Z"
   },
   {
    "duration": 4,
    "start_time": "2022-06-07T23:50:05.092Z"
   },
   {
    "duration": 4,
    "start_time": "2022-06-07T23:50:05.325Z"
   },
   {
    "duration": 5,
    "start_time": "2022-06-07T23:50:05.656Z"
   },
   {
    "duration": 8,
    "start_time": "2022-06-07T23:50:06.213Z"
   },
   {
    "duration": 17,
    "start_time": "2022-06-07T23:50:06.473Z"
   },
   {
    "duration": 3,
    "start_time": "2022-06-07T23:50:07.013Z"
   },
   {
    "duration": 15,
    "start_time": "2022-06-07T23:50:07.394Z"
   },
   {
    "duration": 7,
    "start_time": "2022-06-07T23:50:07.978Z"
   },
   {
    "duration": 15,
    "start_time": "2022-06-07T23:50:08.272Z"
   },
   {
    "duration": 926,
    "start_time": "2022-06-08T15:20:03.787Z"
   },
   {
    "duration": 249,
    "start_time": "2022-06-08T15:20:04.715Z"
   },
   {
    "duration": 307,
    "start_time": "2022-06-08T15:20:04.966Z"
   },
   {
    "duration": 327,
    "start_time": "2022-06-08T15:20:05.637Z"
   },
   {
    "duration": 64,
    "start_time": "2022-06-08T15:20:05.966Z"
   },
   {
    "duration": 51,
    "start_time": "2022-06-08T15:20:06.185Z"
   },
   {
    "duration": 16,
    "start_time": "2022-06-08T15:20:06.469Z"
   },
   {
    "duration": 40,
    "start_time": "2022-06-08T15:20:06.890Z"
   },
   {
    "duration": 9,
    "start_time": "2022-06-08T15:20:07.387Z"
   },
   {
    "duration": 23,
    "start_time": "2022-06-08T15:20:07.888Z"
   },
   {
    "duration": 8,
    "start_time": "2022-06-08T15:20:08.665Z"
   },
   {
    "duration": 19,
    "start_time": "2022-06-08T15:20:09.009Z"
   },
   {
    "duration": 12,
    "start_time": "2022-06-08T15:20:09.708Z"
   },
   {
    "duration": 11,
    "start_time": "2022-06-08T15:20:10.045Z"
   },
   {
    "duration": 11,
    "start_time": "2022-06-08T15:20:10.355Z"
   },
   {
    "duration": 16,
    "start_time": "2022-06-08T15:20:10.758Z"
   },
   {
    "duration": 5,
    "start_time": "2022-06-08T15:20:11.833Z"
   },
   {
    "duration": 54,
    "start_time": "2022-06-08T15:20:12.135Z"
   },
   {
    "duration": 27,
    "start_time": "2022-06-08T15:20:12.453Z"
   },
   {
    "duration": 24,
    "start_time": "2022-06-08T15:20:12.762Z"
   },
   {
    "duration": 22,
    "start_time": "2022-06-08T15:20:13.430Z"
   },
   {
    "duration": 17,
    "start_time": "2022-06-08T15:20:13.742Z"
   },
   {
    "duration": 18,
    "start_time": "2022-06-08T15:20:14.132Z"
   },
   {
    "duration": 6,
    "start_time": "2022-06-08T15:20:14.822Z"
   },
   {
    "duration": 102,
    "start_time": "2022-06-08T15:20:15.144Z"
   },
   {
    "duration": 68,
    "start_time": "2022-06-08T15:20:15.407Z"
   },
   {
    "duration": 41,
    "start_time": "2022-06-08T15:20:15.865Z"
   },
   {
    "duration": 10,
    "start_time": "2022-06-08T15:20:16.710Z"
   },
   {
    "duration": 7,
    "start_time": "2022-06-08T15:20:17.123Z"
   },
   {
    "duration": 19,
    "start_time": "2022-06-08T15:20:17.405Z"
   },
   {
    "duration": 22,
    "start_time": "2022-06-08T15:20:17.740Z"
   },
   {
    "duration": 17,
    "start_time": "2022-06-08T15:20:18.093Z"
   },
   {
    "duration": 18,
    "start_time": "2022-06-08T15:20:18.392Z"
   },
   {
    "duration": 15,
    "start_time": "2022-06-08T15:20:19.795Z"
   },
   {
    "duration": 24,
    "start_time": "2022-06-08T15:20:20.268Z"
   },
   {
    "duration": 26,
    "start_time": "2022-06-08T15:20:20.661Z"
   },
   {
    "duration": 8,
    "start_time": "2022-06-08T15:20:21.281Z"
   },
   {
    "duration": 6,
    "start_time": "2022-06-08T15:20:21.608Z"
   },
   {
    "duration": 7,
    "start_time": "2022-06-08T15:20:22.343Z"
   },
   {
    "duration": 14,
    "start_time": "2022-06-08T15:20:23.201Z"
   },
   {
    "duration": 3,
    "start_time": "2022-06-08T15:20:24.006Z"
   },
   {
    "duration": 13,
    "start_time": "2022-06-08T15:20:24.836Z"
   },
   {
    "duration": 15,
    "start_time": "2022-06-08T15:20:25.567Z"
   },
   {
    "duration": 5,
    "start_time": "2022-06-08T15:20:26.518Z"
   },
   {
    "duration": 5,
    "start_time": "2022-06-08T15:20:26.823Z"
   },
   {
    "duration": 6,
    "start_time": "2022-06-08T15:20:27.085Z"
   },
   {
    "duration": 8,
    "start_time": "2022-06-08T15:20:27.883Z"
   },
   {
    "duration": 14,
    "start_time": "2022-06-08T15:20:28.204Z"
   },
   {
    "duration": 6,
    "start_time": "2022-06-08T15:20:35.847Z"
   },
   {
    "duration": 24,
    "start_time": "2022-06-08T15:20:36.106Z"
   },
   {
    "duration": 9,
    "start_time": "2022-06-08T15:20:37.084Z"
   },
   {
    "duration": 16,
    "start_time": "2022-06-08T15:20:37.500Z"
   },
   {
    "duration": 5,
    "start_time": "2022-06-08T15:22:19.189Z"
   },
   {
    "duration": 20,
    "start_time": "2022-06-08T15:22:30.205Z"
   },
   {
    "duration": 98,
    "start_time": "2022-06-08T16:01:57.163Z"
   },
   {
    "duration": 11,
    "start_time": "2022-06-08T16:02:04.686Z"
   },
   {
    "duration": 4,
    "start_time": "2022-06-08T16:04:13.682Z"
   },
   {
    "duration": 9,
    "start_time": "2022-06-08T16:04:26.749Z"
   },
   {
    "duration": 371,
    "start_time": "2022-06-08T16:04:43.415Z"
   },
   {
    "duration": 43,
    "start_time": "2022-06-08T16:25:35.086Z"
   },
   {
    "duration": 83,
    "start_time": "2022-06-08T16:28:40.265Z"
   },
   {
    "duration": 5,
    "start_time": "2022-06-08T16:28:56.764Z"
   },
   {
    "duration": 4,
    "start_time": "2022-06-08T16:29:33.063Z"
   },
   {
    "duration": 3,
    "start_time": "2022-06-08T16:29:43.513Z"
   },
   {
    "duration": 4,
    "start_time": "2022-06-08T16:29:44.694Z"
   },
   {
    "duration": 87,
    "start_time": "2022-06-08T16:29:52.752Z"
   },
   {
    "duration": 5,
    "start_time": "2022-06-08T16:29:53.212Z"
   },
   {
    "duration": 4,
    "start_time": "2022-06-08T16:30:23.607Z"
   },
   {
    "duration": 7,
    "start_time": "2022-06-08T16:34:34.278Z"
   },
   {
    "duration": 18,
    "start_time": "2022-06-08T16:34:37.586Z"
   },
   {
    "duration": 18,
    "start_time": "2022-06-08T16:35:21.293Z"
   },
   {
    "duration": 3,
    "start_time": "2022-06-08T16:36:25.456Z"
   },
   {
    "duration": 226,
    "start_time": "2022-06-08T16:36:25.931Z"
   },
   {
    "duration": 146,
    "start_time": "2022-06-08T16:36:26.360Z"
   },
   {
    "duration": 122,
    "start_time": "2022-06-08T16:36:26.721Z"
   },
   {
    "duration": 46,
    "start_time": "2022-06-08T16:36:27.011Z"
   },
   {
    "duration": 31,
    "start_time": "2022-06-08T16:36:27.297Z"
   },
   {
    "duration": 10,
    "start_time": "2022-06-08T16:36:27.558Z"
   },
   {
    "duration": 31,
    "start_time": "2022-06-08T16:36:27.803Z"
   },
   {
    "duration": 15,
    "start_time": "2022-06-08T16:36:28.414Z"
   },
   {
    "duration": 35,
    "start_time": "2022-06-08T16:36:28.648Z"
   },
   {
    "duration": 10,
    "start_time": "2022-06-08T16:36:29.063Z"
   },
   {
    "duration": 36,
    "start_time": "2022-06-08T16:36:29.428Z"
   },
   {
    "duration": 18,
    "start_time": "2022-06-08T16:36:29.929Z"
   },
   {
    "duration": 15,
    "start_time": "2022-06-08T16:36:30.184Z"
   },
   {
    "duration": 20,
    "start_time": "2022-06-08T16:36:30.551Z"
   },
   {
    "duration": 14,
    "start_time": "2022-06-08T16:36:30.864Z"
   },
   {
    "duration": 5,
    "start_time": "2022-06-08T16:36:31.886Z"
   },
   {
    "duration": 44,
    "start_time": "2022-06-08T16:36:32.135Z"
   },
   {
    "duration": 58,
    "start_time": "2022-06-08T16:36:32.420Z"
   },
   {
    "duration": 36,
    "start_time": "2022-06-08T16:36:32.636Z"
   },
   {
    "duration": 26,
    "start_time": "2022-06-08T16:36:33.202Z"
   },
   {
    "duration": 18,
    "start_time": "2022-06-08T16:36:33.483Z"
   },
   {
    "duration": 18,
    "start_time": "2022-06-08T16:36:33.756Z"
   },
   {
    "duration": 10,
    "start_time": "2022-06-08T16:36:34.313Z"
   },
   {
    "duration": 142,
    "start_time": "2022-06-08T16:36:34.596Z"
   },
   {
    "duration": 79,
    "start_time": "2022-06-08T16:36:34.899Z"
   },
   {
    "duration": 53,
    "start_time": "2022-06-08T16:36:35.148Z"
   },
   {
    "duration": 10,
    "start_time": "2022-06-08T16:36:35.700Z"
   },
   {
    "duration": 10,
    "start_time": "2022-06-08T16:36:35.981Z"
   },
   {
    "duration": 51,
    "start_time": "2022-06-08T16:36:36.209Z"
   },
   {
    "duration": 20,
    "start_time": "2022-06-08T16:36:36.496Z"
   },
   {
    "duration": 16,
    "start_time": "2022-06-08T16:36:36.780Z"
   },
   {
    "duration": 32,
    "start_time": "2022-06-08T16:36:37.036Z"
   },
   {
    "duration": 55,
    "start_time": "2022-06-08T16:36:37.995Z"
   },
   {
    "duration": 5,
    "start_time": "2022-06-08T16:36:38.186Z"
   },
   {
    "duration": 7,
    "start_time": "2022-06-08T16:36:38.543Z"
   },
   {
    "duration": 12,
    "start_time": "2022-06-08T16:36:39.301Z"
   },
   {
    "duration": 13,
    "start_time": "2022-06-08T16:36:39.595Z"
   },
   {
    "duration": 20,
    "start_time": "2022-06-08T16:36:39.890Z"
   },
   {
    "duration": 5,
    "start_time": "2022-06-08T16:36:40.178Z"
   },
   {
    "duration": 10,
    "start_time": "2022-06-08T16:36:40.447Z"
   },
   {
    "duration": 10,
    "start_time": "2022-06-08T16:36:40.748Z"
   },
   {
    "duration": 21,
    "start_time": "2022-06-08T16:36:41.111Z"
   },
   {
    "duration": 5,
    "start_time": "2022-06-08T16:36:41.457Z"
   },
   {
    "duration": 24,
    "start_time": "2022-06-08T16:36:41.744Z"
   },
   {
    "duration": 21,
    "start_time": "2022-06-08T16:36:42.095Z"
   },
   {
    "duration": 6,
    "start_time": "2022-06-08T16:36:42.810Z"
   },
   {
    "duration": 11,
    "start_time": "2022-06-08T16:36:43.222Z"
   },
   {
    "duration": 6,
    "start_time": "2022-06-08T16:36:43.495Z"
   },
   {
    "duration": 13,
    "start_time": "2022-06-08T16:36:44.007Z"
   },
   {
    "duration": 18,
    "start_time": "2022-06-08T16:36:44.462Z"
   },
   {
    "duration": 5,
    "start_time": "2022-06-08T16:36:47.068Z"
   },
   {
    "duration": 25,
    "start_time": "2022-06-08T16:36:48.259Z"
   },
   {
    "duration": 9,
    "start_time": "2022-06-08T16:36:50.083Z"
   },
   {
    "duration": 8,
    "start_time": "2022-06-08T16:36:50.391Z"
   },
   {
    "duration": 18,
    "start_time": "2022-06-08T16:36:50.805Z"
   },
   {
    "duration": 3,
    "start_time": "2022-06-08T17:21:53.932Z"
   },
   {
    "duration": 151,
    "start_time": "2022-06-08T17:21:54.292Z"
   },
   {
    "duration": 119,
    "start_time": "2022-06-08T17:21:54.607Z"
   },
   {
    "duration": 85,
    "start_time": "2022-06-08T17:21:55.096Z"
   },
   {
    "duration": 24,
    "start_time": "2022-06-08T17:21:55.401Z"
   },
   {
    "duration": 27,
    "start_time": "2022-06-08T17:21:55.687Z"
   },
   {
    "duration": 9,
    "start_time": "2022-06-08T17:21:56.051Z"
   },
   {
    "duration": 25,
    "start_time": "2022-06-08T17:21:56.603Z"
   },
   {
    "duration": 9,
    "start_time": "2022-06-08T17:22:23.067Z"
   },
   {
    "duration": 23,
    "start_time": "2022-06-08T17:22:23.333Z"
   },
   {
    "duration": 9,
    "start_time": "2022-06-08T17:22:23.806Z"
   },
   {
    "duration": 26,
    "start_time": "2022-06-08T17:22:24.083Z"
   },
   {
    "duration": 9,
    "start_time": "2022-06-08T17:22:24.549Z"
   },
   {
    "duration": 11,
    "start_time": "2022-06-08T17:22:24.764Z"
   },
   {
    "duration": 11,
    "start_time": "2022-06-08T17:22:25.014Z"
   },
   {
    "duration": 10,
    "start_time": "2022-06-08T17:22:25.258Z"
   },
   {
    "duration": 4,
    "start_time": "2022-06-08T17:22:26.186Z"
   },
   {
    "duration": 30,
    "start_time": "2022-06-08T17:22:26.407Z"
   },
   {
    "duration": 24,
    "start_time": "2022-06-08T17:22:26.815Z"
   },
   {
    "duration": 20,
    "start_time": "2022-06-08T17:22:27.081Z"
   },
   {
    "duration": 21,
    "start_time": "2022-06-08T17:22:27.556Z"
   },
   {
    "duration": 17,
    "start_time": "2022-06-08T17:22:27.991Z"
   },
   {
    "duration": 15,
    "start_time": "2022-06-08T17:22:28.205Z"
   },
   {
    "duration": 8,
    "start_time": "2022-06-08T17:22:28.683Z"
   },
   {
    "duration": 104,
    "start_time": "2022-06-08T17:22:28.885Z"
   },
   {
    "duration": 62,
    "start_time": "2022-06-08T17:22:29.114Z"
   },
   {
    "duration": 41,
    "start_time": "2022-06-08T17:22:29.405Z"
   },
   {
    "duration": 7,
    "start_time": "2022-06-08T17:22:30.318Z"
   },
   {
    "duration": 12,
    "start_time": "2022-06-08T17:22:30.663Z"
   },
   {
    "duration": 20,
    "start_time": "2022-06-08T17:22:30.890Z"
   },
   {
    "duration": 21,
    "start_time": "2022-06-08T17:22:31.114Z"
   },
   {
    "duration": 19,
    "start_time": "2022-06-08T17:22:31.347Z"
   },
   {
    "duration": 23,
    "start_time": "2022-06-08T17:22:33.702Z"
   },
   {
    "duration": 49,
    "start_time": "2022-06-08T17:22:34.937Z"
   },
   {
    "duration": 5,
    "start_time": "2022-06-08T17:22:35.216Z"
   },
   {
    "duration": 4,
    "start_time": "2022-06-08T17:22:35.696Z"
   },
   {
    "duration": 11,
    "start_time": "2022-06-08T17:22:36.459Z"
   },
   {
    "duration": 13,
    "start_time": "2022-06-08T17:22:36.744Z"
   },
   {
    "duration": 18,
    "start_time": "2022-06-08T17:22:37.217Z"
   },
   {
    "duration": 5,
    "start_time": "2022-06-08T17:22:37.484Z"
   },
   {
    "duration": 5,
    "start_time": "2022-06-08T17:22:37.744Z"
   },
   {
    "duration": 8,
    "start_time": "2022-06-08T17:22:38.006Z"
   },
   {
    "duration": 13,
    "start_time": "2022-06-08T17:22:38.446Z"
   },
   {
    "duration": 3,
    "start_time": "2022-06-08T17:22:38.813Z"
   },
   {
    "duration": 12,
    "start_time": "2022-06-08T17:22:39.065Z"
   },
   {
    "duration": 13,
    "start_time": "2022-06-08T17:22:39.335Z"
   },
   {
    "duration": 5,
    "start_time": "2022-06-08T17:22:40.267Z"
   },
   {
    "duration": 4,
    "start_time": "2022-06-08T17:22:40.540Z"
   },
   {
    "duration": 5,
    "start_time": "2022-06-08T17:22:40.810Z"
   },
   {
    "duration": 8,
    "start_time": "2022-06-08T17:22:41.523Z"
   },
   {
    "duration": 15,
    "start_time": "2022-06-08T17:22:41.836Z"
   },
   {
    "duration": 4,
    "start_time": "2022-06-08T17:22:42.344Z"
   },
   {
    "duration": 16,
    "start_time": "2022-06-08T17:22:42.815Z"
   },
   {
    "duration": 8,
    "start_time": "2022-06-08T17:22:43.335Z"
   },
   {
    "duration": 7,
    "start_time": "2022-06-08T17:22:43.801Z"
   },
   {
    "duration": 19,
    "start_time": "2022-06-08T17:22:44.133Z"
   },
   {
    "duration": 6,
    "start_time": "2022-06-08T17:40:08.256Z"
   },
   {
    "duration": 405,
    "start_time": "2022-06-08T17:40:42.322Z"
   },
   {
    "duration": 276,
    "start_time": "2022-06-08T17:41:09.262Z"
   },
   {
    "duration": 4,
    "start_time": "2022-06-08T17:43:42.544Z"
   },
   {
    "duration": 281,
    "start_time": "2022-06-08T17:43:42.814Z"
   },
   {
    "duration": 6,
    "start_time": "2022-06-08T17:44:12.677Z"
   },
   {
    "duration": 303,
    "start_time": "2022-06-08T17:44:13.051Z"
   },
   {
    "duration": 3,
    "start_time": "2022-06-08T17:49:19.653Z"
   },
   {
    "duration": 321,
    "start_time": "2022-06-08T17:49:20.055Z"
   },
   {
    "duration": 18,
    "start_time": "2022-06-08T17:54:02.799Z"
   },
   {
    "duration": 18,
    "start_time": "2022-06-08T17:54:11.376Z"
   },
   {
    "duration": 4,
    "start_time": "2022-06-08T17:54:57.599Z"
   },
   {
    "duration": 19,
    "start_time": "2022-06-08T17:55:01.385Z"
   },
   {
    "duration": 4,
    "start_time": "2022-06-08T17:55:29.801Z"
   },
   {
    "duration": 20,
    "start_time": "2022-06-08T17:55:31.486Z"
   },
   {
    "duration": 37,
    "start_time": "2022-06-08T18:56:59.622Z"
   },
   {
    "duration": 331,
    "start_time": "2022-06-08T18:57:09.349Z"
   },
   {
    "duration": 377,
    "start_time": "2022-06-08T18:58:10.888Z"
   },
   {
    "duration": 4,
    "start_time": "2022-06-08T18:59:04.010Z"
   },
   {
    "duration": 391,
    "start_time": "2022-06-08T18:59:10.674Z"
   },
   {
    "duration": 19,
    "start_time": "2022-06-08T18:59:28.294Z"
   },
   {
    "duration": 18,
    "start_time": "2022-06-08T19:02:12.955Z"
   },
   {
    "duration": 74,
    "start_time": "2022-06-08T19:02:37.573Z"
   },
   {
    "duration": 18,
    "start_time": "2022-06-08T19:08:24.283Z"
   },
   {
    "duration": 24,
    "start_time": "2022-06-08T19:09:08.712Z"
   },
   {
    "duration": 18,
    "start_time": "2022-06-08T19:09:11.286Z"
   },
   {
    "duration": 23,
    "start_time": "2022-06-08T19:09:35.711Z"
   },
   {
    "duration": 17,
    "start_time": "2022-06-08T19:09:50.687Z"
   },
   {
    "duration": 71,
    "start_time": "2022-06-08T19:10:28.177Z"
   },
   {
    "duration": 4,
    "start_time": "2022-06-08T19:14:27.560Z"
   },
   {
    "duration": 4,
    "start_time": "2022-06-08T19:14:29.680Z"
   },
   {
    "duration": 77,
    "start_time": "2022-06-08T19:14:30.411Z"
   },
   {
    "duration": 759,
    "start_time": "2022-06-08T20:54:21.626Z"
   },
   {
    "duration": 511,
    "start_time": "2022-06-08T20:54:22.386Z"
   },
   {
    "duration": 362,
    "start_time": "2022-06-08T20:54:22.899Z"
   },
   {
    "duration": 144,
    "start_time": "2022-06-08T20:54:23.263Z"
   },
   {
    "duration": 61,
    "start_time": "2022-06-08T20:54:23.408Z"
   },
   {
    "duration": 59,
    "start_time": "2022-06-08T20:54:23.470Z"
   },
   {
    "duration": 15,
    "start_time": "2022-06-08T20:54:23.701Z"
   },
   {
    "duration": 22,
    "start_time": "2022-06-08T20:54:23.939Z"
   },
   {
    "duration": 8,
    "start_time": "2022-06-08T20:54:24.390Z"
   },
   {
    "duration": 17,
    "start_time": "2022-06-08T20:54:24.619Z"
   },
   {
    "duration": 7,
    "start_time": "2022-06-08T20:54:25.365Z"
   },
   {
    "duration": 16,
    "start_time": "2022-06-08T20:54:25.617Z"
   },
   {
    "duration": 7,
    "start_time": "2022-06-08T20:54:26.148Z"
   },
   {
    "duration": 9,
    "start_time": "2022-06-08T20:54:26.464Z"
   },
   {
    "duration": 14,
    "start_time": "2022-06-08T20:54:26.654Z"
   },
   {
    "duration": 10,
    "start_time": "2022-06-08T20:54:26.973Z"
   },
   {
    "duration": 4,
    "start_time": "2022-06-08T20:54:28.129Z"
   },
   {
    "duration": 32,
    "start_time": "2022-06-08T20:54:28.599Z"
   },
   {
    "duration": 20,
    "start_time": "2022-06-08T20:54:28.872Z"
   },
   {
    "duration": 18,
    "start_time": "2022-06-08T20:54:29.164Z"
   },
   {
    "duration": 19,
    "start_time": "2022-06-08T20:54:29.723Z"
   },
   {
    "duration": 19,
    "start_time": "2022-06-08T20:54:30.027Z"
   },
   {
    "duration": 13,
    "start_time": "2022-06-08T20:54:30.331Z"
   },
   {
    "duration": 5,
    "start_time": "2022-06-08T20:54:30.853Z"
   },
   {
    "duration": 80,
    "start_time": "2022-06-08T20:54:31.170Z"
   },
   {
    "duration": 51,
    "start_time": "2022-06-08T20:54:31.493Z"
   },
   {
    "duration": 35,
    "start_time": "2022-06-08T20:54:31.692Z"
   },
   {
    "duration": 6,
    "start_time": "2022-06-08T20:54:32.288Z"
   },
   {
    "duration": 6,
    "start_time": "2022-06-08T20:54:32.579Z"
   },
   {
    "duration": 15,
    "start_time": "2022-06-08T20:54:32.862Z"
   },
   {
    "duration": 16,
    "start_time": "2022-06-08T20:54:33.191Z"
   },
   {
    "duration": 13,
    "start_time": "2022-06-08T20:54:33.469Z"
   },
   {
    "duration": 6,
    "start_time": "2022-06-08T20:54:35.351Z"
   },
   {
    "duration": 5,
    "start_time": "2022-06-08T20:54:35.804Z"
   },
   {
    "duration": 16,
    "start_time": "2022-06-08T20:54:36.151Z"
   },
   {
    "duration": 16,
    "start_time": "2022-06-08T20:54:36.501Z"
   },
   {
    "duration": 14,
    "start_time": "2022-06-08T20:54:36.952Z"
   },
   {
    "duration": 13,
    "start_time": "2022-06-08T20:54:37.391Z"
   },
   {
    "duration": 50,
    "start_time": "2022-06-08T20:54:39.670Z"
   },
   {
    "duration": 6,
    "start_time": "2022-06-08T20:54:40.604Z"
   },
   {
    "duration": 4,
    "start_time": "2022-06-08T20:54:41.497Z"
   },
   {
    "duration": 14,
    "start_time": "2022-06-08T20:54:44.013Z"
   },
   {
    "duration": 16,
    "start_time": "2022-06-08T20:54:44.756Z"
   },
   {
    "duration": 22,
    "start_time": "2022-06-08T20:54:45.292Z"
   },
   {
    "duration": 4,
    "start_time": "2022-06-08T20:54:46.001Z"
   },
   {
    "duration": 4,
    "start_time": "2022-06-08T20:54:46.714Z"
   },
   {
    "duration": 6,
    "start_time": "2022-06-08T20:54:47.415Z"
   },
   {
    "duration": 11,
    "start_time": "2022-06-08T20:54:53.394Z"
   },
   {
    "duration": 3,
    "start_time": "2022-06-08T20:54:54.021Z"
   },
   {
    "duration": 10,
    "start_time": "2022-06-08T20:54:55.758Z"
   },
   {
    "duration": 14,
    "start_time": "2022-06-08T20:54:57.425Z"
   },
   {
    "duration": 5,
    "start_time": "2022-06-08T20:55:16.520Z"
   },
   {
    "duration": 3,
    "start_time": "2022-06-08T20:55:16.939Z"
   },
   {
    "duration": 4,
    "start_time": "2022-06-08T20:55:17.347Z"
   },
   {
    "duration": 7,
    "start_time": "2022-06-08T20:55:18.236Z"
   },
   {
    "duration": 13,
    "start_time": "2022-06-08T20:55:18.810Z"
   },
   {
    "duration": 3,
    "start_time": "2022-06-08T20:55:20.415Z"
   },
   {
    "duration": 12,
    "start_time": "2022-06-08T20:55:21.060Z"
   },
   {
    "duration": 8,
    "start_time": "2022-06-08T20:55:26.492Z"
   },
   {
    "duration": 7,
    "start_time": "2022-06-08T20:55:28.835Z"
   },
   {
    "duration": 15,
    "start_time": "2022-06-08T20:55:31.468Z"
   },
   {
    "duration": 4,
    "start_time": "2022-06-08T20:55:33.850Z"
   },
   {
    "duration": 65,
    "start_time": "2022-06-08T20:55:37.050Z"
   },
   {
    "duration": 79,
    "start_time": "2022-06-08T20:58:02.715Z"
   },
   {
    "duration": 14,
    "start_time": "2022-06-08T20:58:16.021Z"
   },
   {
    "duration": 26,
    "start_time": "2022-06-08T20:58:33.792Z"
   },
   {
    "duration": 6,
    "start_time": "2022-06-08T21:00:19.333Z"
   },
   {
    "duration": 18,
    "start_time": "2022-06-08T21:00:30.692Z"
   },
   {
    "duration": 5,
    "start_time": "2022-06-08T21:01:21.068Z"
   },
   {
    "duration": 14,
    "start_time": "2022-06-08T21:01:35.172Z"
   },
   {
    "duration": 13,
    "start_time": "2022-06-08T21:03:40.458Z"
   },
   {
    "duration": 9,
    "start_time": "2022-06-08T21:05:02.947Z"
   },
   {
    "duration": 16,
    "start_time": "2022-06-08T21:06:17.998Z"
   },
   {
    "duration": 9,
    "start_time": "2022-06-08T21:24:13.696Z"
   },
   {
    "duration": 3,
    "start_time": "2022-06-08T21:25:08.918Z"
   },
   {
    "duration": 134,
    "start_time": "2022-06-08T21:25:09.174Z"
   },
   {
    "duration": 115,
    "start_time": "2022-06-08T21:25:09.413Z"
   },
   {
    "duration": 77,
    "start_time": "2022-06-08T21:25:09.662Z"
   },
   {
    "duration": 16,
    "start_time": "2022-06-08T21:25:10.131Z"
   },
   {
    "duration": 40,
    "start_time": "2022-06-08T21:25:10.411Z"
   },
   {
    "duration": 9,
    "start_time": "2022-06-08T21:25:10.697Z"
   },
   {
    "duration": 19,
    "start_time": "2022-06-08T21:25:10.911Z"
   },
   {
    "duration": 8,
    "start_time": "2022-06-08T21:25:11.395Z"
   },
   {
    "duration": 19,
    "start_time": "2022-06-08T21:25:11.650Z"
   },
   {
    "duration": 7,
    "start_time": "2022-06-08T21:25:12.397Z"
   },
   {
    "duration": 14,
    "start_time": "2022-06-08T21:25:12.606Z"
   },
   {
    "duration": 7,
    "start_time": "2022-06-08T21:25:13.079Z"
   },
   {
    "duration": 10,
    "start_time": "2022-06-08T21:25:13.339Z"
   },
   {
    "duration": 9,
    "start_time": "2022-06-08T21:25:13.590Z"
   },
   {
    "duration": 9,
    "start_time": "2022-06-08T21:25:13.807Z"
   },
   {
    "duration": 3,
    "start_time": "2022-06-08T21:25:14.827Z"
   },
   {
    "duration": 27,
    "start_time": "2022-06-08T21:25:15.444Z"
   },
   {
    "duration": 22,
    "start_time": "2022-06-08T21:25:15.715Z"
   },
   {
    "duration": 16,
    "start_time": "2022-06-08T21:25:15.976Z"
   },
   {
    "duration": 20,
    "start_time": "2022-06-08T21:25:16.656Z"
   },
   {
    "duration": 15,
    "start_time": "2022-06-08T21:25:16.953Z"
   },
   {
    "duration": 14,
    "start_time": "2022-06-08T21:25:17.228Z"
   },
   {
    "duration": 7,
    "start_time": "2022-06-08T21:25:18.195Z"
   },
   {
    "duration": 82,
    "start_time": "2022-06-08T21:25:18.839Z"
   },
   {
    "duration": 59,
    "start_time": "2022-06-08T21:25:19.350Z"
   },
   {
    "duration": 38,
    "start_time": "2022-06-08T21:25:20.042Z"
   },
   {
    "duration": 7,
    "start_time": "2022-06-08T21:25:21.716Z"
   },
   {
    "duration": 7,
    "start_time": "2022-06-08T21:25:22.496Z"
   },
   {
    "duration": 17,
    "start_time": "2022-06-08T21:25:28.666Z"
   },
   {
    "duration": 15,
    "start_time": "2022-06-08T21:25:29.848Z"
   },
   {
    "duration": 15,
    "start_time": "2022-06-08T21:25:30.458Z"
   },
   {
    "duration": 5,
    "start_time": "2022-06-08T21:25:35.939Z"
   },
   {
    "duration": 15,
    "start_time": "2022-06-08T21:25:36.238Z"
   },
   {
    "duration": 15,
    "start_time": "2022-06-08T21:25:36.541Z"
   },
   {
    "duration": 15,
    "start_time": "2022-06-08T21:25:36.767Z"
   },
   {
    "duration": 13,
    "start_time": "2022-06-08T21:25:37.117Z"
   },
   {
    "duration": 39,
    "start_time": "2022-06-08T21:25:38.505Z"
   },
   {
    "duration": 5,
    "start_time": "2022-06-08T21:25:38.908Z"
   },
   {
    "duration": 4,
    "start_time": "2022-06-08T21:25:43.051Z"
   },
   {
    "duration": 9,
    "start_time": "2022-06-08T21:25:44.579Z"
   },
   {
    "duration": 12,
    "start_time": "2022-06-08T21:25:45.066Z"
   },
   {
    "duration": 20,
    "start_time": "2022-06-08T21:25:45.598Z"
   },
   {
    "duration": 5,
    "start_time": "2022-06-08T21:25:47.066Z"
   },
   {
    "duration": 7,
    "start_time": "2022-06-08T21:25:47.597Z"
   },
   {
    "duration": 7,
    "start_time": "2022-06-08T21:25:48.157Z"
   },
   {
    "duration": 11,
    "start_time": "2022-06-08T21:25:48.454Z"
   },
   {
    "duration": 4,
    "start_time": "2022-06-08T21:25:49.528Z"
   },
   {
    "duration": 10,
    "start_time": "2022-06-08T21:25:51.567Z"
   },
   {
    "duration": 9,
    "start_time": "2022-06-08T21:26:11.967Z"
   },
   {
    "duration": 12,
    "start_time": "2022-06-08T21:26:27.957Z"
   },
   {
    "duration": 4,
    "start_time": "2022-06-08T21:26:28.894Z"
   },
   {
    "duration": 4,
    "start_time": "2022-06-08T21:26:29.317Z"
   },
   {
    "duration": 5,
    "start_time": "2022-06-08T21:26:29.920Z"
   },
   {
    "duration": 7,
    "start_time": "2022-06-08T21:26:31.396Z"
   },
   {
    "duration": 14,
    "start_time": "2022-06-08T21:26:32.671Z"
   },
   {
    "duration": 10,
    "start_time": "2022-06-08T21:26:49.146Z"
   },
   {
    "duration": 3,
    "start_time": "2022-06-08T21:27:29.768Z"
   },
   {
    "duration": 13,
    "start_time": "2022-06-08T21:27:30.209Z"
   },
   {
    "duration": 10,
    "start_time": "2022-06-08T21:27:38.832Z"
   },
   {
    "duration": 8,
    "start_time": "2022-06-08T21:27:45.672Z"
   },
   {
    "duration": 7,
    "start_time": "2022-06-08T21:27:47.800Z"
   },
   {
    "duration": 11,
    "start_time": "2022-06-08T21:28:01.148Z"
   },
   {
    "duration": 10,
    "start_time": "2022-06-08T21:29:00.578Z"
   },
   {
    "duration": 3,
    "start_time": "2022-06-08T21:29:48.254Z"
   },
   {
    "duration": 444,
    "start_time": "2022-06-08T21:30:34.692Z"
   },
   {
    "duration": 5,
    "start_time": "2022-06-08T21:30:35.400Z"
   },
   {
    "duration": 12,
    "start_time": "2022-06-08T21:30:35.776Z"
   },
   {
    "duration": 2,
    "start_time": "2022-06-08T21:31:19.765Z"
   },
   {
    "duration": 135,
    "start_time": "2022-06-08T21:31:20.363Z"
   },
   {
    "duration": 102,
    "start_time": "2022-06-08T21:31:20.673Z"
   },
   {
    "duration": 76,
    "start_time": "2022-06-08T21:31:20.957Z"
   },
   {
    "duration": 16,
    "start_time": "2022-06-08T21:31:21.232Z"
   },
   {
    "duration": 41,
    "start_time": "2022-06-08T21:31:21.523Z"
   },
   {
    "duration": 8,
    "start_time": "2022-06-08T21:31:21.750Z"
   },
   {
    "duration": 23,
    "start_time": "2022-06-08T21:31:22.014Z"
   },
   {
    "duration": 8,
    "start_time": "2022-06-08T21:31:22.541Z"
   },
   {
    "duration": 18,
    "start_time": "2022-06-08T21:31:22.818Z"
   },
   {
    "duration": 7,
    "start_time": "2022-06-08T21:31:23.348Z"
   },
   {
    "duration": 16,
    "start_time": "2022-06-08T21:31:23.567Z"
   },
   {
    "duration": 6,
    "start_time": "2022-06-08T21:31:24.200Z"
   },
   {
    "duration": 9,
    "start_time": "2022-06-08T21:31:24.677Z"
   },
   {
    "duration": 9,
    "start_time": "2022-06-08T21:31:24.929Z"
   },
   {
    "duration": 9,
    "start_time": "2022-06-08T21:31:25.141Z"
   },
   {
    "duration": 4,
    "start_time": "2022-06-08T21:31:26.098Z"
   },
   {
    "duration": 29,
    "start_time": "2022-06-08T21:31:26.326Z"
   },
   {
    "duration": 19,
    "start_time": "2022-06-08T21:31:26.634Z"
   },
   {
    "duration": 17,
    "start_time": "2022-06-08T21:31:26.902Z"
   },
   {
    "duration": 19,
    "start_time": "2022-06-08T21:31:27.351Z"
   },
   {
    "duration": 18,
    "start_time": "2022-06-08T21:31:27.578Z"
   },
   {
    "duration": 13,
    "start_time": "2022-06-08T21:31:27.842Z"
   },
   {
    "duration": 6,
    "start_time": "2022-06-08T21:31:28.629Z"
   },
   {
    "duration": 80,
    "start_time": "2022-06-08T21:31:28.825Z"
   },
   {
    "duration": 47,
    "start_time": "2022-06-08T21:31:29.104Z"
   },
   {
    "duration": 32,
    "start_time": "2022-06-08T21:31:29.432Z"
   },
   {
    "duration": 6,
    "start_time": "2022-06-08T21:31:29.948Z"
   },
   {
    "duration": 6,
    "start_time": "2022-06-08T21:31:30.200Z"
   },
   {
    "duration": 15,
    "start_time": "2022-06-08T21:31:30.463Z"
   },
   {
    "duration": 18,
    "start_time": "2022-06-08T21:31:30.956Z"
   },
   {
    "duration": 13,
    "start_time": "2022-06-08T21:31:31.237Z"
   },
   {
    "duration": 13,
    "start_time": "2022-06-08T21:31:31.463Z"
   },
   {
    "duration": 40,
    "start_time": "2022-06-08T21:31:32.428Z"
   },
   {
    "duration": 4,
    "start_time": "2022-06-08T21:31:32.919Z"
   },
   {
    "duration": 4,
    "start_time": "2022-06-08T21:31:33.226Z"
   },
   {
    "duration": 8,
    "start_time": "2022-06-08T21:31:34.264Z"
   },
   {
    "duration": 10,
    "start_time": "2022-06-08T21:31:34.467Z"
   },
   {
    "duration": 17,
    "start_time": "2022-06-08T21:31:34.826Z"
   },
   {
    "duration": 4,
    "start_time": "2022-06-08T21:31:35.135Z"
   },
   {
    "duration": 5,
    "start_time": "2022-06-08T21:31:35.569Z"
   },
   {
    "duration": 6,
    "start_time": "2022-06-08T21:31:36.149Z"
   },
   {
    "duration": 11,
    "start_time": "2022-06-08T21:31:36.529Z"
   },
   {
    "duration": 3,
    "start_time": "2022-06-08T21:31:37.153Z"
   },
   {
    "duration": 12,
    "start_time": "2022-06-08T21:31:37.747Z"
   },
   {
    "duration": 10,
    "start_time": "2022-06-08T21:31:38.192Z"
   },
   {
    "duration": 4,
    "start_time": "2022-06-08T21:31:38.825Z"
   },
   {
    "duration": 4,
    "start_time": "2022-06-08T21:31:39.155Z"
   },
   {
    "duration": 4,
    "start_time": "2022-06-08T21:31:39.695Z"
   },
   {
    "duration": 8,
    "start_time": "2022-06-08T21:31:40.241Z"
   },
   {
    "duration": 13,
    "start_time": "2022-06-08T21:31:40.543Z"
   },
   {
    "duration": 3,
    "start_time": "2022-06-08T21:31:41.764Z"
   },
   {
    "duration": 15,
    "start_time": "2022-06-08T21:31:42.016Z"
   },
   {
    "duration": 7,
    "start_time": "2022-06-08T21:31:43.009Z"
   },
   {
    "duration": 10,
    "start_time": "2022-06-08T21:31:43.431Z"
   },
   {
    "duration": 6,
    "start_time": "2022-06-08T21:31:44.204Z"
   },
   {
    "duration": 15,
    "start_time": "2022-06-08T21:31:44.494Z"
   },
   {
    "duration": 3,
    "start_time": "2022-06-08T21:31:45.403Z"
   },
   {
    "duration": 11,
    "start_time": "2022-06-08T21:31:45.758Z"
   },
   {
    "duration": 2,
    "start_time": "2022-06-08T21:31:46.267Z"
   },
   {
    "duration": 67,
    "start_time": "2022-06-08T21:31:47.920Z"
   },
   {
    "duration": 6,
    "start_time": "2022-06-08T21:31:51.720Z"
   },
   {
    "duration": 13,
    "start_time": "2022-06-08T21:31:52.733Z"
   },
   {
    "duration": 5,
    "start_time": "2022-06-08T21:31:53.323Z"
   },
   {
    "duration": 13,
    "start_time": "2022-06-08T21:31:53.732Z"
   },
   {
    "duration": 8,
    "start_time": "2022-06-08T21:39:53.350Z"
   },
   {
    "duration": 4,
    "start_time": "2022-06-08T21:40:23.026Z"
   },
   {
    "duration": 5,
    "start_time": "2022-06-08T21:42:23.210Z"
   },
   {
    "duration": 3,
    "start_time": "2022-06-08T21:43:51.503Z"
   },
   {
    "duration": 17,
    "start_time": "2022-06-08T21:44:08.110Z"
   },
   {
    "duration": 4,
    "start_time": "2022-06-08T21:45:00.350Z"
   },
   {
    "duration": 10,
    "start_time": "2022-06-08T21:45:14.745Z"
   },
   {
    "duration": 4,
    "start_time": "2022-06-08T22:34:44.897Z"
   },
   {
    "duration": 4,
    "start_time": "2022-06-08T22:34:45.657Z"
   },
   {
    "duration": 4,
    "start_time": "2022-06-08T22:36:31.744Z"
   },
   {
    "duration": 5,
    "start_time": "2022-06-08T22:36:32.004Z"
   },
   {
    "duration": 4,
    "start_time": "2022-06-08T22:36:32.311Z"
   },
   {
    "duration": 4,
    "start_time": "2022-06-08T22:36:32.821Z"
   },
   {
    "duration": 4,
    "start_time": "2022-06-08T22:44:52.071Z"
   },
   {
    "duration": 4,
    "start_time": "2022-06-08T22:44:52.507Z"
   },
   {
    "duration": 4,
    "start_time": "2022-06-08T22:44:52.921Z"
   },
   {
    "duration": 4,
    "start_time": "2022-06-08T22:44:53.408Z"
   },
   {
    "duration": 4,
    "start_time": "2022-06-08T22:48:57.091Z"
   },
   {
    "duration": 4,
    "start_time": "2022-06-08T22:49:19.920Z"
   },
   {
    "duration": 4,
    "start_time": "2022-06-08T23:02:22.607Z"
   },
   {
    "duration": 34,
    "start_time": "2022-06-08T23:02:23.103Z"
   },
   {
    "duration": 5,
    "start_time": "2022-06-08T23:02:28.548Z"
   },
   {
    "duration": 5,
    "start_time": "2022-06-08T23:03:23.848Z"
   },
   {
    "duration": 4,
    "start_time": "2022-06-08T23:03:24.473Z"
   },
   {
    "duration": 4,
    "start_time": "2022-06-08T23:05:09.617Z"
   },
   {
    "duration": 4,
    "start_time": "2022-06-08T23:05:30.165Z"
   },
   {
    "duration": 3,
    "start_time": "2022-06-08T23:05:47.457Z"
   },
   {
    "duration": 4,
    "start_time": "2022-06-08T23:06:18.771Z"
   },
   {
    "duration": 4,
    "start_time": "2022-06-08T23:06:55.961Z"
   },
   {
    "duration": 4,
    "start_time": "2022-06-08T23:06:56.288Z"
   },
   {
    "duration": 4,
    "start_time": "2022-06-08T23:07:47.859Z"
   },
   {
    "duration": 4,
    "start_time": "2022-06-08T23:07:48.180Z"
   },
   {
    "duration": 521,
    "start_time": "2022-06-08T23:11:04.550Z"
   },
   {
    "duration": 164,
    "start_time": "2022-06-08T23:11:18.111Z"
   },
   {
    "duration": 151,
    "start_time": "2022-06-08T23:13:40.200Z"
   },
   {
    "duration": 142,
    "start_time": "2022-06-08T23:13:46.612Z"
   },
   {
    "duration": 146,
    "start_time": "2022-06-08T23:14:04.236Z"
   },
   {
    "duration": 142,
    "start_time": "2022-06-08T23:14:10.556Z"
   },
   {
    "duration": 150,
    "start_time": "2022-06-08T23:14:20.459Z"
   },
   {
    "duration": 145,
    "start_time": "2022-06-08T23:14:27.739Z"
   },
   {
    "duration": 223,
    "start_time": "2022-06-08T23:14:44.450Z"
   },
   {
    "duration": 147,
    "start_time": "2022-06-08T23:14:54.703Z"
   },
   {
    "duration": 173,
    "start_time": "2022-06-08T23:15:08.164Z"
   },
   {
    "duration": 145,
    "start_time": "2022-06-08T23:15:09.205Z"
   },
   {
    "duration": 157,
    "start_time": "2022-06-08T23:15:14.764Z"
   },
   {
    "duration": 160,
    "start_time": "2022-06-08T23:15:21.058Z"
   },
   {
    "duration": 160,
    "start_time": "2022-06-08T23:15:28.860Z"
   },
   {
    "duration": 167,
    "start_time": "2022-06-08T23:15:55.845Z"
   },
   {
    "duration": 822,
    "start_time": "2022-06-09T16:11:09.654Z"
   },
   {
    "duration": 216,
    "start_time": "2022-06-09T16:11:10.478Z"
   },
   {
    "duration": 304,
    "start_time": "2022-06-09T16:11:10.696Z"
   },
   {
    "duration": 293,
    "start_time": "2022-06-09T16:11:11.002Z"
   },
   {
    "duration": 70,
    "start_time": "2022-06-09T16:11:11.716Z"
   },
   {
    "duration": 55,
    "start_time": "2022-06-09T16:11:12.052Z"
   },
   {
    "duration": 14,
    "start_time": "2022-06-09T16:11:12.342Z"
   },
   {
    "duration": 24,
    "start_time": "2022-06-09T16:11:12.593Z"
   },
   {
    "duration": 9,
    "start_time": "2022-06-09T16:11:13.115Z"
   },
   {
    "duration": 21,
    "start_time": "2022-06-09T16:11:13.397Z"
   },
   {
    "duration": 8,
    "start_time": "2022-06-09T16:11:14.152Z"
   },
   {
    "duration": 18,
    "start_time": "2022-06-09T16:11:14.511Z"
   },
   {
    "duration": 7,
    "start_time": "2022-06-09T16:11:15.147Z"
   },
   {
    "duration": 21,
    "start_time": "2022-06-09T16:11:15.408Z"
   },
   {
    "duration": 11,
    "start_time": "2022-06-09T16:11:15.914Z"
   },
   {
    "duration": 10,
    "start_time": "2022-06-09T16:11:16.289Z"
   },
   {
    "duration": 5,
    "start_time": "2022-06-09T16:11:17.530Z"
   },
   {
    "duration": 36,
    "start_time": "2022-06-09T16:11:17.789Z"
   },
   {
    "duration": 23,
    "start_time": "2022-06-09T16:11:18.073Z"
   },
   {
    "duration": 20,
    "start_time": "2022-06-09T16:11:18.617Z"
   },
   {
    "duration": 20,
    "start_time": "2022-06-09T16:11:19.151Z"
   },
   {
    "duration": 16,
    "start_time": "2022-06-09T16:11:19.434Z"
   },
   {
    "duration": 14,
    "start_time": "2022-06-09T16:11:19.796Z"
   },
   {
    "duration": 7,
    "start_time": "2022-06-09T16:11:20.293Z"
   },
   {
    "duration": 104,
    "start_time": "2022-06-09T16:11:20.528Z"
   },
   {
    "duration": 61,
    "start_time": "2022-06-09T16:11:20.792Z"
   },
   {
    "duration": 39,
    "start_time": "2022-06-09T16:11:21.289Z"
   },
   {
    "duration": 10,
    "start_time": "2022-06-09T16:11:21.955Z"
   },
   {
    "duration": 6,
    "start_time": "2022-06-09T16:11:22.325Z"
   },
   {
    "duration": 18,
    "start_time": "2022-06-09T16:11:22.689Z"
   },
   {
    "duration": 21,
    "start_time": "2022-06-09T16:11:22.933Z"
   },
   {
    "duration": 15,
    "start_time": "2022-06-09T16:11:23.189Z"
   },
   {
    "duration": 9,
    "start_time": "2022-06-09T16:11:43.095Z"
   },
   {
    "duration": 18,
    "start_time": "2022-06-09T16:11:43.623Z"
   },
   {
    "duration": 19,
    "start_time": "2022-06-09T16:11:44.089Z"
   },
   {
    "duration": 15,
    "start_time": "2022-06-09T16:11:44.397Z"
   },
   {
    "duration": 23,
    "start_time": "2022-06-09T16:11:44.620Z"
   },
   {
    "duration": 56,
    "start_time": "2022-06-09T16:11:45.624Z"
   },
   {
    "duration": 6,
    "start_time": "2022-06-09T16:11:45.887Z"
   },
   {
    "duration": 4,
    "start_time": "2022-06-09T16:11:46.123Z"
   },
   {
    "duration": 14,
    "start_time": "2022-06-09T16:11:46.625Z"
   },
   {
    "duration": 17,
    "start_time": "2022-06-09T16:11:46.896Z"
   },
   {
    "duration": 30,
    "start_time": "2022-06-09T16:11:47.152Z"
   },
   {
    "duration": 6,
    "start_time": "2022-06-09T16:11:47.431Z"
   },
   {
    "duration": 4,
    "start_time": "2022-06-09T16:11:47.733Z"
   },
   {
    "duration": 7,
    "start_time": "2022-06-09T16:11:48.006Z"
   },
   {
    "duration": 12,
    "start_time": "2022-06-09T16:11:48.293Z"
   },
   {
    "duration": 3,
    "start_time": "2022-06-09T16:11:48.757Z"
   },
   {
    "duration": 11,
    "start_time": "2022-06-09T16:11:49.077Z"
   },
   {
    "duration": 15,
    "start_time": "2022-06-09T16:11:50.289Z"
   },
   {
    "duration": 5,
    "start_time": "2022-06-09T16:11:51.452Z"
   },
   {
    "duration": 4,
    "start_time": "2022-06-09T16:11:52.131Z"
   },
   {
    "duration": 5,
    "start_time": "2022-06-09T16:11:52.689Z"
   },
   {
    "duration": 9,
    "start_time": "2022-06-09T16:11:53.929Z"
   },
   {
    "duration": 15,
    "start_time": "2022-06-09T16:11:58.541Z"
   },
   {
    "duration": 4,
    "start_time": "2022-06-09T16:11:59.743Z"
   },
   {
    "duration": 15,
    "start_time": "2022-06-09T16:12:00.027Z"
   },
   {
    "duration": 8,
    "start_time": "2022-06-09T16:12:01.043Z"
   },
   {
    "duration": 11,
    "start_time": "2022-06-09T16:12:01.514Z"
   },
   {
    "duration": 7,
    "start_time": "2022-06-09T16:12:05.196Z"
   },
   {
    "duration": 17,
    "start_time": "2022-06-09T16:12:07.685Z"
   },
   {
    "duration": 5,
    "start_time": "2022-06-09T16:12:08.385Z"
   },
   {
    "duration": 12,
    "start_time": "2022-06-09T16:12:08.650Z"
   },
   {
    "duration": 2,
    "start_time": "2022-06-09T16:12:09.007Z"
   },
   {
    "duration": 70,
    "start_time": "2022-06-09T16:12:09.657Z"
   },
   {
    "duration": 3,
    "start_time": "2022-06-09T16:12:10.571Z"
   },
   {
    "duration": 4,
    "start_time": "2022-06-09T16:12:12.122Z"
   },
   {
    "duration": 6,
    "start_time": "2022-06-09T16:13:52.144Z"
   },
   {
    "duration": 15,
    "start_time": "2022-06-09T16:13:52.404Z"
   },
   {
    "duration": 6,
    "start_time": "2022-06-09T16:13:52.655Z"
   },
   {
    "duration": 16,
    "start_time": "2022-06-09T16:13:52.927Z"
   },
   {
    "duration": 5,
    "start_time": "2022-06-09T16:13:53.430Z"
   },
   {
    "duration": 4,
    "start_time": "2022-06-09T16:13:53.709Z"
   },
   {
    "duration": 5,
    "start_time": "2022-06-09T16:13:54.007Z"
   },
   {
    "duration": 4,
    "start_time": "2022-06-09T16:13:54.256Z"
   },
   {
    "duration": 5,
    "start_time": "2022-06-09T16:13:54.523Z"
   },
   {
    "duration": 4,
    "start_time": "2022-06-09T16:13:54.813Z"
   },
   {
    "duration": 5,
    "start_time": "2022-06-09T16:13:55.117Z"
   },
   {
    "duration": 5,
    "start_time": "2022-06-09T16:13:55.439Z"
   },
   {
    "duration": 550,
    "start_time": "2022-06-09T16:13:55.781Z"
   },
   {
    "duration": 159,
    "start_time": "2022-06-09T16:13:56.448Z"
   },
   {
    "duration": 4,
    "start_time": "2022-06-09T16:14:00.341Z"
   },
   {
    "duration": 5,
    "start_time": "2022-06-09T16:14:00.780Z"
   },
   {
    "duration": 6,
    "start_time": "2022-06-09T16:14:01.043Z"
   },
   {
    "duration": 5,
    "start_time": "2022-06-09T16:14:01.273Z"
   },
   {
    "duration": 4,
    "start_time": "2022-06-09T16:14:01.500Z"
   },
   {
    "duration": 4,
    "start_time": "2022-06-09T16:14:01.745Z"
   },
   {
    "duration": 5,
    "start_time": "2022-06-09T16:14:02.211Z"
   },
   {
    "duration": 5,
    "start_time": "2022-06-09T16:14:02.492Z"
   },
   {
    "duration": 188,
    "start_time": "2022-06-09T16:14:02.716Z"
   },
   {
    "duration": 210,
    "start_time": "2022-06-09T16:14:03.017Z"
   },
   {
    "duration": 5,
    "start_time": "2022-06-09T16:14:03.605Z"
   },
   {
    "duration": 5,
    "start_time": "2022-06-09T16:14:03.892Z"
   },
   {
    "duration": 5,
    "start_time": "2022-06-09T16:14:04.147Z"
   },
   {
    "duration": 5,
    "start_time": "2022-06-09T16:14:04.649Z"
   },
   {
    "duration": 5,
    "start_time": "2022-06-09T16:14:04.941Z"
   },
   {
    "duration": 4,
    "start_time": "2022-06-09T16:14:05.247Z"
   },
   {
    "duration": 6,
    "start_time": "2022-06-09T16:14:05.592Z"
   },
   {
    "duration": 5,
    "start_time": "2022-06-09T16:14:05.892Z"
   },
   {
    "duration": 175,
    "start_time": "2022-06-09T16:14:06.189Z"
   },
   {
    "duration": 170,
    "start_time": "2022-06-09T16:14:06.804Z"
   },
   {
    "duration": 211,
    "start_time": "2022-06-09T16:14:51.752Z"
   },
   {
    "duration": 171,
    "start_time": "2022-06-09T16:20:59.524Z"
   },
   {
    "duration": 16,
    "start_time": "2022-06-09T16:22:08.187Z"
   },
   {
    "duration": 23,
    "start_time": "2022-06-09T16:33:18.407Z"
   },
   {
    "duration": 8,
    "start_time": "2022-06-09T16:33:18.909Z"
   },
   {
    "duration": 5,
    "start_time": "2022-06-09T16:33:50.252Z"
   },
   {
    "duration": 6,
    "start_time": "2022-06-09T16:33:55.743Z"
   },
   {
    "duration": 4,
    "start_time": "2022-06-09T16:34:02.643Z"
   },
   {
    "duration": 4,
    "start_time": "2022-06-09T16:34:09.769Z"
   },
   {
    "duration": 4,
    "start_time": "2022-06-09T16:55:59.454Z"
   },
   {
    "duration": 17,
    "start_time": "2022-06-09T16:56:18.582Z"
   },
   {
    "duration": 243,
    "start_time": "2022-06-09T17:35:32.378Z"
   },
   {
    "duration": 216,
    "start_time": "2022-06-09T17:35:39.217Z"
   },
   {
    "duration": 5,
    "start_time": "2022-06-09T17:36:06.898Z"
   },
   {
    "duration": 202,
    "start_time": "2022-06-09T18:23:57.213Z"
   },
   {
    "duration": 6,
    "start_time": "2022-06-09T18:43:06.414Z"
   },
   {
    "duration": 7,
    "start_time": "2022-06-09T18:44:07.506Z"
   },
   {
    "duration": 5,
    "start_time": "2022-06-09T18:44:08.090Z"
   },
   {
    "duration": 20,
    "start_time": "2022-06-09T18:44:23.794Z"
   },
   {
    "duration": 5,
    "start_time": "2022-06-09T18:45:06.212Z"
   },
   {
    "duration": 7,
    "start_time": "2022-06-09T18:45:06.910Z"
   },
   {
    "duration": 6,
    "start_time": "2022-06-09T18:45:44.898Z"
   },
   {
    "duration": 10,
    "start_time": "2022-06-09T18:46:09.267Z"
   },
   {
    "duration": 7,
    "start_time": "2022-06-09T18:46:09.742Z"
   },
   {
    "duration": 122,
    "start_time": "2022-06-09T18:50:29.308Z"
   },
   {
    "duration": 3,
    "start_time": "2022-06-09T18:51:00.103Z"
   },
   {
    "duration": 164,
    "start_time": "2022-06-09T18:51:09.104Z"
   },
   {
    "duration": 13,
    "start_time": "2022-06-09T18:52:29.059Z"
   },
   {
    "duration": 19,
    "start_time": "2022-06-09T18:52:51.778Z"
   },
   {
    "duration": 5,
    "start_time": "2022-06-09T18:54:59.916Z"
   },
   {
    "duration": 11,
    "start_time": "2022-06-09T18:55:21.306Z"
   },
   {
    "duration": 47,
    "start_time": "2022-06-09T19:00:46.707Z"
   },
   {
    "duration": 4,
    "start_time": "2022-06-09T19:16:17.106Z"
   },
   {
    "duration": 10,
    "start_time": "2022-06-09T19:16:54.696Z"
   },
   {
    "duration": 78,
    "start_time": "2022-06-09T19:21:23.315Z"
   },
   {
    "duration": 6,
    "start_time": "2022-06-09T19:21:33.711Z"
   },
   {
    "duration": 50,
    "start_time": "2022-06-09T23:18:57.251Z"
   },
   {
    "duration": 6,
    "start_time": "2022-06-09T23:19:08.599Z"
   },
   {
    "duration": 1107,
    "start_time": "2022-06-09T23:19:17.544Z"
   },
   {
    "duration": 277,
    "start_time": "2022-06-09T23:19:18.654Z"
   },
   {
    "duration": 306,
    "start_time": "2022-06-09T23:19:18.933Z"
   },
   {
    "duration": 315,
    "start_time": "2022-06-09T23:19:19.241Z"
   },
   {
    "duration": 61,
    "start_time": "2022-06-09T23:19:19.557Z"
   },
   {
    "duration": 57,
    "start_time": "2022-06-09T23:19:19.620Z"
   },
   {
    "duration": 12,
    "start_time": "2022-06-09T23:19:19.721Z"
   },
   {
    "duration": 25,
    "start_time": "2022-06-09T23:19:19.962Z"
   },
   {
    "duration": 10,
    "start_time": "2022-06-09T23:19:20.406Z"
   },
   {
    "duration": 20,
    "start_time": "2022-06-09T23:19:20.651Z"
   },
   {
    "duration": 8,
    "start_time": "2022-06-09T23:19:21.139Z"
   },
   {
    "duration": 18,
    "start_time": "2022-06-09T23:19:21.378Z"
   },
   {
    "duration": 9,
    "start_time": "2022-06-09T23:19:21.850Z"
   },
   {
    "duration": 10,
    "start_time": "2022-06-09T23:19:22.083Z"
   },
   {
    "duration": 9,
    "start_time": "2022-06-09T23:19:22.531Z"
   },
   {
    "duration": 10,
    "start_time": "2022-06-09T23:19:22.787Z"
   },
   {
    "duration": 4,
    "start_time": "2022-06-09T23:19:23.843Z"
   },
   {
    "duration": 33,
    "start_time": "2022-06-09T23:19:24.090Z"
   },
   {
    "duration": 23,
    "start_time": "2022-06-09T23:19:24.339Z"
   },
   {
    "duration": 20,
    "start_time": "2022-06-09T23:19:24.625Z"
   },
   {
    "duration": 21,
    "start_time": "2022-06-09T23:19:25.117Z"
   },
   {
    "duration": 16,
    "start_time": "2022-06-09T23:19:25.368Z"
   },
   {
    "duration": 14,
    "start_time": "2022-06-09T23:19:25.613Z"
   },
   {
    "duration": 8,
    "start_time": "2022-06-09T23:19:26.276Z"
   },
   {
    "duration": 97,
    "start_time": "2022-06-09T23:19:26.680Z"
   },
   {
    "duration": 62,
    "start_time": "2022-06-09T23:19:26.930Z"
   },
   {
    "duration": 43,
    "start_time": "2022-06-09T23:19:27.185Z"
   },
   {
    "duration": 7,
    "start_time": "2022-06-09T23:19:27.707Z"
   },
   {
    "duration": 7,
    "start_time": "2022-06-09T23:19:27.926Z"
   },
   {
    "duration": 18,
    "start_time": "2022-06-09T23:19:28.221Z"
   },
   {
    "duration": 18,
    "start_time": "2022-06-09T23:19:28.728Z"
   },
   {
    "duration": 15,
    "start_time": "2022-06-09T23:19:29.010Z"
   },
   {
    "duration": 7,
    "start_time": "2022-06-09T23:19:31.008Z"
   },
   {
    "duration": 8,
    "start_time": "2022-06-09T23:19:31.294Z"
   },
   {
    "duration": 18,
    "start_time": "2022-06-09T23:19:31.551Z"
   },
   {
    "duration": 18,
    "start_time": "2022-06-09T23:19:32.074Z"
   },
   {
    "duration": 15,
    "start_time": "2022-06-09T23:19:32.355Z"
   },
   {
    "duration": 16,
    "start_time": "2022-06-09T23:19:32.663Z"
   },
   {
    "duration": 43,
    "start_time": "2022-06-09T23:19:34.046Z"
   },
   {
    "duration": 5,
    "start_time": "2022-06-09T23:19:34.339Z"
   },
   {
    "duration": 4,
    "start_time": "2022-06-09T23:19:34.621Z"
   },
   {
    "duration": 14,
    "start_time": "2022-06-09T23:19:35.178Z"
   },
   {
    "duration": 18,
    "start_time": "2022-06-09T23:19:35.450Z"
   },
   {
    "duration": 23,
    "start_time": "2022-06-09T23:19:35.713Z"
   },
   {
    "duration": 6,
    "start_time": "2022-06-09T23:19:36.209Z"
   },
   {
    "duration": 4,
    "start_time": "2022-06-09T23:19:36.494Z"
   },
   {
    "duration": 8,
    "start_time": "2022-06-09T23:19:36.763Z"
   },
   {
    "duration": 12,
    "start_time": "2022-06-09T23:19:37.300Z"
   },
   {
    "duration": 3,
    "start_time": "2022-06-09T23:19:37.602Z"
   },
   {
    "duration": 12,
    "start_time": "2022-06-09T23:19:37.903Z"
   },
   {
    "duration": 16,
    "start_time": "2022-06-09T23:19:38.218Z"
   },
   {
    "duration": 5,
    "start_time": "2022-06-09T23:19:38.795Z"
   },
   {
    "duration": 4,
    "start_time": "2022-06-09T23:19:39.316Z"
   },
   {
    "duration": 5,
    "start_time": "2022-06-09T23:19:39.675Z"
   },
   {
    "duration": 8,
    "start_time": "2022-06-09T23:19:40.451Z"
   },
   {
    "duration": 15,
    "start_time": "2022-06-09T23:19:40.736Z"
   },
   {
    "duration": 3,
    "start_time": "2022-06-09T23:19:41.229Z"
   },
   {
    "duration": 15,
    "start_time": "2022-06-09T23:19:41.507Z"
   },
   {
    "duration": 8,
    "start_time": "2022-06-09T23:19:42.222Z"
   },
   {
    "duration": 11,
    "start_time": "2022-06-09T23:19:42.478Z"
   },
   {
    "duration": 7,
    "start_time": "2022-06-09T23:19:42.972Z"
   },
   {
    "duration": 16,
    "start_time": "2022-06-09T23:19:43.223Z"
   },
   {
    "duration": 4,
    "start_time": "2022-06-09T23:19:43.963Z"
   },
   {
    "duration": 11,
    "start_time": "2022-06-09T23:19:44.245Z"
   },
   {
    "duration": 2,
    "start_time": "2022-06-09T23:19:44.457Z"
   },
   {
    "duration": 69,
    "start_time": "2022-06-09T23:19:45.192Z"
   },
   {
    "duration": 4,
    "start_time": "2022-06-09T23:19:45.693Z"
   },
   {
    "duration": 4,
    "start_time": "2022-06-09T23:19:45.946Z"
   },
   {
    "duration": 4,
    "start_time": "2022-06-09T23:19:46.467Z"
   },
   {
    "duration": 6,
    "start_time": "2022-06-09T23:19:47.738Z"
   },
   {
    "duration": 13,
    "start_time": "2022-06-09T23:19:48.026Z"
   },
   {
    "duration": 5,
    "start_time": "2022-06-09T23:19:48.273Z"
   },
   {
    "duration": 14,
    "start_time": "2022-06-09T23:19:48.554Z"
   },
   {
    "duration": 5,
    "start_time": "2022-06-09T23:19:49.297Z"
   },
   {
    "duration": 4,
    "start_time": "2022-06-09T23:19:49.579Z"
   },
   {
    "duration": 4,
    "start_time": "2022-06-09T23:19:50.115Z"
   },
   {
    "duration": 5,
    "start_time": "2022-06-09T23:19:50.614Z"
   },
   {
    "duration": 5,
    "start_time": "2022-06-09T23:19:50.907Z"
   },
   {
    "duration": 4,
    "start_time": "2022-06-09T23:19:51.186Z"
   },
   {
    "duration": 4,
    "start_time": "2022-06-09T23:19:51.459Z"
   },
   {
    "duration": 5,
    "start_time": "2022-06-09T23:19:51.740Z"
   },
   {
    "duration": 181,
    "start_time": "2022-06-09T23:19:52.024Z"
   },
   {
    "duration": 156,
    "start_time": "2022-06-09T23:19:56.463Z"
   },
   {
    "duration": 4,
    "start_time": "2022-06-09T23:19:57.440Z"
   },
   {
    "duration": 4,
    "start_time": "2022-06-09T23:19:57.719Z"
   },
   {
    "duration": 4,
    "start_time": "2022-06-09T23:19:57.960Z"
   },
   {
    "duration": 4,
    "start_time": "2022-06-09T23:19:58.218Z"
   },
   {
    "duration": 5,
    "start_time": "2022-06-09T23:19:59.261Z"
   },
   {
    "duration": 4,
    "start_time": "2022-06-09T23:19:59.553Z"
   },
   {
    "duration": 6,
    "start_time": "2022-06-09T23:20:00.079Z"
   },
   {
    "duration": 5,
    "start_time": "2022-06-09T23:20:00.306Z"
   },
   {
    "duration": 6,
    "start_time": "2022-06-09T23:20:00.565Z"
   },
   {
    "duration": 5,
    "start_time": "2022-06-09T23:20:00.836Z"
   },
   {
    "duration": 5,
    "start_time": "2022-06-09T23:20:01.085Z"
   },
   {
    "duration": 4,
    "start_time": "2022-06-09T23:20:01.336Z"
   },
   {
    "duration": 193,
    "start_time": "2022-06-09T23:20:01.589Z"
   },
   {
    "duration": 127,
    "start_time": "2022-06-09T23:20:02.324Z"
   },
   {
    "duration": 12,
    "start_time": "2022-06-09T23:20:02.848Z"
   },
   {
    "duration": 5,
    "start_time": "2022-06-09T23:20:03.358Z"
   },
   {
    "duration": 5,
    "start_time": "2022-06-09T23:20:04.101Z"
   },
   {
    "duration": 189,
    "start_time": "2022-06-09T23:20:04.589Z"
   },
   {
    "duration": 5,
    "start_time": "2022-06-09T23:20:05.066Z"
   },
   {
    "duration": 4,
    "start_time": "2022-06-09T23:20:05.876Z"
   },
   {
    "duration": 4,
    "start_time": "2022-06-09T23:20:06.132Z"
   },
   {
    "duration": 5,
    "start_time": "2022-06-09T23:20:06.748Z"
   },
   {
    "duration": 4,
    "start_time": "2022-06-09T23:20:07.032Z"
   },
   {
    "duration": 5,
    "start_time": "2022-06-09T23:20:07.342Z"
   },
   {
    "duration": 5,
    "start_time": "2022-06-09T23:20:07.571Z"
   },
   {
    "duration": 5,
    "start_time": "2022-06-09T23:20:07.871Z"
   },
   {
    "duration": 4,
    "start_time": "2022-06-09T23:20:08.156Z"
   },
   {
    "duration": 176,
    "start_time": "2022-06-09T23:20:08.444Z"
   },
   {
    "duration": 180,
    "start_time": "2022-06-09T23:20:09.177Z"
   },
   {
    "duration": 7,
    "start_time": "2022-06-09T23:20:10.601Z"
   },
   {
    "duration": 8,
    "start_time": "2022-06-09T23:20:10.898Z"
   },
   {
    "duration": 6,
    "start_time": "2022-06-09T23:20:11.186Z"
   },
   {
    "duration": 7,
    "start_time": "2022-06-09T23:20:11.469Z"
   },
   {
    "duration": 4,
    "start_time": "2022-06-09T23:20:12.655Z"
   },
   {
    "duration": 5,
    "start_time": "2022-06-09T23:20:12.918Z"
   },
   {
    "duration": 53,
    "start_time": "2022-06-09T23:20:13.583Z"
   },
   {
    "duration": 5,
    "start_time": "2022-06-09T23:20:14.175Z"
   },
   {
    "duration": 64,
    "start_time": "2022-06-09T23:20:14.742Z"
   },
   {
    "duration": 14,
    "start_time": "2022-06-09T23:20:15.706Z"
   },
   {
    "duration": 8,
    "start_time": "2022-06-09T23:21:02.249Z"
   },
   {
    "duration": 27,
    "start_time": "2022-06-09T23:21:06.989Z"
   },
   {
    "duration": 4,
    "start_time": "2022-06-09T23:21:19.387Z"
   },
   {
    "duration": 14,
    "start_time": "2022-06-09T23:21:32.327Z"
   },
   {
    "duration": 6,
    "start_time": "2022-06-09T23:22:06.182Z"
   },
   {
    "duration": 12,
    "start_time": "2022-06-09T23:23:03.191Z"
   },
   {
    "duration": 6,
    "start_time": "2022-06-09T23:23:03.752Z"
   },
   {
    "duration": 8,
    "start_time": "2022-06-09T23:24:29.203Z"
   },
   {
    "duration": 9,
    "start_time": "2022-06-09T23:24:58.481Z"
   },
   {
    "duration": 17,
    "start_time": "2022-06-09T23:25:02.342Z"
   },
   {
    "duration": 6,
    "start_time": "2022-06-09T23:25:03.011Z"
   },
   {
    "duration": 11,
    "start_time": "2022-06-09T23:25:04.795Z"
   },
   {
    "duration": 9,
    "start_time": "2022-06-09T23:25:23.932Z"
   },
   {
    "duration": 9,
    "start_time": "2022-06-09T23:26:02.935Z"
   },
   {
    "duration": 5,
    "start_time": "2022-06-09T23:26:14.066Z"
   },
   {
    "duration": 14,
    "start_time": "2022-06-09T23:26:25.813Z"
   },
   {
    "duration": 10,
    "start_time": "2022-06-09T23:26:40.451Z"
   },
   {
    "duration": 32,
    "start_time": "2022-06-09T23:27:43.621Z"
   },
   {
    "duration": 2,
    "start_time": "2022-06-09T23:28:41.943Z"
   },
   {
    "duration": 9,
    "start_time": "2022-06-09T23:29:20.788Z"
   },
   {
    "duration": 9,
    "start_time": "2022-06-09T23:29:35.467Z"
   },
   {
    "duration": 5,
    "start_time": "2022-06-09T23:29:37.637Z"
   },
   {
    "duration": 9,
    "start_time": "2022-06-09T23:29:45.609Z"
   },
   {
    "duration": 4,
    "start_time": "2022-06-09T23:30:12.544Z"
   },
   {
    "duration": 14,
    "start_time": "2022-06-09T23:30:21.339Z"
   },
   {
    "duration": 9,
    "start_time": "2022-06-09T23:30:55.775Z"
   },
   {
    "duration": 6,
    "start_time": "2022-06-09T23:30:57.517Z"
   },
   {
    "duration": 16,
    "start_time": "2022-06-09T23:31:19.239Z"
   },
   {
    "duration": 11,
    "start_time": "2022-06-09T23:31:38.499Z"
   },
   {
    "duration": 4,
    "start_time": "2022-06-09T23:32:02.755Z"
   },
   {
    "duration": 5,
    "start_time": "2022-06-09T23:32:04.752Z"
   },
   {
    "duration": 6,
    "start_time": "2022-06-09T23:32:09.141Z"
   },
   {
    "duration": 12,
    "start_time": "2022-06-09T23:32:11.164Z"
   },
   {
    "duration": 6,
    "start_time": "2022-06-09T23:32:32.522Z"
   },
   {
    "duration": 13,
    "start_time": "2022-06-09T23:32:42.912Z"
   },
   {
    "duration": 1210,
    "start_time": "2022-06-10T07:57:18.306Z"
   },
   {
    "duration": 368,
    "start_time": "2022-06-10T07:57:19.518Z"
   },
   {
    "duration": 371,
    "start_time": "2022-06-10T07:57:19.889Z"
   },
   {
    "duration": 354,
    "start_time": "2022-06-10T07:57:20.269Z"
   },
   {
    "duration": 89,
    "start_time": "2022-06-10T07:57:20.625Z"
   },
   {
    "duration": 65,
    "start_time": "2022-06-10T07:57:20.715Z"
   },
   {
    "duration": 18,
    "start_time": "2022-06-10T07:57:20.782Z"
   },
   {
    "duration": 26,
    "start_time": "2022-06-10T07:57:25.701Z"
   },
   {
    "duration": 9,
    "start_time": "2022-06-10T07:57:25.729Z"
   },
   {
    "duration": 34,
    "start_time": "2022-06-10T07:57:25.740Z"
   },
   {
    "duration": 15,
    "start_time": "2022-06-10T07:57:25.775Z"
   },
   {
    "duration": 20,
    "start_time": "2022-06-10T07:57:25.792Z"
   },
   {
    "duration": 7,
    "start_time": "2022-06-10T07:57:25.814Z"
   },
   {
    "duration": 16,
    "start_time": "2022-06-10T07:57:25.822Z"
   },
   {
    "duration": 37,
    "start_time": "2022-06-10T07:57:25.840Z"
   },
   {
    "duration": 20,
    "start_time": "2022-06-10T07:57:25.883Z"
   },
   {
    "duration": 8,
    "start_time": "2022-06-10T07:57:25.905Z"
   },
   {
    "duration": 43,
    "start_time": "2022-06-10T07:57:25.915Z"
   },
   {
    "duration": 26,
    "start_time": "2022-06-10T07:57:26.316Z"
   },
   {
    "duration": 26,
    "start_time": "2022-06-10T07:57:26.344Z"
   },
   {
    "duration": 22,
    "start_time": "2022-06-10T07:57:27.307Z"
   },
   {
    "duration": 17,
    "start_time": "2022-06-10T07:57:27.700Z"
   },
   {
    "duration": 14,
    "start_time": "2022-06-10T07:57:28.213Z"
   },
   {
    "duration": 6,
    "start_time": "2022-06-10T07:57:29.020Z"
   },
   {
    "duration": 105,
    "start_time": "2022-06-10T07:57:29.399Z"
   },
   {
    "duration": 62,
    "start_time": "2022-06-10T07:57:29.828Z"
   },
   {
    "duration": 41,
    "start_time": "2022-06-10T07:57:30.300Z"
   },
   {
    "duration": 12,
    "start_time": "2022-06-10T07:57:31.053Z"
   },
   {
    "duration": 7,
    "start_time": "2022-06-10T07:57:31.298Z"
   },
   {
    "duration": 28,
    "start_time": "2022-06-10T07:57:31.741Z"
   },
   {
    "duration": 20,
    "start_time": "2022-06-10T07:57:32.300Z"
   },
   {
    "duration": 19,
    "start_time": "2022-06-10T07:57:32.778Z"
   },
   {
    "duration": 9,
    "start_time": "2022-06-10T07:57:37.747Z"
   },
   {
    "duration": 9,
    "start_time": "2022-06-10T07:57:38.106Z"
   },
   {
    "duration": 21,
    "start_time": "2022-06-10T07:57:38.406Z"
   },
   {
    "duration": 34,
    "start_time": "2022-06-10T07:57:38.739Z"
   },
   {
    "duration": 17,
    "start_time": "2022-06-10T07:57:39.095Z"
   },
   {
    "duration": 16,
    "start_time": "2022-06-10T07:57:39.522Z"
   },
   {
    "duration": 51,
    "start_time": "2022-06-10T07:57:40.818Z"
   },
   {
    "duration": 5,
    "start_time": "2022-06-10T07:57:41.144Z"
   },
   {
    "duration": 4,
    "start_time": "2022-06-10T07:57:41.440Z"
   },
   {
    "duration": 14,
    "start_time": "2022-06-10T07:57:42.000Z"
   },
   {
    "duration": 19,
    "start_time": "2022-06-10T07:57:42.284Z"
   },
   {
    "duration": 38,
    "start_time": "2022-06-10T07:57:42.548Z"
   },
   {
    "duration": 6,
    "start_time": "2022-06-10T07:57:43.016Z"
   },
   {
    "duration": 10,
    "start_time": "2022-06-10T07:57:43.363Z"
   },
   {
    "duration": 7,
    "start_time": "2022-06-10T07:57:43.708Z"
   },
   {
    "duration": 12,
    "start_time": "2022-06-10T07:57:44.001Z"
   },
   {
    "duration": 4,
    "start_time": "2022-06-10T07:57:44.427Z"
   },
   {
    "duration": 15,
    "start_time": "2022-06-10T07:57:44.813Z"
   },
   {
    "duration": 24,
    "start_time": "2022-06-10T07:57:45.195Z"
   },
   {
    "duration": 10,
    "start_time": "2022-06-10T07:57:45.868Z"
   },
   {
    "duration": 9,
    "start_time": "2022-06-10T07:57:46.277Z"
   },
   {
    "duration": 5,
    "start_time": "2022-06-10T07:57:46.591Z"
   },
   {
    "duration": 11,
    "start_time": "2022-06-10T07:57:47.224Z"
   },
   {
    "duration": 19,
    "start_time": "2022-06-10T07:57:47.601Z"
   },
   {
    "duration": 3,
    "start_time": "2022-06-10T07:57:48.248Z"
   },
   {
    "duration": 13,
    "start_time": "2022-06-10T07:57:48.628Z"
   },
   {
    "duration": 15,
    "start_time": "2022-06-10T07:57:49.268Z"
   },
   {
    "duration": 10,
    "start_time": "2022-06-10T07:57:49.629Z"
   },
   {
    "duration": 109,
    "start_time": "2022-06-10T08:06:02.108Z"
   },
   {
    "duration": 13,
    "start_time": "2022-06-10T08:06:02.555Z"
   },
   {
    "duration": 3,
    "start_time": "2022-06-10T08:06:10.732Z"
   },
   {
    "duration": 193,
    "start_time": "2022-06-10T08:06:10.969Z"
   },
   {
    "duration": 203,
    "start_time": "2022-06-10T08:06:11.306Z"
   },
   {
    "duration": 107,
    "start_time": "2022-06-10T08:06:11.520Z"
   },
   {
    "duration": 19,
    "start_time": "2022-06-10T08:06:11.800Z"
   },
   {
    "duration": 44,
    "start_time": "2022-06-10T08:06:12.102Z"
   },
   {
    "duration": 28,
    "start_time": "2022-06-10T08:06:12.357Z"
   },
   {
    "duration": 23,
    "start_time": "2022-06-10T08:06:12.625Z"
   },
   {
    "duration": 9,
    "start_time": "2022-06-10T08:06:13.215Z"
   },
   {
    "duration": 23,
    "start_time": "2022-06-10T08:06:13.498Z"
   },
   {
    "duration": 8,
    "start_time": "2022-06-10T08:06:14.023Z"
   },
   {
    "duration": 18,
    "start_time": "2022-06-10T08:06:14.294Z"
   },
   {
    "duration": 8,
    "start_time": "2022-06-10T08:06:14.833Z"
   },
   {
    "duration": 10,
    "start_time": "2022-06-10T08:06:15.133Z"
   },
   {
    "duration": 19,
    "start_time": "2022-06-10T08:06:15.398Z"
   },
   {
    "duration": 11,
    "start_time": "2022-06-10T08:06:15.699Z"
   },
   {
    "duration": 4,
    "start_time": "2022-06-10T08:06:17.026Z"
   },
   {
    "duration": 50,
    "start_time": "2022-06-10T08:06:17.376Z"
   },
   {
    "duration": 26,
    "start_time": "2022-06-10T08:06:17.610Z"
   },
   {
    "duration": 30,
    "start_time": "2022-06-10T08:06:17.940Z"
   },
   {
    "duration": 21,
    "start_time": "2022-06-10T08:06:18.530Z"
   },
   {
    "duration": 17,
    "start_time": "2022-06-10T08:06:18.800Z"
   },
   {
    "duration": 14,
    "start_time": "2022-06-10T08:06:19.232Z"
   },
   {
    "duration": 8,
    "start_time": "2022-06-10T08:06:19.807Z"
   },
   {
    "duration": 131,
    "start_time": "2022-06-10T08:06:20.184Z"
   },
   {
    "duration": 84,
    "start_time": "2022-06-10T08:06:20.402Z"
   },
   {
    "duration": 44,
    "start_time": "2022-06-10T08:06:21.392Z"
   },
   {
    "duration": 9,
    "start_time": "2022-06-10T08:06:22.178Z"
   },
   {
    "duration": 11,
    "start_time": "2022-06-10T08:06:22.379Z"
   },
   {
    "duration": 30,
    "start_time": "2022-06-10T08:06:22.805Z"
   },
   {
    "duration": 19,
    "start_time": "2022-06-10T08:06:23.411Z"
   },
   {
    "duration": 15,
    "start_time": "2022-06-10T08:06:23.619Z"
   },
   {
    "duration": 15,
    "start_time": "2022-06-10T08:06:24.034Z"
   },
   {
    "duration": 56,
    "start_time": "2022-06-10T08:06:25.295Z"
   },
   {
    "duration": 5,
    "start_time": "2022-06-10T08:06:25.530Z"
   },
   {
    "duration": 4,
    "start_time": "2022-06-10T08:06:25.904Z"
   },
   {
    "duration": 9,
    "start_time": "2022-06-10T08:06:26.733Z"
   },
   {
    "duration": 14,
    "start_time": "2022-06-10T08:06:26.918Z"
   },
   {
    "duration": 28,
    "start_time": "2022-06-10T08:06:27.543Z"
   },
   {
    "duration": 5,
    "start_time": "2022-06-10T08:06:27.896Z"
   },
   {
    "duration": 6,
    "start_time": "2022-06-10T08:06:28.221Z"
   },
   {
    "duration": 9,
    "start_time": "2022-06-10T08:06:28.599Z"
   },
   {
    "duration": 14,
    "start_time": "2022-06-10T08:06:28.914Z"
   },
   {
    "duration": 4,
    "start_time": "2022-06-10T08:06:29.229Z"
   },
   {
    "duration": 10,
    "start_time": "2022-06-10T08:06:29.544Z"
   },
   {
    "duration": 13,
    "start_time": "2022-06-10T08:06:29.900Z"
   },
   {
    "duration": 5,
    "start_time": "2022-06-10T08:06:30.503Z"
   },
   {
    "duration": 5,
    "start_time": "2022-06-10T08:06:30.844Z"
   },
   {
    "duration": 13,
    "start_time": "2022-06-10T08:06:31.185Z"
   },
   {
    "duration": 12,
    "start_time": "2022-06-10T08:06:31.857Z"
   },
   {
    "duration": 26,
    "start_time": "2022-06-10T08:06:32.173Z"
   },
   {
    "duration": 4,
    "start_time": "2022-06-10T08:06:32.822Z"
   },
   {
    "duration": 19,
    "start_time": "2022-06-10T08:06:33.100Z"
   },
   {
    "duration": 8,
    "start_time": "2022-06-10T08:06:33.714Z"
   },
   {
    "duration": 10,
    "start_time": "2022-06-10T08:06:34.010Z"
   },
   {
    "duration": 7,
    "start_time": "2022-06-10T08:06:34.700Z"
   },
   {
    "duration": 16,
    "start_time": "2022-06-10T08:06:35.039Z"
   },
   {
    "duration": 23,
    "start_time": "2022-06-10T08:06:35.702Z"
   },
   {
    "duration": 12,
    "start_time": "2022-06-10T08:06:36.024Z"
   },
   {
    "duration": 3,
    "start_time": "2022-06-10T08:06:36.352Z"
   },
   {
    "duration": 84,
    "start_time": "2022-06-10T08:06:37.026Z"
   },
   {
    "duration": 4,
    "start_time": "2022-06-10T08:06:37.809Z"
   },
   {
    "duration": 3,
    "start_time": "2022-06-10T08:06:38.340Z"
   },
   {
    "duration": 4,
    "start_time": "2022-06-10T08:06:39.219Z"
   },
   {
    "duration": 6,
    "start_time": "2022-06-10T08:06:40.601Z"
   },
   {
    "duration": 15,
    "start_time": "2022-06-10T08:06:41.196Z"
   },
   {
    "duration": 6,
    "start_time": "2022-06-10T08:06:41.598Z"
   },
   {
    "duration": 14,
    "start_time": "2022-06-10T08:06:42.113Z"
   },
   {
    "duration": 5,
    "start_time": "2022-06-10T08:06:43.399Z"
   },
   {
    "duration": 15,
    "start_time": "2022-06-10T08:06:44.257Z"
   },
   {
    "duration": 5,
    "start_time": "2022-06-10T08:06:45.640Z"
   },
   {
    "duration": 4,
    "start_time": "2022-06-10T08:06:46.215Z"
   },
   {
    "duration": 5,
    "start_time": "2022-06-10T08:06:46.602Z"
   },
   {
    "duration": 4,
    "start_time": "2022-06-10T08:06:46.918Z"
   },
   {
    "duration": 6,
    "start_time": "2022-06-10T08:06:47.298Z"
   },
   {
    "duration": 7,
    "start_time": "2022-06-10T08:06:47.890Z"
   },
   {
    "duration": 244,
    "start_time": "2022-06-10T08:35:33.918Z"
   },
   {
    "duration": 204,
    "start_time": "2022-06-10T08:35:34.853Z"
   },
   {
    "duration": 4,
    "start_time": "2022-06-10T08:35:35.597Z"
   },
   {
    "duration": 4,
    "start_time": "2022-06-10T08:35:35.933Z"
   },
   {
    "duration": 5,
    "start_time": "2022-06-10T08:35:36.248Z"
   },
   {
    "duration": 4,
    "start_time": "2022-06-10T08:35:36.516Z"
   },
   {
    "duration": 4,
    "start_time": "2022-06-10T08:35:37.823Z"
   },
   {
    "duration": 5,
    "start_time": "2022-06-10T08:35:38.525Z"
   },
   {
    "duration": 5,
    "start_time": "2022-06-10T08:35:39.029Z"
   },
   {
    "duration": 11,
    "start_time": "2022-06-10T08:35:39.267Z"
   },
   {
    "duration": 6,
    "start_time": "2022-06-10T08:35:39.643Z"
   },
   {
    "duration": 4,
    "start_time": "2022-06-10T08:35:39.851Z"
   },
   {
    "duration": 5,
    "start_time": "2022-06-10T08:35:40.105Z"
   },
   {
    "duration": 4,
    "start_time": "2022-06-10T08:35:40.250Z"
   },
   {
    "duration": 209,
    "start_time": "2022-06-10T08:35:40.511Z"
   },
   {
    "duration": 149,
    "start_time": "2022-06-10T08:35:40.925Z"
   },
   {
    "duration": 17,
    "start_time": "2022-06-10T08:35:41.576Z"
   },
   {
    "duration": 4,
    "start_time": "2022-06-10T08:35:42.197Z"
   },
   {
    "duration": 4,
    "start_time": "2022-06-10T08:35:42.605Z"
   },
   {
    "duration": 220,
    "start_time": "2022-06-10T08:35:43.221Z"
   },
   {
    "duration": 4,
    "start_time": "2022-06-10T08:35:43.636Z"
   },
   {
    "duration": 5,
    "start_time": "2022-06-10T08:35:44.476Z"
   },
   {
    "duration": 5,
    "start_time": "2022-06-10T08:35:44.895Z"
   },
   {
    "duration": 4,
    "start_time": "2022-06-10T08:35:45.333Z"
   },
   {
    "duration": 6,
    "start_time": "2022-06-10T08:35:45.744Z"
   },
   {
    "duration": 5,
    "start_time": "2022-06-10T08:35:46.020Z"
   },
   {
    "duration": 5,
    "start_time": "2022-06-10T08:35:46.338Z"
   },
   {
    "duration": 5,
    "start_time": "2022-06-10T08:35:46.592Z"
   },
   {
    "duration": 6,
    "start_time": "2022-06-10T08:35:46.829Z"
   },
   {
    "duration": 266,
    "start_time": "2022-06-10T08:35:47.071Z"
   },
   {
    "duration": 198,
    "start_time": "2022-06-10T08:35:47.883Z"
   },
   {
    "duration": 7,
    "start_time": "2022-06-10T08:35:49.796Z"
   },
   {
    "duration": 8,
    "start_time": "2022-06-10T08:35:50.401Z"
   },
   {
    "duration": 11,
    "start_time": "2022-06-10T08:35:50.771Z"
   },
   {
    "duration": 8,
    "start_time": "2022-06-10T08:35:51.224Z"
   },
   {
    "duration": 4,
    "start_time": "2022-06-10T08:35:52.844Z"
   },
   {
    "duration": 5,
    "start_time": "2022-06-10T08:35:53.276Z"
   },
   {
    "duration": 9,
    "start_time": "2022-06-10T08:35:54.387Z"
   },
   {
    "duration": 5,
    "start_time": "2022-06-10T08:35:55.000Z"
   },
   {
    "duration": 3,
    "start_time": "2022-06-10T08:35:55.695Z"
   },
   {
    "duration": 12,
    "start_time": "2022-06-10T08:35:56.401Z"
   },
   {
    "duration": 8,
    "start_time": "2022-06-10T08:35:57.191Z"
   },
   {
    "duration": 10,
    "start_time": "2022-06-10T08:36:01.880Z"
   },
   {
    "duration": 15,
    "start_time": "2022-06-10T08:36:14.242Z"
   },
   {
    "duration": 7,
    "start_time": "2022-06-10T08:36:14.855Z"
   },
   {
    "duration": 3,
    "start_time": "2022-06-10T08:36:25.409Z"
   },
   {
    "duration": 7,
    "start_time": "2022-06-10T08:36:26.011Z"
   },
   {
    "duration": 11,
    "start_time": "2022-06-10T08:36:26.722Z"
   },
   {
    "duration": 48,
    "start_time": "2022-06-10T08:38:07.079Z"
   },
   {
    "duration": 9,
    "start_time": "2022-06-10T08:38:07.741Z"
   },
   {
    "duration": 3,
    "start_time": "2022-06-10T08:38:43.902Z"
   },
   {
    "duration": 7,
    "start_time": "2022-06-10T08:41:45.853Z"
   },
   {
    "duration": 12,
    "start_time": "2022-06-10T08:42:02.396Z"
   },
   {
    "duration": 4,
    "start_time": "2022-06-10T08:43:19.196Z"
   },
   {
    "duration": 54,
    "start_time": "2022-06-10T08:58:03.192Z"
   },
   {
    "duration": 4,
    "start_time": "2022-06-10T08:58:06.199Z"
   },
   {
    "duration": 12,
    "start_time": "2022-06-10T08:58:06.888Z"
   },
   {
    "duration": 7,
    "start_time": "2022-06-10T08:58:08.480Z"
   },
   {
    "duration": 11,
    "start_time": "2022-06-10T08:58:09.101Z"
   },
   {
    "duration": 1142,
    "start_time": "2022-06-11T15:39:07.050Z"
   },
   {
    "duration": 282,
    "start_time": "2022-06-11T15:39:08.195Z"
   },
   {
    "duration": 325,
    "start_time": "2022-06-11T15:39:08.479Z"
   },
   {
    "duration": 304,
    "start_time": "2022-06-11T15:39:08.806Z"
   },
   {
    "duration": 57,
    "start_time": "2022-06-11T15:39:09.111Z"
   },
   {
    "duration": 53,
    "start_time": "2022-06-11T15:39:09.170Z"
   },
   {
    "duration": 13,
    "start_time": "2022-06-11T15:39:09.300Z"
   },
   {
    "duration": 24,
    "start_time": "2022-06-11T15:39:09.510Z"
   },
   {
    "duration": 9,
    "start_time": "2022-06-11T15:39:09.919Z"
   },
   {
    "duration": 20,
    "start_time": "2022-06-11T15:39:10.243Z"
   },
   {
    "duration": 8,
    "start_time": "2022-06-11T15:39:10.676Z"
   },
   {
    "duration": 19,
    "start_time": "2022-06-11T15:39:10.877Z"
   },
   {
    "duration": 7,
    "start_time": "2022-06-11T15:39:11.307Z"
   },
   {
    "duration": 10,
    "start_time": "2022-06-11T15:39:11.506Z"
   },
   {
    "duration": 11,
    "start_time": "2022-06-11T15:39:11.731Z"
   },
   {
    "duration": 10,
    "start_time": "2022-06-11T15:39:11.987Z"
   },
   {
    "duration": 4,
    "start_time": "2022-06-11T15:39:12.865Z"
   },
   {
    "duration": 33,
    "start_time": "2022-06-11T15:39:13.079Z"
   },
   {
    "duration": 25,
    "start_time": "2022-06-11T15:39:13.321Z"
   },
   {
    "duration": 20,
    "start_time": "2022-06-11T15:39:13.503Z"
   },
   {
    "duration": 22,
    "start_time": "2022-06-11T15:39:13.955Z"
   },
   {
    "duration": 17,
    "start_time": "2022-06-11T15:39:14.187Z"
   },
   {
    "duration": 14,
    "start_time": "2022-06-11T15:39:14.409Z"
   },
   {
    "duration": 7,
    "start_time": "2022-06-11T15:39:14.885Z"
   },
   {
    "duration": 101,
    "start_time": "2022-06-11T15:39:15.109Z"
   },
   {
    "duration": 79,
    "start_time": "2022-06-11T15:39:15.413Z"
   },
   {
    "duration": 41,
    "start_time": "2022-06-11T15:39:15.611Z"
   },
   {
    "duration": 7,
    "start_time": "2022-06-11T15:39:16.278Z"
   },
   {
    "duration": 7,
    "start_time": "2022-06-11T15:39:16.554Z"
   },
   {
    "duration": 22,
    "start_time": "2022-06-11T15:39:16.745Z"
   },
   {
    "duration": 20,
    "start_time": "2022-06-11T15:39:16.979Z"
   },
   {
    "duration": 21,
    "start_time": "2022-06-11T15:39:17.290Z"
   },
   {
    "duration": 18,
    "start_time": "2022-06-11T15:39:17.482Z"
   },
   {
    "duration": 75,
    "start_time": "2022-06-11T15:39:18.591Z"
   },
   {
    "duration": 5,
    "start_time": "2022-06-11T15:39:18.856Z"
   },
   {
    "duration": 4,
    "start_time": "2022-06-11T15:39:19.136Z"
   },
   {
    "duration": 15,
    "start_time": "2022-06-11T15:39:19.558Z"
   },
   {
    "duration": 20,
    "start_time": "2022-06-11T15:39:19.809Z"
   },
   {
    "duration": 27,
    "start_time": "2022-06-11T15:39:20.053Z"
   },
   {
    "duration": 5,
    "start_time": "2022-06-11T15:39:20.318Z"
   },
   {
    "duration": 5,
    "start_time": "2022-06-11T15:39:20.632Z"
   },
   {
    "duration": 8,
    "start_time": "2022-06-11T15:39:20.897Z"
   },
   {
    "duration": 12,
    "start_time": "2022-06-11T15:39:21.327Z"
   },
   {
    "duration": 4,
    "start_time": "2022-06-11T15:39:21.648Z"
   },
   {
    "duration": 11,
    "start_time": "2022-06-11T15:39:21.931Z"
   },
   {
    "duration": 15,
    "start_time": "2022-06-11T15:39:22.398Z"
   },
   {
    "duration": 5,
    "start_time": "2022-06-11T15:39:23.097Z"
   },
   {
    "duration": 4,
    "start_time": "2022-06-11T15:39:23.351Z"
   },
   {
    "duration": 4,
    "start_time": "2022-06-11T15:39:23.698Z"
   },
   {
    "duration": 9,
    "start_time": "2022-06-11T15:39:24.398Z"
   },
   {
    "duration": 15,
    "start_time": "2022-06-11T15:39:24.628Z"
   },
   {
    "duration": 3,
    "start_time": "2022-06-11T15:39:25.459Z"
   },
   {
    "duration": 17,
    "start_time": "2022-06-11T15:39:25.719Z"
   },
   {
    "duration": 9,
    "start_time": "2022-06-11T15:39:26.408Z"
   },
   {
    "duration": 12,
    "start_time": "2022-06-11T15:39:26.713Z"
   },
   {
    "duration": 9,
    "start_time": "2022-06-11T15:39:27.243Z"
   },
   {
    "duration": 17,
    "start_time": "2022-06-11T15:39:27.610Z"
   },
   {
    "duration": 5,
    "start_time": "2022-06-11T15:39:28.193Z"
   },
   {
    "duration": 11,
    "start_time": "2022-06-11T15:39:28.641Z"
   },
   {
    "duration": 2,
    "start_time": "2022-06-11T15:39:28.927Z"
   },
   {
    "duration": 69,
    "start_time": "2022-06-11T15:39:29.420Z"
   },
   {
    "duration": 4,
    "start_time": "2022-06-11T15:39:30.061Z"
   },
   {
    "duration": 4,
    "start_time": "2022-06-11T15:39:30.337Z"
   },
   {
    "duration": 3,
    "start_time": "2022-06-11T15:39:30.947Z"
   },
   {
    "duration": 6,
    "start_time": "2022-06-11T15:39:32.051Z"
   },
   {
    "duration": 14,
    "start_time": "2022-06-11T15:39:32.305Z"
   },
   {
    "duration": 5,
    "start_time": "2022-06-11T15:39:32.540Z"
   },
   {
    "duration": 14,
    "start_time": "2022-06-11T15:39:32.778Z"
   },
   {
    "duration": 4,
    "start_time": "2022-06-11T15:39:33.481Z"
   },
   {
    "duration": 4,
    "start_time": "2022-06-11T15:39:33.714Z"
   },
   {
    "duration": 4,
    "start_time": "2022-06-11T15:39:34.316Z"
   },
   {
    "duration": 5,
    "start_time": "2022-06-11T15:39:34.555Z"
   },
   {
    "duration": 4,
    "start_time": "2022-06-11T15:39:34.816Z"
   },
   {
    "duration": 4,
    "start_time": "2022-06-11T15:39:35.048Z"
   },
   {
    "duration": 5,
    "start_time": "2022-06-11T15:39:35.281Z"
   },
   {
    "duration": 4,
    "start_time": "2022-06-11T15:39:35.563Z"
   },
   {
    "duration": 200,
    "start_time": "2022-06-11T15:39:35.844Z"
   },
   {
    "duration": 167,
    "start_time": "2022-06-11T15:39:36.427Z"
   },
   {
    "duration": 5,
    "start_time": "2022-06-11T15:39:37.213Z"
   },
   {
    "duration": 4,
    "start_time": "2022-06-11T15:39:37.484Z"
   },
   {
    "duration": 4,
    "start_time": "2022-06-11T15:39:37.782Z"
   },
   {
    "duration": 4,
    "start_time": "2022-06-11T15:39:38.012Z"
   },
   {
    "duration": 5,
    "start_time": "2022-06-11T15:39:38.883Z"
   },
   {
    "duration": 4,
    "start_time": "2022-06-11T15:39:39.128Z"
   },
   {
    "duration": 5,
    "start_time": "2022-06-11T15:39:39.638Z"
   },
   {
    "duration": 5,
    "start_time": "2022-06-11T15:39:39.958Z"
   },
   {
    "duration": 4,
    "start_time": "2022-06-11T15:39:40.164Z"
   },
   {
    "duration": 4,
    "start_time": "2022-06-11T15:39:40.489Z"
   },
   {
    "duration": 4,
    "start_time": "2022-06-11T15:39:40.801Z"
   },
   {
    "duration": 5,
    "start_time": "2022-06-11T15:39:41.105Z"
   },
   {
    "duration": 175,
    "start_time": "2022-06-11T15:39:41.397Z"
   },
   {
    "duration": 119,
    "start_time": "2022-06-11T15:39:42.015Z"
   },
   {
    "duration": 12,
    "start_time": "2022-06-11T15:39:42.682Z"
   },
   {
    "duration": 4,
    "start_time": "2022-06-11T15:39:43.246Z"
   },
   {
    "duration": 4,
    "start_time": "2022-06-11T15:39:43.793Z"
   },
   {
    "duration": 183,
    "start_time": "2022-06-11T15:39:44.329Z"
   },
   {
    "duration": 5,
    "start_time": "2022-06-11T15:39:44.931Z"
   },
   {
    "duration": 4,
    "start_time": "2022-06-11T15:39:45.788Z"
   },
   {
    "duration": 5,
    "start_time": "2022-06-11T15:39:46.082Z"
   },
   {
    "duration": 4,
    "start_time": "2022-06-11T15:39:46.610Z"
   },
   {
    "duration": 5,
    "start_time": "2022-06-11T15:39:46.877Z"
   },
   {
    "duration": 5,
    "start_time": "2022-06-11T15:39:47.189Z"
   },
   {
    "duration": 5,
    "start_time": "2022-06-11T15:39:47.482Z"
   },
   {
    "duration": 5,
    "start_time": "2022-06-11T15:39:47.758Z"
   },
   {
    "duration": 5,
    "start_time": "2022-06-11T15:39:48.030Z"
   },
   {
    "duration": 163,
    "start_time": "2022-06-11T15:39:48.309Z"
   },
   {
    "duration": 174,
    "start_time": "2022-06-11T15:39:48.851Z"
   },
   {
    "duration": 6,
    "start_time": "2022-06-11T15:39:50.634Z"
   },
   {
    "duration": 7,
    "start_time": "2022-06-11T15:39:50.993Z"
   },
   {
    "duration": 6,
    "start_time": "2022-06-11T15:39:51.276Z"
   },
   {
    "duration": 7,
    "start_time": "2022-06-11T15:39:51.536Z"
   },
   {
    "duration": 6,
    "start_time": "2022-06-11T15:39:52.525Z"
   },
   {
    "duration": 4,
    "start_time": "2022-06-11T15:39:52.798Z"
   },
   {
    "duration": 6,
    "start_time": "2022-06-11T15:39:53.284Z"
   },
   {
    "duration": 68,
    "start_time": "2022-06-11T15:39:53.532Z"
   },
   {
    "duration": 3,
    "start_time": "2022-06-11T15:39:53.793Z"
   },
   {
    "duration": 5,
    "start_time": "2022-06-11T15:39:54.060Z"
   },
   {
    "duration": 7,
    "start_time": "2022-06-11T15:39:54.556Z"
   },
   {
    "duration": 10,
    "start_time": "2022-06-11T15:39:55.021Z"
   },
   {
    "duration": 98,
    "start_time": "2022-06-11T15:39:55.606Z"
   },
   {
    "duration": 9,
    "start_time": "2022-06-11T15:40:33.977Z"
   },
   {
    "duration": 13,
    "start_time": "2022-06-11T15:41:15.995Z"
   },
   {
    "duration": 6,
    "start_time": "2022-06-11T15:41:48.528Z"
   },
   {
    "duration": 8,
    "start_time": "2022-06-11T15:41:48.855Z"
   },
   {
    "duration": 12,
    "start_time": "2022-06-11T15:41:54.237Z"
   },
   {
    "duration": 8,
    "start_time": "2022-06-11T15:43:43.385Z"
   },
   {
    "duration": 4,
    "start_time": "2022-06-11T15:43:48.205Z"
   },
   {
    "duration": 8,
    "start_time": "2022-06-11T15:43:48.687Z"
   },
   {
    "duration": 7,
    "start_time": "2022-06-11T15:44:11.528Z"
   },
   {
    "duration": 12,
    "start_time": "2022-06-11T15:44:12.535Z"
   },
   {
    "duration": 6,
    "start_time": "2022-06-11T15:44:40.683Z"
   },
   {
    "duration": 12,
    "start_time": "2022-06-11T15:44:41.088Z"
   },
   {
    "duration": 3,
    "start_time": "2022-06-11T15:45:46.338Z"
   },
   {
    "duration": 167,
    "start_time": "2022-06-11T15:45:46.679Z"
   },
   {
    "duration": 127,
    "start_time": "2022-06-11T15:45:46.986Z"
   },
   {
    "duration": 107,
    "start_time": "2022-06-11T15:45:47.327Z"
   },
   {
    "duration": 18,
    "start_time": "2022-06-11T15:45:47.656Z"
   },
   {
    "duration": 38,
    "start_time": "2022-06-11T15:45:47.979Z"
   },
   {
    "duration": 8,
    "start_time": "2022-06-11T15:45:48.284Z"
   },
   {
    "duration": 33,
    "start_time": "2022-06-11T15:45:48.837Z"
   },
   {
    "duration": 11,
    "start_time": "2022-06-11T15:45:50.279Z"
   },
   {
    "duration": 20,
    "start_time": "2022-06-11T15:45:50.719Z"
   },
   {
    "duration": 10,
    "start_time": "2022-06-11T15:45:51.321Z"
   },
   {
    "duration": 19,
    "start_time": "2022-06-11T15:45:52.524Z"
   },
   {
    "duration": 7,
    "start_time": "2022-06-11T15:45:53.142Z"
   },
   {
    "duration": 10,
    "start_time": "2022-06-11T15:45:53.936Z"
   },
   {
    "duration": 10,
    "start_time": "2022-06-11T15:45:54.330Z"
   },
   {
    "duration": 11,
    "start_time": "2022-06-11T15:45:54.776Z"
   },
   {
    "duration": 4,
    "start_time": "2022-06-11T15:45:56.336Z"
   },
   {
    "duration": 41,
    "start_time": "2022-06-11T15:45:56.646Z"
   },
   {
    "duration": 25,
    "start_time": "2022-06-11T15:45:57.572Z"
   },
   {
    "duration": 21,
    "start_time": "2022-06-11T15:45:57.898Z"
   },
   {
    "duration": 28,
    "start_time": "2022-06-11T15:45:58.643Z"
   },
   {
    "duration": 19,
    "start_time": "2022-06-11T15:45:58.951Z"
   },
   {
    "duration": 18,
    "start_time": "2022-06-11T15:45:59.257Z"
   },
   {
    "duration": 8,
    "start_time": "2022-06-11T15:46:00.584Z"
   },
   {
    "duration": 102,
    "start_time": "2022-06-11T15:46:00.948Z"
   },
   {
    "duration": 64,
    "start_time": "2022-06-11T15:46:01.326Z"
   },
   {
    "duration": 53,
    "start_time": "2022-06-11T15:46:01.720Z"
   },
   {
    "duration": 7,
    "start_time": "2022-06-11T15:46:02.844Z"
   },
   {
    "duration": 7,
    "start_time": "2022-06-11T15:46:03.225Z"
   },
   {
    "duration": 20,
    "start_time": "2022-06-11T15:46:03.601Z"
   },
   {
    "duration": 20,
    "start_time": "2022-06-11T15:46:04.519Z"
   },
   {
    "duration": 25,
    "start_time": "2022-06-11T15:46:04.895Z"
   },
   {
    "duration": 24,
    "start_time": "2022-06-11T15:46:05.281Z"
   },
   {
    "duration": 71,
    "start_time": "2022-06-11T15:46:07.481Z"
   },
   {
    "duration": 7,
    "start_time": "2022-06-11T15:46:07.884Z"
   },
   {
    "duration": 4,
    "start_time": "2022-06-11T15:46:08.479Z"
   },
   {
    "duration": 14,
    "start_time": "2022-06-11T15:46:10.202Z"
   },
   {
    "duration": 16,
    "start_time": "2022-06-11T15:46:10.514Z"
   },
   {
    "duration": 17,
    "start_time": "2022-06-11T15:46:10.822Z"
   },
   {
    "duration": 5,
    "start_time": "2022-06-11T15:46:12.282Z"
   },
   {
    "duration": 6,
    "start_time": "2022-06-11T15:46:13.036Z"
   },
   {
    "duration": 19,
    "start_time": "2022-06-11T15:46:13.355Z"
   },
   {
    "duration": 14,
    "start_time": "2022-06-11T15:46:13.685Z"
   },
   {
    "duration": 3,
    "start_time": "2022-06-11T15:46:14.548Z"
   },
   {
    "duration": 12,
    "start_time": "2022-06-11T15:46:14.866Z"
   },
   {
    "duration": 13,
    "start_time": "2022-06-11T15:46:15.284Z"
   },
   {
    "duration": 5,
    "start_time": "2022-06-11T15:46:16.381Z"
   },
   {
    "duration": 5,
    "start_time": "2022-06-11T15:46:17.285Z"
   },
   {
    "duration": 5,
    "start_time": "2022-06-11T15:46:17.894Z"
   },
   {
    "duration": 8,
    "start_time": "2022-06-11T15:46:18.985Z"
   },
   {
    "duration": 14,
    "start_time": "2022-06-11T15:46:19.504Z"
   },
   {
    "duration": 4,
    "start_time": "2022-06-11T15:46:20.794Z"
   },
   {
    "duration": 15,
    "start_time": "2022-06-11T15:46:21.235Z"
   },
   {
    "duration": 8,
    "start_time": "2022-06-11T15:46:21.881Z"
   },
   {
    "duration": 13,
    "start_time": "2022-06-11T15:46:22.200Z"
   },
   {
    "duration": 11,
    "start_time": "2022-06-11T15:46:23.759Z"
   },
   {
    "duration": 18,
    "start_time": "2022-06-11T15:46:24.607Z"
   },
   {
    "duration": 4,
    "start_time": "2022-06-11T15:46:25.754Z"
   },
   {
    "duration": 10,
    "start_time": "2022-06-11T15:46:26.432Z"
   },
   {
    "duration": 2,
    "start_time": "2022-06-11T15:46:26.988Z"
   },
   {
    "duration": 74,
    "start_time": "2022-06-11T15:46:27.911Z"
   },
   {
    "duration": 4,
    "start_time": "2022-06-11T15:46:28.925Z"
   },
   {
    "duration": 3,
    "start_time": "2022-06-11T15:46:29.248Z"
   },
   {
    "duration": 4,
    "start_time": "2022-06-11T15:46:30.108Z"
   },
   {
    "duration": 8,
    "start_time": "2022-06-11T15:46:31.904Z"
   },
   {
    "duration": 20,
    "start_time": "2022-06-11T15:46:32.279Z"
   },
   {
    "duration": 6,
    "start_time": "2022-06-11T15:46:32.747Z"
   },
   {
    "duration": 18,
    "start_time": "2022-06-11T15:46:33.257Z"
   },
   {
    "duration": 5,
    "start_time": "2022-06-11T15:46:34.032Z"
   },
   {
    "duration": 6,
    "start_time": "2022-06-11T15:46:34.380Z"
   },
   {
    "duration": 5,
    "start_time": "2022-06-11T15:46:35.984Z"
   },
   {
    "duration": 4,
    "start_time": "2022-06-11T15:46:36.495Z"
   },
   {
    "duration": 4,
    "start_time": "2022-06-11T15:46:36.839Z"
   },
   {
    "duration": 5,
    "start_time": "2022-06-11T15:46:37.184Z"
   },
   {
    "duration": 4,
    "start_time": "2022-06-11T15:46:37.539Z"
   },
   {
    "duration": 4,
    "start_time": "2022-06-11T15:46:37.987Z"
   },
   {
    "duration": 179,
    "start_time": "2022-06-11T15:46:38.710Z"
   },
   {
    "duration": 179,
    "start_time": "2022-06-11T15:46:39.497Z"
   },
   {
    "duration": 4,
    "start_time": "2022-06-11T15:46:40.604Z"
   },
   {
    "duration": 4,
    "start_time": "2022-06-11T15:46:40.946Z"
   },
   {
    "duration": 4,
    "start_time": "2022-06-11T15:46:41.319Z"
   },
   {
    "duration": 4,
    "start_time": "2022-06-11T15:46:41.819Z"
   },
   {
    "duration": 4,
    "start_time": "2022-06-11T15:46:42.879Z"
   },
   {
    "duration": 4,
    "start_time": "2022-06-11T15:46:43.224Z"
   },
   {
    "duration": 5,
    "start_time": "2022-06-11T15:46:43.855Z"
   },
   {
    "duration": 5,
    "start_time": "2022-06-11T15:46:44.201Z"
   },
   {
    "duration": 4,
    "start_time": "2022-06-11T15:46:44.555Z"
   },
   {
    "duration": 5,
    "start_time": "2022-06-11T15:46:45.445Z"
   },
   {
    "duration": 5,
    "start_time": "2022-06-11T15:46:45.793Z"
   },
   {
    "duration": 5,
    "start_time": "2022-06-11T15:46:46.128Z"
   },
   {
    "duration": 232,
    "start_time": "2022-06-11T15:46:46.976Z"
   },
   {
    "duration": 214,
    "start_time": "2022-06-11T15:46:47.855Z"
   },
   {
    "duration": 13,
    "start_time": "2022-06-11T15:46:48.889Z"
   },
   {
    "duration": 4,
    "start_time": "2022-06-11T15:46:49.834Z"
   },
   {
    "duration": 4,
    "start_time": "2022-06-11T15:46:50.687Z"
   },
   {
    "duration": 206,
    "start_time": "2022-06-11T15:46:51.479Z"
   },
   {
    "duration": 4,
    "start_time": "2022-06-11T15:46:52.276Z"
   },
   {
    "duration": 9,
    "start_time": "2022-06-11T15:46:53.460Z"
   },
   {
    "duration": 6,
    "start_time": "2022-06-11T15:46:53.920Z"
   },
   {
    "duration": 5,
    "start_time": "2022-06-11T15:46:54.688Z"
   },
   {
    "duration": 5,
    "start_time": "2022-06-11T15:46:55.075Z"
   },
   {
    "duration": 5,
    "start_time": "2022-06-11T15:46:55.507Z"
   },
   {
    "duration": 6,
    "start_time": "2022-06-11T15:46:55.880Z"
   },
   {
    "duration": 5,
    "start_time": "2022-06-11T15:46:56.231Z"
   },
   {
    "duration": 5,
    "start_time": "2022-06-11T15:46:56.624Z"
   },
   {
    "duration": 209,
    "start_time": "2022-06-11T15:46:56.980Z"
   },
   {
    "duration": 184,
    "start_time": "2022-06-11T15:46:57.896Z"
   },
   {
    "duration": 6,
    "start_time": "2022-06-11T15:46:59.612Z"
   },
   {
    "duration": 10,
    "start_time": "2022-06-11T15:46:59.932Z"
   },
   {
    "duration": 5,
    "start_time": "2022-06-11T15:47:01.037Z"
   },
   {
    "duration": 10,
    "start_time": "2022-06-11T15:47:01.354Z"
   },
   {
    "duration": 4,
    "start_time": "2022-06-11T15:47:04.696Z"
   },
   {
    "duration": 5,
    "start_time": "2022-06-11T15:47:05.286Z"
   },
   {
    "duration": 6,
    "start_time": "2022-06-11T15:47:06.122Z"
   },
   {
    "duration": 72,
    "start_time": "2022-06-11T15:47:06.482Z"
   },
   {
    "duration": 10,
    "start_time": "2022-06-11T15:47:06.967Z"
   },
   {
    "duration": 5,
    "start_time": "2022-06-11T15:47:07.928Z"
   },
   {
    "duration": 17,
    "start_time": "2022-06-11T15:47:08.770Z"
   },
   {
    "duration": 9,
    "start_time": "2022-06-11T15:47:09.878Z"
   },
   {
    "duration": 29,
    "start_time": "2022-06-11T15:47:10.981Z"
   },
   {
    "duration": 9,
    "start_time": "2022-06-11T15:49:33.557Z"
   },
   {
    "duration": 22,
    "start_time": "2022-06-11T15:49:48.334Z"
   },
   {
    "duration": 7,
    "start_time": "2022-06-11T15:52:02.885Z"
   },
   {
    "duration": 19,
    "start_time": "2022-06-11T15:52:14.396Z"
   },
   {
    "duration": 6,
    "start_time": "2022-06-11T15:58:32.929Z"
   },
   {
    "duration": 5,
    "start_time": "2022-06-11T15:58:57.723Z"
   },
   {
    "duration": 20,
    "start_time": "2022-06-11T15:58:58.395Z"
   },
   {
    "duration": 6,
    "start_time": "2022-06-11T15:59:10.696Z"
   },
   {
    "duration": 19,
    "start_time": "2022-06-11T15:59:29.230Z"
   },
   {
    "duration": 1345,
    "start_time": "2022-06-11T17:35:33.921Z"
   },
   {
    "duration": 390,
    "start_time": "2022-06-11T17:35:35.270Z"
   },
   {
    "duration": 397,
    "start_time": "2022-06-11T17:35:35.662Z"
   },
   {
    "duration": 390,
    "start_time": "2022-06-11T17:35:36.062Z"
   },
   {
    "duration": 95,
    "start_time": "2022-06-11T17:35:36.454Z"
   },
   {
    "duration": 76,
    "start_time": "2022-06-11T17:35:36.581Z"
   },
   {
    "duration": 23,
    "start_time": "2022-06-11T17:35:36.908Z"
   },
   {
    "duration": 43,
    "start_time": "2022-06-11T17:35:37.292Z"
   },
   {
    "duration": 10,
    "start_time": "2022-06-11T17:35:37.842Z"
   },
   {
    "duration": 27,
    "start_time": "2022-06-11T17:35:38.123Z"
   },
   {
    "duration": 10,
    "start_time": "2022-06-11T17:35:38.664Z"
   },
   {
    "duration": 33,
    "start_time": "2022-06-11T17:35:39.061Z"
   },
   {
    "duration": 12,
    "start_time": "2022-06-11T17:35:39.620Z"
   },
   {
    "duration": 14,
    "start_time": "2022-06-11T17:35:39.917Z"
   },
   {
    "duration": 11,
    "start_time": "2022-06-11T17:35:40.262Z"
   },
   {
    "duration": 15,
    "start_time": "2022-06-11T17:35:40.574Z"
   },
   {
    "duration": 6,
    "start_time": "2022-06-11T17:35:41.674Z"
   },
   {
    "duration": 50,
    "start_time": "2022-06-11T17:35:41.982Z"
   },
   {
    "duration": 50,
    "start_time": "2022-06-11T17:35:42.282Z"
   },
   {
    "duration": 22,
    "start_time": "2022-06-11T17:35:42.553Z"
   },
   {
    "duration": 25,
    "start_time": "2022-06-11T17:35:43.075Z"
   },
   {
    "duration": 18,
    "start_time": "2022-06-11T17:35:43.337Z"
   },
   {
    "duration": 17,
    "start_time": "2022-06-11T17:35:43.615Z"
   },
   {
    "duration": 9,
    "start_time": "2022-06-11T17:35:44.266Z"
   },
   {
    "duration": 155,
    "start_time": "2022-06-11T17:35:44.616Z"
   },
   {
    "duration": 128,
    "start_time": "2022-06-11T17:35:44.981Z"
   },
   {
    "duration": 84,
    "start_time": "2022-06-11T17:35:45.318Z"
   },
   {
    "duration": 8,
    "start_time": "2022-06-11T17:35:45.859Z"
   },
   {
    "duration": 12,
    "start_time": "2022-06-11T17:35:46.063Z"
   },
   {
    "duration": 34,
    "start_time": "2022-06-11T17:35:46.317Z"
   },
   {
    "duration": 21,
    "start_time": "2022-06-11T17:35:46.755Z"
   },
   {
    "duration": 31,
    "start_time": "2022-06-11T17:35:47.123Z"
   },
   {
    "duration": 27,
    "start_time": "2022-06-11T17:35:47.449Z"
   },
   {
    "duration": 86,
    "start_time": "2022-06-11T17:35:48.595Z"
   },
   {
    "duration": 8,
    "start_time": "2022-06-11T17:35:48.881Z"
   },
   {
    "duration": 6,
    "start_time": "2022-06-11T17:35:49.146Z"
   },
   {
    "duration": 29,
    "start_time": "2022-06-11T17:35:49.687Z"
   },
   {
    "duration": 27,
    "start_time": "2022-06-11T17:35:49.952Z"
   },
   {
    "duration": 46,
    "start_time": "2022-06-11T17:35:50.290Z"
   },
   {
    "duration": 7,
    "start_time": "2022-06-11T17:36:56.462Z"
   },
   {
    "duration": 6,
    "start_time": "2022-06-11T17:36:56.957Z"
   },
   {
    "duration": 8,
    "start_time": "2022-06-11T17:36:57.222Z"
   },
   {
    "duration": 13,
    "start_time": "2022-06-11T17:36:57.454Z"
   },
   {
    "duration": 4,
    "start_time": "2022-06-11T17:36:57.713Z"
   },
   {
    "duration": 19,
    "start_time": "2022-06-11T17:36:58.040Z"
   },
   {
    "duration": 24,
    "start_time": "2022-06-11T17:36:58.255Z"
   },
   {
    "duration": 6,
    "start_time": "2022-06-11T17:36:58.646Z"
   },
   {
    "duration": 5,
    "start_time": "2022-06-11T17:36:58.930Z"
   },
   {
    "duration": 7,
    "start_time": "2022-06-11T17:36:59.116Z"
   },
   {
    "duration": 12,
    "start_time": "2022-06-11T17:36:59.620Z"
   },
   {
    "duration": 21,
    "start_time": "2022-06-11T17:36:59.851Z"
   },
   {
    "duration": 4,
    "start_time": "2022-06-11T17:37:00.349Z"
   },
   {
    "duration": 17,
    "start_time": "2022-06-11T17:37:00.527Z"
   },
   {
    "duration": 11,
    "start_time": "2022-06-11T17:37:01.014Z"
   },
   {
    "duration": 13,
    "start_time": "2022-06-11T17:37:01.192Z"
   },
   {
    "duration": 10,
    "start_time": "2022-06-11T17:37:01.635Z"
   },
   {
    "duration": 28,
    "start_time": "2022-06-11T17:37:01.831Z"
   },
   {
    "duration": 16,
    "start_time": "2022-06-11T17:37:02.262Z"
   },
   {
    "duration": 13,
    "start_time": "2022-06-11T17:37:02.644Z"
   },
   {
    "duration": 3,
    "start_time": "2022-06-11T17:37:02.926Z"
   },
   {
    "duration": 109,
    "start_time": "2022-06-11T17:37:03.282Z"
   },
   {
    "duration": 4,
    "start_time": "2022-06-11T17:37:04.155Z"
   },
   {
    "duration": 4,
    "start_time": "2022-06-11T17:37:04.548Z"
   },
   {
    "duration": 4,
    "start_time": "2022-06-11T17:37:05.088Z"
   },
   {
    "duration": 6,
    "start_time": "2022-06-11T17:37:06.217Z"
   },
   {
    "duration": 15,
    "start_time": "2022-06-11T17:37:06.478Z"
   },
   {
    "duration": 9,
    "start_time": "2022-06-11T17:37:06.716Z"
   },
   {
    "duration": 21,
    "start_time": "2022-06-11T17:37:07.001Z"
   },
   {
    "duration": 6,
    "start_time": "2022-06-11T17:37:07.517Z"
   },
   {
    "duration": 5,
    "start_time": "2022-06-11T17:37:07.811Z"
   },
   {
    "duration": 14,
    "start_time": "2022-06-11T17:37:08.327Z"
   },
   {
    "duration": 14,
    "start_time": "2022-06-11T17:37:08.600Z"
   },
   {
    "duration": 6,
    "start_time": "2022-06-11T17:37:08.835Z"
   },
   {
    "duration": 6,
    "start_time": "2022-06-11T17:37:09.134Z"
   },
   {
    "duration": 12,
    "start_time": "2022-06-11T17:37:09.392Z"
   },
   {
    "duration": 5,
    "start_time": "2022-06-11T17:37:09.621Z"
   },
   {
    "duration": 266,
    "start_time": "2022-06-11T17:37:09.883Z"
   },
   {
    "duration": 213,
    "start_time": "2022-06-11T17:37:10.417Z"
   },
   {
    "duration": 5,
    "start_time": "2022-06-11T17:37:32.571Z"
   },
   {
    "duration": 5,
    "start_time": "2022-06-11T17:37:33.150Z"
   },
   {
    "duration": 5,
    "start_time": "2022-06-11T17:37:33.584Z"
   },
   {
    "duration": 5,
    "start_time": "2022-06-11T17:37:33.890Z"
   },
   {
    "duration": 5,
    "start_time": "2022-06-11T17:37:34.742Z"
   },
   {
    "duration": 6,
    "start_time": "2022-06-11T17:37:35.040Z"
   },
   {
    "duration": 5,
    "start_time": "2022-06-11T17:37:35.615Z"
   },
   {
    "duration": 6,
    "start_time": "2022-06-11T17:37:35.950Z"
   },
   {
    "duration": 7,
    "start_time": "2022-06-11T17:37:36.250Z"
   },
   {
    "duration": 5,
    "start_time": "2022-06-11T17:37:36.568Z"
   },
   {
    "duration": 6,
    "start_time": "2022-06-11T17:37:36.866Z"
   },
   {
    "duration": 7,
    "start_time": "2022-06-11T17:37:37.169Z"
   },
   {
    "duration": 216,
    "start_time": "2022-06-11T17:37:37.474Z"
   },
   {
    "duration": 171,
    "start_time": "2022-06-11T17:37:38.043Z"
   },
   {
    "duration": 19,
    "start_time": "2022-06-11T17:37:38.660Z"
   },
   {
    "duration": 5,
    "start_time": "2022-06-11T17:37:39.338Z"
   },
   {
    "duration": 7,
    "start_time": "2022-06-11T17:37:39.916Z"
   },
   {
    "duration": 264,
    "start_time": "2022-06-11T17:37:40.471Z"
   },
   {
    "duration": 6,
    "start_time": "2022-06-11T17:37:41.077Z"
   },
   {
    "duration": 5,
    "start_time": "2022-06-11T17:37:41.973Z"
   },
   {
    "duration": 6,
    "start_time": "2022-06-11T17:37:42.278Z"
   },
   {
    "duration": 6,
    "start_time": "2022-06-11T17:37:42.824Z"
   },
   {
    "duration": 7,
    "start_time": "2022-06-11T17:37:43.217Z"
   },
   {
    "duration": 7,
    "start_time": "2022-06-11T17:37:43.573Z"
   },
   {
    "duration": 7,
    "start_time": "2022-06-11T17:37:44.113Z"
   },
   {
    "duration": 6,
    "start_time": "2022-06-11T17:37:44.728Z"
   },
   {
    "duration": 5,
    "start_time": "2022-06-11T17:37:45.318Z"
   },
   {
    "duration": 216,
    "start_time": "2022-06-11T17:37:45.861Z"
   },
   {
    "duration": 294,
    "start_time": "2022-06-11T17:37:47.115Z"
   },
   {
    "duration": 9,
    "start_time": "2022-06-11T17:37:49.183Z"
   },
   {
    "duration": 7,
    "start_time": "2022-06-11T17:37:49.636Z"
   },
   {
    "duration": 7,
    "start_time": "2022-06-11T17:37:50.124Z"
   },
   {
    "duration": 10,
    "start_time": "2022-06-11T17:37:50.555Z"
   },
   {
    "duration": 6,
    "start_time": "2022-06-11T17:37:52.513Z"
   },
   {
    "duration": 5,
    "start_time": "2022-06-11T17:37:53.038Z"
   },
   {
    "duration": 6,
    "start_time": "2022-06-11T17:37:54.671Z"
   },
   {
    "duration": 62,
    "start_time": "2022-06-11T17:37:55.053Z"
   },
   {
    "duration": 12,
    "start_time": "2022-06-11T17:37:55.492Z"
   },
   {
    "duration": 10,
    "start_time": "2022-06-11T17:37:56.017Z"
   },
   {
    "duration": 32,
    "start_time": "2022-06-11T17:37:56.574Z"
   },
   {
    "duration": 8,
    "start_time": "2022-06-11T17:37:57.809Z"
   },
   {
    "duration": 25,
    "start_time": "2022-06-11T17:37:59.050Z"
   },
   {
    "duration": 7,
    "start_time": "2022-06-11T17:37:59.771Z"
   },
   {
    "duration": 19,
    "start_time": "2022-06-11T17:38:00.560Z"
   },
   {
    "duration": 9,
    "start_time": "2022-06-11T17:47:52.029Z"
   },
   {
    "duration": 11,
    "start_time": "2022-06-11T17:48:13.476Z"
   },
   {
    "duration": 4,
    "start_time": "2022-06-11T17:49:39.545Z"
   },
   {
    "duration": 4,
    "start_time": "2022-06-11T17:49:41.880Z"
   },
   {
    "duration": 227,
    "start_time": "2022-06-11T17:58:02.446Z"
   },
   {
    "duration": 6,
    "start_time": "2022-06-11T18:06:56.338Z"
   },
   {
    "duration": 210,
    "start_time": "2022-06-11T18:11:20.919Z"
   },
   {
    "duration": 194,
    "start_time": "2022-06-11T18:22:13.860Z"
   },
   {
    "duration": 266,
    "start_time": "2022-06-11T18:22:24.983Z"
   },
   {
    "duration": 225,
    "start_time": "2022-06-11T18:23:03.637Z"
   },
   {
    "duration": 237,
    "start_time": "2022-06-11T18:23:19.959Z"
   },
   {
    "duration": 204,
    "start_time": "2022-06-11T19:09:57.113Z"
   },
   {
    "duration": 328,
    "start_time": "2022-06-11T19:10:35.046Z"
   },
   {
    "duration": 209,
    "start_time": "2022-06-11T19:11:07.091Z"
   },
   {
    "duration": 165,
    "start_time": "2022-06-11T19:17:46.982Z"
   },
   {
    "duration": 160,
    "start_time": "2022-06-11T19:34:17.236Z"
   },
   {
    "duration": 10,
    "start_time": "2022-06-11T19:36:13.755Z"
   },
   {
    "duration": 176,
    "start_time": "2022-06-11T19:36:19.221Z"
   },
   {
    "duration": 9,
    "start_time": "2022-06-11T19:39:25.824Z"
   },
   {
    "duration": 1115,
    "start_time": "2022-06-12T00:55:36.754Z"
   },
   {
    "duration": 288,
    "start_time": "2022-06-12T00:55:37.871Z"
   },
   {
    "duration": 288,
    "start_time": "2022-06-12T00:55:38.234Z"
   },
   {
    "duration": 295,
    "start_time": "2022-06-12T00:55:38.811Z"
   },
   {
    "duration": 65,
    "start_time": "2022-06-12T00:55:39.108Z"
   },
   {
    "duration": 54,
    "start_time": "2022-06-12T00:55:40.046Z"
   },
   {
    "duration": 16,
    "start_time": "2022-06-12T00:55:40.396Z"
   },
   {
    "duration": 25,
    "start_time": "2022-06-12T00:55:40.788Z"
   },
   {
    "duration": 10,
    "start_time": "2022-06-12T00:55:41.315Z"
   },
   {
    "duration": 19,
    "start_time": "2022-06-12T00:55:41.542Z"
   },
   {
    "duration": 11,
    "start_time": "2022-06-12T00:55:42.118Z"
   },
   {
    "duration": 18,
    "start_time": "2022-06-12T00:55:42.343Z"
   },
   {
    "duration": 8,
    "start_time": "2022-06-12T00:55:42.991Z"
   },
   {
    "duration": 11,
    "start_time": "2022-06-12T00:55:43.322Z"
   },
   {
    "duration": 11,
    "start_time": "2022-06-12T00:55:43.529Z"
   },
   {
    "duration": 13,
    "start_time": "2022-06-12T00:55:43.747Z"
   },
   {
    "duration": 4,
    "start_time": "2022-06-12T00:55:44.891Z"
   },
   {
    "duration": 34,
    "start_time": "2022-06-12T00:55:45.135Z"
   },
   {
    "duration": 32,
    "start_time": "2022-06-12T00:55:45.417Z"
   },
   {
    "duration": 29,
    "start_time": "2022-06-12T00:55:45.706Z"
   },
   {
    "duration": 20,
    "start_time": "2022-06-12T00:55:46.225Z"
   },
   {
    "duration": 17,
    "start_time": "2022-06-12T00:55:46.525Z"
   },
   {
    "duration": 14,
    "start_time": "2022-06-12T00:55:46.826Z"
   },
   {
    "duration": 7,
    "start_time": "2022-06-12T00:55:47.388Z"
   },
   {
    "duration": 101,
    "start_time": "2022-06-12T00:55:47.713Z"
   },
   {
    "duration": 70,
    "start_time": "2022-06-12T00:55:48.030Z"
   },
   {
    "duration": 48,
    "start_time": "2022-06-12T00:55:48.391Z"
   },
   {
    "duration": 12,
    "start_time": "2022-06-12T00:55:48.963Z"
   },
   {
    "duration": 6,
    "start_time": "2022-06-12T00:55:49.270Z"
   },
   {
    "duration": 17,
    "start_time": "2022-06-12T00:55:49.487Z"
   },
   {
    "duration": 25,
    "start_time": "2022-06-12T00:55:49.746Z"
   },
   {
    "duration": 17,
    "start_time": "2022-06-12T00:55:49.994Z"
   },
   {
    "duration": 16,
    "start_time": "2022-06-12T00:55:50.290Z"
   },
   {
    "duration": 46,
    "start_time": "2022-06-12T00:55:51.296Z"
   },
   {
    "duration": 5,
    "start_time": "2022-06-12T00:55:51.582Z"
   },
   {
    "duration": 4,
    "start_time": "2022-06-12T00:55:51.903Z"
   },
   {
    "duration": 15,
    "start_time": "2022-06-12T00:55:52.428Z"
   },
   {
    "duration": 18,
    "start_time": "2022-06-12T00:55:52.736Z"
   },
   {
    "duration": 23,
    "start_time": "2022-06-12T00:55:53.016Z"
   },
   {
    "duration": 4,
    "start_time": "2022-06-12T00:55:53.323Z"
   },
   {
    "duration": 4,
    "start_time": "2022-06-12T00:55:53.617Z"
   },
   {
    "duration": 8,
    "start_time": "2022-06-12T00:55:53.963Z"
   },
   {
    "duration": 12,
    "start_time": "2022-06-12T00:55:54.276Z"
   },
   {
    "duration": 4,
    "start_time": "2022-06-12T00:55:54.701Z"
   },
   {
    "duration": 15,
    "start_time": "2022-06-12T00:55:55.117Z"
   },
   {
    "duration": 21,
    "start_time": "2022-06-12T00:55:55.484Z"
   },
   {
    "duration": 6,
    "start_time": "2022-06-12T00:55:56.527Z"
   },
   {
    "duration": 5,
    "start_time": "2022-06-12T00:55:56.959Z"
   },
   {
    "duration": 4,
    "start_time": "2022-06-12T00:55:57.663Z"
   },
   {
    "duration": 8,
    "start_time": "2022-06-12T00:55:58.404Z"
   },
   {
    "duration": 16,
    "start_time": "2022-06-12T00:55:59.578Z"
   },
   {
    "duration": 4,
    "start_time": "2022-06-12T00:56:01.011Z"
   },
   {
    "duration": 15,
    "start_time": "2022-06-12T00:56:01.655Z"
   },
   {
    "duration": 9,
    "start_time": "2022-06-12T00:56:03.176Z"
   },
   {
    "duration": 11,
    "start_time": "2022-06-12T00:56:03.878Z"
   },
   {
    "duration": 9,
    "start_time": "2022-06-12T00:56:06.747Z"
   },
   {
    "duration": 25,
    "start_time": "2022-06-12T00:56:07.480Z"
   },
   {
    "duration": 5,
    "start_time": "2022-06-12T00:56:08.373Z"
   },
   {
    "duration": 15,
    "start_time": "2022-06-12T00:56:08.642Z"
   },
   {
    "duration": 3,
    "start_time": "2022-06-12T00:56:08.962Z"
   },
   {
    "duration": 78,
    "start_time": "2022-06-12T00:56:09.495Z"
   },
   {
    "duration": 3,
    "start_time": "2022-06-12T00:56:10.203Z"
   },
   {
    "duration": 4,
    "start_time": "2022-06-12T00:56:10.577Z"
   },
   {
    "duration": 4,
    "start_time": "2022-06-12T00:56:11.156Z"
   },
   {
    "duration": 8,
    "start_time": "2022-06-12T00:56:12.590Z"
   },
   {
    "duration": 12,
    "start_time": "2022-06-12T00:56:12.892Z"
   },
   {
    "duration": 6,
    "start_time": "2022-06-12T00:56:13.244Z"
   },
   {
    "duration": 13,
    "start_time": "2022-06-12T00:56:13.554Z"
   },
   {
    "duration": 6,
    "start_time": "2022-06-12T00:56:14.160Z"
   },
   {
    "duration": 5,
    "start_time": "2022-06-12T00:56:14.448Z"
   },
   {
    "duration": 6,
    "start_time": "2022-06-12T00:56:14.939Z"
   },
   {
    "duration": 7,
    "start_time": "2022-06-12T00:56:15.241Z"
   },
   {
    "duration": 5,
    "start_time": "2022-06-12T00:56:15.701Z"
   },
   {
    "duration": 4,
    "start_time": "2022-06-12T00:56:16.001Z"
   },
   {
    "duration": 5,
    "start_time": "2022-06-12T00:56:16.311Z"
   },
   {
    "duration": 5,
    "start_time": "2022-06-12T00:56:16.578Z"
   },
   {
    "duration": 207,
    "start_time": "2022-06-12T00:56:17.154Z"
   },
   {
    "duration": 171,
    "start_time": "2022-06-12T00:56:17.884Z"
   },
   {
    "duration": 4,
    "start_time": "2022-06-12T00:56:18.999Z"
   },
   {
    "duration": 4,
    "start_time": "2022-06-12T00:56:19.349Z"
   },
   {
    "duration": 4,
    "start_time": "2022-06-12T00:56:19.894Z"
   },
   {
    "duration": 4,
    "start_time": "2022-06-12T00:56:20.232Z"
   },
   {
    "duration": 4,
    "start_time": "2022-06-12T00:56:21.180Z"
   },
   {
    "duration": 5,
    "start_time": "2022-06-12T00:56:21.575Z"
   },
   {
    "duration": 5,
    "start_time": "2022-06-12T00:56:22.105Z"
   },
   {
    "duration": 5,
    "start_time": "2022-06-12T00:56:22.380Z"
   },
   {
    "duration": 5,
    "start_time": "2022-06-12T00:56:22.683Z"
   },
   {
    "duration": 5,
    "start_time": "2022-06-12T00:56:23.025Z"
   },
   {
    "duration": 5,
    "start_time": "2022-06-12T00:56:23.502Z"
   },
   {
    "duration": 4,
    "start_time": "2022-06-12T00:56:23.828Z"
   },
   {
    "duration": 137,
    "start_time": "2022-06-12T00:56:24.404Z"
   },
   {
    "duration": 125,
    "start_time": "2022-06-12T00:56:25.317Z"
   },
   {
    "duration": 13,
    "start_time": "2022-06-12T00:56:25.947Z"
   },
   {
    "duration": 4,
    "start_time": "2022-06-12T00:56:26.551Z"
   },
   {
    "duration": 4,
    "start_time": "2022-06-12T00:56:27.122Z"
   },
   {
    "duration": 157,
    "start_time": "2022-06-12T00:56:27.942Z"
   },
   {
    "duration": 4,
    "start_time": "2022-06-12T00:56:28.573Z"
   },
   {
    "duration": 4,
    "start_time": "2022-06-12T00:56:29.576Z"
   },
   {
    "duration": 4,
    "start_time": "2022-06-12T00:56:29.865Z"
   },
   {
    "duration": 5,
    "start_time": "2022-06-12T00:56:30.359Z"
   },
   {
    "duration": 5,
    "start_time": "2022-06-12T00:56:30.648Z"
   },
   {
    "duration": 5,
    "start_time": "2022-06-12T00:56:30.925Z"
   },
   {
    "duration": 5,
    "start_time": "2022-06-12T00:56:31.655Z"
   },
   {
    "duration": 5,
    "start_time": "2022-06-12T00:56:31.963Z"
   },
   {
    "duration": 5,
    "start_time": "2022-06-12T00:56:32.251Z"
   },
   {
    "duration": 139,
    "start_time": "2022-06-12T00:56:32.767Z"
   },
   {
    "duration": 125,
    "start_time": "2022-06-12T00:56:33.286Z"
   },
   {
    "duration": 6,
    "start_time": "2022-06-12T00:56:34.561Z"
   },
   {
    "duration": 7,
    "start_time": "2022-06-12T00:56:34.845Z"
   },
   {
    "duration": 6,
    "start_time": "2022-06-12T00:56:35.078Z"
   },
   {
    "duration": 7,
    "start_time": "2022-06-12T00:56:35.357Z"
   },
   {
    "duration": 4,
    "start_time": "2022-06-12T00:56:36.519Z"
   },
   {
    "duration": 4,
    "start_time": "2022-06-12T00:56:36.873Z"
   },
   {
    "duration": 5,
    "start_time": "2022-06-12T00:56:38.513Z"
   },
   {
    "duration": 53,
    "start_time": "2022-06-12T00:56:38.770Z"
   },
   {
    "duration": 4,
    "start_time": "2022-06-12T00:56:39.019Z"
   },
   {
    "duration": 7,
    "start_time": "2022-06-12T00:56:39.416Z"
   },
   {
    "duration": 20,
    "start_time": "2022-06-12T00:56:39.667Z"
   },
   {
    "duration": 6,
    "start_time": "2022-06-12T00:56:39.983Z"
   },
   {
    "duration": 21,
    "start_time": "2022-06-12T00:56:40.187Z"
   },
   {
    "duration": 6,
    "start_time": "2022-06-12T00:56:40.469Z"
   },
   {
    "duration": 22,
    "start_time": "2022-06-12T00:56:40.713Z"
   },
   {
    "duration": 5,
    "start_time": "2022-06-12T00:56:41.086Z"
   },
   {
    "duration": 5,
    "start_time": "2022-06-12T00:56:41.303Z"
   },
   {
    "duration": 1183,
    "start_time": "2022-06-12T21:00:49.254Z"
   },
   {
    "duration": 277,
    "start_time": "2022-06-12T21:00:50.439Z"
   },
   {
    "duration": 331,
    "start_time": "2022-06-12T21:00:50.718Z"
   },
   {
    "duration": 359,
    "start_time": "2022-06-12T21:00:51.051Z"
   },
   {
    "duration": 60,
    "start_time": "2022-06-12T21:00:51.413Z"
   },
   {
    "duration": 66,
    "start_time": "2022-06-12T21:00:51.475Z"
   },
   {
    "duration": 13,
    "start_time": "2022-06-12T21:00:51.542Z"
   },
   {
    "duration": 26,
    "start_time": "2022-06-12T21:00:51.557Z"
   },
   {
    "duration": 10,
    "start_time": "2022-06-12T21:00:51.682Z"
   },
   {
    "duration": 20,
    "start_time": "2022-06-12T21:00:52.033Z"
   },
   {
    "duration": 9,
    "start_time": "2022-06-12T21:00:52.566Z"
   },
   {
    "duration": 19,
    "start_time": "2022-06-12T21:00:52.776Z"
   },
   {
    "duration": 8,
    "start_time": "2022-06-12T21:00:53.321Z"
   },
   {
    "duration": 10,
    "start_time": "2022-06-12T21:00:53.540Z"
   },
   {
    "duration": 15,
    "start_time": "2022-06-12T21:00:53.875Z"
   },
   {
    "duration": 11,
    "start_time": "2022-06-12T21:00:54.100Z"
   },
   {
    "duration": 4,
    "start_time": "2022-06-12T21:00:55.400Z"
   },
   {
    "duration": 33,
    "start_time": "2022-06-12T21:00:55.705Z"
   },
   {
    "duration": 28,
    "start_time": "2022-06-12T21:00:55.973Z"
   },
   {
    "duration": 31,
    "start_time": "2022-06-12T21:00:56.250Z"
   },
   {
    "duration": 27,
    "start_time": "2022-06-12T21:00:57.648Z"
   },
   {
    "duration": 17,
    "start_time": "2022-06-12T21:00:58.101Z"
   },
   {
    "duration": 18,
    "start_time": "2022-06-12T21:00:58.440Z"
   },
   {
    "duration": 8,
    "start_time": "2022-06-12T21:00:59.219Z"
   },
   {
    "duration": 105,
    "start_time": "2022-06-12T21:00:59.536Z"
   },
   {
    "duration": 61,
    "start_time": "2022-06-12T21:00:59.853Z"
   },
   {
    "duration": 45,
    "start_time": "2022-06-12T21:01:00.194Z"
   },
   {
    "duration": 8,
    "start_time": "2022-06-12T21:01:00.720Z"
   },
   {
    "duration": 7,
    "start_time": "2022-06-12T21:01:01.042Z"
   },
   {
    "duration": 19,
    "start_time": "2022-06-12T21:01:01.474Z"
   },
   {
    "duration": 30,
    "start_time": "2022-06-12T21:01:01.801Z"
   },
   {
    "duration": 23,
    "start_time": "2022-06-12T21:01:02.118Z"
   },
   {
    "duration": 24,
    "start_time": "2022-06-12T21:01:02.408Z"
   },
   {
    "duration": 70,
    "start_time": "2022-06-12T21:01:03.572Z"
   },
   {
    "duration": 5,
    "start_time": "2022-06-12T21:01:03.865Z"
   },
   {
    "duration": 5,
    "start_time": "2022-06-12T21:01:04.558Z"
   },
   {
    "duration": 22,
    "start_time": "2022-06-12T21:01:05.125Z"
   },
   {
    "duration": 22,
    "start_time": "2022-06-12T21:01:05.376Z"
   },
   {
    "duration": 25,
    "start_time": "2022-06-12T21:01:05.699Z"
   },
   {
    "duration": 5,
    "start_time": "2022-06-12T21:01:05.997Z"
   },
   {
    "duration": 5,
    "start_time": "2022-06-12T21:01:06.258Z"
   },
   {
    "duration": 10,
    "start_time": "2022-06-12T21:01:06.520Z"
   },
   {
    "duration": 13,
    "start_time": "2022-06-12T21:01:06.848Z"
   },
   {
    "duration": 4,
    "start_time": "2022-06-12T21:01:07.222Z"
   },
   {
    "duration": 15,
    "start_time": "2022-06-12T21:01:07.610Z"
   },
   {
    "duration": 16,
    "start_time": "2022-06-12T21:01:07.937Z"
   },
   {
    "duration": 5,
    "start_time": "2022-06-12T21:01:08.477Z"
   },
   {
    "duration": 4,
    "start_time": "2022-06-12T21:01:08.799Z"
   },
   {
    "duration": 5,
    "start_time": "2022-06-12T21:01:09.075Z"
   },
   {
    "duration": 10,
    "start_time": "2022-06-12T21:01:09.787Z"
   },
   {
    "duration": 18,
    "start_time": "2022-06-12T21:01:10.162Z"
   },
   {
    "duration": 3,
    "start_time": "2022-06-12T21:01:10.789Z"
   },
   {
    "duration": 19,
    "start_time": "2022-06-12T21:01:11.072Z"
   },
   {
    "duration": 9,
    "start_time": "2022-06-12T21:01:11.641Z"
   },
   {
    "duration": 10,
    "start_time": "2022-06-12T21:01:12.023Z"
   },
   {
    "duration": 10,
    "start_time": "2022-06-12T21:01:12.593Z"
   },
   {
    "duration": 19,
    "start_time": "2022-06-12T21:01:12.934Z"
   },
   {
    "duration": 5,
    "start_time": "2022-06-12T21:01:13.498Z"
   },
   {
    "duration": 15,
    "start_time": "2022-06-12T21:01:13.844Z"
   },
   {
    "duration": 3,
    "start_time": "2022-06-12T21:01:14.136Z"
   },
   {
    "duration": 97,
    "start_time": "2022-06-12T21:01:14.728Z"
   },
   {
    "duration": 4,
    "start_time": "2022-06-12T21:01:15.354Z"
   },
   {
    "duration": 3,
    "start_time": "2022-06-12T21:01:15.667Z"
   },
   {
    "duration": 5,
    "start_time": "2022-06-12T21:01:16.323Z"
   },
   {
    "duration": 7,
    "start_time": "2022-06-12T21:01:17.484Z"
   },
   {
    "duration": 21,
    "start_time": "2022-06-12T21:01:17.838Z"
   },
   {
    "duration": 5,
    "start_time": "2022-06-12T21:01:18.163Z"
   },
   {
    "duration": 13,
    "start_time": "2022-06-12T21:01:18.499Z"
   },
   {
    "duration": 5,
    "start_time": "2022-06-12T21:01:19.146Z"
   },
   {
    "duration": 5,
    "start_time": "2022-06-12T21:01:19.484Z"
   },
   {
    "duration": 5,
    "start_time": "2022-06-12T21:01:21.357Z"
   },
   {
    "duration": 4,
    "start_time": "2022-06-12T21:01:21.666Z"
   },
   {
    "duration": 10,
    "start_time": "2022-06-12T21:01:21.962Z"
   },
   {
    "duration": 4,
    "start_time": "2022-06-12T21:01:22.221Z"
   },
   {
    "duration": 4,
    "start_time": "2022-06-12T21:01:22.455Z"
   },
   {
    "duration": 5,
    "start_time": "2022-06-12T21:01:22.801Z"
   },
   {
    "duration": 246,
    "start_time": "2022-06-12T21:01:23.781Z"
   },
   {
    "duration": 162,
    "start_time": "2022-06-12T21:01:24.414Z"
   },
   {
    "duration": 6,
    "start_time": "2022-06-12T21:01:25.328Z"
   },
   {
    "duration": 5,
    "start_time": "2022-06-12T21:01:25.661Z"
   },
   {
    "duration": 6,
    "start_time": "2022-06-12T21:01:26.379Z"
   },
   {
    "duration": 6,
    "start_time": "2022-06-12T21:01:26.716Z"
   },
   {
    "duration": 5,
    "start_time": "2022-06-12T21:01:27.653Z"
   },
   {
    "duration": 5,
    "start_time": "2022-06-12T21:01:27.955Z"
   },
   {
    "duration": 5,
    "start_time": "2022-06-12T21:01:28.570Z"
   },
   {
    "duration": 6,
    "start_time": "2022-06-12T21:01:28.855Z"
   },
   {
    "duration": 7,
    "start_time": "2022-06-12T21:01:29.141Z"
   },
   {
    "duration": 5,
    "start_time": "2022-06-12T21:01:29.422Z"
   },
   {
    "duration": 5,
    "start_time": "2022-06-12T21:01:29.717Z"
   },
   {
    "duration": 7,
    "start_time": "2022-06-12T21:01:29.954Z"
   },
   {
    "duration": 152,
    "start_time": "2022-06-12T21:01:30.915Z"
   },
   {
    "duration": 119,
    "start_time": "2022-06-12T21:01:31.507Z"
   },
   {
    "duration": 13,
    "start_time": "2022-06-12T21:01:32.135Z"
   },
   {
    "duration": 4,
    "start_time": "2022-06-12T21:01:32.713Z"
   },
   {
    "duration": 7,
    "start_time": "2022-06-12T21:01:33.327Z"
   },
   {
    "duration": 147,
    "start_time": "2022-06-12T21:01:33.998Z"
   },
   {
    "duration": 6,
    "start_time": "2022-06-12T21:01:34.790Z"
   },
   {
    "duration": 5,
    "start_time": "2022-06-12T21:01:35.810Z"
   },
   {
    "duration": 5,
    "start_time": "2022-06-12T21:01:36.136Z"
   },
   {
    "duration": 5,
    "start_time": "2022-06-12T21:01:36.799Z"
   },
   {
    "duration": 5,
    "start_time": "2022-06-12T21:01:37.131Z"
   },
   {
    "duration": 5,
    "start_time": "2022-06-12T21:01:37.435Z"
   },
   {
    "duration": 5,
    "start_time": "2022-06-12T21:01:37.719Z"
   },
   {
    "duration": 5,
    "start_time": "2022-06-12T21:01:38.008Z"
   },
   {
    "duration": 4,
    "start_time": "2022-06-12T21:01:38.562Z"
   },
   {
    "duration": 131,
    "start_time": "2022-06-12T21:01:39.592Z"
   },
   {
    "duration": 127,
    "start_time": "2022-06-12T21:01:40.152Z"
   },
   {
    "duration": 5,
    "start_time": "2022-06-12T21:01:41.662Z"
   },
   {
    "duration": 7,
    "start_time": "2022-06-12T21:01:41.968Z"
   },
   {
    "duration": 5,
    "start_time": "2022-06-12T21:01:42.278Z"
   },
   {
    "duration": 7,
    "start_time": "2022-06-12T21:01:42.553Z"
   },
   {
    "duration": 132,
    "start_time": "2022-06-12T21:18:40.946Z"
   },
   {
    "duration": 11,
    "start_time": "2022-06-12T21:35:01.357Z"
   },
   {
    "duration": 35,
    "start_time": "2022-06-12T21:35:10.025Z"
   },
   {
    "duration": 4,
    "start_time": "2022-06-12T21:35:29.299Z"
   },
   {
    "duration": 4,
    "start_time": "2022-06-12T21:35:40.699Z"
   },
   {
    "duration": 5,
    "start_time": "2022-06-12T21:36:31.250Z"
   },
   {
    "duration": 54,
    "start_time": "2022-06-12T21:37:46.280Z"
   },
   {
    "duration": 34,
    "start_time": "2022-06-12T21:38:27.171Z"
   },
   {
    "duration": 5,
    "start_time": "2022-06-12T21:39:58.256Z"
   },
   {
    "duration": 10,
    "start_time": "2022-06-12T21:39:58.731Z"
   },
   {
    "duration": 8,
    "start_time": "2022-06-12T21:39:59.257Z"
   },
   {
    "duration": 5,
    "start_time": "2022-06-12T22:50:53.700Z"
   },
   {
    "duration": 7,
    "start_time": "2022-06-12T22:57:26.103Z"
   },
   {
    "duration": 4,
    "start_time": "2022-06-12T22:59:25.564Z"
   },
   {
    "duration": 5,
    "start_time": "2022-06-12T23:02:11.311Z"
   },
   {
    "duration": 6,
    "start_time": "2022-06-12T23:02:29.356Z"
   },
   {
    "duration": 6,
    "start_time": "2022-06-12T23:02:48.021Z"
   },
   {
    "duration": 6,
    "start_time": "2022-06-12T23:03:10.757Z"
   },
   {
    "duration": 6,
    "start_time": "2022-06-12T23:04:18.668Z"
   },
   {
    "duration": 3,
    "start_time": "2022-06-12T23:23:48.755Z"
   },
   {
    "duration": 4,
    "start_time": "2022-06-12T23:23:49.290Z"
   },
   {
    "duration": 6,
    "start_time": "2022-06-12T23:23:50.167Z"
   },
   {
    "duration": 9,
    "start_time": "2022-06-12T23:26:32.223Z"
   },
   {
    "duration": 5,
    "start_time": "2022-06-12T23:26:42.647Z"
   },
   {
    "duration": 58,
    "start_time": "2022-06-12T23:26:42.896Z"
   },
   {
    "duration": 4,
    "start_time": "2022-06-12T23:26:43.153Z"
   },
   {
    "duration": 9,
    "start_time": "2022-06-12T23:26:43.372Z"
   },
   {
    "duration": 21,
    "start_time": "2022-06-12T23:26:45.038Z"
   },
   {
    "duration": 9,
    "start_time": "2022-06-12T23:26:46.077Z"
   },
   {
    "duration": 25,
    "start_time": "2022-06-12T23:26:46.364Z"
   },
   {
    "duration": 6,
    "start_time": "2022-06-12T23:26:46.652Z"
   },
   {
    "duration": 20,
    "start_time": "2022-06-12T23:26:46.866Z"
   },
   {
    "duration": 4,
    "start_time": "2022-06-12T23:26:47.842Z"
   },
   {
    "duration": 4,
    "start_time": "2022-06-12T23:26:53.056Z"
   },
   {
    "duration": 4,
    "start_time": "2022-06-12T23:27:02.297Z"
   },
   {
    "duration": 8,
    "start_time": "2022-06-12T23:27:02.836Z"
   },
   {
    "duration": 5,
    "start_time": "2022-06-12T23:47:30.900Z"
   },
   {
    "duration": 4,
    "start_time": "2022-06-13T00:03:05.722Z"
   },
   {
    "duration": 5,
    "start_time": "2022-06-13T00:03:16.984Z"
   },
   {
    "duration": 24,
    "start_time": "2022-06-13T00:04:27.876Z"
   },
   {
    "duration": 13,
    "start_time": "2022-06-13T00:04:38.158Z"
   },
   {
    "duration": 14,
    "start_time": "2022-06-13T00:04:53.778Z"
   },
   {
    "duration": 7,
    "start_time": "2022-06-13T00:15:40.763Z"
   },
   {
    "duration": 3,
    "start_time": "2022-06-13T00:19:30.086Z"
   },
   {
    "duration": 3,
    "start_time": "2022-06-13T00:20:32.342Z"
   },
   {
    "duration": 14,
    "start_time": "2022-06-13T00:20:33.224Z"
   },
   {
    "duration": 23,
    "start_time": "2022-06-13T00:21:06.268Z"
   },
   {
    "duration": 14,
    "start_time": "2022-06-13T00:23:21.147Z"
   },
   {
    "duration": 3,
    "start_time": "2022-06-13T00:24:19.283Z"
   },
   {
    "duration": 4,
    "start_time": "2022-06-13T00:25:42.981Z"
   },
   {
    "duration": 31,
    "start_time": "2022-06-13T00:30:05.587Z"
   },
   {
    "duration": 14,
    "start_time": "2022-06-13T00:30:11.103Z"
   },
   {
    "duration": 8,
    "start_time": "2022-06-13T00:30:28.715Z"
   },
   {
    "duration": 14,
    "start_time": "2022-06-13T00:30:43.245Z"
   },
   {
    "duration": 17,
    "start_time": "2022-06-13T00:32:54.861Z"
   },
   {
    "duration": 7,
    "start_time": "2022-06-13T00:33:07.598Z"
   },
   {
    "duration": 13,
    "start_time": "2022-06-13T00:33:23.418Z"
   },
   {
    "duration": 14,
    "start_time": "2022-06-13T00:35:17.844Z"
   },
   {
    "duration": 13,
    "start_time": "2022-06-13T00:36:13.349Z"
   },
   {
    "duration": 12,
    "start_time": "2022-06-13T00:37:11.099Z"
   },
   {
    "duration": 23,
    "start_time": "2022-06-13T00:37:29.016Z"
   },
   {
    "duration": 14,
    "start_time": "2022-06-13T00:37:47.602Z"
   },
   {
    "duration": 7,
    "start_time": "2022-06-13T00:40:31.071Z"
   },
   {
    "duration": 6,
    "start_time": "2022-06-13T00:41:43.380Z"
   },
   {
    "duration": 7,
    "start_time": "2022-06-13T00:42:10.712Z"
   },
   {
    "duration": 8,
    "start_time": "2022-06-13T00:42:31.750Z"
   },
   {
    "duration": 11,
    "start_time": "2022-06-13T00:43:08.545Z"
   },
   {
    "duration": 14,
    "start_time": "2022-06-13T00:43:09.805Z"
   },
   {
    "duration": 6,
    "start_time": "2022-06-13T00:44:47.113Z"
   },
   {
    "duration": 4,
    "start_time": "2022-06-13T00:48:44.333Z"
   },
   {
    "duration": 4,
    "start_time": "2022-06-13T00:49:34.551Z"
   },
   {
    "duration": 14,
    "start_time": "2022-06-13T00:49:52.758Z"
   },
   {
    "duration": 5,
    "start_time": "2022-06-13T00:52:31.400Z"
   },
   {
    "duration": 4,
    "start_time": "2022-06-13T00:52:32.273Z"
   },
   {
    "duration": 12,
    "start_time": "2022-06-13T00:52:33.141Z"
   },
   {
    "duration": 41,
    "start_time": "2022-06-13T15:36:55.140Z"
   },
   {
    "duration": 1124,
    "start_time": "2022-06-13T15:37:03.941Z"
   },
   {
    "duration": 549,
    "start_time": "2022-06-13T15:37:05.067Z"
   },
   {
    "duration": 381,
    "start_time": "2022-06-13T15:37:05.618Z"
   },
   {
    "duration": 135,
    "start_time": "2022-06-13T15:37:06.001Z"
   },
   {
    "duration": 56,
    "start_time": "2022-06-13T15:37:06.138Z"
   },
   {
    "duration": 57,
    "start_time": "2022-06-13T15:37:06.196Z"
   },
   {
    "duration": 13,
    "start_time": "2022-06-13T15:37:06.255Z"
   },
   {
    "duration": 22,
    "start_time": "2022-06-13T15:37:06.376Z"
   },
   {
    "duration": 8,
    "start_time": "2022-06-13T15:37:06.787Z"
   },
   {
    "duration": 28,
    "start_time": "2022-06-13T15:37:06.997Z"
   },
   {
    "duration": 8,
    "start_time": "2022-06-13T15:37:07.395Z"
   },
   {
    "duration": 25,
    "start_time": "2022-06-13T15:37:07.580Z"
   },
   {
    "duration": 11,
    "start_time": "2022-06-13T15:37:07.986Z"
   },
   {
    "duration": 13,
    "start_time": "2022-06-13T15:37:08.172Z"
   },
   {
    "duration": 14,
    "start_time": "2022-06-13T15:37:08.378Z"
   },
   {
    "duration": 13,
    "start_time": "2022-06-13T15:37:08.570Z"
   },
   {
    "duration": 5,
    "start_time": "2022-06-13T15:37:09.398Z"
   },
   {
    "duration": 45,
    "start_time": "2022-06-13T15:37:09.794Z"
   },
   {
    "duration": 23,
    "start_time": "2022-06-13T15:37:10.013Z"
   },
   {
    "duration": 26,
    "start_time": "2022-06-13T15:37:10.222Z"
   },
   {
    "duration": 20,
    "start_time": "2022-06-13T15:37:10.668Z"
   },
   {
    "duration": 16,
    "start_time": "2022-06-13T15:37:10.884Z"
   },
   {
    "duration": 15,
    "start_time": "2022-06-13T15:37:11.106Z"
   },
   {
    "duration": 8,
    "start_time": "2022-06-13T15:37:11.540Z"
   },
   {
    "duration": 105,
    "start_time": "2022-06-13T15:37:11.760Z"
   },
   {
    "duration": 89,
    "start_time": "2022-06-13T15:37:11.967Z"
   },
   {
    "duration": 43,
    "start_time": "2022-06-13T15:37:12.382Z"
   },
   {
    "duration": 9,
    "start_time": "2022-06-13T15:37:12.848Z"
   },
   {
    "duration": 6,
    "start_time": "2022-06-13T15:37:13.072Z"
   },
   {
    "duration": 17,
    "start_time": "2022-06-13T15:37:13.312Z"
   },
   {
    "duration": 17,
    "start_time": "2022-06-13T15:37:13.542Z"
   },
   {
    "duration": 14,
    "start_time": "2022-06-13T15:37:13.761Z"
   },
   {
    "duration": 7,
    "start_time": "2022-06-13T15:37:16.421Z"
   },
   {
    "duration": 6,
    "start_time": "2022-06-13T15:37:16.653Z"
   },
   {
    "duration": 20,
    "start_time": "2022-06-13T15:37:16.865Z"
   },
   {
    "duration": 17,
    "start_time": "2022-06-13T15:37:17.557Z"
   },
   {
    "duration": 16,
    "start_time": "2022-06-13T15:37:17.843Z"
   },
   {
    "duration": 15,
    "start_time": "2022-06-13T15:37:18.159Z"
   },
   {
    "duration": 44,
    "start_time": "2022-06-13T15:37:19.411Z"
   },
   {
    "duration": 4,
    "start_time": "2022-06-13T15:37:19.712Z"
   },
   {
    "duration": 4,
    "start_time": "2022-06-13T15:37:20.015Z"
   },
   {
    "duration": 14,
    "start_time": "2022-06-13T15:37:20.859Z"
   },
   {
    "duration": 18,
    "start_time": "2022-06-13T15:37:21.204Z"
   },
   {
    "duration": 23,
    "start_time": "2022-06-13T15:37:21.636Z"
   },
   {
    "duration": 5,
    "start_time": "2022-06-13T15:37:22.024Z"
   },
   {
    "duration": 6,
    "start_time": "2022-06-13T15:37:22.330Z"
   },
   {
    "duration": 8,
    "start_time": "2022-06-13T15:37:22.592Z"
   },
   {
    "duration": 13,
    "start_time": "2022-06-13T15:37:22.916Z"
   },
   {
    "duration": 4,
    "start_time": "2022-06-13T15:37:23.970Z"
   },
   {
    "duration": 12,
    "start_time": "2022-06-13T15:37:24.344Z"
   },
   {
    "duration": 15,
    "start_time": "2022-06-13T15:37:24.939Z"
   },
   {
    "duration": 4,
    "start_time": "2022-06-13T15:37:25.901Z"
   },
   {
    "duration": 4,
    "start_time": "2022-06-13T15:37:26.537Z"
   },
   {
    "duration": 4,
    "start_time": "2022-06-13T15:37:26.848Z"
   },
   {
    "duration": 8,
    "start_time": "2022-06-13T15:37:27.570Z"
   },
   {
    "duration": 17,
    "start_time": "2022-06-13T15:37:27.983Z"
   },
   {
    "duration": 4,
    "start_time": "2022-06-13T15:37:29.023Z"
   },
   {
    "duration": 14,
    "start_time": "2022-06-13T15:37:29.625Z"
   },
   {
    "duration": 8,
    "start_time": "2022-06-13T15:37:30.651Z"
   },
   {
    "duration": 11,
    "start_time": "2022-06-13T15:37:31.082Z"
   },
   {
    "duration": 7,
    "start_time": "2022-06-13T15:37:32.391Z"
   },
   {
    "duration": 16,
    "start_time": "2022-06-13T15:37:39.435Z"
   },
   {
    "duration": 4,
    "start_time": "2022-06-13T15:37:40.014Z"
   },
   {
    "duration": 4,
    "start_time": "2022-06-13T15:37:40.833Z"
   },
   {
    "duration": 4,
    "start_time": "2022-06-13T15:37:41.073Z"
   },
   {
    "duration": 11,
    "start_time": "2022-06-13T15:37:41.304Z"
   },
   {
    "duration": 7,
    "start_time": "2022-06-13T15:37:41.547Z"
   },
   {
    "duration": 5,
    "start_time": "2022-06-13T15:37:42.760Z"
   },
   {
    "duration": 7,
    "start_time": "2022-06-13T15:37:43.338Z"
   },
   {
    "duration": 6,
    "start_time": "2022-06-13T15:37:43.656Z"
   },
   {
    "duration": 9,
    "start_time": "2022-06-13T15:37:43.856Z"
   },
   {
    "duration": 9,
    "start_time": "2022-06-13T15:37:44.097Z"
   },
   {
    "duration": 5,
    "start_time": "2022-06-13T15:37:44.720Z"
   },
   {
    "duration": 5,
    "start_time": "2022-06-13T15:37:45.279Z"
   },
   {
    "duration": 14,
    "start_time": "2022-06-13T15:37:45.703Z"
   },
   {
    "duration": 4,
    "start_time": "2022-06-13T15:37:47.415Z"
   },
   {
    "duration": 4,
    "start_time": "2022-06-13T15:38:52.065Z"
   },
   {
    "duration": 14,
    "start_time": "2022-06-13T15:39:04.967Z"
   },
   {
    "duration": 4,
    "start_time": "2022-06-13T15:41:00.267Z"
   },
   {
    "duration": 12,
    "start_time": "2022-06-13T15:41:21.194Z"
   },
   {
    "duration": 61,
    "start_time": "2022-06-13T16:18:17.498Z"
   },
   {
    "duration": 3,
    "start_time": "2022-06-13T16:18:17.965Z"
   },
   {
    "duration": 3,
    "start_time": "2022-06-13T16:18:18.411Z"
   },
   {
    "duration": 3,
    "start_time": "2022-06-13T16:18:18.927Z"
   },
   {
    "duration": 6,
    "start_time": "2022-06-13T16:18:20.420Z"
   },
   {
    "duration": 9,
    "start_time": "2022-06-13T16:18:20.785Z"
   },
   {
    "duration": 5,
    "start_time": "2022-06-13T16:18:20.920Z"
   },
   {
    "duration": 9,
    "start_time": "2022-06-13T16:18:21.356Z"
   },
   {
    "duration": 4,
    "start_time": "2022-06-13T16:18:22.165Z"
   },
   {
    "duration": 4,
    "start_time": "2022-06-13T16:18:22.482Z"
   },
   {
    "duration": 5,
    "start_time": "2022-06-13T16:18:23.272Z"
   },
   {
    "duration": 4,
    "start_time": "2022-06-13T16:18:23.756Z"
   },
   {
    "duration": 5,
    "start_time": "2022-06-13T16:18:24.233Z"
   },
   {
    "duration": 4,
    "start_time": "2022-06-13T16:18:24.750Z"
   },
   {
    "duration": 5,
    "start_time": "2022-06-13T16:18:25.431Z"
   },
   {
    "duration": 4,
    "start_time": "2022-06-13T16:18:25.949Z"
   },
   {
    "duration": 197,
    "start_time": "2022-06-13T16:18:27.662Z"
   },
   {
    "duration": 164,
    "start_time": "2022-06-13T16:18:30.538Z"
   },
   {
    "duration": 6,
    "start_time": "2022-06-13T16:18:31.976Z"
   },
   {
    "duration": 4,
    "start_time": "2022-06-13T16:18:32.279Z"
   },
   {
    "duration": 4,
    "start_time": "2022-06-13T16:18:32.610Z"
   },
   {
    "duration": 4,
    "start_time": "2022-06-13T16:18:32.912Z"
   },
   {
    "duration": 5,
    "start_time": "2022-06-13T16:18:33.944Z"
   },
   {
    "duration": 4,
    "start_time": "2022-06-13T16:18:34.369Z"
   },
   {
    "duration": 5,
    "start_time": "2022-06-13T16:18:35.616Z"
   },
   {
    "duration": 4,
    "start_time": "2022-06-13T16:18:36.187Z"
   },
   {
    "duration": 4,
    "start_time": "2022-06-13T16:18:36.862Z"
   },
   {
    "duration": 4,
    "start_time": "2022-06-13T16:18:37.367Z"
   },
   {
    "duration": 4,
    "start_time": "2022-06-13T16:18:37.939Z"
   },
   {
    "duration": 4,
    "start_time": "2022-06-13T16:18:38.472Z"
   },
   {
    "duration": 164,
    "start_time": "2022-06-13T16:21:41.611Z"
   },
   {
    "duration": 173,
    "start_time": "2022-06-13T16:22:40.037Z"
   },
   {
    "duration": 179,
    "start_time": "2022-06-13T16:22:54.174Z"
   },
   {
    "duration": 161,
    "start_time": "2022-06-13T16:24:00.572Z"
   },
   {
    "duration": 173,
    "start_time": "2022-06-13T16:24:34.915Z"
   },
   {
    "duration": 3,
    "start_time": "2022-06-13T16:29:41.489Z"
   },
   {
    "duration": 150,
    "start_time": "2022-06-13T16:29:41.966Z"
   },
   {
    "duration": 116,
    "start_time": "2022-06-13T16:29:42.196Z"
   },
   {
    "duration": 105,
    "start_time": "2022-06-13T16:29:42.428Z"
   },
   {
    "duration": 16,
    "start_time": "2022-06-13T16:29:42.654Z"
   },
   {
    "duration": 28,
    "start_time": "2022-06-13T16:29:42.889Z"
   },
   {
    "duration": 10,
    "start_time": "2022-06-13T16:29:43.359Z"
   },
   {
    "duration": 30,
    "start_time": "2022-06-13T16:29:43.629Z"
   },
   {
    "duration": 11,
    "start_time": "2022-06-13T16:29:44.091Z"
   },
   {
    "duration": 27,
    "start_time": "2022-06-13T16:29:44.305Z"
   },
   {
    "duration": 11,
    "start_time": "2022-06-13T16:29:44.777Z"
   },
   {
    "duration": 19,
    "start_time": "2022-06-13T16:29:45.001Z"
   },
   {
    "duration": 7,
    "start_time": "2022-06-13T16:29:45.673Z"
   },
   {
    "duration": 13,
    "start_time": "2022-06-13T16:29:45.936Z"
   },
   {
    "duration": 10,
    "start_time": "2022-06-13T16:29:46.386Z"
   },
   {
    "duration": 12,
    "start_time": "2022-06-13T16:29:46.653Z"
   },
   {
    "duration": 4,
    "start_time": "2022-06-13T16:29:47.710Z"
   },
   {
    "duration": 41,
    "start_time": "2022-06-13T16:29:47.982Z"
   },
   {
    "duration": 31,
    "start_time": "2022-06-13T16:29:48.479Z"
   },
   {
    "duration": 18,
    "start_time": "2022-06-13T16:29:48.763Z"
   },
   {
    "duration": 24,
    "start_time": "2022-06-13T16:29:49.290Z"
   },
   {
    "duration": 17,
    "start_time": "2022-06-13T16:29:49.546Z"
   },
   {
    "duration": 14,
    "start_time": "2022-06-13T16:29:49.771Z"
   },
   {
    "duration": 8,
    "start_time": "2022-06-13T16:29:50.234Z"
   },
   {
    "duration": 95,
    "start_time": "2022-06-13T16:29:50.448Z"
   },
   {
    "duration": 53,
    "start_time": "2022-06-13T16:29:50.669Z"
   },
   {
    "duration": 37,
    "start_time": "2022-06-13T16:29:50.899Z"
   },
   {
    "duration": 7,
    "start_time": "2022-06-13T16:29:51.394Z"
   },
   {
    "duration": 10,
    "start_time": "2022-06-13T16:29:51.615Z"
   },
   {
    "duration": 23,
    "start_time": "2022-06-13T16:29:51.868Z"
   },
   {
    "duration": 26,
    "start_time": "2022-06-13T16:29:52.116Z"
   },
   {
    "duration": 21,
    "start_time": "2022-06-13T16:29:52.423Z"
   },
   {
    "duration": 22,
    "start_time": "2022-06-13T16:29:52.703Z"
   },
   {
    "duration": 53,
    "start_time": "2022-06-13T16:29:53.679Z"
   },
   {
    "duration": 6,
    "start_time": "2022-06-13T16:29:53.992Z"
   },
   {
    "duration": 5,
    "start_time": "2022-06-13T16:29:54.237Z"
   },
   {
    "duration": 13,
    "start_time": "2022-06-13T16:29:54.893Z"
   },
   {
    "duration": 15,
    "start_time": "2022-06-13T16:29:55.175Z"
   },
   {
    "duration": 19,
    "start_time": "2022-06-13T16:29:55.447Z"
   },
   {
    "duration": 6,
    "start_time": "2022-06-13T16:29:55.724Z"
   },
   {
    "duration": 5,
    "start_time": "2022-06-13T16:29:56.044Z"
   },
   {
    "duration": 8,
    "start_time": "2022-06-13T16:29:56.242Z"
   },
   {
    "duration": 12,
    "start_time": "2022-06-13T16:29:56.546Z"
   },
   {
    "duration": 5,
    "start_time": "2022-06-13T16:29:57.010Z"
   },
   {
    "duration": 14,
    "start_time": "2022-06-13T16:29:57.263Z"
   },
   {
    "duration": 16,
    "start_time": "2022-06-13T16:29:57.643Z"
   },
   {
    "duration": 5,
    "start_time": "2022-06-13T16:29:58.254Z"
   },
   {
    "duration": 5,
    "start_time": "2022-06-13T16:29:58.488Z"
   },
   {
    "duration": 5,
    "start_time": "2022-06-13T16:29:58.869Z"
   },
   {
    "duration": 10,
    "start_time": "2022-06-13T16:29:59.305Z"
   },
   {
    "duration": 20,
    "start_time": "2022-06-13T16:29:59.929Z"
   },
   {
    "duration": 3,
    "start_time": "2022-06-13T16:30:00.350Z"
   },
   {
    "duration": 15,
    "start_time": "2022-06-13T16:30:00.718Z"
   },
   {
    "duration": 9,
    "start_time": "2022-06-13T16:30:01.136Z"
   },
   {
    "duration": 14,
    "start_time": "2022-06-13T16:30:01.346Z"
   },
   {
    "duration": 9,
    "start_time": "2022-06-13T16:30:02.155Z"
   },
   {
    "duration": 24,
    "start_time": "2022-06-13T16:30:02.400Z"
   },
   {
    "duration": 4,
    "start_time": "2022-06-13T16:30:02.994Z"
   },
   {
    "duration": 3,
    "start_time": "2022-06-13T16:30:03.546Z"
   },
   {
    "duration": 3,
    "start_time": "2022-06-13T16:30:03.889Z"
   },
   {
    "duration": 13,
    "start_time": "2022-06-13T16:30:04.204Z"
   },
   {
    "duration": 8,
    "start_time": "2022-06-13T16:30:04.876Z"
   },
   {
    "duration": 7,
    "start_time": "2022-06-13T16:30:05.460Z"
   },
   {
    "duration": 6,
    "start_time": "2022-06-13T16:30:05.745Z"
   },
   {
    "duration": 7,
    "start_time": "2022-06-13T16:30:05.977Z"
   },
   {
    "duration": 8,
    "start_time": "2022-06-13T16:30:06.261Z"
   },
   {
    "duration": 9,
    "start_time": "2022-06-13T16:30:06.540Z"
   },
   {
    "duration": 4,
    "start_time": "2022-06-13T16:30:07.047Z"
   },
   {
    "duration": 4,
    "start_time": "2022-06-13T16:30:07.500Z"
   },
   {
    "duration": 14,
    "start_time": "2022-06-13T16:30:07.765Z"
   },
   {
    "duration": 4,
    "start_time": "2022-06-13T16:30:08.241Z"
   },
   {
    "duration": 4,
    "start_time": "2022-06-13T16:30:08.491Z"
   },
   {
    "duration": 3,
    "start_time": "2022-06-13T16:30:08.742Z"
   },
   {
    "duration": 12,
    "start_time": "2022-06-13T16:30:08.975Z"
   },
   {
    "duration": 61,
    "start_time": "2022-06-13T16:30:09.478Z"
   },
   {
    "duration": 4,
    "start_time": "2022-06-13T16:30:10.467Z"
   },
   {
    "duration": 4,
    "start_time": "2022-06-13T16:30:11.191Z"
   },
   {
    "duration": 3,
    "start_time": "2022-06-13T16:30:11.868Z"
   },
   {
    "duration": 7,
    "start_time": "2022-06-13T16:30:13.082Z"
   },
   {
    "duration": 12,
    "start_time": "2022-06-13T16:30:13.382Z"
   },
   {
    "duration": 7,
    "start_time": "2022-06-13T16:30:13.706Z"
   },
   {
    "duration": 14,
    "start_time": "2022-06-13T16:30:13.982Z"
   },
   {
    "duration": 5,
    "start_time": "2022-06-13T16:30:14.479Z"
   },
   {
    "duration": 5,
    "start_time": "2022-06-13T16:30:14.798Z"
   },
   {
    "duration": 5,
    "start_time": "2022-06-13T16:30:15.529Z"
   },
   {
    "duration": 5,
    "start_time": "2022-06-13T16:30:15.974Z"
   },
   {
    "duration": 4,
    "start_time": "2022-06-13T16:30:16.393Z"
   },
   {
    "duration": 7,
    "start_time": "2022-06-13T16:30:16.929Z"
   },
   {
    "duration": 6,
    "start_time": "2022-06-13T16:30:17.756Z"
   },
   {
    "duration": 5,
    "start_time": "2022-06-13T16:30:18.280Z"
   },
   {
    "duration": 177,
    "start_time": "2022-06-13T16:30:20.456Z"
   },
   {
    "duration": 153,
    "start_time": "2022-06-13T16:30:21.800Z"
   },
   {
    "duration": 7,
    "start_time": "2022-06-13T16:30:22.858Z"
   },
   {
    "duration": 4,
    "start_time": "2022-06-13T16:30:23.109Z"
   },
   {
    "duration": 5,
    "start_time": "2022-06-13T16:30:23.365Z"
   },
   {
    "duration": 4,
    "start_time": "2022-06-13T16:30:23.603Z"
   },
   {
    "duration": 4,
    "start_time": "2022-06-13T16:30:24.592Z"
   },
   {
    "duration": 5,
    "start_time": "2022-06-13T16:30:24.944Z"
   },
   {
    "duration": 5,
    "start_time": "2022-06-13T16:30:26.242Z"
   },
   {
    "duration": 5,
    "start_time": "2022-06-13T16:30:26.844Z"
   },
   {
    "duration": 4,
    "start_time": "2022-06-13T16:30:27.647Z"
   },
   {
    "duration": 5,
    "start_time": "2022-06-13T16:30:28.050Z"
   },
   {
    "duration": 4,
    "start_time": "2022-06-13T16:30:31.548Z"
   },
   {
    "duration": 5,
    "start_time": "2022-06-13T16:30:32.295Z"
   },
   {
    "duration": 183,
    "start_time": "2022-06-13T16:30:34.893Z"
   },
   {
    "duration": 4,
    "start_time": "2022-06-13T16:30:57.460Z"
   },
   {
    "duration": 11,
    "start_time": "2022-06-13T16:30:58.259Z"
   },
   {
    "duration": 249,
    "start_time": "2022-06-13T16:31:38.476Z"
   },
   {
    "duration": 168,
    "start_time": "2022-06-13T16:32:21.251Z"
   },
   {
    "duration": 5,
    "start_time": "2022-06-13T16:32:43.201Z"
   },
   {
    "duration": 199,
    "start_time": "2022-06-13T16:32:54.096Z"
   },
   {
    "duration": 4,
    "start_time": "2022-06-13T16:32:54.875Z"
   },
   {
    "duration": 4,
    "start_time": "2022-06-13T16:32:56.257Z"
   },
   {
    "duration": 5,
    "start_time": "2022-06-13T16:32:56.772Z"
   },
   {
    "duration": 5,
    "start_time": "2022-06-13T16:32:57.842Z"
   },
   {
    "duration": 5,
    "start_time": "2022-06-13T16:32:58.479Z"
   },
   {
    "duration": 5,
    "start_time": "2022-06-13T16:32:58.892Z"
   },
   {
    "duration": 6,
    "start_time": "2022-06-13T16:32:59.916Z"
   },
   {
    "duration": 5,
    "start_time": "2022-06-13T16:33:01.560Z"
   },
   {
    "duration": 19,
    "start_time": "2022-06-13T16:33:28.072Z"
   },
   {
    "duration": 4,
    "start_time": "2022-06-13T16:36:22.348Z"
   },
   {
    "duration": 3,
    "start_time": "2022-06-13T16:36:22.657Z"
   },
   {
    "duration": 4,
    "start_time": "2022-06-13T16:36:22.941Z"
   },
   {
    "duration": 3,
    "start_time": "2022-06-13T16:36:23.216Z"
   },
   {
    "duration": 3,
    "start_time": "2022-06-13T16:36:23.434Z"
   },
   {
    "duration": 3,
    "start_time": "2022-06-13T16:36:25.104Z"
   },
   {
    "duration": 4,
    "start_time": "2022-06-13T16:36:25.669Z"
   },
   {
    "duration": 9,
    "start_time": "2022-06-13T16:36:26.308Z"
   },
   {
    "duration": 2,
    "start_time": "2022-06-13T16:36:35.348Z"
   },
   {
    "duration": 3,
    "start_time": "2022-06-13T16:36:35.792Z"
   },
   {
    "duration": 3,
    "start_time": "2022-06-13T16:36:36.733Z"
   },
   {
    "duration": 3,
    "start_time": "2022-06-13T16:37:32.292Z"
   },
   {
    "duration": 145,
    "start_time": "2022-06-13T16:37:34.516Z"
   },
   {
    "duration": 114,
    "start_time": "2022-06-13T16:37:34.767Z"
   },
   {
    "duration": 79,
    "start_time": "2022-06-13T16:37:35.018Z"
   },
   {
    "duration": 15,
    "start_time": "2022-06-13T16:37:35.333Z"
   },
   {
    "duration": 38,
    "start_time": "2022-06-13T16:37:35.592Z"
   },
   {
    "duration": 9,
    "start_time": "2022-06-13T16:37:36.092Z"
   },
   {
    "duration": 20,
    "start_time": "2022-06-13T16:37:36.427Z"
   },
   {
    "duration": 9,
    "start_time": "2022-06-13T16:37:36.956Z"
   },
   {
    "duration": 17,
    "start_time": "2022-06-13T16:37:37.208Z"
   },
   {
    "duration": 8,
    "start_time": "2022-06-13T16:37:37.708Z"
   },
   {
    "duration": 16,
    "start_time": "2022-06-13T16:37:37.971Z"
   },
   {
    "duration": 7,
    "start_time": "2022-06-13T16:37:38.473Z"
   },
   {
    "duration": 9,
    "start_time": "2022-06-13T16:37:38.934Z"
   },
   {
    "duration": 9,
    "start_time": "2022-06-13T16:37:39.238Z"
   },
   {
    "duration": 9,
    "start_time": "2022-06-13T16:37:39.514Z"
   },
   {
    "duration": 6,
    "start_time": "2022-06-13T16:37:40.484Z"
   },
   {
    "duration": 27,
    "start_time": "2022-06-13T16:37:40.742Z"
   },
   {
    "duration": 20,
    "start_time": "2022-06-13T16:37:40.996Z"
   },
   {
    "duration": 17,
    "start_time": "2022-06-13T16:37:41.219Z"
   },
   {
    "duration": 20,
    "start_time": "2022-06-13T16:37:41.688Z"
   },
   {
    "duration": 16,
    "start_time": "2022-06-13T16:37:41.955Z"
   },
   {
    "duration": 13,
    "start_time": "2022-06-13T16:37:42.188Z"
   },
   {
    "duration": 6,
    "start_time": "2022-06-13T16:37:42.672Z"
   },
   {
    "duration": 83,
    "start_time": "2022-06-13T16:37:42.879Z"
   },
   {
    "duration": 50,
    "start_time": "2022-06-13T16:37:43.125Z"
   },
   {
    "duration": 34,
    "start_time": "2022-06-13T16:37:43.581Z"
   },
   {
    "duration": 6,
    "start_time": "2022-06-13T16:37:44.128Z"
   },
   {
    "duration": 6,
    "start_time": "2022-06-13T16:37:44.388Z"
   },
   {
    "duration": 17,
    "start_time": "2022-06-13T16:37:44.735Z"
   },
   {
    "duration": 17,
    "start_time": "2022-06-13T16:37:45.101Z"
   },
   {
    "duration": 14,
    "start_time": "2022-06-13T16:37:45.404Z"
   },
   {
    "duration": 13,
    "start_time": "2022-06-13T16:37:45.789Z"
   },
   {
    "duration": 39,
    "start_time": "2022-06-13T16:37:47.782Z"
   },
   {
    "duration": 5,
    "start_time": "2022-06-13T16:37:48.320Z"
   },
   {
    "duration": 3,
    "start_time": "2022-06-13T16:37:49.441Z"
   },
   {
    "duration": 9,
    "start_time": "2022-06-13T16:37:50.839Z"
   },
   {
    "duration": 11,
    "start_time": "2022-06-13T16:37:51.382Z"
   },
   {
    "duration": 18,
    "start_time": "2022-06-13T16:37:51.912Z"
   },
   {
    "duration": 5,
    "start_time": "2022-06-13T16:37:52.709Z"
   },
   {
    "duration": 5,
    "start_time": "2022-06-13T16:37:53.433Z"
   },
   {
    "duration": 6,
    "start_time": "2022-06-13T16:37:54.057Z"
   },
   {
    "duration": 11,
    "start_time": "2022-06-13T16:37:59.553Z"
   },
   {
    "duration": 4,
    "start_time": "2022-06-13T16:38:00.788Z"
   },
   {
    "duration": 10,
    "start_time": "2022-06-13T16:38:01.027Z"
   },
   {
    "duration": 11,
    "start_time": "2022-06-13T16:38:02.296Z"
   },
   {
    "duration": 5,
    "start_time": "2022-06-13T16:38:05.460Z"
   },
   {
    "duration": 4,
    "start_time": "2022-06-13T16:38:24.442Z"
   },
   {
    "duration": 5,
    "start_time": "2022-06-13T16:38:24.740Z"
   },
   {
    "duration": 9,
    "start_time": "2022-06-13T16:38:25.277Z"
   },
   {
    "duration": 14,
    "start_time": "2022-06-13T16:38:25.801Z"
   },
   {
    "duration": 4,
    "start_time": "2022-06-13T16:38:26.600Z"
   },
   {
    "duration": 14,
    "start_time": "2022-06-13T16:38:26.831Z"
   },
   {
    "duration": 8,
    "start_time": "2022-06-13T16:38:27.489Z"
   },
   {
    "duration": 11,
    "start_time": "2022-06-13T16:38:27.881Z"
   },
   {
    "duration": 7,
    "start_time": "2022-06-13T16:38:28.719Z"
   },
   {
    "duration": 16,
    "start_time": "2022-06-13T16:38:29.137Z"
   },
   {
    "duration": 4,
    "start_time": "2022-06-13T16:38:31.185Z"
   },
   {
    "duration": 4,
    "start_time": "2022-06-13T16:38:37.066Z"
   },
   {
    "duration": 3,
    "start_time": "2022-06-13T16:38:37.768Z"
   },
   {
    "duration": 10,
    "start_time": "2022-06-13T16:38:40.621Z"
   },
   {
    "duration": 7,
    "start_time": "2022-06-13T16:38:45.408Z"
   },
   {
    "duration": 3,
    "start_time": "2022-06-13T16:38:53.560Z"
   },
   {
    "duration": 3,
    "start_time": "2022-06-13T16:38:54.418Z"
   },
   {
    "duration": 3,
    "start_time": "2022-06-13T16:38:54.851Z"
   },
   {
    "duration": 3,
    "start_time": "2022-06-13T16:38:55.322Z"
   },
   {
    "duration": 3,
    "start_time": "2022-06-13T16:38:56.110Z"
   },
   {
    "duration": 10,
    "start_time": "2022-06-13T16:39:05.217Z"
   },
   {
    "duration": 4,
    "start_time": "2022-06-13T16:39:24.175Z"
   },
   {
    "duration": 3,
    "start_time": "2022-06-13T16:39:25.251Z"
   },
   {
    "duration": 11,
    "start_time": "2022-06-13T16:39:27.810Z"
   },
   {
    "duration": 3,
    "start_time": "2022-06-13T16:39:59.962Z"
   },
   {
    "duration": 3,
    "start_time": "2022-06-13T16:40:00.382Z"
   },
   {
    "duration": 5,
    "start_time": "2022-06-13T16:40:02.228Z"
   },
   {
    "duration": 11,
    "start_time": "2022-06-13T16:40:02.661Z"
   },
   {
    "duration": 12,
    "start_time": "2022-06-13T16:40:14.055Z"
   },
   {
    "duration": 78,
    "start_time": "2022-06-13T16:40:14.574Z"
   },
   {
    "duration": 3,
    "start_time": "2022-06-13T16:40:15.016Z"
   },
   {
    "duration": 4,
    "start_time": "2022-06-13T16:40:15.236Z"
   },
   {
    "duration": 3,
    "start_time": "2022-06-13T16:40:16.260Z"
   },
   {
    "duration": 8,
    "start_time": "2022-06-13T16:40:17.826Z"
   },
   {
    "duration": 10,
    "start_time": "2022-06-13T16:40:18.069Z"
   },
   {
    "duration": 6,
    "start_time": "2022-06-13T16:40:18.316Z"
   },
   {
    "duration": 9,
    "start_time": "2022-06-13T16:40:19.726Z"
   },
   {
    "duration": 2,
    "start_time": "2022-06-13T16:50:19.150Z"
   },
   {
    "duration": 151,
    "start_time": "2022-06-13T16:50:19.676Z"
   },
   {
    "duration": 120,
    "start_time": "2022-06-13T16:50:19.953Z"
   },
   {
    "duration": 94,
    "start_time": "2022-06-13T16:50:20.234Z"
   },
   {
    "duration": 15,
    "start_time": "2022-06-13T16:50:20.478Z"
   },
   {
    "duration": 36,
    "start_time": "2022-06-13T16:50:20.715Z"
   },
   {
    "duration": 9,
    "start_time": "2022-06-13T16:50:21.223Z"
   },
   {
    "duration": 19,
    "start_time": "2022-06-13T16:50:21.460Z"
   },
   {
    "duration": 8,
    "start_time": "2022-06-13T16:50:21.939Z"
   },
   {
    "duration": 21,
    "start_time": "2022-06-13T16:50:22.180Z"
   },
   {
    "duration": 9,
    "start_time": "2022-06-13T16:50:22.666Z"
   },
   {
    "duration": 22,
    "start_time": "2022-06-13T16:50:22.927Z"
   },
   {
    "duration": 9,
    "start_time": "2022-06-13T16:50:23.429Z"
   },
   {
    "duration": 9,
    "start_time": "2022-06-13T16:50:23.939Z"
   },
   {
    "duration": 10,
    "start_time": "2022-06-13T16:50:24.271Z"
   },
   {
    "duration": 10,
    "start_time": "2022-06-13T16:50:24.523Z"
   },
   {
    "duration": 5,
    "start_time": "2022-06-13T16:50:25.458Z"
   },
   {
    "duration": 28,
    "start_time": "2022-06-13T16:50:25.877Z"
   },
   {
    "duration": 22,
    "start_time": "2022-06-13T16:50:26.173Z"
   },
   {
    "duration": 17,
    "start_time": "2022-06-13T16:50:26.384Z"
   },
   {
    "duration": 23,
    "start_time": "2022-06-13T16:50:26.865Z"
   },
   {
    "duration": 16,
    "start_time": "2022-06-13T16:50:27.267Z"
   },
   {
    "duration": 13,
    "start_time": "2022-06-13T16:50:27.473Z"
   },
   {
    "duration": 6,
    "start_time": "2022-06-13T16:50:27.839Z"
   },
   {
    "duration": 81,
    "start_time": "2022-06-13T16:50:28.086Z"
   },
   {
    "duration": 50,
    "start_time": "2022-06-13T16:50:28.515Z"
   },
   {
    "duration": 33,
    "start_time": "2022-06-13T16:50:28.724Z"
   },
   {
    "duration": 7,
    "start_time": "2022-06-13T16:50:29.319Z"
   },
   {
    "duration": 6,
    "start_time": "2022-06-13T16:50:29.537Z"
   },
   {
    "duration": 16,
    "start_time": "2022-06-13T16:50:29.767Z"
   },
   {
    "duration": 17,
    "start_time": "2022-06-13T16:50:30.346Z"
   },
   {
    "duration": 14,
    "start_time": "2022-06-13T16:50:30.553Z"
   },
   {
    "duration": 14,
    "start_time": "2022-06-13T16:50:30.784Z"
   },
   {
    "duration": 53,
    "start_time": "2022-06-13T16:50:31.788Z"
   },
   {
    "duration": 5,
    "start_time": "2022-06-13T16:50:32.251Z"
   },
   {
    "duration": 5,
    "start_time": "2022-06-13T16:50:32.769Z"
   },
   {
    "duration": 13,
    "start_time": "2022-06-13T16:50:33.280Z"
   },
   {
    "duration": 17,
    "start_time": "2022-06-13T16:50:33.548Z"
   },
   {
    "duration": 25,
    "start_time": "2022-06-13T16:50:33.820Z"
   },
   {
    "duration": 6,
    "start_time": "2022-06-13T16:50:34.084Z"
   },
   {
    "duration": 5,
    "start_time": "2022-06-13T16:50:34.309Z"
   },
   {
    "duration": 9,
    "start_time": "2022-06-13T16:50:34.576Z"
   },
   {
    "duration": 17,
    "start_time": "2022-06-13T16:50:34.854Z"
   },
   {
    "duration": 5,
    "start_time": "2022-06-13T16:50:35.375Z"
   },
   {
    "duration": 12,
    "start_time": "2022-06-13T16:50:35.954Z"
   },
   {
    "duration": 11,
    "start_time": "2022-06-13T16:50:36.323Z"
   },
   {
    "duration": 5,
    "start_time": "2022-06-13T16:50:36.935Z"
   },
   {
    "duration": 4,
    "start_time": "2022-06-13T16:50:37.188Z"
   },
   {
    "duration": 4,
    "start_time": "2022-06-13T16:50:37.451Z"
   },
   {
    "duration": 8,
    "start_time": "2022-06-13T16:50:38.015Z"
   },
   {
    "duration": 14,
    "start_time": "2022-06-13T16:50:38.287Z"
   },
   {
    "duration": 4,
    "start_time": "2022-06-13T16:50:39.056Z"
   },
   {
    "duration": 13,
    "start_time": "2022-06-13T16:50:40.640Z"
   },
   {
    "duration": 8,
    "start_time": "2022-06-13T16:50:42.060Z"
   },
   {
    "duration": 10,
    "start_time": "2022-06-13T16:50:42.623Z"
   },
   {
    "duration": 7,
    "start_time": "2022-06-13T16:50:43.555Z"
   },
   {
    "duration": 16,
    "start_time": "2022-06-13T16:50:44.063Z"
   },
   {
    "duration": 3,
    "start_time": "2022-06-13T16:50:44.985Z"
   },
   {
    "duration": 3,
    "start_time": "2022-06-13T16:50:46.028Z"
   },
   {
    "duration": 153,
    "start_time": "2022-06-13T16:50:47.334Z"
   },
   {
    "duration": 3,
    "start_time": "2022-06-13T16:50:47.870Z"
   },
   {
    "duration": 3,
    "start_time": "2022-06-13T16:51:10.176Z"
   },
   {
    "duration": 4,
    "start_time": "2022-06-13T16:51:15.452Z"
   },
   {
    "duration": 2,
    "start_time": "2022-06-13T16:51:39.390Z"
   },
   {
    "duration": 2,
    "start_time": "2022-06-13T16:51:51.692Z"
   },
   {
    "duration": 142,
    "start_time": "2022-06-13T16:51:52.215Z"
   },
   {
    "duration": 112,
    "start_time": "2022-06-13T16:51:52.442Z"
   },
   {
    "duration": 77,
    "start_time": "2022-06-13T16:51:52.686Z"
   },
   {
    "duration": 14,
    "start_time": "2022-06-13T16:51:52.937Z"
   },
   {
    "duration": 25,
    "start_time": "2022-06-13T16:51:53.171Z"
   },
   {
    "duration": 1244,
    "start_time": "2022-06-13T18:47:39.369Z"
   },
   {
    "duration": 323,
    "start_time": "2022-06-13T18:47:40.616Z"
   },
   {
    "duration": 340,
    "start_time": "2022-06-13T18:47:41.022Z"
   },
   {
    "duration": 311,
    "start_time": "2022-06-13T18:47:41.645Z"
   },
   {
    "duration": 57,
    "start_time": "2022-06-13T18:47:41.958Z"
   },
   {
    "duration": 53,
    "start_time": "2022-06-13T18:47:42.120Z"
   },
   {
    "duration": 12,
    "start_time": "2022-06-13T18:47:45.096Z"
   },
   {
    "duration": 27,
    "start_time": "2022-06-13T18:47:45.442Z"
   },
   {
    "duration": 12,
    "start_time": "2022-06-13T18:47:46.369Z"
   },
   {
    "duration": 22,
    "start_time": "2022-06-13T18:47:46.618Z"
   },
   {
    "duration": 12,
    "start_time": "2022-06-13T18:47:47.030Z"
   },
   {
    "duration": 18,
    "start_time": "2022-06-13T18:47:47.289Z"
   },
   {
    "duration": 9,
    "start_time": "2022-06-13T18:47:47.755Z"
   },
   {
    "duration": 11,
    "start_time": "2022-06-13T18:47:47.985Z"
   },
   {
    "duration": 11,
    "start_time": "2022-06-13T18:47:48.249Z"
   },
   {
    "duration": 16,
    "start_time": "2022-06-13T18:47:48.528Z"
   },
   {
    "duration": 6,
    "start_time": "2022-06-13T18:47:49.525Z"
   },
   {
    "duration": 50,
    "start_time": "2022-06-13T18:47:49.973Z"
   },
   {
    "duration": 24,
    "start_time": "2022-06-13T18:47:50.221Z"
   },
   {
    "duration": 34,
    "start_time": "2022-06-13T18:47:50.454Z"
   },
   {
    "duration": 28,
    "start_time": "2022-06-13T18:47:50.936Z"
   },
   {
    "duration": 17,
    "start_time": "2022-06-13T18:47:51.198Z"
   },
   {
    "duration": 15,
    "start_time": "2022-06-13T18:47:51.672Z"
   },
   {
    "duration": 8,
    "start_time": "2022-06-13T18:47:52.142Z"
   },
   {
    "duration": 108,
    "start_time": "2022-06-13T18:47:52.382Z"
   },
   {
    "duration": 62,
    "start_time": "2022-06-13T18:47:52.626Z"
   },
   {
    "duration": 41,
    "start_time": "2022-06-13T18:47:52.848Z"
   },
   {
    "duration": 7,
    "start_time": "2022-06-13T18:47:53.314Z"
   },
   {
    "duration": 9,
    "start_time": "2022-06-13T18:47:53.585Z"
   },
   {
    "duration": 31,
    "start_time": "2022-06-13T18:47:53.797Z"
   },
   {
    "duration": 31,
    "start_time": "2022-06-13T18:47:54.055Z"
   },
   {
    "duration": 25,
    "start_time": "2022-06-13T18:47:54.276Z"
   },
   {
    "duration": 26,
    "start_time": "2022-06-13T18:47:54.526Z"
   },
   {
    "duration": 54,
    "start_time": "2022-06-13T18:47:55.715Z"
   },
   {
    "duration": 5,
    "start_time": "2022-06-13T18:47:55.968Z"
   },
   {
    "duration": 5,
    "start_time": "2022-06-13T18:47:56.220Z"
   },
   {
    "duration": 16,
    "start_time": "2022-06-13T18:47:56.721Z"
   },
   {
    "duration": 19,
    "start_time": "2022-06-13T18:47:56.968Z"
   },
   {
    "duration": 26,
    "start_time": "2022-06-13T18:47:57.218Z"
   },
   {
    "duration": 7,
    "start_time": "2022-06-13T18:47:57.447Z"
   },
   {
    "duration": 5,
    "start_time": "2022-06-13T18:47:57.714Z"
   },
   {
    "duration": 7,
    "start_time": "2022-06-13T18:47:58.232Z"
   },
   {
    "duration": 12,
    "start_time": "2022-06-13T18:47:58.502Z"
   },
   {
    "duration": 5,
    "start_time": "2022-06-13T18:47:59.069Z"
   },
   {
    "duration": 11,
    "start_time": "2022-06-13T18:47:59.322Z"
   },
   {
    "duration": 16,
    "start_time": "2022-06-13T18:47:59.613Z"
   },
   {
    "duration": 5,
    "start_time": "2022-06-13T18:48:00.404Z"
   },
   {
    "duration": 4,
    "start_time": "2022-06-13T18:48:00.719Z"
   },
   {
    "duration": 5,
    "start_time": "2022-06-13T18:48:00.992Z"
   },
   {
    "duration": 9,
    "start_time": "2022-06-13T18:48:01.509Z"
   },
   {
    "duration": 21,
    "start_time": "2022-06-13T18:48:01.770Z"
   },
   {
    "duration": 4,
    "start_time": "2022-06-13T18:48:02.512Z"
   },
   {
    "duration": 24,
    "start_time": "2022-06-13T18:48:02.791Z"
   },
   {
    "duration": 13,
    "start_time": "2022-06-13T18:48:03.536Z"
   },
   {
    "duration": 18,
    "start_time": "2022-06-13T18:48:04.119Z"
   },
   {
    "duration": 10,
    "start_time": "2022-06-13T18:48:04.983Z"
   },
   {
    "duration": 19,
    "start_time": "2022-06-13T18:48:05.207Z"
   },
   {
    "duration": 6,
    "start_time": "2022-06-13T18:48:05.835Z"
   },
   {
    "duration": 2,
    "start_time": "2022-06-13T18:48:06.706Z"
   },
   {
    "duration": 125,
    "start_time": "2022-06-13T18:48:08.142Z"
   },
   {
    "duration": 4,
    "start_time": "2022-06-13T18:48:26.416Z"
   },
   {
    "duration": 4,
    "start_time": "2022-06-13T18:48:32.462Z"
   },
   {
    "duration": 20,
    "start_time": "2022-06-13T18:48:53.939Z"
   },
   {
    "duration": 19,
    "start_time": "2022-06-13T18:56:09.739Z"
   },
   {
    "duration": 14,
    "start_time": "2022-06-13T18:56:10.149Z"
   },
   {
    "duration": 9,
    "start_time": "2022-06-13T18:56:10.561Z"
   },
   {
    "duration": 3,
    "start_time": "2022-06-13T18:56:10.970Z"
   },
   {
    "duration": 4,
    "start_time": "2022-06-13T18:59:35.052Z"
   },
   {
    "duration": 4,
    "start_time": "2022-06-13T18:59:35.377Z"
   },
   {
    "duration": 4,
    "start_time": "2022-06-13T18:59:35.578Z"
   },
   {
    "duration": 5,
    "start_time": "2022-06-13T18:59:36.206Z"
   },
   {
    "duration": 26,
    "start_time": "2022-06-13T18:59:36.461Z"
   },
   {
    "duration": 6,
    "start_time": "2022-06-13T18:59:37.550Z"
   },
   {
    "duration": 4,
    "start_time": "2022-06-13T18:59:41.612Z"
   },
   {
    "duration": 11,
    "start_time": "2022-06-13T18:59:42.372Z"
   },
   {
    "duration": 4,
    "start_time": "2022-06-13T18:59:43.780Z"
   },
   {
    "duration": 4,
    "start_time": "2022-06-13T18:59:44.373Z"
   },
   {
    "duration": 5,
    "start_time": "2022-06-13T18:59:45.118Z"
   },
   {
    "duration": 13,
    "start_time": "2022-06-13T18:59:46.048Z"
   },
   {
    "duration": 66,
    "start_time": "2022-06-13T18:59:47.691Z"
   },
   {
    "duration": 4,
    "start_time": "2022-06-13T18:59:48.664Z"
   },
   {
    "duration": 6,
    "start_time": "2022-06-13T18:59:49.031Z"
   },
   {
    "duration": 3,
    "start_time": "2022-06-13T18:59:49.506Z"
   },
   {
    "duration": 7,
    "start_time": "2022-06-13T18:59:51.866Z"
   },
   {
    "duration": 15,
    "start_time": "2022-06-13T18:59:52.348Z"
   },
   {
    "duration": 6,
    "start_time": "2022-06-13T18:59:53.925Z"
   },
   {
    "duration": 11,
    "start_time": "2022-06-13T18:59:54.299Z"
   },
   {
    "duration": 6,
    "start_time": "2022-06-13T18:59:55.353Z"
   },
   {
    "duration": 4,
    "start_time": "2022-06-13T18:59:55.913Z"
   },
   {
    "duration": 5,
    "start_time": "2022-06-13T18:59:56.994Z"
   },
   {
    "duration": 4,
    "start_time": "2022-06-13T18:59:57.543Z"
   },
   {
    "duration": 5,
    "start_time": "2022-06-13T18:59:58.126Z"
   },
   {
    "duration": 6,
    "start_time": "2022-06-13T18:59:59.939Z"
   },
   {
    "duration": 7,
    "start_time": "2022-06-13T19:00:00.326Z"
   },
   {
    "duration": 4,
    "start_time": "2022-06-13T19:00:00.780Z"
   },
   {
    "duration": 232,
    "start_time": "2022-06-13T19:00:02.260Z"
   },
   {
    "duration": 243,
    "start_time": "2022-06-13T19:00:03.874Z"
   },
   {
    "duration": 5,
    "start_time": "2022-06-13T19:00:05.684Z"
   },
   {
    "duration": 6,
    "start_time": "2022-06-13T19:00:06.248Z"
   },
   {
    "duration": 4,
    "start_time": "2022-06-13T19:00:15.091Z"
   },
   {
    "duration": 6,
    "start_time": "2022-06-13T19:00:15.682Z"
   },
   {
    "duration": 4,
    "start_time": "2022-06-13T19:00:18.032Z"
   },
   {
    "duration": 5,
    "start_time": "2022-06-13T19:00:18.881Z"
   },
   {
    "duration": 5,
    "start_time": "2022-06-13T19:00:20.166Z"
   },
   {
    "duration": 5,
    "start_time": "2022-06-13T19:00:20.812Z"
   },
   {
    "duration": 5,
    "start_time": "2022-06-13T19:00:21.370Z"
   },
   {
    "duration": 5,
    "start_time": "2022-06-13T19:00:21.793Z"
   },
   {
    "duration": 5,
    "start_time": "2022-06-13T19:00:22.270Z"
   },
   {
    "duration": 4,
    "start_time": "2022-06-13T19:00:22.766Z"
   },
   {
    "duration": 187,
    "start_time": "2022-06-13T19:00:24.669Z"
   },
   {
    "duration": 197,
    "start_time": "2022-06-13T19:00:35.800Z"
   },
   {
    "duration": 196,
    "start_time": "2022-06-13T19:00:51.693Z"
   },
   {
    "duration": 209,
    "start_time": "2022-06-13T19:01:02.133Z"
   },
   {
    "duration": 12,
    "start_time": "2022-06-13T19:14:31.531Z"
   },
   {
    "duration": 4,
    "start_time": "2022-06-13T19:15:10.744Z"
   },
   {
    "duration": 4,
    "start_time": "2022-06-13T19:17:13.328Z"
   },
   {
    "duration": 4,
    "start_time": "2022-06-13T19:33:02.723Z"
   },
   {
    "duration": 12,
    "start_time": "2022-06-13T19:33:50.925Z"
   },
   {
    "duration": 5,
    "start_time": "2022-06-13T19:34:31.203Z"
   },
   {
    "duration": 4,
    "start_time": "2022-06-13T19:43:31.637Z"
   },
   {
    "duration": 5,
    "start_time": "2022-06-13T19:57:26.781Z"
   },
   {
    "duration": 15,
    "start_time": "2022-06-13T19:57:27.275Z"
   },
   {
    "duration": 5,
    "start_time": "2022-06-13T19:57:28.025Z"
   },
   {
    "duration": 6,
    "start_time": "2022-06-13T19:57:29.508Z"
   },
   {
    "duration": 5,
    "start_time": "2022-06-13T19:57:30.014Z"
   },
   {
    "duration": 4,
    "start_time": "2022-06-13T19:57:31.265Z"
   },
   {
    "duration": 5,
    "start_time": "2022-06-13T19:57:32.561Z"
   },
   {
    "duration": 4,
    "start_time": "2022-06-13T19:57:33.921Z"
   },
   {
    "duration": 5,
    "start_time": "2022-06-13T19:57:37.003Z"
   },
   {
    "duration": 210,
    "start_time": "2022-06-13T20:04:01.139Z"
   },
   {
    "duration": 173,
    "start_time": "2022-06-13T20:04:21.491Z"
   },
   {
    "duration": 180,
    "start_time": "2022-06-13T20:04:27.891Z"
   },
   {
    "duration": 256,
    "start_time": "2022-06-13T20:04:34.514Z"
   },
   {
    "duration": 191,
    "start_time": "2022-06-13T20:04:39.723Z"
   },
   {
    "duration": 171,
    "start_time": "2022-06-13T20:05:35.691Z"
   },
   {
    "duration": 193,
    "start_time": "2022-06-13T20:06:01.798Z"
   },
   {
    "duration": 189,
    "start_time": "2022-06-13T20:06:13.537Z"
   },
   {
    "duration": 168,
    "start_time": "2022-06-13T20:06:24.070Z"
   },
   {
    "duration": 14,
    "start_time": "2022-06-13T20:38:53.608Z"
   },
   {
    "duration": 1098,
    "start_time": "2022-06-14T12:19:54.793Z"
   },
   {
    "duration": 538,
    "start_time": "2022-06-14T12:19:55.894Z"
   },
   {
    "duration": 399,
    "start_time": "2022-06-14T12:19:56.434Z"
   },
   {
    "duration": 170,
    "start_time": "2022-06-14T12:19:56.834Z"
   },
   {
    "duration": 60,
    "start_time": "2022-06-14T12:19:57.006Z"
   },
   {
    "duration": 65,
    "start_time": "2022-06-14T12:19:57.068Z"
   },
   {
    "duration": 11,
    "start_time": "2022-06-14T12:19:57.135Z"
   },
   {
    "duration": 48,
    "start_time": "2022-06-14T12:19:57.148Z"
   },
   {
    "duration": 9,
    "start_time": "2022-06-14T12:19:57.198Z"
   },
   {
    "duration": 38,
    "start_time": "2022-06-14T12:19:57.209Z"
   },
   {
    "duration": 7,
    "start_time": "2022-06-14T12:19:57.249Z"
   },
   {
    "duration": 45,
    "start_time": "2022-06-14T12:19:57.257Z"
   },
   {
    "duration": 20,
    "start_time": "2022-06-14T12:19:57.304Z"
   },
   {
    "duration": 36,
    "start_time": "2022-06-14T12:19:57.328Z"
   },
   {
    "duration": 28,
    "start_time": "2022-06-14T12:19:57.365Z"
   },
   {
    "duration": 26,
    "start_time": "2022-06-14T12:19:57.395Z"
   },
   {
    "duration": 13,
    "start_time": "2022-06-14T12:19:57.423Z"
   },
   {
    "duration": 52,
    "start_time": "2022-06-14T12:19:57.437Z"
   },
   {
    "duration": 27,
    "start_time": "2022-06-14T12:19:57.490Z"
   },
   {
    "duration": 27,
    "start_time": "2022-06-14T12:19:57.518Z"
   },
   {
    "duration": 27,
    "start_time": "2022-06-14T12:19:57.547Z"
   },
   {
    "duration": 18,
    "start_time": "2022-06-14T12:19:57.576Z"
   },
   {
    "duration": 29,
    "start_time": "2022-06-14T12:19:57.596Z"
   },
   {
    "duration": 8,
    "start_time": "2022-06-14T12:19:57.626Z"
   },
   {
    "duration": 114,
    "start_time": "2022-06-14T12:19:57.635Z"
   },
   {
    "duration": 72,
    "start_time": "2022-06-14T12:19:57.751Z"
   },
   {
    "duration": 57,
    "start_time": "2022-06-14T12:19:57.825Z"
   },
   {
    "duration": 7,
    "start_time": "2022-06-14T12:19:57.896Z"
   },
   {
    "duration": 18,
    "start_time": "2022-06-14T12:19:57.905Z"
   },
   {
    "duration": 28,
    "start_time": "2022-06-14T12:19:57.924Z"
   },
   {
    "duration": 15,
    "start_time": "2022-06-14T12:19:57.953Z"
   },
   {
    "duration": 21,
    "start_time": "2022-06-14T12:19:57.969Z"
   },
   {
    "duration": 18,
    "start_time": "2022-06-14T12:19:57.992Z"
   },
   {
    "duration": 48,
    "start_time": "2022-06-14T12:19:58.011Z"
   },
   {
    "duration": 34,
    "start_time": "2022-06-14T12:19:58.061Z"
   },
   {
    "duration": 9,
    "start_time": "2022-06-14T12:19:58.096Z"
   },
   {
    "duration": 28,
    "start_time": "2022-06-14T12:19:58.107Z"
   },
   {
    "duration": 21,
    "start_time": "2022-06-14T12:19:58.137Z"
   },
   {
    "duration": 33,
    "start_time": "2022-06-14T12:19:58.159Z"
   },
   {
    "duration": 11,
    "start_time": "2022-06-14T12:19:58.194Z"
   },
   {
    "duration": 16,
    "start_time": "2022-06-14T12:19:58.210Z"
   },
   {
    "duration": 29,
    "start_time": "2022-06-14T12:19:58.228Z"
   },
   {
    "duration": 23,
    "start_time": "2022-06-14T12:19:58.259Z"
   },
   {
    "duration": 42,
    "start_time": "2022-06-14T12:19:58.283Z"
   },
   {
    "duration": 39,
    "start_time": "2022-06-14T12:19:58.327Z"
   },
   {
    "duration": 18,
    "start_time": "2022-06-14T12:19:58.368Z"
   },
   {
    "duration": 15,
    "start_time": "2022-06-14T12:19:58.388Z"
   },
   {
    "duration": 21,
    "start_time": "2022-06-14T12:19:58.405Z"
   },
   {
    "duration": 22,
    "start_time": "2022-06-14T12:19:58.428Z"
   },
   {
    "duration": 39,
    "start_time": "2022-06-14T12:19:58.451Z"
   },
   {
    "duration": 24,
    "start_time": "2022-06-14T12:19:58.491Z"
   },
   {
    "duration": 16,
    "start_time": "2022-06-14T12:19:58.517Z"
   },
   {
    "duration": 18,
    "start_time": "2022-06-14T12:19:58.534Z"
   },
   {
    "duration": 12,
    "start_time": "2022-06-14T12:19:58.554Z"
   },
   {
    "duration": 15,
    "start_time": "2022-06-14T12:19:58.567Z"
   },
   {
    "duration": 33,
    "start_time": "2022-06-14T12:19:58.590Z"
   },
   {
    "duration": 16,
    "start_time": "2022-06-14T12:19:58.624Z"
   },
   {
    "duration": 14,
    "start_time": "2022-06-14T12:19:58.642Z"
   },
   {
    "duration": 18,
    "start_time": "2022-06-14T12:19:58.658Z"
   },
   {
    "duration": 12,
    "start_time": "2022-06-14T12:19:58.683Z"
   },
   {
    "duration": 26,
    "start_time": "2022-06-14T12:19:58.696Z"
   },
   {
    "duration": 12,
    "start_time": "2022-06-14T12:19:58.724Z"
   },
   {
    "duration": 12,
    "start_time": "2022-06-14T12:19:58.738Z"
   },
   {
    "duration": 22,
    "start_time": "2022-06-14T12:19:58.751Z"
   },
   {
    "duration": 23,
    "start_time": "2022-06-14T12:19:58.774Z"
   },
   {
    "duration": 45,
    "start_time": "2022-06-14T12:19:58.800Z"
   },
   {
    "duration": 11,
    "start_time": "2022-06-14T12:19:58.846Z"
   },
   {
    "duration": 8,
    "start_time": "2022-06-14T12:19:58.859Z"
   },
   {
    "duration": 21,
    "start_time": "2022-06-14T12:19:58.868Z"
   },
   {
    "duration": 14,
    "start_time": "2022-06-14T12:19:58.892Z"
   },
   {
    "duration": 13,
    "start_time": "2022-06-14T12:19:58.907Z"
   },
   {
    "duration": 31,
    "start_time": "2022-06-14T12:19:58.921Z"
   },
   {
    "duration": 47,
    "start_time": "2022-06-14T12:19:58.953Z"
   },
   {
    "duration": 88,
    "start_time": "2022-06-14T12:19:59.002Z"
   },
   {
    "duration": 6,
    "start_time": "2022-06-14T12:19:59.092Z"
   },
   {
    "duration": 30,
    "start_time": "2022-06-14T12:19:59.099Z"
   },
   {
    "duration": 22,
    "start_time": "2022-06-14T12:19:59.130Z"
   },
   {
    "duration": 18,
    "start_time": "2022-06-14T12:19:59.154Z"
   },
   {
    "duration": 29,
    "start_time": "2022-06-14T12:19:59.173Z"
   },
   {
    "duration": 27,
    "start_time": "2022-06-14T12:19:59.204Z"
   },
   {
    "duration": 33,
    "start_time": "2022-06-14T12:19:59.233Z"
   },
   {
    "duration": 24,
    "start_time": "2022-06-14T12:19:59.268Z"
   },
   {
    "duration": 16,
    "start_time": "2022-06-14T12:19:59.294Z"
   },
   {
    "duration": 7,
    "start_time": "2022-06-14T12:19:59.311Z"
   },
   {
    "duration": 29,
    "start_time": "2022-06-14T12:19:59.320Z"
   },
   {
    "duration": 18,
    "start_time": "2022-06-14T12:19:59.350Z"
   },
   {
    "duration": 23,
    "start_time": "2022-06-14T12:19:59.369Z"
   },
   {
    "duration": 201,
    "start_time": "2022-06-14T12:19:59.394Z"
   },
   {
    "duration": 171,
    "start_time": "2022-06-14T12:19:59.596Z"
   },
   {
    "duration": 5,
    "start_time": "2022-06-14T12:19:59.768Z"
   },
   {
    "duration": 27,
    "start_time": "2022-06-14T12:19:59.774Z"
   },
   {
    "duration": 10,
    "start_time": "2022-06-14T12:19:59.803Z"
   },
   {
    "duration": 8,
    "start_time": "2022-06-14T12:19:59.814Z"
   },
   {
    "duration": 17,
    "start_time": "2022-06-14T12:19:59.824Z"
   },
   {
    "duration": 23,
    "start_time": "2022-06-14T12:19:59.842Z"
   },
   {
    "duration": 28,
    "start_time": "2022-06-14T12:19:59.866Z"
   },
   {
    "duration": 15,
    "start_time": "2022-06-14T12:19:59.896Z"
   },
   {
    "duration": 14,
    "start_time": "2022-06-14T12:19:59.912Z"
   },
   {
    "duration": 10,
    "start_time": "2022-06-14T12:19:59.928Z"
   },
   {
    "duration": 29,
    "start_time": "2022-06-14T12:19:59.940Z"
   },
   {
    "duration": 19,
    "start_time": "2022-06-14T12:19:59.970Z"
   },
   {
    "duration": 203,
    "start_time": "2022-06-14T12:19:59.990Z"
   },
   {
    "duration": 11,
    "start_time": "2022-06-14T12:20:00.195Z"
   },
   {
    "duration": 53,
    "start_time": "2022-06-14T12:20:00.208Z"
   },
   {
    "duration": 29,
    "start_time": "2022-06-14T12:20:00.262Z"
   },
   {
    "duration": 197,
    "start_time": "2022-06-14T12:20:00.293Z"
   },
   {
    "duration": 5,
    "start_time": "2022-06-14T12:20:00.491Z"
   },
   {
    "duration": 14,
    "start_time": "2022-06-14T12:20:00.498Z"
   },
   {
    "duration": 17,
    "start_time": "2022-06-14T12:20:00.514Z"
   },
   {
    "duration": 20,
    "start_time": "2022-06-14T12:20:00.532Z"
   },
   {
    "duration": 31,
    "start_time": "2022-06-14T12:20:00.554Z"
   },
   {
    "duration": 16,
    "start_time": "2022-06-14T12:20:00.586Z"
   },
   {
    "duration": 10,
    "start_time": "2022-06-14T12:20:00.603Z"
   },
   {
    "duration": 13,
    "start_time": "2022-06-14T12:20:00.614Z"
   },
   {
    "duration": 16,
    "start_time": "2022-06-14T12:20:00.628Z"
   },
   {
    "duration": 27,
    "start_time": "2022-06-14T12:20:00.645Z"
   },
   {
    "duration": 28,
    "start_time": "2022-06-14T12:20:00.673Z"
   },
   {
    "duration": 25,
    "start_time": "2022-06-14T12:20:00.702Z"
   },
   {
    "duration": 198,
    "start_time": "2022-06-14T12:20:00.728Z"
   },
   {
    "duration": 180,
    "start_time": "2022-06-14T12:20:00.928Z"
   },
   {
    "duration": 5,
    "start_time": "2022-06-14T12:20:01.110Z"
   },
   {
    "duration": 17,
    "start_time": "2022-06-14T12:20:01.122Z"
   },
   {
    "duration": 14,
    "start_time": "2022-06-14T12:20:01.141Z"
   },
   {
    "duration": 15,
    "start_time": "2022-06-14T12:20:01.157Z"
   },
   {
    "duration": 33,
    "start_time": "2022-06-14T12:20:01.173Z"
   },
   {
    "duration": 26,
    "start_time": "2022-06-14T12:20:01.208Z"
   },
   {
    "duration": 28,
    "start_time": "2022-06-14T12:20:01.236Z"
   },
   {
    "duration": 37,
    "start_time": "2022-06-14T12:20:01.266Z"
   },
   {
    "duration": 75,
    "start_time": "2022-06-14T12:20:01.304Z"
   },
   {
    "duration": 20,
    "start_time": "2022-06-14T12:20:01.385Z"
   },
   {
    "duration": 17,
    "start_time": "2022-06-14T12:20:01.407Z"
   },
   {
    "duration": 71,
    "start_time": "2022-06-14T12:20:01.425Z"
   },
   {
    "duration": 9,
    "start_time": "2022-06-14T12:20:01.498Z"
   },
   {
    "duration": 28,
    "start_time": "2022-06-14T12:20:01.508Z"
   },
   {
    "duration": 39,
    "start_time": "2022-06-14T12:20:01.537Z"
   },
   {
    "duration": 31,
    "start_time": "2022-06-14T12:20:01.578Z"
   },
   {
    "duration": 7,
    "start_time": "2022-06-14T12:20:01.611Z"
   },
   {
    "duration": 43,
    "start_time": "2022-06-14T12:20:01.620Z"
   },
   {
    "duration": 37,
    "start_time": "2022-06-14T12:20:01.665Z"
   },
   {
    "duration": 4,
    "start_time": "2022-06-14T12:43:22.648Z"
   },
   {
    "duration": 9,
    "start_time": "2022-06-14T12:44:18.778Z"
   },
   {
    "duration": 19,
    "start_time": "2022-06-14T12:47:03.331Z"
   },
   {
    "duration": 10,
    "start_time": "2022-06-14T12:47:37.879Z"
   },
   {
    "duration": 9,
    "start_time": "2022-06-14T12:48:01.043Z"
   },
   {
    "duration": 1097,
    "start_time": "2022-06-15T00:24:39.288Z"
   },
   {
    "duration": 277,
    "start_time": "2022-06-15T00:24:40.388Z"
   },
   {
    "duration": 300,
    "start_time": "2022-06-15T00:24:40.667Z"
   },
   {
    "duration": 298,
    "start_time": "2022-06-15T00:24:40.969Z"
   },
   {
    "duration": 59,
    "start_time": "2022-06-15T00:24:41.269Z"
   },
   {
    "duration": 54,
    "start_time": "2022-06-15T00:24:41.330Z"
   },
   {
    "duration": 13,
    "start_time": "2022-06-15T00:24:41.467Z"
   },
   {
    "duration": 22,
    "start_time": "2022-06-15T00:24:41.768Z"
   },
   {
    "duration": 10,
    "start_time": "2022-06-15T00:24:42.273Z"
   },
   {
    "duration": 19,
    "start_time": "2022-06-15T00:24:43.110Z"
   },
   {
    "duration": 9,
    "start_time": "2022-06-15T00:24:43.824Z"
   },
   {
    "duration": 20,
    "start_time": "2022-06-15T00:24:44.127Z"
   },
   {
    "duration": 11,
    "start_time": "2022-06-15T00:24:45.210Z"
   },
   {
    "duration": 9,
    "start_time": "2022-06-15T00:24:45.751Z"
   },
   {
    "duration": 11,
    "start_time": "2022-06-15T00:24:46.176Z"
   },
   {
    "duration": 11,
    "start_time": "2022-06-15T00:24:46.656Z"
   },
   {
    "duration": 4,
    "start_time": "2022-06-15T00:24:48.207Z"
   },
   {
    "duration": 34,
    "start_time": "2022-06-15T00:24:48.473Z"
   },
   {
    "duration": 24,
    "start_time": "2022-06-15T00:24:48.695Z"
   },
   {
    "duration": 30,
    "start_time": "2022-06-15T00:24:48.922Z"
   },
   {
    "duration": 27,
    "start_time": "2022-06-15T00:24:49.601Z"
   },
   {
    "duration": 18,
    "start_time": "2022-06-15T00:24:49.979Z"
   },
   {
    "duration": 16,
    "start_time": "2022-06-15T00:24:50.311Z"
   },
   {
    "duration": 7,
    "start_time": "2022-06-15T00:24:50.981Z"
   },
   {
    "duration": 104,
    "start_time": "2022-06-15T00:24:51.287Z"
   },
   {
    "duration": 67,
    "start_time": "2022-06-15T00:24:51.573Z"
   },
   {
    "duration": 43,
    "start_time": "2022-06-15T00:24:51.834Z"
   },
   {
    "duration": 7,
    "start_time": "2022-06-15T00:24:53.979Z"
   },
   {
    "duration": 9,
    "start_time": "2022-06-15T00:24:54.869Z"
   },
   {
    "duration": 20,
    "start_time": "2022-06-15T00:24:55.461Z"
   },
   {
    "duration": 19,
    "start_time": "2022-06-15T00:24:55.871Z"
   },
   {
    "duration": 16,
    "start_time": "2022-06-15T00:24:56.295Z"
   },
   {
    "duration": 16,
    "start_time": "2022-06-15T00:24:56.733Z"
   },
   {
    "duration": 233,
    "start_time": "2022-06-15T00:27:42.047Z"
   },
   {
    "duration": 40,
    "start_time": "2022-06-15T00:29:03.560Z"
   },
   {
    "duration": 22,
    "start_time": "2022-06-15T00:29:11.246Z"
   },
   {
    "duration": 1239,
    "start_time": "2022-06-20T01:29:34.056Z"
   },
   {
    "duration": 282,
    "start_time": "2022-06-20T01:29:35.297Z"
   },
   {
    "duration": 302,
    "start_time": "2022-06-20T01:29:35.581Z"
   },
   {
    "duration": 616,
    "start_time": "2022-06-20T01:29:35.885Z"
   },
   {
    "duration": 67,
    "start_time": "2022-06-20T01:29:36.503Z"
   },
   {
    "duration": 55,
    "start_time": "2022-06-20T01:29:36.571Z"
   },
   {
    "duration": 13,
    "start_time": "2022-06-20T01:29:36.628Z"
   },
   {
    "duration": 25,
    "start_time": "2022-06-20T01:29:36.642Z"
   },
   {
    "duration": 9,
    "start_time": "2022-06-20T01:29:37.316Z"
   },
   {
    "duration": 19,
    "start_time": "2022-06-20T01:29:37.539Z"
   },
   {
    "duration": 8,
    "start_time": "2022-06-20T01:29:38.205Z"
   },
   {
    "duration": 16,
    "start_time": "2022-06-20T01:29:38.486Z"
   },
   {
    "duration": 7,
    "start_time": "2022-06-20T01:29:39.523Z"
   },
   {
    "duration": 11,
    "start_time": "2022-06-20T01:29:39.532Z"
   },
   {
    "duration": 10,
    "start_time": "2022-06-20T01:29:39.578Z"
   },
   {
    "duration": 10,
    "start_time": "2022-06-20T01:29:39.858Z"
   },
   {
    "duration": 4,
    "start_time": "2022-06-20T01:29:41.098Z"
   },
   {
    "duration": 31,
    "start_time": "2022-06-20T01:29:41.394Z"
   },
   {
    "duration": 23,
    "start_time": "2022-06-20T01:29:41.682Z"
   },
   {
    "duration": 19,
    "start_time": "2022-06-20T01:29:41.948Z"
   },
   {
    "duration": 24,
    "start_time": "2022-06-20T01:29:42.481Z"
   },
   {
    "duration": 17,
    "start_time": "2022-06-20T01:29:42.754Z"
   },
   {
    "duration": 14,
    "start_time": "2022-06-20T01:29:43.044Z"
   },
   {
    "duration": 8,
    "start_time": "2022-06-20T01:29:43.528Z"
   },
   {
    "duration": 93,
    "start_time": "2022-06-20T01:29:44.011Z"
   },
   {
    "duration": 61,
    "start_time": "2022-06-20T01:29:44.271Z"
   },
   {
    "duration": 43,
    "start_time": "2022-06-20T01:29:44.527Z"
   },
   {
    "duration": 6,
    "start_time": "2022-06-20T01:29:45.347Z"
   },
   {
    "duration": 6,
    "start_time": "2022-06-20T01:29:45.620Z"
   },
   {
    "duration": 19,
    "start_time": "2022-06-20T01:29:45.902Z"
   },
   {
    "duration": 17,
    "start_time": "2022-06-20T01:29:46.176Z"
   },
   {
    "duration": 13,
    "start_time": "2022-06-20T01:29:46.431Z"
   },
   {
    "duration": 6,
    "start_time": "2022-06-20T01:29:48.021Z"
   },
   {
    "duration": 7,
    "start_time": "2022-06-20T01:29:48.319Z"
   },
   {
    "duration": 16,
    "start_time": "2022-06-20T01:29:48.622Z"
   },
   {
    "duration": 17,
    "start_time": "2022-06-20T01:29:48.847Z"
   },
   {
    "duration": 14,
    "start_time": "2022-06-20T01:29:58.732Z"
   },
   {
    "duration": 14,
    "start_time": "2022-06-20T01:29:59.073Z"
   },
   {
    "duration": 211,
    "start_time": "2022-06-20T01:29:59.376Z"
   },
   {
    "duration": 18,
    "start_time": "2022-06-20T01:29:59.589Z"
   },
   {
    "duration": 185,
    "start_time": "2022-06-20T01:31:11.290Z"
   },
   {
    "duration": 194,
    "start_time": "2022-06-20T01:31:20.755Z"
   },
   {
    "duration": 185,
    "start_time": "2022-06-20T01:31:29.096Z"
   },
   {
    "duration": 144,
    "start_time": "2022-06-20T01:34:49.178Z"
   },
   {
    "duration": 87,
    "start_time": "2022-06-20T01:34:58.032Z"
   },
   {
    "duration": 124,
    "start_time": "2022-06-20T01:37:38.961Z"
   },
   {
    "duration": 183,
    "start_time": "2022-06-20T01:37:51.472Z"
   },
   {
    "duration": 184,
    "start_time": "2022-06-20T01:38:04.913Z"
   },
   {
    "duration": 250,
    "start_time": "2022-06-20T01:38:13.361Z"
   },
   {
    "duration": 15,
    "start_time": "2022-06-20T01:38:29.141Z"
   },
   {
    "duration": 4,
    "start_time": "2022-06-20T01:38:53.126Z"
   },
   {
    "duration": 12,
    "start_time": "2022-06-20T01:41:21.544Z"
   },
   {
    "duration": 14,
    "start_time": "2022-06-20T01:42:19.996Z"
   },
   {
    "duration": 14,
    "start_time": "2022-06-20T01:42:28.682Z"
   },
   {
    "duration": 4,
    "start_time": "2022-06-20T01:44:05.058Z"
   },
   {
    "duration": 6,
    "start_time": "2022-06-20T01:45:04.653Z"
   },
   {
    "duration": 89,
    "start_time": "2022-06-20T01:48:49.201Z"
   },
   {
    "duration": 8,
    "start_time": "2022-06-20T01:48:49.662Z"
   },
   {
    "duration": 4,
    "start_time": "2022-06-20T01:49:34.377Z"
   },
   {
    "duration": 11,
    "start_time": "2022-06-20T01:49:40.126Z"
   },
   {
    "duration": 9,
    "start_time": "2022-06-20T01:50:09.673Z"
   },
   {
    "duration": 6,
    "start_time": "2022-06-20T01:51:19.146Z"
   },
   {
    "duration": 5,
    "start_time": "2022-06-20T01:51:24.809Z"
   },
   {
    "duration": 49,
    "start_time": "2022-06-20T01:51:29.393Z"
   },
   {
    "duration": 6,
    "start_time": "2022-06-20T01:51:29.764Z"
   },
   {
    "duration": 5,
    "start_time": "2022-06-20T01:51:30.102Z"
   },
   {
    "duration": 15,
    "start_time": "2022-06-20T01:51:30.746Z"
   },
   {
    "duration": 18,
    "start_time": "2022-06-20T01:51:31.076Z"
   },
   {
    "duration": 23,
    "start_time": "2022-06-20T01:51:32.068Z"
   },
   {
    "duration": 4,
    "start_time": "2022-06-20T01:51:33.163Z"
   },
   {
    "duration": 4,
    "start_time": "2022-06-20T01:51:33.571Z"
   },
   {
    "duration": 6,
    "start_time": "2022-06-20T01:51:34.001Z"
   },
   {
    "duration": 11,
    "start_time": "2022-06-20T01:51:34.392Z"
   },
   {
    "duration": 4,
    "start_time": "2022-06-20T01:51:35.419Z"
   },
   {
    "duration": 12,
    "start_time": "2022-06-20T01:51:35.830Z"
   },
   {
    "duration": 15,
    "start_time": "2022-06-20T01:51:36.481Z"
   },
   {
    "duration": 5,
    "start_time": "2022-06-20T01:51:37.477Z"
   },
   {
    "duration": 5,
    "start_time": "2022-06-20T01:51:38.031Z"
   },
   {
    "duration": 5,
    "start_time": "2022-06-20T01:51:38.425Z"
   },
   {
    "duration": 8,
    "start_time": "2022-06-20T01:51:38.959Z"
   },
   {
    "duration": 15,
    "start_time": "2022-06-20T01:51:39.631Z"
   },
   {
    "duration": 4,
    "start_time": "2022-06-20T01:51:40.549Z"
   },
   {
    "duration": 10,
    "start_time": "2022-06-20T01:51:41.557Z"
   },
   {
    "duration": 11,
    "start_time": "2022-06-20T01:51:41.801Z"
   },
   {
    "duration": 7,
    "start_time": "2022-06-20T01:51:42.357Z"
   },
   {
    "duration": 20,
    "start_time": "2022-06-20T01:51:42.617Z"
   },
   {
    "duration": 12,
    "start_time": "2022-06-20T01:51:42.849Z"
   },
   {
    "duration": 6,
    "start_time": "2022-06-20T01:51:43.153Z"
   },
   {
    "duration": 3,
    "start_time": "2022-06-20T01:51:43.730Z"
   },
   {
    "duration": 801,
    "start_time": "2022-06-20T01:51:44.027Z"
   },
   {
    "duration": 0,
    "start_time": "2022-06-20T01:51:44.831Z"
   },
   {
    "duration": 0,
    "start_time": "2022-06-20T01:51:44.832Z"
   },
   {
    "duration": 3,
    "start_time": "2022-06-20T01:51:44.868Z"
   },
   {
    "duration": 18,
    "start_time": "2022-06-20T01:51:46.573Z"
   },
   {
    "duration": 898,
    "start_time": "2022-06-20T01:51:48.456Z"
   },
   {
    "duration": 0,
    "start_time": "2022-06-20T01:51:49.356Z"
   },
   {
    "duration": 11,
    "start_time": "2022-06-20T01:51:49.881Z"
   },
   {
    "duration": 12,
    "start_time": "2022-06-20T01:52:54.246Z"
   },
   {
    "duration": 19,
    "start_time": "2022-06-20T01:52:54.674Z"
   },
   {
    "duration": 31,
    "start_time": "2022-06-20T01:52:55.164Z"
   },
   {
    "duration": 5,
    "start_time": "2022-06-20T01:52:55.646Z"
   },
   {
    "duration": 6,
    "start_time": "2022-06-20T01:52:55.869Z"
   },
   {
    "duration": 8,
    "start_time": "2022-06-20T01:52:56.101Z"
   },
   {
    "duration": 12,
    "start_time": "2022-06-20T01:52:56.325Z"
   },
   {
    "duration": 3,
    "start_time": "2022-06-20T01:52:56.784Z"
   },
   {
    "duration": 12,
    "start_time": "2022-06-20T01:52:57.050Z"
   },
   {
    "duration": 15,
    "start_time": "2022-06-20T01:52:57.311Z"
   },
   {
    "duration": 5,
    "start_time": "2022-06-20T01:52:57.827Z"
   },
   {
    "duration": 3,
    "start_time": "2022-06-20T01:52:58.080Z"
   },
   {
    "duration": 6,
    "start_time": "2022-06-20T01:52:58.320Z"
   },
   {
    "duration": 9,
    "start_time": "2022-06-20T01:52:58.809Z"
   },
   {
    "duration": 14,
    "start_time": "2022-06-20T01:52:59.046Z"
   },
   {
    "duration": 3,
    "start_time": "2022-06-20T01:52:59.600Z"
   },
   {
    "duration": 10,
    "start_time": "2022-06-20T01:53:00.132Z"
   },
   {
    "duration": 13,
    "start_time": "2022-06-20T01:53:00.989Z"
   },
   {
    "duration": 8,
    "start_time": "2022-06-20T01:53:01.878Z"
   },
   {
    "duration": 16,
    "start_time": "2022-06-20T01:53:02.284Z"
   },
   {
    "duration": 14,
    "start_time": "2022-06-20T01:53:02.549Z"
   },
   {
    "duration": 9,
    "start_time": "2022-06-20T01:53:02.793Z"
   },
   {
    "duration": 4,
    "start_time": "2022-06-20T01:53:04.608Z"
   },
   {
    "duration": 4,
    "start_time": "2022-06-20T01:53:05.429Z"
   },
   {
    "duration": 4,
    "start_time": "2022-06-20T01:53:07.995Z"
   },
   {
    "duration": 1015,
    "start_time": "2022-06-20T01:53:08.708Z"
   },
   {
    "duration": 3,
    "start_time": "2022-06-20T01:53:10.058Z"
   },
   {
    "duration": 3,
    "start_time": "2022-06-20T01:53:40.173Z"
   },
   {
    "duration": 3,
    "start_time": "2022-06-20T01:53:49.625Z"
   },
   {
    "duration": 17,
    "start_time": "2022-06-20T01:53:50.867Z"
   },
   {
    "duration": 4,
    "start_time": "2022-06-20T01:53:52.483Z"
   },
   {
    "duration": 4,
    "start_time": "2022-06-20T01:53:53.104Z"
   },
   {
    "duration": 11,
    "start_time": "2022-06-20T01:53:54.286Z"
   },
   {
    "duration": 11,
    "start_time": "2022-06-20T01:54:29.129Z"
   },
   {
    "duration": 4,
    "start_time": "2022-06-20T01:54:30.057Z"
   },
   {
    "duration": 3,
    "start_time": "2022-06-20T01:54:30.365Z"
   },
   {
    "duration": 4,
    "start_time": "2022-06-20T01:54:30.645Z"
   },
   {
    "duration": 11,
    "start_time": "2022-06-20T01:54:30.949Z"
   },
   {
    "duration": 12,
    "start_time": "2022-06-20T01:54:55.304Z"
   },
   {
    "duration": 4,
    "start_time": "2022-06-20T01:58:50.258Z"
   },
   {
    "duration": 8,
    "start_time": "2022-06-20T01:59:02.899Z"
   },
   {
    "duration": 5,
    "start_time": "2022-06-20T02:01:26.163Z"
   },
   {
    "duration": 27,
    "start_time": "2022-06-20T02:03:58.120Z"
   },
   {
    "duration": 21,
    "start_time": "2022-06-20T02:04:29.413Z"
   },
   {
    "duration": 4,
    "start_time": "2022-06-20T02:05:05.723Z"
   },
   {
    "duration": 23,
    "start_time": "2022-06-20T02:05:06.343Z"
   },
   {
    "duration": 4,
    "start_time": "2022-06-20T02:07:20.642Z"
   },
   {
    "duration": 22,
    "start_time": "2022-06-20T02:07:21.219Z"
   },
   {
    "duration": 4,
    "start_time": "2022-06-20T02:07:27.616Z"
   },
   {
    "duration": 3,
    "start_time": "2022-06-20T02:07:28.096Z"
   },
   {
    "duration": 24,
    "start_time": "2022-06-20T02:07:28.679Z"
   },
   {
    "duration": 4,
    "start_time": "2022-06-20T02:08:22.961Z"
   },
   {
    "duration": 4,
    "start_time": "2022-06-20T02:08:23.446Z"
   },
   {
    "duration": 4,
    "start_time": "2022-06-20T02:08:23.887Z"
   },
   {
    "duration": 4,
    "start_time": "2022-06-20T02:08:24.411Z"
   },
   {
    "duration": 20,
    "start_time": "2022-06-20T02:08:24.923Z"
   },
   {
    "duration": 4,
    "start_time": "2022-06-20T02:09:46.209Z"
   },
   {
    "duration": 4,
    "start_time": "2022-06-20T02:09:46.626Z"
   },
   {
    "duration": 4,
    "start_time": "2022-06-20T02:09:47.073Z"
   },
   {
    "duration": 3,
    "start_time": "2022-06-20T02:09:47.575Z"
   },
   {
    "duration": 21,
    "start_time": "2022-06-20T02:09:48.052Z"
   },
   {
    "duration": 9,
    "start_time": "2022-06-20T02:10:58.317Z"
   },
   {
    "duration": 8,
    "start_time": "2022-06-20T02:10:58.941Z"
   },
   {
    "duration": 1166,
    "start_time": "2022-06-20T21:39:33.065Z"
   },
   {
    "duration": 535,
    "start_time": "2022-06-20T21:39:34.233Z"
   },
   {
    "duration": 385,
    "start_time": "2022-06-20T21:39:34.770Z"
   },
   {
    "duration": 159,
    "start_time": "2022-06-20T21:39:35.157Z"
   },
   {
    "duration": 55,
    "start_time": "2022-06-20T21:39:35.318Z"
   },
   {
    "duration": 54,
    "start_time": "2022-06-20T21:39:35.671Z"
   },
   {
    "duration": 12,
    "start_time": "2022-06-20T21:39:54.570Z"
   },
   {
    "duration": 23,
    "start_time": "2022-06-20T21:39:54.953Z"
   },
   {
    "duration": 9,
    "start_time": "2022-06-20T21:39:56.528Z"
   },
   {
    "duration": 20,
    "start_time": "2022-06-20T21:39:56.901Z"
   },
   {
    "duration": 8,
    "start_time": "2022-06-20T21:40:06.864Z"
   },
   {
    "duration": 17,
    "start_time": "2022-06-20T21:40:07.287Z"
   },
   {
    "duration": 8,
    "start_time": "2022-06-20T21:40:07.934Z"
   },
   {
    "duration": 11,
    "start_time": "2022-06-20T21:40:08.301Z"
   },
   {
    "duration": 11,
    "start_time": "2022-06-20T21:40:09.002Z"
   },
   {
    "duration": 10,
    "start_time": "2022-06-20T21:40:09.368Z"
   },
   {
    "duration": 34,
    "start_time": "2022-06-20T21:40:12.277Z"
   },
   {
    "duration": 23,
    "start_time": "2022-06-20T21:40:12.634Z"
   },
   {
    "duration": 22,
    "start_time": "2022-06-20T21:40:13.032Z"
   },
   {
    "duration": 22,
    "start_time": "2022-06-20T21:40:20.266Z"
   },
   {
    "duration": 16,
    "start_time": "2022-06-20T21:40:20.558Z"
   },
   {
    "duration": 18,
    "start_time": "2022-06-20T21:40:20.830Z"
   },
   {
    "duration": 4,
    "start_time": "2022-06-20T21:40:21.132Z"
   },
   {
    "duration": 4,
    "start_time": "2022-06-20T21:40:21.403Z"
   },
   {
    "duration": 4,
    "start_time": "2022-06-20T21:40:21.708Z"
   },
   {
    "duration": 4,
    "start_time": "2022-06-20T21:40:22.027Z"
   },
   {
    "duration": 101,
    "start_time": "2022-06-20T21:40:22.500Z"
   },
   {
    "duration": 20,
    "start_time": "2022-06-20T21:41:01.658Z"
   },
   {
    "duration": 20,
    "start_time": "2022-06-20T21:41:28.204Z"
   },
   {
    "duration": 82,
    "start_time": "2022-06-20T21:41:53.852Z"
   },
   {
    "duration": 21,
    "start_time": "2022-06-20T21:42:25.969Z"
   },
   {
    "duration": 4,
    "start_time": "2022-06-20T21:46:11.848Z"
   },
   {
    "duration": 22,
    "start_time": "2022-06-20T21:46:12.581Z"
   },
   {
    "duration": 16,
    "start_time": "2022-06-20T21:46:12.918Z"
   },
   {
    "duration": 14,
    "start_time": "2022-06-20T21:46:13.303Z"
   },
   {
    "duration": 7,
    "start_time": "2022-06-20T21:46:13.880Z"
   },
   {
    "duration": 92,
    "start_time": "2022-06-20T21:46:14.204Z"
   },
   {
    "duration": 56,
    "start_time": "2022-06-20T21:46:14.579Z"
   },
   {
    "duration": 38,
    "start_time": "2022-06-20T21:46:14.932Z"
   },
   {
    "duration": 7,
    "start_time": "2022-06-20T21:46:50.091Z"
   },
   {
    "duration": 7,
    "start_time": "2022-06-20T21:46:50.823Z"
   },
   {
    "duration": 18,
    "start_time": "2022-06-20T21:46:51.574Z"
   },
   {
    "duration": 19,
    "start_time": "2022-06-20T21:46:52.573Z"
   },
   {
    "duration": 15,
    "start_time": "2022-06-20T21:46:53.382Z"
   },
   {
    "duration": 15,
    "start_time": "2022-06-20T21:46:54.132Z"
   },
   {
    "duration": 204,
    "start_time": "2022-06-20T21:46:54.995Z"
   },
   {
    "duration": 18,
    "start_time": "2022-06-20T21:46:56.066Z"
   },
   {
    "duration": 15,
    "start_time": "2022-06-20T23:50:32.556Z"
   },
   {
    "duration": 192,
    "start_time": "2022-06-20T23:50:34.511Z"
   },
   {
    "duration": 132,
    "start_time": "2022-06-20T23:51:03.184Z"
   },
   {
    "duration": 4,
    "start_time": "2022-06-20T23:51:04.033Z"
   },
   {
    "duration": 11,
    "start_time": "2022-06-20T23:51:04.325Z"
   },
   {
    "duration": 15,
    "start_time": "2022-06-20T23:51:04.634Z"
   },
   {
    "duration": 4,
    "start_time": "2022-06-20T23:51:05.325Z"
   },
   {
    "duration": 6,
    "start_time": "2022-06-20T23:51:05.773Z"
   },
   {
    "duration": 4,
    "start_time": "2022-06-20T23:51:07.063Z"
   },
   {
    "duration": 4,
    "start_time": "2022-06-20T23:51:07.635Z"
   },
   {
    "duration": 50,
    "start_time": "2022-06-20T23:51:08.199Z"
   },
   {
    "duration": 7,
    "start_time": "2022-06-20T23:51:08.467Z"
   },
   {
    "duration": 4,
    "start_time": "2022-06-20T23:51:08.745Z"
   },
   {
    "duration": 13,
    "start_time": "2022-06-20T23:51:09.316Z"
   },
   {
    "duration": 18,
    "start_time": "2022-06-20T23:51:09.573Z"
   },
   {
    "duration": 24,
    "start_time": "2022-06-20T23:51:10.680Z"
   },
   {
    "duration": 5,
    "start_time": "2022-06-20T23:51:11.599Z"
   },
   {
    "duration": 5,
    "start_time": "2022-06-20T23:51:11.987Z"
   },
   {
    "duration": 7,
    "start_time": "2022-06-20T23:51:12.289Z"
   },
   {
    "duration": 12,
    "start_time": "2022-06-20T23:51:12.622Z"
   },
   {
    "duration": 3,
    "start_time": "2022-06-20T23:51:13.249Z"
   },
   {
    "duration": 12,
    "start_time": "2022-06-20T23:51:13.498Z"
   },
   {
    "duration": 14,
    "start_time": "2022-06-20T23:51:13.834Z"
   },
   {
    "duration": 5,
    "start_time": "2022-06-20T23:51:14.447Z"
   },
   {
    "duration": 3,
    "start_time": "2022-06-20T23:51:14.983Z"
   },
   {
    "duration": 5,
    "start_time": "2022-06-20T23:51:15.418Z"
   },
   {
    "duration": 8,
    "start_time": "2022-06-20T23:51:15.997Z"
   },
   {
    "duration": 15,
    "start_time": "2022-06-20T23:51:16.402Z"
   },
   {
    "duration": 4,
    "start_time": "2022-06-20T23:51:17.067Z"
   },
   {
    "duration": 8,
    "start_time": "2022-06-20T23:51:17.730Z"
   },
   {
    "duration": 11,
    "start_time": "2022-06-20T23:51:18.040Z"
   },
   {
    "duration": 7,
    "start_time": "2022-06-20T23:51:18.683Z"
   },
   {
    "duration": 17,
    "start_time": "2022-06-20T23:51:18.986Z"
   },
   {
    "duration": 12,
    "start_time": "2022-06-20T23:51:19.416Z"
   },
   {
    "duration": 7,
    "start_time": "2022-06-20T23:51:19.668Z"
   },
   {
    "duration": 3,
    "start_time": "2022-06-20T23:51:20.471Z"
   },
   {
    "duration": 3,
    "start_time": "2022-06-20T23:51:20.828Z"
   },
   {
    "duration": 3,
    "start_time": "2022-06-20T23:51:21.176Z"
   },
   {
    "duration": 3,
    "start_time": "2022-06-20T23:51:21.749Z"
   },
   {
    "duration": 3,
    "start_time": "2022-06-20T23:51:22.290Z"
   },
   {
    "duration": 18,
    "start_time": "2022-06-20T23:51:24.071Z"
   },
   {
    "duration": 4,
    "start_time": "2022-06-20T23:51:25.338Z"
   },
   {
    "duration": 4,
    "start_time": "2022-06-20T23:51:25.914Z"
   },
   {
    "duration": 10,
    "start_time": "2022-06-20T23:51:26.496Z"
   },
   {
    "duration": 4,
    "start_time": "2022-06-20T23:51:27.769Z"
   },
   {
    "duration": 3,
    "start_time": "2022-06-20T23:51:28.447Z"
   },
   {
    "duration": 3,
    "start_time": "2022-06-20T23:51:29.375Z"
   },
   {
    "duration": 14,
    "start_time": "2022-06-20T23:51:29.381Z"
   },
   {
    "duration": 12,
    "start_time": "2022-06-20T23:51:29.397Z"
   },
   {
    "duration": 4,
    "start_time": "2022-06-20T23:51:29.839Z"
   },
   {
    "duration": 8,
    "start_time": "2022-06-20T23:51:30.113Z"
   },
   {
    "duration": 62,
    "start_time": "2022-06-20T23:51:31.596Z"
   },
   {
    "duration": 3,
    "start_time": "2022-06-20T23:51:32.881Z"
   },
   {
    "duration": 7,
    "start_time": "2022-06-20T23:51:33.511Z"
   },
   {
    "duration": 9,
    "start_time": "2022-06-20T23:51:34.179Z"
   },
   {
    "duration": 5,
    "start_time": "2022-06-20T23:51:35.783Z"
   },
   {
    "duration": 13,
    "start_time": "2022-06-20T23:51:36.123Z"
   },
   {
    "duration": 5,
    "start_time": "2022-06-20T23:51:36.480Z"
   },
   {
    "duration": 11,
    "start_time": "2022-06-20T23:51:36.882Z"
   },
   {
    "duration": 5,
    "start_time": "2022-06-20T23:51:37.467Z"
   },
   {
    "duration": 4,
    "start_time": "2022-06-20T23:51:48.062Z"
   },
   {
    "duration": 5,
    "start_time": "2022-06-20T23:51:48.769Z"
   },
   {
    "duration": 4,
    "start_time": "2022-06-20T23:51:49.060Z"
   },
   {
    "duration": 4,
    "start_time": "2022-06-20T23:51:49.312Z"
   },
   {
    "duration": 4,
    "start_time": "2022-06-20T23:51:49.865Z"
   },
   {
    "duration": 4,
    "start_time": "2022-06-20T23:51:50.268Z"
   },
   {
    "duration": 4,
    "start_time": "2022-06-20T23:51:51.357Z"
   },
   {
    "duration": 251,
    "start_time": "2022-06-20T23:53:45.249Z"
   },
   {
    "duration": 94,
    "start_time": "2022-06-21T00:02:07.711Z"
   },
   {
    "duration": 88,
    "start_time": "2022-06-21T00:02:26.788Z"
   },
   {
    "duration": 115,
    "start_time": "2022-06-21T00:02:40.663Z"
   },
   {
    "duration": 77,
    "start_time": "2022-06-21T00:05:26.753Z"
   },
   {
    "duration": 76,
    "start_time": "2022-06-21T00:05:47.463Z"
   },
   {
    "duration": 10,
    "start_time": "2022-06-21T00:08:02.268Z"
   },
   {
    "duration": 144,
    "start_time": "2022-06-21T00:08:49.280Z"
   },
   {
    "duration": 1238,
    "start_time": "2022-06-21T16:28:50.444Z"
   },
   {
    "duration": 342,
    "start_time": "2022-06-21T16:28:51.685Z"
   },
   {
    "duration": 409,
    "start_time": "2022-06-21T16:28:52.029Z"
   },
   {
    "duration": 330,
    "start_time": "2022-06-21T16:28:52.440Z"
   },
   {
    "duration": 70,
    "start_time": "2022-06-21T16:28:52.772Z"
   },
   {
    "duration": 57,
    "start_time": "2022-06-21T16:28:53.178Z"
   },
   {
    "duration": 16,
    "start_time": "2022-06-21T16:28:53.928Z"
   },
   {
    "duration": 42,
    "start_time": "2022-06-21T16:28:54.485Z"
   },
   {
    "duration": 15,
    "start_time": "2022-06-21T16:28:55.025Z"
   },
   {
    "duration": 28,
    "start_time": "2022-06-21T16:28:55.264Z"
   },
   {
    "duration": 9,
    "start_time": "2022-06-21T16:28:55.841Z"
   },
   {
    "duration": 29,
    "start_time": "2022-06-21T16:28:56.175Z"
   },
   {
    "duration": 9,
    "start_time": "2022-06-21T16:28:56.643Z"
   },
   {
    "duration": 15,
    "start_time": "2022-06-21T16:28:57.093Z"
   },
   {
    "duration": 15,
    "start_time": "2022-06-21T16:28:57.414Z"
   },
   {
    "duration": 11,
    "start_time": "2022-06-21T16:28:57.691Z"
   },
   {
    "duration": 37,
    "start_time": "2022-06-21T16:28:59.042Z"
   },
   {
    "duration": 25,
    "start_time": "2022-06-21T16:28:59.317Z"
   },
   {
    "duration": 23,
    "start_time": "2022-06-21T16:28:59.614Z"
   },
   {
    "duration": 4,
    "start_time": "2022-06-21T16:28:59.908Z"
   },
   {
    "duration": 6,
    "start_time": "2022-06-21T16:29:00.274Z"
   },
   {
    "duration": 25,
    "start_time": "2022-06-21T16:29:06.275Z"
   },
   {
    "duration": 19,
    "start_time": "2022-06-21T16:29:06.568Z"
   },
   {
    "duration": 19,
    "start_time": "2022-06-21T16:29:06.818Z"
   },
   {
    "duration": 8,
    "start_time": "2022-06-21T16:29:07.286Z"
   },
   {
    "duration": 113,
    "start_time": "2022-06-21T16:29:07.792Z"
   },
   {
    "duration": 69,
    "start_time": "2022-06-21T16:29:08.079Z"
   },
   {
    "duration": 45,
    "start_time": "2022-06-21T16:29:08.474Z"
   },
   {
    "duration": 9,
    "start_time": "2022-06-21T16:29:09.273Z"
   },
   {
    "duration": 7,
    "start_time": "2022-06-21T16:29:09.525Z"
   },
   {
    "duration": 34,
    "start_time": "2022-06-21T16:29:09.783Z"
   },
   {
    "duration": 30,
    "start_time": "2022-06-21T16:29:10.082Z"
   },
   {
    "duration": 26,
    "start_time": "2022-06-21T16:29:10.280Z"
   },
   {
    "duration": 9,
    "start_time": "2022-06-21T16:29:12.313Z"
   },
   {
    "duration": 9,
    "start_time": "2022-06-21T16:29:12.575Z"
   },
   {
    "duration": 21,
    "start_time": "2022-06-21T16:29:12.836Z"
   },
   {
    "duration": 20,
    "start_time": "2022-06-21T16:29:13.076Z"
   },
   {
    "duration": 29,
    "start_time": "2022-06-21T16:29:13.315Z"
   },
   {
    "duration": 28,
    "start_time": "2022-06-21T16:29:13.578Z"
   },
   {
    "duration": 270,
    "start_time": "2022-06-21T16:29:13.831Z"
   },
   {
    "duration": 34,
    "start_time": "2022-06-21T16:29:14.103Z"
   },
   {
    "duration": 201,
    "start_time": "2022-06-21T16:29:14.599Z"
   },
   {
    "duration": 132,
    "start_time": "2022-06-21T16:29:14.888Z"
   },
   {
    "duration": 7,
    "start_time": "2022-06-21T16:29:15.176Z"
   },
   {
    "duration": 15,
    "start_time": "2022-06-21T16:29:15.499Z"
   },
   {
    "duration": 21,
    "start_time": "2022-06-21T16:29:15.789Z"
   },
   {
    "duration": 6,
    "start_time": "2022-06-21T16:29:16.181Z"
   },
   {
    "duration": 10,
    "start_time": "2022-06-21T16:29:16.320Z"
   },
   {
    "duration": 4,
    "start_time": "2022-06-21T16:29:22.792Z"
   },
   {
    "duration": 5,
    "start_time": "2022-06-21T16:29:23.866Z"
   },
   {
    "duration": 47,
    "start_time": "2022-06-21T16:29:24.617Z"
   },
   {
    "duration": 5,
    "start_time": "2022-06-21T16:29:25.014Z"
   },
   {
    "duration": 4,
    "start_time": "2022-06-21T16:29:25.386Z"
   },
   {
    "duration": 14,
    "start_time": "2022-06-21T16:29:26.100Z"
   },
   {
    "duration": 20,
    "start_time": "2022-06-21T16:29:26.440Z"
   },
   {
    "duration": 37,
    "start_time": "2022-06-21T16:29:27.038Z"
   },
   {
    "duration": 6,
    "start_time": "2022-06-21T16:29:27.586Z"
   },
   {
    "duration": 7,
    "start_time": "2022-06-21T16:29:27.886Z"
   },
   {
    "duration": 9,
    "start_time": "2022-06-21T16:29:28.182Z"
   },
   {
    "duration": 15,
    "start_time": "2022-06-21T16:29:28.474Z"
   },
   {
    "duration": 4,
    "start_time": "2022-06-21T16:29:29.596Z"
   },
   {
    "duration": 12,
    "start_time": "2022-06-21T16:29:29.802Z"
   },
   {
    "duration": 17,
    "start_time": "2022-06-21T16:29:30.278Z"
   },
   {
    "duration": 5,
    "start_time": "2022-06-21T16:29:31.115Z"
   },
   {
    "duration": 4,
    "start_time": "2022-06-21T16:29:31.441Z"
   },
   {
    "duration": 6,
    "start_time": "2022-06-21T16:29:31.787Z"
   },
   {
    "duration": 9,
    "start_time": "2022-06-21T16:29:32.489Z"
   },
   {
    "duration": 15,
    "start_time": "2022-06-21T16:29:32.899Z"
   },
   {
    "duration": 4,
    "start_time": "2022-06-21T16:29:33.776Z"
   },
   {
    "duration": 10,
    "start_time": "2022-06-21T16:29:34.550Z"
   },
   {
    "duration": 11,
    "start_time": "2022-06-21T16:29:35.092Z"
   },
   {
    "duration": 10,
    "start_time": "2022-06-21T16:29:36.318Z"
   },
   {
    "duration": 28,
    "start_time": "2022-06-21T16:29:36.674Z"
   },
   {
    "duration": 17,
    "start_time": "2022-06-21T16:29:37.010Z"
   },
   {
    "duration": 9,
    "start_time": "2022-06-21T16:29:37.510Z"
   },
   {
    "duration": 4,
    "start_time": "2022-06-21T16:29:38.735Z"
   },
   {
    "duration": 4,
    "start_time": "2022-06-21T16:29:39.295Z"
   },
   {
    "duration": 5,
    "start_time": "2022-06-21T16:29:39.876Z"
   },
   {
    "duration": 3,
    "start_time": "2022-06-21T16:29:40.374Z"
   },
   {
    "duration": 3,
    "start_time": "2022-06-21T16:29:40.843Z"
   },
   {
    "duration": 17,
    "start_time": "2022-06-21T16:29:42.565Z"
   },
   {
    "duration": 4,
    "start_time": "2022-06-21T16:29:43.600Z"
   },
   {
    "duration": 3,
    "start_time": "2022-06-21T16:29:44.173Z"
   },
   {
    "duration": 11,
    "start_time": "2022-06-21T16:29:44.793Z"
   },
   {
    "duration": 4,
    "start_time": "2022-06-21T16:29:46.078Z"
   },
   {
    "duration": 3,
    "start_time": "2022-06-21T16:29:52.396Z"
   },
   {
    "duration": 5,
    "start_time": "2022-06-21T16:29:52.908Z"
   },
   {
    "duration": 14,
    "start_time": "2022-06-21T16:29:53.309Z"
   },
   {
    "duration": 17,
    "start_time": "2022-06-21T16:29:53.679Z"
   },
   {
    "duration": 5,
    "start_time": "2022-06-21T16:29:54.100Z"
   },
   {
    "duration": 9,
    "start_time": "2022-06-21T16:29:54.586Z"
   },
   {
    "duration": 74,
    "start_time": "2022-06-21T16:29:55.691Z"
   },
   {
    "duration": 4,
    "start_time": "2022-06-21T16:29:56.883Z"
   },
   {
    "duration": 8,
    "start_time": "2022-06-21T16:29:57.946Z"
   },
   {
    "duration": 11,
    "start_time": "2022-06-21T16:29:58.774Z"
   },
   {
    "duration": 5,
    "start_time": "2022-06-21T16:30:00.485Z"
   },
   {
    "duration": 13,
    "start_time": "2022-06-21T16:30:00.917Z"
   },
   {
    "duration": 5,
    "start_time": "2022-06-21T16:30:01.307Z"
   },
   {
    "duration": 22,
    "start_time": "2022-06-21T16:30:01.622Z"
   },
   {
    "duration": 4,
    "start_time": "2022-06-21T16:30:02.444Z"
   },
   {
    "duration": 5,
    "start_time": "2022-06-21T16:30:02.987Z"
   },
   {
    "duration": 5,
    "start_time": "2022-06-21T16:30:03.439Z"
   },
   {
    "duration": 5,
    "start_time": "2022-06-21T16:30:03.814Z"
   },
   {
    "duration": 5,
    "start_time": "2022-06-21T16:30:04.278Z"
   },
   {
    "duration": 4,
    "start_time": "2022-06-21T16:30:04.607Z"
   },
   {
    "duration": 5,
    "start_time": "2022-06-21T16:30:04.976Z"
   },
   {
    "duration": 5,
    "start_time": "2022-06-21T16:30:05.306Z"
   },
   {
    "duration": 63,
    "start_time": "2022-06-21T16:30:06.298Z"
   },
   {
    "duration": 204,
    "start_time": "2022-06-21T16:30:06.604Z"
   },
   {
    "duration": 191,
    "start_time": "2022-06-21T16:30:23.102Z"
   },
   {
    "duration": 167,
    "start_time": "2022-06-21T16:34:57.401Z"
   },
   {
    "duration": 165,
    "start_time": "2022-06-21T16:35:32.686Z"
   },
   {
    "duration": 156,
    "start_time": "2022-06-21T16:36:24.607Z"
   },
   {
    "duration": 150,
    "start_time": "2022-06-21T16:36:52.416Z"
   },
   {
    "duration": 270,
    "start_time": "2022-06-21T16:42:36.402Z"
   },
   {
    "duration": 169,
    "start_time": "2022-06-21T16:46:08.200Z"
   },
   {
    "duration": 181,
    "start_time": "2022-06-21T16:46:35.801Z"
   },
   {
    "duration": 171,
    "start_time": "2022-06-21T16:47:34.175Z"
   },
   {
    "duration": 1243,
    "start_time": "2022-06-21T18:19:33.636Z"
   },
   {
    "duration": 621,
    "start_time": "2022-06-21T18:19:34.881Z"
   },
   {
    "duration": 432,
    "start_time": "2022-06-21T18:19:35.504Z"
   },
   {
    "duration": 196,
    "start_time": "2022-06-21T18:19:35.939Z"
   },
   {
    "duration": 51,
    "start_time": "2022-06-21T18:19:36.144Z"
   },
   {
    "duration": 83,
    "start_time": "2022-06-21T18:19:36.524Z"
   },
   {
    "duration": 14,
    "start_time": "2022-06-21T18:19:37.836Z"
   },
   {
    "duration": 25,
    "start_time": "2022-06-21T18:19:38.248Z"
   },
   {
    "duration": 20,
    "start_time": "2022-06-21T18:19:39.416Z"
   },
   {
    "duration": 21,
    "start_time": "2022-06-21T18:19:39.736Z"
   },
   {
    "duration": 16,
    "start_time": "2022-06-21T18:19:40.329Z"
   },
   {
    "duration": 17,
    "start_time": "2022-06-21T18:19:40.595Z"
   },
   {
    "duration": 7,
    "start_time": "2022-06-21T18:19:41.191Z"
   },
   {
    "duration": 9,
    "start_time": "2022-06-21T18:19:41.507Z"
   },
   {
    "duration": 12,
    "start_time": "2022-06-21T18:19:41.837Z"
   },
   {
    "duration": 11,
    "start_time": "2022-06-21T18:19:42.236Z"
   },
   {
    "duration": 40,
    "start_time": "2022-06-21T18:19:43.337Z"
   },
   {
    "duration": 26,
    "start_time": "2022-06-21T18:19:43.862Z"
   },
   {
    "duration": 27,
    "start_time": "2022-06-21T18:19:44.518Z"
   },
   {
    "duration": 4,
    "start_time": "2022-06-21T18:19:44.938Z"
   },
   {
    "duration": 6,
    "start_time": "2022-06-21T18:19:45.281Z"
   },
   {
    "duration": 25,
    "start_time": "2022-06-21T18:19:46.037Z"
   },
   {
    "duration": 24,
    "start_time": "2022-06-21T18:19:51.114Z"
   },
   {
    "duration": 16,
    "start_time": "2022-06-21T18:19:51.585Z"
   },
   {
    "duration": 7,
    "start_time": "2022-06-21T18:19:52.547Z"
   },
   {
    "duration": 119,
    "start_time": "2022-06-21T18:19:52.762Z"
   },
   {
    "duration": 84,
    "start_time": "2022-06-21T18:19:52.976Z"
   },
   {
    "duration": 61,
    "start_time": "2022-06-21T18:19:53.187Z"
   },
   {
    "duration": 7,
    "start_time": "2022-06-21T18:19:59.477Z"
   },
   {
    "duration": 7,
    "start_time": "2022-06-21T18:19:59.754Z"
   },
   {
    "duration": 19,
    "start_time": "2022-06-21T18:19:59.995Z"
   },
   {
    "duration": 18,
    "start_time": "2022-06-21T18:20:00.246Z"
   },
   {
    "duration": 16,
    "start_time": "2022-06-21T18:20:00.457Z"
   },
   {
    "duration": 15,
    "start_time": "2022-06-21T18:20:00.663Z"
   },
   {
    "duration": 266,
    "start_time": "2022-06-21T18:20:00.879Z"
   },
   {
    "duration": 20,
    "start_time": "2022-06-21T18:20:01.146Z"
   },
   {
    "duration": 222,
    "start_time": "2022-06-21T18:20:01.553Z"
   },
   {
    "duration": 150,
    "start_time": "2022-06-21T18:20:01.796Z"
   },
   {
    "duration": 5,
    "start_time": "2022-06-21T18:20:02.040Z"
   },
   {
    "duration": 11,
    "start_time": "2022-06-21T18:20:02.261Z"
   },
   {
    "duration": 16,
    "start_time": "2022-06-21T18:20:02.507Z"
   },
   {
    "duration": 4,
    "start_time": "2022-06-21T18:20:02.750Z"
   },
   {
    "duration": 13,
    "start_time": "2022-06-21T18:20:03.022Z"
   },
   {
    "duration": 4,
    "start_time": "2022-06-21T18:20:04.336Z"
   },
   {
    "duration": 9,
    "start_time": "2022-06-21T18:20:04.925Z"
   },
   {
    "duration": 62,
    "start_time": "2022-06-21T18:20:05.391Z"
   },
   {
    "duration": 5,
    "start_time": "2022-06-21T18:20:05.652Z"
   },
   {
    "duration": 5,
    "start_time": "2022-06-21T18:20:05.835Z"
   },
   {
    "duration": 17,
    "start_time": "2022-06-21T18:20:06.236Z"
   },
   {
    "duration": 23,
    "start_time": "2022-06-21T18:20:06.419Z"
   },
   {
    "duration": 24,
    "start_time": "2022-06-21T18:20:06.853Z"
   },
   {
    "duration": 5,
    "start_time": "2022-06-21T18:20:07.261Z"
   },
   {
    "duration": 5,
    "start_time": "2022-06-21T18:20:07.494Z"
   },
   {
    "duration": 9,
    "start_time": "2022-06-21T18:20:07.712Z"
   },
   {
    "duration": 13,
    "start_time": "2022-06-21T18:20:07.952Z"
   },
   {
    "duration": 3,
    "start_time": "2022-06-21T18:20:08.395Z"
   },
   {
    "duration": 14,
    "start_time": "2022-06-21T18:20:08.640Z"
   },
   {
    "duration": 18,
    "start_time": "2022-06-21T18:20:08.856Z"
   },
   {
    "duration": 5,
    "start_time": "2022-06-21T18:20:09.367Z"
   },
   {
    "duration": 4,
    "start_time": "2022-06-21T18:20:09.559Z"
   },
   {
    "duration": 5,
    "start_time": "2022-06-21T18:20:09.784Z"
   },
   {
    "duration": 9,
    "start_time": "2022-06-21T18:20:10.267Z"
   },
   {
    "duration": 19,
    "start_time": "2022-06-21T18:20:10.490Z"
   },
   {
    "duration": 4,
    "start_time": "2022-06-21T18:20:10.913Z"
   },
   {
    "duration": 9,
    "start_time": "2022-06-21T18:20:11.382Z"
   },
   {
    "duration": 13,
    "start_time": "2022-06-21T18:20:11.599Z"
   },
   {
    "duration": 13,
    "start_time": "2022-06-21T18:20:12.020Z"
   },
   {
    "duration": 27,
    "start_time": "2022-06-21T18:20:12.225Z"
   },
   {
    "duration": 12,
    "start_time": "2022-06-21T18:20:12.399Z"
   },
   {
    "duration": 20,
    "start_time": "2022-06-21T18:20:12.619Z"
   },
   {
    "duration": 4,
    "start_time": "2022-06-21T18:20:13.019Z"
   },
   {
    "duration": 4,
    "start_time": "2022-06-21T18:20:13.219Z"
   },
   {
    "duration": 4,
    "start_time": "2022-06-21T18:20:13.435Z"
   },
   {
    "duration": 4,
    "start_time": "2022-06-21T18:20:13.651Z"
   },
   {
    "duration": 4,
    "start_time": "2022-06-21T18:20:13.855Z"
   },
   {
    "duration": 21,
    "start_time": "2022-06-21T18:20:14.478Z"
   },
   {
    "duration": 4,
    "start_time": "2022-06-21T18:20:14.912Z"
   },
   {
    "duration": 5,
    "start_time": "2022-06-21T18:20:15.136Z"
   },
   {
    "duration": 12,
    "start_time": "2022-06-21T18:20:15.339Z"
   },
   {
    "duration": 4,
    "start_time": "2022-06-21T18:20:15.775Z"
   },
   {
    "duration": 3,
    "start_time": "2022-06-21T18:20:15.990Z"
   },
   {
    "duration": 3,
    "start_time": "2022-06-21T18:20:16.221Z"
   },
   {
    "duration": 14,
    "start_time": "2022-06-21T18:20:16.478Z"
   },
   {
    "duration": 16,
    "start_time": "2022-06-21T18:20:16.695Z"
   },
   {
    "duration": 6,
    "start_time": "2022-06-21T18:20:16.950Z"
   },
   {
    "duration": 10,
    "start_time": "2022-06-21T18:20:17.183Z"
   },
   {
    "duration": 81,
    "start_time": "2022-06-21T18:20:17.687Z"
   },
   {
    "duration": 3,
    "start_time": "2022-06-21T18:20:18.579Z"
   },
   {
    "duration": 10,
    "start_time": "2022-06-21T18:20:19.090Z"
   },
   {
    "duration": 12,
    "start_time": "2022-06-21T18:20:19.590Z"
   },
   {
    "duration": 5,
    "start_time": "2022-06-21T18:20:20.647Z"
   },
   {
    "duration": 12,
    "start_time": "2022-06-21T18:20:20.907Z"
   },
   {
    "duration": 5,
    "start_time": "2022-06-21T18:20:21.142Z"
   },
   {
    "duration": 13,
    "start_time": "2022-06-21T18:20:21.436Z"
   },
   {
    "duration": 5,
    "start_time": "2022-06-21T18:20:21.964Z"
   },
   {
    "duration": 6,
    "start_time": "2022-06-21T18:20:22.244Z"
   },
   {
    "duration": 5,
    "start_time": "2022-06-21T18:20:22.855Z"
   },
   {
    "duration": 6,
    "start_time": "2022-06-21T18:20:23.142Z"
   },
   {
    "duration": 5,
    "start_time": "2022-06-21T18:20:23.387Z"
   },
   {
    "duration": 5,
    "start_time": "2022-06-21T18:20:23.675Z"
   },
   {
    "duration": 6,
    "start_time": "2022-06-21T18:20:23.944Z"
   },
   {
    "duration": 7,
    "start_time": "2022-06-21T18:20:24.234Z"
   },
   {
    "duration": 199,
    "start_time": "2022-06-21T18:20:25.131Z"
   },
   {
    "duration": 192,
    "start_time": "2022-06-21T18:24:41.293Z"
   },
   {
    "duration": 197,
    "start_time": "2022-06-21T18:25:00.402Z"
   },
   {
    "duration": 17,
    "start_time": "2022-06-21T18:29:30.739Z"
   },
   {
    "duration": 1168,
    "start_time": "2022-06-22T00:46:41.797Z"
   },
   {
    "duration": 288,
    "start_time": "2022-06-22T00:46:42.967Z"
   },
   {
    "duration": 470,
    "start_time": "2022-06-22T00:46:43.257Z"
   },
   {
    "duration": 617,
    "start_time": "2022-06-22T00:46:43.729Z"
   },
   {
    "duration": 67,
    "start_time": "2022-06-22T00:46:44.349Z"
   },
   {
    "duration": 55,
    "start_time": "2022-06-22T00:46:44.654Z"
   },
   {
    "duration": 16,
    "start_time": "2022-06-22T00:46:45.249Z"
   },
   {
    "duration": 25,
    "start_time": "2022-06-22T00:46:45.555Z"
   },
   {
    "duration": 11,
    "start_time": "2022-06-22T00:46:46.424Z"
   },
   {
    "duration": 21,
    "start_time": "2022-06-22T00:46:46.786Z"
   },
   {
    "duration": 8,
    "start_time": "2022-06-22T00:46:47.524Z"
   },
   {
    "duration": 18,
    "start_time": "2022-06-22T00:46:47.865Z"
   },
   {
    "duration": 7,
    "start_time": "2022-06-22T00:46:48.616Z"
   },
   {
    "duration": 9,
    "start_time": "2022-06-22T00:46:48.918Z"
   },
   {
    "duration": 12,
    "start_time": "2022-06-22T00:46:49.239Z"
   },
   {
    "duration": 10,
    "start_time": "2022-06-22T00:46:49.550Z"
   },
   {
    "duration": 11,
    "start_time": "2022-06-22T00:46:49.885Z"
   },
   {
    "duration": 46,
    "start_time": "2022-06-22T00:46:55.803Z"
   },
   {
    "duration": 25,
    "start_time": "2022-06-22T00:46:56.085Z"
   },
   {
    "duration": 25,
    "start_time": "2022-06-22T00:46:56.310Z"
   },
   {
    "duration": 4,
    "start_time": "2022-06-22T00:46:56.588Z"
   },
   {
    "duration": 4,
    "start_time": "2022-06-22T00:46:56.846Z"
   },
   {
    "duration": 21,
    "start_time": "2022-06-22T00:46:57.288Z"
   },
   {
    "duration": 16,
    "start_time": "2022-06-22T00:46:57.626Z"
   },
   {
    "duration": 14,
    "start_time": "2022-06-22T00:46:59.536Z"
   },
   {
    "duration": 6,
    "start_time": "2022-06-22T00:47:00.274Z"
   },
   {
    "duration": 118,
    "start_time": "2022-06-22T00:47:00.504Z"
   },
   {
    "duration": 67,
    "start_time": "2022-06-22T00:47:00.736Z"
   },
   {
    "duration": 45,
    "start_time": "2022-06-22T00:47:00.988Z"
   },
   {
    "duration": 7,
    "start_time": "2022-06-22T00:47:01.754Z"
   },
   {
    "duration": 15,
    "start_time": "2022-06-22T00:47:01.975Z"
   },
   {
    "duration": 19,
    "start_time": "2022-06-22T00:47:02.241Z"
   },
   {
    "duration": 18,
    "start_time": "2022-06-22T00:47:02.487Z"
   },
   {
    "duration": 16,
    "start_time": "2022-06-22T00:47:02.734Z"
   },
   {
    "duration": 17,
    "start_time": "2022-06-22T00:47:02.994Z"
   },
   {
    "duration": 217,
    "start_time": "2022-06-22T00:47:03.255Z"
   },
   {
    "duration": 17,
    "start_time": "2022-06-22T00:47:03.556Z"
   },
   {
    "duration": 199,
    "start_time": "2022-06-22T00:47:04.638Z"
   },
   {
    "duration": 128,
    "start_time": "2022-06-22T00:47:05.106Z"
   },
   {
    "duration": 5,
    "start_time": "2022-06-22T00:47:05.387Z"
   },
   {
    "duration": 12,
    "start_time": "2022-06-22T00:47:05.650Z"
   },
   {
    "duration": 16,
    "start_time": "2022-06-22T00:47:05.904Z"
   },
   {
    "duration": 6,
    "start_time": "2022-06-22T00:47:06.261Z"
   },
   {
    "duration": 7,
    "start_time": "2022-06-22T00:47:06.657Z"
   },
   {
    "duration": 5,
    "start_time": "2022-06-22T00:47:31.925Z"
   },
   {
    "duration": 7,
    "start_time": "2022-06-22T00:47:32.196Z"
   },
   {
    "duration": 4,
    "start_time": "2022-06-22T00:47:33.567Z"
   },
   {
    "duration": 4,
    "start_time": "2022-06-22T00:47:34.085Z"
   },
   {
    "duration": 56,
    "start_time": "2022-06-22T00:47:34.606Z"
   },
   {
    "duration": 6,
    "start_time": "2022-06-22T00:47:34.890Z"
   },
   {
    "duration": 4,
    "start_time": "2022-06-22T00:47:35.119Z"
   },
   {
    "duration": 15,
    "start_time": "2022-06-22T00:47:35.685Z"
   },
   {
    "duration": 18,
    "start_time": "2022-06-22T00:47:36.095Z"
   },
   {
    "duration": 26,
    "start_time": "2022-06-22T00:47:36.700Z"
   },
   {
    "duration": 5,
    "start_time": "2022-06-22T00:47:37.253Z"
   },
   {
    "duration": 5,
    "start_time": "2022-06-22T00:47:37.501Z"
   },
   {
    "duration": 7,
    "start_time": "2022-06-22T00:47:37.783Z"
   },
   {
    "duration": 12,
    "start_time": "2022-06-22T00:47:38.036Z"
   },
   {
    "duration": 4,
    "start_time": "2022-06-22T00:47:38.638Z"
   },
   {
    "duration": 12,
    "start_time": "2022-06-22T00:47:38.945Z"
   },
   {
    "duration": 16,
    "start_time": "2022-06-22T00:47:39.295Z"
   },
   {
    "duration": 5,
    "start_time": "2022-06-22T00:47:39.796Z"
   },
   {
    "duration": 4,
    "start_time": "2022-06-22T00:47:40.315Z"
   },
   {
    "duration": 5,
    "start_time": "2022-06-22T00:47:40.685Z"
   },
   {
    "duration": 8,
    "start_time": "2022-06-22T00:47:41.392Z"
   },
   {
    "duration": 15,
    "start_time": "2022-06-22T00:47:41.664Z"
   },
   {
    "duration": 3,
    "start_time": "2022-06-22T00:47:42.406Z"
   },
   {
    "duration": 9,
    "start_time": "2022-06-22T00:47:43.017Z"
   },
   {
    "duration": 13,
    "start_time": "2022-06-22T00:47:43.272Z"
   },
   {
    "duration": 8,
    "start_time": "2022-06-22T00:47:43.809Z"
   },
   {
    "duration": 17,
    "start_time": "2022-06-22T00:47:44.059Z"
   },
   {
    "duration": 12,
    "start_time": "2022-06-22T00:47:44.322Z"
   },
   {
    "duration": 7,
    "start_time": "2022-06-22T00:47:44.585Z"
   },
   {
    "duration": 3,
    "start_time": "2022-06-22T00:47:45.115Z"
   },
   {
    "duration": 3,
    "start_time": "2022-06-22T00:47:45.372Z"
   },
   {
    "duration": 3,
    "start_time": "2022-06-22T00:47:45.623Z"
   },
   {
    "duration": 4,
    "start_time": "2022-06-22T00:47:45.884Z"
   },
   {
    "duration": 4,
    "start_time": "2022-06-22T00:47:46.155Z"
   },
   {
    "duration": 17,
    "start_time": "2022-06-22T00:47:46.901Z"
   },
   {
    "duration": 3,
    "start_time": "2022-06-22T00:47:48.286Z"
   },
   {
    "duration": 4,
    "start_time": "2022-06-22T00:47:48.749Z"
   },
   {
    "duration": 12,
    "start_time": "2022-06-22T00:47:49.171Z"
   },
   {
    "duration": 4,
    "start_time": "2022-06-22T00:47:50.227Z"
   },
   {
    "duration": 4,
    "start_time": "2022-06-22T00:47:50.559Z"
   },
   {
    "duration": 3,
    "start_time": "2022-06-22T00:47:50.941Z"
   },
   {
    "duration": 12,
    "start_time": "2022-06-22T00:47:51.296Z"
   },
   {
    "duration": 12,
    "start_time": "2022-06-22T00:47:51.861Z"
   },
   {
    "duration": 4,
    "start_time": "2022-06-22T00:47:52.185Z"
   },
   {
    "duration": 8,
    "start_time": "2022-06-22T00:47:52.555Z"
   },
   {
    "duration": 87,
    "start_time": "2022-06-22T00:49:01.050Z"
   },
   {
    "duration": 12,
    "start_time": "2022-06-22T00:49:12.328Z"
   },
   {
    "duration": 11,
    "start_time": "2022-06-22T00:49:13.099Z"
   },
   {
    "duration": 3,
    "start_time": "2022-06-22T01:39:48.730Z"
   },
   {
    "duration": 157,
    "start_time": "2022-06-22T01:39:49.195Z"
   },
   {
    "duration": 129,
    "start_time": "2022-06-22T01:39:49.426Z"
   },
   {
    "duration": 91,
    "start_time": "2022-06-22T01:39:49.664Z"
   },
   {
    "duration": 14,
    "start_time": "2022-06-22T01:39:49.908Z"
   },
   {
    "duration": 26,
    "start_time": "2022-06-22T01:39:50.146Z"
   },
   {
    "duration": 9,
    "start_time": "2022-06-22T01:39:50.612Z"
   },
   {
    "duration": 24,
    "start_time": "2022-06-22T01:39:50.863Z"
   },
   {
    "duration": 9,
    "start_time": "2022-06-22T01:39:51.331Z"
   },
   {
    "duration": 20,
    "start_time": "2022-06-22T01:39:51.559Z"
   },
   {
    "duration": 8,
    "start_time": "2022-06-22T01:39:52.091Z"
   },
   {
    "duration": 21,
    "start_time": "2022-06-22T01:39:52.323Z"
   },
   {
    "duration": 8,
    "start_time": "2022-06-22T01:39:52.819Z"
   },
   {
    "duration": 9,
    "start_time": "2022-06-22T01:39:53.059Z"
   },
   {
    "duration": 10,
    "start_time": "2022-06-22T01:39:53.299Z"
   },
   {
    "duration": 13,
    "start_time": "2022-06-22T01:39:53.566Z"
   },
   {
    "duration": 12,
    "start_time": "2022-06-22T01:39:53.822Z"
   },
   {
    "duration": 28,
    "start_time": "2022-06-22T01:39:56.110Z"
   },
   {
    "duration": 25,
    "start_time": "2022-06-22T01:39:56.347Z"
   },
   {
    "duration": 18,
    "start_time": "2022-06-22T01:39:56.945Z"
   },
   {
    "duration": 14,
    "start_time": "2022-06-22T01:40:04.544Z"
   },
   {
    "duration": 17,
    "start_time": "2022-06-22T01:40:04.806Z"
   },
   {
    "duration": 14,
    "start_time": "2022-06-22T01:40:05.040Z"
   },
   {
    "duration": 4,
    "start_time": "2022-06-22T01:40:05.286Z"
   },
   {
    "duration": 5,
    "start_time": "2022-06-22T01:40:05.540Z"
   },
   {
    "duration": 22,
    "start_time": "2022-06-22T01:40:06.034Z"
   },
   {
    "duration": 20,
    "start_time": "2022-06-22T01:40:06.261Z"
   },
   {
    "duration": 15,
    "start_time": "2022-06-22T01:40:06.510Z"
   },
   {
    "duration": 9,
    "start_time": "2022-06-22T01:40:07.023Z"
   },
   {
    "duration": 107,
    "start_time": "2022-06-22T01:40:07.287Z"
   },
   {
    "duration": 58,
    "start_time": "2022-06-22T01:40:07.534Z"
   },
   {
    "duration": 43,
    "start_time": "2022-06-22T01:40:08.019Z"
   },
   {
    "duration": 7,
    "start_time": "2022-06-22T01:40:08.817Z"
   },
   {
    "duration": 7,
    "start_time": "2022-06-22T01:40:09.079Z"
   },
   {
    "duration": 20,
    "start_time": "2022-06-22T01:40:09.334Z"
   },
   {
    "duration": 21,
    "start_time": "2022-06-22T01:40:09.569Z"
   },
   {
    "duration": 17,
    "start_time": "2022-06-22T01:40:09.851Z"
   },
   {
    "duration": 16,
    "start_time": "2022-06-22T01:40:10.114Z"
   },
   {
    "duration": 194,
    "start_time": "2022-06-22T01:40:10.367Z"
   },
   {
    "duration": 18,
    "start_time": "2022-06-22T01:40:10.628Z"
   },
   {
    "duration": 198,
    "start_time": "2022-06-22T01:40:11.179Z"
   },
   {
    "duration": 135,
    "start_time": "2022-06-22T01:40:11.428Z"
   },
   {
    "duration": 5,
    "start_time": "2022-06-22T01:40:11.702Z"
   },
   {
    "duration": 11,
    "start_time": "2022-06-22T01:40:11.973Z"
   },
   {
    "duration": 5,
    "start_time": "2022-06-22T01:40:12.250Z"
   },
   {
    "duration": 6,
    "start_time": "2022-06-22T01:40:12.501Z"
   },
   {
    "duration": 4,
    "start_time": "2022-06-22T01:40:13.929Z"
   },
   {
    "duration": 4,
    "start_time": "2022-06-22T01:40:14.459Z"
   },
   {
    "duration": 47,
    "start_time": "2022-06-22T01:40:14.984Z"
   },
   {
    "duration": 6,
    "start_time": "2022-06-22T01:40:15.276Z"
   },
   {
    "duration": 4,
    "start_time": "2022-06-22T01:40:15.539Z"
   },
   {
    "duration": 13,
    "start_time": "2022-06-22T01:40:16.088Z"
   },
   {
    "duration": 17,
    "start_time": "2022-06-22T01:40:16.359Z"
   },
   {
    "duration": 19,
    "start_time": "2022-06-22T01:40:16.895Z"
   },
   {
    "duration": 5,
    "start_time": "2022-06-22T01:40:17.455Z"
   },
   {
    "duration": 5,
    "start_time": "2022-06-22T01:40:17.754Z"
   },
   {
    "duration": 7,
    "start_time": "2022-06-22T01:40:18.020Z"
   },
   {
    "duration": 12,
    "start_time": "2022-06-22T01:40:18.332Z"
   },
   {
    "duration": 3,
    "start_time": "2022-06-22T01:40:18.950Z"
   },
   {
    "duration": 14,
    "start_time": "2022-06-22T01:40:19.253Z"
   },
   {
    "duration": 13,
    "start_time": "2022-06-22T01:40:19.550Z"
   },
   {
    "duration": 5,
    "start_time": "2022-06-22T01:40:20.140Z"
   },
   {
    "duration": 4,
    "start_time": "2022-06-22T01:40:20.461Z"
   },
   {
    "duration": 5,
    "start_time": "2022-06-22T01:40:20.750Z"
   },
   {
    "duration": 9,
    "start_time": "2022-06-22T01:40:21.322Z"
   },
   {
    "duration": 14,
    "start_time": "2022-06-22T01:40:21.651Z"
   },
   {
    "duration": 3,
    "start_time": "2022-06-22T01:40:22.237Z"
   },
   {
    "duration": 8,
    "start_time": "2022-06-22T01:40:22.824Z"
   },
   {
    "duration": 11,
    "start_time": "2022-06-22T01:40:23.087Z"
   },
   {
    "duration": 8,
    "start_time": "2022-06-22T01:40:23.683Z"
   },
   {
    "duration": 18,
    "start_time": "2022-06-22T01:40:24.029Z"
   },
   {
    "duration": 12,
    "start_time": "2022-06-22T01:40:24.333Z"
   },
   {
    "duration": 8,
    "start_time": "2022-06-22T01:40:24.606Z"
   },
   {
    "duration": 3,
    "start_time": "2022-06-22T01:40:25.196Z"
   },
   {
    "duration": 3,
    "start_time": "2022-06-22T01:40:25.490Z"
   },
   {
    "duration": 3,
    "start_time": "2022-06-22T01:40:25.781Z"
   },
   {
    "duration": 4,
    "start_time": "2022-06-22T01:40:26.066Z"
   },
   {
    "duration": 4,
    "start_time": "2022-06-22T01:40:26.334Z"
   },
   {
    "duration": 17,
    "start_time": "2022-06-22T01:40:27.197Z"
   },
   {
    "duration": 3,
    "start_time": "2022-06-22T01:40:28.123Z"
   },
   {
    "duration": 3,
    "start_time": "2022-06-22T01:40:28.417Z"
   },
   {
    "duration": 11,
    "start_time": "2022-06-22T01:40:28.711Z"
   },
   {
    "duration": 3,
    "start_time": "2022-06-22T01:40:29.331Z"
   },
   {
    "duration": 3,
    "start_time": "2022-06-22T01:40:29.614Z"
   },
   {
    "duration": 3,
    "start_time": "2022-06-22T01:40:29.898Z"
   },
   {
    "duration": 13,
    "start_time": "2022-06-22T01:40:30.185Z"
   },
   {
    "duration": 12,
    "start_time": "2022-06-22T01:40:30.466Z"
   },
   {
    "duration": 9,
    "start_time": "2022-06-22T01:40:31.030Z"
   },
   {
    "duration": 12,
    "start_time": "2022-06-22T01:40:32.152Z"
   },
   {
    "duration": 11,
    "start_time": "2022-06-22T01:40:41.960Z"
   },
   {
    "duration": 45,
    "start_time": "2022-06-22T01:44:56.493Z"
   },
   {
    "duration": 74,
    "start_time": "2022-06-22T01:45:05.411Z"
   },
   {
    "duration": 52,
    "start_time": "2022-06-22T01:45:38.440Z"
   },
   {
    "duration": 45,
    "start_time": "2022-06-22T01:45:43.379Z"
   },
   {
    "duration": 54,
    "start_time": "2022-06-22T01:45:57.407Z"
   },
   {
    "duration": 77,
    "start_time": "2022-06-22T01:46:22.179Z"
   },
   {
    "duration": 45,
    "start_time": "2022-06-22T01:46:47.475Z"
   },
   {
    "duration": 49,
    "start_time": "2022-06-22T01:47:01.969Z"
   },
   {
    "duration": 8,
    "start_time": "2022-06-22T01:47:12.372Z"
   },
   {
    "duration": 5,
    "start_time": "2022-06-22T01:48:35.766Z"
   },
   {
    "duration": 5,
    "start_time": "2022-06-22T01:49:44.175Z"
   },
   {
    "duration": 9,
    "start_time": "2022-06-22T01:49:44.485Z"
   },
   {
    "duration": 65,
    "start_time": "2022-06-22T01:49:45.455Z"
   },
   {
    "duration": 3,
    "start_time": "2022-06-22T01:49:46.811Z"
   },
   {
    "duration": 8,
    "start_time": "2022-06-22T01:49:47.364Z"
   },
   {
    "duration": 10,
    "start_time": "2022-06-22T01:49:47.875Z"
   },
   {
    "duration": 5,
    "start_time": "2022-06-22T01:49:48.903Z"
   },
   {
    "duration": 11,
    "start_time": "2022-06-22T01:50:12.083Z"
   },
   {
    "duration": 5,
    "start_time": "2022-06-22T01:50:12.307Z"
   },
   {
    "duration": 10,
    "start_time": "2022-06-22T01:50:12.537Z"
   },
   {
    "duration": 4,
    "start_time": "2022-06-22T01:50:12.989Z"
   },
   {
    "duration": 5,
    "start_time": "2022-06-22T01:50:13.221Z"
   },
   {
    "duration": 5,
    "start_time": "2022-06-22T01:50:13.690Z"
   },
   {
    "duration": 5,
    "start_time": "2022-06-22T01:50:14.253Z"
   },
   {
    "duration": 5,
    "start_time": "2022-06-22T01:50:14.560Z"
   },
   {
    "duration": 5,
    "start_time": "2022-06-22T01:50:14.815Z"
   },
   {
    "duration": 5,
    "start_time": "2022-06-22T01:50:15.193Z"
   },
   {
    "duration": 5,
    "start_time": "2022-06-22T01:50:15.560Z"
   },
   {
    "duration": 169,
    "start_time": "2022-06-22T01:50:16.671Z"
   },
   {
    "duration": 4,
    "start_time": "2022-06-22T01:51:35.940Z"
   },
   {
    "duration": 6,
    "start_time": "2022-06-22T01:51:36.233Z"
   },
   {
    "duration": 4,
    "start_time": "2022-06-22T01:51:36.497Z"
   },
   {
    "duration": 4,
    "start_time": "2022-06-22T01:51:36.744Z"
   },
   {
    "duration": 5,
    "start_time": "2022-06-22T01:51:37.561Z"
   },
   {
    "duration": 4,
    "start_time": "2022-06-22T01:51:37.963Z"
   },
   {
    "duration": 6,
    "start_time": "2022-06-22T01:51:38.580Z"
   },
   {
    "duration": 4,
    "start_time": "2022-06-22T01:51:38.731Z"
   },
   {
    "duration": 4,
    "start_time": "2022-06-22T01:51:39.046Z"
   },
   {
    "duration": 4,
    "start_time": "2022-06-22T01:51:39.358Z"
   },
   {
    "duration": 5,
    "start_time": "2022-06-22T01:51:39.653Z"
   },
   {
    "duration": 4,
    "start_time": "2022-06-22T01:51:39.974Z"
   },
   {
    "duration": 156,
    "start_time": "2022-06-22T01:51:41.371Z"
   },
   {
    "duration": 166,
    "start_time": "2022-06-22T01:53:19.563Z"
   },
   {
    "duration": 16,
    "start_time": "2022-06-22T01:54:50.149Z"
   },
   {
    "duration": 4,
    "start_time": "2022-06-22T02:06:34.903Z"
   },
   {
    "duration": 11,
    "start_time": "2022-06-22T02:06:35.168Z"
   },
   {
    "duration": 4,
    "start_time": "2022-06-22T02:06:35.611Z"
   },
   {
    "duration": 5,
    "start_time": "2022-06-22T02:09:17.685Z"
   },
   {
    "duration": 5,
    "start_time": "2022-06-22T02:13:49.205Z"
   },
   {
    "duration": 15,
    "start_time": "2022-06-22T02:13:49.761Z"
   },
   {
    "duration": 5,
    "start_time": "2022-06-22T02:13:50.320Z"
   },
   {
    "duration": 5,
    "start_time": "2022-06-22T02:13:51.958Z"
   },
   {
    "duration": 5,
    "start_time": "2022-06-22T02:13:52.393Z"
   },
   {
    "duration": 5,
    "start_time": "2022-06-22T02:13:53.777Z"
   },
   {
    "duration": 4,
    "start_time": "2022-06-22T02:13:54.210Z"
   },
   {
    "duration": 5,
    "start_time": "2022-06-22T02:13:54.545Z"
   },
   {
    "duration": 6,
    "start_time": "2022-06-22T02:13:55.234Z"
   },
   {
    "duration": 261,
    "start_time": "2022-06-22T02:13:56.291Z"
   },
   {
    "duration": 189,
    "start_time": "2022-06-22T02:14:45.855Z"
   },
   {
    "duration": 2058,
    "start_time": "2022-06-22T20:51:29.488Z"
   },
   {
    "duration": 1059,
    "start_time": "2022-06-22T20:51:31.548Z"
   },
   {
    "duration": 517,
    "start_time": "2022-06-22T20:51:32.609Z"
   },
   {
    "duration": 179,
    "start_time": "2022-06-22T20:51:33.129Z"
   },
   {
    "duration": 44,
    "start_time": "2022-06-22T20:51:33.310Z"
   },
   {
    "duration": 77,
    "start_time": "2022-06-22T20:51:33.356Z"
   },
   {
    "duration": 13,
    "start_time": "2022-06-22T20:51:33.435Z"
   },
   {
    "duration": 48,
    "start_time": "2022-06-22T20:51:33.450Z"
   },
   {
    "duration": 15,
    "start_time": "2022-06-22T20:51:33.499Z"
   },
   {
    "duration": 23,
    "start_time": "2022-06-22T20:51:33.516Z"
   },
   {
    "duration": 26,
    "start_time": "2022-06-22T20:51:33.540Z"
   },
   {
    "duration": 34,
    "start_time": "2022-06-22T20:51:33.667Z"
   },
   {
    "duration": 13,
    "start_time": "2022-06-22T20:51:34.145Z"
   },
   {
    "duration": 10,
    "start_time": "2022-06-22T20:51:34.405Z"
   },
   {
    "duration": 21,
    "start_time": "2022-06-22T20:51:34.653Z"
   },
   {
    "duration": 11,
    "start_time": "2022-06-22T20:51:34.889Z"
   },
   {
    "duration": 38,
    "start_time": "2022-06-22T20:51:35.885Z"
   },
   {
    "duration": 25,
    "start_time": "2022-06-22T20:51:36.115Z"
   },
   {
    "duration": 21,
    "start_time": "2022-06-22T20:51:36.395Z"
   },
   {
    "duration": 4,
    "start_time": "2022-06-22T20:51:36.642Z"
   },
   {
    "duration": 6,
    "start_time": "2022-06-22T20:51:36.895Z"
   },
   {
    "duration": 27,
    "start_time": "2022-06-22T20:51:37.778Z"
   },
   {
    "duration": 19,
    "start_time": "2022-06-22T20:51:38.092Z"
   },
   {
    "duration": 25,
    "start_time": "2022-06-22T20:51:38.384Z"
   },
   {
    "duration": 7,
    "start_time": "2022-06-22T20:51:39.190Z"
   },
   {
    "duration": 130,
    "start_time": "2022-06-22T20:51:39.579Z"
   },
   {
    "duration": 87,
    "start_time": "2022-06-22T20:51:39.914Z"
   },
   {
    "duration": 42,
    "start_time": "2022-06-22T20:51:40.701Z"
   },
   {
    "duration": 8,
    "start_time": "2022-06-22T20:52:11.590Z"
   },
   {
    "duration": 8,
    "start_time": "2022-06-22T20:52:11.926Z"
   },
   {
    "duration": 20,
    "start_time": "2022-06-22T20:52:12.305Z"
   },
   {
    "duration": 35,
    "start_time": "2022-06-22T20:52:12.892Z"
   },
   {
    "duration": 16,
    "start_time": "2022-06-22T20:52:14.285Z"
   },
   {
    "duration": 16,
    "start_time": "2022-06-22T20:52:16.450Z"
   },
   {
    "duration": 12,
    "start_time": "2022-06-22T20:52:16.692Z"
   },
   {
    "duration": 19,
    "start_time": "2022-06-22T20:52:16.992Z"
   },
   {
    "duration": 22,
    "start_time": "2022-06-22T20:52:17.284Z"
   },
   {
    "duration": 17,
    "start_time": "2022-06-22T20:52:17.516Z"
   },
   {
    "duration": 18,
    "start_time": "2022-06-22T20:52:17.826Z"
   },
   {
    "duration": 287,
    "start_time": "2022-06-22T20:52:18.107Z"
   },
   {
    "duration": 23,
    "start_time": "2022-06-22T20:52:18.399Z"
   },
   {
    "duration": 206,
    "start_time": "2022-06-22T20:52:19.324Z"
   },
   {
    "duration": 138,
    "start_time": "2022-06-22T20:52:19.877Z"
   },
   {
    "duration": 4,
    "start_time": "2022-06-22T20:52:20.417Z"
   },
   {
    "duration": 13,
    "start_time": "2022-06-22T20:52:20.785Z"
   },
   {
    "duration": 5,
    "start_time": "2022-06-22T20:52:21.315Z"
   },
   {
    "duration": 10,
    "start_time": "2022-06-22T20:52:21.651Z"
   },
   {
    "duration": 5,
    "start_time": "2022-06-22T20:52:43.113Z"
   },
   {
    "duration": 6,
    "start_time": "2022-06-22T20:52:43.884Z"
   },
   {
    "duration": 52,
    "start_time": "2022-06-22T20:52:44.482Z"
   },
   {
    "duration": 6,
    "start_time": "2022-06-22T20:52:44.821Z"
   },
   {
    "duration": 3,
    "start_time": "2022-06-22T20:52:45.342Z"
   },
   {
    "duration": 16,
    "start_time": "2022-06-22T20:52:46.090Z"
   },
   {
    "duration": 24,
    "start_time": "2022-06-22T20:52:46.476Z"
   },
   {
    "duration": 25,
    "start_time": "2022-06-22T20:52:52.997Z"
   },
   {
    "duration": 5,
    "start_time": "2022-06-22T20:52:53.794Z"
   },
   {
    "duration": 7,
    "start_time": "2022-06-22T20:52:54.080Z"
   },
   {
    "duration": 7,
    "start_time": "2022-06-22T20:52:54.309Z"
   },
   {
    "duration": 12,
    "start_time": "2022-06-22T20:52:54.538Z"
   },
   {
    "duration": 5,
    "start_time": "2022-06-22T20:52:55.087Z"
   },
   {
    "duration": 16,
    "start_time": "2022-06-22T20:52:55.344Z"
   },
   {
    "duration": 18,
    "start_time": "2022-06-22T20:52:55.580Z"
   },
   {
    "duration": 10,
    "start_time": "2022-06-22T20:52:56.089Z"
   },
   {
    "duration": 9,
    "start_time": "2022-06-22T20:52:56.374Z"
   },
   {
    "duration": 5,
    "start_time": "2022-06-22T20:52:56.600Z"
   },
   {
    "duration": 9,
    "start_time": "2022-06-22T20:52:57.124Z"
   },
   {
    "duration": 14,
    "start_time": "2022-06-22T20:52:57.422Z"
   },
   {
    "duration": 7,
    "start_time": "2022-06-22T20:52:57.951Z"
   },
   {
    "duration": 15,
    "start_time": "2022-06-22T20:52:58.484Z"
   },
   {
    "duration": 23,
    "start_time": "2022-06-22T20:52:58.749Z"
   },
   {
    "duration": 9,
    "start_time": "2022-06-22T20:52:59.283Z"
   },
   {
    "duration": 23,
    "start_time": "2022-06-22T20:52:59.543Z"
   },
   {
    "duration": 14,
    "start_time": "2022-06-22T20:52:59.785Z"
   },
   {
    "duration": 14,
    "start_time": "2022-06-22T20:53:00.073Z"
   },
   {
    "duration": 4,
    "start_time": "2022-06-22T20:53:00.843Z"
   },
   {
    "duration": 3,
    "start_time": "2022-06-22T20:53:01.115Z"
   },
   {
    "duration": 4,
    "start_time": "2022-06-22T20:53:01.422Z"
   },
   {
    "duration": 3,
    "start_time": "2022-06-22T20:53:01.700Z"
   },
   {
    "duration": 4,
    "start_time": "2022-06-22T20:53:01.990Z"
   },
   {
    "duration": 19,
    "start_time": "2022-06-22T20:53:02.924Z"
   },
   {
    "duration": 7,
    "start_time": "2022-06-22T20:53:04.472Z"
   },
   {
    "duration": 7,
    "start_time": "2022-06-22T20:53:04.774Z"
   },
   {
    "duration": 11,
    "start_time": "2022-06-22T20:53:05.895Z"
   },
   {
    "duration": 7,
    "start_time": "2022-06-22T20:53:06.476Z"
   },
   {
    "duration": 4,
    "start_time": "2022-06-22T20:53:06.779Z"
   },
   {
    "duration": 4,
    "start_time": "2022-06-22T20:53:07.295Z"
   },
   {
    "duration": 11,
    "start_time": "2022-06-22T20:53:07.639Z"
   },
   {
    "duration": 5,
    "start_time": "2022-06-22T20:53:08.304Z"
   },
   {
    "duration": 16,
    "start_time": "2022-06-22T20:53:08.935Z"
   },
   {
    "duration": 12,
    "start_time": "2022-06-22T20:53:09.518Z"
   },
   {
    "duration": 11,
    "start_time": "2022-06-22T20:53:09.788Z"
   },
   {
    "duration": 4,
    "start_time": "2022-06-22T20:53:10.515Z"
   },
   {
    "duration": 11,
    "start_time": "2022-06-22T20:53:30.178Z"
   },
   {
    "duration": 83,
    "start_time": "2022-06-22T20:53:31.824Z"
   },
   {
    "duration": 3,
    "start_time": "2022-06-22T20:53:42.527Z"
   },
   {
    "duration": 8,
    "start_time": "2022-06-22T20:53:43.005Z"
   },
   {
    "duration": 11,
    "start_time": "2022-06-22T20:53:43.478Z"
   },
   {
    "duration": 6,
    "start_time": "2022-06-22T20:53:44.576Z"
   },
   {
    "duration": 17,
    "start_time": "2022-06-22T20:53:44.856Z"
   },
   {
    "duration": 6,
    "start_time": "2022-06-22T20:53:45.168Z"
   },
   {
    "duration": 22,
    "start_time": "2022-06-22T20:53:45.451Z"
   },
   {
    "duration": 5,
    "start_time": "2022-06-22T20:53:46.081Z"
   },
   {
    "duration": 10,
    "start_time": "2022-06-22T20:53:46.658Z"
   },
   {
    "duration": 16,
    "start_time": "2022-06-22T20:53:47.350Z"
   },
   {
    "duration": 8,
    "start_time": "2022-06-22T20:53:47.650Z"
   },
   {
    "duration": 5,
    "start_time": "2022-06-22T20:53:47.889Z"
   },
   {
    "duration": 8,
    "start_time": "2022-06-22T20:53:48.272Z"
   },
   {
    "duration": 5,
    "start_time": "2022-06-22T20:53:48.595Z"
   },
   {
    "duration": 5,
    "start_time": "2022-06-22T20:53:48.902Z"
   },
   {
    "duration": 171,
    "start_time": "2022-06-22T20:53:49.755Z"
   },
   {
    "duration": 5,
    "start_time": "2022-06-22T20:53:52.375Z"
   },
   {
    "duration": 6,
    "start_time": "2022-06-22T20:53:52.873Z"
   },
   {
    "duration": 6,
    "start_time": "2022-06-22T20:56:50.584Z"
   },
   {
    "duration": 5,
    "start_time": "2022-06-22T20:58:25.084Z"
   },
   {
    "duration": 4,
    "start_time": "2022-06-22T20:58:25.385Z"
   },
   {
    "duration": 12,
    "start_time": "2022-06-22T20:58:28.155Z"
   },
   {
    "duration": 4,
    "start_time": "2022-06-22T20:58:32.101Z"
   },
   {
    "duration": 16,
    "start_time": "2022-06-22T20:58:33.384Z"
   },
   {
    "duration": 4,
    "start_time": "2022-06-22T20:58:33.902Z"
   },
   {
    "duration": 4,
    "start_time": "2022-06-22T20:58:34.422Z"
   },
   {
    "duration": 17,
    "start_time": "2022-06-22T20:59:21.057Z"
   },
   {
    "duration": 3,
    "start_time": "2022-06-22T20:59:21.303Z"
   },
   {
    "duration": 5,
    "start_time": "2022-06-22T20:59:21.572Z"
   },
   {
    "duration": 20,
    "start_time": "2022-06-22T20:59:21.780Z"
   },
   {
    "duration": 5,
    "start_time": "2022-06-22T20:59:22.313Z"
   },
   {
    "duration": 17,
    "start_time": "2022-06-22T20:59:22.963Z"
   },
   {
    "duration": 17,
    "start_time": "2022-06-22T20:59:23.448Z"
   },
   {
    "duration": 13,
    "start_time": "2022-06-22T20:59:23.678Z"
   },
   {
    "duration": 4,
    "start_time": "2022-06-22T20:59:24.198Z"
   },
   {
    "duration": 10,
    "start_time": "2022-06-22T20:59:24.476Z"
   },
   {
    "duration": 58,
    "start_time": "2022-06-22T20:59:24.981Z"
   },
   {
    "duration": 1583,
    "start_time": "2022-06-22T20:59:26.150Z"
   },
   {
    "duration": 0,
    "start_time": "2022-06-22T20:59:27.735Z"
   },
   {
    "duration": 0,
    "start_time": "2022-06-22T20:59:27.736Z"
   },
   {
    "duration": 6,
    "start_time": "2022-06-22T20:59:27.983Z"
   },
   {
    "duration": 14,
    "start_time": "2022-06-22T20:59:28.251Z"
   },
   {
    "duration": 6,
    "start_time": "2022-06-22T20:59:28.991Z"
   },
   {
    "duration": 9,
    "start_time": "2022-06-22T20:59:29.582Z"
   },
   {
    "duration": 4,
    "start_time": "2022-06-22T20:59:30.219Z"
   },
   {
    "duration": 14,
    "start_time": "2022-06-22T20:59:30.753Z"
   },
   {
    "duration": 5,
    "start_time": "2022-06-22T20:59:31.904Z"
   },
   {
    "duration": 4,
    "start_time": "2022-06-22T20:59:32.503Z"
   },
   {
    "duration": 4,
    "start_time": "2022-06-22T20:59:33.689Z"
   },
   {
    "duration": 4,
    "start_time": "2022-06-22T20:59:34.486Z"
   },
   {
    "duration": 6,
    "start_time": "2022-06-22T20:59:35.074Z"
   },
   {
    "duration": 5,
    "start_time": "2022-06-22T20:59:35.680Z"
   },
   {
    "duration": 185,
    "start_time": "2022-06-22T21:00:05.179Z"
   },
   {
    "duration": 1204,
    "start_time": "2022-06-22T21:03:21.514Z"
   },
   {
    "duration": 3,
    "start_time": "2022-06-22T21:03:48.929Z"
   },
   {
    "duration": 165,
    "start_time": "2022-06-22T21:03:49.568Z"
   },
   {
    "duration": 154,
    "start_time": "2022-06-22T21:03:49.915Z"
   },
   {
    "duration": 103,
    "start_time": "2022-06-22T21:03:50.181Z"
   },
   {
    "duration": 15,
    "start_time": "2022-06-22T21:03:50.523Z"
   },
   {
    "duration": 37,
    "start_time": "2022-06-22T21:03:50.831Z"
   },
   {
    "duration": 9,
    "start_time": "2022-06-22T21:03:51.286Z"
   },
   {
    "duration": 36,
    "start_time": "2022-06-22T21:03:51.648Z"
   },
   {
    "duration": 10,
    "start_time": "2022-06-22T21:03:52.300Z"
   },
   {
    "duration": 20,
    "start_time": "2022-06-22T21:03:52.571Z"
   },
   {
    "duration": 8,
    "start_time": "2022-06-22T21:03:53.205Z"
   },
   {
    "duration": 22,
    "start_time": "2022-06-22T21:03:53.666Z"
   },
   {
    "duration": 7,
    "start_time": "2022-06-22T21:03:54.305Z"
   },
   {
    "duration": 11,
    "start_time": "2022-06-22T21:03:54.609Z"
   },
   {
    "duration": 10,
    "start_time": "2022-06-22T21:03:54.913Z"
   },
   {
    "duration": 11,
    "start_time": "2022-06-22T21:03:55.226Z"
   },
   {
    "duration": 30,
    "start_time": "2022-06-22T21:03:56.666Z"
   },
   {
    "duration": 32,
    "start_time": "2022-06-22T21:03:57.147Z"
   },
   {
    "duration": 20,
    "start_time": "2022-06-22T21:03:57.507Z"
   },
   {
    "duration": 4,
    "start_time": "2022-06-22T21:03:57.781Z"
   },
   {
    "duration": 6,
    "start_time": "2022-06-22T21:03:58.071Z"
   },
   {
    "duration": 24,
    "start_time": "2022-06-22T21:03:58.640Z"
   },
   {
    "duration": 18,
    "start_time": "2022-06-22T21:03:58.905Z"
   },
   {
    "duration": 14,
    "start_time": "2022-06-22T21:03:59.573Z"
   },
   {
    "duration": 8,
    "start_time": "2022-06-22T21:04:07.421Z"
   },
   {
    "duration": 122,
    "start_time": "2022-06-22T21:04:08.230Z"
   },
   {
    "duration": 62,
    "start_time": "2022-06-22T21:04:09.094Z"
   },
   {
    "duration": 48,
    "start_time": "2022-06-22T21:04:09.857Z"
   },
   {
    "duration": 7,
    "start_time": "2022-06-22T21:04:13.043Z"
   },
   {
    "duration": 8,
    "start_time": "2022-06-22T21:04:13.448Z"
   },
   {
    "duration": 21,
    "start_time": "2022-06-22T21:04:13.793Z"
   },
   {
    "duration": 27,
    "start_time": "2022-06-22T21:04:14.150Z"
   },
   {
    "duration": 17,
    "start_time": "2022-06-22T21:04:14.469Z"
   },
   {
    "duration": 8,
    "start_time": "2022-06-22T21:04:16.165Z"
   },
   {
    "duration": 7,
    "start_time": "2022-06-22T21:04:16.443Z"
   },
   {
    "duration": 21,
    "start_time": "2022-06-22T21:04:16.808Z"
   },
   {
    "duration": 22,
    "start_time": "2022-06-22T21:04:17.142Z"
   },
   {
    "duration": 16,
    "start_time": "2022-06-22T21:04:17.575Z"
   },
   {
    "duration": 17,
    "start_time": "2022-06-22T21:04:17.897Z"
   },
   {
    "duration": 274,
    "start_time": "2022-06-22T21:04:18.193Z"
   },
   {
    "duration": 19,
    "start_time": "2022-06-22T21:04:18.486Z"
   },
   {
    "duration": 200,
    "start_time": "2022-06-22T21:04:19.318Z"
   },
   {
    "duration": 137,
    "start_time": "2022-06-22T21:04:19.667Z"
   },
   {
    "duration": 5,
    "start_time": "2022-06-22T21:04:20.001Z"
   },
   {
    "duration": 12,
    "start_time": "2022-06-22T21:04:20.325Z"
   },
   {
    "duration": 5,
    "start_time": "2022-06-22T21:04:25.461Z"
   },
   {
    "duration": 7,
    "start_time": "2022-06-22T21:04:25.788Z"
   },
   {
    "duration": 4,
    "start_time": "2022-06-22T21:04:27.306Z"
   },
   {
    "duration": 4,
    "start_time": "2022-06-22T21:04:28.000Z"
   },
   {
    "duration": 1277,
    "start_time": "2022-06-22T21:04:28.333Z"
   },
   {
    "duration": 1252,
    "start_time": "2022-06-22T21:04:47.618Z"
   },
   {
    "duration": 4,
    "start_time": "2022-06-22T21:05:14.340Z"
   },
   {
    "duration": 73,
    "start_time": "2022-06-22T21:05:15.825Z"
   },
   {
    "duration": 7,
    "start_time": "2022-06-22T21:05:16.168Z"
   },
   {
    "duration": 4,
    "start_time": "2022-06-22T21:05:16.291Z"
   },
   {
    "duration": 18,
    "start_time": "2022-06-22T21:05:17.324Z"
   },
   {
    "duration": 18,
    "start_time": "2022-06-22T21:05:17.851Z"
   },
   {
    "duration": 29,
    "start_time": "2022-06-22T21:05:18.868Z"
   },
   {
    "duration": 6,
    "start_time": "2022-06-22T21:05:19.532Z"
   },
   {
    "duration": 5,
    "start_time": "2022-06-22T21:05:19.879Z"
   },
   {
    "duration": 8,
    "start_time": "2022-06-22T21:05:20.131Z"
   },
   {
    "duration": 14,
    "start_time": "2022-06-22T21:05:20.434Z"
   },
   {
    "duration": 4,
    "start_time": "2022-06-22T21:05:21.508Z"
   },
   {
    "duration": 13,
    "start_time": "2022-06-22T21:05:21.867Z"
   },
   {
    "duration": 13,
    "start_time": "2022-06-22T21:05:22.502Z"
   },
   {
    "duration": 4,
    "start_time": "2022-06-22T21:05:23.617Z"
   },
   {
    "duration": 3,
    "start_time": "2022-06-22T21:05:24.016Z"
   },
   {
    "duration": 4,
    "start_time": "2022-06-22T21:05:24.544Z"
   },
   {
    "duration": 10,
    "start_time": "2022-06-22T21:05:25.462Z"
   },
   {
    "duration": 19,
    "start_time": "2022-06-22T21:05:26.138Z"
   },
   {
    "duration": 4,
    "start_time": "2022-06-22T21:05:27.048Z"
   },
   {
    "duration": 10,
    "start_time": "2022-06-22T21:05:27.844Z"
   },
   {
    "duration": 11,
    "start_time": "2022-06-22T21:05:28.207Z"
   },
   {
    "duration": 7,
    "start_time": "2022-06-22T21:05:28.744Z"
   },
   {
    "duration": 28,
    "start_time": "2022-06-22T21:05:29.117Z"
   },
   {
    "duration": 12,
    "start_time": "2022-06-22T21:05:29.469Z"
   },
   {
    "duration": 8,
    "start_time": "2022-06-22T21:05:29.865Z"
   },
   {
    "duration": 4,
    "start_time": "2022-06-22T21:05:30.565Z"
   },
   {
    "duration": 5,
    "start_time": "2022-06-22T21:05:31.022Z"
   },
   {
    "duration": 5,
    "start_time": "2022-06-22T21:05:31.393Z"
   },
   {
    "duration": 4,
    "start_time": "2022-06-22T21:05:31.737Z"
   },
   {
    "duration": 4,
    "start_time": "2022-06-22T21:05:32.108Z"
   },
   {
    "duration": 17,
    "start_time": "2022-06-22T21:05:33.033Z"
   },
   {
    "duration": 3,
    "start_time": "2022-06-22T21:05:34.026Z"
   },
   {
    "duration": 4,
    "start_time": "2022-06-22T21:05:34.539Z"
   },
   {
    "duration": 11,
    "start_time": "2022-06-22T21:05:34.905Z"
   },
   {
    "duration": 3,
    "start_time": "2022-06-22T21:05:35.715Z"
   },
   {
    "duration": 4,
    "start_time": "2022-06-22T21:05:36.385Z"
   },
   {
    "duration": 3,
    "start_time": "2022-06-22T21:05:36.705Z"
   },
   {
    "duration": 12,
    "start_time": "2022-06-22T21:05:37.080Z"
   },
   {
    "duration": 5,
    "start_time": "2022-06-22T21:05:38.094Z"
   },
   {
    "duration": 12,
    "start_time": "2022-06-22T21:05:39.104Z"
   },
   {
    "duration": 14,
    "start_time": "2022-06-22T21:05:40.228Z"
   },
   {
    "duration": 12,
    "start_time": "2022-06-22T21:05:41.236Z"
   },
   {
    "duration": 4,
    "start_time": "2022-06-22T21:05:42.465Z"
   },
   {
    "duration": 9,
    "start_time": "2022-06-22T21:05:42.915Z"
   },
   {
    "duration": 74,
    "start_time": "2022-06-22T21:05:44.144Z"
   },
   {
    "duration": 4,
    "start_time": "2022-06-22T21:05:45.613Z"
   },
   {
    "duration": 14,
    "start_time": "2022-06-22T21:06:17.545Z"
   },
   {
    "duration": 14,
    "start_time": "2022-06-22T21:06:21.037Z"
   },
   {
    "duration": 5,
    "start_time": "2022-06-22T21:06:38.433Z"
   },
   {
    "duration": 9,
    "start_time": "2022-06-22T21:06:38.721Z"
   },
   {
    "duration": 6,
    "start_time": "2022-06-22T21:06:39.330Z"
   },
   {
    "duration": 9,
    "start_time": "2022-06-22T21:06:39.877Z"
   },
   {
    "duration": 10,
    "start_time": "2022-06-22T21:06:40.853Z"
   },
   {
    "duration": 4,
    "start_time": "2022-06-22T21:06:41.411Z"
   },
   {
    "duration": 5,
    "start_time": "2022-06-22T21:06:47.834Z"
   },
   {
    "duration": 5,
    "start_time": "2022-06-22T21:06:48.565Z"
   },
   {
    "duration": 4,
    "start_time": "2022-06-22T21:06:49.079Z"
   },
   {
    "duration": 4,
    "start_time": "2022-06-22T21:06:49.467Z"
   },
   {
    "duration": 5,
    "start_time": "2022-06-22T21:06:49.818Z"
   },
   {
    "duration": 5,
    "start_time": "2022-06-22T21:06:50.128Z"
   },
   {
    "duration": 158,
    "start_time": "2022-06-22T21:06:51.288Z"
   },
   {
    "duration": 5,
    "start_time": "2022-06-22T21:06:54.187Z"
   },
   {
    "duration": 5,
    "start_time": "2022-06-22T21:06:54.937Z"
   },
   {
    "duration": 5,
    "start_time": "2022-06-22T21:06:55.220Z"
   },
   {
    "duration": 5,
    "start_time": "2022-06-22T21:06:55.512Z"
   },
   {
    "duration": 4,
    "start_time": "2022-06-22T21:07:56.098Z"
   },
   {
    "duration": 4,
    "start_time": "2022-06-22T21:07:56.318Z"
   },
   {
    "duration": 5,
    "start_time": "2022-06-22T21:07:56.787Z"
   },
   {
    "duration": 5,
    "start_time": "2022-06-22T21:07:57.000Z"
   },
   {
    "duration": 4,
    "start_time": "2022-06-22T21:08:11.602Z"
   },
   {
    "duration": 5,
    "start_time": "2022-06-22T21:08:12.824Z"
   },
   {
    "duration": 4,
    "start_time": "2022-06-22T21:08:13.591Z"
   },
   {
    "duration": 5,
    "start_time": "2022-06-22T21:08:14.391Z"
   },
   {
    "duration": 169,
    "start_time": "2022-06-22T21:08:16.377Z"
   },
   {
    "duration": 5,
    "start_time": "2022-06-22T21:36:35.195Z"
   },
   {
    "duration": 11,
    "start_time": "2022-06-22T21:36:35.403Z"
   },
   {
    "duration": 4,
    "start_time": "2022-06-22T21:36:35.788Z"
   },
   {
    "duration": 6,
    "start_time": "2022-06-22T21:36:36.305Z"
   },
   {
    "duration": 4,
    "start_time": "2022-06-22T21:37:35.932Z"
   },
   {
    "duration": 13,
    "start_time": "2022-06-22T21:37:36.672Z"
   },
   {
    "duration": 5,
    "start_time": "2022-06-22T21:37:37.202Z"
   },
   {
    "duration": 7,
    "start_time": "2022-06-22T21:37:38.666Z"
   },
   {
    "duration": 6,
    "start_time": "2022-06-22T21:37:39.196Z"
   },
   {
    "duration": 4,
    "start_time": "2022-06-22T21:37:39.676Z"
   },
   {
    "duration": 5,
    "start_time": "2022-06-22T21:37:40.327Z"
   },
   {
    "duration": 5,
    "start_time": "2022-06-22T21:37:40.631Z"
   },
   {
    "duration": 4,
    "start_time": "2022-06-22T21:37:41.599Z"
   },
   {
    "duration": 7,
    "start_time": "2022-06-22T21:39:25.484Z"
   },
   {
    "duration": 5,
    "start_time": "2022-06-22T21:39:33.914Z"
   },
   {
    "duration": 203,
    "start_time": "2022-06-22T21:45:06.667Z"
   },
   {
    "duration": 110,
    "start_time": "2022-06-22T21:46:48.911Z"
   },
   {
    "duration": 11,
    "start_time": "2022-06-22T21:50:16.616Z"
   },
   {
    "duration": 16,
    "start_time": "2022-06-22T21:50:24.071Z"
   },
   {
    "duration": 12,
    "start_time": "2022-06-22T21:52:19.896Z"
   },
   {
    "duration": 18,
    "start_time": "2022-06-22T21:52:32.925Z"
   },
   {
    "duration": 3,
    "start_time": "2022-06-22T22:37:16.988Z"
   },
   {
    "duration": 148,
    "start_time": "2022-06-22T22:37:17.493Z"
   },
   {
    "duration": 122,
    "start_time": "2022-06-22T22:37:17.749Z"
   },
   {
    "duration": 107,
    "start_time": "2022-06-22T22:37:18.022Z"
   },
   {
    "duration": 14,
    "start_time": "2022-06-22T22:37:18.294Z"
   },
   {
    "duration": 36,
    "start_time": "2022-06-22T22:37:18.584Z"
   },
   {
    "duration": 9,
    "start_time": "2022-06-22T22:37:19.130Z"
   },
   {
    "duration": 24,
    "start_time": "2022-06-22T22:37:19.376Z"
   },
   {
    "duration": 10,
    "start_time": "2022-06-22T22:37:20.028Z"
   },
   {
    "duration": 23,
    "start_time": "2022-06-22T22:37:21.620Z"
   },
   {
    "duration": 21,
    "start_time": "2022-06-22T22:37:23.075Z"
   },
   {
    "duration": 8,
    "start_time": "2022-06-22T22:37:23.686Z"
   },
   {
    "duration": 19,
    "start_time": "2022-06-22T22:37:23.929Z"
   },
   {
    "duration": 7,
    "start_time": "2022-06-22T22:37:24.316Z"
   },
   {
    "duration": 10,
    "start_time": "2022-06-22T22:37:24.574Z"
   },
   {
    "duration": 10,
    "start_time": "2022-06-22T22:37:24.813Z"
   },
   {
    "duration": 9,
    "start_time": "2022-06-22T22:37:25.007Z"
   },
   {
    "duration": 33,
    "start_time": "2022-06-22T22:37:25.883Z"
   },
   {
    "duration": 23,
    "start_time": "2022-06-22T22:37:26.103Z"
   },
   {
    "duration": 19,
    "start_time": "2022-06-22T22:37:26.317Z"
   },
   {
    "duration": 4,
    "start_time": "2022-06-22T22:37:26.519Z"
   },
   {
    "duration": 4,
    "start_time": "2022-06-22T22:37:26.756Z"
   },
   {
    "duration": 26,
    "start_time": "2022-06-22T22:37:27.197Z"
   },
   {
    "duration": 17,
    "start_time": "2022-06-22T22:37:27.405Z"
   },
   {
    "duration": 15,
    "start_time": "2022-06-22T22:37:27.596Z"
   },
   {
    "duration": 6,
    "start_time": "2022-06-22T22:37:28.017Z"
   },
   {
    "duration": 114,
    "start_time": "2022-06-22T22:37:28.209Z"
   },
   {
    "duration": 57,
    "start_time": "2022-06-22T22:37:28.434Z"
   },
   {
    "duration": 41,
    "start_time": "2022-06-22T22:37:28.619Z"
   },
   {
    "duration": 6,
    "start_time": "2022-06-22T22:37:29.184Z"
   },
   {
    "duration": 7,
    "start_time": "2022-06-22T22:37:29.365Z"
   },
   {
    "duration": 23,
    "start_time": "2022-06-22T22:37:29.641Z"
   },
   {
    "duration": 22,
    "start_time": "2022-06-22T22:37:29.803Z"
   },
   {
    "duration": 18,
    "start_time": "2022-06-22T22:37:30.042Z"
   },
   {
    "duration": 18,
    "start_time": "2022-06-22T22:37:30.218Z"
   },
   {
    "duration": 200,
    "start_time": "2022-06-22T22:37:30.396Z"
   },
   {
    "duration": 18,
    "start_time": "2022-06-22T22:37:30.598Z"
   },
   {
    "duration": 236,
    "start_time": "2022-06-22T22:37:30.954Z"
   },
   {
    "duration": 150,
    "start_time": "2022-06-22T22:37:31.192Z"
   },
   {
    "duration": 5,
    "start_time": "2022-06-22T22:37:31.352Z"
   },
   {
    "duration": 11,
    "start_time": "2022-06-22T22:37:31.541Z"
   },
   {
    "duration": 5,
    "start_time": "2022-06-22T22:37:31.810Z"
   },
   {
    "duration": 7,
    "start_time": "2022-06-22T22:37:32.409Z"
   },
   {
    "duration": 4,
    "start_time": "2022-06-22T22:37:33.411Z"
   },
   {
    "duration": 4,
    "start_time": "2022-06-22T22:37:34.220Z"
   },
   {
    "duration": 55,
    "start_time": "2022-06-22T22:37:35.186Z"
   },
   {
    "duration": 5,
    "start_time": "2022-06-22T22:37:35.600Z"
   },
   {
    "duration": 3,
    "start_time": "2022-06-22T22:37:36.019Z"
   },
   {
    "duration": 10,
    "start_time": "2022-06-22T22:37:36.768Z"
   },
   {
    "duration": 4,
    "start_time": "2022-06-22T22:37:37.104Z"
   },
   {
    "duration": 14,
    "start_time": "2022-06-22T22:37:37.381Z"
   },
   {
    "duration": 30,
    "start_time": "2022-06-22T22:37:38.102Z"
   },
   {
    "duration": 5,
    "start_time": "2022-06-22T22:37:52.793Z"
   },
   {
    "duration": 5,
    "start_time": "2022-06-22T22:37:52.959Z"
   },
   {
    "duration": 8,
    "start_time": "2022-06-22T22:37:53.148Z"
   },
   {
    "duration": 13,
    "start_time": "2022-06-22T22:37:53.324Z"
   },
   {
    "duration": 4,
    "start_time": "2022-06-22T22:37:53.697Z"
   },
   {
    "duration": 12,
    "start_time": "2022-06-22T22:37:53.895Z"
   },
   {
    "duration": 13,
    "start_time": "2022-06-22T22:37:54.334Z"
   },
   {
    "duration": 5,
    "start_time": "2022-06-22T22:37:54.908Z"
   },
   {
    "duration": 4,
    "start_time": "2022-06-22T22:37:55.094Z"
   },
   {
    "duration": 5,
    "start_time": "2022-06-22T22:37:55.287Z"
   },
   {
    "duration": 9,
    "start_time": "2022-06-22T22:37:55.633Z"
   },
   {
    "duration": 15,
    "start_time": "2022-06-22T22:38:54.827Z"
   },
   {
    "duration": 4,
    "start_time": "2022-06-22T22:38:55.241Z"
   },
   {
    "duration": 10,
    "start_time": "2022-06-22T22:38:55.716Z"
   },
   {
    "duration": 12,
    "start_time": "2022-06-22T22:38:55.869Z"
   },
   {
    "duration": 8,
    "start_time": "2022-06-22T22:38:56.227Z"
   },
   {
    "duration": 18,
    "start_time": "2022-06-22T22:38:56.464Z"
   },
   {
    "duration": 11,
    "start_time": "2022-06-22T22:38:56.685Z"
   },
   {
    "duration": 6,
    "start_time": "2022-06-22T22:38:56.869Z"
   },
   {
    "duration": 3,
    "start_time": "2022-06-22T22:38:57.333Z"
   },
   {
    "duration": 6,
    "start_time": "2022-06-22T22:38:57.559Z"
   },
   {
    "duration": 4,
    "start_time": "2022-06-22T22:38:57.768Z"
   },
   {
    "duration": 5,
    "start_time": "2022-06-22T22:38:58.017Z"
   },
   {
    "duration": 4,
    "start_time": "2022-06-22T22:38:58.218Z"
   },
   {
    "duration": 18,
    "start_time": "2022-06-22T22:38:58.905Z"
   },
   {
    "duration": 4,
    "start_time": "2022-06-22T22:38:59.381Z"
   },
   {
    "duration": 4,
    "start_time": "2022-06-22T22:38:59.631Z"
   },
   {
    "duration": 12,
    "start_time": "2022-06-22T22:38:59.888Z"
   },
   {
    "duration": 5,
    "start_time": "2022-06-22T22:39:00.367Z"
   },
   {
    "duration": 4,
    "start_time": "2022-06-22T22:39:00.590Z"
   },
   {
    "duration": 4,
    "start_time": "2022-06-22T22:39:00.819Z"
   },
   {
    "duration": 14,
    "start_time": "2022-06-22T22:39:01.020Z"
   },
   {
    "duration": 5,
    "start_time": "2022-06-22T22:39:01.545Z"
   },
   {
    "duration": 11,
    "start_time": "2022-06-22T22:39:01.999Z"
   },
   {
    "duration": 13,
    "start_time": "2022-06-22T22:39:02.446Z"
   },
   {
    "duration": 21,
    "start_time": "2022-06-22T22:39:02.742Z"
   },
   {
    "duration": 4,
    "start_time": "2022-06-22T22:39:09.097Z"
   },
   {
    "duration": 9,
    "start_time": "2022-06-22T22:39:09.307Z"
   },
   {
    "duration": 68,
    "start_time": "2022-06-22T22:39:09.646Z"
   },
   {
    "duration": 4,
    "start_time": "2022-06-22T22:39:10.221Z"
   },
   {
    "duration": 7,
    "start_time": "2022-06-22T22:39:10.593Z"
   },
   {
    "duration": 11,
    "start_time": "2022-06-22T22:39:11.125Z"
   },
   {
    "duration": 4,
    "start_time": "2022-06-22T22:39:12.016Z"
   },
   {
    "duration": 9,
    "start_time": "2022-06-22T22:39:12.202Z"
   },
   {
    "duration": 5,
    "start_time": "2022-06-22T22:39:12.643Z"
   },
   {
    "duration": 11,
    "start_time": "2022-06-22T22:39:13.063Z"
   },
   {
    "duration": 4,
    "start_time": "2022-06-22T22:39:13.479Z"
   },
   {
    "duration": 11,
    "start_time": "2022-06-22T22:39:13.669Z"
   },
   {
    "duration": 5,
    "start_time": "2022-06-22T22:39:14.378Z"
   },
   {
    "duration": 5,
    "start_time": "2022-06-22T22:39:14.884Z"
   },
   {
    "duration": 4,
    "start_time": "2022-06-22T22:39:15.329Z"
   },
   {
    "duration": 5,
    "start_time": "2022-06-22T22:39:15.619Z"
   },
   {
    "duration": 9,
    "start_time": "2022-06-22T22:39:15.866Z"
   },
   {
    "duration": 4,
    "start_time": "2022-06-22T22:39:16.081Z"
   },
   {
    "duration": 175,
    "start_time": "2022-06-22T22:39:16.844Z"
   },
   {
    "duration": 9,
    "start_time": "2022-06-22T22:39:19.058Z"
   },
   {
    "duration": 5,
    "start_time": "2022-06-22T22:39:47.239Z"
   },
   {
    "duration": 5,
    "start_time": "2022-06-22T22:39:47.515Z"
   },
   {
    "duration": 4,
    "start_time": "2022-06-22T22:39:47.805Z"
   },
   {
    "duration": 5,
    "start_time": "2022-06-22T22:39:48.564Z"
   },
   {
    "duration": 5,
    "start_time": "2022-06-22T22:39:48.945Z"
   },
   {
    "duration": 6,
    "start_time": "2022-06-22T22:39:50.885Z"
   },
   {
    "duration": 6,
    "start_time": "2022-06-22T22:39:51.404Z"
   },
   {
    "duration": 6,
    "start_time": "2022-06-22T22:39:51.830Z"
   },
   {
    "duration": 4,
    "start_time": "2022-06-22T22:39:52.137Z"
   },
   {
    "duration": 6,
    "start_time": "2022-06-22T22:39:52.348Z"
   },
   {
    "duration": 5,
    "start_time": "2022-06-22T22:39:52.539Z"
   },
   {
    "duration": 182,
    "start_time": "2022-06-22T22:39:53.094Z"
   },
   {
    "duration": 4,
    "start_time": "2022-06-22T22:39:53.779Z"
   },
   {
    "duration": 10,
    "start_time": "2022-06-22T22:39:54.069Z"
   },
   {
    "duration": 10,
    "start_time": "2022-06-22T22:39:54.451Z"
   },
   {
    "duration": 6,
    "start_time": "2022-06-22T22:39:55.095Z"
   },
   {
    "duration": 5,
    "start_time": "2022-06-22T22:39:55.730Z"
   },
   {
    "duration": 12,
    "start_time": "2022-06-22T22:40:01.282Z"
   },
   {
    "duration": 4,
    "start_time": "2022-06-22T22:40:01.486Z"
   },
   {
    "duration": 9,
    "start_time": "2022-06-22T22:40:01.848Z"
   },
   {
    "duration": 5,
    "start_time": "2022-06-22T22:40:02.064Z"
   },
   {
    "duration": 5,
    "start_time": "2022-06-22T22:40:02.324Z"
   },
   {
    "duration": 8,
    "start_time": "2022-06-22T22:40:02.560Z"
   },
   {
    "duration": 9,
    "start_time": "2022-06-22T22:40:02.861Z"
   },
   {
    "duration": 5,
    "start_time": "2022-06-22T22:40:03.618Z"
   },
   {
    "duration": 153,
    "start_time": "2022-06-22T22:41:02.675Z"
   },
   {
    "duration": 3,
    "start_time": "2022-06-22T22:56:41.828Z"
   },
   {
    "duration": 10,
    "start_time": "2022-06-22T22:57:19.011Z"
   },
   {
    "duration": 4,
    "start_time": "2022-06-22T22:58:01.228Z"
   },
   {
    "duration": 4,
    "start_time": "2022-06-22T22:58:04.262Z"
   },
   {
    "duration": 4,
    "start_time": "2022-06-22T23:15:12.586Z"
   },
   {
    "duration": 4,
    "start_time": "2022-06-22T23:15:13.591Z"
   },
   {
    "duration": 12,
    "start_time": "2022-06-22T23:15:39.069Z"
   },
   {
    "duration": 10,
    "start_time": "2022-06-22T23:17:08.043Z"
   },
   {
    "duration": 6,
    "start_time": "2022-06-22T23:17:27.630Z"
   },
   {
    "duration": 6,
    "start_time": "2022-06-22T23:17:45.380Z"
   },
   {
    "duration": 6,
    "start_time": "2022-06-23T00:37:21.509Z"
   },
   {
    "duration": 15,
    "start_time": "2022-06-23T00:42:08.467Z"
   },
   {
    "duration": 6,
    "start_time": "2022-06-23T00:47:12.896Z"
   },
   {
    "duration": 5,
    "start_time": "2022-06-23T00:47:30.046Z"
   },
   {
    "duration": 27,
    "start_time": "2022-06-23T00:48:01.465Z"
   },
   {
    "duration": 33,
    "start_time": "2022-06-23T00:48:08.014Z"
   },
   {
    "duration": 29,
    "start_time": "2022-06-23T00:48:29.844Z"
   },
   {
    "duration": 9,
    "start_time": "2022-06-23T00:48:53.767Z"
   },
   {
    "duration": 13,
    "start_time": "2022-06-23T00:50:33.776Z"
   },
   {
    "duration": 15,
    "start_time": "2022-06-23T00:50:39.865Z"
   },
   {
    "duration": 5,
    "start_time": "2022-06-23T00:53:53.906Z"
   },
   {
    "duration": 6,
    "start_time": "2022-06-23T00:55:10.091Z"
   },
   {
    "duration": 103,
    "start_time": "2022-06-23T00:55:22.213Z"
   },
   {
    "duration": 13,
    "start_time": "2022-06-23T00:55:29.356Z"
   },
   {
    "duration": 4,
    "start_time": "2022-06-23T00:56:50.310Z"
   },
   {
    "duration": 5,
    "start_time": "2022-06-23T00:56:50.564Z"
   },
   {
    "duration": 5,
    "start_time": "2022-06-23T00:56:50.824Z"
   },
   {
    "duration": 6,
    "start_time": "2022-06-23T00:56:51.354Z"
   },
   {
    "duration": 19,
    "start_time": "2022-06-23T00:56:52.893Z"
   },
   {
    "duration": 5,
    "start_time": "2022-06-23T00:57:07.064Z"
   },
   {
    "duration": 4,
    "start_time": "2022-06-23T00:58:21.824Z"
   },
   {
    "duration": 4,
    "start_time": "2022-06-23T00:58:22.090Z"
   },
   {
    "duration": 6,
    "start_time": "2022-06-23T00:58:22.356Z"
   },
   {
    "duration": 3,
    "start_time": "2022-06-23T00:58:22.589Z"
   },
   {
    "duration": 19,
    "start_time": "2022-06-23T00:58:23.421Z"
   },
   {
    "duration": 4,
    "start_time": "2022-06-23T00:58:24.035Z"
   },
   {
    "duration": 3,
    "start_time": "2022-06-23T00:58:25.287Z"
   },
   {
    "duration": 11,
    "start_time": "2022-06-23T00:58:26.102Z"
   },
   {
    "duration": 3,
    "start_time": "2022-06-23T00:58:27.574Z"
   },
   {
    "duration": 4,
    "start_time": "2022-06-23T00:58:30.064Z"
   },
   {
    "duration": 13,
    "start_time": "2022-06-23T00:58:43.803Z"
   },
   {
    "duration": 11,
    "start_time": "2022-06-23T00:58:44.107Z"
   },
   {
    "duration": 3,
    "start_time": "2022-06-23T00:59:12.071Z"
   },
   {
    "duration": 11,
    "start_time": "2022-06-23T00:59:21.365Z"
   },
   {
    "duration": 8,
    "start_time": "2022-06-23T00:59:23.053Z"
   },
   {
    "duration": 26,
    "start_time": "2022-06-23T00:59:30.622Z"
   },
   {
    "duration": 9,
    "start_time": "2022-06-23T00:59:38.425Z"
   },
   {
    "duration": 3,
    "start_time": "2022-06-23T01:00:02.243Z"
   },
   {
    "duration": 158,
    "start_time": "2022-06-23T01:00:03.055Z"
   },
   {
    "duration": 138,
    "start_time": "2022-06-23T01:00:03.336Z"
   },
   {
    "duration": 90,
    "start_time": "2022-06-23T01:00:03.592Z"
   },
   {
    "duration": 15,
    "start_time": "2022-06-23T01:00:03.889Z"
   },
   {
    "duration": 36,
    "start_time": "2022-06-23T01:00:04.286Z"
   },
   {
    "duration": 9,
    "start_time": "2022-06-23T01:00:04.779Z"
   },
   {
    "duration": 23,
    "start_time": "2022-06-23T01:00:05.023Z"
   },
   {
    "duration": 12,
    "start_time": "2022-06-23T01:00:05.548Z"
   },
   {
    "duration": 22,
    "start_time": "2022-06-23T01:00:05.807Z"
   },
   {
    "duration": 10,
    "start_time": "2022-06-23T01:00:06.360Z"
   },
   {
    "duration": 17,
    "start_time": "2022-06-23T01:00:06.615Z"
   },
   {
    "duration": 8,
    "start_time": "2022-06-23T01:00:07.172Z"
   },
   {
    "duration": 10,
    "start_time": "2022-06-23T01:00:07.479Z"
   },
   {
    "duration": 14,
    "start_time": "2022-06-23T01:00:07.744Z"
   },
   {
    "duration": 19,
    "start_time": "2022-06-23T01:00:08.055Z"
   },
   {
    "duration": 38,
    "start_time": "2022-06-23T01:00:09.448Z"
   },
   {
    "duration": 24,
    "start_time": "2022-06-23T01:00:09.709Z"
   },
   {
    "duration": 20,
    "start_time": "2022-06-23T01:00:09.965Z"
   },
   {
    "duration": 5,
    "start_time": "2022-06-23T01:00:10.264Z"
   },
   {
    "duration": 4,
    "start_time": "2022-06-23T01:00:10.538Z"
   },
   {
    "duration": 21,
    "start_time": "2022-06-23T01:00:11.125Z"
   },
   {
    "duration": 17,
    "start_time": "2022-06-23T01:00:11.392Z"
   },
   {
    "duration": 14,
    "start_time": "2022-06-23T01:00:11.676Z"
   },
   {
    "duration": 7,
    "start_time": "2022-06-23T01:00:12.222Z"
   },
   {
    "duration": 108,
    "start_time": "2022-06-23T01:00:12.761Z"
   },
   {
    "duration": 60,
    "start_time": "2022-06-23T01:00:13.065Z"
   },
   {
    "duration": 43,
    "start_time": "2022-06-23T01:00:13.368Z"
   },
   {
    "duration": 7,
    "start_time": "2022-06-23T01:00:14.182Z"
   },
   {
    "duration": 7,
    "start_time": "2022-06-23T01:00:14.438Z"
   },
   {
    "duration": 19,
    "start_time": "2022-06-23T01:00:14.714Z"
   },
   {
    "duration": 19,
    "start_time": "2022-06-23T01:00:14.997Z"
   },
   {
    "duration": 15,
    "start_time": "2022-06-23T01:00:15.310Z"
   },
   {
    "duration": 16,
    "start_time": "2022-06-23T01:00:17.546Z"
   },
   {
    "duration": 20,
    "start_time": "2022-06-23T01:00:17.807Z"
   },
   {
    "duration": 25,
    "start_time": "2022-06-23T01:00:18.109Z"
   },
   {
    "duration": 16,
    "start_time": "2022-06-23T01:00:18.400Z"
   },
   {
    "duration": 17,
    "start_time": "2022-06-23T01:00:18.665Z"
   },
   {
    "duration": 207,
    "start_time": "2022-06-23T01:00:18.967Z"
   },
   {
    "duration": 18,
    "start_time": "2022-06-23T01:00:19.265Z"
   },
   {
    "duration": 292,
    "start_time": "2022-06-23T01:00:19.818Z"
   },
   {
    "duration": 133,
    "start_time": "2022-06-23T01:00:20.113Z"
   },
   {
    "duration": 4,
    "start_time": "2022-06-23T01:00:20.318Z"
   },
   {
    "duration": 11,
    "start_time": "2022-06-23T01:00:20.838Z"
   },
   {
    "duration": 5,
    "start_time": "2022-06-23T01:00:21.453Z"
   },
   {
    "duration": 6,
    "start_time": "2022-06-23T01:00:21.797Z"
   },
   {
    "duration": 5,
    "start_time": "2022-06-23T01:00:24.231Z"
   },
   {
    "duration": 5,
    "start_time": "2022-06-23T01:00:24.853Z"
   },
   {
    "duration": 57,
    "start_time": "2022-06-23T01:00:25.407Z"
   },
   {
    "duration": 5,
    "start_time": "2022-06-23T01:00:25.727Z"
   },
   {
    "duration": 4,
    "start_time": "2022-06-23T01:00:26.133Z"
   },
   {
    "duration": 11,
    "start_time": "2022-06-23T01:00:26.702Z"
   },
   {
    "duration": 4,
    "start_time": "2022-06-23T01:00:27.017Z"
   },
   {
    "duration": 13,
    "start_time": "2022-06-23T01:00:27.316Z"
   },
   {
    "duration": 19,
    "start_time": "2022-06-23T01:00:27.915Z"
   },
   {
    "duration": 7,
    "start_time": "2022-06-23T01:00:28.556Z"
   },
   {
    "duration": 6,
    "start_time": "2022-06-23T01:00:28.882Z"
   },
   {
    "duration": 7,
    "start_time": "2022-06-23T01:00:29.241Z"
   },
   {
    "duration": 13,
    "start_time": "2022-06-23T01:00:29.609Z"
   },
   {
    "duration": 4,
    "start_time": "2022-06-23T01:00:30.847Z"
   },
   {
    "duration": 13,
    "start_time": "2022-06-23T01:00:31.701Z"
   },
   {
    "duration": 16,
    "start_time": "2022-06-23T01:00:32.439Z"
   },
   {
    "duration": 4,
    "start_time": "2022-06-23T01:00:34.086Z"
   },
   {
    "duration": 3,
    "start_time": "2022-06-23T01:00:34.742Z"
   },
   {
    "duration": 5,
    "start_time": "2022-06-23T01:00:35.327Z"
   },
   {
    "duration": 8,
    "start_time": "2022-06-23T01:00:36.589Z"
   },
   {
    "duration": 16,
    "start_time": "2022-06-23T01:00:37.465Z"
   },
   {
    "duration": 4,
    "start_time": "2022-06-23T01:00:39.596Z"
   },
   {
    "duration": 9,
    "start_time": "2022-06-23T01:00:40.886Z"
   },
   {
    "duration": 10,
    "start_time": "2022-06-23T01:00:41.592Z"
   },
   {
    "duration": 8,
    "start_time": "2022-06-23T01:00:42.743Z"
   },
   {
    "duration": 17,
    "start_time": "2022-06-23T01:00:44.833Z"
   },
   {
    "duration": 11,
    "start_time": "2022-06-23T01:00:44.994Z"
   },
   {
    "duration": 7,
    "start_time": "2022-06-23T01:00:45.294Z"
   },
   {
    "duration": 3,
    "start_time": "2022-06-23T01:00:46.207Z"
   },
   {
    "duration": 4,
    "start_time": "2022-06-23T01:00:46.930Z"
   },
   {
    "duration": 4,
    "start_time": "2022-06-23T01:00:47.500Z"
   },
   {
    "duration": 4,
    "start_time": "2022-06-23T01:00:47.662Z"
   },
   {
    "duration": 19,
    "start_time": "2022-06-23T01:00:49.465Z"
   },
   {
    "duration": 4,
    "start_time": "2022-06-23T01:00:51.465Z"
   },
   {
    "duration": 4,
    "start_time": "2022-06-23T01:00:52.094Z"
   },
   {
    "duration": 11,
    "start_time": "2022-06-23T01:00:53.441Z"
   },
   {
    "duration": 3,
    "start_time": "2022-06-23T01:00:54.581Z"
   },
   {
    "duration": 3,
    "start_time": "2022-06-23T01:00:55.265Z"
   },
   {
    "duration": 2,
    "start_time": "2022-06-23T01:00:55.897Z"
   },
   {
    "duration": 11,
    "start_time": "2022-06-23T01:00:56.778Z"
   },
   {
    "duration": 6,
    "start_time": "2022-06-23T01:00:58.251Z"
   },
   {
    "duration": 9,
    "start_time": "2022-06-23T01:00:59.665Z"
   },
   {
    "duration": 4,
    "start_time": "2022-06-23T01:01:26.374Z"
   },
   {
    "duration": 5,
    "start_time": "2022-06-23T01:01:33.927Z"
   },
   {
    "duration": 11,
    "start_time": "2022-06-23T01:01:54.074Z"
   },
   {
    "duration": 6,
    "start_time": "2022-06-23T01:03:14.442Z"
   },
   {
    "duration": 4,
    "start_time": "2022-06-23T01:03:23.747Z"
   },
   {
    "duration": 6,
    "start_time": "2022-06-23T01:05:09.688Z"
   },
   {
    "duration": 4,
    "start_time": "2022-06-23T01:05:21.486Z"
   },
   {
    "duration": 958,
    "start_time": "2022-06-23T01:05:34.573Z"
   },
   {
    "duration": 163,
    "start_time": "2022-06-23T01:32:47.940Z"
   },
   {
    "duration": 132,
    "start_time": "2022-06-23T01:32:48.108Z"
   },
   {
    "duration": 101,
    "start_time": "2022-06-23T01:32:48.960Z"
   },
   {
    "duration": 14,
    "start_time": "2022-06-23T01:32:49.236Z"
   },
   {
    "duration": 28,
    "start_time": "2022-06-23T01:32:49.533Z"
   },
   {
    "duration": 9,
    "start_time": "2022-06-23T01:32:50.088Z"
   },
   {
    "duration": 26,
    "start_time": "2022-06-23T01:32:50.369Z"
   },
   {
    "duration": 9,
    "start_time": "2022-06-23T01:32:50.879Z"
   },
   {
    "duration": 20,
    "start_time": "2022-06-23T01:32:51.152Z"
   },
   {
    "duration": 8,
    "start_time": "2022-06-23T01:32:51.709Z"
   },
   {
    "duration": 19,
    "start_time": "2022-06-23T01:32:51.998Z"
   },
   {
    "duration": 8,
    "start_time": "2022-06-23T01:32:52.608Z"
   },
   {
    "duration": 10,
    "start_time": "2022-06-23T01:32:52.876Z"
   },
   {
    "duration": 10,
    "start_time": "2022-06-23T01:32:53.254Z"
   },
   {
    "duration": 11,
    "start_time": "2022-06-23T01:32:53.539Z"
   },
   {
    "duration": 34,
    "start_time": "2022-06-23T01:32:56.156Z"
   },
   {
    "duration": 25,
    "start_time": "2022-06-23T01:32:56.862Z"
   },
   {
    "duration": 20,
    "start_time": "2022-06-23T01:32:57.488Z"
   },
   {
    "duration": 4,
    "start_time": "2022-06-23T01:32:58.294Z"
   },
   {
    "duration": 4,
    "start_time": "2022-06-23T01:32:58.924Z"
   },
   {
    "duration": 23,
    "start_time": "2022-06-23T01:33:00.722Z"
   },
   {
    "duration": 16,
    "start_time": "2022-06-23T01:33:01.533Z"
   },
   {
    "duration": 14,
    "start_time": "2022-06-23T01:33:02.364Z"
   },
   {
    "duration": 6,
    "start_time": "2022-06-23T01:33:03.828Z"
   },
   {
    "duration": 87,
    "start_time": "2022-06-23T01:33:04.244Z"
   },
   {
    "duration": 52,
    "start_time": "2022-06-23T01:33:04.561Z"
   },
   {
    "duration": 40,
    "start_time": "2022-06-23T01:33:05.112Z"
   },
   {
    "duration": 7,
    "start_time": "2022-06-23T01:33:06.274Z"
   },
   {
    "duration": 7,
    "start_time": "2022-06-23T01:33:06.667Z"
   },
   {
    "duration": 20,
    "start_time": "2022-06-23T01:33:07.049Z"
   },
   {
    "duration": 20,
    "start_time": "2022-06-23T01:33:07.230Z"
   },
   {
    "duration": 17,
    "start_time": "2022-06-23T01:33:07.704Z"
   },
   {
    "duration": 22,
    "start_time": "2022-06-23T01:33:08.037Z"
   },
   {
    "duration": 195,
    "start_time": "2022-06-23T01:33:08.376Z"
   },
   {
    "duration": 17,
    "start_time": "2022-06-23T01:33:08.681Z"
   },
   {
    "duration": 186,
    "start_time": "2022-06-23T01:33:09.387Z"
   },
   {
    "duration": 135,
    "start_time": "2022-06-23T01:33:09.851Z"
   },
   {
    "duration": 4,
    "start_time": "2022-06-23T01:33:10.642Z"
   },
   {
    "duration": 12,
    "start_time": "2022-06-23T01:33:11.205Z"
   },
   {
    "duration": 5,
    "start_time": "2022-06-23T01:33:12.525Z"
   },
   {
    "duration": 8,
    "start_time": "2022-06-23T01:33:18.537Z"
   },
   {
    "duration": 5,
    "start_time": "2022-06-23T01:33:19.822Z"
   },
   {
    "duration": 4,
    "start_time": "2022-06-23T01:33:20.317Z"
   },
   {
    "duration": 46,
    "start_time": "2022-06-23T01:33:21.108Z"
   },
   {
    "duration": 5,
    "start_time": "2022-06-23T01:33:21.378Z"
   },
   {
    "duration": 4,
    "start_time": "2022-06-23T01:33:21.683Z"
   },
   {
    "duration": 11,
    "start_time": "2022-06-23T01:33:22.301Z"
   },
   {
    "duration": 4,
    "start_time": "2022-06-23T01:33:22.622Z"
   },
   {
    "duration": 12,
    "start_time": "2022-06-23T01:33:23.020Z"
   },
   {
    "duration": 22,
    "start_time": "2022-06-23T01:33:23.971Z"
   },
   {
    "duration": 5,
    "start_time": "2022-06-23T01:33:26.256Z"
   },
   {
    "duration": 5,
    "start_time": "2022-06-23T01:33:26.777Z"
   },
   {
    "duration": 8,
    "start_time": "2022-06-23T01:33:27.204Z"
   },
   {
    "duration": 13,
    "start_time": "2022-06-23T01:33:28.528Z"
   },
   {
    "duration": 4,
    "start_time": "2022-06-23T01:33:29.549Z"
   },
   {
    "duration": 12,
    "start_time": "2022-06-23T01:33:30.318Z"
   },
   {
    "duration": 13,
    "start_time": "2022-06-23T01:33:30.792Z"
   },
   {
    "duration": 5,
    "start_time": "2022-06-23T01:33:31.879Z"
   },
   {
    "duration": 4,
    "start_time": "2022-06-23T01:33:32.199Z"
   },
   {
    "duration": 4,
    "start_time": "2022-06-23T01:33:32.476Z"
   },
   {
    "duration": 7,
    "start_time": "2022-06-23T01:33:33.043Z"
   },
   {
    "duration": 15,
    "start_time": "2022-06-23T01:33:33.365Z"
   },
   {
    "duration": 3,
    "start_time": "2022-06-23T01:33:33.893Z"
   },
   {
    "duration": 9,
    "start_time": "2022-06-23T01:33:34.472Z"
   },
   {
    "duration": 10,
    "start_time": "2022-06-23T01:33:34.777Z"
   },
   {
    "duration": 8,
    "start_time": "2022-06-23T01:33:35.366Z"
   },
   {
    "duration": 17,
    "start_time": "2022-06-23T01:33:35.677Z"
   },
   {
    "duration": 11,
    "start_time": "2022-06-23T01:33:35.919Z"
   },
   {
    "duration": 7,
    "start_time": "2022-06-23T01:33:36.240Z"
   },
   {
    "duration": 4,
    "start_time": "2022-06-23T01:33:37.409Z"
   },
   {
    "duration": 4,
    "start_time": "2022-06-23T01:33:38.040Z"
   },
   {
    "duration": 4,
    "start_time": "2022-06-23T01:33:38.682Z"
   },
   {
    "duration": 3,
    "start_time": "2022-06-23T01:33:39.290Z"
   },
   {
    "duration": 9,
    "start_time": "2022-06-23T01:33:39.660Z"
   },
   {
    "duration": 4,
    "start_time": "2022-06-23T01:33:41.822Z"
   },
   {
    "duration": 19,
    "start_time": "2022-06-23T01:35:32.555Z"
   },
   {
    "duration": 17,
    "start_time": "2022-06-23T01:35:39.509Z"
   },
   {
    "duration": 3,
    "start_time": "2022-06-23T01:35:41.190Z"
   },
   {
    "duration": 3,
    "start_time": "2022-06-23T01:35:41.628Z"
   },
   {
    "duration": 11,
    "start_time": "2022-06-23T01:35:41.943Z"
   },
   {
    "duration": 7,
    "start_time": "2022-06-23T01:36:54.450Z"
   },
   {
    "duration": 4,
    "start_time": "2022-06-23T01:37:03.423Z"
   },
   {
    "duration": 7,
    "start_time": "2022-06-23T01:37:04.318Z"
   },
   {
    "duration": 12,
    "start_time": "2022-06-23T01:38:28.331Z"
   },
   {
    "duration": 13,
    "start_time": "2022-06-23T01:38:39.030Z"
   },
   {
    "duration": 10,
    "start_time": "2022-06-23T01:38:55.525Z"
   },
   {
    "duration": 19,
    "start_time": "2022-06-23T01:40:38.682Z"
   },
   {
    "duration": 7,
    "start_time": "2022-06-23T01:40:42.292Z"
   },
   {
    "duration": 5,
    "start_time": "2022-06-23T01:40:53.717Z"
   },
   {
    "duration": 7,
    "start_time": "2022-06-23T01:40:54.852Z"
   },
   {
    "duration": 18,
    "start_time": "2022-06-23T01:41:52.034Z"
   },
   {
    "duration": 5,
    "start_time": "2022-06-23T01:44:15.346Z"
   },
   {
    "duration": 5,
    "start_time": "2022-06-23T01:44:15.702Z"
   },
   {
    "duration": 4,
    "start_time": "2022-06-23T01:44:55.852Z"
   },
   {
    "duration": 3,
    "start_time": "2022-06-23T01:46:28.544Z"
   },
   {
    "duration": 3,
    "start_time": "2022-06-23T01:46:42.496Z"
   },
   {
    "duration": 3,
    "start_time": "2022-06-23T01:53:54.158Z"
   },
   {
    "duration": 10,
    "start_time": "2022-06-23T01:54:01.736Z"
   },
   {
    "duration": 7913,
    "start_time": "2022-06-23T01:54:46.608Z"
   },
   {
    "duration": 133,
    "start_time": "2022-06-23T01:55:22.288Z"
   },
   {
    "duration": 131,
    "start_time": "2022-06-23T01:55:33.610Z"
   },
   {
    "duration": 132,
    "start_time": "2022-06-23T01:56:20.617Z"
   },
   {
    "duration": 134,
    "start_time": "2022-06-23T01:56:35.134Z"
   },
   {
    "duration": 135,
    "start_time": "2022-06-23T01:57:03.661Z"
   },
   {
    "duration": 11,
    "start_time": "2022-06-23T02:00:31.615Z"
   },
   {
    "duration": 113,
    "start_time": "2022-06-23T02:01:43.514Z"
   },
   {
    "duration": 107,
    "start_time": "2022-06-23T02:02:04.028Z"
   },
   {
    "duration": 114,
    "start_time": "2022-06-23T02:03:47.922Z"
   },
   {
    "duration": 113,
    "start_time": "2022-06-23T02:05:01.657Z"
   },
   {
    "duration": 125,
    "start_time": "2022-06-23T02:05:25.771Z"
   },
   {
    "duration": 109,
    "start_time": "2022-06-23T02:07:21.706Z"
   },
   {
    "duration": 11,
    "start_time": "2022-06-23T02:07:28.949Z"
   },
   {
    "duration": 10,
    "start_time": "2022-06-23T02:07:34.599Z"
   },
   {
    "duration": 101,
    "start_time": "2022-06-23T02:07:41.432Z"
   },
   {
    "duration": 135,
    "start_time": "2022-06-23T02:08:42.969Z"
   },
   {
    "duration": 127,
    "start_time": "2022-06-23T02:10:32.247Z"
   },
   {
    "duration": 124,
    "start_time": "2022-06-23T02:13:41.139Z"
   },
   {
    "duration": 127,
    "start_time": "2022-06-23T02:13:56.841Z"
   },
   {
    "duration": 275,
    "start_time": "2022-06-23T02:14:04.936Z"
   },
   {
    "duration": 120,
    "start_time": "2022-06-23T02:17:34.737Z"
   },
   {
    "duration": 117,
    "start_time": "2022-06-23T02:18:20.158Z"
   },
   {
    "duration": 141,
    "start_time": "2022-06-23T02:19:00.124Z"
   },
   {
    "duration": 148,
    "start_time": "2022-06-23T02:20:57.409Z"
   },
   {
    "duration": 148,
    "start_time": "2022-06-23T02:21:14.416Z"
   },
   {
    "duration": 207,
    "start_time": "2022-06-23T02:22:05.515Z"
   },
   {
    "duration": 237,
    "start_time": "2022-06-23T02:22:13.482Z"
   },
   {
    "duration": 243,
    "start_time": "2022-06-23T02:22:20.225Z"
   },
   {
    "duration": 236,
    "start_time": "2022-06-23T02:23:20.050Z"
   },
   {
    "duration": 236,
    "start_time": "2022-06-23T02:23:26.150Z"
   },
   {
    "duration": 279,
    "start_time": "2022-06-23T02:23:32.354Z"
   },
   {
    "duration": 150,
    "start_time": "2022-06-23T02:23:45.896Z"
   },
   {
    "duration": 65,
    "start_time": "2022-06-24T02:33:25.239Z"
   },
   {
    "duration": 1231,
    "start_time": "2022-06-24T02:33:40.974Z"
   },
   {
    "duration": 334,
    "start_time": "2022-06-24T02:33:42.207Z"
   },
   {
    "duration": 351,
    "start_time": "2022-06-24T02:33:42.543Z"
   },
   {
    "duration": 302,
    "start_time": "2022-06-24T02:33:42.896Z"
   },
   {
    "duration": 53,
    "start_time": "2022-06-24T02:33:43.200Z"
   },
   {
    "duration": 73,
    "start_time": "2022-06-24T02:33:43.328Z"
   },
   {
    "duration": 13,
    "start_time": "2022-06-24T02:33:43.981Z"
   },
   {
    "duration": 34,
    "start_time": "2022-06-24T02:33:44.356Z"
   },
   {
    "duration": 10,
    "start_time": "2022-06-24T02:33:44.996Z"
   },
   {
    "duration": 20,
    "start_time": "2022-06-24T02:33:45.373Z"
   },
   {
    "duration": 9,
    "start_time": "2022-06-24T02:33:46.020Z"
   },
   {
    "duration": 18,
    "start_time": "2022-06-24T02:33:46.398Z"
   },
   {
    "duration": 8,
    "start_time": "2022-06-24T02:33:47.044Z"
   },
   {
    "duration": 10,
    "start_time": "2022-06-24T02:33:47.416Z"
   },
   {
    "duration": 9,
    "start_time": "2022-06-24T02:33:47.791Z"
   },
   {
    "duration": 14,
    "start_time": "2022-06-24T02:33:48.215Z"
   },
   {
    "duration": 51,
    "start_time": "2022-06-24T02:33:49.449Z"
   },
   {
    "duration": 25,
    "start_time": "2022-06-24T02:33:49.874Z"
   },
   {
    "duration": 20,
    "start_time": "2022-06-24T02:33:50.285Z"
   },
   {
    "duration": 24,
    "start_time": "2022-06-24T02:33:52.190Z"
   },
   {
    "duration": 17,
    "start_time": "2022-06-24T02:33:52.976Z"
   },
   {
    "duration": 15,
    "start_time": "2022-06-24T02:33:53.404Z"
   },
   {
    "duration": 6,
    "start_time": "2022-06-24T02:33:54.149Z"
   },
   {
    "duration": 107,
    "start_time": "2022-06-24T02:33:54.695Z"
   },
   {
    "duration": 75,
    "start_time": "2022-06-24T02:33:55.275Z"
   },
   {
    "duration": 50,
    "start_time": "2022-06-24T02:33:55.897Z"
   },
   {
    "duration": 7,
    "start_time": "2022-06-24T02:33:57.029Z"
   },
   {
    "duration": 7,
    "start_time": "2022-06-24T02:33:57.541Z"
   },
   {
    "duration": 28,
    "start_time": "2022-06-24T02:33:58.053Z"
   },
   {
    "duration": 19,
    "start_time": "2022-06-24T02:33:58.617Z"
   },
   {
    "duration": 18,
    "start_time": "2022-06-24T02:34:01.384Z"
   },
   {
    "duration": 16,
    "start_time": "2022-06-24T02:34:01.918Z"
   },
   {
    "duration": 228,
    "start_time": "2022-06-24T02:34:02.444Z"
   },
   {
    "duration": 19,
    "start_time": "2022-06-24T02:34:02.976Z"
   },
   {
    "duration": 214,
    "start_time": "2022-06-24T02:34:03.908Z"
   },
   {
    "duration": 145,
    "start_time": "2022-06-24T02:34:04.419Z"
   },
   {
    "duration": 4,
    "start_time": "2022-06-24T02:34:04.923Z"
   },
   {
    "duration": 16,
    "start_time": "2022-06-24T02:34:05.431Z"
   },
   {
    "duration": 5,
    "start_time": "2022-06-24T02:34:06.234Z"
   },
   {
    "duration": 8,
    "start_time": "2022-06-24T02:34:07.512Z"
   },
   {
    "duration": 4,
    "start_time": "2022-06-24T02:34:11.497Z"
   },
   {
    "duration": 9,
    "start_time": "2022-06-24T02:34:12.277Z"
   },
   {
    "duration": 76,
    "start_time": "2022-06-24T02:34:12.982Z"
   },
   {
    "duration": 5,
    "start_time": "2022-06-24T02:34:13.391Z"
   },
   {
    "duration": 6,
    "start_time": "2022-06-24T02:34:14.079Z"
   },
   {
    "duration": 14,
    "start_time": "2022-06-24T02:34:14.805Z"
   },
   {
    "duration": 4,
    "start_time": "2022-06-24T02:34:15.227Z"
   },
   {
    "duration": 19,
    "start_time": "2022-06-24T02:34:16.030Z"
   },
   {
    "duration": 27,
    "start_time": "2022-06-24T02:34:16.975Z"
   },
   {
    "duration": 5,
    "start_time": "2022-06-24T02:34:17.826Z"
   },
   {
    "duration": 5,
    "start_time": "2022-06-24T02:34:18.246Z"
   },
   {
    "duration": 7,
    "start_time": "2022-06-24T02:34:18.683Z"
   },
   {
    "duration": 12,
    "start_time": "2022-06-24T02:34:19.088Z"
   },
   {
    "duration": 3,
    "start_time": "2022-06-24T02:34:19.918Z"
   },
   {
    "duration": 12,
    "start_time": "2022-06-24T02:34:20.327Z"
   },
   {
    "duration": 15,
    "start_time": "2022-06-24T02:34:20.826Z"
   },
   {
    "duration": 5,
    "start_time": "2022-06-24T02:34:21.845Z"
   },
   {
    "duration": 3,
    "start_time": "2022-06-24T02:34:22.485Z"
   },
   {
    "duration": 5,
    "start_time": "2022-06-24T02:34:22.904Z"
   },
   {
    "duration": 8,
    "start_time": "2022-06-24T02:34:23.627Z"
   },
   {
    "duration": 16,
    "start_time": "2022-06-24T02:34:24.640Z"
   },
   {
    "duration": 3,
    "start_time": "2022-06-24T02:34:26.625Z"
   },
   {
    "duration": 10,
    "start_time": "2022-06-24T02:34:27.344Z"
   },
   {
    "duration": 12,
    "start_time": "2022-06-24T02:34:28.063Z"
   },
   {
    "duration": 8,
    "start_time": "2022-06-24T02:34:29.183Z"
   },
   {
    "duration": 18,
    "start_time": "2022-06-24T02:34:29.681Z"
   },
   {
    "duration": 12,
    "start_time": "2022-06-24T02:34:30.327Z"
   },
   {
    "duration": 8,
    "start_time": "2022-06-24T02:34:31.683Z"
   },
   {
    "duration": 6,
    "start_time": "2022-06-24T02:34:34.474Z"
   },
   {
    "duration": 3,
    "start_time": "2022-06-24T02:34:35.019Z"
   },
   {
    "duration": 4,
    "start_time": "2022-06-24T02:34:35.440Z"
   },
   {
    "duration": 4,
    "start_time": "2022-06-24T02:34:35.852Z"
   },
   {
    "duration": 5,
    "start_time": "2022-06-24T02:34:36.936Z"
   },
   {
    "duration": 9,
    "start_time": "2022-06-24T02:34:37.369Z"
   },
   {
    "duration": 18,
    "start_time": "2022-06-24T02:34:39.485Z"
   },
   {
    "duration": 3,
    "start_time": "2022-06-24T02:34:40.312Z"
   },
   {
    "duration": 4,
    "start_time": "2022-06-24T02:34:40.735Z"
   },
   {
    "duration": 40,
    "start_time": "2022-06-24T02:35:08.653Z"
   },
   {
    "duration": 4,
    "start_time": "2022-06-24T02:35:09.480Z"
   },
   {
    "duration": 4,
    "start_time": "2022-06-24T02:35:09.991Z"
   },
   {
    "duration": 3,
    "start_time": "2022-06-24T02:35:10.489Z"
   },
   {
    "duration": 11,
    "start_time": "2022-06-24T02:35:10.910Z"
   },
   {
    "duration": 69,
    "start_time": "2022-06-24T02:35:11.812Z"
   },
   {
    "duration": 4,
    "start_time": "2022-06-24T02:35:12.875Z"
   },
   {
    "duration": 7,
    "start_time": "2022-06-24T02:35:13.586Z"
   },
   {
    "duration": 11,
    "start_time": "2022-06-24T02:35:14.373Z"
   },
   {
    "duration": 5,
    "start_time": "2022-06-24T02:35:15.717Z"
   },
   {
    "duration": 8,
    "start_time": "2022-06-24T02:35:16.136Z"
   },
   {
    "duration": 4,
    "start_time": "2022-06-24T02:35:16.599Z"
   },
   {
    "duration": 9,
    "start_time": "2022-06-24T02:35:17.020Z"
   },
   {
    "duration": 4,
    "start_time": "2022-06-24T02:35:18.003Z"
   },
   {
    "duration": 4,
    "start_time": "2022-06-24T02:35:21.329Z"
   },
   {
    "duration": 5,
    "start_time": "2022-06-24T02:35:22.106Z"
   },
   {
    "duration": 5,
    "start_time": "2022-06-24T02:35:22.581Z"
   },
   {
    "duration": 6,
    "start_time": "2022-06-24T02:35:23.077Z"
   },
   {
    "duration": 5,
    "start_time": "2022-06-24T02:35:23.530Z"
   },
   {
    "duration": 4,
    "start_time": "2022-06-24T02:35:23.997Z"
   },
   {
    "duration": 12,
    "start_time": "2022-06-24T02:35:24.460Z"
   },
   {
    "duration": 180,
    "start_time": "2022-06-24T02:35:26.997Z"
   },
   {
    "duration": 4,
    "start_time": "2022-06-24T02:35:29.535Z"
   },
   {
    "duration": 5,
    "start_time": "2022-06-24T02:35:30.385Z"
   },
   {
    "duration": 4,
    "start_time": "2022-06-24T02:35:30.896Z"
   },
   {
    "duration": 4,
    "start_time": "2022-06-24T02:35:31.587Z"
   },
   {
    "duration": 4,
    "start_time": "2022-06-24T02:35:33.310Z"
   },
   {
    "duration": 6,
    "start_time": "2022-06-24T02:35:33.785Z"
   },
   {
    "duration": 5,
    "start_time": "2022-06-24T02:35:34.649Z"
   },
   {
    "duration": 4,
    "start_time": "2022-06-24T02:35:35.120Z"
   },
   {
    "duration": 4,
    "start_time": "2022-06-24T02:35:35.589Z"
   },
   {
    "duration": 4,
    "start_time": "2022-06-24T02:35:36.050Z"
   },
   {
    "duration": 6,
    "start_time": "2022-06-24T02:35:36.672Z"
   },
   {
    "duration": 6,
    "start_time": "2022-06-24T02:35:37.130Z"
   },
   {
    "duration": 194,
    "start_time": "2022-06-24T02:35:38.414Z"
   },
   {
    "duration": 6,
    "start_time": "2022-06-24T02:35:39.179Z"
   },
   {
    "duration": 11,
    "start_time": "2022-06-24T02:35:39.637Z"
   },
   {
    "duration": 5,
    "start_time": "2022-06-24T02:35:40.102Z"
   },
   {
    "duration": 9,
    "start_time": "2022-06-24T02:35:41.656Z"
   },
   {
    "duration": 9,
    "start_time": "2022-06-24T02:35:47.455Z"
   },
   {
    "duration": 11,
    "start_time": "2022-06-24T02:35:49.600Z"
   },
   {
    "duration": 5,
    "start_time": "2022-06-24T02:35:59.908Z"
   },
   {
    "duration": 10,
    "start_time": "2022-06-24T02:36:00.758Z"
   },
   {
    "duration": 4,
    "start_time": "2022-06-24T02:36:01.239Z"
   },
   {
    "duration": 5,
    "start_time": "2022-06-24T02:36:01.701Z"
   },
   {
    "duration": 5,
    "start_time": "2022-06-24T02:36:02.180Z"
   },
   {
    "duration": 4,
    "start_time": "2022-06-24T02:36:02.618Z"
   },
   {
    "duration": 4,
    "start_time": "2022-06-24T02:36:03.387Z"
   },
   {
    "duration": 184,
    "start_time": "2022-06-24T02:36:04.413Z"
   },
   {
    "duration": 12,
    "start_time": "2022-06-24T02:36:07.074Z"
   },
   {
    "duration": 9,
    "start_time": "2022-06-24T02:36:07.488Z"
   },
   {
    "duration": 6,
    "start_time": "2022-06-24T02:36:07.925Z"
   },
   {
    "duration": 6,
    "start_time": "2022-06-24T02:36:08.335Z"
   },
   {
    "duration": 8,
    "start_time": "2022-06-24T02:36:12.186Z"
   },
   {
    "duration": 9,
    "start_time": "2022-06-24T02:36:12.709Z"
   },
   {
    "duration": 5,
    "start_time": "2022-06-24T02:36:13.334Z"
   },
   {
    "duration": 6,
    "start_time": "2022-06-24T02:36:14.184Z"
   },
   {
    "duration": 5,
    "start_time": "2022-06-24T02:36:14.833Z"
   },
   {
    "duration": 4,
    "start_time": "2022-06-24T02:36:15.394Z"
   },
   {
    "duration": 76,
    "start_time": "2022-06-24T02:36:17.291Z"
   },
   {
    "duration": 65,
    "start_time": "2022-06-24T02:37:25.039Z"
   },
   {
    "duration": 84,
    "start_time": "2022-06-24T02:38:03.953Z"
   },
   {
    "duration": 17,
    "start_time": "2022-06-24T02:38:19.809Z"
   },
   {
    "duration": 33,
    "start_time": "2022-06-24T02:39:01.149Z"
   },
   {
    "duration": 14,
    "start_time": "2022-06-24T02:39:30.413Z"
   },
   {
    "duration": 15,
    "start_time": "2022-06-24T02:39:49.498Z"
   },
   {
    "duration": 14,
    "start_time": "2022-06-24T02:40:48.087Z"
   },
   {
    "duration": 1221,
    "start_time": "2022-06-25T23:58:22.480Z"
   },
   {
    "duration": 298,
    "start_time": "2022-06-25T23:58:23.703Z"
   },
   {
    "duration": 316,
    "start_time": "2022-06-25T23:58:24.003Z"
   },
   {
    "duration": 607,
    "start_time": "2022-06-25T23:58:24.321Z"
   },
   {
    "duration": 64,
    "start_time": "2022-06-25T23:58:24.929Z"
   },
   {
    "duration": 51,
    "start_time": "2022-06-25T23:58:24.995Z"
   },
   {
    "duration": 15,
    "start_time": "2022-06-25T23:58:25.048Z"
   },
   {
    "duration": 27,
    "start_time": "2022-06-25T23:58:25.088Z"
   },
   {
    "duration": 10,
    "start_time": "2022-06-25T23:58:25.869Z"
   },
   {
    "duration": 24,
    "start_time": "2022-06-25T23:58:26.170Z"
   },
   {
    "duration": 8,
    "start_time": "2022-06-25T23:58:26.623Z"
   },
   {
    "duration": 18,
    "start_time": "2022-06-25T23:58:26.915Z"
   },
   {
    "duration": 8,
    "start_time": "2022-06-25T23:58:27.392Z"
   },
   {
    "duration": 11,
    "start_time": "2022-06-25T23:58:27.708Z"
   },
   {
    "duration": 10,
    "start_time": "2022-06-25T23:58:27.999Z"
   },
   {
    "duration": 11,
    "start_time": "2022-06-25T23:58:28.920Z"
   },
   {
    "duration": 58,
    "start_time": "2022-06-25T23:58:29.959Z"
   },
   {
    "duration": 27,
    "start_time": "2022-06-25T23:58:30.280Z"
   },
   {
    "duration": 21,
    "start_time": "2022-06-25T23:58:30.530Z"
   },
   {
    "duration": 5,
    "start_time": "2022-06-25T23:58:30.853Z"
   },
   {
    "duration": 6,
    "start_time": "2022-06-25T23:58:31.296Z"
   },
   {
    "duration": 21,
    "start_time": "2022-06-25T23:58:32.023Z"
   },
   {
    "duration": 17,
    "start_time": "2022-06-25T23:58:32.351Z"
   },
   {
    "duration": 15,
    "start_time": "2022-06-25T23:58:32.672Z"
   },
   {
    "duration": 9,
    "start_time": "2022-06-25T23:58:33.248Z"
   },
   {
    "duration": 125,
    "start_time": "2022-06-25T23:58:33.569Z"
   },
   {
    "duration": 80,
    "start_time": "2022-06-25T23:58:33.900Z"
   },
   {
    "duration": 50,
    "start_time": "2022-06-25T23:58:34.213Z"
   },
   {
    "duration": 10,
    "start_time": "2022-06-25T23:58:35.166Z"
   },
   {
    "duration": 7,
    "start_time": "2022-06-25T23:58:35.441Z"
   },
   {
    "duration": 21,
    "start_time": "2022-06-25T23:58:35.715Z"
   },
   {
    "duration": 22,
    "start_time": "2022-06-25T23:58:36.106Z"
   },
   {
    "duration": 18,
    "start_time": "2022-06-25T23:58:36.608Z"
   },
   {
    "duration": 17,
    "start_time": "2022-06-25T23:58:36.901Z"
   },
   {
    "duration": 224,
    "start_time": "2022-06-25T23:58:37.300Z"
   },
   {
    "duration": 21,
    "start_time": "2022-06-25T23:58:37.829Z"
   },
   {
    "duration": 191,
    "start_time": "2022-06-25T23:58:38.658Z"
   },
   {
    "duration": 119,
    "start_time": "2022-06-25T23:58:39.016Z"
   },
   {
    "duration": 5,
    "start_time": "2022-06-25T23:58:39.401Z"
   },
   {
    "duration": 12,
    "start_time": "2022-06-25T23:58:39.783Z"
   },
   {
    "duration": 5,
    "start_time": "2022-06-25T23:58:40.666Z"
   },
   {
    "duration": 9,
    "start_time": "2022-06-25T23:58:41.015Z"
   },
   {
    "duration": 5,
    "start_time": "2022-06-25T23:58:43.006Z"
   },
   {
    "duration": 4,
    "start_time": "2022-06-25T23:58:43.644Z"
   },
   {
    "duration": 99,
    "start_time": "2022-06-25T23:58:44.418Z"
   },
   {
    "duration": 5,
    "start_time": "2022-06-25T23:58:44.803Z"
   },
   {
    "duration": 6,
    "start_time": "2022-06-25T23:58:45.140Z"
   },
   {
    "duration": 19,
    "start_time": "2022-06-25T23:58:46.023Z"
   },
   {
    "duration": 5,
    "start_time": "2022-06-25T23:58:46.368Z"
   },
   {
    "duration": 19,
    "start_time": "2022-06-25T23:58:46.721Z"
   },
   {
    "duration": 26,
    "start_time": "2022-06-25T23:58:47.280Z"
   },
   {
    "duration": 5,
    "start_time": "2022-06-25T23:58:47.823Z"
   },
   {
    "duration": 6,
    "start_time": "2022-06-25T23:58:48.261Z"
   },
   {
    "duration": 10,
    "start_time": "2022-06-25T23:58:48.659Z"
   },
   {
    "duration": 15,
    "start_time": "2022-06-26T00:10:45.396Z"
   },
   {
    "duration": 4,
    "start_time": "2022-06-26T00:10:48.314Z"
   },
   {
    "duration": 15,
    "start_time": "2022-06-26T00:10:48.886Z"
   },
   {
    "duration": 24,
    "start_time": "2022-06-26T00:10:49.774Z"
   },
   {
    "duration": 5,
    "start_time": "2022-06-26T00:10:51.090Z"
   },
   {
    "duration": 5,
    "start_time": "2022-06-26T00:10:51.674Z"
   },
   {
    "duration": 6,
    "start_time": "2022-06-26T00:10:52.294Z"
   },
   {
    "duration": 13,
    "start_time": "2022-06-26T00:10:53.556Z"
   },
   {
    "duration": 25,
    "start_time": "2022-06-26T00:10:54.406Z"
   },
   {
    "duration": 4,
    "start_time": "2022-06-26T00:10:55.964Z"
   },
   {
    "duration": 8,
    "start_time": "2022-06-26T00:10:57.704Z"
   },
   {
    "duration": 11,
    "start_time": "2022-06-26T00:10:58.641Z"
   },
   {
    "duration": 8,
    "start_time": "2022-06-26T00:11:00.346Z"
   },
   {
    "duration": 21,
    "start_time": "2022-06-26T00:11:01.209Z"
   },
   {
    "duration": 14,
    "start_time": "2022-06-26T00:11:01.819Z"
   },
   {
    "duration": 8,
    "start_time": "2022-06-26T00:11:02.452Z"
   },
   {
    "duration": 6,
    "start_time": "2022-06-26T00:11:03.879Z"
   },
   {
    "duration": 6,
    "start_time": "2022-06-26T00:11:04.460Z"
   },
   {
    "duration": 4,
    "start_time": "2022-06-26T00:11:04.939Z"
   },
   {
    "duration": 5,
    "start_time": "2022-06-26T00:11:05.286Z"
   },
   {
    "duration": 8,
    "start_time": "2022-06-26T00:11:05.909Z"
   },
   {
    "duration": 7,
    "start_time": "2022-06-26T00:11:06.254Z"
   },
   {
    "duration": 20,
    "start_time": "2022-06-26T00:11:07.550Z"
   },
   {
    "duration": 4,
    "start_time": "2022-06-26T00:11:08.198Z"
   },
   {
    "duration": 4,
    "start_time": "2022-06-26T00:11:08.468Z"
   },
   {
    "duration": 11,
    "start_time": "2022-06-26T00:11:08.800Z"
   },
   {
    "duration": 4,
    "start_time": "2022-06-26T00:11:09.344Z"
   },
   {
    "duration": 4,
    "start_time": "2022-06-26T00:11:09.716Z"
   },
   {
    "duration": 4,
    "start_time": "2022-06-26T00:11:09.980Z"
   },
   {
    "duration": 13,
    "start_time": "2022-06-26T00:11:10.315Z"
   },
   {
    "duration": 62,
    "start_time": "2022-06-26T00:11:10.985Z"
   },
   {
    "duration": 3,
    "start_time": "2022-06-26T00:11:12.119Z"
   },
   {
    "duration": 8,
    "start_time": "2022-06-26T00:11:12.929Z"
   },
   {
    "duration": 11,
    "start_time": "2022-06-26T00:11:13.939Z"
   },
   {
    "duration": 6,
    "start_time": "2022-06-26T00:11:16.499Z"
   },
   {
    "duration": 9,
    "start_time": "2022-06-26T00:11:17.098Z"
   },
   {
    "duration": 5,
    "start_time": "2022-06-26T00:11:17.625Z"
   },
   {
    "duration": 10,
    "start_time": "2022-06-26T00:11:18.016Z"
   },
   {
    "duration": 5,
    "start_time": "2022-06-26T00:11:18.662Z"
   },
   {
    "duration": 5,
    "start_time": "2022-06-26T00:11:18.989Z"
   },
   {
    "duration": 6,
    "start_time": "2022-06-26T00:11:20.248Z"
   },
   {
    "duration": 5,
    "start_time": "2022-06-26T00:11:20.639Z"
   },
   {
    "duration": 6,
    "start_time": "2022-06-26T00:11:21.154Z"
   },
   {
    "duration": 4,
    "start_time": "2022-06-26T00:11:21.466Z"
   },
   {
    "duration": 6,
    "start_time": "2022-06-26T00:11:21.857Z"
   },
   {
    "duration": 6,
    "start_time": "2022-06-26T00:11:22.271Z"
   },
   {
    "duration": 225,
    "start_time": "2022-06-26T00:11:23.383Z"
   },
   {
    "duration": 4,
    "start_time": "2022-06-26T00:11:25.535Z"
   },
   {
    "duration": 5,
    "start_time": "2022-06-26T00:11:25.975Z"
   },
   {
    "duration": 5,
    "start_time": "2022-06-26T00:11:26.445Z"
   },
   {
    "duration": 5,
    "start_time": "2022-06-26T00:11:26.844Z"
   },
   {
    "duration": 6,
    "start_time": "2022-06-26T00:11:27.702Z"
   },
   {
    "duration": 4,
    "start_time": "2022-06-26T00:11:28.024Z"
   },
   {
    "duration": 5,
    "start_time": "2022-06-26T00:11:28.637Z"
   },
   {
    "duration": 5,
    "start_time": "2022-06-26T00:11:28.951Z"
   },
   {
    "duration": 6,
    "start_time": "2022-06-26T00:11:29.403Z"
   },
   {
    "duration": 5,
    "start_time": "2022-06-26T00:11:29.682Z"
   },
   {
    "duration": 5,
    "start_time": "2022-06-26T00:11:30.195Z"
   },
   {
    "duration": 5,
    "start_time": "2022-06-26T00:11:30.621Z"
   },
   {
    "duration": 170,
    "start_time": "2022-06-26T00:11:31.974Z"
   },
   {
    "duration": 5,
    "start_time": "2022-06-26T00:11:33.616Z"
   },
   {
    "duration": 16,
    "start_time": "2022-06-26T00:11:34.208Z"
   },
   {
    "duration": 6,
    "start_time": "2022-06-26T00:11:34.819Z"
   },
   {
    "duration": 6,
    "start_time": "2022-06-26T00:11:35.453Z"
   },
   {
    "duration": 6,
    "start_time": "2022-06-26T00:11:36.712Z"
   },
   {
    "duration": 12,
    "start_time": "2022-06-26T00:11:37.942Z"
   },
   {
    "duration": 5,
    "start_time": "2022-06-26T00:11:39.097Z"
   },
   {
    "duration": 7,
    "start_time": "2022-06-26T00:11:40.465Z"
   },
   {
    "duration": 5,
    "start_time": "2022-06-26T00:11:40.840Z"
   },
   {
    "duration": 5,
    "start_time": "2022-06-26T00:11:41.227Z"
   },
   {
    "duration": 5,
    "start_time": "2022-06-26T00:11:41.819Z"
   },
   {
    "duration": 6,
    "start_time": "2022-06-26T00:11:42.660Z"
   },
   {
    "duration": 6,
    "start_time": "2022-06-26T00:11:46.010Z"
   },
   {
    "duration": 177,
    "start_time": "2022-06-26T00:11:47.440Z"
   },
   {
    "duration": 6,
    "start_time": "2022-06-26T00:11:49.905Z"
   },
   {
    "duration": 12,
    "start_time": "2022-06-26T00:11:50.599Z"
   },
   {
    "duration": 6,
    "start_time": "2022-06-26T00:11:51.760Z"
   },
   {
    "duration": 6,
    "start_time": "2022-06-26T00:11:52.150Z"
   },
   {
    "duration": 11,
    "start_time": "2022-06-26T00:11:54.497Z"
   },
   {
    "duration": 9,
    "start_time": "2022-06-26T00:11:54.961Z"
   },
   {
    "duration": 6,
    "start_time": "2022-06-26T00:11:55.501Z"
   },
   {
    "duration": 5,
    "start_time": "2022-06-26T00:11:56.380Z"
   },
   {
    "duration": 4,
    "start_time": "2022-06-26T00:11:56.926Z"
   },
   {
    "duration": 87,
    "start_time": "2022-06-26T00:38:15.532Z"
   },
   {
    "duration": 3,
    "start_time": "2022-06-26T00:38:18.307Z"
   },
   {
    "duration": 4,
    "start_time": "2022-06-26T00:38:18.543Z"
   },
   {
    "duration": 3,
    "start_time": "2022-06-26T00:38:18.786Z"
   },
   {
    "duration": 4,
    "start_time": "2022-06-26T00:38:43.238Z"
   },
   {
    "duration": 4,
    "start_time": "2022-06-26T00:40:05.195Z"
   },
   {
    "duration": 4,
    "start_time": "2022-06-26T00:40:26.646Z"
   },
   {
    "duration": 9,
    "start_time": "2022-06-26T00:41:53.100Z"
   },
   {
    "duration": 8,
    "start_time": "2022-06-26T00:41:56.628Z"
   },
   {
    "duration": 8,
    "start_time": "2022-06-26T00:41:57.557Z"
   },
   {
    "duration": 4,
    "start_time": "2022-06-26T00:42:07.318Z"
   },
   {
    "duration": 43,
    "start_time": "2022-06-26T00:42:07.595Z"
   },
   {
    "duration": 4,
    "start_time": "2022-06-26T00:42:07.841Z"
   },
   {
    "duration": 7,
    "start_time": "2022-06-26T00:42:08.107Z"
   },
   {
    "duration": 18,
    "start_time": "2022-06-26T00:42:08.358Z"
   },
   {
    "duration": 6,
    "start_time": "2022-06-26T00:42:08.702Z"
   },
   {
    "duration": 18,
    "start_time": "2022-06-26T00:42:08.995Z"
   },
   {
    "duration": 6,
    "start_time": "2022-06-26T00:42:09.234Z"
   },
   {
    "duration": 17,
    "start_time": "2022-06-26T00:42:09.500Z"
   },
   {
    "duration": 4,
    "start_time": "2022-06-26T00:42:09.921Z"
   },
   {
    "duration": 4,
    "start_time": "2022-06-26T00:42:10.158Z"
   },
   {
    "duration": 4,
    "start_time": "2022-06-26T00:42:10.398Z"
   },
   {
    "duration": 5,
    "start_time": "2022-06-26T00:42:19.080Z"
   },
   {
    "duration": 4,
    "start_time": "2022-06-26T00:43:22.787Z"
   },
   {
    "duration": 1114,
    "start_time": "2022-06-26T13:21:53.787Z"
   },
   {
    "duration": 596,
    "start_time": "2022-06-26T13:21:54.903Z"
   },
   {
    "duration": 403,
    "start_time": "2022-06-26T13:21:55.502Z"
   },
   {
    "duration": 161,
    "start_time": "2022-06-26T13:21:55.908Z"
   },
   {
    "duration": 62,
    "start_time": "2022-06-26T13:21:56.071Z"
   },
   {
    "duration": 58,
    "start_time": "2022-06-26T13:21:56.141Z"
   },
   {
    "duration": 12,
    "start_time": "2022-06-26T13:21:56.201Z"
   },
   {
    "duration": 33,
    "start_time": "2022-06-26T13:21:56.215Z"
   },
   {
    "duration": 9,
    "start_time": "2022-06-26T13:21:56.249Z"
   },
   {
    "duration": 19,
    "start_time": "2022-06-26T13:21:56.260Z"
   },
   {
    "duration": 7,
    "start_time": "2022-06-26T13:21:56.281Z"
   },
   {
    "duration": 47,
    "start_time": "2022-06-26T13:21:56.290Z"
   },
   {
    "duration": 10,
    "start_time": "2022-06-26T13:21:56.339Z"
   },
   {
    "duration": 12,
    "start_time": "2022-06-26T13:21:56.351Z"
   },
   {
    "duration": 14,
    "start_time": "2022-06-26T13:21:56.365Z"
   },
   {
    "duration": 14,
    "start_time": "2022-06-26T13:21:56.381Z"
   },
   {
    "duration": 65,
    "start_time": "2022-06-26T13:21:56.397Z"
   },
   {
    "duration": 36,
    "start_time": "2022-06-26T13:21:56.466Z"
   },
   {
    "duration": 37,
    "start_time": "2022-06-26T13:21:56.504Z"
   },
   {
    "duration": 5,
    "start_time": "2022-06-26T13:21:56.544Z"
   },
   {
    "duration": 10,
    "start_time": "2022-06-26T13:21:56.551Z"
   },
   {
    "duration": 28,
    "start_time": "2022-06-26T13:21:56.563Z"
   },
   {
    "duration": 38,
    "start_time": "2022-06-26T13:21:56.594Z"
   },
   {
    "duration": 18,
    "start_time": "2022-06-26T13:21:56.634Z"
   },
   {
    "duration": 18,
    "start_time": "2022-06-26T13:21:56.654Z"
   },
   {
    "duration": 132,
    "start_time": "2022-06-26T13:21:56.674Z"
   },
   {
    "duration": 80,
    "start_time": "2022-06-26T13:21:56.810Z"
   },
   {
    "duration": 59,
    "start_time": "2022-06-26T13:21:56.894Z"
   },
   {
    "duration": 7,
    "start_time": "2022-06-26T13:21:56.954Z"
   },
   {
    "duration": 8,
    "start_time": "2022-06-26T13:21:56.962Z"
   },
   {
    "duration": 18,
    "start_time": "2022-06-26T13:21:56.971Z"
   },
   {
    "duration": 40,
    "start_time": "2022-06-26T13:21:56.991Z"
   },
   {
    "duration": 16,
    "start_time": "2022-06-26T13:21:57.032Z"
   },
   {
    "duration": 14,
    "start_time": "2022-06-26T13:21:57.050Z"
   },
   {
    "duration": 256,
    "start_time": "2022-06-26T13:21:57.066Z"
   },
   {
    "duration": 24,
    "start_time": "2022-06-26T13:21:57.326Z"
   },
   {
    "duration": 217,
    "start_time": "2022-06-26T13:21:57.352Z"
   },
   {
    "duration": 158,
    "start_time": "2022-06-26T13:21:57.571Z"
   },
   {
    "duration": 5,
    "start_time": "2022-06-26T13:21:57.731Z"
   },
   {
    "duration": 20,
    "start_time": "2022-06-26T13:21:57.738Z"
   },
   {
    "duration": 4,
    "start_time": "2022-06-26T13:21:57.759Z"
   },
   {
    "duration": 8,
    "start_time": "2022-06-26T13:21:57.764Z"
   },
   {
    "duration": 7,
    "start_time": "2022-06-26T13:21:57.773Z"
   },
   {
    "duration": 12,
    "start_time": "2022-06-26T13:21:57.782Z"
   },
   {
    "duration": 70,
    "start_time": "2022-06-26T13:21:57.796Z"
   },
   {
    "duration": 8,
    "start_time": "2022-06-26T13:21:57.868Z"
   },
   {
    "duration": 6,
    "start_time": "2022-06-26T13:21:57.877Z"
   },
   {
    "duration": 14,
    "start_time": "2022-06-26T13:21:57.884Z"
   },
   {
    "duration": 4,
    "start_time": "2022-06-26T13:21:57.900Z"
   },
   {
    "duration": 22,
    "start_time": "2022-06-26T13:21:57.925Z"
   },
   {
    "duration": 24,
    "start_time": "2022-06-26T13:21:57.949Z"
   },
   {
    "duration": 5,
    "start_time": "2022-06-26T13:21:57.975Z"
   },
   {
    "duration": 12,
    "start_time": "2022-06-26T13:21:57.982Z"
   },
   {
    "duration": 13,
    "start_time": "2022-06-26T13:21:57.996Z"
   },
   {
    "duration": 16,
    "start_time": "2022-06-26T13:21:58.025Z"
   },
   {
    "duration": 8,
    "start_time": "2022-06-26T13:21:58.042Z"
   },
   {
    "duration": 15,
    "start_time": "2022-06-26T13:21:58.051Z"
   },
   {
    "duration": 17,
    "start_time": "2022-06-26T13:21:58.068Z"
   },
   {
    "duration": 6,
    "start_time": "2022-06-26T13:21:58.087Z"
   },
   {
    "duration": 33,
    "start_time": "2022-06-26T13:21:58.095Z"
   },
   {
    "duration": 7,
    "start_time": "2022-06-26T13:21:58.130Z"
   },
   {
    "duration": 19,
    "start_time": "2022-06-26T13:21:58.139Z"
   },
   {
    "duration": 18,
    "start_time": "2022-06-26T13:21:58.160Z"
   },
   {
    "duration": 4,
    "start_time": "2022-06-26T13:21:58.179Z"
   },
   {
    "duration": 12,
    "start_time": "2022-06-26T13:21:58.184Z"
   },
   {
    "duration": 35,
    "start_time": "2022-06-26T13:21:58.198Z"
   },
   {
    "duration": 9,
    "start_time": "2022-06-26T13:21:58.236Z"
   },
   {
    "duration": 21,
    "start_time": "2022-06-26T13:21:58.246Z"
   },
   {
    "duration": 15,
    "start_time": "2022-06-26T13:21:58.268Z"
   },
   {
    "duration": 6,
    "start_time": "2022-06-26T13:21:58.285Z"
   },
   {
    "duration": 8,
    "start_time": "2022-06-26T13:21:58.293Z"
   },
   {
    "duration": 26,
    "start_time": "2022-06-26T13:21:58.302Z"
   },
   {
    "duration": 11,
    "start_time": "2022-06-26T13:21:58.330Z"
   },
   {
    "duration": 6,
    "start_time": "2022-06-26T13:21:58.342Z"
   },
   {
    "duration": 8,
    "start_time": "2022-06-26T13:21:58.350Z"
   },
   {
    "duration": 7,
    "start_time": "2022-06-26T13:21:58.360Z"
   },
   {
    "duration": 18,
    "start_time": "2022-06-26T13:21:58.369Z"
   },
   {
    "duration": 6,
    "start_time": "2022-06-26T13:21:58.389Z"
   },
   {
    "duration": 33,
    "start_time": "2022-06-26T13:21:58.397Z"
   },
   {
    "duration": 15,
    "start_time": "2022-06-26T13:21:58.432Z"
   },
   {
    "duration": 3,
    "start_time": "2022-06-26T13:21:58.449Z"
   },
   {
    "duration": 4,
    "start_time": "2022-06-26T13:21:58.460Z"
   },
   {
    "duration": 9,
    "start_time": "2022-06-26T13:21:58.465Z"
   },
   {
    "duration": 15,
    "start_time": "2022-06-26T13:21:58.476Z"
   },
   {
    "duration": 98,
    "start_time": "2022-06-26T13:21:58.492Z"
   },
   {
    "duration": 3,
    "start_time": "2022-06-26T13:21:58.591Z"
   },
   {
    "duration": 10,
    "start_time": "2022-06-26T13:21:58.596Z"
   },
   {
    "duration": 18,
    "start_time": "2022-06-26T13:21:58.608Z"
   },
   {
    "duration": 6,
    "start_time": "2022-06-26T13:21:58.628Z"
   },
   {
    "duration": 18,
    "start_time": "2022-06-26T13:21:58.636Z"
   },
   {
    "duration": 23,
    "start_time": "2022-06-26T13:21:58.656Z"
   },
   {
    "duration": 11,
    "start_time": "2022-06-26T13:21:58.681Z"
   },
   {
    "duration": 7,
    "start_time": "2022-06-26T13:21:58.694Z"
   },
   {
    "duration": 6,
    "start_time": "2022-06-26T13:21:58.703Z"
   },
   {
    "duration": 6,
    "start_time": "2022-06-26T13:21:58.710Z"
   },
   {
    "duration": 6,
    "start_time": "2022-06-26T13:21:58.725Z"
   },
   {
    "duration": 24,
    "start_time": "2022-06-26T13:21:58.732Z"
   },
   {
    "duration": 18,
    "start_time": "2022-06-26T13:21:58.758Z"
   },
   {
    "duration": 25,
    "start_time": "2022-06-26T13:21:58.777Z"
   },
   {
    "duration": 20,
    "start_time": "2022-06-26T13:21:58.803Z"
   },
   {
    "duration": 205,
    "start_time": "2022-06-26T13:21:58.825Z"
   },
   {
    "duration": 4,
    "start_time": "2022-06-26T13:21:59.032Z"
   },
   {
    "duration": 4,
    "start_time": "2022-06-26T13:21:59.038Z"
   },
   {
    "duration": 8,
    "start_time": "2022-06-26T13:21:59.044Z"
   },
   {
    "duration": 7,
    "start_time": "2022-06-26T13:21:59.053Z"
   },
   {
    "duration": 8,
    "start_time": "2022-06-26T13:21:59.062Z"
   },
   {
    "duration": 9,
    "start_time": "2022-06-26T13:21:59.071Z"
   },
   {
    "duration": 11,
    "start_time": "2022-06-26T13:21:59.082Z"
   },
   {
    "duration": 9,
    "start_time": "2022-06-26T13:21:59.095Z"
   },
   {
    "duration": 6,
    "start_time": "2022-06-26T13:21:59.125Z"
   },
   {
    "duration": 15,
    "start_time": "2022-06-26T13:21:59.132Z"
   },
   {
    "duration": 7,
    "start_time": "2022-06-26T13:21:59.149Z"
   },
   {
    "duration": 8,
    "start_time": "2022-06-26T13:21:59.157Z"
   },
   {
    "duration": 206,
    "start_time": "2022-06-26T13:21:59.167Z"
   },
   {
    "duration": 4,
    "start_time": "2022-06-26T13:21:59.374Z"
   },
   {
    "duration": 13,
    "start_time": "2022-06-26T13:21:59.380Z"
   },
   {
    "duration": 4,
    "start_time": "2022-06-26T13:21:59.395Z"
   },
   {
    "duration": 6,
    "start_time": "2022-06-26T13:21:59.425Z"
   },
   {
    "duration": 14,
    "start_time": "2022-06-26T13:21:59.433Z"
   },
   {
    "duration": 19,
    "start_time": "2022-06-26T13:21:59.449Z"
   },
   {
    "duration": 30,
    "start_time": "2022-06-26T13:21:59.470Z"
   },
   {
    "duration": 25,
    "start_time": "2022-06-26T13:21:59.502Z"
   },
   {
    "duration": 28,
    "start_time": "2022-06-26T13:21:59.529Z"
   },
   {
    "duration": 24,
    "start_time": "2022-06-26T13:21:59.559Z"
   },
   {
    "duration": 22,
    "start_time": "2022-06-26T13:21:59.585Z"
   },
   {
    "duration": 10,
    "start_time": "2022-06-26T13:21:59.609Z"
   },
   {
    "duration": 20,
    "start_time": "2022-06-26T13:21:59.621Z"
   },
   {
    "duration": 197,
    "start_time": "2022-06-26T13:21:59.643Z"
   },
   {
    "duration": 6,
    "start_time": "2022-06-26T13:21:59.841Z"
   },
   {
    "duration": 14,
    "start_time": "2022-06-26T13:21:59.849Z"
   },
   {
    "duration": 11,
    "start_time": "2022-06-26T13:21:59.865Z"
   },
   {
    "duration": 13,
    "start_time": "2022-06-26T13:21:59.877Z"
   },
   {
    "duration": 10,
    "start_time": "2022-06-26T13:21:59.893Z"
   },
   {
    "duration": 31,
    "start_time": "2022-06-26T13:21:59.906Z"
   },
   {
    "duration": 11,
    "start_time": "2022-06-26T13:21:59.939Z"
   },
   {
    "duration": 11,
    "start_time": "2022-06-26T13:21:59.952Z"
   },
   {
    "duration": 8,
    "start_time": "2022-06-26T13:21:59.964Z"
   },
   {
    "duration": 8,
    "start_time": "2022-06-26T13:21:59.974Z"
   },
   {
    "duration": 182,
    "start_time": "2022-06-26T13:21:59.983Z"
   },
   {
    "duration": 16,
    "start_time": "2022-06-26T13:22:00.166Z"
   },
   {
    "duration": 22,
    "start_time": "2022-06-26T13:22:00.184Z"
   },
   {
    "duration": 18,
    "start_time": "2022-06-26T13:22:00.208Z"
   },
   {
    "duration": 14,
    "start_time": "2022-06-26T13:22:00.228Z"
   },
   {
    "duration": 10,
    "start_time": "2022-06-26T13:22:00.244Z"
   },
   {
    "duration": 10,
    "start_time": "2022-06-26T13:22:00.256Z"
   },
   {
    "duration": 10,
    "start_time": "2022-06-26T13:22:00.267Z"
   },
   {
    "duration": 17,
    "start_time": "2022-06-26T13:22:00.279Z"
   },
   {
    "duration": 57,
    "start_time": "2022-06-26T13:22:00.297Z"
   },
   {
    "duration": 3,
    "start_time": "2022-06-26T13:22:00.356Z"
   },
   {
    "duration": 19,
    "start_time": "2022-06-26T13:22:00.361Z"
   },
   {
    "duration": 18,
    "start_time": "2022-06-26T13:22:00.382Z"
   },
   {
    "duration": 7,
    "start_time": "2022-06-26T13:22:00.402Z"
   },
   {
    "duration": 36,
    "start_time": "2022-06-26T13:22:00.410Z"
   },
   {
    "duration": 16,
    "start_time": "2022-06-26T13:22:00.448Z"
   },
   {
    "duration": 26,
    "start_time": "2022-06-26T13:22:00.466Z"
   },
   {
    "duration": 9,
    "start_time": "2022-06-26T13:22:00.494Z"
   },
   {
    "duration": 17,
    "start_time": "2022-06-26T13:22:00.505Z"
   },
   {
    "duration": 16,
    "start_time": "2022-06-26T13:22:00.523Z"
   },
   {
    "duration": 17,
    "start_time": "2022-06-26T13:22:00.541Z"
   },
   {
    "duration": 12,
    "start_time": "2022-06-26T13:22:00.560Z"
   },
   {
    "duration": 11,
    "start_time": "2022-06-26T13:31:44.152Z"
   },
   {
    "duration": 7,
    "start_time": "2022-06-26T13:33:19.624Z"
   },
   {
    "duration": 6,
    "start_time": "2022-06-26T13:35:15.681Z"
   },
   {
    "duration": 47,
    "start_time": "2022-06-26T21:27:14.667Z"
   },
   {
    "duration": 1099,
    "start_time": "2022-06-26T21:27:24.286Z"
   },
   {
    "duration": 318,
    "start_time": "2022-06-26T21:27:27.964Z"
   },
   {
    "duration": 482,
    "start_time": "2022-06-26T21:27:28.285Z"
   },
   {
    "duration": 115,
    "start_time": "2022-06-26T21:27:28.769Z"
   },
   {
    "duration": 31,
    "start_time": "2022-06-26T21:27:28.886Z"
   },
   {
    "duration": 36,
    "start_time": "2022-06-26T21:27:28.954Z"
   },
   {
    "duration": 17,
    "start_time": "2022-06-26T21:27:29.659Z"
   },
   {
    "duration": 33,
    "start_time": "2022-06-26T21:27:30.226Z"
   },
   {
    "duration": 10,
    "start_time": "2022-06-26T21:27:30.787Z"
   },
   {
    "duration": 23,
    "start_time": "2022-06-26T21:27:31.092Z"
   },
   {
    "duration": 12,
    "start_time": "2022-06-26T21:27:31.569Z"
   },
   {
    "duration": 22,
    "start_time": "2022-06-26T21:27:31.866Z"
   },
   {
    "duration": 9,
    "start_time": "2022-06-26T21:27:32.914Z"
   },
   {
    "duration": 13,
    "start_time": "2022-06-26T21:27:33.424Z"
   },
   {
    "duration": 12,
    "start_time": "2022-06-26T21:27:33.715Z"
   },
   {
    "duration": 11,
    "start_time": "2022-06-26T21:27:34.010Z"
   },
   {
    "duration": 35,
    "start_time": "2022-06-26T21:27:35.491Z"
   },
   {
    "duration": 30,
    "start_time": "2022-06-26T21:27:35.743Z"
   },
   {
    "duration": 23,
    "start_time": "2022-06-26T21:27:35.981Z"
   },
   {
    "duration": 6,
    "start_time": "2022-06-26T21:27:36.255Z"
   },
   {
    "duration": 4,
    "start_time": "2022-06-26T21:27:36.533Z"
   },
   {
    "duration": 21,
    "start_time": "2022-06-26T21:27:37.065Z"
   },
   {
    "duration": 19,
    "start_time": "2022-06-26T21:27:37.289Z"
   },
   {
    "duration": 16,
    "start_time": "2022-06-26T21:27:37.565Z"
   },
   {
    "duration": 9,
    "start_time": "2022-06-26T21:27:38.045Z"
   },
   {
    "duration": 120,
    "start_time": "2022-06-26T21:27:38.330Z"
   },
   {
    "duration": 71,
    "start_time": "2022-06-26T21:27:38.619Z"
   },
   {
    "duration": 39,
    "start_time": "2022-06-26T21:27:38.905Z"
   },
   {
    "duration": 8,
    "start_time": "2022-06-26T21:27:39.909Z"
   },
   {
    "duration": 7,
    "start_time": "2022-06-26T21:27:40.280Z"
   },
   {
    "duration": 30,
    "start_time": "2022-06-26T21:27:40.567Z"
   },
   {
    "duration": 21,
    "start_time": "2022-06-26T21:27:40.960Z"
   },
   {
    "duration": 16,
    "start_time": "2022-06-26T21:27:41.369Z"
   },
   {
    "duration": 25,
    "start_time": "2022-06-26T21:27:41.671Z"
   },
   {
    "duration": 235,
    "start_time": "2022-06-26T21:27:42.078Z"
   },
   {
    "duration": 19,
    "start_time": "2022-06-26T21:27:42.433Z"
   },
   {
    "duration": 200,
    "start_time": "2022-06-26T21:27:43.172Z"
   },
   {
    "duration": 129,
    "start_time": "2022-06-26T21:27:45.771Z"
   },
   {
    "duration": 5,
    "start_time": "2022-06-26T21:27:46.838Z"
   },
   {
    "duration": 13,
    "start_time": "2022-06-26T21:27:47.183Z"
   },
   {
    "duration": 6,
    "start_time": "2022-06-26T21:27:47.768Z"
   },
   {
    "duration": 8,
    "start_time": "2022-06-26T21:27:48.058Z"
   },
   {
    "duration": 5,
    "start_time": "2022-06-26T21:27:49.514Z"
   },
   {
    "duration": 4,
    "start_time": "2022-06-26T21:27:50.066Z"
   },
   {
    "duration": 70,
    "start_time": "2022-06-26T21:27:51.250Z"
   },
   {
    "duration": 5,
    "start_time": "2022-06-26T21:27:52.086Z"
   },
   {
    "duration": 3,
    "start_time": "2022-06-26T21:27:52.704Z"
   },
   {
    "duration": 13,
    "start_time": "2022-06-26T21:27:53.721Z"
   },
   {
    "duration": 5,
    "start_time": "2022-06-26T21:27:54.404Z"
   },
   {
    "duration": 52,
    "start_time": "2022-06-26T21:31:04.212Z"
   },
   {
    "duration": 46,
    "start_time": "2022-06-26T21:31:19.292Z"
   },
   {
    "duration": 57,
    "start_time": "2022-06-26T21:32:34.968Z"
   },
   {
    "duration": 62,
    "start_time": "2022-06-26T21:33:31.372Z"
   },
   {
    "duration": 3,
    "start_time": "2022-06-26T21:33:54.192Z"
   },
   {
    "duration": 194,
    "start_time": "2022-06-26T21:33:54.646Z"
   },
   {
    "duration": 126,
    "start_time": "2022-06-26T21:33:54.876Z"
   },
   {
    "duration": 85,
    "start_time": "2022-06-26T21:33:55.110Z"
   },
   {
    "duration": 12,
    "start_time": "2022-06-26T21:33:55.361Z"
   },
   {
    "duration": 17,
    "start_time": "2022-06-26T21:33:55.577Z"
   },
   {
    "duration": 11,
    "start_time": "2022-06-26T21:33:56.662Z"
   },
   {
    "duration": 27,
    "start_time": "2022-06-26T21:33:56.979Z"
   },
   {
    "duration": 13,
    "start_time": "2022-06-26T21:33:57.429Z"
   },
   {
    "duration": 22,
    "start_time": "2022-06-26T21:33:57.744Z"
   },
   {
    "duration": 11,
    "start_time": "2022-06-26T21:33:58.476Z"
   },
   {
    "duration": 30,
    "start_time": "2022-06-26T21:33:58.860Z"
   },
   {
    "duration": 9,
    "start_time": "2022-06-26T21:33:59.303Z"
   },
   {
    "duration": 13,
    "start_time": "2022-06-26T21:33:59.617Z"
   },
   {
    "duration": 12,
    "start_time": "2022-06-26T21:34:00.424Z"
   },
   {
    "duration": 12,
    "start_time": "2022-06-26T21:34:00.737Z"
   },
   {
    "duration": 52,
    "start_time": "2022-06-26T21:34:01.822Z"
   },
   {
    "duration": 40,
    "start_time": "2022-06-26T21:34:02.054Z"
   },
   {
    "duration": 30,
    "start_time": "2022-06-26T21:34:02.453Z"
   },
   {
    "duration": 5,
    "start_time": "2022-06-26T21:34:02.779Z"
   },
   {
    "duration": 5,
    "start_time": "2022-06-26T21:34:03.032Z"
   },
   {
    "duration": 21,
    "start_time": "2022-06-26T21:34:03.605Z"
   },
   {
    "duration": 24,
    "start_time": "2022-06-26T21:34:03.891Z"
   },
   {
    "duration": 19,
    "start_time": "2022-06-26T21:34:04.140Z"
   },
   {
    "duration": 8,
    "start_time": "2022-06-26T21:34:04.701Z"
   },
   {
    "duration": 116,
    "start_time": "2022-06-26T21:34:04.983Z"
   },
   {
    "duration": 82,
    "start_time": "2022-06-26T21:34:05.272Z"
   },
   {
    "duration": 53,
    "start_time": "2022-06-26T21:34:05.553Z"
   },
   {
    "duration": 9,
    "start_time": "2022-06-26T21:34:06.396Z"
   },
   {
    "duration": 8,
    "start_time": "2022-06-26T21:34:07.028Z"
   },
   {
    "duration": 35,
    "start_time": "2022-06-26T21:34:07.319Z"
   },
   {
    "duration": 34,
    "start_time": "2022-06-26T21:34:07.697Z"
   },
   {
    "duration": 21,
    "start_time": "2022-06-26T21:34:08.011Z"
   },
   {
    "duration": 28,
    "start_time": "2022-06-26T21:34:08.294Z"
   },
   {
    "duration": 294,
    "start_time": "2022-06-26T21:34:08.637Z"
   },
   {
    "duration": 29,
    "start_time": "2022-06-26T21:34:08.933Z"
   },
   {
    "duration": 259,
    "start_time": "2022-06-26T21:34:09.777Z"
   },
   {
    "duration": 164,
    "start_time": "2022-06-26T21:34:10.406Z"
   },
   {
    "duration": 7,
    "start_time": "2022-06-26T21:34:10.874Z"
   },
   {
    "duration": 15,
    "start_time": "2022-06-26T21:34:11.229Z"
   },
   {
    "duration": 5,
    "start_time": "2022-06-26T21:34:12.334Z"
   },
   {
    "duration": 8,
    "start_time": "2022-06-26T21:34:13.087Z"
   },
   {
    "duration": 6,
    "start_time": "2022-06-26T21:34:14.843Z"
   },
   {
    "duration": 5,
    "start_time": "2022-06-26T21:34:15.367Z"
   },
   {
    "duration": 95,
    "start_time": "2022-06-26T21:34:16.139Z"
   },
   {
    "duration": 7,
    "start_time": "2022-06-26T21:34:16.472Z"
   },
   {
    "duration": 5,
    "start_time": "2022-06-26T21:34:16.754Z"
   },
   {
    "duration": 16,
    "start_time": "2022-06-26T21:34:17.447Z"
   },
   {
    "duration": 4,
    "start_time": "2022-06-26T21:34:17.785Z"
   },
   {
    "duration": 20,
    "start_time": "2022-06-26T21:34:18.153Z"
   },
   {
    "duration": 30,
    "start_time": "2022-06-26T21:34:22.032Z"
   },
   {
    "duration": 6,
    "start_time": "2022-06-26T21:34:22.775Z"
   },
   {
    "duration": 6,
    "start_time": "2022-06-26T21:34:23.035Z"
   },
   {
    "duration": 9,
    "start_time": "2022-06-26T21:34:23.300Z"
   },
   {
    "duration": 17,
    "start_time": "2022-06-26T21:34:23.565Z"
   },
   {
    "duration": 4,
    "start_time": "2022-06-26T21:34:24.053Z"
   },
   {
    "duration": 17,
    "start_time": "2022-06-26T21:34:24.318Z"
   },
   {
    "duration": 20,
    "start_time": "2022-06-26T21:34:24.598Z"
   },
   {
    "duration": 6,
    "start_time": "2022-06-26T21:34:25.310Z"
   },
   {
    "duration": 5,
    "start_time": "2022-06-26T21:34:25.596Z"
   },
   {
    "duration": 7,
    "start_time": "2022-06-26T21:34:25.861Z"
   },
   {
    "duration": 13,
    "start_time": "2022-06-26T21:34:26.411Z"
   },
   {
    "duration": 17,
    "start_time": "2022-06-26T21:34:26.640Z"
   },
   {
    "duration": 10,
    "start_time": "2022-06-26T21:34:27.190Z"
   },
   {
    "duration": 13,
    "start_time": "2022-06-26T21:34:27.812Z"
   },
   {
    "duration": 19,
    "start_time": "2022-06-26T21:34:28.088Z"
   },
   {
    "duration": 9,
    "start_time": "2022-06-26T21:34:28.697Z"
   },
   {
    "duration": 30,
    "start_time": "2022-06-26T21:34:28.936Z"
   },
   {
    "duration": 14,
    "start_time": "2022-06-26T21:34:29.208Z"
   },
   {
    "duration": 8,
    "start_time": "2022-06-26T21:34:29.480Z"
   },
   {
    "duration": 6,
    "start_time": "2022-06-26T21:34:30.270Z"
   },
   {
    "duration": 4,
    "start_time": "2022-06-26T21:34:30.494Z"
   },
   {
    "duration": 5,
    "start_time": "2022-06-26T21:34:30.787Z"
   },
   {
    "duration": 5,
    "start_time": "2022-06-26T21:34:31.208Z"
   },
   {
    "duration": 6,
    "start_time": "2022-06-26T21:34:31.710Z"
   },
   {
    "duration": 8,
    "start_time": "2022-06-26T21:34:32.026Z"
   },
   {
    "duration": 21,
    "start_time": "2022-06-26T21:34:34.284Z"
   },
   {
    "duration": 4,
    "start_time": "2022-06-26T21:34:35.587Z"
   },
   {
    "duration": 5,
    "start_time": "2022-06-26T21:34:51.322Z"
   },
   {
    "duration": 11,
    "start_time": "2022-06-26T21:34:51.917Z"
   },
   {
    "duration": 5,
    "start_time": "2022-06-26T21:34:52.873Z"
   },
   {
    "duration": 4,
    "start_time": "2022-06-26T21:34:53.217Z"
   },
   {
    "duration": 4,
    "start_time": "2022-06-26T21:34:53.451Z"
   },
   {
    "duration": 17,
    "start_time": "2022-06-26T21:34:53.685Z"
   },
   {
    "duration": 108,
    "start_time": "2022-06-26T21:34:54.165Z"
   },
   {
    "duration": 4,
    "start_time": "2022-06-26T21:34:56.761Z"
   },
   {
    "duration": 10,
    "start_time": "2022-06-26T21:34:57.313Z"
   },
   {
    "duration": 12,
    "start_time": "2022-06-26T21:34:57.972Z"
   },
   {
    "duration": 6,
    "start_time": "2022-06-26T21:35:00.244Z"
   },
   {
    "duration": 3,
    "start_time": "2022-06-26T21:42:56.999Z"
   },
   {
    "duration": 152,
    "start_time": "2022-06-26T21:42:57.614Z"
   },
   {
    "duration": 115,
    "start_time": "2022-06-26T21:42:57.949Z"
   },
   {
    "duration": 79,
    "start_time": "2022-06-26T21:42:58.291Z"
   },
   {
    "duration": 11,
    "start_time": "2022-06-26T21:42:58.566Z"
   },
   {
    "duration": 21,
    "start_time": "2022-06-26T21:42:58.904Z"
   },
   {
    "duration": 8,
    "start_time": "2022-06-26T21:42:59.496Z"
   },
   {
    "duration": 24,
    "start_time": "2022-06-26T21:42:59.834Z"
   },
   {
    "duration": 9,
    "start_time": "2022-06-26T21:43:00.482Z"
   },
   {
    "duration": 20,
    "start_time": "2022-06-26T21:43:00.764Z"
   },
   {
    "duration": 8,
    "start_time": "2022-06-26T21:43:01.358Z"
   },
   {
    "duration": 19,
    "start_time": "2022-06-26T21:43:01.827Z"
   },
   {
    "duration": 9,
    "start_time": "2022-06-26T21:43:02.457Z"
   },
   {
    "duration": 11,
    "start_time": "2022-06-26T21:43:02.904Z"
   },
   {
    "duration": 10,
    "start_time": "2022-06-26T21:43:03.217Z"
   },
   {
    "duration": 10,
    "start_time": "2022-06-26T21:43:03.667Z"
   },
   {
    "duration": 31,
    "start_time": "2022-06-26T21:43:05.082Z"
   },
   {
    "duration": 23,
    "start_time": "2022-06-26T21:43:05.417Z"
   },
   {
    "duration": 21,
    "start_time": "2022-06-26T21:43:05.743Z"
   },
   {
    "duration": 4,
    "start_time": "2022-06-26T21:43:06.066Z"
   },
   {
    "duration": 6,
    "start_time": "2022-06-26T21:43:06.362Z"
   },
   {
    "duration": 22,
    "start_time": "2022-06-26T21:43:06.963Z"
   },
   {
    "duration": 18,
    "start_time": "2022-06-26T21:43:07.290Z"
   },
   {
    "duration": 14,
    "start_time": "2022-06-26T21:43:07.616Z"
   },
   {
    "duration": 7,
    "start_time": "2022-06-26T21:43:08.153Z"
   },
   {
    "duration": 89,
    "start_time": "2022-06-26T21:43:08.427Z"
   },
   {
    "duration": 55,
    "start_time": "2022-06-26T21:43:08.700Z"
   },
   {
    "duration": 40,
    "start_time": "2022-06-26T21:43:09.030Z"
   },
   {
    "duration": 6,
    "start_time": "2022-06-26T21:43:10.070Z"
   },
   {
    "duration": 7,
    "start_time": "2022-06-26T21:43:10.403Z"
   },
   {
    "duration": 21,
    "start_time": "2022-06-26T21:43:10.678Z"
   },
   {
    "duration": 19,
    "start_time": "2022-06-26T21:43:10.958Z"
   },
   {
    "duration": 17,
    "start_time": "2022-06-26T21:43:11.234Z"
   },
   {
    "duration": 18,
    "start_time": "2022-06-26T21:43:11.954Z"
   },
   {
    "duration": 203,
    "start_time": "2022-06-26T21:43:12.455Z"
   },
   {
    "duration": 19,
    "start_time": "2022-06-26T21:43:12.984Z"
   },
   {
    "duration": 212,
    "start_time": "2022-06-26T21:43:13.869Z"
   },
   {
    "duration": 148,
    "start_time": "2022-06-26T21:43:14.906Z"
   },
   {
    "duration": 5,
    "start_time": "2022-06-26T21:43:15.522Z"
   },
   {
    "duration": 12,
    "start_time": "2022-06-26T21:43:16.059Z"
   },
   {
    "duration": 5,
    "start_time": "2022-06-26T21:43:16.790Z"
   },
   {
    "duration": 7,
    "start_time": "2022-06-26T21:43:17.110Z"
   },
   {
    "duration": 5,
    "start_time": "2022-06-26T21:43:19.116Z"
   },
   {
    "duration": 5,
    "start_time": "2022-06-26T21:43:20.151Z"
   },
   {
    "duration": 89,
    "start_time": "2022-06-26T21:43:21.495Z"
   },
   {
    "duration": 5,
    "start_time": "2022-06-26T21:43:21.887Z"
   },
   {
    "duration": 4,
    "start_time": "2022-06-26T21:43:22.367Z"
   },
   {
    "duration": 10,
    "start_time": "2022-06-26T21:43:23.397Z"
   },
   {
    "duration": 4,
    "start_time": "2022-06-26T21:43:23.987Z"
   },
   {
    "duration": 11,
    "start_time": "2022-06-26T21:43:24.438Z"
   },
   {
    "duration": 18,
    "start_time": "2022-06-26T21:43:25.533Z"
   },
   {
    "duration": 6,
    "start_time": "2022-06-26T21:43:26.803Z"
   },
   {
    "duration": 5,
    "start_time": "2022-06-26T21:43:27.464Z"
   },
   {
    "duration": 8,
    "start_time": "2022-06-26T21:43:28.184Z"
   },
   {
    "duration": 12,
    "start_time": "2022-06-26T21:43:29.226Z"
   },
   {
    "duration": 4,
    "start_time": "2022-06-26T21:43:30.371Z"
   },
   {
    "duration": 12,
    "start_time": "2022-06-26T21:43:31.553Z"
   },
   {
    "duration": 14,
    "start_time": "2022-06-26T21:43:32.332Z"
   },
   {
    "duration": 5,
    "start_time": "2022-06-26T21:43:33.807Z"
   },
   {
    "duration": 4,
    "start_time": "2022-06-26T21:43:34.228Z"
   },
   {
    "duration": 5,
    "start_time": "2022-06-26T21:43:34.710Z"
   },
   {
    "duration": 7,
    "start_time": "2022-06-26T21:43:35.477Z"
   },
   {
    "duration": 15,
    "start_time": "2022-06-26T21:43:35.839Z"
   },
   {
    "duration": 3,
    "start_time": "2022-06-26T21:43:36.697Z"
   },
   {
    "duration": 8,
    "start_time": "2022-06-26T21:43:37.516Z"
   },
   {
    "duration": 11,
    "start_time": "2022-06-26T21:43:37.853Z"
   },
   {
    "duration": 7,
    "start_time": "2022-06-26T21:43:38.695Z"
   },
   {
    "duration": 19,
    "start_time": "2022-06-26T21:43:39.378Z"
   },
   {
    "duration": 11,
    "start_time": "2022-06-26T21:43:39.702Z"
   },
   {
    "duration": 7,
    "start_time": "2022-06-26T21:43:40.189Z"
   },
   {
    "duration": 5,
    "start_time": "2022-06-26T21:44:23.294Z"
   },
   {
    "duration": 4,
    "start_time": "2022-06-26T21:48:56.510Z"
   },
   {
    "duration": 6,
    "start_time": "2022-06-26T21:48:57.478Z"
   },
   {
    "duration": 15,
    "start_time": "2022-06-26T21:48:57.785Z"
   },
   {
    "duration": 6,
    "start_time": "2022-06-26T21:48:58.079Z"
   },
   {
    "duration": 14,
    "start_time": "2022-06-26T21:48:58.385Z"
   },
   {
    "duration": 5,
    "start_time": "2022-06-26T21:48:58.879Z"
   },
   {
    "duration": 5,
    "start_time": "2022-06-26T21:48:59.178Z"
   },
   {
    "duration": 5,
    "start_time": "2022-06-26T21:48:59.667Z"
   },
   {
    "duration": 5,
    "start_time": "2022-06-26T21:49:00.280Z"
   },
   {
    "duration": 5,
    "start_time": "2022-06-26T21:49:00.589Z"
   },
   {
    "duration": 5,
    "start_time": "2022-06-26T21:49:00.990Z"
   },
   {
    "duration": 5,
    "start_time": "2022-06-26T21:49:01.367Z"
   },
   {
    "duration": 4,
    "start_time": "2022-06-26T21:49:01.696Z"
   },
   {
    "duration": 245,
    "start_time": "2022-06-26T21:49:02.520Z"
   },
   {
    "duration": 4,
    "start_time": "2022-06-26T21:49:04.712Z"
   },
   {
    "duration": 5,
    "start_time": "2022-06-26T21:49:04.997Z"
   },
   {
    "duration": 5,
    "start_time": "2022-06-26T21:49:05.274Z"
   },
   {
    "duration": 4,
    "start_time": "2022-06-26T21:49:05.535Z"
   },
   {
    "duration": 5,
    "start_time": "2022-06-26T21:49:06.329Z"
   },
   {
    "duration": 5,
    "start_time": "2022-06-26T21:49:06.583Z"
   },
   {
    "duration": 5,
    "start_time": "2022-06-26T21:49:07.016Z"
   },
   {
    "duration": 6,
    "start_time": "2022-06-26T21:49:07.265Z"
   },
   {
    "duration": 5,
    "start_time": "2022-06-26T21:49:07.532Z"
   },
   {
    "duration": 5,
    "start_time": "2022-06-26T21:49:07.787Z"
   },
   {
    "duration": 6,
    "start_time": "2022-06-26T21:49:08.123Z"
   },
   {
    "duration": 5,
    "start_time": "2022-06-26T21:49:08.442Z"
   },
   {
    "duration": 169,
    "start_time": "2022-06-26T21:49:09.318Z"
   },
   {
    "duration": 5,
    "start_time": "2022-06-26T21:49:09.964Z"
   },
   {
    "duration": 12,
    "start_time": "2022-06-26T21:49:10.395Z"
   },
   {
    "duration": 5,
    "start_time": "2022-06-26T21:49:10.715Z"
   },
   {
    "duration": 5,
    "start_time": "2022-06-26T21:49:11.236Z"
   },
   {
    "duration": 5,
    "start_time": "2022-06-26T21:49:12.086Z"
   },
   {
    "duration": 19,
    "start_time": "2022-06-26T21:49:12.421Z"
   },
   {
    "duration": 5,
    "start_time": "2022-06-26T21:49:12.663Z"
   },
   {
    "duration": 6,
    "start_time": "2022-06-26T21:49:13.855Z"
   },
   {
    "duration": 5,
    "start_time": "2022-06-26T21:49:14.338Z"
   },
   {
    "duration": 4,
    "start_time": "2022-06-26T21:49:14.640Z"
   },
   {
    "duration": 5,
    "start_time": "2022-06-26T21:49:15.041Z"
   },
   {
    "duration": 5,
    "start_time": "2022-06-26T21:49:15.326Z"
   },
   {
    "duration": 4,
    "start_time": "2022-06-26T21:49:15.918Z"
   },
   {
    "duration": 153,
    "start_time": "2022-06-26T21:49:16.765Z"
   },
   {
    "duration": 5,
    "start_time": "2022-06-26T21:49:19.161Z"
   },
   {
    "duration": 6,
    "start_time": "2022-06-26T21:49:19.443Z"
   },
   {
    "duration": 7,
    "start_time": "2022-06-26T21:49:19.683Z"
   },
   {
    "duration": 7,
    "start_time": "2022-06-26T21:49:20.038Z"
   },
   {
    "duration": 1227,
    "start_time": "2022-06-26T21:49:23.100Z"
   },
   {
    "duration": 0,
    "start_time": "2022-06-26T21:49:24.328Z"
   },
   {
    "duration": 0,
    "start_time": "2022-06-26T21:49:24.330Z"
   },
   {
    "duration": 0,
    "start_time": "2022-06-26T21:49:24.331Z"
   },
   {
    "duration": 0,
    "start_time": "2022-06-26T21:49:24.332Z"
   },
   {
    "duration": 1170,
    "start_time": "2022-06-26T21:49:24.402Z"
   },
   {
    "duration": 0,
    "start_time": "2022-06-26T21:49:25.574Z"
   },
   {
    "duration": 10,
    "start_time": "2022-06-26T21:49:25.979Z"
   },
   {
    "duration": 12,
    "start_time": "2022-06-26T21:49:26.271Z"
   },
   {
    "duration": 3,
    "start_time": "2022-06-26T21:49:56.119Z"
   },
   {
    "duration": 4,
    "start_time": "2022-06-26T21:49:56.355Z"
   },
   {
    "duration": 3,
    "start_time": "2022-06-26T21:49:56.616Z"
   },
   {
    "duration": 3,
    "start_time": "2022-06-26T21:49:56.847Z"
   },
   {
    "duration": 6,
    "start_time": "2022-06-26T21:49:57.370Z"
   },
   {
    "duration": 6,
    "start_time": "2022-06-26T21:49:57.676Z"
   },
   {
    "duration": 17,
    "start_time": "2022-06-26T21:49:58.937Z"
   },
   {
    "duration": 3,
    "start_time": "2022-06-26T21:49:59.398Z"
   },
   {
    "duration": 4,
    "start_time": "2022-06-26T21:50:00.497Z"
   },
   {
    "duration": 11,
    "start_time": "2022-06-26T21:50:00.735Z"
   },
   {
    "duration": 4,
    "start_time": "2022-06-26T21:50:01.220Z"
   },
   {
    "duration": 4,
    "start_time": "2022-06-26T21:50:01.459Z"
   },
   {
    "duration": 4,
    "start_time": "2022-06-26T21:50:01.746Z"
   },
   {
    "duration": 13,
    "start_time": "2022-06-26T21:50:01.993Z"
   },
   {
    "duration": 64,
    "start_time": "2022-06-26T21:50:02.579Z"
   },
   {
    "duration": 4,
    "start_time": "2022-06-26T21:50:03.335Z"
   },
   {
    "duration": 8,
    "start_time": "2022-06-26T21:50:03.998Z"
   },
   {
    "duration": 10,
    "start_time": "2022-06-26T21:50:04.443Z"
   },
   {
    "duration": 4,
    "start_time": "2022-06-26T21:50:05.350Z"
   },
   {
    "duration": 5,
    "start_time": "2022-06-26T21:50:11.788Z"
   },
   {
    "duration": 10,
    "start_time": "2022-06-26T21:50:12.085Z"
   },
   {
    "duration": 5,
    "start_time": "2022-06-26T21:50:12.363Z"
   },
   {
    "duration": 9,
    "start_time": "2022-06-26T21:50:12.593Z"
   },
   {
    "duration": 4,
    "start_time": "2022-06-26T21:50:13.327Z"
   },
   {
    "duration": 4,
    "start_time": "2022-06-26T21:50:13.622Z"
   },
   {
    "duration": 4,
    "start_time": "2022-06-26T21:50:14.211Z"
   },
   {
    "duration": 5,
    "start_time": "2022-06-26T21:50:14.459Z"
   },
   {
    "duration": 4,
    "start_time": "2022-06-26T21:50:14.710Z"
   },
   {
    "duration": 4,
    "start_time": "2022-06-26T21:50:14.965Z"
   },
   {
    "duration": 4,
    "start_time": "2022-06-26T21:50:15.227Z"
   },
   {
    "duration": 5,
    "start_time": "2022-06-26T21:50:15.815Z"
   },
   {
    "duration": 174,
    "start_time": "2022-06-26T21:50:16.798Z"
   },
   {
    "duration": 4,
    "start_time": "2022-06-26T21:50:18.502Z"
   },
   {
    "duration": 5,
    "start_time": "2022-06-26T21:50:18.779Z"
   },
   {
    "duration": 4,
    "start_time": "2022-06-26T21:50:19.085Z"
   },
   {
    "duration": 5,
    "start_time": "2022-06-26T21:50:19.423Z"
   },
   {
    "duration": 5,
    "start_time": "2022-06-26T21:50:20.198Z"
   },
   {
    "duration": 4,
    "start_time": "2022-06-26T21:50:20.507Z"
   },
   {
    "duration": 5,
    "start_time": "2022-06-26T21:50:21.217Z"
   },
   {
    "duration": 5,
    "start_time": "2022-06-26T21:50:21.663Z"
   },
   {
    "duration": 4,
    "start_time": "2022-06-26T21:50:21.937Z"
   },
   {
    "duration": 5,
    "start_time": "2022-06-26T21:50:22.238Z"
   },
   {
    "duration": 5,
    "start_time": "2022-06-26T21:50:22.674Z"
   },
   {
    "duration": 5,
    "start_time": "2022-06-26T21:50:22.987Z"
   },
   {
    "duration": 173,
    "start_time": "2022-06-26T21:50:24.272Z"
   },
   {
    "duration": 5,
    "start_time": "2022-06-26T21:50:24.938Z"
   },
   {
    "duration": 10,
    "start_time": "2022-06-26T21:50:25.961Z"
   },
   {
    "duration": 5,
    "start_time": "2022-06-26T21:50:26.498Z"
   },
   {
    "duration": 4,
    "start_time": "2022-06-26T21:50:27.208Z"
   },
   {
    "duration": 4,
    "start_time": "2022-06-26T21:50:28.559Z"
   },
   {
    "duration": 11,
    "start_time": "2022-06-26T21:50:28.999Z"
   },
   {
    "duration": 4,
    "start_time": "2022-06-26T21:50:29.451Z"
   },
   {
    "duration": 5,
    "start_time": "2022-06-26T21:50:30.105Z"
   },
   {
    "duration": 5,
    "start_time": "2022-06-26T21:50:30.439Z"
   },
   {
    "duration": 4,
    "start_time": "2022-06-26T21:50:30.747Z"
   },
   {
    "duration": 4,
    "start_time": "2022-06-26T21:50:31.077Z"
   },
   {
    "duration": 5,
    "start_time": "2022-06-26T21:50:31.490Z"
   },
   {
    "duration": 4,
    "start_time": "2022-06-26T21:50:32.381Z"
   },
   {
    "duration": 198,
    "start_time": "2022-06-26T21:50:36.331Z"
   },
   {
    "duration": 5,
    "start_time": "2022-06-26T21:50:38.815Z"
   },
   {
    "duration": 8,
    "start_time": "2022-06-26T21:50:39.102Z"
   },
   {
    "duration": 6,
    "start_time": "2022-06-26T21:50:39.395Z"
   },
   {
    "duration": 5,
    "start_time": "2022-06-26T21:50:39.798Z"
   },
   {
    "duration": 8,
    "start_time": "2022-06-26T21:50:42.660Z"
   },
   {
    "duration": 8,
    "start_time": "2022-06-26T21:50:43.715Z"
   },
   {
    "duration": 5,
    "start_time": "2022-06-26T21:50:44.074Z"
   },
   {
    "duration": 4,
    "start_time": "2022-06-26T21:50:44.304Z"
   },
   {
    "duration": 4,
    "start_time": "2022-06-26T21:50:44.535Z"
   },
   {
    "duration": 5,
    "start_time": "2022-06-26T21:50:44.780Z"
   },
   {
    "duration": 147,
    "start_time": "2022-06-26T21:50:45.909Z"
   },
   {
    "duration": 19,
    "start_time": "2022-06-26T21:50:46.465Z"
   },
   {
    "duration": 15,
    "start_time": "2022-06-26T21:50:46.703Z"
   },
   {
    "duration": 3,
    "start_time": "2022-06-26T21:50:48.572Z"
   },
   {
    "duration": 10,
    "start_time": "2022-06-26T21:50:48.577Z"
   },
   {
    "duration": 3,
    "start_time": "2022-06-26T21:50:48.619Z"
   },
   {
    "duration": 4,
    "start_time": "2022-06-26T21:51:38.330Z"
   },
   {
    "duration": 4,
    "start_time": "2022-06-26T21:51:39.112Z"
   },
   {
    "duration": 5,
    "start_time": "2022-06-26T21:51:40.617Z"
   },
   {
    "duration": 47,
    "start_time": "2022-06-26T21:51:40.880Z"
   },
   {
    "duration": 4,
    "start_time": "2022-06-26T21:51:41.123Z"
   },
   {
    "duration": 7,
    "start_time": "2022-06-26T21:51:41.372Z"
   },
   {
    "duration": 24,
    "start_time": "2022-06-26T21:51:41.662Z"
   },
   {
    "duration": 6,
    "start_time": "2022-06-26T21:51:41.968Z"
   },
   {
    "duration": 18,
    "start_time": "2022-06-26T21:51:42.203Z"
   },
   {
    "duration": 6,
    "start_time": "2022-06-26T21:51:42.611Z"
   },
   {
    "duration": 19,
    "start_time": "2022-06-26T21:51:42.847Z"
   },
   {
    "duration": 3,
    "start_time": "2022-06-26T21:51:43.470Z"
   },
   {
    "duration": 4,
    "start_time": "2022-06-26T21:51:43.745Z"
   },
   {
    "duration": 3,
    "start_time": "2022-06-26T21:51:44.005Z"
   },
   {
    "duration": 4,
    "start_time": "2022-06-26T21:51:44.243Z"
   },
   {
    "duration": 6,
    "start_time": "2022-06-26T21:51:46.224Z"
   },
   {
    "duration": 3,
    "start_time": "2022-06-26T21:56:40.668Z"
   },
   {
    "duration": 3,
    "start_time": "2022-06-26T21:56:40.917Z"
   },
   {
    "duration": 3,
    "start_time": "2022-06-26T21:56:48.634Z"
   },
   {
    "duration": 3,
    "start_time": "2022-06-26T22:00:10.086Z"
   },
   {
    "duration": 3,
    "start_time": "2022-06-26T22:00:16.799Z"
   },
   {
    "duration": 3,
    "start_time": "2022-06-26T22:00:22.917Z"
   },
   {
    "duration": 3,
    "start_time": "2022-06-26T22:00:30.374Z"
   },
   {
    "duration": 4,
    "start_time": "2022-06-26T22:00:34.059Z"
   },
   {
    "duration": 6,
    "start_time": "2022-06-26T22:02:52.415Z"
   },
   {
    "duration": 3,
    "start_time": "2022-06-26T22:03:02.159Z"
   },
   {
    "duration": 4,
    "start_time": "2022-06-26T22:03:02.407Z"
   },
   {
    "duration": 5,
    "start_time": "2022-06-26T22:03:04.104Z"
   },
   {
    "duration": 19,
    "start_time": "2022-06-26T22:03:51.979Z"
   },
   {
    "duration": 15,
    "start_time": "2022-06-26T22:04:36.416Z"
   },
   {
    "duration": 18,
    "start_time": "2022-06-26T22:04:49.971Z"
   },
   {
    "duration": 7,
    "start_time": "2022-06-26T22:04:58.094Z"
   },
   {
    "duration": 8,
    "start_time": "2022-06-26T22:05:06.535Z"
   },
   {
    "duration": 6,
    "start_time": "2022-06-26T22:05:33.559Z"
   },
   {
    "duration": 14,
    "start_time": "2022-06-26T22:06:51.504Z"
   },
   {
    "duration": 8,
    "start_time": "2022-06-26T22:11:23.225Z"
   },
   {
    "duration": 12,
    "start_time": "2022-06-26T22:13:00.813Z"
   },
   {
    "duration": 10,
    "start_time": "2022-06-26T22:13:13.889Z"
   },
   {
    "duration": 5,
    "start_time": "2022-06-26T22:13:25.153Z"
   },
   {
    "duration": 4,
    "start_time": "2022-06-26T22:19:43.808Z"
   },
   {
    "duration": 135,
    "start_time": "2022-06-26T22:19:44.234Z"
   },
   {
    "duration": 112,
    "start_time": "2022-06-26T22:19:44.473Z"
   },
   {
    "duration": 81,
    "start_time": "2022-06-26T22:19:44.714Z"
   },
   {
    "duration": 10,
    "start_time": "2022-06-26T22:19:45.035Z"
   },
   {
    "duration": 22,
    "start_time": "2022-06-26T22:19:45.463Z"
   },
   {
    "duration": 12,
    "start_time": "2022-06-26T22:19:45.931Z"
   },
   {
    "duration": 25,
    "start_time": "2022-06-26T22:19:46.263Z"
   },
   {
    "duration": 9,
    "start_time": "2022-06-26T22:19:46.762Z"
   },
   {
    "duration": 21,
    "start_time": "2022-06-26T22:19:47.086Z"
   },
   {
    "duration": 9,
    "start_time": "2022-06-26T22:19:47.762Z"
   },
   {
    "duration": 19,
    "start_time": "2022-06-26T22:19:48.082Z"
   },
   {
    "duration": 8,
    "start_time": "2022-06-26T22:19:48.539Z"
   },
   {
    "duration": 11,
    "start_time": "2022-06-26T22:19:48.863Z"
   },
   {
    "duration": 11,
    "start_time": "2022-06-26T22:19:49.147Z"
   },
   {
    "duration": 11,
    "start_time": "2022-06-26T22:19:49.722Z"
   },
   {
    "duration": 35,
    "start_time": "2022-06-26T22:19:50.636Z"
   },
   {
    "duration": 23,
    "start_time": "2022-06-26T22:19:50.877Z"
   },
   {
    "duration": 21,
    "start_time": "2022-06-26T22:19:51.114Z"
   },
   {
    "duration": 5,
    "start_time": "2022-06-26T22:19:51.349Z"
   },
   {
    "duration": 5,
    "start_time": "2022-06-26T22:19:51.663Z"
   },
   {
    "duration": 23,
    "start_time": "2022-06-26T22:19:52.740Z"
   },
   {
    "duration": 18,
    "start_time": "2022-06-26T22:19:52.977Z"
   },
   {
    "duration": 15,
    "start_time": "2022-06-26T22:19:53.214Z"
   },
   {
    "duration": 7,
    "start_time": "2022-06-26T22:19:53.964Z"
   },
   {
    "duration": 80,
    "start_time": "2022-06-26T22:19:54.247Z"
   },
   {
    "duration": 54,
    "start_time": "2022-06-26T22:19:54.543Z"
   },
   {
    "duration": 42,
    "start_time": "2022-06-26T22:19:54.831Z"
   },
   {
    "duration": 7,
    "start_time": "2022-06-26T22:19:56.124Z"
   },
   {
    "duration": 6,
    "start_time": "2022-06-26T22:19:56.438Z"
   },
   {
    "duration": 20,
    "start_time": "2022-06-26T22:19:56.726Z"
   },
   {
    "duration": 19,
    "start_time": "2022-06-26T22:19:57.019Z"
   },
   {
    "duration": 17,
    "start_time": "2022-06-26T22:19:57.443Z"
   },
   {
    "duration": 17,
    "start_time": "2022-06-26T22:19:57.927Z"
   },
   {
    "duration": 193,
    "start_time": "2022-06-26T22:19:59.047Z"
   },
   {
    "duration": 18,
    "start_time": "2022-06-26T22:19:59.683Z"
   },
   {
    "duration": 197,
    "start_time": "2022-06-26T22:20:00.962Z"
   },
   {
    "duration": 210,
    "start_time": "2022-06-26T22:20:26.150Z"
   },
   {
    "duration": 7,
    "start_time": "2022-06-26T22:20:26.463Z"
   },
   {
    "duration": 15,
    "start_time": "2022-06-26T22:20:26.762Z"
   },
   {
    "duration": 6,
    "start_time": "2022-06-26T22:20:27.264Z"
   },
   {
    "duration": 7,
    "start_time": "2022-06-26T22:20:27.569Z"
   },
   {
    "duration": 4,
    "start_time": "2022-06-26T22:20:29.173Z"
   },
   {
    "duration": 4,
    "start_time": "2022-06-26T22:20:29.761Z"
   },
   {
    "duration": 56,
    "start_time": "2022-06-26T22:20:30.626Z"
   },
   {
    "duration": 6,
    "start_time": "2022-06-26T22:20:30.879Z"
   },
   {
    "duration": 6,
    "start_time": "2022-06-26T22:20:31.158Z"
   },
   {
    "duration": 13,
    "start_time": "2022-06-26T22:20:31.574Z"
   },
   {
    "duration": 5,
    "start_time": "2022-06-26T22:20:31.828Z"
   },
   {
    "duration": 16,
    "start_time": "2022-06-26T22:20:32.065Z"
   },
   {
    "duration": 28,
    "start_time": "2022-06-26T22:20:32.572Z"
   },
   {
    "duration": 7,
    "start_time": "2022-06-26T22:20:33.079Z"
   },
   {
    "duration": 6,
    "start_time": "2022-06-26T22:20:33.312Z"
   },
   {
    "duration": 9,
    "start_time": "2022-06-26T22:20:33.541Z"
   },
   {
    "duration": 15,
    "start_time": "2022-06-26T22:20:33.776Z"
   },
   {
    "duration": 4,
    "start_time": "2022-06-26T22:20:34.370Z"
   },
   {
    "duration": 17,
    "start_time": "2022-06-26T22:20:34.694Z"
   },
   {
    "duration": 19,
    "start_time": "2022-06-26T22:20:35.002Z"
   },
   {
    "duration": 6,
    "start_time": "2022-06-26T22:20:35.687Z"
   },
   {
    "duration": 4,
    "start_time": "2022-06-26T22:20:35.918Z"
   },
   {
    "duration": 6,
    "start_time": "2022-06-26T22:20:36.189Z"
   },
   {
    "duration": 9,
    "start_time": "2022-06-26T22:20:36.770Z"
   },
   {
    "duration": 19,
    "start_time": "2022-06-26T22:20:37.132Z"
   },
   {
    "duration": 4,
    "start_time": "2022-06-26T22:20:37.597Z"
   },
   {
    "duration": 9,
    "start_time": "2022-06-26T22:20:38.139Z"
   },
   {
    "duration": 12,
    "start_time": "2022-06-26T22:20:38.425Z"
   },
   {
    "duration": 8,
    "start_time": "2022-06-26T22:20:39.030Z"
   },
   {
    "duration": 18,
    "start_time": "2022-06-26T22:20:39.329Z"
   },
   {
    "duration": 10,
    "start_time": "2022-06-26T22:20:39.700Z"
   },
   {
    "duration": 7,
    "start_time": "2022-06-26T22:20:40.040Z"
   },
   {
    "duration": 4,
    "start_time": "2022-06-26T22:20:40.685Z"
   },
   {
    "duration": 3,
    "start_time": "2022-06-26T22:20:41.050Z"
   },
   {
    "duration": 3,
    "start_time": "2022-06-26T22:20:41.338Z"
   },
   {
    "duration": 5,
    "start_time": "2022-06-26T22:20:41.710Z"
   },
   {
    "duration": 5,
    "start_time": "2022-06-26T22:20:42.298Z"
   },
   {
    "duration": 7,
    "start_time": "2022-06-26T22:20:42.740Z"
   },
   {
    "duration": 16,
    "start_time": "2022-06-26T22:20:44.173Z"
   },
   {
    "duration": 4,
    "start_time": "2022-06-26T22:20:44.864Z"
   },
   {
    "duration": 4,
    "start_time": "2022-06-26T22:20:45.695Z"
   },
   {
    "duration": 12,
    "start_time": "2022-06-26T22:20:45.977Z"
   },
   {
    "duration": 5,
    "start_time": "2022-06-26T22:20:46.758Z"
   },
   {
    "duration": 4,
    "start_time": "2022-06-26T22:20:46.992Z"
   },
   {
    "duration": 4,
    "start_time": "2022-06-26T22:20:47.227Z"
   },
   {
    "duration": 12,
    "start_time": "2022-06-26T22:20:47.475Z"
   },
   {
    "duration": 63,
    "start_time": "2022-06-26T22:20:48.066Z"
   },
   {
    "duration": 3,
    "start_time": "2022-06-26T22:20:49.063Z"
   },
   {
    "duration": 9,
    "start_time": "2022-06-26T22:20:49.492Z"
   },
   {
    "duration": 10,
    "start_time": "2022-06-26T22:20:50.328Z"
   },
   {
    "duration": 4,
    "start_time": "2022-06-26T22:20:56.672Z"
   },
   {
    "duration": 5,
    "start_time": "2022-06-26T22:20:57.747Z"
   },
   {
    "duration": 9,
    "start_time": "2022-06-26T22:20:58.010Z"
   },
   {
    "duration": 6,
    "start_time": "2022-06-26T22:20:58.300Z"
   },
   {
    "duration": 9,
    "start_time": "2022-06-26T22:20:58.534Z"
   },
   {
    "duration": 6,
    "start_time": "2022-06-26T22:20:59.099Z"
   },
   {
    "duration": 5,
    "start_time": "2022-06-26T22:20:59.362Z"
   },
   {
    "duration": 5,
    "start_time": "2022-06-26T22:21:00.086Z"
   },
   {
    "duration": 4,
    "start_time": "2022-06-26T22:21:00.346Z"
   },
   {
    "duration": 4,
    "start_time": "2022-06-26T22:21:00.735Z"
   },
   {
    "duration": 4,
    "start_time": "2022-06-26T22:21:00.993Z"
   },
   {
    "duration": 5,
    "start_time": "2022-06-26T22:21:01.345Z"
   },
   {
    "duration": 5,
    "start_time": "2022-06-26T22:21:01.756Z"
   },
   {
    "duration": 160,
    "start_time": "2022-06-26T22:21:02.854Z"
   },
   {
    "duration": 5,
    "start_time": "2022-06-26T22:21:04.555Z"
   },
   {
    "duration": 6,
    "start_time": "2022-06-26T22:21:04.862Z"
   },
   {
    "duration": 5,
    "start_time": "2022-06-26T22:21:05.153Z"
   },
   {
    "duration": 5,
    "start_time": "2022-06-26T22:21:05.531Z"
   },
   {
    "duration": 6,
    "start_time": "2022-06-26T22:21:06.436Z"
   },
   {
    "duration": 5,
    "start_time": "2022-06-26T22:21:06.714Z"
   },
   {
    "duration": 6,
    "start_time": "2022-06-26T22:21:07.286Z"
   },
   {
    "duration": 5,
    "start_time": "2022-06-26T22:21:07.574Z"
   },
   {
    "duration": 5,
    "start_time": "2022-06-26T22:21:07.846Z"
   },
   {
    "duration": 6,
    "start_time": "2022-06-26T22:21:08.109Z"
   },
   {
    "duration": 6,
    "start_time": "2022-06-26T22:21:08.612Z"
   },
   {
    "duration": 5,
    "start_time": "2022-06-26T22:21:08.889Z"
   },
   {
    "duration": 271,
    "start_time": "2022-06-26T22:21:09.906Z"
   },
   {
    "duration": 5,
    "start_time": "2022-06-26T22:21:10.445Z"
   },
   {
    "duration": 11,
    "start_time": "2022-06-26T22:21:10.766Z"
   },
   {
    "duration": 5,
    "start_time": "2022-06-26T22:21:11.048Z"
   },
   {
    "duration": 5,
    "start_time": "2022-06-26T22:21:11.671Z"
   },
   {
    "duration": 4,
    "start_time": "2022-06-26T22:21:12.541Z"
   },
   {
    "duration": 12,
    "start_time": "2022-06-26T22:21:12.794Z"
   },
   {
    "duration": 4,
    "start_time": "2022-06-26T22:21:13.110Z"
   },
   {
    "duration": 5,
    "start_time": "2022-06-26T22:21:13.797Z"
   },
   {
    "duration": 5,
    "start_time": "2022-06-26T22:21:14.143Z"
   },
   {
    "duration": 5,
    "start_time": "2022-06-26T22:21:14.458Z"
   },
   {
    "duration": 5,
    "start_time": "2022-06-26T22:21:14.850Z"
   },
   {
    "duration": 5,
    "start_time": "2022-06-26T22:21:15.165Z"
   },
   {
    "duration": 5,
    "start_time": "2022-06-26T22:21:15.775Z"
   },
   {
    "duration": 153,
    "start_time": "2022-06-26T22:21:16.672Z"
   },
   {
    "duration": 5,
    "start_time": "2022-06-26T22:21:18.693Z"
   },
   {
    "duration": 8,
    "start_time": "2022-06-26T22:21:19.041Z"
   },
   {
    "duration": 6,
    "start_time": "2022-06-26T22:21:19.392Z"
   },
   {
    "duration": 7,
    "start_time": "2022-06-26T22:21:19.649Z"
   },
   {
    "duration": 7,
    "start_time": "2022-06-26T22:21:21.603Z"
   },
   {
    "duration": 8,
    "start_time": "2022-06-26T22:21:21.950Z"
   },
   {
    "duration": 4,
    "start_time": "2022-06-26T22:21:22.294Z"
   },
   {
    "duration": 5,
    "start_time": "2022-06-26T22:21:22.610Z"
   },
   {
    "duration": 4,
    "start_time": "2022-06-26T22:21:22.963Z"
   },
   {
    "duration": 4,
    "start_time": "2022-06-26T22:21:23.300Z"
   },
   {
    "duration": 153,
    "start_time": "2022-06-26T22:21:24.039Z"
   },
   {
    "duration": 21,
    "start_time": "2022-06-26T22:21:24.724Z"
   },
   {
    "duration": 22,
    "start_time": "2022-06-26T22:21:25.055Z"
   },
   {
    "duration": 4,
    "start_time": "2022-06-26T22:21:26.732Z"
   },
   {
    "duration": 4,
    "start_time": "2022-06-26T22:21:26.973Z"
   },
   {
    "duration": 4,
    "start_time": "2022-06-26T22:21:27.275Z"
   },
   {
    "duration": 4,
    "start_time": "2022-06-26T22:21:27.571Z"
   },
   {
    "duration": 5,
    "start_time": "2022-06-26T22:21:29.619Z"
   },
   {
    "duration": 5,
    "start_time": "2022-06-26T22:21:34.430Z"
   },
   {
    "duration": 59,
    "start_time": "2022-06-26T22:21:34.827Z"
   },
   {
    "duration": 5,
    "start_time": "2022-06-26T22:21:35.103Z"
   },
   {
    "duration": 4,
    "start_time": "2022-06-26T22:21:35.380Z"
   },
   {
    "duration": 7,
    "start_time": "2022-06-26T22:21:35.843Z"
   },
   {
    "duration": 7,
    "start_time": "2022-06-26T22:21:36.312Z"
   },
   {
    "duration": 14,
    "start_time": "2022-06-26T22:21:37.471Z"
   },
   {
    "duration": 18,
    "start_time": "2022-06-26T22:21:38.649Z"
   },
   {
    "duration": 8,
    "start_time": "2022-06-26T22:21:53.890Z"
   },
   {
    "duration": 22,
    "start_time": "2022-06-26T22:21:55.438Z"
   },
   {
    "duration": 6,
    "start_time": "2022-06-26T22:22:00.304Z"
   },
   {
    "duration": 20,
    "start_time": "2022-06-26T22:22:00.663Z"
   },
   {
    "duration": 8,
    "start_time": "2022-06-26T22:22:00.933Z"
   },
   {
    "duration": 8,
    "start_time": "2022-06-26T22:22:01.367Z"
   },
   {
    "duration": 23,
    "start_time": "2022-06-26T22:22:01.689Z"
   },
   {
    "duration": 7,
    "start_time": "2022-06-26T22:22:02.685Z"
   },
   {
    "duration": 3,
    "start_time": "2022-06-26T22:22:04.119Z"
   },
   {
    "duration": 4,
    "start_time": "2022-06-26T22:22:04.540Z"
   },
   {
    "duration": 3,
    "start_time": "2022-06-26T22:22:05.018Z"
   },
   {
    "duration": 4,
    "start_time": "2022-06-26T22:22:05.283Z"
   },
   {
    "duration": 5,
    "start_time": "2022-06-26T22:22:07.734Z"
   },
   {
    "duration": 17,
    "start_time": "2022-06-26T22:23:24.720Z"
   },
   {
    "duration": 3,
    "start_time": "2022-06-26T22:25:21.025Z"
   },
   {
    "duration": 160,
    "start_time": "2022-06-26T22:25:21.542Z"
   },
   {
    "duration": 112,
    "start_time": "2022-06-26T22:25:21.785Z"
   },
   {
    "duration": 78,
    "start_time": "2022-06-26T22:25:22.026Z"
   },
   {
    "duration": 10,
    "start_time": "2022-06-26T22:25:22.261Z"
   },
   {
    "duration": 18,
    "start_time": "2022-06-26T22:25:22.507Z"
   },
   {
    "duration": 9,
    "start_time": "2022-06-26T22:25:23.005Z"
   },
   {
    "duration": 28,
    "start_time": "2022-06-26T22:25:23.339Z"
   },
   {
    "duration": 12,
    "start_time": "2022-06-26T22:25:23.923Z"
   },
   {
    "duration": 20,
    "start_time": "2022-06-26T22:25:24.248Z"
   },
   {
    "duration": 10,
    "start_time": "2022-06-26T22:25:24.775Z"
   },
   {
    "duration": 19,
    "start_time": "2022-06-26T22:25:25.092Z"
   },
   {
    "duration": 9,
    "start_time": "2022-06-26T22:25:25.642Z"
   },
   {
    "duration": 10,
    "start_time": "2022-06-26T22:25:25.968Z"
   },
   {
    "duration": 14,
    "start_time": "2022-06-26T22:25:26.262Z"
   },
   {
    "duration": 12,
    "start_time": "2022-06-26T22:25:26.566Z"
   },
   {
    "duration": 42,
    "start_time": "2022-06-26T22:25:27.685Z"
   },
   {
    "duration": 24,
    "start_time": "2022-06-26T22:25:28.005Z"
   },
   {
    "duration": 21,
    "start_time": "2022-06-26T22:25:28.271Z"
   },
   {
    "duration": 5,
    "start_time": "2022-06-26T22:25:28.534Z"
   },
   {
    "duration": 4,
    "start_time": "2022-06-26T22:25:29.026Z"
   },
   {
    "duration": 21,
    "start_time": "2022-06-26T22:25:29.561Z"
   },
   {
    "duration": 16,
    "start_time": "2022-06-26T22:25:29.790Z"
   },
   {
    "duration": 15,
    "start_time": "2022-06-26T22:25:30.061Z"
   },
   {
    "duration": 10,
    "start_time": "2022-06-26T22:25:30.664Z"
   },
   {
    "duration": 115,
    "start_time": "2022-06-26T22:25:30.963Z"
   },
   {
    "duration": 82,
    "start_time": "2022-06-26T22:25:31.260Z"
   },
   {
    "duration": 38,
    "start_time": "2022-06-26T22:25:31.541Z"
   },
   {
    "duration": 6,
    "start_time": "2022-06-26T22:25:33.028Z"
   },
   {
    "duration": 6,
    "start_time": "2022-06-26T22:25:33.409Z"
   },
   {
    "duration": 21,
    "start_time": "2022-06-26T22:25:33.693Z"
   },
   {
    "duration": 20,
    "start_time": "2022-06-26T22:25:33.976Z"
   },
   {
    "duration": 17,
    "start_time": "2022-06-26T22:25:34.592Z"
   },
   {
    "duration": 16,
    "start_time": "2022-06-26T22:25:34.878Z"
   },
   {
    "duration": 191,
    "start_time": "2022-06-26T22:25:35.676Z"
   },
   {
    "duration": 19,
    "start_time": "2022-06-26T22:25:35.961Z"
   },
   {
    "duration": 195,
    "start_time": "2022-06-26T22:25:36.669Z"
   },
   {
    "duration": 135,
    "start_time": "2022-06-26T22:25:37.444Z"
   },
   {
    "duration": 5,
    "start_time": "2022-06-26T22:25:37.878Z"
   },
   {
    "duration": 12,
    "start_time": "2022-06-26T22:25:38.178Z"
   },
   {
    "duration": 4,
    "start_time": "2022-06-26T22:25:41.128Z"
   },
   {
    "duration": 7,
    "start_time": "2022-06-26T22:25:44.489Z"
   },
   {
    "duration": 4,
    "start_time": "2022-06-26T22:25:45.940Z"
   },
   {
    "duration": 4,
    "start_time": "2022-06-26T22:25:46.462Z"
   },
   {
    "duration": 57,
    "start_time": "2022-06-26T22:25:47.264Z"
   },
   {
    "duration": 5,
    "start_time": "2022-06-26T22:25:47.563Z"
   },
   {
    "duration": 4,
    "start_time": "2022-06-26T22:25:47.839Z"
   },
   {
    "duration": 10,
    "start_time": "2022-06-26T22:25:48.423Z"
   },
   {
    "duration": 4,
    "start_time": "2022-06-26T22:25:48.715Z"
   },
   {
    "duration": 13,
    "start_time": "2022-06-26T22:25:49.362Z"
   },
   {
    "duration": 19,
    "start_time": "2022-06-26T22:25:50.244Z"
   },
   {
    "duration": 4,
    "start_time": "2022-06-26T22:25:50.750Z"
   },
   {
    "duration": 5,
    "start_time": "2022-06-26T22:25:51.040Z"
   },
   {
    "duration": 6,
    "start_time": "2022-06-26T22:25:51.344Z"
   },
   {
    "duration": 12,
    "start_time": "2022-06-26T22:25:51.732Z"
   },
   {
    "duration": 3,
    "start_time": "2022-06-26T22:25:52.605Z"
   },
   {
    "duration": 12,
    "start_time": "2022-06-26T22:25:52.974Z"
   },
   {
    "duration": 11,
    "start_time": "2022-06-26T22:25:53.302Z"
   },
   {
    "duration": 5,
    "start_time": "2022-06-26T22:25:54.030Z"
   },
   {
    "duration": 4,
    "start_time": "2022-06-26T22:25:54.305Z"
   },
   {
    "duration": 4,
    "start_time": "2022-06-26T22:25:54.622Z"
   },
   {
    "duration": 9,
    "start_time": "2022-06-26T22:25:55.229Z"
   },
   {
    "duration": 15,
    "start_time": "2022-06-26T22:25:55.489Z"
   },
   {
    "duration": 4,
    "start_time": "2022-06-26T22:25:56.071Z"
   },
   {
    "duration": 9,
    "start_time": "2022-06-26T22:25:56.607Z"
   },
   {
    "duration": 12,
    "start_time": "2022-06-26T22:25:56.846Z"
   },
   {
    "duration": 10,
    "start_time": "2022-06-26T22:25:57.301Z"
   },
   {
    "duration": 18,
    "start_time": "2022-06-26T22:25:57.643Z"
   },
   {
    "duration": 12,
    "start_time": "2022-06-26T22:25:57.943Z"
   },
   {
    "duration": 7,
    "start_time": "2022-06-26T22:25:58.210Z"
   },
   {
    "duration": 4,
    "start_time": "2022-06-26T22:25:59.083Z"
   },
   {
    "duration": 5,
    "start_time": "2022-06-26T22:26:10.362Z"
   },
   {
    "duration": 4,
    "start_time": "2022-06-26T22:26:11.263Z"
   },
   {
    "duration": 5,
    "start_time": "2022-06-26T22:26:12.068Z"
   },
   {
    "duration": 43,
    "start_time": "2022-06-26T22:27:15.316Z"
   },
   {
    "duration": 9,
    "start_time": "2022-06-26T22:27:29.414Z"
   },
   {
    "duration": 9,
    "start_time": "2022-06-26T22:27:37.396Z"
   },
   {
    "duration": 11,
    "start_time": "2022-06-26T22:27:43.538Z"
   },
   {
    "duration": 6,
    "start_time": "2022-06-26T22:27:54.240Z"
   },
   {
    "duration": 6,
    "start_time": "2022-06-26T22:28:12.932Z"
   },
   {
    "duration": 5,
    "start_time": "2022-06-26T22:29:00.907Z"
   },
   {
    "duration": 7,
    "start_time": "2022-06-26T22:29:02.064Z"
   },
   {
    "duration": 6,
    "start_time": "2022-06-26T22:29:05.666Z"
   },
   {
    "duration": 5,
    "start_time": "2022-06-26T22:29:28.571Z"
   },
   {
    "duration": 6,
    "start_time": "2022-06-26T22:29:30.947Z"
   },
   {
    "duration": 61,
    "start_time": "2022-06-26T22:29:50.539Z"
   },
   {
    "duration": 6,
    "start_time": "2022-06-26T22:29:58.281Z"
   },
   {
    "duration": 2,
    "start_time": "2022-06-26T22:33:08.540Z"
   },
   {
    "duration": 146,
    "start_time": "2022-06-26T22:33:09.152Z"
   },
   {
    "duration": 119,
    "start_time": "2022-06-26T22:33:09.412Z"
   },
   {
    "duration": 87,
    "start_time": "2022-06-26T22:33:09.711Z"
   },
   {
    "duration": 11,
    "start_time": "2022-06-26T22:33:10.034Z"
   },
   {
    "duration": 22,
    "start_time": "2022-06-26T22:33:10.443Z"
   },
   {
    "duration": 12,
    "start_time": "2022-06-26T22:33:11.294Z"
   },
   {
    "duration": 25,
    "start_time": "2022-06-26T22:33:12.929Z"
   },
   {
    "duration": 12,
    "start_time": "2022-06-26T22:33:13.824Z"
   },
   {
    "duration": 22,
    "start_time": "2022-06-26T22:33:14.179Z"
   },
   {
    "duration": 9,
    "start_time": "2022-06-26T22:33:14.901Z"
   },
   {
    "duration": 18,
    "start_time": "2022-06-26T22:33:15.366Z"
   },
   {
    "duration": 8,
    "start_time": "2022-06-26T22:33:17.054Z"
   },
   {
    "duration": 9,
    "start_time": "2022-06-26T22:33:18.106Z"
   },
   {
    "duration": 10,
    "start_time": "2022-06-26T22:33:18.956Z"
   },
   {
    "duration": 13,
    "start_time": "2022-06-26T22:33:20.806Z"
   },
   {
    "duration": 36,
    "start_time": "2022-06-26T22:33:23.008Z"
   },
   {
    "duration": 25,
    "start_time": "2022-06-26T22:33:23.266Z"
   },
   {
    "duration": 21,
    "start_time": "2022-06-26T22:33:23.521Z"
   },
   {
    "duration": 4,
    "start_time": "2022-06-26T22:33:23.801Z"
   },
   {
    "duration": 5,
    "start_time": "2022-06-26T22:33:24.870Z"
   },
   {
    "duration": 21,
    "start_time": "2022-06-26T22:33:26.059Z"
   },
   {
    "duration": 17,
    "start_time": "2022-06-26T22:33:26.683Z"
   },
   {
    "duration": 14,
    "start_time": "2022-06-26T22:33:27.039Z"
   },
   {
    "duration": 6,
    "start_time": "2022-06-26T22:33:27.621Z"
   },
   {
    "duration": 99,
    "start_time": "2022-06-26T22:33:27.929Z"
   },
   {
    "duration": 61,
    "start_time": "2022-06-26T22:33:28.222Z"
   },
   {
    "duration": 38,
    "start_time": "2022-06-26T22:33:29.169Z"
   },
   {
    "duration": 7,
    "start_time": "2022-06-26T22:33:30.215Z"
   },
   {
    "duration": 7,
    "start_time": "2022-06-26T22:33:30.651Z"
   },
   {
    "duration": 19,
    "start_time": "2022-06-26T22:33:30.957Z"
   },
   {
    "duration": 23,
    "start_time": "2022-06-26T22:33:31.243Z"
   },
   {
    "duration": 17,
    "start_time": "2022-06-26T22:33:31.554Z"
   },
   {
    "duration": 25,
    "start_time": "2022-06-26T22:33:32.014Z"
   },
   {
    "duration": 206,
    "start_time": "2022-06-26T22:33:32.309Z"
   },
   {
    "duration": 17,
    "start_time": "2022-06-26T22:33:32.604Z"
   },
   {
    "duration": 199,
    "start_time": "2022-06-26T22:33:33.211Z"
   },
   {
    "duration": 136,
    "start_time": "2022-06-26T22:33:33.952Z"
   },
   {
    "duration": 6,
    "start_time": "2022-06-26T22:33:34.226Z"
   },
   {
    "duration": 12,
    "start_time": "2022-06-26T22:33:34.518Z"
   },
   {
    "duration": 4,
    "start_time": "2022-06-26T22:33:35.176Z"
   },
   {
    "duration": 6,
    "start_time": "2022-06-26T22:33:35.467Z"
   },
   {
    "duration": 4,
    "start_time": "2022-06-26T22:33:36.998Z"
   },
   {
    "duration": 4,
    "start_time": "2022-06-26T22:33:37.668Z"
   },
   {
    "duration": 46,
    "start_time": "2022-06-26T22:33:38.517Z"
   },
   {
    "duration": 5,
    "start_time": "2022-06-26T22:33:38.841Z"
   },
   {
    "duration": 4,
    "start_time": "2022-06-26T22:33:39.128Z"
   },
   {
    "duration": 10,
    "start_time": "2022-06-26T22:33:39.754Z"
   },
   {
    "duration": 4,
    "start_time": "2022-06-26T22:33:40.061Z"
   },
   {
    "duration": 11,
    "start_time": "2022-06-26T22:33:40.552Z"
   },
   {
    "duration": 18,
    "start_time": "2022-06-26T22:33:41.139Z"
   },
   {
    "duration": 4,
    "start_time": "2022-06-26T22:33:41.702Z"
   },
   {
    "duration": 5,
    "start_time": "2022-06-26T22:33:41.990Z"
   },
   {
    "duration": 7,
    "start_time": "2022-06-26T22:33:42.353Z"
   },
   {
    "duration": 11,
    "start_time": "2022-06-26T22:33:42.754Z"
   },
   {
    "duration": 3,
    "start_time": "2022-06-26T22:33:43.478Z"
   },
   {
    "duration": 13,
    "start_time": "2022-06-26T22:33:43.725Z"
   },
   {
    "duration": 13,
    "start_time": "2022-06-26T22:33:44.045Z"
   },
   {
    "duration": 5,
    "start_time": "2022-06-26T22:33:44.758Z"
   },
   {
    "duration": 3,
    "start_time": "2022-06-26T22:33:45.079Z"
   },
   {
    "duration": 5,
    "start_time": "2022-06-26T22:33:45.420Z"
   },
   {
    "duration": 7,
    "start_time": "2022-06-26T22:33:46.044Z"
   },
   {
    "duration": 19,
    "start_time": "2022-06-26T22:33:46.376Z"
   },
   {
    "duration": 3,
    "start_time": "2022-06-26T22:33:46.956Z"
   },
   {
    "duration": 9,
    "start_time": "2022-06-26T22:33:47.554Z"
   },
   {
    "duration": 11,
    "start_time": "2022-06-26T22:33:47.805Z"
   },
   {
    "duration": 8,
    "start_time": "2022-06-26T22:33:48.541Z"
   },
   {
    "duration": 17,
    "start_time": "2022-06-26T22:33:48.871Z"
   },
   {
    "duration": 11,
    "start_time": "2022-06-26T22:33:49.181Z"
   },
   {
    "duration": 7,
    "start_time": "2022-06-26T22:33:49.493Z"
   },
   {
    "duration": 4,
    "start_time": "2022-06-26T22:33:50.131Z"
   },
   {
    "duration": 4,
    "start_time": "2022-06-26T22:33:50.538Z"
   },
   {
    "duration": 3,
    "start_time": "2022-06-26T22:33:50.789Z"
   },
   {
    "duration": 4,
    "start_time": "2022-06-26T22:33:51.029Z"
   },
   {
    "duration": 3,
    "start_time": "2022-06-26T22:33:51.926Z"
   },
   {
    "duration": 5,
    "start_time": "2022-06-26T22:33:52.407Z"
   },
   {
    "duration": 6,
    "start_time": "2022-06-26T22:34:00.210Z"
   },
   {
    "duration": 6,
    "start_time": "2022-06-26T22:34:14.359Z"
   },
   {
    "duration": 17,
    "start_time": "2022-06-26T22:34:24.081Z"
   },
   {
    "duration": 4,
    "start_time": "2022-06-26T22:34:25.415Z"
   },
   {
    "duration": 4,
    "start_time": "2022-06-26T22:34:26.624Z"
   },
   {
    "duration": 11,
    "start_time": "2022-06-26T22:34:26.935Z"
   },
   {
    "duration": 5,
    "start_time": "2022-06-26T22:34:27.453Z"
   },
   {
    "duration": 4,
    "start_time": "2022-06-26T22:34:27.927Z"
   },
   {
    "duration": 4,
    "start_time": "2022-06-26T22:34:28.199Z"
   },
   {
    "duration": 14,
    "start_time": "2022-06-26T22:34:28.507Z"
   },
   {
    "duration": 66,
    "start_time": "2022-06-26T22:34:29.010Z"
   },
   {
    "duration": 3,
    "start_time": "2022-06-26T22:34:29.894Z"
   },
   {
    "duration": 8,
    "start_time": "2022-06-26T22:34:30.577Z"
   },
   {
    "duration": 11,
    "start_time": "2022-06-26T22:34:31.420Z"
   },
   {
    "duration": 4,
    "start_time": "2022-06-26T22:34:32.290Z"
   },
   {
    "duration": 6,
    "start_time": "2022-06-26T22:34:33.704Z"
   },
   {
    "duration": 9,
    "start_time": "2022-06-26T22:34:33.955Z"
   },
   {
    "duration": 5,
    "start_time": "2022-06-26T22:34:34.246Z"
   },
   {
    "duration": 10,
    "start_time": "2022-06-26T22:34:34.500Z"
   },
   {
    "duration": 5,
    "start_time": "2022-06-26T22:34:35.038Z"
   },
   {
    "duration": 5,
    "start_time": "2022-06-26T22:34:35.359Z"
   },
   {
    "duration": 5,
    "start_time": "2022-06-26T22:34:36.031Z"
   },
   {
    "duration": 5,
    "start_time": "2022-06-26T22:34:36.476Z"
   },
   {
    "duration": 5,
    "start_time": "2022-06-26T22:34:36.816Z"
   },
   {
    "duration": 4,
    "start_time": "2022-06-26T22:34:37.167Z"
   },
   {
    "duration": 5,
    "start_time": "2022-06-26T22:34:38.544Z"
   },
   {
    "duration": 4,
    "start_time": "2022-06-26T22:34:38.823Z"
   },
   {
    "duration": 160,
    "start_time": "2022-06-26T22:34:39.876Z"
   },
   {
    "duration": 4,
    "start_time": "2022-06-26T22:34:44.508Z"
   },
   {
    "duration": 4,
    "start_time": "2022-06-26T22:34:44.911Z"
   },
   {
    "duration": 4,
    "start_time": "2022-06-26T22:34:45.923Z"
   },
   {
    "duration": 4,
    "start_time": "2022-06-26T22:34:47.054Z"
   },
   {
    "duration": 4,
    "start_time": "2022-06-26T22:34:48.589Z"
   },
   {
    "duration": 4,
    "start_time": "2022-06-26T22:34:48.981Z"
   },
   {
    "duration": 5,
    "start_time": "2022-06-26T22:34:50.499Z"
   },
   {
    "duration": 5,
    "start_time": "2022-06-26T22:34:52.149Z"
   },
   {
    "duration": 4,
    "start_time": "2022-06-26T22:34:52.990Z"
   },
   {
    "duration": 4,
    "start_time": "2022-06-26T22:34:53.450Z"
   },
   {
    "duration": 4,
    "start_time": "2022-06-26T22:34:53.759Z"
   },
   {
    "duration": 6,
    "start_time": "2022-06-26T22:34:54.148Z"
   },
   {
    "duration": 168,
    "start_time": "2022-06-26T22:34:55.250Z"
   },
   {
    "duration": 5,
    "start_time": "2022-06-26T22:34:55.990Z"
   },
   {
    "duration": 12,
    "start_time": "2022-06-26T22:34:56.283Z"
   },
   {
    "duration": 4,
    "start_time": "2022-06-26T22:34:56.597Z"
   },
   {
    "duration": 5,
    "start_time": "2022-06-26T22:34:57.889Z"
   },
   {
    "duration": 4,
    "start_time": "2022-06-26T22:34:59.470Z"
   },
   {
    "duration": 14,
    "start_time": "2022-06-26T22:34:59.845Z"
   },
   {
    "duration": 4,
    "start_time": "2022-06-26T22:35:00.194Z"
   },
   {
    "duration": 4,
    "start_time": "2022-06-26T22:35:00.808Z"
   },
   {
    "duration": 5,
    "start_time": "2022-06-26T22:35:01.109Z"
   },
   {
    "duration": 5,
    "start_time": "2022-06-26T22:35:01.457Z"
   },
   {
    "duration": 5,
    "start_time": "2022-06-26T22:35:01.766Z"
   },
   {
    "duration": 6,
    "start_time": "2022-06-26T22:35:02.067Z"
   },
   {
    "duration": 5,
    "start_time": "2022-06-26T22:35:02.971Z"
   },
   {
    "duration": 268,
    "start_time": "2022-06-26T22:35:04.883Z"
   },
   {
    "duration": 6,
    "start_time": "2022-06-26T22:35:06.932Z"
   },
   {
    "duration": 8,
    "start_time": "2022-06-26T22:35:07.202Z"
   },
   {
    "duration": 6,
    "start_time": "2022-06-26T22:35:07.497Z"
   },
   {
    "duration": 8,
    "start_time": "2022-06-26T22:35:07.773Z"
   },
   {
    "duration": 8,
    "start_time": "2022-06-26T22:35:09.376Z"
   },
   {
    "duration": 8,
    "start_time": "2022-06-26T22:35:09.643Z"
   },
   {
    "duration": 5,
    "start_time": "2022-06-26T22:35:24.682Z"
   },
   {
    "duration": 5,
    "start_time": "2022-06-26T22:35:25.199Z"
   },
   {
    "duration": 4,
    "start_time": "2022-06-26T22:35:25.714Z"
   },
   {
    "duration": 4,
    "start_time": "2022-06-26T22:35:26.225Z"
   },
   {
    "duration": 163,
    "start_time": "2022-06-26T22:35:27.866Z"
   },
   {
    "duration": 15,
    "start_time": "2022-06-26T22:35:28.930Z"
   },
   {
    "duration": 14,
    "start_time": "2022-06-26T22:35:29.511Z"
   },
   {
    "duration": 3,
    "start_time": "2022-06-26T22:35:32.895Z"
   },
   {
    "duration": 4,
    "start_time": "2022-06-26T22:35:33.371Z"
   },
   {
    "duration": 3,
    "start_time": "2022-06-26T22:35:33.876Z"
   },
   {
    "duration": 5,
    "start_time": "2022-06-26T22:35:34.453Z"
   },
   {
    "duration": 6,
    "start_time": "2022-06-26T22:35:37.545Z"
   },
   {
    "duration": 4,
    "start_time": "2022-06-26T22:35:41.714Z"
   },
   {
    "duration": 49,
    "start_time": "2022-06-26T22:35:42.202Z"
   },
   {
    "duration": 5,
    "start_time": "2022-06-26T22:35:42.678Z"
   },
   {
    "duration": 4,
    "start_time": "2022-06-26T22:35:43.215Z"
   },
   {
    "duration": 6,
    "start_time": "2022-06-26T22:35:43.843Z"
   },
   {
    "duration": 6,
    "start_time": "2022-06-26T22:35:44.348Z"
   },
   {
    "duration": 9,
    "start_time": "2022-06-26T22:35:45.359Z"
   },
   {
    "duration": 15,
    "start_time": "2022-06-26T22:35:45.833Z"
   },
   {
    "duration": 29,
    "start_time": "2022-06-26T22:35:53.702Z"
   },
   {
    "duration": 9,
    "start_time": "2022-06-26T22:37:49.837Z"
   },
   {
    "duration": 6,
    "start_time": "2022-06-26T22:41:20.643Z"
   },
   {
    "duration": 3,
    "start_time": "2022-06-26T22:41:44.989Z"
   },
   {
    "duration": 143,
    "start_time": "2022-06-26T22:41:45.653Z"
   },
   {
    "duration": 106,
    "start_time": "2022-06-26T22:41:46.044Z"
   },
   {
    "duration": 77,
    "start_time": "2022-06-26T22:41:46.433Z"
   },
   {
    "duration": 15,
    "start_time": "2022-06-26T22:41:46.822Z"
   },
   {
    "duration": 16,
    "start_time": "2022-06-26T22:41:47.219Z"
   },
   {
    "duration": 9,
    "start_time": "2022-06-26T22:41:47.978Z"
   },
   {
    "duration": 38,
    "start_time": "2022-06-26T22:41:48.485Z"
   },
   {
    "duration": 9,
    "start_time": "2022-06-26T22:41:49.166Z"
   },
   {
    "duration": 21,
    "start_time": "2022-06-26T22:41:49.650Z"
   },
   {
    "duration": 8,
    "start_time": "2022-06-26T22:41:50.321Z"
   },
   {
    "duration": 18,
    "start_time": "2022-06-26T22:41:50.790Z"
   },
   {
    "duration": 8,
    "start_time": "2022-06-26T22:41:53.121Z"
   },
   {
    "duration": 10,
    "start_time": "2022-06-26T22:41:53.600Z"
   },
   {
    "duration": 10,
    "start_time": "2022-06-26T22:41:54.032Z"
   },
   {
    "duration": 10,
    "start_time": "2022-06-26T22:41:54.517Z"
   },
   {
    "duration": 36,
    "start_time": "2022-06-26T22:41:56.278Z"
   },
   {
    "duration": 24,
    "start_time": "2022-06-26T22:41:56.628Z"
   },
   {
    "duration": 20,
    "start_time": "2022-06-26T22:41:56.982Z"
   },
   {
    "duration": 4,
    "start_time": "2022-06-26T22:41:57.289Z"
   },
   {
    "duration": 5,
    "start_time": "2022-06-26T22:41:57.601Z"
   },
   {
    "duration": 21,
    "start_time": "2022-06-26T22:41:58.323Z"
   },
   {
    "duration": 17,
    "start_time": "2022-06-26T22:41:58.639Z"
   },
   {
    "duration": 15,
    "start_time": "2022-06-26T22:41:58.965Z"
   },
   {
    "duration": 7,
    "start_time": "2022-06-26T22:41:59.609Z"
   },
   {
    "duration": 91,
    "start_time": "2022-06-26T22:41:59.990Z"
   },
   {
    "duration": 55,
    "start_time": "2022-06-26T22:42:00.364Z"
   },
   {
    "duration": 41,
    "start_time": "2022-06-26T22:42:00.755Z"
   },
   {
    "duration": 7,
    "start_time": "2022-06-26T22:42:01.775Z"
   },
   {
    "duration": 7,
    "start_time": "2022-06-26T22:42:02.196Z"
   },
   {
    "duration": 20,
    "start_time": "2022-06-26T22:42:02.586Z"
   },
   {
    "duration": 20,
    "start_time": "2022-06-26T22:42:03.032Z"
   },
   {
    "duration": 17,
    "start_time": "2022-06-26T22:42:03.496Z"
   },
   {
    "duration": 20,
    "start_time": "2022-06-26T22:42:03.887Z"
   },
   {
    "duration": 223,
    "start_time": "2022-06-26T22:42:14.676Z"
   },
   {
    "duration": 17,
    "start_time": "2022-06-26T22:42:15.944Z"
   },
   {
    "duration": 198,
    "start_time": "2022-06-26T22:42:17.147Z"
   },
   {
    "duration": 130,
    "start_time": "2022-06-26T22:42:18.258Z"
   },
   {
    "duration": 129,
    "start_time": "2022-06-26T22:42:19.095Z"
   },
   {
    "duration": 5,
    "start_time": "2022-06-26T22:42:19.750Z"
   },
   {
    "duration": 10,
    "start_time": "2022-06-26T22:42:20.115Z"
   },
   {
    "duration": 5,
    "start_time": "2022-06-26T22:42:20.791Z"
   },
   {
    "duration": 6,
    "start_time": "2022-06-26T22:42:21.190Z"
   },
   {
    "duration": 4,
    "start_time": "2022-06-26T22:42:22.841Z"
   },
   {
    "duration": 4,
    "start_time": "2022-06-26T22:42:23.397Z"
   },
   {
    "duration": 52,
    "start_time": "2022-06-26T22:42:24.310Z"
   },
   {
    "duration": 5,
    "start_time": "2022-06-26T22:42:24.591Z"
   },
   {
    "duration": 5,
    "start_time": "2022-06-26T22:42:24.889Z"
   },
   {
    "duration": 10,
    "start_time": "2022-06-26T22:42:25.557Z"
   },
   {
    "duration": 4,
    "start_time": "2022-06-26T22:42:25.807Z"
   },
   {
    "duration": 11,
    "start_time": "2022-06-26T22:42:26.080Z"
   },
   {
    "duration": 21,
    "start_time": "2022-06-26T22:42:26.836Z"
   },
   {
    "duration": 4,
    "start_time": "2022-06-26T22:42:27.421Z"
   },
   {
    "duration": 5,
    "start_time": "2022-06-26T22:42:27.784Z"
   },
   {
    "duration": 7,
    "start_time": "2022-06-26T22:42:28.083Z"
   },
   {
    "duration": 12,
    "start_time": "2022-06-26T22:42:28.402Z"
   },
   {
    "duration": 9,
    "start_time": "2022-06-26T22:42:29.131Z"
   },
   {
    "duration": 11,
    "start_time": "2022-06-26T22:42:29.413Z"
   },
   {
    "duration": 12,
    "start_time": "2022-06-26T22:42:29.805Z"
   },
   {
    "duration": 4,
    "start_time": "2022-06-26T22:42:30.344Z"
   },
   {
    "duration": 5,
    "start_time": "2022-06-26T22:42:30.740Z"
   },
   {
    "duration": 6,
    "start_time": "2022-06-26T22:42:30.983Z"
   },
   {
    "duration": 9,
    "start_time": "2022-06-26T22:42:31.839Z"
   },
   {
    "duration": 14,
    "start_time": "2022-06-26T22:42:32.200Z"
   },
   {
    "duration": 4,
    "start_time": "2022-06-26T22:42:32.907Z"
   },
   {
    "duration": 9,
    "start_time": "2022-06-26T22:42:33.558Z"
   },
   {
    "duration": 12,
    "start_time": "2022-06-26T22:42:33.843Z"
   },
   {
    "duration": 8,
    "start_time": "2022-06-26T22:42:34.468Z"
   },
   {
    "duration": 24,
    "start_time": "2022-06-26T22:42:34.719Z"
   },
   {
    "duration": 12,
    "start_time": "2022-06-26T22:42:35.045Z"
   },
   {
    "duration": 7,
    "start_time": "2022-06-26T22:42:35.340Z"
   },
   {
    "duration": 3,
    "start_time": "2022-06-26T22:42:36.146Z"
   },
   {
    "duration": 3,
    "start_time": "2022-06-26T22:42:36.518Z"
   },
   {
    "duration": 4,
    "start_time": "2022-06-26T22:42:36.810Z"
   },
   {
    "duration": 3,
    "start_time": "2022-06-26T22:42:37.084Z"
   },
   {
    "duration": 6,
    "start_time": "2022-06-26T22:42:37.841Z"
   },
   {
    "duration": 5,
    "start_time": "2022-06-26T22:42:38.179Z"
   },
   {
    "duration": 6,
    "start_time": "2022-06-26T22:42:38.945Z"
   },
   {
    "duration": 15,
    "start_time": "2022-06-26T22:42:40.543Z"
   },
   {
    "duration": 8,
    "start_time": "2022-06-26T22:42:41.228Z"
   },
   {
    "duration": 3,
    "start_time": "2022-06-26T22:42:42.068Z"
   },
   {
    "duration": 16,
    "start_time": "2022-06-26T22:42:43.239Z"
   },
   {
    "duration": 4,
    "start_time": "2022-06-26T22:42:43.885Z"
   },
   {
    "duration": 4,
    "start_time": "2022-06-26T22:42:44.242Z"
   },
   {
    "duration": 3,
    "start_time": "2022-06-26T22:42:44.584Z"
   },
   {
    "duration": 11,
    "start_time": "2022-06-26T22:42:44.906Z"
   },
   {
    "duration": 71,
    "start_time": "2022-06-26T22:42:45.490Z"
   },
   {
    "duration": 4,
    "start_time": "2022-06-26T22:42:46.312Z"
   },
   {
    "duration": 7,
    "start_time": "2022-06-26T22:42:46.904Z"
   },
   {
    "duration": 11,
    "start_time": "2022-06-26T22:42:47.399Z"
   },
   {
    "duration": 4,
    "start_time": "2022-06-26T22:42:48.417Z"
   },
   {
    "duration": 7,
    "start_time": "2022-06-26T22:42:49.523Z"
   },
   {
    "duration": 10,
    "start_time": "2022-06-26T22:42:49.839Z"
   },
   {
    "duration": 9,
    "start_time": "2022-06-26T22:42:50.428Z"
   },
   {
    "duration": 10,
    "start_time": "2022-06-26T22:42:50.700Z"
   },
   {
    "duration": 5,
    "start_time": "2022-06-26T22:42:51.282Z"
   },
   {
    "duration": 5,
    "start_time": "2022-06-26T22:42:51.582Z"
   },
   {
    "duration": 4,
    "start_time": "2022-06-26T22:42:52.178Z"
   },
   {
    "duration": 5,
    "start_time": "2022-06-26T22:42:52.454Z"
   },
   {
    "duration": 5,
    "start_time": "2022-06-26T22:42:52.740Z"
   },
   {
    "duration": 4,
    "start_time": "2022-06-26T22:42:53.152Z"
   },
   {
    "duration": 5,
    "start_time": "2022-06-26T22:42:53.667Z"
   },
   {
    "duration": 6,
    "start_time": "2022-06-26T22:42:53.942Z"
   },
   {
    "duration": 173,
    "start_time": "2022-06-26T22:42:54.986Z"
   },
   {
    "duration": 5,
    "start_time": "2022-06-26T22:42:56.731Z"
   },
   {
    "duration": 13,
    "start_time": "2022-06-26T22:42:56.738Z"
   },
   {
    "duration": 4,
    "start_time": "2022-06-26T22:42:56.941Z"
   },
   {
    "duration": 4,
    "start_time": "2022-06-26T22:42:57.209Z"
   },
   {
    "duration": 4,
    "start_time": "2022-06-26T22:42:58.154Z"
   },
   {
    "duration": 6,
    "start_time": "2022-06-26T22:42:58.425Z"
   },
   {
    "duration": 5,
    "start_time": "2022-06-26T22:42:59.002Z"
   },
   {
    "duration": 5,
    "start_time": "2022-06-26T22:42:59.415Z"
   },
   {
    "duration": 4,
    "start_time": "2022-06-26T22:42:59.689Z"
   },
   {
    "duration": 5,
    "start_time": "2022-06-26T22:42:59.965Z"
   },
   {
    "duration": 4,
    "start_time": "2022-06-26T22:43:00.241Z"
   },
   {
    "duration": 5,
    "start_time": "2022-06-26T22:43:00.505Z"
   },
   {
    "duration": 184,
    "start_time": "2022-06-26T22:43:01.307Z"
   },
   {
    "duration": 4,
    "start_time": "2022-06-26T22:43:01.852Z"
   },
   {
    "duration": 12,
    "start_time": "2022-06-26T22:43:02.121Z"
   },
   {
    "duration": 4,
    "start_time": "2022-06-26T22:43:02.443Z"
   },
   {
    "duration": 6,
    "start_time": "2022-06-26T22:43:02.971Z"
   },
   {
    "duration": 5,
    "start_time": "2022-06-26T22:43:03.756Z"
   },
   {
    "duration": 16,
    "start_time": "2022-06-26T22:43:04.023Z"
   },
   {
    "duration": 10,
    "start_time": "2022-06-26T22:43:04.424Z"
   },
   {
    "duration": 7,
    "start_time": "2022-06-26T22:43:05.000Z"
   },
   {
    "duration": 4,
    "start_time": "2022-06-26T22:43:05.355Z"
   },
   {
    "duration": 5,
    "start_time": "2022-06-26T22:43:05.671Z"
   },
   {
    "duration": 4,
    "start_time": "2022-06-26T22:43:05.959Z"
   },
   {
    "duration": 4,
    "start_time": "2022-06-26T22:43:06.559Z"
   },
   {
    "duration": 4,
    "start_time": "2022-06-26T22:43:07.214Z"
   },
   {
    "duration": 165,
    "start_time": "2022-06-26T22:43:08.154Z"
   },
   {
    "duration": 6,
    "start_time": "2022-06-26T22:43:10.276Z"
   },
   {
    "duration": 8,
    "start_time": "2022-06-26T22:43:10.573Z"
   },
   {
    "duration": 6,
    "start_time": "2022-06-26T22:43:10.872Z"
   },
   {
    "duration": 6,
    "start_time": "2022-06-26T22:43:11.171Z"
   },
   {
    "duration": 7,
    "start_time": "2022-06-26T22:43:12.600Z"
   },
   {
    "duration": 8,
    "start_time": "2022-06-26T22:43:12.862Z"
   },
   {
    "duration": 4,
    "start_time": "2022-06-26T22:43:13.159Z"
   },
   {
    "duration": 4,
    "start_time": "2022-06-26T22:43:13.484Z"
   },
   {
    "duration": 4,
    "start_time": "2022-06-26T22:43:13.766Z"
   },
   {
    "duration": 3,
    "start_time": "2022-06-26T22:43:14.075Z"
   },
   {
    "duration": 173,
    "start_time": "2022-06-26T22:43:14.683Z"
   },
   {
    "duration": 17,
    "start_time": "2022-06-26T22:43:15.276Z"
   },
   {
    "duration": 14,
    "start_time": "2022-06-26T22:43:15.575Z"
   },
   {
    "duration": 3,
    "start_time": "2022-06-26T22:43:17.239Z"
   },
   {
    "duration": 3,
    "start_time": "2022-06-26T22:43:17.541Z"
   },
   {
    "duration": 3,
    "start_time": "2022-06-26T22:43:17.806Z"
   },
   {
    "duration": 4,
    "start_time": "2022-06-26T22:43:18.088Z"
   },
   {
    "duration": 5,
    "start_time": "2022-06-26T22:43:19.197Z"
   },
   {
    "duration": 5,
    "start_time": "2022-06-26T22:43:22.544Z"
   },
   {
    "duration": 51,
    "start_time": "2022-06-26T22:43:23.024Z"
   },
   {
    "duration": 7,
    "start_time": "2022-06-26T22:43:23.809Z"
   },
   {
    "duration": 4,
    "start_time": "2022-06-26T22:43:24.446Z"
   },
   {
    "duration": 7,
    "start_time": "2022-06-26T22:43:25.140Z"
   },
   {
    "duration": 6,
    "start_time": "2022-06-26T22:43:25.644Z"
   },
   {
    "duration": 8,
    "start_time": "2022-06-26T22:43:26.262Z"
   },
   {
    "duration": 10,
    "start_time": "2022-06-26T22:43:29.282Z"
   },
   {
    "duration": 13,
    "start_time": "2022-06-26T22:43:32.009Z"
   },
   {
    "duration": 19,
    "start_time": "2022-06-26T22:45:14.340Z"
   },
   {
    "duration": 35,
    "start_time": "2022-06-26T22:46:37.528Z"
   },
   {
    "duration": 5,
    "start_time": "2022-06-26T22:47:03.573Z"
   },
   {
    "duration": 5,
    "start_time": "2022-06-26T22:47:27.580Z"
   },
   {
    "duration": 20,
    "start_time": "2022-06-26T22:47:37.640Z"
   },
   {
    "duration": 4,
    "start_time": "2022-06-26T22:54:05.740Z"
   },
   {
    "duration": 186,
    "start_time": "2022-06-26T22:54:06.341Z"
   },
   {
    "duration": 137,
    "start_time": "2022-06-26T22:54:06.767Z"
   },
   {
    "duration": 95,
    "start_time": "2022-06-26T22:54:07.066Z"
   },
   {
    "duration": 11,
    "start_time": "2022-06-26T22:54:07.349Z"
   },
   {
    "duration": 23,
    "start_time": "2022-06-26T22:54:07.640Z"
   },
   {
    "duration": 10,
    "start_time": "2022-06-26T22:54:08.343Z"
   },
   {
    "duration": 25,
    "start_time": "2022-06-26T22:54:08.701Z"
   },
   {
    "duration": 9,
    "start_time": "2022-06-26T22:54:09.484Z"
   },
   {
    "duration": 23,
    "start_time": "2022-06-26T22:54:09.842Z"
   },
   {
    "duration": 9,
    "start_time": "2022-06-26T22:54:10.340Z"
   },
   {
    "duration": 28,
    "start_time": "2022-06-26T22:54:10.724Z"
   },
   {
    "duration": 8,
    "start_time": "2022-06-26T22:54:11.483Z"
   },
   {
    "duration": 11,
    "start_time": "2022-06-26T22:54:12.273Z"
   },
   {
    "duration": 12,
    "start_time": "2022-06-26T22:54:12.903Z"
   },
   {
    "duration": 17,
    "start_time": "2022-06-26T22:54:13.269Z"
   },
   {
    "duration": 31,
    "start_time": "2022-06-26T22:54:14.548Z"
   },
   {
    "duration": 25,
    "start_time": "2022-06-26T22:54:14.904Z"
   },
   {
    "duration": 33,
    "start_time": "2022-06-26T22:54:15.280Z"
   },
   {
    "duration": 5,
    "start_time": "2022-06-26T22:54:15.679Z"
   },
   {
    "duration": 7,
    "start_time": "2022-06-26T22:54:15.927Z"
   },
   {
    "duration": 23,
    "start_time": "2022-06-26T22:54:16.546Z"
   },
   {
    "duration": 16,
    "start_time": "2022-06-26T22:54:16.847Z"
   },
   {
    "duration": 15,
    "start_time": "2022-06-26T22:54:17.644Z"
   },
   {
    "duration": 8,
    "start_time": "2022-06-26T22:54:18.775Z"
   },
   {
    "duration": 114,
    "start_time": "2022-06-26T22:54:19.348Z"
   },
   {
    "duration": 82,
    "start_time": "2022-06-26T22:54:19.902Z"
   },
   {
    "duration": 52,
    "start_time": "2022-06-26T22:54:20.478Z"
   },
   {
    "duration": 7,
    "start_time": "2022-06-26T22:54:22.176Z"
   },
   {
    "duration": 10,
    "start_time": "2022-06-26T22:54:22.727Z"
   },
   {
    "duration": 30,
    "start_time": "2022-06-26T22:54:23.214Z"
   },
   {
    "duration": 19,
    "start_time": "2022-06-26T22:54:23.742Z"
   },
   {
    "duration": 16,
    "start_time": "2022-06-26T22:54:24.079Z"
   },
   {
    "duration": 17,
    "start_time": "2022-06-26T22:54:24.588Z"
   },
   {
    "duration": 216,
    "start_time": "2022-06-26T22:54:25.397Z"
   },
   {
    "duration": 21,
    "start_time": "2022-06-26T22:54:27.477Z"
   },
   {
    "duration": 206,
    "start_time": "2022-06-26T22:54:28.774Z"
   },
   {
    "duration": 266,
    "start_time": "2022-06-26T22:54:35.410Z"
   },
   {
    "duration": 5,
    "start_time": "2022-06-26T22:54:36.271Z"
   },
   {
    "duration": 12,
    "start_time": "2022-06-26T22:54:38.311Z"
   },
   {
    "duration": 7,
    "start_time": "2022-06-26T22:54:46.381Z"
   },
   {
    "duration": 8,
    "start_time": "2022-06-26T22:54:49.741Z"
   },
   {
    "duration": 5,
    "start_time": "2022-06-26T22:54:56.581Z"
   },
   {
    "duration": 5,
    "start_time": "2022-06-26T22:54:57.728Z"
   },
   {
    "duration": 46,
    "start_time": "2022-06-26T22:54:59.967Z"
   },
   {
    "duration": 5,
    "start_time": "2022-06-26T22:55:00.619Z"
   },
   {
    "duration": 5,
    "start_time": "2022-06-26T22:55:01.944Z"
   },
   {
    "duration": 10,
    "start_time": "2022-06-26T22:55:10.010Z"
   },
   {
    "duration": 4,
    "start_time": "2022-06-26T22:55:10.377Z"
   },
   {
    "duration": 16,
    "start_time": "2022-06-26T22:55:10.709Z"
   },
   {
    "duration": 31,
    "start_time": "2022-06-26T22:55:11.400Z"
   },
   {
    "duration": 6,
    "start_time": "2022-06-26T22:55:12.744Z"
   },
   {
    "duration": 6,
    "start_time": "2022-06-26T22:55:13.449Z"
   },
   {
    "duration": 8,
    "start_time": "2022-06-26T22:55:14.121Z"
   },
   {
    "duration": 12,
    "start_time": "2022-06-26T22:55:22.972Z"
   },
   {
    "duration": 4,
    "start_time": "2022-06-26T22:55:24.973Z"
   },
   {
    "duration": 11,
    "start_time": "2022-06-26T22:55:25.300Z"
   },
   {
    "duration": 13,
    "start_time": "2022-06-26T22:55:25.641Z"
   },
   {
    "duration": 5,
    "start_time": "2022-06-26T22:55:28.573Z"
   },
   {
    "duration": 4,
    "start_time": "2022-06-26T22:55:29.973Z"
   },
   {
    "duration": 5,
    "start_time": "2022-06-26T22:55:30.969Z"
   },
   {
    "duration": 8,
    "start_time": "2022-06-26T22:55:31.840Z"
   },
   {
    "duration": 16,
    "start_time": "2022-06-26T22:55:32.249Z"
   },
   {
    "duration": 4,
    "start_time": "2022-06-26T22:55:33.205Z"
   },
   {
    "duration": 9,
    "start_time": "2022-06-26T22:55:34.241Z"
   },
   {
    "duration": 11,
    "start_time": "2022-06-26T22:55:34.676Z"
   },
   {
    "duration": 8,
    "start_time": "2022-06-26T22:55:36.743Z"
   },
   {
    "duration": 18,
    "start_time": "2022-06-26T22:55:37.296Z"
   },
   {
    "duration": 16,
    "start_time": "2022-06-26T22:55:37.616Z"
   },
   {
    "duration": 7,
    "start_time": "2022-06-26T22:55:40.413Z"
   },
   {
    "duration": 3,
    "start_time": "2022-06-26T22:55:48.076Z"
   },
   {
    "duration": 4,
    "start_time": "2022-06-26T22:55:51.273Z"
   },
   {
    "duration": 5,
    "start_time": "2022-06-26T22:55:55.674Z"
   },
   {
    "duration": 4,
    "start_time": "2022-06-26T22:55:56.416Z"
   },
   {
    "duration": 2,
    "start_time": "2022-06-26T23:00:53.770Z"
   },
   {
    "duration": 147,
    "start_time": "2022-06-26T23:00:54.198Z"
   },
   {
    "duration": 123,
    "start_time": "2022-06-26T23:00:54.417Z"
   },
   {
    "duration": 84,
    "start_time": "2022-06-26T23:00:54.635Z"
   },
   {
    "duration": 11,
    "start_time": "2022-06-26T23:00:54.861Z"
   },
   {
    "duration": 17,
    "start_time": "2022-06-26T23:00:55.139Z"
   },
   {
    "duration": 6,
    "start_time": "2022-06-26T23:00:55.365Z"
   },
   {
    "duration": 9,
    "start_time": "2022-06-26T23:00:55.896Z"
   },
   {
    "duration": 26,
    "start_time": "2022-06-26T23:00:56.148Z"
   },
   {
    "duration": 10,
    "start_time": "2022-06-26T23:00:56.650Z"
   },
   {
    "duration": 22,
    "start_time": "2022-06-26T23:00:56.891Z"
   },
   {
    "duration": 8,
    "start_time": "2022-06-26T23:00:57.386Z"
   },
   {
    "duration": 20,
    "start_time": "2022-06-26T23:00:57.629Z"
   },
   {
    "duration": 8,
    "start_time": "2022-06-26T23:00:58.084Z"
   },
   {
    "duration": 11,
    "start_time": "2022-06-26T23:00:58.325Z"
   },
   {
    "duration": 10,
    "start_time": "2022-06-26T23:00:58.647Z"
   },
   {
    "duration": 10,
    "start_time": "2022-06-26T23:00:58.886Z"
   },
   {
    "duration": 33,
    "start_time": "2022-06-26T23:00:59.871Z"
   },
   {
    "duration": 24,
    "start_time": "2022-06-26T23:01:00.167Z"
   },
   {
    "duration": 22,
    "start_time": "2022-06-26T23:01:00.378Z"
   },
   {
    "duration": 4,
    "start_time": "2022-06-26T23:01:00.675Z"
   },
   {
    "duration": 5,
    "start_time": "2022-06-26T23:01:00.923Z"
   },
   {
    "duration": 23,
    "start_time": "2022-06-26T23:01:05.264Z"
   },
   {
    "duration": 19,
    "start_time": "2022-06-26T23:01:05.546Z"
   },
   {
    "duration": 15,
    "start_time": "2022-06-26T23:01:05.761Z"
   },
   {
    "duration": 9,
    "start_time": "2022-06-26T23:01:06.304Z"
   },
   {
    "duration": 114,
    "start_time": "2022-06-26T23:01:06.617Z"
   },
   {
    "duration": 62,
    "start_time": "2022-06-26T23:01:10.137Z"
   },
   {
    "duration": 41,
    "start_time": "2022-06-26T23:01:10.503Z"
   },
   {
    "duration": 8,
    "start_time": "2022-06-26T23:01:11.245Z"
   },
   {
    "duration": 7,
    "start_time": "2022-06-26T23:01:11.558Z"
   },
   {
    "duration": 21,
    "start_time": "2022-06-26T23:01:11.865Z"
   },
   {
    "duration": 22,
    "start_time": "2022-06-26T23:01:12.164Z"
   },
   {
    "duration": 19,
    "start_time": "2022-06-26T23:01:12.377Z"
   },
   {
    "duration": 27,
    "start_time": "2022-06-26T23:01:12.686Z"
   },
   {
    "duration": 206,
    "start_time": "2022-06-26T23:01:13.008Z"
   },
   {
    "duration": 19,
    "start_time": "2022-06-26T23:01:13.225Z"
   },
   {
    "duration": 204,
    "start_time": "2022-06-26T23:01:13.786Z"
   },
   {
    "duration": 126,
    "start_time": "2022-06-26T23:01:14.349Z"
   },
   {
    "duration": 4,
    "start_time": "2022-06-26T23:01:14.677Z"
   },
   {
    "duration": 11,
    "start_time": "2022-06-26T23:01:15.028Z"
   },
   {
    "duration": 4,
    "start_time": "2022-06-26T23:01:15.693Z"
   },
   {
    "duration": 7,
    "start_time": "2022-06-26T23:01:15.987Z"
   },
   {
    "duration": 4,
    "start_time": "2022-06-26T23:01:17.427Z"
   },
   {
    "duration": 4,
    "start_time": "2022-06-26T23:01:18.048Z"
   },
   {
    "duration": 48,
    "start_time": "2022-06-26T23:01:19.569Z"
   },
   {
    "duration": 6,
    "start_time": "2022-06-26T23:01:19.870Z"
   },
   {
    "duration": 5,
    "start_time": "2022-06-26T23:01:20.220Z"
   },
   {
    "duration": 11,
    "start_time": "2022-06-26T23:01:20.755Z"
   },
   {
    "duration": 4,
    "start_time": "2022-06-26T23:01:21.059Z"
   },
   {
    "duration": 14,
    "start_time": "2022-06-26T23:01:21.361Z"
   },
   {
    "duration": 18,
    "start_time": "2022-06-26T23:01:22.140Z"
   },
   {
    "duration": 5,
    "start_time": "2022-06-26T23:01:22.801Z"
   },
   {
    "duration": 5,
    "start_time": "2022-06-26T23:01:23.126Z"
   },
   {
    "duration": 8,
    "start_time": "2022-06-26T23:01:24.929Z"
   },
   {
    "duration": 14,
    "start_time": "2022-06-26T23:01:25.233Z"
   },
   {
    "duration": 4,
    "start_time": "2022-06-26T23:01:25.863Z"
   },
   {
    "duration": 11,
    "start_time": "2022-06-26T23:01:26.159Z"
   },
   {
    "duration": 13,
    "start_time": "2022-06-26T23:01:26.487Z"
   },
   {
    "duration": 5,
    "start_time": "2022-06-26T23:01:28.147Z"
   },
   {
    "duration": 6,
    "start_time": "2022-06-26T23:01:28.154Z"
   },
   {
    "duration": 5,
    "start_time": "2022-06-26T23:01:28.255Z"
   },
   {
    "duration": 9,
    "start_time": "2022-06-26T23:01:28.694Z"
   },
   {
    "duration": 17,
    "start_time": "2022-06-26T23:01:28.910Z"
   },
   {
    "duration": 4,
    "start_time": "2022-06-26T23:01:29.299Z"
   },
   {
    "duration": 10,
    "start_time": "2022-06-26T23:01:30.143Z"
   },
   {
    "duration": 12,
    "start_time": "2022-06-26T23:01:31.039Z"
   },
   {
    "duration": 8,
    "start_time": "2022-06-26T23:01:32.259Z"
   },
   {
    "duration": 21,
    "start_time": "2022-06-26T23:01:32.964Z"
   },
   {
    "duration": 10,
    "start_time": "2022-06-26T23:01:39.743Z"
   },
   {
    "duration": 6,
    "start_time": "2022-06-26T23:01:40.282Z"
   },
   {
    "duration": 4,
    "start_time": "2022-06-26T23:01:41.559Z"
   },
   {
    "duration": 4,
    "start_time": "2022-06-26T23:01:42.141Z"
   },
   {
    "duration": 4,
    "start_time": "2022-06-26T23:01:42.654Z"
   },
   {
    "duration": 4,
    "start_time": "2022-06-26T23:01:43.136Z"
   },
   {
    "duration": 6,
    "start_time": "2022-06-26T23:01:44.259Z"
   },
   {
    "duration": 9,
    "start_time": "2022-06-26T23:01:44.845Z"
   },
   {
    "duration": 17,
    "start_time": "2022-06-26T23:02:03.349Z"
   },
   {
    "duration": 4,
    "start_time": "2022-06-26T23:02:03.818Z"
   },
   {
    "duration": 4,
    "start_time": "2022-06-26T23:02:04.489Z"
   },
   {
    "duration": 11,
    "start_time": "2022-06-26T23:02:04.712Z"
   },
   {
    "duration": 4,
    "start_time": "2022-06-26T23:02:05.071Z"
   },
   {
    "duration": 4,
    "start_time": "2022-06-26T23:02:05.310Z"
   },
   {
    "duration": 3,
    "start_time": "2022-06-26T23:02:05.595Z"
   },
   {
    "duration": 12,
    "start_time": "2022-06-26T23:02:05.850Z"
   },
   {
    "duration": 84,
    "start_time": "2022-06-26T23:02:06.346Z"
   },
   {
    "duration": 4,
    "start_time": "2022-06-26T23:02:07.316Z"
   },
   {
    "duration": 8,
    "start_time": "2022-06-26T23:02:07.749Z"
   },
   {
    "duration": 10,
    "start_time": "2022-06-26T23:02:08.142Z"
   },
   {
    "duration": 10,
    "start_time": "2022-06-26T23:02:08.727Z"
   },
   {
    "duration": 6,
    "start_time": "2022-06-26T23:02:09.517Z"
   },
   {
    "duration": 14,
    "start_time": "2022-06-26T23:02:09.740Z"
   },
   {
    "duration": 7,
    "start_time": "2022-06-26T23:02:09.976Z"
   },
   {
    "duration": 9,
    "start_time": "2022-06-26T23:02:10.190Z"
   },
   {
    "duration": 5,
    "start_time": "2022-06-26T23:02:10.575Z"
   },
   {
    "duration": 4,
    "start_time": "2022-06-26T23:02:10.793Z"
   },
   {
    "duration": 5,
    "start_time": "2022-06-26T23:02:11.147Z"
   },
   {
    "duration": 5,
    "start_time": "2022-06-26T23:02:11.362Z"
   },
   {
    "duration": 5,
    "start_time": "2022-06-26T23:02:11.581Z"
   },
   {
    "duration": 4,
    "start_time": "2022-06-26T23:02:11.799Z"
   },
   {
    "duration": 5,
    "start_time": "2022-06-26T23:02:12.014Z"
   },
   {
    "duration": 5,
    "start_time": "2022-06-26T23:02:12.297Z"
   },
   {
    "duration": 170,
    "start_time": "2022-06-26T23:02:12.861Z"
   },
   {
    "duration": 5,
    "start_time": "2022-06-26T23:02:14.086Z"
   },
   {
    "duration": 4,
    "start_time": "2022-06-26T23:02:14.301Z"
   },
   {
    "duration": 6,
    "start_time": "2022-06-26T23:02:14.515Z"
   },
   {
    "duration": 6,
    "start_time": "2022-06-26T23:02:14.739Z"
   },
   {
    "duration": 4,
    "start_time": "2022-06-26T23:02:15.310Z"
   },
   {
    "duration": 5,
    "start_time": "2022-06-26T23:02:15.523Z"
   },
   {
    "duration": 9,
    "start_time": "2022-06-26T23:02:15.939Z"
   },
   {
    "duration": 6,
    "start_time": "2022-06-26T23:02:16.216Z"
   },
   {
    "duration": 5,
    "start_time": "2022-06-26T23:02:16.486Z"
   },
   {
    "duration": 5,
    "start_time": "2022-06-26T23:02:16.768Z"
   },
   {
    "duration": 5,
    "start_time": "2022-06-26T23:02:17.041Z"
   },
   {
    "duration": 4,
    "start_time": "2022-06-26T23:02:17.305Z"
   },
   {
    "duration": 181,
    "start_time": "2022-06-26T23:02:17.999Z"
   },
   {
    "duration": 4,
    "start_time": "2022-06-26T23:02:18.670Z"
   },
   {
    "duration": 10,
    "start_time": "2022-06-26T23:02:18.887Z"
   },
   {
    "duration": 5,
    "start_time": "2022-06-26T23:02:19.145Z"
   },
   {
    "duration": 5,
    "start_time": "2022-06-26T23:02:19.494Z"
   },
   {
    "duration": 4,
    "start_time": "2022-06-26T23:02:20.382Z"
   },
   {
    "duration": 12,
    "start_time": "2022-06-26T23:02:20.598Z"
   },
   {
    "duration": 5,
    "start_time": "2022-06-26T23:02:20.844Z"
   },
   {
    "duration": 5,
    "start_time": "2022-06-26T23:02:21.318Z"
   },
   {
    "duration": 6,
    "start_time": "2022-06-26T23:02:21.644Z"
   },
   {
    "duration": 5,
    "start_time": "2022-06-26T23:02:21.873Z"
   },
   {
    "duration": 4,
    "start_time": "2022-06-26T23:02:22.092Z"
   },
   {
    "duration": 5,
    "start_time": "2022-06-26T23:02:22.309Z"
   },
   {
    "duration": 4,
    "start_time": "2022-06-26T23:02:22.678Z"
   },
   {
    "duration": 189,
    "start_time": "2022-06-26T23:02:23.174Z"
   },
   {
    "duration": 8,
    "start_time": "2022-06-26T23:02:24.488Z"
   },
   {
    "duration": 9,
    "start_time": "2022-06-26T23:02:24.702Z"
   },
   {
    "duration": 6,
    "start_time": "2022-06-26T23:02:24.942Z"
   },
   {
    "duration": 6,
    "start_time": "2022-06-26T23:02:25.157Z"
   },
   {
    "duration": 17,
    "start_time": "2022-06-26T23:02:26.237Z"
   },
   {
    "duration": 8,
    "start_time": "2022-06-26T23:02:26.709Z"
   },
   {
    "duration": 5,
    "start_time": "2022-06-26T23:02:26.967Z"
   },
   {
    "duration": 5,
    "start_time": "2022-06-26T23:02:27.320Z"
   },
   {
    "duration": 3,
    "start_time": "2022-06-26T23:02:27.647Z"
   },
   {
    "duration": 3,
    "start_time": "2022-06-26T23:02:27.908Z"
   },
   {
    "duration": 159,
    "start_time": "2022-06-26T23:02:28.445Z"
   },
   {
    "duration": 15,
    "start_time": "2022-06-26T23:02:28.888Z"
   },
   {
    "duration": 17,
    "start_time": "2022-06-26T23:02:29.136Z"
   },
   {
    "duration": 3,
    "start_time": "2022-06-26T23:02:30.398Z"
   },
   {
    "duration": 3,
    "start_time": "2022-06-26T23:02:30.615Z"
   },
   {
    "duration": 4,
    "start_time": "2022-06-26T23:02:30.831Z"
   },
   {
    "duration": 4,
    "start_time": "2022-06-26T23:02:31.046Z"
   },
   {
    "duration": 5,
    "start_time": "2022-06-26T23:02:31.963Z"
   },
   {
    "duration": 4,
    "start_time": "2022-06-26T23:02:33.511Z"
   },
   {
    "duration": 64,
    "start_time": "2022-06-26T23:02:33.801Z"
   },
   {
    "duration": 6,
    "start_time": "2022-06-26T23:02:34.139Z"
   },
   {
    "duration": 4,
    "start_time": "2022-06-26T23:02:34.371Z"
   },
   {
    "duration": 6,
    "start_time": "2022-06-26T23:02:34.644Z"
   },
   {
    "duration": 16,
    "start_time": "2022-06-26T23:02:34.894Z"
   },
   {
    "duration": 7,
    "start_time": "2022-06-26T23:02:35.244Z"
   },
   {
    "duration": 20,
    "start_time": "2022-06-26T23:02:35.525Z"
   },
   {
    "duration": 6,
    "start_time": "2022-06-26T23:02:35.761Z"
   },
   {
    "duration": 7,
    "start_time": "2022-06-26T23:02:36.290Z"
   },
   {
    "duration": 14,
    "start_time": "2022-06-26T23:02:36.559Z"
   },
   {
    "duration": 4,
    "start_time": "2022-06-26T23:02:37.250Z"
   },
   {
    "duration": 4,
    "start_time": "2022-06-26T23:02:37.754Z"
   },
   {
    "duration": 3,
    "start_time": "2022-06-26T23:02:37.972Z"
   },
   {
    "duration": 4,
    "start_time": "2022-06-26T23:02:38.448Z"
   },
   {
    "duration": 5,
    "start_time": "2022-06-26T23:02:41.351Z"
   },
   {
    "duration": 3,
    "start_time": "2022-06-26T23:03:30.085Z"
   },
   {
    "duration": 4,
    "start_time": "2022-06-26T23:03:31.094Z"
   },
   {
    "duration": 4,
    "start_time": "2022-06-26T23:03:31.894Z"
   },
   {
    "duration": 6,
    "start_time": "2022-06-26T23:03:35.071Z"
   },
   {
    "duration": 7,
    "start_time": "2022-06-26T23:04:25.698Z"
   },
   {
    "duration": 2,
    "start_time": "2022-06-26T23:05:57.692Z"
   },
   {
    "duration": 153,
    "start_time": "2022-06-26T23:05:58.063Z"
   },
   {
    "duration": 126,
    "start_time": "2022-06-26T23:05:58.273Z"
   },
   {
    "duration": 93,
    "start_time": "2022-06-26T23:05:58.489Z"
   },
   {
    "duration": 10,
    "start_time": "2022-06-26T23:05:58.707Z"
   },
   {
    "duration": 24,
    "start_time": "2022-06-26T23:05:58.923Z"
   },
   {
    "duration": 5,
    "start_time": "2022-06-26T23:05:59.164Z"
   },
   {
    "duration": 9,
    "start_time": "2022-06-26T23:05:59.545Z"
   },
   {
    "duration": 25,
    "start_time": "2022-06-26T23:05:59.788Z"
   },
   {
    "duration": 10,
    "start_time": "2022-06-26T23:06:00.162Z"
   },
   {
    "duration": 24,
    "start_time": "2022-06-26T23:06:00.403Z"
   },
   {
    "duration": 10,
    "start_time": "2022-06-26T23:06:07.506Z"
   },
   {
    "duration": 19,
    "start_time": "2022-06-26T23:06:07.869Z"
   },
   {
    "duration": 9,
    "start_time": "2022-06-26T23:06:08.242Z"
   },
   {
    "duration": 11,
    "start_time": "2022-06-26T23:06:08.649Z"
   },
   {
    "duration": 22,
    "start_time": "2022-06-26T23:06:09.023Z"
   },
   {
    "duration": 12,
    "start_time": "2022-06-26T23:06:09.411Z"
   },
   {
    "duration": 34,
    "start_time": "2022-06-26T23:06:10.970Z"
   },
   {
    "duration": 33,
    "start_time": "2022-06-26T23:06:11.411Z"
   },
   {
    "duration": 33,
    "start_time": "2022-06-26T23:06:11.726Z"
   },
   {
    "duration": 4,
    "start_time": "2022-06-26T23:06:11.977Z"
   },
   {
    "duration": 5,
    "start_time": "2022-06-26T23:06:12.242Z"
   },
   {
    "duration": 22,
    "start_time": "2022-06-26T23:06:12.663Z"
   },
   {
    "duration": 17,
    "start_time": "2022-06-26T23:06:13.063Z"
   },
   {
    "duration": 15,
    "start_time": "2022-06-26T23:06:13.445Z"
   },
   {
    "duration": 10,
    "start_time": "2022-06-26T23:06:14.125Z"
   },
   {
    "duration": 120,
    "start_time": "2022-06-26T23:06:14.445Z"
   },
   {
    "duration": 83,
    "start_time": "2022-06-26T23:06:14.663Z"
   },
   {
    "duration": 57,
    "start_time": "2022-06-26T23:06:15.118Z"
   },
   {
    "duration": 8,
    "start_time": "2022-06-26T23:06:16.379Z"
   },
   {
    "duration": 6,
    "start_time": "2022-06-26T23:06:16.964Z"
   },
   {
    "duration": 31,
    "start_time": "2022-06-26T23:06:17.391Z"
   },
   {
    "duration": 22,
    "start_time": "2022-06-26T23:06:33.278Z"
   },
   {
    "duration": 19,
    "start_time": "2022-06-26T23:06:33.583Z"
   },
   {
    "duration": 25,
    "start_time": "2022-06-26T23:06:33.815Z"
   },
   {
    "duration": 211,
    "start_time": "2022-06-26T23:06:34.042Z"
   },
   {
    "duration": 17,
    "start_time": "2022-06-26T23:06:34.262Z"
   },
   {
    "duration": 227,
    "start_time": "2022-06-26T23:06:34.726Z"
   },
   {
    "duration": 140,
    "start_time": "2022-06-26T23:06:35.241Z"
   },
   {
    "duration": 5,
    "start_time": "2022-06-26T23:06:35.585Z"
   },
   {
    "duration": 11,
    "start_time": "2022-06-26T23:06:35.911Z"
   },
   {
    "duration": 5,
    "start_time": "2022-06-26T23:06:36.379Z"
   },
   {
    "duration": 7,
    "start_time": "2022-06-26T23:06:36.591Z"
   },
   {
    "duration": 6,
    "start_time": "2022-06-26T23:06:37.629Z"
   },
   {
    "duration": 4,
    "start_time": "2022-06-26T23:06:37.990Z"
   },
   {
    "duration": 50,
    "start_time": "2022-06-26T23:06:43.606Z"
   },
   {
    "duration": 6,
    "start_time": "2022-06-26T23:06:43.887Z"
   },
   {
    "duration": 5,
    "start_time": "2022-06-26T23:06:44.241Z"
   },
   {
    "duration": 13,
    "start_time": "2022-06-26T23:06:44.594Z"
   },
   {
    "duration": 4,
    "start_time": "2022-06-26T23:06:45.042Z"
   },
   {
    "duration": 12,
    "start_time": "2022-06-26T23:06:45.664Z"
   },
   {
    "duration": 28,
    "start_time": "2022-06-26T23:06:51.219Z"
   },
   {
    "duration": 5,
    "start_time": "2022-06-26T23:06:52.414Z"
   },
   {
    "duration": 5,
    "start_time": "2022-06-26T23:06:53.148Z"
   },
   {
    "duration": 7,
    "start_time": "2022-06-26T23:06:53.759Z"
   },
   {
    "duration": 12,
    "start_time": "2022-06-26T23:06:54.256Z"
   },
   {
    "duration": 5,
    "start_time": "2022-06-26T23:07:28.009Z"
   },
   {
    "duration": 16,
    "start_time": "2022-06-26T23:07:28.554Z"
   },
   {
    "duration": 21,
    "start_time": "2022-06-26T23:07:28.911Z"
   },
   {
    "duration": 6,
    "start_time": "2022-06-26T23:07:29.372Z"
   },
   {
    "duration": 5,
    "start_time": "2022-06-26T23:07:29.587Z"
   },
   {
    "duration": 7,
    "start_time": "2022-06-26T23:07:29.803Z"
   },
   {
    "duration": 12,
    "start_time": "2022-06-26T23:07:30.164Z"
   },
   {
    "duration": 20,
    "start_time": "2022-06-26T23:07:30.383Z"
   },
   {
    "duration": 5,
    "start_time": "2022-06-26T23:07:30.778Z"
   },
   {
    "duration": 12,
    "start_time": "2022-06-26T23:07:31.146Z"
   },
   {
    "duration": 16,
    "start_time": "2022-06-26T23:07:31.356Z"
   },
   {
    "duration": 9,
    "start_time": "2022-06-26T23:07:31.803Z"
   },
   {
    "duration": 26,
    "start_time": "2022-06-26T23:07:32.020Z"
   },
   {
    "duration": 15,
    "start_time": "2022-06-26T23:07:32.276Z"
   },
   {
    "duration": 7,
    "start_time": "2022-06-26T23:07:32.496Z"
   },
   {
    "duration": 4,
    "start_time": "2022-06-26T23:07:32.855Z"
   },
   {
    "duration": 3,
    "start_time": "2022-06-26T23:07:33.074Z"
   },
   {
    "duration": 5,
    "start_time": "2022-06-26T23:07:33.342Z"
   },
   {
    "duration": 4,
    "start_time": "2022-06-26T23:07:33.615Z"
   },
   {
    "duration": 7,
    "start_time": "2022-06-26T23:07:33.972Z"
   },
   {
    "duration": 20,
    "start_time": "2022-06-26T23:07:34.614Z"
   },
   {
    "duration": 4,
    "start_time": "2022-06-26T23:07:34.995Z"
   },
   {
    "duration": 3,
    "start_time": "2022-06-26T23:07:35.641Z"
   },
   {
    "duration": 12,
    "start_time": "2022-06-26T23:07:35.844Z"
   },
   {
    "duration": 5,
    "start_time": "2022-06-26T23:07:36.269Z"
   },
   {
    "duration": 4,
    "start_time": "2022-06-26T23:07:36.482Z"
   },
   {
    "duration": 4,
    "start_time": "2022-06-26T23:07:36.694Z"
   },
   {
    "duration": 11,
    "start_time": "2022-06-26T23:07:36.909Z"
   },
   {
    "duration": 80,
    "start_time": "2022-06-26T23:07:37.383Z"
   },
   {
    "duration": 3,
    "start_time": "2022-06-26T23:07:37.978Z"
   },
   {
    "duration": 9,
    "start_time": "2022-06-26T23:07:38.499Z"
   },
   {
    "duration": 11,
    "start_time": "2022-06-26T23:07:38.949Z"
   },
   {
    "duration": 4,
    "start_time": "2022-06-26T23:07:39.797Z"
   },
   {
    "duration": 6,
    "start_time": "2022-06-26T23:07:40.595Z"
   },
   {
    "duration": 10,
    "start_time": "2022-06-26T23:07:40.811Z"
   },
   {
    "duration": 6,
    "start_time": "2022-06-26T23:07:41.052Z"
   },
   {
    "duration": 9,
    "start_time": "2022-06-26T23:07:41.268Z"
   },
   {
    "duration": 5,
    "start_time": "2022-06-26T23:07:41.651Z"
   },
   {
    "duration": 5,
    "start_time": "2022-06-26T23:07:41.866Z"
   },
   {
    "duration": 5,
    "start_time": "2022-06-26T23:07:42.306Z"
   },
   {
    "duration": 5,
    "start_time": "2022-06-26T23:07:42.520Z"
   },
   {
    "duration": 5,
    "start_time": "2022-06-26T23:07:42.740Z"
   },
   {
    "duration": 6,
    "start_time": "2022-06-26T23:07:42.951Z"
   },
   {
    "duration": 4,
    "start_time": "2022-06-26T23:07:43.168Z"
   },
   {
    "duration": 5,
    "start_time": "2022-06-26T23:07:43.381Z"
   },
   {
    "duration": 175,
    "start_time": "2022-06-26T23:07:44.022Z"
   },
   {
    "duration": 4,
    "start_time": "2022-06-26T23:07:45.501Z"
   },
   {
    "duration": 5,
    "start_time": "2022-06-26T23:07:45.817Z"
   },
   {
    "duration": 6,
    "start_time": "2022-06-26T23:07:46.126Z"
   },
   {
    "duration": 5,
    "start_time": "2022-06-26T23:07:46.449Z"
   },
   {
    "duration": 4,
    "start_time": "2022-06-26T23:07:47.179Z"
   },
   {
    "duration": 4,
    "start_time": "2022-06-26T23:07:47.449Z"
   },
   {
    "duration": 4,
    "start_time": "2022-06-26T23:07:48.019Z"
   },
   {
    "duration": 4,
    "start_time": "2022-06-26T23:07:48.294Z"
   },
   {
    "duration": 5,
    "start_time": "2022-06-26T23:07:48.617Z"
   },
   {
    "duration": 5,
    "start_time": "2022-06-26T23:07:48.859Z"
   },
   {
    "duration": 5,
    "start_time": "2022-06-26T23:07:49.140Z"
   },
   {
    "duration": 5,
    "start_time": "2022-06-26T23:07:49.443Z"
   },
   {
    "duration": 184,
    "start_time": "2022-06-26T23:07:50.287Z"
   },
   {
    "duration": 4,
    "start_time": "2022-06-26T23:07:50.969Z"
   },
   {
    "duration": 11,
    "start_time": "2022-06-26T23:07:51.186Z"
   },
   {
    "duration": 4,
    "start_time": "2022-06-26T23:07:51.753Z"
   },
   {
    "duration": 5,
    "start_time": "2022-06-26T23:07:52.457Z"
   },
   {
    "duration": 5,
    "start_time": "2022-06-26T23:07:55.402Z"
   },
   {
    "duration": 18,
    "start_time": "2022-06-26T23:07:55.745Z"
   },
   {
    "duration": 4,
    "start_time": "2022-06-26T23:07:56.043Z"
   },
   {
    "duration": 5,
    "start_time": "2022-06-26T23:07:56.503Z"
   },
   {
    "duration": 5,
    "start_time": "2022-06-26T23:07:56.768Z"
   },
   {
    "duration": 6,
    "start_time": "2022-06-26T23:07:57.108Z"
   },
   {
    "duration": 6,
    "start_time": "2022-06-26T23:07:57.376Z"
   },
   {
    "duration": 6,
    "start_time": "2022-06-26T23:07:57.740Z"
   },
   {
    "duration": 5,
    "start_time": "2022-06-26T23:07:58.171Z"
   },
   {
    "duration": 326,
    "start_time": "2022-06-26T23:07:58.979Z"
   },
   {
    "duration": 6,
    "start_time": "2022-06-26T23:08:01.188Z"
   },
   {
    "duration": 7,
    "start_time": "2022-06-26T23:08:01.498Z"
   },
   {
    "duration": 6,
    "start_time": "2022-06-26T23:08:01.770Z"
   },
   {
    "duration": 7,
    "start_time": "2022-06-26T23:08:02.413Z"
   },
   {
    "duration": 9,
    "start_time": "2022-06-26T23:08:06.686Z"
   },
   {
    "duration": 10,
    "start_time": "2022-06-26T23:08:07.022Z"
   },
   {
    "duration": 6,
    "start_time": "2022-06-26T23:08:07.282Z"
   },
   {
    "duration": 5,
    "start_time": "2022-06-26T23:08:07.491Z"
   },
   {
    "duration": 4,
    "start_time": "2022-06-26T23:08:07.763Z"
   },
   {
    "duration": 4,
    "start_time": "2022-06-26T23:08:08.024Z"
   },
   {
    "duration": 173,
    "start_time": "2022-06-26T23:08:08.448Z"
   },
   {
    "duration": 16,
    "start_time": "2022-06-26T23:08:08.904Z"
   },
   {
    "duration": 19,
    "start_time": "2022-06-26T23:08:09.155Z"
   },
   {
    "duration": 3,
    "start_time": "2022-06-26T23:08:10.318Z"
   },
   {
    "duration": 4,
    "start_time": "2022-06-26T23:08:10.540Z"
   },
   {
    "duration": 3,
    "start_time": "2022-06-26T23:08:10.752Z"
   },
   {
    "duration": 4,
    "start_time": "2022-06-26T23:08:11.014Z"
   },
   {
    "duration": 4,
    "start_time": "2022-06-26T23:08:11.971Z"
   },
   {
    "duration": 5,
    "start_time": "2022-06-26T23:08:13.323Z"
   },
   {
    "duration": 54,
    "start_time": "2022-06-26T23:08:13.545Z"
   },
   {
    "duration": 7,
    "start_time": "2022-06-26T23:08:13.803Z"
   },
   {
    "duration": 5,
    "start_time": "2022-06-26T23:08:14.015Z"
   },
   {
    "duration": 7,
    "start_time": "2022-06-26T23:08:14.275Z"
   },
   {
    "duration": 15,
    "start_time": "2022-06-26T23:08:14.524Z"
   },
   {
    "duration": 10,
    "start_time": "2022-06-26T23:08:14.777Z"
   },
   {
    "duration": 15,
    "start_time": "2022-06-26T23:08:15.042Z"
   },
   {
    "duration": 6,
    "start_time": "2022-06-26T23:08:15.310Z"
   },
   {
    "duration": 6,
    "start_time": "2022-06-26T23:08:15.544Z"
   },
   {
    "duration": 7,
    "start_time": "2022-06-26T23:08:15.757Z"
   },
   {
    "duration": 15,
    "start_time": "2022-06-26T23:08:16.162Z"
   },
   {
    "duration": 3,
    "start_time": "2022-06-26T23:08:16.918Z"
   },
   {
    "duration": 4,
    "start_time": "2022-06-26T23:08:17.274Z"
   },
   {
    "duration": 3,
    "start_time": "2022-06-26T23:08:17.543Z"
   },
   {
    "duration": 4,
    "start_time": "2022-06-26T23:08:17.795Z"
   },
   {
    "duration": 4,
    "start_time": "2022-06-26T23:08:18.915Z"
   },
   {
    "duration": 20,
    "start_time": "2022-06-26T23:09:06.117Z"
   },
   {
    "duration": 4,
    "start_time": "2022-06-26T23:09:29.064Z"
   },
   {
    "duration": 4,
    "start_time": "2022-06-26T23:09:45.865Z"
   },
   {
    "duration": 4,
    "start_time": "2022-06-26T23:09:47.278Z"
   },
   {
    "duration": 3,
    "start_time": "2022-06-26T23:10:00.323Z"
   },
   {
    "duration": 3,
    "start_time": "2022-06-26T23:10:04.948Z"
   },
   {
    "duration": 5,
    "start_time": "2022-06-26T23:10:08.282Z"
   },
   {
    "duration": 3,
    "start_time": "2022-06-26T23:12:00.470Z"
   },
   {
    "duration": 6,
    "start_time": "2022-06-26T23:12:01.267Z"
   },
   {
    "duration": 4,
    "start_time": "2022-06-26T23:12:24.362Z"
   },
   {
    "duration": 4,
    "start_time": "2022-06-26T23:12:32.442Z"
   },
   {
    "duration": 5,
    "start_time": "2022-06-26T23:12:37.582Z"
   },
   {
    "duration": 12,
    "start_time": "2022-06-26T23:28:03.374Z"
   },
   {
    "duration": 6,
    "start_time": "2022-06-26T23:28:33.753Z"
   },
   {
    "duration": 8,
    "start_time": "2022-06-26T23:28:41.748Z"
   },
   {
    "duration": 4,
    "start_time": "2022-06-26T23:29:28.348Z"
   },
   {
    "duration": 3,
    "start_time": "2022-06-26T23:29:43.874Z"
   },
   {
    "duration": 57,
    "start_time": "2022-06-26T23:30:00.047Z"
   },
   {
    "duration": 6,
    "start_time": "2022-06-26T23:30:05.943Z"
   },
   {
    "duration": 4,
    "start_time": "2022-06-26T23:30:07.048Z"
   },
   {
    "duration": 10,
    "start_time": "2022-06-26T23:30:08.548Z"
   },
   {
    "duration": 7,
    "start_time": "2022-06-26T23:30:09.251Z"
   },
   {
    "duration": 7,
    "start_time": "2022-06-26T23:30:13.525Z"
   },
   {
    "duration": 4,
    "start_time": "2022-06-26T23:30:27.667Z"
   },
   {
    "duration": 5,
    "start_time": "2022-06-26T23:34:33.152Z"
   },
   {
    "duration": 6,
    "start_time": "2022-06-26T23:34:36.048Z"
   },
   {
    "duration": 64,
    "start_time": "2022-06-26T23:34:36.323Z"
   },
   {
    "duration": 5,
    "start_time": "2022-06-26T23:34:37.353Z"
   },
   {
    "duration": 4,
    "start_time": "2022-06-26T23:34:38.304Z"
   },
   {
    "duration": 6,
    "start_time": "2022-06-26T23:34:39.403Z"
   },
   {
    "duration": 34,
    "start_time": "2022-06-26T23:34:40.223Z"
   },
   {
    "duration": 7,
    "start_time": "2022-06-26T23:34:41.250Z"
   },
   {
    "duration": 13,
    "start_time": "2022-06-26T23:34:42.078Z"
   },
   {
    "duration": 6,
    "start_time": "2022-06-26T23:34:43.196Z"
   },
   {
    "duration": 7,
    "start_time": "2022-06-26T23:34:44.186Z"
   },
   {
    "duration": 6,
    "start_time": "2022-06-26T23:34:46.764Z"
   },
   {
    "duration": 14,
    "start_time": "2022-06-26T23:34:47.651Z"
   },
   {
    "duration": 4,
    "start_time": "2022-06-26T23:34:49.253Z"
   },
   {
    "duration": 4,
    "start_time": "2022-06-26T23:34:50.153Z"
   },
   {
    "duration": 8,
    "start_time": "2022-06-26T23:34:51.089Z"
   },
   {
    "duration": 4,
    "start_time": "2022-06-26T23:34:52.091Z"
   },
   {
    "duration": 4,
    "start_time": "2022-06-26T23:34:55.464Z"
   },
   {
    "duration": 4,
    "start_time": "2022-06-26T23:34:59.500Z"
   },
   {
    "duration": 3,
    "start_time": "2022-06-26T23:35:42.976Z"
   },
   {
    "duration": 5,
    "start_time": "2022-06-26T23:35:43.346Z"
   },
   {
    "duration": 4,
    "start_time": "2022-06-26T23:35:43.759Z"
   },
   {
    "duration": 3,
    "start_time": "2022-06-26T23:35:44.582Z"
   },
   {
    "duration": 5,
    "start_time": "2022-06-26T23:35:47.055Z"
   },
   {
    "duration": 8,
    "start_time": "2022-06-26T23:39:23.510Z"
   },
   {
    "duration": 9,
    "start_time": "2022-06-26T23:39:35.797Z"
   },
   {
    "duration": 1301,
    "start_time": "2022-06-26T23:39:47.162Z"
   },
   {
    "duration": 3,
    "start_time": "2022-06-26T23:40:34.423Z"
   },
   {
    "duration": 1159,
    "start_time": "2022-06-26T23:40:40.455Z"
   },
   {
    "duration": 3,
    "start_time": "2022-06-26T23:42:09.856Z"
   },
   {
    "duration": 4,
    "start_time": "2022-06-26T23:42:11.394Z"
   },
   {
    "duration": 8,
    "start_time": "2022-06-26T23:42:30.783Z"
   },
   {
    "duration": 7,
    "start_time": "2022-06-26T23:42:43.044Z"
   },
   {
    "duration": 3,
    "start_time": "2022-06-26T23:43:35.253Z"
   },
   {
    "duration": 6,
    "start_time": "2022-06-26T23:43:41.350Z"
   },
   {
    "duration": 1224,
    "start_time": "2022-06-27T01:17:00.005Z"
   },
   {
    "duration": 554,
    "start_time": "2022-06-27T01:17:01.231Z"
   },
   {
    "duration": 390,
    "start_time": "2022-06-27T01:17:01.786Z"
   },
   {
    "duration": 265,
    "start_time": "2022-06-27T01:17:02.178Z"
   },
   {
    "duration": 78,
    "start_time": "2022-06-27T01:17:02.445Z"
   },
   {
    "duration": 67,
    "start_time": "2022-06-27T01:17:02.524Z"
   },
   {
    "duration": 8,
    "start_time": "2022-06-27T01:17:02.592Z"
   },
   {
    "duration": 11,
    "start_time": "2022-06-27T01:17:02.602Z"
   },
   {
    "duration": 21,
    "start_time": "2022-06-27T01:17:03.467Z"
   },
   {
    "duration": 8,
    "start_time": "2022-06-27T01:17:03.921Z"
   },
   {
    "duration": 17,
    "start_time": "2022-06-27T01:17:04.140Z"
   },
   {
    "duration": 8,
    "start_time": "2022-06-27T01:17:04.531Z"
   },
   {
    "duration": 17,
    "start_time": "2022-06-27T01:17:04.758Z"
   },
   {
    "duration": 8,
    "start_time": "2022-06-27T01:17:05.279Z"
   },
   {
    "duration": 10,
    "start_time": "2022-06-27T01:17:05.657Z"
   },
   {
    "duration": 10,
    "start_time": "2022-06-27T01:17:06.027Z"
   },
   {
    "duration": 9,
    "start_time": "2022-06-27T01:17:06.339Z"
   },
   {
    "duration": 33,
    "start_time": "2022-06-27T01:17:07.624Z"
   },
   {
    "duration": 24,
    "start_time": "2022-06-27T01:17:08.008Z"
   },
   {
    "duration": 19,
    "start_time": "2022-06-27T01:17:08.313Z"
   },
   {
    "duration": 4,
    "start_time": "2022-06-27T01:17:08.679Z"
   },
   {
    "duration": 5,
    "start_time": "2022-06-27T01:17:09.028Z"
   },
   {
    "duration": 22,
    "start_time": "2022-06-27T01:17:09.771Z"
   },
   {
    "duration": 16,
    "start_time": "2022-06-27T01:17:10.109Z"
   },
   {
    "duration": 14,
    "start_time": "2022-06-27T01:17:10.430Z"
   },
   {
    "duration": 7,
    "start_time": "2022-06-27T01:17:11.103Z"
   },
   {
    "duration": 97,
    "start_time": "2022-06-27T01:17:11.465Z"
   },
   {
    "duration": 65,
    "start_time": "2022-06-27T01:17:11.917Z"
   },
   {
    "duration": 44,
    "start_time": "2022-06-27T01:17:12.219Z"
   },
   {
    "duration": 8,
    "start_time": "2022-06-27T01:17:13.317Z"
   },
   {
    "duration": 7,
    "start_time": "2022-06-27T01:17:13.763Z"
   },
   {
    "duration": 16,
    "start_time": "2022-06-27T01:17:14.209Z"
   },
   {
    "duration": 17,
    "start_time": "2022-06-27T01:17:14.549Z"
   },
   {
    "duration": 15,
    "start_time": "2022-06-27T01:17:14.985Z"
   },
   {
    "duration": 15,
    "start_time": "2022-06-27T01:17:15.285Z"
   },
   {
    "duration": 207,
    "start_time": "2022-06-27T01:17:15.673Z"
   },
   {
    "duration": 17,
    "start_time": "2022-06-27T01:17:16.049Z"
   },
   {
    "duration": 179,
    "start_time": "2022-06-27T01:17:17.609Z"
   },
   {
    "duration": 154,
    "start_time": "2022-06-27T01:17:18.740Z"
   },
   {
    "duration": 4,
    "start_time": "2022-06-27T01:17:19.206Z"
   },
   {
    "duration": 11,
    "start_time": "2022-06-27T01:17:19.658Z"
   },
   {
    "duration": 4,
    "start_time": "2022-06-27T01:17:20.590Z"
   },
   {
    "duration": 6,
    "start_time": "2022-06-27T01:17:21.035Z"
   },
   {
    "duration": 4,
    "start_time": "2022-06-27T01:17:23.341Z"
   },
   {
    "duration": 4,
    "start_time": "2022-06-27T01:17:23.895Z"
   },
   {
    "duration": 42,
    "start_time": "2022-06-27T01:17:24.554Z"
   },
   {
    "duration": 5,
    "start_time": "2022-06-27T01:17:24.775Z"
   },
   {
    "duration": 4,
    "start_time": "2022-06-27T01:17:24.992Z"
   },
   {
    "duration": 11,
    "start_time": "2022-06-27T01:17:25.685Z"
   },
   {
    "duration": 3,
    "start_time": "2022-06-27T01:17:25.973Z"
   },
   {
    "duration": 14,
    "start_time": "2022-06-27T01:17:26.321Z"
   },
   {
    "duration": 22,
    "start_time": "2022-06-27T01:17:26.879Z"
   },
   {
    "duration": 4,
    "start_time": "2022-06-27T01:17:27.434Z"
   },
   {
    "duration": 5,
    "start_time": "2022-06-27T01:17:27.730Z"
   },
   {
    "duration": 6,
    "start_time": "2022-06-27T01:17:28.185Z"
   },
   {
    "duration": 11,
    "start_time": "2022-06-27T01:17:28.430Z"
   },
   {
    "duration": 3,
    "start_time": "2022-06-27T01:17:28.929Z"
   },
   {
    "duration": 11,
    "start_time": "2022-06-27T01:17:29.210Z"
   },
   {
    "duration": 12,
    "start_time": "2022-06-27T01:17:29.458Z"
   },
   {
    "duration": 5,
    "start_time": "2022-06-27T01:17:30.087Z"
   },
   {
    "duration": 3,
    "start_time": "2022-06-27T01:17:30.385Z"
   },
   {
    "duration": 4,
    "start_time": "2022-06-27T01:17:30.599Z"
   },
   {
    "duration": 7,
    "start_time": "2022-06-27T01:17:31.056Z"
   },
   {
    "duration": 14,
    "start_time": "2022-06-27T01:17:31.275Z"
   },
   {
    "duration": 3,
    "start_time": "2022-06-27T01:17:31.905Z"
   },
   {
    "duration": 8,
    "start_time": "2022-06-27T01:17:32.460Z"
   },
   {
    "duration": 12,
    "start_time": "2022-06-27T01:17:32.743Z"
   },
   {
    "duration": 7,
    "start_time": "2022-06-27T01:17:33.600Z"
   },
   {
    "duration": 17,
    "start_time": "2022-06-27T01:17:33.966Z"
   },
   {
    "duration": 11,
    "start_time": "2022-06-27T01:17:34.267Z"
   },
   {
    "duration": 7,
    "start_time": "2022-06-27T01:17:34.552Z"
   },
   {
    "duration": 3,
    "start_time": "2022-06-27T01:17:36.072Z"
   },
   {
    "duration": 3,
    "start_time": "2022-06-27T01:17:37.156Z"
   },
   {
    "duration": 3,
    "start_time": "2022-06-27T01:17:37.961Z"
   },
   {
    "duration": 3,
    "start_time": "2022-06-27T01:17:39.163Z"
   },
   {
    "duration": 6,
    "start_time": "2022-06-27T01:19:06.254Z"
   },
   {
    "duration": 16,
    "start_time": "2022-06-27T01:19:10.895Z"
   },
   {
    "duration": 4,
    "start_time": "2022-06-27T01:19:11.528Z"
   },
   {
    "duration": 4,
    "start_time": "2022-06-27T01:19:12.356Z"
   },
   {
    "duration": 12,
    "start_time": "2022-06-27T01:19:12.609Z"
   },
   {
    "duration": 3,
    "start_time": "2022-06-27T01:19:13.065Z"
   },
   {
    "duration": 3,
    "start_time": "2022-06-27T01:19:13.290Z"
   },
   {
    "duration": 3,
    "start_time": "2022-06-27T01:19:13.507Z"
   },
   {
    "duration": 12,
    "start_time": "2022-06-27T01:19:13.728Z"
   },
   {
    "duration": 65,
    "start_time": "2022-06-27T01:19:14.439Z"
   },
   {
    "duration": 3,
    "start_time": "2022-06-27T01:19:15.380Z"
   },
   {
    "duration": 7,
    "start_time": "2022-06-27T01:19:15.885Z"
   },
   {
    "duration": 10,
    "start_time": "2022-06-27T01:19:16.316Z"
   },
   {
    "duration": 4,
    "start_time": "2022-06-27T01:19:16.880Z"
   },
   {
    "duration": 5,
    "start_time": "2022-06-27T01:19:17.716Z"
   },
   {
    "duration": 10,
    "start_time": "2022-06-27T01:19:17.931Z"
   },
   {
    "duration": 5,
    "start_time": "2022-06-27T01:19:18.157Z"
   },
   {
    "duration": 8,
    "start_time": "2022-06-27T01:19:18.375Z"
   },
   {
    "duration": 6,
    "start_time": "2022-06-27T01:19:18.875Z"
   },
   {
    "duration": 4,
    "start_time": "2022-06-27T01:19:19.097Z"
   },
   {
    "duration": 4,
    "start_time": "2022-06-27T01:19:19.458Z"
   },
   {
    "duration": 4,
    "start_time": "2022-06-27T01:19:19.676Z"
   },
   {
    "duration": 4,
    "start_time": "2022-06-27T01:19:19.896Z"
   },
   {
    "duration": 4,
    "start_time": "2022-06-27T01:19:20.113Z"
   },
   {
    "duration": 4,
    "start_time": "2022-06-27T01:19:20.336Z"
   },
   {
    "duration": 4,
    "start_time": "2022-06-27T01:19:20.554Z"
   },
   {
    "duration": 148,
    "start_time": "2022-06-27T01:19:21.211Z"
   },
   {
    "duration": 4,
    "start_time": "2022-06-27T01:19:23.022Z"
   },
   {
    "duration": 3,
    "start_time": "2022-06-27T01:19:23.287Z"
   },
   {
    "duration": 4,
    "start_time": "2022-06-27T01:19:23.583Z"
   },
   {
    "duration": 4,
    "start_time": "2022-06-27T01:19:23.841Z"
   },
   {
    "duration": 5,
    "start_time": "2022-06-27T01:19:24.729Z"
   },
   {
    "duration": 5,
    "start_time": "2022-06-27T01:19:25.047Z"
   },
   {
    "duration": 5,
    "start_time": "2022-06-27T01:19:25.559Z"
   },
   {
    "duration": 5,
    "start_time": "2022-06-27T01:19:25.832Z"
   },
   {
    "duration": 5,
    "start_time": "2022-06-27T01:19:26.101Z"
   },
   {
    "duration": 4,
    "start_time": "2022-06-27T01:19:26.374Z"
   },
   {
    "duration": 4,
    "start_time": "2022-06-27T01:19:26.646Z"
   },
   {
    "duration": 4,
    "start_time": "2022-06-27T01:19:26.977Z"
   },
   {
    "duration": 156,
    "start_time": "2022-06-27T01:19:27.817Z"
   },
   {
    "duration": 4,
    "start_time": "2022-06-27T01:19:28.418Z"
   },
   {
    "duration": 9,
    "start_time": "2022-06-27T01:19:28.778Z"
   },
   {
    "duration": 4,
    "start_time": "2022-06-27T01:19:29.058Z"
   },
   {
    "duration": 5,
    "start_time": "2022-06-27T01:19:29.651Z"
   },
   {
    "duration": 4,
    "start_time": "2022-06-27T01:19:30.481Z"
   },
   {
    "duration": 13,
    "start_time": "2022-06-27T01:19:30.761Z"
   },
   {
    "duration": 3,
    "start_time": "2022-06-27T01:19:31.056Z"
   },
   {
    "duration": 4,
    "start_time": "2022-06-27T01:19:31.681Z"
   },
   {
    "duration": 5,
    "start_time": "2022-06-27T01:19:32.007Z"
   },
   {
    "duration": 4,
    "start_time": "2022-06-27T01:19:32.313Z"
   },
   {
    "duration": 5,
    "start_time": "2022-06-27T01:19:32.638Z"
   },
   {
    "duration": 4,
    "start_time": "2022-06-27T01:19:32.887Z"
   },
   {
    "duration": 4,
    "start_time": "2022-06-27T01:19:33.599Z"
   },
   {
    "duration": 152,
    "start_time": "2022-06-27T01:19:34.996Z"
   },
   {
    "duration": 5,
    "start_time": "2022-06-27T01:19:37.233Z"
   },
   {
    "duration": 7,
    "start_time": "2022-06-27T01:19:37.536Z"
   },
   {
    "duration": 6,
    "start_time": "2022-06-27T01:19:37.759Z"
   },
   {
    "duration": 6,
    "start_time": "2022-06-27T01:19:37.978Z"
   },
   {
    "duration": 7,
    "start_time": "2022-06-27T01:19:38.855Z"
   },
   {
    "duration": 8,
    "start_time": "2022-06-27T01:19:39.075Z"
   },
   {
    "duration": 4,
    "start_time": "2022-06-27T01:19:39.705Z"
   },
   {
    "duration": 4,
    "start_time": "2022-06-27T01:19:40.133Z"
   },
   {
    "duration": 3,
    "start_time": "2022-06-27T01:19:40.584Z"
   },
   {
    "duration": 4,
    "start_time": "2022-06-27T01:19:40.888Z"
   },
   {
    "duration": 145,
    "start_time": "2022-06-27T01:19:41.346Z"
   },
   {
    "duration": 14,
    "start_time": "2022-06-27T01:19:41.751Z"
   },
   {
    "duration": 13,
    "start_time": "2022-06-27T01:19:42.480Z"
   },
   {
    "duration": 3,
    "start_time": "2022-06-27T01:19:44.654Z"
   },
   {
    "duration": 3,
    "start_time": "2022-06-27T01:19:45.091Z"
   },
   {
    "duration": 3,
    "start_time": "2022-06-27T01:19:45.548Z"
   },
   {
    "duration": 5,
    "start_time": "2022-06-27T01:20:08.511Z"
   },
   {
    "duration": 5,
    "start_time": "2022-06-27T01:20:24.001Z"
   },
   {
    "duration": 44,
    "start_time": "2022-06-27T01:20:24.295Z"
   },
   {
    "duration": 6,
    "start_time": "2022-06-27T01:20:24.661Z"
   },
   {
    "duration": 5,
    "start_time": "2022-06-27T01:20:25.050Z"
   },
   {
    "duration": 6,
    "start_time": "2022-06-27T01:20:26.583Z"
   },
   {
    "duration": 15,
    "start_time": "2022-06-27T01:20:27.019Z"
   },
   {
    "duration": 6,
    "start_time": "2022-06-27T01:20:27.668Z"
   },
   {
    "duration": 13,
    "start_time": "2022-06-27T01:20:28.331Z"
   },
   {
    "duration": 5,
    "start_time": "2022-06-27T01:20:47.776Z"
   },
   {
    "duration": 13,
    "start_time": "2022-06-27T01:20:53.755Z"
   },
   {
    "duration": 3,
    "start_time": "2022-06-27T01:22:31.505Z"
   },
   {
    "duration": 103,
    "start_time": "2022-06-27T01:24:32.937Z"
   },
   {
    "duration": 3,
    "start_time": "2022-06-27T01:24:46.615Z"
   },
   {
    "duration": 87,
    "start_time": "2022-06-27T01:24:49.397Z"
   },
   {
    "duration": 3,
    "start_time": "2022-06-27T01:25:28.576Z"
   },
   {
    "duration": 3,
    "start_time": "2022-06-27T01:25:29.572Z"
   },
   {
    "duration": 5,
    "start_time": "2022-06-27T01:25:32.015Z"
   },
   {
    "duration": 23,
    "start_time": "2022-06-27T01:28:08.170Z"
   },
   {
    "duration": 1275,
    "start_time": "2022-06-27T18:17:30.781Z"
   },
   {
    "duration": 285,
    "start_time": "2022-06-27T18:17:32.058Z"
   },
   {
    "duration": 337,
    "start_time": "2022-06-27T18:17:32.345Z"
   },
   {
    "duration": 126,
    "start_time": "2022-06-27T18:17:32.685Z"
   },
   {
    "duration": 32,
    "start_time": "2022-06-27T18:17:32.813Z"
   },
   {
    "duration": 36,
    "start_time": "2022-06-27T18:17:32.846Z"
   },
   {
    "duration": 9,
    "start_time": "2022-06-27T18:17:32.883Z"
   },
   {
    "duration": 14,
    "start_time": "2022-06-27T18:17:32.893Z"
   },
   {
    "duration": 25,
    "start_time": "2022-06-27T18:17:32.909Z"
   },
   {
    "duration": 9,
    "start_time": "2022-06-27T18:17:32.937Z"
   },
   {
    "duration": 24,
    "start_time": "2022-06-27T18:17:32.948Z"
   },
   {
    "duration": 7,
    "start_time": "2022-06-27T18:17:32.974Z"
   },
   {
    "duration": 23,
    "start_time": "2022-06-27T18:17:32.983Z"
   },
   {
    "duration": 9,
    "start_time": "2022-06-27T18:17:33.023Z"
   },
   {
    "duration": 13,
    "start_time": "2022-06-27T18:17:33.034Z"
   },
   {
    "duration": 13,
    "start_time": "2022-06-27T18:17:33.049Z"
   },
   {
    "duration": 13,
    "start_time": "2022-06-27T18:17:33.064Z"
   },
   {
    "duration": 55,
    "start_time": "2022-06-27T18:17:33.079Z"
   },
   {
    "duration": 26,
    "start_time": "2022-06-27T18:17:33.136Z"
   },
   {
    "duration": 22,
    "start_time": "2022-06-27T18:17:33.164Z"
   },
   {
    "duration": 7,
    "start_time": "2022-06-27T18:17:33.188Z"
   },
   {
    "duration": 31,
    "start_time": "2022-06-27T18:17:33.198Z"
   },
   {
    "duration": 30,
    "start_time": "2022-06-27T18:17:33.231Z"
   },
   {
    "duration": 19,
    "start_time": "2022-06-27T18:17:33.262Z"
   },
   {
    "duration": 15,
    "start_time": "2022-06-27T18:17:33.283Z"
   },
   {
    "duration": 25,
    "start_time": "2022-06-27T18:17:33.299Z"
   },
   {
    "duration": 131,
    "start_time": "2022-06-27T18:17:33.326Z"
   },
   {
    "duration": 74,
    "start_time": "2022-06-27T18:17:33.461Z"
   },
   {
    "duration": 43,
    "start_time": "2022-06-27T18:17:33.536Z"
   },
   {
    "duration": 8,
    "start_time": "2022-06-27T18:17:33.580Z"
   },
   {
    "duration": 15,
    "start_time": "2022-06-27T18:17:33.590Z"
   },
   {
    "duration": 34,
    "start_time": "2022-06-27T18:17:33.607Z"
   },
   {
    "duration": 20,
    "start_time": "2022-06-27T18:17:33.643Z"
   },
   {
    "duration": 17,
    "start_time": "2022-06-27T18:17:33.664Z"
   },
   {
    "duration": 42,
    "start_time": "2022-06-27T18:17:33.684Z"
   },
   {
    "duration": 236,
    "start_time": "2022-06-27T18:17:33.728Z"
   },
   {
    "duration": 23,
    "start_time": "2022-06-27T18:17:33.966Z"
   },
   {
    "duration": 222,
    "start_time": "2022-06-27T18:17:33.991Z"
   },
   {
    "duration": 28,
    "start_time": "2022-06-27T18:17:34.214Z"
   },
   {
    "duration": 147,
    "start_time": "2022-06-27T18:17:34.244Z"
   },
   {
    "duration": 4,
    "start_time": "2022-06-27T18:17:34.392Z"
   },
   {
    "duration": 26,
    "start_time": "2022-06-27T18:17:34.398Z"
   },
   {
    "duration": 4,
    "start_time": "2022-06-27T18:17:34.425Z"
   },
   {
    "duration": 8,
    "start_time": "2022-06-27T18:17:34.431Z"
   },
   {
    "duration": 4,
    "start_time": "2022-06-27T18:17:34.440Z"
   },
   {
    "duration": 7,
    "start_time": "2022-06-27T18:17:34.445Z"
   },
   {
    "duration": 45,
    "start_time": "2022-06-27T18:17:34.453Z"
   },
   {
    "duration": 6,
    "start_time": "2022-06-27T18:17:34.522Z"
   },
   {
    "duration": 7,
    "start_time": "2022-06-27T18:17:34.530Z"
   },
   {
    "duration": 16,
    "start_time": "2022-06-27T18:17:34.538Z"
   },
   {
    "duration": 4,
    "start_time": "2022-06-27T18:17:34.555Z"
   },
   {
    "duration": 16,
    "start_time": "2022-06-27T18:17:34.561Z"
   },
   {
    "duration": 54,
    "start_time": "2022-06-27T18:17:34.579Z"
   },
   {
    "duration": 5,
    "start_time": "2022-06-27T18:17:34.635Z"
   },
   {
    "duration": 5,
    "start_time": "2022-06-27T18:17:34.641Z"
   },
   {
    "duration": 10,
    "start_time": "2022-06-27T18:17:34.647Z"
   },
   {
    "duration": 11,
    "start_time": "2022-06-27T18:17:34.658Z"
   },
   {
    "duration": 4,
    "start_time": "2022-06-27T18:17:34.671Z"
   },
   {
    "duration": 14,
    "start_time": "2022-06-27T18:17:34.676Z"
   },
   {
    "duration": 42,
    "start_time": "2022-06-27T18:17:34.691Z"
   },
   {
    "duration": 5,
    "start_time": "2022-06-27T18:17:34.735Z"
   },
   {
    "duration": 9,
    "start_time": "2022-06-27T18:17:34.741Z"
   },
   {
    "duration": 9,
    "start_time": "2022-06-27T18:17:34.751Z"
   },
   {
    "duration": 9,
    "start_time": "2022-06-27T18:17:34.761Z"
   },
   {
    "duration": 15,
    "start_time": "2022-06-27T18:17:34.772Z"
   },
   {
    "duration": 4,
    "start_time": "2022-06-27T18:17:34.788Z"
   },
   {
    "duration": 35,
    "start_time": "2022-06-27T18:17:34.793Z"
   },
   {
    "duration": 12,
    "start_time": "2022-06-27T18:17:34.829Z"
   },
   {
    "duration": 9,
    "start_time": "2022-06-27T18:17:34.843Z"
   },
   {
    "duration": 18,
    "start_time": "2022-06-27T18:17:34.854Z"
   },
   {
    "duration": 25,
    "start_time": "2022-06-27T18:17:34.874Z"
   },
   {
    "duration": 33,
    "start_time": "2022-06-27T18:17:34.901Z"
   },
   {
    "duration": 29,
    "start_time": "2022-06-27T18:17:34.936Z"
   },
   {
    "duration": 8,
    "start_time": "2022-06-27T18:17:34.967Z"
   },
   {
    "duration": 23,
    "start_time": "2022-06-27T18:17:34.977Z"
   },
   {
    "duration": 19,
    "start_time": "2022-06-27T18:17:35.002Z"
   },
   {
    "duration": 14,
    "start_time": "2022-06-27T18:17:35.023Z"
   },
   {
    "duration": 18,
    "start_time": "2022-06-27T18:17:35.040Z"
   },
   {
    "duration": 12,
    "start_time": "2022-06-27T18:17:35.060Z"
   },
   {
    "duration": 12,
    "start_time": "2022-06-27T18:17:35.074Z"
   },
   {
    "duration": 15,
    "start_time": "2022-06-27T18:17:35.087Z"
   },
   {
    "duration": 4,
    "start_time": "2022-06-27T18:17:35.109Z"
   },
   {
    "duration": 10,
    "start_time": "2022-06-27T18:17:35.115Z"
   },
   {
    "duration": 23,
    "start_time": "2022-06-27T18:17:35.127Z"
   },
   {
    "duration": 30,
    "start_time": "2022-06-27T18:17:35.151Z"
   },
   {
    "duration": 73,
    "start_time": "2022-06-27T18:17:35.183Z"
   },
   {
    "duration": 3,
    "start_time": "2022-06-27T18:17:35.258Z"
   },
   {
    "duration": 33,
    "start_time": "2022-06-27T18:17:35.263Z"
   },
   {
    "duration": 21,
    "start_time": "2022-06-27T18:17:35.298Z"
   },
   {
    "duration": 25,
    "start_time": "2022-06-27T18:17:35.321Z"
   },
   {
    "duration": 17,
    "start_time": "2022-06-27T18:17:35.348Z"
   },
   {
    "duration": 26,
    "start_time": "2022-06-27T18:17:35.366Z"
   },
   {
    "duration": 20,
    "start_time": "2022-06-27T18:17:35.394Z"
   },
   {
    "duration": 27,
    "start_time": "2022-06-27T18:17:35.416Z"
   },
   {
    "duration": 9,
    "start_time": "2022-06-27T18:17:35.445Z"
   },
   {
    "duration": 34,
    "start_time": "2022-06-27T18:17:35.456Z"
   },
   {
    "duration": 16,
    "start_time": "2022-06-27T18:17:35.491Z"
   },
   {
    "duration": 18,
    "start_time": "2022-06-27T18:17:35.508Z"
   },
   {
    "duration": 14,
    "start_time": "2022-06-27T18:17:35.528Z"
   },
   {
    "duration": 11,
    "start_time": "2022-06-27T18:17:35.544Z"
   },
   {
    "duration": 25,
    "start_time": "2022-06-27T18:17:35.556Z"
   },
   {
    "duration": 10,
    "start_time": "2022-06-27T18:17:35.583Z"
   },
   {
    "duration": 187,
    "start_time": "2022-06-27T18:17:35.594Z"
   },
   {
    "duration": 5,
    "start_time": "2022-06-27T18:17:35.783Z"
   },
   {
    "duration": 8,
    "start_time": "2022-06-27T18:17:35.789Z"
   },
   {
    "duration": 7,
    "start_time": "2022-06-27T18:17:35.799Z"
   },
   {
    "duration": 16,
    "start_time": "2022-06-27T18:17:35.808Z"
   },
   {
    "duration": 6,
    "start_time": "2022-06-27T18:17:35.827Z"
   },
   {
    "duration": 9,
    "start_time": "2022-06-27T18:17:35.835Z"
   },
   {
    "duration": 9,
    "start_time": "2022-06-27T18:17:35.846Z"
   },
   {
    "duration": 9,
    "start_time": "2022-06-27T18:17:35.857Z"
   },
   {
    "duration": 7,
    "start_time": "2022-06-27T18:17:35.868Z"
   },
   {
    "duration": 8,
    "start_time": "2022-06-27T18:17:35.877Z"
   },
   {
    "duration": 7,
    "start_time": "2022-06-27T18:17:35.886Z"
   },
   {
    "duration": 29,
    "start_time": "2022-06-27T18:17:35.895Z"
   },
   {
    "duration": 223,
    "start_time": "2022-06-27T18:17:35.927Z"
   },
   {
    "duration": 5,
    "start_time": "2022-06-27T18:17:36.152Z"
   },
   {
    "duration": 19,
    "start_time": "2022-06-27T18:17:36.159Z"
   },
   {
    "duration": 6,
    "start_time": "2022-06-27T18:17:36.181Z"
   },
   {
    "duration": 10,
    "start_time": "2022-06-27T18:17:36.188Z"
   },
   {
    "duration": 10,
    "start_time": "2022-06-27T18:17:36.199Z"
   },
   {
    "duration": 19,
    "start_time": "2022-06-27T18:17:36.211Z"
   },
   {
    "duration": 7,
    "start_time": "2022-06-27T18:17:36.232Z"
   },
   {
    "duration": 9,
    "start_time": "2022-06-27T18:17:36.241Z"
   },
   {
    "duration": 7,
    "start_time": "2022-06-27T18:17:36.251Z"
   },
   {
    "duration": 8,
    "start_time": "2022-06-27T18:17:36.260Z"
   },
   {
    "duration": 9,
    "start_time": "2022-06-27T18:17:36.269Z"
   },
   {
    "duration": 6,
    "start_time": "2022-06-27T18:17:36.279Z"
   },
   {
    "duration": 8,
    "start_time": "2022-06-27T18:17:36.286Z"
   },
   {
    "duration": 188,
    "start_time": "2022-06-27T18:17:36.295Z"
   },
   {
    "duration": 5,
    "start_time": "2022-06-27T18:17:36.485Z"
   },
   {
    "duration": 23,
    "start_time": "2022-06-27T18:17:36.492Z"
   },
   {
    "duration": 13,
    "start_time": "2022-06-27T18:17:36.517Z"
   },
   {
    "duration": 17,
    "start_time": "2022-06-27T18:17:36.531Z"
   },
   {
    "duration": 30,
    "start_time": "2022-06-27T18:17:36.550Z"
   },
   {
    "duration": 8,
    "start_time": "2022-06-27T18:17:36.582Z"
   },
   {
    "duration": 14,
    "start_time": "2022-06-27T18:17:36.592Z"
   },
   {
    "duration": 26,
    "start_time": "2022-06-27T18:17:36.607Z"
   },
   {
    "duration": 11,
    "start_time": "2022-06-27T18:17:36.635Z"
   },
   {
    "duration": 18,
    "start_time": "2022-06-27T18:17:36.648Z"
   },
   {
    "duration": 167,
    "start_time": "2022-06-27T18:17:36.668Z"
   },
   {
    "duration": 15,
    "start_time": "2022-06-27T18:17:36.836Z"
   },
   {
    "duration": 32,
    "start_time": "2022-06-27T18:17:36.853Z"
   },
   {
    "duration": 5,
    "start_time": "2022-06-27T18:17:36.887Z"
   },
   {
    "duration": 13,
    "start_time": "2022-06-27T18:17:36.894Z"
   },
   {
    "duration": 12,
    "start_time": "2022-06-27T18:17:36.908Z"
   },
   {
    "duration": 7,
    "start_time": "2022-06-27T18:17:36.922Z"
   },
   {
    "duration": 28,
    "start_time": "2022-06-27T18:17:36.931Z"
   },
   {
    "duration": 73,
    "start_time": "2022-06-27T18:17:36.961Z"
   },
   {
    "duration": 28,
    "start_time": "2022-06-27T18:17:37.036Z"
   },
   {
    "duration": 17,
    "start_time": "2022-06-27T18:17:37.065Z"
   },
   {
    "duration": 13,
    "start_time": "2022-06-27T18:17:37.083Z"
   },
   {
    "duration": 22,
    "start_time": "2022-06-27T18:17:37.097Z"
   },
   {
    "duration": 6,
    "start_time": "2022-06-27T18:17:37.121Z"
   },
   {
    "duration": 39,
    "start_time": "2022-06-27T18:17:37.129Z"
   },
   {
    "duration": 26,
    "start_time": "2022-06-27T18:17:37.170Z"
   },
   {
    "duration": 29,
    "start_time": "2022-06-27T18:17:37.198Z"
   },
   {
    "duration": 27,
    "start_time": "2022-06-27T18:17:37.229Z"
   },
   {
    "duration": 37,
    "start_time": "2022-06-27T18:17:37.258Z"
   },
   {
    "duration": 34,
    "start_time": "2022-06-27T18:17:37.297Z"
   },
   {
    "duration": 17,
    "start_time": "2022-06-27T18:34:40.325Z"
   },
   {
    "duration": 12,
    "start_time": "2022-06-27T18:36:15.979Z"
   },
   {
    "duration": 1129,
    "start_time": "2022-06-27T18:36:49.638Z"
   },
   {
    "duration": 204,
    "start_time": "2022-06-27T18:36:50.771Z"
   },
   {
    "duration": 128,
    "start_time": "2022-06-27T18:36:50.978Z"
   },
   {
    "duration": 87,
    "start_time": "2022-06-27T18:36:51.107Z"
   },
   {
    "duration": 9,
    "start_time": "2022-06-27T18:36:51.197Z"
   },
   {
    "duration": 16,
    "start_time": "2022-06-27T18:36:51.208Z"
   },
   {
    "duration": 8,
    "start_time": "2022-06-27T18:36:51.226Z"
   },
   {
    "duration": 18,
    "start_time": "2022-06-27T18:36:51.235Z"
   },
   {
    "duration": 28,
    "start_time": "2022-06-27T18:36:51.255Z"
   },
   {
    "duration": 9,
    "start_time": "2022-06-27T18:36:51.284Z"
   },
   {
    "duration": 44,
    "start_time": "2022-06-27T18:36:51.295Z"
   },
   {
    "duration": 7,
    "start_time": "2022-06-27T18:36:51.341Z"
   },
   {
    "duration": 34,
    "start_time": "2022-06-27T18:36:51.350Z"
   },
   {
    "duration": 7,
    "start_time": "2022-06-27T18:36:51.388Z"
   },
   {
    "duration": 30,
    "start_time": "2022-06-27T18:36:51.397Z"
   },
   {
    "duration": 13,
    "start_time": "2022-06-27T18:36:51.429Z"
   },
   {
    "duration": 13,
    "start_time": "2022-06-27T18:36:51.444Z"
   },
   {
    "duration": 86,
    "start_time": "2022-06-27T18:36:51.459Z"
   },
   {
    "duration": 34,
    "start_time": "2022-06-27T18:36:51.548Z"
   },
   {
    "duration": 21,
    "start_time": "2022-06-27T18:36:51.583Z"
   },
   {
    "duration": 18,
    "start_time": "2022-06-27T18:36:51.606Z"
   },
   {
    "duration": 12,
    "start_time": "2022-06-27T18:36:51.625Z"
   },
   {
    "duration": 26,
    "start_time": "2022-06-27T18:36:51.638Z"
   },
   {
    "duration": 16,
    "start_time": "2022-06-27T18:36:51.665Z"
   },
   {
    "duration": 13,
    "start_time": "2022-06-27T18:36:51.683Z"
   },
   {
    "duration": 6,
    "start_time": "2022-06-27T18:36:51.697Z"
   },
   {
    "duration": 135,
    "start_time": "2022-06-27T18:36:51.704Z"
   },
   {
    "duration": 70,
    "start_time": "2022-06-27T18:36:51.841Z"
   },
   {
    "duration": 58,
    "start_time": "2022-06-27T18:36:51.913Z"
   },
   {
    "duration": 8,
    "start_time": "2022-06-27T18:36:51.973Z"
   },
   {
    "duration": 9,
    "start_time": "2022-06-27T18:36:51.983Z"
   },
   {
    "duration": 46,
    "start_time": "2022-06-27T18:36:51.994Z"
   },
   {
    "duration": 19,
    "start_time": "2022-06-27T18:36:52.042Z"
   },
   {
    "duration": 17,
    "start_time": "2022-06-27T18:36:52.063Z"
   },
   {
    "duration": 16,
    "start_time": "2022-06-27T18:36:52.082Z"
   },
   {
    "duration": 232,
    "start_time": "2022-06-27T18:36:52.123Z"
   },
   {
    "duration": 20,
    "start_time": "2022-06-27T18:36:52.356Z"
   },
   {
    "duration": 231,
    "start_time": "2022-06-27T18:36:52.377Z"
   },
   {
    "duration": 28,
    "start_time": "2022-06-27T18:36:52.610Z"
   },
   {
    "duration": 159,
    "start_time": "2022-06-27T18:36:52.640Z"
   },
   {
    "duration": 4,
    "start_time": "2022-06-27T18:36:52.804Z"
   },
   {
    "duration": 22,
    "start_time": "2022-06-27T18:36:52.810Z"
   },
   {
    "duration": 5,
    "start_time": "2022-06-27T18:36:52.834Z"
   },
   {
    "duration": 9,
    "start_time": "2022-06-27T18:36:52.840Z"
   },
   {
    "duration": 3,
    "start_time": "2022-06-27T18:36:52.851Z"
   },
   {
    "duration": 8,
    "start_time": "2022-06-27T18:36:52.856Z"
   },
   {
    "duration": 72,
    "start_time": "2022-06-27T18:36:52.865Z"
   },
   {
    "duration": 8,
    "start_time": "2022-06-27T18:36:52.939Z"
   },
   {
    "duration": 6,
    "start_time": "2022-06-27T18:36:52.948Z"
   },
   {
    "duration": 19,
    "start_time": "2022-06-27T18:36:52.956Z"
   },
   {
    "duration": 5,
    "start_time": "2022-06-27T18:36:52.976Z"
   },
   {
    "duration": 48,
    "start_time": "2022-06-27T18:36:52.983Z"
   },
   {
    "duration": 29,
    "start_time": "2022-06-27T18:36:53.033Z"
   },
   {
    "duration": 6,
    "start_time": "2022-06-27T18:36:53.064Z"
   },
   {
    "duration": 12,
    "start_time": "2022-06-27T18:36:53.071Z"
   },
   {
    "duration": 9,
    "start_time": "2022-06-27T18:36:53.085Z"
   },
   {
    "duration": 32,
    "start_time": "2022-06-27T18:36:53.095Z"
   },
   {
    "duration": 7,
    "start_time": "2022-06-27T18:36:53.129Z"
   },
   {
    "duration": 15,
    "start_time": "2022-06-27T18:36:53.138Z"
   },
   {
    "duration": 22,
    "start_time": "2022-06-27T18:36:53.155Z"
   },
   {
    "duration": 6,
    "start_time": "2022-06-27T18:36:53.179Z"
   },
   {
    "duration": 7,
    "start_time": "2022-06-27T18:36:53.186Z"
   },
   {
    "duration": 29,
    "start_time": "2022-06-27T18:36:53.194Z"
   },
   {
    "duration": 11,
    "start_time": "2022-06-27T18:36:53.225Z"
   },
   {
    "duration": 17,
    "start_time": "2022-06-27T18:36:53.238Z"
   },
   {
    "duration": 8,
    "start_time": "2022-06-27T18:36:53.257Z"
   },
   {
    "duration": 11,
    "start_time": "2022-06-27T18:36:53.266Z"
   },
   {
    "duration": 19,
    "start_time": "2022-06-27T18:36:53.279Z"
   },
   {
    "duration": 31,
    "start_time": "2022-06-27T18:36:53.299Z"
   },
   {
    "duration": 7,
    "start_time": "2022-06-27T18:36:53.332Z"
   },
   {
    "duration": 19,
    "start_time": "2022-06-27T18:36:53.340Z"
   },
   {
    "duration": 13,
    "start_time": "2022-06-27T18:36:53.361Z"
   },
   {
    "duration": 7,
    "start_time": "2022-06-27T18:36:53.376Z"
   },
   {
    "duration": 4,
    "start_time": "2022-06-27T18:36:53.385Z"
   },
   {
    "duration": 32,
    "start_time": "2022-06-27T18:36:53.391Z"
   },
   {
    "duration": 3,
    "start_time": "2022-06-27T18:36:53.425Z"
   },
   {
    "duration": 7,
    "start_time": "2022-06-27T18:36:53.430Z"
   },
   {
    "duration": 9,
    "start_time": "2022-06-27T18:36:53.439Z"
   },
   {
    "duration": 19,
    "start_time": "2022-06-27T18:36:53.449Z"
   },
   {
    "duration": 5,
    "start_time": "2022-06-27T18:36:53.470Z"
   },
   {
    "duration": 5,
    "start_time": "2022-06-27T18:36:53.476Z"
   },
   {
    "duration": 15,
    "start_time": "2022-06-27T18:36:53.483Z"
   },
   {
    "duration": 4,
    "start_time": "2022-06-27T18:36:53.522Z"
   },
   {
    "duration": 9,
    "start_time": "2022-06-27T18:36:53.528Z"
   },
   {
    "duration": 13,
    "start_time": "2022-06-27T18:36:53.539Z"
   },
   {
    "duration": 28,
    "start_time": "2022-06-27T18:36:53.553Z"
   },
   {
    "duration": 67,
    "start_time": "2022-06-27T18:36:53.583Z"
   },
   {
    "duration": 3,
    "start_time": "2022-06-27T18:36:53.652Z"
   },
   {
    "duration": 13,
    "start_time": "2022-06-27T18:36:53.657Z"
   },
   {
    "duration": 22,
    "start_time": "2022-06-27T18:36:53.672Z"
   },
   {
    "duration": 5,
    "start_time": "2022-06-27T18:36:53.696Z"
   },
   {
    "duration": 22,
    "start_time": "2022-06-27T18:36:53.702Z"
   },
   {
    "duration": 9,
    "start_time": "2022-06-27T18:36:53.725Z"
   },
   {
    "duration": 16,
    "start_time": "2022-06-27T18:36:53.735Z"
   },
   {
    "duration": 28,
    "start_time": "2022-06-27T18:36:53.753Z"
   },
   {
    "duration": 13,
    "start_time": "2022-06-27T18:36:53.783Z"
   },
   {
    "duration": 15,
    "start_time": "2022-06-27T18:36:53.798Z"
   },
   {
    "duration": 18,
    "start_time": "2022-06-27T18:36:53.815Z"
   },
   {
    "duration": 14,
    "start_time": "2022-06-27T18:36:53.834Z"
   },
   {
    "duration": 12,
    "start_time": "2022-06-27T18:36:53.850Z"
   },
   {
    "duration": 9,
    "start_time": "2022-06-27T18:36:53.864Z"
   },
   {
    "duration": 15,
    "start_time": "2022-06-27T18:36:53.874Z"
   },
   {
    "duration": 11,
    "start_time": "2022-06-27T18:36:53.891Z"
   },
   {
    "duration": 179,
    "start_time": "2022-06-27T18:36:53.904Z"
   },
   {
    "duration": 4,
    "start_time": "2022-06-27T18:36:54.085Z"
   },
   {
    "duration": 9,
    "start_time": "2022-06-27T18:36:54.091Z"
   },
   {
    "duration": 16,
    "start_time": "2022-06-27T18:36:54.101Z"
   },
   {
    "duration": 18,
    "start_time": "2022-06-27T18:36:54.118Z"
   },
   {
    "duration": 11,
    "start_time": "2022-06-27T18:36:54.138Z"
   },
   {
    "duration": 15,
    "start_time": "2022-06-27T18:36:54.151Z"
   },
   {
    "duration": 9,
    "start_time": "2022-06-27T18:36:54.167Z"
   },
   {
    "duration": 16,
    "start_time": "2022-06-27T18:36:54.178Z"
   },
   {
    "duration": 11,
    "start_time": "2022-06-27T18:36:54.195Z"
   },
   {
    "duration": 11,
    "start_time": "2022-06-27T18:36:54.208Z"
   },
   {
    "duration": 13,
    "start_time": "2022-06-27T18:36:54.221Z"
   },
   {
    "duration": 19,
    "start_time": "2022-06-27T18:36:54.235Z"
   },
   {
    "duration": 182,
    "start_time": "2022-06-27T18:36:54.255Z"
   },
   {
    "duration": 5,
    "start_time": "2022-06-27T18:36:54.439Z"
   },
   {
    "duration": 20,
    "start_time": "2022-06-27T18:36:54.446Z"
   },
   {
    "duration": 11,
    "start_time": "2022-06-27T18:36:54.469Z"
   },
   {
    "duration": 8,
    "start_time": "2022-06-27T18:36:54.482Z"
   },
   {
    "duration": 27,
    "start_time": "2022-06-27T18:36:54.497Z"
   },
   {
    "duration": 15,
    "start_time": "2022-06-27T18:36:54.526Z"
   },
   {
    "duration": 8,
    "start_time": "2022-06-27T18:36:54.543Z"
   },
   {
    "duration": 12,
    "start_time": "2022-06-27T18:36:54.552Z"
   },
   {
    "duration": 6,
    "start_time": "2022-06-27T18:36:54.565Z"
   },
   {
    "duration": 8,
    "start_time": "2022-06-27T18:36:54.572Z"
   },
   {
    "duration": 8,
    "start_time": "2022-06-27T18:36:54.581Z"
   },
   {
    "duration": 6,
    "start_time": "2022-06-27T18:36:54.590Z"
   },
   {
    "duration": 7,
    "start_time": "2022-06-27T18:36:54.623Z"
   },
   {
    "duration": 180,
    "start_time": "2022-06-27T18:36:54.631Z"
   },
   {
    "duration": 12,
    "start_time": "2022-06-27T18:36:54.812Z"
   },
   {
    "duration": 12,
    "start_time": "2022-06-27T18:36:54.826Z"
   },
   {
    "duration": 10,
    "start_time": "2022-06-27T18:36:54.839Z"
   },
   {
    "duration": 9,
    "start_time": "2022-06-27T18:36:54.850Z"
   },
   {
    "duration": 17,
    "start_time": "2022-06-27T18:36:54.861Z"
   },
   {
    "duration": 10,
    "start_time": "2022-06-27T18:36:54.880Z"
   },
   {
    "duration": 8,
    "start_time": "2022-06-27T18:36:54.892Z"
   },
   {
    "duration": 8,
    "start_time": "2022-06-27T18:36:54.901Z"
   },
   {
    "duration": 4,
    "start_time": "2022-06-27T18:36:54.923Z"
   },
   {
    "duration": 6,
    "start_time": "2022-06-27T18:36:54.928Z"
   },
   {
    "duration": 188,
    "start_time": "2022-06-27T18:36:54.936Z"
   },
   {
    "duration": 15,
    "start_time": "2022-06-27T18:36:55.126Z"
   },
   {
    "duration": 15,
    "start_time": "2022-06-27T18:36:55.142Z"
   },
   {
    "duration": 6,
    "start_time": "2022-06-27T18:36:55.158Z"
   },
   {
    "duration": 5,
    "start_time": "2022-06-27T18:36:55.166Z"
   },
   {
    "duration": 6,
    "start_time": "2022-06-27T18:36:55.173Z"
   },
   {
    "duration": 10,
    "start_time": "2022-06-27T18:36:55.180Z"
   },
   {
    "duration": 4,
    "start_time": "2022-06-27T18:36:55.224Z"
   },
   {
    "duration": 50,
    "start_time": "2022-06-27T18:36:55.230Z"
   },
   {
    "duration": 6,
    "start_time": "2022-06-27T18:36:55.281Z"
   },
   {
    "duration": 34,
    "start_time": "2022-06-27T18:36:55.289Z"
   },
   {
    "duration": 12,
    "start_time": "2022-06-27T18:36:55.325Z"
   },
   {
    "duration": 23,
    "start_time": "2022-06-27T18:36:55.339Z"
   },
   {
    "duration": 13,
    "start_time": "2022-06-27T18:36:55.364Z"
   },
   {
    "duration": 16,
    "start_time": "2022-06-27T18:36:55.378Z"
   },
   {
    "duration": 6,
    "start_time": "2022-06-27T18:36:55.395Z"
   },
   {
    "duration": 27,
    "start_time": "2022-06-27T18:36:55.403Z"
   },
   {
    "duration": 5,
    "start_time": "2022-06-27T18:36:55.431Z"
   },
   {
    "duration": 15,
    "start_time": "2022-06-27T18:36:55.437Z"
   },
   {
    "duration": 7,
    "start_time": "2022-06-27T18:36:55.453Z"
   },
   {
    "duration": 10,
    "start_time": "2022-06-27T18:38:17.414Z"
   },
   {
    "duration": 16,
    "start_time": "2022-06-27T18:40:13.529Z"
   },
   {
    "duration": 10,
    "start_time": "2022-06-27T18:40:28.082Z"
   },
   {
    "duration": 9,
    "start_time": "2022-06-27T18:44:53.747Z"
   },
   {
    "duration": 14,
    "start_time": "2022-06-27T18:45:15.084Z"
   },
   {
    "duration": 18,
    "start_time": "2022-06-27T18:52:05.225Z"
   },
   {
    "duration": 1052,
    "start_time": "2022-06-27T18:52:20.148Z"
   },
   {
    "duration": 220,
    "start_time": "2022-06-27T18:52:21.202Z"
   },
   {
    "duration": 132,
    "start_time": "2022-06-27T18:52:21.424Z"
   },
   {
    "duration": 88,
    "start_time": "2022-06-27T18:52:21.558Z"
   },
   {
    "duration": 9,
    "start_time": "2022-06-27T18:52:21.647Z"
   },
   {
    "duration": 23,
    "start_time": "2022-06-27T18:52:21.658Z"
   },
   {
    "duration": 8,
    "start_time": "2022-06-27T18:52:21.682Z"
   },
   {
    "duration": 14,
    "start_time": "2022-06-27T18:52:21.691Z"
   },
   {
    "duration": 28,
    "start_time": "2022-06-27T18:52:21.707Z"
   },
   {
    "duration": 9,
    "start_time": "2022-06-27T18:52:21.738Z"
   },
   {
    "duration": 29,
    "start_time": "2022-06-27T18:52:21.748Z"
   },
   {
    "duration": 8,
    "start_time": "2022-06-27T18:52:21.778Z"
   },
   {
    "duration": 25,
    "start_time": "2022-06-27T18:52:21.787Z"
   },
   {
    "duration": 17,
    "start_time": "2022-06-27T18:52:21.813Z"
   },
   {
    "duration": 14,
    "start_time": "2022-06-27T18:52:21.831Z"
   },
   {
    "duration": 14,
    "start_time": "2022-06-27T18:52:21.847Z"
   },
   {
    "duration": 16,
    "start_time": "2022-06-27T18:52:21.862Z"
   },
   {
    "duration": 50,
    "start_time": "2022-06-27T18:52:21.880Z"
   },
   {
    "duration": 33,
    "start_time": "2022-06-27T18:52:21.932Z"
   },
   {
    "duration": 22,
    "start_time": "2022-06-27T18:52:21.968Z"
   },
   {
    "duration": 4,
    "start_time": "2022-06-27T18:52:21.991Z"
   },
   {
    "duration": 27,
    "start_time": "2022-06-27T18:52:21.996Z"
   },
   {
    "duration": 29,
    "start_time": "2022-06-27T18:52:22.025Z"
   },
   {
    "duration": 16,
    "start_time": "2022-06-27T18:52:22.056Z"
   },
   {
    "duration": 14,
    "start_time": "2022-06-27T18:52:22.074Z"
   },
   {
    "duration": 7,
    "start_time": "2022-06-27T18:52:22.090Z"
   },
   {
    "duration": 129,
    "start_time": "2022-06-27T18:52:22.098Z"
   },
   {
    "duration": 62,
    "start_time": "2022-06-27T18:52:22.232Z"
   },
   {
    "duration": 57,
    "start_time": "2022-06-27T18:52:22.295Z"
   },
   {
    "duration": 6,
    "start_time": "2022-06-27T18:52:22.354Z"
   },
   {
    "duration": 11,
    "start_time": "2022-06-27T18:52:22.361Z"
   },
   {
    "duration": 32,
    "start_time": "2022-06-27T18:52:22.373Z"
   },
   {
    "duration": 32,
    "start_time": "2022-06-27T18:52:22.406Z"
   },
   {
    "duration": 16,
    "start_time": "2022-06-27T18:52:22.440Z"
   },
   {
    "duration": 25,
    "start_time": "2022-06-27T18:52:22.457Z"
   },
   {
    "duration": 274,
    "start_time": "2022-06-27T18:52:22.484Z"
   },
   {
    "duration": 18,
    "start_time": "2022-06-27T18:52:22.759Z"
   },
   {
    "duration": 209,
    "start_time": "2022-06-27T18:52:22.779Z"
   },
   {
    "duration": 17,
    "start_time": "2022-06-27T18:52:22.990Z"
   },
   {
    "duration": 146,
    "start_time": "2022-06-27T18:52:23.009Z"
   },
   {
    "duration": 5,
    "start_time": "2022-06-27T18:52:23.156Z"
   },
   {
    "duration": 29,
    "start_time": "2022-06-27T18:52:23.163Z"
   },
   {
    "duration": 5,
    "start_time": "2022-06-27T18:52:23.194Z"
   },
   {
    "duration": 17,
    "start_time": "2022-06-27T18:52:23.200Z"
   },
   {
    "duration": 6,
    "start_time": "2022-06-27T18:52:23.219Z"
   },
   {
    "duration": 11,
    "start_time": "2022-06-27T18:52:23.226Z"
   },
   {
    "duration": 57,
    "start_time": "2022-06-27T18:52:23.238Z"
   },
   {
    "duration": 8,
    "start_time": "2022-06-27T18:52:23.296Z"
   },
   {
    "duration": 7,
    "start_time": "2022-06-27T18:52:23.306Z"
   },
   {
    "duration": 20,
    "start_time": "2022-06-27T18:52:23.314Z"
   },
   {
    "duration": 3,
    "start_time": "2022-06-27T18:52:23.336Z"
   },
   {
    "duration": 18,
    "start_time": "2022-06-27T18:52:23.341Z"
   },
   {
    "duration": 24,
    "start_time": "2022-06-27T18:52:23.360Z"
   },
   {
    "duration": 4,
    "start_time": "2022-06-27T18:52:23.386Z"
   },
   {
    "duration": 7,
    "start_time": "2022-06-27T18:52:23.391Z"
   },
   {
    "duration": 29,
    "start_time": "2022-06-27T18:52:23.399Z"
   },
   {
    "duration": 13,
    "start_time": "2022-06-27T18:52:23.430Z"
   },
   {
    "duration": 5,
    "start_time": "2022-06-27T18:52:23.445Z"
   },
   {
    "duration": 17,
    "start_time": "2022-06-27T18:52:23.452Z"
   },
   {
    "duration": 27,
    "start_time": "2022-06-27T18:52:23.470Z"
   },
   {
    "duration": 4,
    "start_time": "2022-06-27T18:52:23.499Z"
   },
   {
    "duration": 4,
    "start_time": "2022-06-27T18:52:23.523Z"
   },
   {
    "duration": 8,
    "start_time": "2022-06-27T18:52:23.529Z"
   },
   {
    "duration": 12,
    "start_time": "2022-06-27T18:52:23.539Z"
   },
   {
    "duration": 15,
    "start_time": "2022-06-27T18:52:23.552Z"
   },
   {
    "duration": 3,
    "start_time": "2022-06-27T18:52:23.569Z"
   },
   {
    "duration": 19,
    "start_time": "2022-06-27T18:52:23.573Z"
   },
   {
    "duration": 30,
    "start_time": "2022-06-27T18:52:23.593Z"
   },
   {
    "duration": 8,
    "start_time": "2022-06-27T18:52:23.625Z"
   },
   {
    "duration": 25,
    "start_time": "2022-06-27T18:52:23.635Z"
   },
   {
    "duration": 13,
    "start_time": "2022-06-27T18:52:23.662Z"
   },
   {
    "duration": 6,
    "start_time": "2022-06-27T18:52:23.676Z"
   },
   {
    "duration": 3,
    "start_time": "2022-06-27T18:52:23.683Z"
   },
   {
    "duration": 8,
    "start_time": "2022-06-27T18:52:23.687Z"
   },
   {
    "duration": 10,
    "start_time": "2022-06-27T18:52:23.697Z"
   },
   {
    "duration": 3,
    "start_time": "2022-06-27T18:52:23.723Z"
   },
   {
    "duration": 9,
    "start_time": "2022-06-27T18:52:23.727Z"
   },
   {
    "duration": 21,
    "start_time": "2022-06-27T18:52:23.737Z"
   },
   {
    "duration": 7,
    "start_time": "2022-06-27T18:52:23.760Z"
   },
   {
    "duration": 22,
    "start_time": "2022-06-27T18:52:23.768Z"
   },
   {
    "duration": 3,
    "start_time": "2022-06-27T18:52:23.792Z"
   },
   {
    "duration": 12,
    "start_time": "2022-06-27T18:52:23.827Z"
   },
   {
    "duration": 11,
    "start_time": "2022-06-27T18:52:23.841Z"
   },
   {
    "duration": 21,
    "start_time": "2022-06-27T18:52:23.853Z"
   },
   {
    "duration": 6,
    "start_time": "2022-06-27T18:52:23.876Z"
   },
   {
    "duration": 17,
    "start_time": "2022-06-27T18:52:23.884Z"
   },
   {
    "duration": 67,
    "start_time": "2022-06-27T18:52:23.903Z"
   },
   {
    "duration": 4,
    "start_time": "2022-06-27T18:52:23.972Z"
   },
   {
    "duration": 12,
    "start_time": "2022-06-27T18:52:23.977Z"
   },
   {
    "duration": 10,
    "start_time": "2022-06-27T18:52:23.991Z"
   },
   {
    "duration": 21,
    "start_time": "2022-06-27T18:52:24.003Z"
   },
   {
    "duration": 12,
    "start_time": "2022-06-27T18:52:24.026Z"
   },
   {
    "duration": 14,
    "start_time": "2022-06-27T18:52:24.039Z"
   },
   {
    "duration": 10,
    "start_time": "2022-06-27T18:52:24.055Z"
   },
   {
    "duration": 11,
    "start_time": "2022-06-27T18:52:24.067Z"
   },
   {
    "duration": 6,
    "start_time": "2022-06-27T18:52:24.080Z"
   },
   {
    "duration": 5,
    "start_time": "2022-06-27T18:52:24.088Z"
   },
   {
    "duration": 10,
    "start_time": "2022-06-27T18:52:24.095Z"
   },
   {
    "duration": 17,
    "start_time": "2022-06-27T18:52:24.107Z"
   },
   {
    "duration": 7,
    "start_time": "2022-06-27T18:52:24.125Z"
   },
   {
    "duration": 7,
    "start_time": "2022-06-27T18:52:24.134Z"
   },
   {
    "duration": 6,
    "start_time": "2022-06-27T18:52:24.142Z"
   },
   {
    "duration": 7,
    "start_time": "2022-06-27T18:52:24.149Z"
   },
   {
    "duration": 174,
    "start_time": "2022-06-27T18:52:24.158Z"
   },
   {
    "duration": 4,
    "start_time": "2022-06-27T18:52:24.334Z"
   },
   {
    "duration": 8,
    "start_time": "2022-06-27T18:52:24.339Z"
   },
   {
    "duration": 7,
    "start_time": "2022-06-27T18:52:24.348Z"
   },
   {
    "duration": 7,
    "start_time": "2022-06-27T18:52:24.356Z"
   },
   {
    "duration": 6,
    "start_time": "2022-06-27T18:52:24.364Z"
   },
   {
    "duration": 7,
    "start_time": "2022-06-27T18:52:24.371Z"
   },
   {
    "duration": 8,
    "start_time": "2022-06-27T18:52:24.379Z"
   },
   {
    "duration": 4,
    "start_time": "2022-06-27T18:52:24.389Z"
   },
   {
    "duration": 5,
    "start_time": "2022-06-27T18:52:24.423Z"
   },
   {
    "duration": 5,
    "start_time": "2022-06-27T18:52:24.430Z"
   },
   {
    "duration": 6,
    "start_time": "2022-06-27T18:52:24.437Z"
   },
   {
    "duration": 6,
    "start_time": "2022-06-27T18:52:24.445Z"
   },
   {
    "duration": 192,
    "start_time": "2022-06-27T18:52:24.452Z"
   },
   {
    "duration": 4,
    "start_time": "2022-06-27T18:52:24.646Z"
   },
   {
    "duration": 13,
    "start_time": "2022-06-27T18:52:24.652Z"
   },
   {
    "duration": 7,
    "start_time": "2022-06-27T18:52:24.667Z"
   },
   {
    "duration": 7,
    "start_time": "2022-06-27T18:52:24.675Z"
   },
   {
    "duration": 5,
    "start_time": "2022-06-27T18:52:24.684Z"
   },
   {
    "duration": 41,
    "start_time": "2022-06-27T18:52:24.690Z"
   },
   {
    "duration": 4,
    "start_time": "2022-06-27T18:52:24.733Z"
   },
   {
    "duration": 9,
    "start_time": "2022-06-27T18:52:24.739Z"
   },
   {
    "duration": 7,
    "start_time": "2022-06-27T18:52:24.749Z"
   },
   {
    "duration": 6,
    "start_time": "2022-06-27T18:52:24.758Z"
   },
   {
    "duration": 7,
    "start_time": "2022-06-27T18:52:24.765Z"
   },
   {
    "duration": 6,
    "start_time": "2022-06-27T18:52:24.773Z"
   },
   {
    "duration": 8,
    "start_time": "2022-06-27T18:52:24.781Z"
   },
   {
    "duration": 191,
    "start_time": "2022-06-27T18:52:24.791Z"
   },
   {
    "duration": 5,
    "start_time": "2022-06-27T18:52:24.984Z"
   },
   {
    "duration": 14,
    "start_time": "2022-06-27T18:52:24.990Z"
   },
   {
    "duration": 9,
    "start_time": "2022-06-27T18:52:25.005Z"
   },
   {
    "duration": 7,
    "start_time": "2022-06-27T18:52:25.023Z"
   },
   {
    "duration": 27,
    "start_time": "2022-06-27T18:52:25.031Z"
   },
   {
    "duration": 9,
    "start_time": "2022-06-27T18:52:25.060Z"
   },
   {
    "duration": 8,
    "start_time": "2022-06-27T18:52:25.071Z"
   },
   {
    "duration": 15,
    "start_time": "2022-06-27T18:52:25.081Z"
   },
   {
    "duration": 6,
    "start_time": "2022-06-27T18:52:25.097Z"
   },
   {
    "duration": 6,
    "start_time": "2022-06-27T18:52:25.105Z"
   },
   {
    "duration": 175,
    "start_time": "2022-06-27T18:52:25.112Z"
   },
   {
    "duration": 15,
    "start_time": "2022-06-27T18:52:25.288Z"
   },
   {
    "duration": 30,
    "start_time": "2022-06-27T18:52:25.305Z"
   },
   {
    "duration": 2,
    "start_time": "2022-06-27T18:52:25.336Z"
   },
   {
    "duration": 5,
    "start_time": "2022-06-27T18:52:25.340Z"
   },
   {
    "duration": 6,
    "start_time": "2022-06-27T18:52:25.347Z"
   },
   {
    "duration": 8,
    "start_time": "2022-06-27T18:52:25.354Z"
   },
   {
    "duration": 20,
    "start_time": "2022-06-27T18:52:25.363Z"
   },
   {
    "duration": 51,
    "start_time": "2022-06-27T18:52:25.385Z"
   },
   {
    "duration": 5,
    "start_time": "2022-06-27T18:52:25.438Z"
   },
   {
    "duration": 7,
    "start_time": "2022-06-27T18:52:25.445Z"
   },
   {
    "duration": 8,
    "start_time": "2022-06-27T18:52:25.454Z"
   },
   {
    "duration": 14,
    "start_time": "2022-06-27T18:52:25.463Z"
   },
   {
    "duration": 5,
    "start_time": "2022-06-27T18:52:25.479Z"
   },
   {
    "duration": 15,
    "start_time": "2022-06-27T18:52:25.486Z"
   },
   {
    "duration": 25,
    "start_time": "2022-06-27T18:52:25.502Z"
   },
   {
    "duration": 15,
    "start_time": "2022-06-27T18:52:25.529Z"
   },
   {
    "duration": 6,
    "start_time": "2022-06-27T18:52:25.546Z"
   },
   {
    "duration": 10,
    "start_time": "2022-06-27T18:52:25.553Z"
   },
   {
    "duration": 10,
    "start_time": "2022-06-27T18:52:25.564Z"
   },
   {
    "duration": 1121,
    "start_time": "2022-06-28T20:17:04.284Z"
   },
   {
    "duration": 684,
    "start_time": "2022-06-28T20:17:05.407Z"
   },
   {
    "duration": 417,
    "start_time": "2022-06-28T20:17:06.093Z"
   },
   {
    "duration": 290,
    "start_time": "2022-06-28T20:17:06.512Z"
   },
   {
    "duration": 69,
    "start_time": "2022-06-28T20:17:06.803Z"
   },
   {
    "duration": 69,
    "start_time": "2022-06-28T20:17:06.874Z"
   },
   {
    "duration": 7,
    "start_time": "2022-06-28T20:17:06.944Z"
   },
   {
    "duration": 14,
    "start_time": "2022-06-28T20:17:06.953Z"
   },
   {
    "duration": 23,
    "start_time": "2022-06-28T20:17:07.270Z"
   },
   {
    "duration": 9,
    "start_time": "2022-06-28T20:17:07.809Z"
   },
   {
    "duration": 20,
    "start_time": "2022-06-28T20:17:08.491Z"
   },
   {
    "duration": 7,
    "start_time": "2022-06-28T20:17:09.144Z"
   },
   {
    "duration": 17,
    "start_time": "2022-06-28T20:17:09.450Z"
   },
   {
    "duration": 9,
    "start_time": "2022-06-28T20:17:10.227Z"
   },
   {
    "duration": 13,
    "start_time": "2022-06-28T20:17:10.538Z"
   },
   {
    "duration": 15,
    "start_time": "2022-06-28T20:17:10.845Z"
   },
   {
    "duration": 13,
    "start_time": "2022-06-28T20:17:11.145Z"
   },
   {
    "duration": 31,
    "start_time": "2022-06-28T20:17:12.271Z"
   },
   {
    "duration": 23,
    "start_time": "2022-06-28T20:17:12.695Z"
   },
   {
    "duration": 19,
    "start_time": "2022-06-28T20:17:12.948Z"
   },
   {
    "duration": 4,
    "start_time": "2022-06-28T20:17:13.390Z"
   },
   {
    "duration": 4,
    "start_time": "2022-06-28T20:17:13.868Z"
   },
   {
    "duration": 21,
    "start_time": "2022-06-28T20:17:14.487Z"
   },
   {
    "duration": 16,
    "start_time": "2022-06-28T20:17:14.818Z"
   },
   {
    "duration": 15,
    "start_time": "2022-06-28T20:17:15.148Z"
   },
   {
    "duration": 6,
    "start_time": "2022-06-28T20:17:15.970Z"
   },
   {
    "duration": 101,
    "start_time": "2022-06-28T20:17:16.320Z"
   },
   {
    "duration": 63,
    "start_time": "2022-06-28T20:17:16.740Z"
   },
   {
    "duration": 41,
    "start_time": "2022-06-28T20:17:17.042Z"
   },
   {
    "duration": 6,
    "start_time": "2022-06-28T20:18:36.666Z"
   },
   {
    "duration": 7,
    "start_time": "2022-06-28T20:18:37.257Z"
   },
   {
    "duration": 15,
    "start_time": "2022-06-28T20:18:38.304Z"
   },
   {
    "duration": 16,
    "start_time": "2022-06-28T20:18:38.810Z"
   },
   {
    "duration": 14,
    "start_time": "2022-06-28T20:18:39.118Z"
   },
   {
    "duration": 15,
    "start_time": "2022-06-28T20:18:39.421Z"
   },
   {
    "duration": 230,
    "start_time": "2022-06-28T20:18:39.728Z"
   },
   {
    "duration": 19,
    "start_time": "2022-06-28T20:18:40.028Z"
   },
   {
    "duration": 216,
    "start_time": "2022-06-28T20:18:41.133Z"
   },
   {
    "duration": 19,
    "start_time": "2022-06-28T20:18:42.814Z"
   },
   {
    "duration": 131,
    "start_time": "2022-06-28T20:18:43.582Z"
   },
   {
    "duration": 4,
    "start_time": "2022-06-28T20:18:44.751Z"
   },
   {
    "duration": 12,
    "start_time": "2022-06-28T20:18:45.999Z"
   },
   {
    "duration": 5,
    "start_time": "2022-06-28T20:18:55.807Z"
   },
   {
    "duration": 7,
    "start_time": "2022-06-28T20:18:56.134Z"
   },
   {
    "duration": 4,
    "start_time": "2022-06-28T20:19:06.716Z"
   },
   {
    "duration": 4,
    "start_time": "2022-06-28T20:19:10.051Z"
   },
   {
    "duration": 45,
    "start_time": "2022-06-28T20:19:17.328Z"
   },
   {
    "duration": 4,
    "start_time": "2022-06-28T20:19:17.945Z"
   },
   {
    "duration": 4,
    "start_time": "2022-06-28T20:19:26.006Z"
   },
   {
    "duration": 11,
    "start_time": "2022-06-28T20:19:29.997Z"
   },
   {
    "duration": 4,
    "start_time": "2022-06-28T20:20:09.721Z"
   },
   {
    "duration": 10,
    "start_time": "2022-06-28T20:20:10.911Z"
   },
   {
    "duration": 7,
    "start_time": "2022-06-28T20:20:51.200Z"
   },
   {
    "duration": 17,
    "start_time": "2022-06-28T20:21:13.720Z"
   },
   {
    "duration": 15,
    "start_time": "2022-06-28T20:22:48.370Z"
   },
   {
    "duration": 22,
    "start_time": "2022-06-28T20:22:48.904Z"
   },
   {
    "duration": 4,
    "start_time": "2022-06-28T20:22:49.423Z"
   },
   {
    "duration": 5,
    "start_time": "2022-06-28T20:22:49.685Z"
   },
   {
    "duration": 7,
    "start_time": "2022-06-28T20:22:49.947Z"
   },
   {
    "duration": 12,
    "start_time": "2022-06-28T20:22:50.203Z"
   },
   {
    "duration": 4,
    "start_time": "2022-06-28T20:22:50.687Z"
   },
   {
    "duration": 13,
    "start_time": "2022-06-28T20:22:50.945Z"
   },
   {
    "duration": 14,
    "start_time": "2022-06-28T20:22:51.250Z"
   },
   {
    "duration": 5,
    "start_time": "2022-06-28T20:22:51.695Z"
   },
   {
    "duration": 4,
    "start_time": "2022-06-28T20:22:52.289Z"
   },
   {
    "duration": 5,
    "start_time": "2022-06-28T20:22:52.726Z"
   },
   {
    "duration": 10,
    "start_time": "2022-06-28T20:22:53.194Z"
   },
   {
    "duration": 16,
    "start_time": "2022-06-28T20:22:53.447Z"
   },
   {
    "duration": 3,
    "start_time": "2022-06-28T20:22:53.926Z"
   },
   {
    "duration": 7,
    "start_time": "2022-06-28T20:22:54.429Z"
   },
   {
    "duration": 11,
    "start_time": "2022-06-28T20:22:54.685Z"
   },
   {
    "duration": 6,
    "start_time": "2022-06-28T20:22:55.155Z"
   },
   {
    "duration": 17,
    "start_time": "2022-06-28T20:22:55.440Z"
   },
   {
    "duration": 11,
    "start_time": "2022-06-28T20:22:55.729Z"
   },
   {
    "duration": 7,
    "start_time": "2022-06-28T20:22:56.084Z"
   },
   {
    "duration": 3,
    "start_time": "2022-06-28T20:22:56.668Z"
   },
   {
    "duration": 3,
    "start_time": "2022-06-28T20:22:56.905Z"
   },
   {
    "duration": 3,
    "start_time": "2022-06-28T20:22:58.408Z"
   },
   {
    "duration": 4,
    "start_time": "2022-06-28T20:22:59.678Z"
   },
   {
    "duration": 10,
    "start_time": "2022-06-28T20:22:59.683Z"
   },
   {
    "duration": 18,
    "start_time": "2022-06-28T20:23:00.767Z"
   },
   {
    "duration": 4,
    "start_time": "2022-06-28T20:23:01.398Z"
   },
   {
    "duration": 19,
    "start_time": "2022-06-28T20:23:03.067Z"
   },
   {
    "duration": 3,
    "start_time": "2022-06-28T20:23:03.683Z"
   },
   {
    "duration": 11,
    "start_time": "2022-06-28T20:24:26.768Z"
   },
   {
    "duration": 4,
    "start_time": "2022-06-28T20:24:27.070Z"
   },
   {
    "duration": 14,
    "start_time": "2022-06-28T20:24:27.368Z"
   },
   {
    "duration": 22,
    "start_time": "2022-06-28T20:24:27.994Z"
   },
   {
    "duration": 5,
    "start_time": "2022-06-28T20:24:28.528Z"
   },
   {
    "duration": 5,
    "start_time": "2022-06-28T20:24:28.829Z"
   },
   {
    "duration": 7,
    "start_time": "2022-06-28T20:24:29.252Z"
   },
   {
    "duration": 11,
    "start_time": "2022-06-28T20:24:29.782Z"
   },
   {
    "duration": 3,
    "start_time": "2022-06-28T20:24:30.721Z"
   },
   {
    "duration": 12,
    "start_time": "2022-06-28T20:24:31.168Z"
   },
   {
    "duration": 14,
    "start_time": "2022-06-28T20:24:31.735Z"
   },
   {
    "duration": 4,
    "start_time": "2022-06-28T20:24:32.683Z"
   },
   {
    "duration": 3,
    "start_time": "2022-06-28T20:24:33.067Z"
   },
   {
    "duration": 4,
    "start_time": "2022-06-28T20:24:33.382Z"
   },
   {
    "duration": 8,
    "start_time": "2022-06-28T20:24:34.009Z"
   },
   {
    "duration": 16,
    "start_time": "2022-06-28T20:24:34.389Z"
   },
   {
    "duration": 3,
    "start_time": "2022-06-28T20:24:35.768Z"
   },
   {
    "duration": 8,
    "start_time": "2022-06-28T20:24:36.667Z"
   },
   {
    "duration": 10,
    "start_time": "2022-06-28T20:24:36.950Z"
   },
   {
    "duration": 6,
    "start_time": "2022-06-28T20:24:37.670Z"
   },
   {
    "duration": 16,
    "start_time": "2022-06-28T20:24:38.153Z"
   },
   {
    "duration": 10,
    "start_time": "2022-06-28T20:24:38.735Z"
   },
   {
    "duration": 8,
    "start_time": "2022-06-28T20:24:39.232Z"
   },
   {
    "duration": 3,
    "start_time": "2022-06-28T20:24:40.517Z"
   },
   {
    "duration": 4,
    "start_time": "2022-06-28T20:24:41.305Z"
   },
   {
    "duration": 3,
    "start_time": "2022-06-28T20:24:41.607Z"
   },
   {
    "duration": 3,
    "start_time": "2022-06-28T20:24:42.268Z"
   },
   {
    "duration": 8,
    "start_time": "2022-06-28T20:24:42.535Z"
   },
   {
    "duration": 19,
    "start_time": "2022-06-28T20:24:43.913Z"
   },
   {
    "duration": 3,
    "start_time": "2022-06-28T20:24:44.911Z"
   },
   {
    "duration": 20,
    "start_time": "2022-06-28T20:24:48.315Z"
   },
   {
    "duration": 24,
    "start_time": "2022-06-28T20:25:35.747Z"
   },
   {
    "duration": 4,
    "start_time": "2022-06-28T20:26:53.270Z"
   },
   {
    "duration": 12,
    "start_time": "2022-06-28T20:26:54.068Z"
   },
   {
    "duration": 15,
    "start_time": "2022-06-28T20:27:00.452Z"
   },
   {
    "duration": 23,
    "start_time": "2022-06-28T20:27:10.727Z"
   },
   {
    "duration": 5,
    "start_time": "2022-06-28T20:27:11.382Z"
   },
   {
    "duration": 5,
    "start_time": "2022-06-28T20:27:11.671Z"
   },
   {
    "duration": 6,
    "start_time": "2022-06-28T20:27:11.942Z"
   },
   {
    "duration": 11,
    "start_time": "2022-06-28T20:27:12.383Z"
   },
   {
    "duration": 4,
    "start_time": "2022-06-28T20:27:13.269Z"
   },
   {
    "duration": 13,
    "start_time": "2022-06-28T20:27:13.598Z"
   },
   {
    "duration": 14,
    "start_time": "2022-06-28T20:27:13.952Z"
   },
   {
    "duration": 5,
    "start_time": "2022-06-28T20:27:14.577Z"
   },
   {
    "duration": 4,
    "start_time": "2022-06-28T20:27:14.823Z"
   },
   {
    "duration": 4,
    "start_time": "2022-06-28T20:27:15.100Z"
   },
   {
    "duration": 7,
    "start_time": "2022-06-28T20:27:15.868Z"
   },
   {
    "duration": 16,
    "start_time": "2022-06-28T20:27:16.264Z"
   },
   {
    "duration": 4,
    "start_time": "2022-06-28T20:27:16.997Z"
   },
   {
    "duration": 8,
    "start_time": "2022-06-28T20:27:17.704Z"
   },
   {
    "duration": 11,
    "start_time": "2022-06-28T20:27:18.039Z"
   },
   {
    "duration": 6,
    "start_time": "2022-06-28T20:27:18.678Z"
   },
   {
    "duration": 19,
    "start_time": "2022-06-28T20:27:18.985Z"
   },
   {
    "duration": 11,
    "start_time": "2022-06-28T20:27:19.300Z"
   },
   {
    "duration": 5,
    "start_time": "2022-06-28T20:27:19.592Z"
   },
   {
    "duration": 4,
    "start_time": "2022-06-28T20:27:20.368Z"
   },
   {
    "duration": 4,
    "start_time": "2022-06-28T20:27:20.806Z"
   },
   {
    "duration": 3,
    "start_time": "2022-06-28T20:27:21.148Z"
   },
   {
    "duration": 3,
    "start_time": "2022-06-28T20:27:21.523Z"
   },
   {
    "duration": 7,
    "start_time": "2022-06-28T20:27:21.887Z"
   },
   {
    "duration": 16,
    "start_time": "2022-06-28T20:27:23.369Z"
   },
   {
    "duration": 3,
    "start_time": "2022-06-28T20:27:24.075Z"
   },
   {
    "duration": 35,
    "start_time": "2022-06-28T20:27:26.051Z"
   },
   {
    "duration": 3,
    "start_time": "2022-06-28T20:27:26.538Z"
   },
   {
    "duration": 10,
    "start_time": "2022-06-28T20:27:27.569Z"
   },
   {
    "duration": 3,
    "start_time": "2022-06-28T20:27:28.268Z"
   },
   {
    "duration": 3,
    "start_time": "2022-06-28T20:27:28.568Z"
   },
   {
    "duration": 2,
    "start_time": "2022-06-28T20:27:29.014Z"
   },
   {
    "duration": 12,
    "start_time": "2022-06-28T20:27:29.413Z"
   },
   {
    "duration": 64,
    "start_time": "2022-06-28T20:27:30.090Z"
   },
   {
    "duration": 3,
    "start_time": "2022-06-28T20:27:31.200Z"
   },
   {
    "duration": 7,
    "start_time": "2022-06-28T20:27:31.985Z"
   },
   {
    "duration": 9,
    "start_time": "2022-06-28T20:27:32.624Z"
   },
   {
    "duration": 4,
    "start_time": "2022-06-28T20:27:34.046Z"
   },
   {
    "duration": 5,
    "start_time": "2022-06-28T20:27:35.097Z"
   },
   {
    "duration": 8,
    "start_time": "2022-06-28T20:27:35.345Z"
   },
   {
    "duration": 5,
    "start_time": "2022-06-28T20:27:35.619Z"
   },
   {
    "duration": 9,
    "start_time": "2022-06-28T20:27:35.896Z"
   },
   {
    "duration": 5,
    "start_time": "2022-06-28T20:27:46.516Z"
   },
   {
    "duration": 4,
    "start_time": "2022-06-28T20:27:46.945Z"
   },
   {
    "duration": 4,
    "start_time": "2022-06-28T20:27:47.673Z"
   },
   {
    "duration": 4,
    "start_time": "2022-06-28T20:27:47.946Z"
   },
   {
    "duration": 5,
    "start_time": "2022-06-28T20:27:48.426Z"
   },
   {
    "duration": 4,
    "start_time": "2022-06-28T20:27:48.875Z"
   },
   {
    "duration": 4,
    "start_time": "2022-06-28T20:27:49.349Z"
   },
   {
    "duration": 4,
    "start_time": "2022-06-28T20:27:49.740Z"
   },
   {
    "duration": 147,
    "start_time": "2022-06-28T20:27:50.968Z"
   },
   {
    "duration": 4,
    "start_time": "2022-06-28T20:27:53.802Z"
   },
   {
    "duration": 3,
    "start_time": "2022-06-28T20:27:54.330Z"
   },
   {
    "duration": 4,
    "start_time": "2022-06-28T20:27:54.768Z"
   },
   {
    "duration": 4,
    "start_time": "2022-06-28T20:27:55.193Z"
   },
   {
    "duration": 4,
    "start_time": "2022-06-28T20:27:56.225Z"
   },
   {
    "duration": 4,
    "start_time": "2022-06-28T20:27:57.329Z"
   },
   {
    "duration": 4,
    "start_time": "2022-06-28T20:27:57.877Z"
   },
   {
    "duration": 4,
    "start_time": "2022-06-28T20:27:58.154Z"
   },
   {
    "duration": 4,
    "start_time": "2022-06-28T20:27:58.432Z"
   },
   {
    "duration": 5,
    "start_time": "2022-06-28T20:27:58.722Z"
   },
   {
    "duration": 4,
    "start_time": "2022-06-28T20:27:58.986Z"
   },
   {
    "duration": 4,
    "start_time": "2022-06-28T20:27:59.268Z"
   },
   {
    "duration": 172,
    "start_time": "2022-06-28T20:28:01.268Z"
   },
   {
    "duration": 4,
    "start_time": "2022-06-28T20:28:02.540Z"
   },
   {
    "duration": 9,
    "start_time": "2022-06-28T20:28:02.984Z"
   },
   {
    "duration": 4,
    "start_time": "2022-06-28T20:28:03.413Z"
   },
   {
    "duration": 5,
    "start_time": "2022-06-28T20:28:04.109Z"
   },
   {
    "duration": 4,
    "start_time": "2022-06-28T20:28:06.277Z"
   },
   {
    "duration": 12,
    "start_time": "2022-06-28T20:28:20.494Z"
   },
   {
    "duration": 5,
    "start_time": "2022-06-28T20:28:21.825Z"
   },
   {
    "duration": 4,
    "start_time": "2022-06-28T20:28:25.856Z"
   },
   {
    "duration": 4,
    "start_time": "2022-06-28T20:28:27.046Z"
   },
   {
    "duration": 3,
    "start_time": "2022-06-28T20:32:34.987Z"
   },
   {
    "duration": 156,
    "start_time": "2022-06-28T20:32:35.380Z"
   },
   {
    "duration": 115,
    "start_time": "2022-06-28T20:32:35.604Z"
   },
   {
    "duration": 79,
    "start_time": "2022-06-28T20:32:35.833Z"
   },
   {
    "duration": 17,
    "start_time": "2022-06-28T20:32:36.069Z"
   },
   {
    "duration": 28,
    "start_time": "2022-06-28T20:32:36.347Z"
   },
   {
    "duration": 6,
    "start_time": "2022-06-28T20:32:36.670Z"
   },
   {
    "duration": 12,
    "start_time": "2022-06-28T20:32:37.310Z"
   },
   {
    "duration": 22,
    "start_time": "2022-06-28T20:32:37.644Z"
   },
   {
    "duration": 9,
    "start_time": "2022-06-28T20:32:38.307Z"
   },
   {
    "duration": 22,
    "start_time": "2022-06-28T20:32:38.610Z"
   },
   {
    "duration": 8,
    "start_time": "2022-06-28T20:32:39.243Z"
   },
   {
    "duration": 17,
    "start_time": "2022-06-28T20:32:39.555Z"
   },
   {
    "duration": 9,
    "start_time": "2022-06-28T20:32:40.222Z"
   },
   {
    "duration": 12,
    "start_time": "2022-06-28T20:32:40.535Z"
   },
   {
    "duration": 14,
    "start_time": "2022-06-28T20:32:40.851Z"
   },
   {
    "duration": 11,
    "start_time": "2022-06-28T20:32:41.188Z"
   },
   {
    "duration": 40,
    "start_time": "2022-06-28T20:32:42.557Z"
   },
   {
    "duration": 23,
    "start_time": "2022-06-28T20:32:42.886Z"
   },
   {
    "duration": 21,
    "start_time": "2022-06-28T20:32:43.242Z"
   },
   {
    "duration": 4,
    "start_time": "2022-06-28T20:32:43.499Z"
   },
   {
    "duration": 6,
    "start_time": "2022-06-28T20:32:43.774Z"
   },
   {
    "duration": 20,
    "start_time": "2022-06-28T20:32:44.388Z"
   },
   {
    "duration": 17,
    "start_time": "2022-06-28T20:32:44.722Z"
   },
   {
    "duration": 17,
    "start_time": "2022-06-28T20:32:45.079Z"
   },
   {
    "duration": 8,
    "start_time": "2022-06-28T20:32:45.741Z"
   },
   {
    "duration": 114,
    "start_time": "2022-06-28T20:32:46.099Z"
   },
   {
    "duration": 59,
    "start_time": "2022-06-28T20:32:46.455Z"
   },
   {
    "duration": 52,
    "start_time": "2022-06-28T20:32:46.748Z"
   },
   {
    "duration": 8,
    "start_time": "2022-06-28T20:32:47.714Z"
   },
   {
    "duration": 6,
    "start_time": "2022-06-28T20:32:48.069Z"
   },
   {
    "duration": 16,
    "start_time": "2022-06-28T20:32:48.416Z"
   },
   {
    "duration": 23,
    "start_time": "2022-06-28T20:32:48.731Z"
   },
   {
    "duration": 15,
    "start_time": "2022-06-28T20:32:49.084Z"
   },
   {
    "duration": 14,
    "start_time": "2022-06-28T20:32:49.380Z"
   },
   {
    "duration": 220,
    "start_time": "2022-06-28T20:32:49.693Z"
   },
   {
    "duration": 20,
    "start_time": "2022-06-28T20:32:50.037Z"
   },
   {
    "duration": 197,
    "start_time": "2022-06-28T20:32:50.711Z"
   },
   {
    "duration": 17,
    "start_time": "2022-06-28T20:32:51.381Z"
   },
   {
    "duration": 122,
    "start_time": "2022-06-28T20:32:51.736Z"
   },
   {
    "duration": 5,
    "start_time": "2022-06-28T20:32:52.046Z"
   },
   {
    "duration": 13,
    "start_time": "2022-06-28T20:32:52.391Z"
   },
   {
    "duration": 5,
    "start_time": "2022-06-28T20:32:53.087Z"
   },
   {
    "duration": 7,
    "start_time": "2022-06-28T20:32:53.434Z"
   },
   {
    "duration": 4,
    "start_time": "2022-06-28T20:32:54.969Z"
   },
   {
    "duration": 4,
    "start_time": "2022-06-28T20:32:55.635Z"
   },
   {
    "duration": 45,
    "start_time": "2022-06-28T20:32:57.388Z"
   },
   {
    "duration": 6,
    "start_time": "2022-06-28T20:32:57.730Z"
   },
   {
    "duration": 4,
    "start_time": "2022-06-28T20:32:58.037Z"
   },
   {
    "duration": 15,
    "start_time": "2022-06-28T20:32:58.655Z"
   },
   {
    "duration": 990,
    "start_time": "2022-06-28T20:32:58.943Z"
   },
   {
    "duration": 0,
    "start_time": "2022-06-28T20:32:59.935Z"
   },
   {
    "duration": 0,
    "start_time": "2022-06-28T20:32:59.936Z"
   },
   {
    "duration": 5,
    "start_time": "2022-06-28T20:33:00.425Z"
   },
   {
    "duration": 2,
    "start_time": "2022-06-28T20:33:44.164Z"
   },
   {
    "duration": 13,
    "start_time": "2022-06-28T20:33:55.075Z"
   },
   {
    "duration": 23,
    "start_time": "2022-06-28T20:34:20.447Z"
   },
   {
    "duration": 4,
    "start_time": "2022-06-28T20:34:22.036Z"
   },
   {
    "duration": 6,
    "start_time": "2022-06-28T20:34:23.278Z"
   },
   {
    "duration": 7,
    "start_time": "2022-06-28T20:34:30.930Z"
   },
   {
    "duration": 12,
    "start_time": "2022-06-28T20:34:31.569Z"
   },
   {
    "duration": 3,
    "start_time": "2022-06-28T20:34:37.910Z"
   },
   {
    "duration": 12,
    "start_time": "2022-06-28T20:34:38.325Z"
   },
   {
    "duration": 16,
    "start_time": "2022-06-28T20:34:45.145Z"
   },
   {
    "duration": 5,
    "start_time": "2022-06-28T20:34:46.202Z"
   },
   {
    "duration": 4,
    "start_time": "2022-06-28T20:34:47.225Z"
   },
   {
    "duration": 5,
    "start_time": "2022-06-28T20:34:52.973Z"
   },
   {
    "duration": 9,
    "start_time": "2022-06-28T20:34:56.212Z"
   },
   {
    "duration": 14,
    "start_time": "2022-06-28T20:34:56.828Z"
   },
   {
    "duration": 4,
    "start_time": "2022-06-28T20:35:00.800Z"
   },
   {
    "duration": 9,
    "start_time": "2022-06-28T20:35:02.521Z"
   },
   {
    "duration": 3,
    "start_time": "2022-06-28T20:35:32.043Z"
   },
   {
    "duration": 9,
    "start_time": "2022-06-28T20:35:33.384Z"
   },
   {
    "duration": 6,
    "start_time": "2022-06-28T20:35:34.884Z"
   },
   {
    "duration": 15,
    "start_time": "2022-06-28T20:35:35.273Z"
   },
   {
    "duration": 11,
    "start_time": "2022-06-28T20:35:38.551Z"
   },
   {
    "duration": 7,
    "start_time": "2022-06-28T20:35:39.835Z"
   },
   {
    "duration": 3,
    "start_time": "2022-06-28T20:35:41.571Z"
   },
   {
    "duration": 3,
    "start_time": "2022-06-28T20:35:42.155Z"
   },
   {
    "duration": 4,
    "start_time": "2022-06-28T20:35:42.504Z"
   },
   {
    "duration": 4,
    "start_time": "2022-06-28T20:35:42.749Z"
   },
   {
    "duration": 6,
    "start_time": "2022-06-28T20:35:43.007Z"
   },
   {
    "duration": 16,
    "start_time": "2022-06-28T20:35:47.201Z"
   },
   {
    "duration": 4,
    "start_time": "2022-06-28T20:35:50.700Z"
   },
   {
    "duration": 23,
    "start_time": "2022-06-28T20:35:52.176Z"
   },
   {
    "duration": 4,
    "start_time": "2022-06-28T20:35:52.753Z"
   },
   {
    "duration": 10,
    "start_time": "2022-06-28T20:35:53.041Z"
   },
   {
    "duration": 4,
    "start_time": "2022-06-28T20:35:53.715Z"
   },
   {
    "duration": 4,
    "start_time": "2022-06-28T20:35:54.037Z"
   },
   {
    "duration": 4,
    "start_time": "2022-06-28T20:35:54.298Z"
   },
   {
    "duration": 11,
    "start_time": "2022-06-28T20:35:54.554Z"
   },
   {
    "duration": 60,
    "start_time": "2022-06-28T20:35:55.103Z"
   },
   {
    "duration": 4,
    "start_time": "2022-06-28T20:35:56.199Z"
   },
   {
    "duration": 8,
    "start_time": "2022-06-28T20:35:56.673Z"
   },
   {
    "duration": 10,
    "start_time": "2022-06-28T20:35:57.303Z"
   },
   {
    "duration": 4,
    "start_time": "2022-06-28T20:35:58.436Z"
   },
   {
    "duration": 6,
    "start_time": "2022-06-28T20:36:00.338Z"
   },
   {
    "duration": 9,
    "start_time": "2022-06-28T20:36:00.686Z"
   },
   {
    "duration": 5,
    "start_time": "2022-06-28T20:36:01.201Z"
   },
   {
    "duration": 9,
    "start_time": "2022-06-28T20:36:01.532Z"
   },
   {
    "duration": 5,
    "start_time": "2022-06-28T20:36:02.949Z"
   },
   {
    "duration": 5,
    "start_time": "2022-06-28T20:36:03.733Z"
   },
   {
    "duration": 5,
    "start_time": "2022-06-28T20:36:48.608Z"
   },
   {
    "duration": 4,
    "start_time": "2022-06-28T20:36:49.074Z"
   },
   {
    "duration": 5,
    "start_time": "2022-06-28T20:36:49.601Z"
   },
   {
    "duration": 4,
    "start_time": "2022-06-28T20:36:49.887Z"
   },
   {
    "duration": 4,
    "start_time": "2022-06-28T20:36:50.271Z"
   },
   {
    "duration": 4,
    "start_time": "2022-06-28T20:36:50.554Z"
   },
   {
    "duration": 145,
    "start_time": "2022-06-28T20:36:51.200Z"
   },
   {
    "duration": 5,
    "start_time": "2022-06-28T20:36:52.683Z"
   },
   {
    "duration": 5,
    "start_time": "2022-06-28T20:36:52.976Z"
   },
   {
    "duration": 4,
    "start_time": "2022-06-28T20:36:53.252Z"
   },
   {
    "duration": 4,
    "start_time": "2022-06-28T20:36:53.540Z"
   },
   {
    "duration": 4,
    "start_time": "2022-06-28T20:36:54.182Z"
   },
   {
    "duration": 4,
    "start_time": "2022-06-28T20:36:54.473Z"
   },
   {
    "duration": 5,
    "start_time": "2022-06-28T20:36:55.155Z"
   },
   {
    "duration": 5,
    "start_time": "2022-06-28T20:36:55.440Z"
   },
   {
    "duration": 5,
    "start_time": "2022-06-28T20:36:55.744Z"
   },
   {
    "duration": 5,
    "start_time": "2022-06-28T20:36:56.094Z"
   },
   {
    "duration": 5,
    "start_time": "2022-06-28T20:36:56.444Z"
   },
   {
    "duration": 4,
    "start_time": "2022-06-28T20:36:56.752Z"
   },
   {
    "duration": 237,
    "start_time": "2022-06-28T20:36:57.581Z"
   },
   {
    "duration": 4,
    "start_time": "2022-06-28T20:36:58.301Z"
   },
   {
    "duration": 9,
    "start_time": "2022-06-28T20:36:58.583Z"
   },
   {
    "duration": 4,
    "start_time": "2022-06-28T20:36:58.871Z"
   },
   {
    "duration": 5,
    "start_time": "2022-06-28T20:36:59.514Z"
   },
   {
    "duration": 5,
    "start_time": "2022-06-28T20:37:00.613Z"
   },
   {
    "duration": 13,
    "start_time": "2022-06-28T20:37:00.953Z"
   },
   {
    "duration": 5,
    "start_time": "2022-06-28T20:37:01.224Z"
   },
   {
    "duration": 5,
    "start_time": "2022-06-28T20:37:02.177Z"
   },
   {
    "duration": 4,
    "start_time": "2022-06-28T20:37:02.521Z"
   },
   {
    "duration": 4,
    "start_time": "2022-06-28T20:37:02.819Z"
   },
   {
    "duration": 4,
    "start_time": "2022-06-28T20:37:03.182Z"
   },
   {
    "duration": 4,
    "start_time": "2022-06-28T20:37:03.574Z"
   },
   {
    "duration": 3,
    "start_time": "2022-06-28T20:37:04.353Z"
   },
   {
    "duration": 150,
    "start_time": "2022-06-28T20:37:05.485Z"
   },
   {
    "duration": 5,
    "start_time": "2022-06-28T20:37:07.699Z"
   },
   {
    "duration": 8,
    "start_time": "2022-06-28T20:37:08.017Z"
   },
   {
    "duration": 5,
    "start_time": "2022-06-28T20:37:08.291Z"
   },
   {
    "duration": 6,
    "start_time": "2022-06-28T20:37:08.718Z"
   },
   {
    "duration": 7,
    "start_time": "2022-06-28T20:37:10.620Z"
   },
   {
    "duration": 7,
    "start_time": "2022-06-28T20:37:10.903Z"
   },
   {
    "duration": 4,
    "start_time": "2022-06-28T20:37:11.441Z"
   },
   {
    "duration": 5,
    "start_time": "2022-06-28T20:37:11.845Z"
   },
   {
    "duration": 4,
    "start_time": "2022-06-28T20:37:12.248Z"
   },
   {
    "duration": 4,
    "start_time": "2022-06-28T20:37:12.641Z"
   },
   {
    "duration": 160,
    "start_time": "2022-06-28T20:37:13.100Z"
   },
   {
    "duration": 14,
    "start_time": "2022-06-28T20:37:13.563Z"
   },
   {
    "duration": 19,
    "start_time": "2022-06-28T20:37:13.831Z"
   },
   {
    "duration": 3,
    "start_time": "2022-06-28T20:38:03.836Z"
   },
   {
    "duration": 3,
    "start_time": "2022-06-28T20:38:04.853Z"
   },
   {
    "duration": 3,
    "start_time": "2022-06-28T20:38:40.435Z"
   },
   {
    "duration": 3,
    "start_time": "2022-06-28T20:38:40.994Z"
   },
   {
    "duration": 3,
    "start_time": "2022-06-28T20:38:50.275Z"
   },
   {
    "duration": 2,
    "start_time": "2022-06-28T20:38:50.603Z"
   },
   {
    "duration": 7,
    "start_time": "2022-06-28T20:39:11.144Z"
   },
   {
    "duration": 5,
    "start_time": "2022-06-28T20:39:24.017Z"
   },
   {
    "duration": 43,
    "start_time": "2022-06-28T20:39:24.498Z"
   },
   {
    "duration": 6,
    "start_time": "2022-06-28T20:39:24.972Z"
   },
   {
    "duration": 4,
    "start_time": "2022-06-28T20:39:25.586Z"
   },
   {
    "duration": 6,
    "start_time": "2022-06-28T20:39:28.290Z"
   },
   {
    "duration": 13,
    "start_time": "2022-06-28T20:39:29.339Z"
   },
   {
    "duration": 6,
    "start_time": "2022-06-28T20:39:34.789Z"
   },
   {
    "duration": 13,
    "start_time": "2022-06-28T20:39:35.073Z"
   },
   {
    "duration": 8,
    "start_time": "2022-06-28T20:39:35.345Z"
   },
   {
    "duration": 19,
    "start_time": "2022-06-28T20:39:36.568Z"
   },
   {
    "duration": 4,
    "start_time": "2022-06-28T20:39:56.972Z"
   },
   {
    "duration": 3,
    "start_time": "2022-06-28T20:40:25.508Z"
   },
   {
    "duration": 3,
    "start_time": "2022-06-28T20:40:26.050Z"
   },
   {
    "duration": 5,
    "start_time": "2022-06-28T20:40:50.904Z"
   },
   {
    "duration": 9,
    "start_time": "2022-06-28T20:43:44.003Z"
   },
   {
    "duration": 78,
    "start_time": "2022-06-28T20:43:44.670Z"
   },
   {
    "duration": 3,
    "start_time": "2022-06-28T20:44:22.779Z"
   },
   {
    "duration": 3,
    "start_time": "2022-06-28T20:44:24.407Z"
   },
   {
    "duration": 6,
    "start_time": "2022-06-28T20:45:00.695Z"
   },
   {
    "duration": 4,
    "start_time": "2022-06-28T20:47:12.846Z"
   },
   {
    "duration": 3,
    "start_time": "2022-06-28T20:47:14.230Z"
   },
   {
    "duration": 4,
    "start_time": "2022-06-28T20:47:15.014Z"
   },
   {
    "duration": 1186,
    "start_time": "2022-06-29T13:02:45.210Z"
   },
   {
    "duration": 361,
    "start_time": "2022-06-29T13:02:46.398Z"
   },
   {
    "duration": 137,
    "start_time": "2022-06-29T13:02:46.761Z"
   },
   {
    "duration": 87,
    "start_time": "2022-06-29T13:02:46.900Z"
   },
   {
    "duration": 10,
    "start_time": "2022-06-29T13:02:46.989Z"
   },
   {
    "duration": 16,
    "start_time": "2022-06-29T13:02:47.000Z"
   },
   {
    "duration": 9,
    "start_time": "2022-06-29T13:02:47.017Z"
   },
   {
    "duration": 13,
    "start_time": "2022-06-29T13:02:47.028Z"
   },
   {
    "duration": 85,
    "start_time": "2022-06-29T13:02:47.043Z"
   },
   {
    "duration": 14,
    "start_time": "2022-06-29T13:02:47.130Z"
   },
   {
    "duration": 24,
    "start_time": "2022-06-29T13:02:47.146Z"
   },
   {
    "duration": 10,
    "start_time": "2022-06-29T13:02:47.223Z"
   },
   {
    "duration": 24,
    "start_time": "2022-06-29T13:02:47.234Z"
   },
   {
    "duration": 8,
    "start_time": "2022-06-29T13:02:47.261Z"
   },
   {
    "duration": 11,
    "start_time": "2022-06-29T13:02:47.324Z"
   },
   {
    "duration": 15,
    "start_time": "2022-06-29T13:02:47.337Z"
   },
   {
    "duration": 20,
    "start_time": "2022-06-29T13:02:47.354Z"
   },
   {
    "duration": 84,
    "start_time": "2022-06-29T13:02:47.375Z"
   },
   {
    "duration": 27,
    "start_time": "2022-06-29T13:02:47.461Z"
   },
   {
    "duration": 21,
    "start_time": "2022-06-29T13:02:47.523Z"
   },
   {
    "duration": 4,
    "start_time": "2022-06-29T13:02:47.546Z"
   },
   {
    "duration": 9,
    "start_time": "2022-06-29T13:02:47.552Z"
   },
   {
    "duration": 74,
    "start_time": "2022-06-29T13:02:47.563Z"
   },
   {
    "duration": 20,
    "start_time": "2022-06-29T13:02:47.640Z"
   },
   {
    "duration": 75,
    "start_time": "2022-06-29T13:02:47.662Z"
   },
   {
    "duration": 9,
    "start_time": "2022-06-29T13:02:47.740Z"
   },
   {
    "duration": 127,
    "start_time": "2022-06-29T13:02:47.751Z"
   },
   {
    "duration": 83,
    "start_time": "2022-06-29T13:02:47.881Z"
   },
   {
    "duration": 59,
    "start_time": "2022-06-29T13:02:47.966Z"
   },
   {
    "duration": 7,
    "start_time": "2022-06-29T13:02:48.027Z"
   },
   {
    "duration": 10,
    "start_time": "2022-06-29T13:02:48.035Z"
   },
   {
    "duration": 25,
    "start_time": "2022-06-29T13:02:48.046Z"
   },
   {
    "duration": 25,
    "start_time": "2022-06-29T13:02:48.072Z"
   },
   {
    "duration": 18,
    "start_time": "2022-06-29T13:02:48.124Z"
   },
   {
    "duration": 22,
    "start_time": "2022-06-29T13:02:48.145Z"
   },
   {
    "duration": 255,
    "start_time": "2022-06-29T13:02:48.170Z"
   },
   {
    "duration": 19,
    "start_time": "2022-06-29T13:02:48.427Z"
   },
   {
    "duration": 225,
    "start_time": "2022-06-29T13:02:48.447Z"
   },
   {
    "duration": 19,
    "start_time": "2022-06-29T13:02:48.674Z"
   },
   {
    "duration": 167,
    "start_time": "2022-06-29T13:02:48.695Z"
   },
   {
    "duration": 6,
    "start_time": "2022-06-29T13:02:48.872Z"
   },
   {
    "duration": 20,
    "start_time": "2022-06-29T13:02:48.880Z"
   },
   {
    "duration": 24,
    "start_time": "2022-06-29T13:02:48.902Z"
   },
   {
    "duration": 16,
    "start_time": "2022-06-29T13:02:48.928Z"
   },
   {
    "duration": 5,
    "start_time": "2022-06-29T13:02:48.946Z"
   },
   {
    "duration": 13,
    "start_time": "2022-06-29T13:02:48.953Z"
   },
   {
    "duration": 70,
    "start_time": "2022-06-29T13:02:48.968Z"
   },
   {
    "duration": 5,
    "start_time": "2022-06-29T13:02:49.040Z"
   },
   {
    "duration": 9,
    "start_time": "2022-06-29T13:02:49.047Z"
   },
   {
    "duration": 18,
    "start_time": "2022-06-29T13:02:49.057Z"
   },
   {
    "duration": 20,
    "start_time": "2022-06-29T13:02:49.076Z"
   },
   {
    "duration": 48,
    "start_time": "2022-06-29T13:02:49.098Z"
   },
   {
    "duration": 6,
    "start_time": "2022-06-29T13:02:49.148Z"
   },
   {
    "duration": 10,
    "start_time": "2022-06-29T13:02:49.156Z"
   },
   {
    "duration": 10,
    "start_time": "2022-06-29T13:02:49.168Z"
   },
   {
    "duration": 16,
    "start_time": "2022-06-29T13:02:49.180Z"
   },
   {
    "duration": 27,
    "start_time": "2022-06-29T13:02:49.198Z"
   },
   {
    "duration": 19,
    "start_time": "2022-06-29T13:02:49.227Z"
   },
   {
    "duration": 17,
    "start_time": "2022-06-29T13:02:49.248Z"
   },
   {
    "duration": 6,
    "start_time": "2022-06-29T13:02:49.267Z"
   },
   {
    "duration": 15,
    "start_time": "2022-06-29T13:02:49.275Z"
   },
   {
    "duration": 32,
    "start_time": "2022-06-29T13:02:49.292Z"
   },
   {
    "duration": 14,
    "start_time": "2022-06-29T13:02:49.325Z"
   },
   {
    "duration": 17,
    "start_time": "2022-06-29T13:02:49.341Z"
   },
   {
    "duration": 6,
    "start_time": "2022-06-29T13:02:49.360Z"
   },
   {
    "duration": 13,
    "start_time": "2022-06-29T13:02:49.367Z"
   },
   {
    "duration": 4,
    "start_time": "2022-06-29T13:02:49.382Z"
   },
   {
    "duration": 35,
    "start_time": "2022-06-29T13:02:49.388Z"
   },
   {
    "duration": 8,
    "start_time": "2022-06-29T13:02:49.425Z"
   },
   {
    "duration": 26,
    "start_time": "2022-06-29T13:02:49.435Z"
   },
   {
    "duration": 23,
    "start_time": "2022-06-29T13:02:49.463Z"
   },
   {
    "duration": 7,
    "start_time": "2022-06-29T13:02:49.488Z"
   },
   {
    "duration": 26,
    "start_time": "2022-06-29T13:02:49.497Z"
   },
   {
    "duration": 4,
    "start_time": "2022-06-29T13:02:49.525Z"
   },
   {
    "duration": 13,
    "start_time": "2022-06-29T13:02:49.530Z"
   },
   {
    "duration": 5,
    "start_time": "2022-06-29T13:02:49.545Z"
   },
   {
    "duration": 14,
    "start_time": "2022-06-29T13:02:49.552Z"
   },
   {
    "duration": 20,
    "start_time": "2022-06-29T13:02:49.568Z"
   },
   {
    "duration": 18,
    "start_time": "2022-06-29T13:02:49.589Z"
   },
   {
    "duration": 38,
    "start_time": "2022-06-29T13:02:49.609Z"
   },
   {
    "duration": 4,
    "start_time": "2022-06-29T13:02:49.649Z"
   },
   {
    "duration": 22,
    "start_time": "2022-06-29T13:02:49.655Z"
   },
   {
    "duration": 4,
    "start_time": "2022-06-29T13:02:49.679Z"
   },
   {
    "duration": 23,
    "start_time": "2022-06-29T13:02:49.684Z"
   },
   {
    "duration": 20,
    "start_time": "2022-06-29T13:02:49.709Z"
   },
   {
    "duration": 28,
    "start_time": "2022-06-29T13:02:49.731Z"
   },
   {
    "duration": 79,
    "start_time": "2022-06-29T13:02:49.761Z"
   },
   {
    "duration": 4,
    "start_time": "2022-06-29T13:02:49.842Z"
   },
   {
    "duration": 18,
    "start_time": "2022-06-29T13:02:49.847Z"
   },
   {
    "duration": 33,
    "start_time": "2022-06-29T13:02:49.867Z"
   },
   {
    "duration": 16,
    "start_time": "2022-06-29T13:02:49.902Z"
   },
   {
    "duration": 20,
    "start_time": "2022-06-29T13:02:49.920Z"
   },
   {
    "duration": 22,
    "start_time": "2022-06-29T13:02:49.943Z"
   },
   {
    "duration": 26,
    "start_time": "2022-06-29T13:02:49.967Z"
   },
   {
    "duration": 30,
    "start_time": "2022-06-29T13:02:49.995Z"
   },
   {
    "duration": 15,
    "start_time": "2022-06-29T13:02:50.028Z"
   },
   {
    "duration": 23,
    "start_time": "2022-06-29T13:02:50.045Z"
   },
   {
    "duration": 19,
    "start_time": "2022-06-29T13:02:50.070Z"
   },
   {
    "duration": 24,
    "start_time": "2022-06-29T13:02:50.091Z"
   },
   {
    "duration": 28,
    "start_time": "2022-06-29T13:02:50.117Z"
   },
   {
    "duration": 21,
    "start_time": "2022-06-29T13:02:50.148Z"
   },
   {
    "duration": 17,
    "start_time": "2022-06-29T13:02:50.171Z"
   },
   {
    "duration": 21,
    "start_time": "2022-06-29T13:02:50.190Z"
   },
   {
    "duration": 185,
    "start_time": "2022-06-29T13:02:50.213Z"
   },
   {
    "duration": 5,
    "start_time": "2022-06-29T13:02:50.400Z"
   },
   {
    "duration": 18,
    "start_time": "2022-06-29T13:02:50.407Z"
   },
   {
    "duration": 25,
    "start_time": "2022-06-29T13:02:50.427Z"
   },
   {
    "duration": 29,
    "start_time": "2022-06-29T13:02:50.454Z"
   },
   {
    "duration": 13,
    "start_time": "2022-06-29T13:02:50.484Z"
   },
   {
    "duration": 24,
    "start_time": "2022-06-29T13:02:50.499Z"
   },
   {
    "duration": 34,
    "start_time": "2022-06-29T13:02:50.526Z"
   },
   {
    "duration": 21,
    "start_time": "2022-06-29T13:02:50.562Z"
   },
   {
    "duration": 9,
    "start_time": "2022-06-29T13:02:50.585Z"
   },
   {
    "duration": 16,
    "start_time": "2022-06-29T13:02:50.596Z"
   },
   {
    "duration": 22,
    "start_time": "2022-06-29T13:02:50.614Z"
   },
   {
    "duration": 21,
    "start_time": "2022-06-29T13:02:50.638Z"
   },
   {
    "duration": 212,
    "start_time": "2022-06-29T13:02:50.661Z"
   },
   {
    "duration": 5,
    "start_time": "2022-06-29T13:02:50.875Z"
   },
   {
    "duration": 17,
    "start_time": "2022-06-29T13:02:50.882Z"
   },
   {
    "duration": 27,
    "start_time": "2022-06-29T13:02:50.900Z"
   },
   {
    "duration": 14,
    "start_time": "2022-06-29T13:02:50.929Z"
   },
   {
    "duration": 14,
    "start_time": "2022-06-29T13:02:50.951Z"
   },
   {
    "duration": 53,
    "start_time": "2022-06-29T13:02:50.966Z"
   },
   {
    "duration": 22,
    "start_time": "2022-06-29T13:02:51.021Z"
   },
   {
    "duration": 13,
    "start_time": "2022-06-29T13:02:51.044Z"
   },
   {
    "duration": 26,
    "start_time": "2022-06-29T13:02:51.059Z"
   },
   {
    "duration": 13,
    "start_time": "2022-06-29T13:02:51.087Z"
   },
   {
    "duration": 8,
    "start_time": "2022-06-29T13:02:51.102Z"
   },
   {
    "duration": 36,
    "start_time": "2022-06-29T13:02:51.112Z"
   },
   {
    "duration": 23,
    "start_time": "2022-06-29T13:02:51.151Z"
   },
   {
    "duration": 170,
    "start_time": "2022-06-29T13:02:51.176Z"
   },
   {
    "duration": 7,
    "start_time": "2022-06-29T13:02:51.347Z"
   },
   {
    "duration": 18,
    "start_time": "2022-06-29T13:02:51.355Z"
   },
   {
    "duration": 19,
    "start_time": "2022-06-29T13:02:51.375Z"
   },
   {
    "duration": 11,
    "start_time": "2022-06-29T13:02:51.396Z"
   },
   {
    "duration": 15,
    "start_time": "2022-06-29T13:02:51.409Z"
   },
   {
    "duration": 15,
    "start_time": "2022-06-29T13:02:51.426Z"
   },
   {
    "duration": 13,
    "start_time": "2022-06-29T13:02:51.443Z"
   },
   {
    "duration": 20,
    "start_time": "2022-06-29T13:02:51.458Z"
   },
   {
    "duration": 17,
    "start_time": "2022-06-29T13:02:51.480Z"
   },
   {
    "duration": 25,
    "start_time": "2022-06-29T13:02:51.501Z"
   },
   {
    "duration": 179,
    "start_time": "2022-06-29T13:02:51.528Z"
   },
   {
    "duration": 24,
    "start_time": "2022-06-29T13:02:51.709Z"
   },
   {
    "duration": 16,
    "start_time": "2022-06-29T13:02:51.734Z"
   },
   {
    "duration": 11,
    "start_time": "2022-06-29T13:02:51.752Z"
   },
   {
    "duration": 10,
    "start_time": "2022-06-29T13:02:51.765Z"
   },
   {
    "duration": 20,
    "start_time": "2022-06-29T13:02:51.776Z"
   },
   {
    "duration": 15,
    "start_time": "2022-06-29T13:02:51.798Z"
   },
   {
    "duration": 14,
    "start_time": "2022-06-29T13:02:51.815Z"
   },
   {
    "duration": 16,
    "start_time": "2022-06-29T13:02:51.830Z"
   },
   {
    "duration": 13,
    "start_time": "2022-06-29T13:02:51.848Z"
   },
   {
    "duration": 51,
    "start_time": "2022-06-29T13:02:51.863Z"
   },
   {
    "duration": 19,
    "start_time": "2022-06-29T13:02:51.916Z"
   },
   {
    "duration": 29,
    "start_time": "2022-06-29T13:02:51.937Z"
   },
   {
    "duration": 18,
    "start_time": "2022-06-29T13:02:51.967Z"
   },
   {
    "duration": 39,
    "start_time": "2022-06-29T13:02:51.988Z"
   },
   {
    "duration": 9,
    "start_time": "2022-06-29T13:02:52.029Z"
   },
   {
    "duration": 18,
    "start_time": "2022-06-29T13:02:52.039Z"
   },
   {
    "duration": 12,
    "start_time": "2022-06-29T13:02:52.058Z"
   },
   {
    "duration": 23,
    "start_time": "2022-06-29T13:02:52.072Z"
   },
   {
    "duration": 9,
    "start_time": "2022-06-29T13:02:52.097Z"
   },
   {
    "duration": 15,
    "start_time": "2022-06-29T13:02:52.108Z"
   },
   {
    "duration": 22,
    "start_time": "2022-06-29T13:02:52.125Z"
   },
   {
    "duration": 15,
    "start_time": "2022-06-29T13:02:52.149Z"
   },
   {
    "duration": 15,
    "start_time": "2022-06-29T13:02:52.166Z"
   },
   {
    "duration": 16,
    "start_time": "2022-06-29T13:04:55.722Z"
   },
   {
    "duration": 96,
    "start_time": "2022-06-29T13:06:39.424Z"
   },
   {
    "duration": 13,
    "start_time": "2022-06-29T13:16:32.092Z"
   },
   {
    "duration": 231,
    "start_time": "2022-06-29T13:16:58.972Z"
   }
  ],
  "kernelspec": {
   "display_name": "Python 3 (ipykernel)",
   "language": "python",
   "name": "python3"
  },
  "language_info": {
   "codemirror_mode": {
    "name": "ipython",
    "version": 3
   },
   "file_extension": ".py",
   "mimetype": "text/x-python",
   "name": "python",
   "nbconvert_exporter": "python",
   "pygments_lexer": "ipython3",
   "version": "3.9.5"
  },
  "toc": {
   "base_numbering": 1,
   "nav_menu": {},
   "number_sections": true,
   "sideBar": true,
   "skip_h1_title": true,
   "title_cell": "Table of Contents",
   "title_sidebar": "Contents",
   "toc_cell": false,
   "toc_position": {
    "height": "calc(100% - 180px)",
    "left": "10px",
    "top": "150px",
    "width": "165px"
   },
   "toc_section_display": true,
   "toc_window_display": true
  }
 },
 "nbformat": 4,
 "nbformat_minor": 2
}
